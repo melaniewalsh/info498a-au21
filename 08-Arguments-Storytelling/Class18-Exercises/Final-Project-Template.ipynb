{
 "cells": [
  {
   "cell_type": "markdown",
   "id": "a941ccfc-48da-4983-9987-de6767fcac8f",
   "metadata": {},
   "source": [
    "# Final Project Template"
   ]
  },
  {
   "cell_type": "markdown",
   "id": "23d400bd-8a77-4515-a0e6-4af88a9c6b4f",
   "metadata": {},
   "source": [
    "- You must prepare/clean/examine your data in some way\n",
    "- You must apply at least one method to the data\n",
    "- You must zoom in on a specific example\n",
    "- You must provide documentation of your code through Markdown text and in-code comments"
   ]
  },
  {
   "cell_type": "markdown",
   "id": "463c1894-73b8-419c-97ce-fea72a15940a",
   "metadata": {},
   "source": [
    "|Criteria | Points|\n",
    "|----------|--------|\n",
    "| Data is prepared/cleaned/examined thoroughly. Student(s) identifies general patterns, potential outliers, or problems with the data. | 10 points |\n",
    "| At least one of the methods learned in class — data analysis with Pandas, word frequencies, tf-idf, topic modeling, NER, network analysis, or mapping — is applied appropriately. Student(s) demonstrate command of method.  | 10 points |\n",
    "| Student uses the method(s) to zoom in on specific examples that help shed light on larger patterns. | 5 points |\n",
    "| The code is well-written, readable, and organized. Student uses Python correctly and approriately.  | 5 points |\n",
    "| Student includes Markdown text and in-code comments to describe sections of the code. | 5 points |\n",
    "| **Total** | **35 points** |"
   ]
  },
  {
   "cell_type": "markdown",
   "id": "c1a48157-ea7d-472d-9b8a-7fec4a2ef8a5",
   "metadata": {},
   "source": [
    "# Data Cleaning/Preparation/Examination"
   ]
  },
  {
   "cell_type": "markdown",
   "id": "605fdf38-ddf0-4c8e-8171-02b8bdc72a13",
   "metadata": {},
   "source": [
    "Here we use Pandas to read in the film dialogue data. "
   ]
  },
  {
   "cell_type": "code",
   "execution_count": 3,
   "id": "3924ad59-921e-4f16-9bc4-b244cac19ab8",
   "metadata": {},
   "outputs": [],
   "source": [
    "import pandas as pd"
   ]
  },
  {
   "cell_type": "code",
   "execution_count": 4,
   "id": "40da764b-d36f-4b47-bb5b-64a7d6129bbd",
   "metadata": {},
   "outputs": [],
   "source": [
    "film_df = pd.read_csv('../../data/Pudding/Pudding-Film-Dialogue-Clean.csv')"
   ]
  },
  {
   "cell_type": "markdown",
   "id": "d3578a54-8e33-4280-a5b7-6b766c813d9a",
   "metadata": {},
   "source": [
    "We calculate summary statistics for the dataset to understand larger trends in the data and to identify outliers or errors."
   ]
  },
  {
   "cell_type": "code",
   "execution_count": 5,
   "id": "a08ea824-420f-41de-ae53-41b09505518f",
   "metadata": {},
   "outputs": [
    {
     "data": {
      "text/html": [
       "<div>\n",
       "<style scoped>\n",
       "    .dataframe tbody tr th:only-of-type {\n",
       "        vertical-align: middle;\n",
       "    }\n",
       "\n",
       "    .dataframe tbody tr th {\n",
       "        vertical-align: top;\n",
       "    }\n",
       "\n",
       "    .dataframe thead th {\n",
       "        text-align: right;\n",
       "    }\n",
       "</style>\n",
       "<table border=\"1\" class=\"dataframe\">\n",
       "  <thead>\n",
       "    <tr style=\"text-align: right;\">\n",
       "      <th></th>\n",
       "      <th>title</th>\n",
       "      <th>release_year</th>\n",
       "      <th>character</th>\n",
       "      <th>gender</th>\n",
       "      <th>words</th>\n",
       "      <th>proportion_of_dialogue</th>\n",
       "      <th>age</th>\n",
       "      <th>gross</th>\n",
       "      <th>script_id</th>\n",
       "    </tr>\n",
       "  </thead>\n",
       "  <tbody>\n",
       "    <tr>\n",
       "      <th>count</th>\n",
       "      <td>23047</td>\n",
       "      <td>23047.000000</td>\n",
       "      <td>23047</td>\n",
       "      <td>23047</td>\n",
       "      <td>23047.000000</td>\n",
       "      <td>23047.000000</td>\n",
       "      <td>18262.000000</td>\n",
       "      <td>19386.000000</td>\n",
       "      <td>23047.000000</td>\n",
       "    </tr>\n",
       "    <tr>\n",
       "      <th>unique</th>\n",
       "      <td>1994</td>\n",
       "      <td>NaN</td>\n",
       "      <td>17543</td>\n",
       "      <td>3</td>\n",
       "      <td>NaN</td>\n",
       "      <td>NaN</td>\n",
       "      <td>NaN</td>\n",
       "      <td>NaN</td>\n",
       "      <td>NaN</td>\n",
       "    </tr>\n",
       "    <tr>\n",
       "      <th>top</th>\n",
       "      <td>Lone Star</td>\n",
       "      <td>NaN</td>\n",
       "      <td>Doctor</td>\n",
       "      <td>man</td>\n",
       "      <td>NaN</td>\n",
       "      <td>NaN</td>\n",
       "      <td>NaN</td>\n",
       "      <td>NaN</td>\n",
       "      <td>NaN</td>\n",
       "    </tr>\n",
       "    <tr>\n",
       "      <th>freq</th>\n",
       "      <td>40</td>\n",
       "      <td>NaN</td>\n",
       "      <td>37</td>\n",
       "      <td>16131</td>\n",
       "      <td>NaN</td>\n",
       "      <td>NaN</td>\n",
       "      <td>NaN</td>\n",
       "      <td>NaN</td>\n",
       "      <td>NaN</td>\n",
       "    </tr>\n",
       "    <tr>\n",
       "      <th>mean</th>\n",
       "      <td>NaN</td>\n",
       "      <td>1998.132425</td>\n",
       "      <td>NaN</td>\n",
       "      <td>NaN</td>\n",
       "      <td>907.902634</td>\n",
       "      <td>0.086518</td>\n",
       "      <td>42.275052</td>\n",
       "      <td>106.735428</td>\n",
       "      <td>4194.804486</td>\n",
       "    </tr>\n",
       "    <tr>\n",
       "      <th>std</th>\n",
       "      <td>NaN</td>\n",
       "      <td>14.746052</td>\n",
       "      <td>NaN</td>\n",
       "      <td>NaN</td>\n",
       "      <td>1399.616135</td>\n",
       "      <td>0.107746</td>\n",
       "      <td>57.912595</td>\n",
       "      <td>145.861933</td>\n",
       "      <td>2473.037601</td>\n",
       "    </tr>\n",
       "    <tr>\n",
       "      <th>min</th>\n",
       "      <td>NaN</td>\n",
       "      <td>1929.000000</td>\n",
       "      <td>NaN</td>\n",
       "      <td>NaN</td>\n",
       "      <td>101.000000</td>\n",
       "      <td>0.001537</td>\n",
       "      <td>3.000000</td>\n",
       "      <td>0.000000</td>\n",
       "      <td>280.000000</td>\n",
       "    </tr>\n",
       "    <tr>\n",
       "      <th>25%</th>\n",
       "      <td>NaN</td>\n",
       "      <td>1992.000000</td>\n",
       "      <td>NaN</td>\n",
       "      <td>NaN</td>\n",
       "      <td>193.000000</td>\n",
       "      <td>0.019773</td>\n",
       "      <td>30.000000</td>\n",
       "      <td>22.000000</td>\n",
       "      <td>2095.000000</td>\n",
       "    </tr>\n",
       "    <tr>\n",
       "      <th>50%</th>\n",
       "      <td>NaN</td>\n",
       "      <td>2001.000000</td>\n",
       "      <td>NaN</td>\n",
       "      <td>NaN</td>\n",
       "      <td>396.000000</td>\n",
       "      <td>0.042423</td>\n",
       "      <td>39.000000</td>\n",
       "      <td>56.000000</td>\n",
       "      <td>3694.000000</td>\n",
       "    </tr>\n",
       "    <tr>\n",
       "      <th>75%</th>\n",
       "      <td>NaN</td>\n",
       "      <td>2009.000000</td>\n",
       "      <td>NaN</td>\n",
       "      <td>NaN</td>\n",
       "      <td>980.000000</td>\n",
       "      <td>0.104171</td>\n",
       "      <td>50.000000</td>\n",
       "      <td>136.000000</td>\n",
       "      <td>6224.500000</td>\n",
       "    </tr>\n",
       "    <tr>\n",
       "      <th>max</th>\n",
       "      <td>NaN</td>\n",
       "      <td>2015.000000</td>\n",
       "      <td>NaN</td>\n",
       "      <td>NaN</td>\n",
       "      <td>28102.000000</td>\n",
       "      <td>0.923422</td>\n",
       "      <td>2009.000000</td>\n",
       "      <td>1798.000000</td>\n",
       "      <td>9254.000000</td>\n",
       "    </tr>\n",
       "  </tbody>\n",
       "</table>\n",
       "</div>"
      ],
      "text/plain": [
       "            title  release_year character gender         words  \\\n",
       "count       23047  23047.000000     23047  23047  23047.000000   \n",
       "unique       1994           NaN     17543      3           NaN   \n",
       "top     Lone Star           NaN    Doctor    man           NaN   \n",
       "freq           40           NaN        37  16131           NaN   \n",
       "mean          NaN   1998.132425       NaN    NaN    907.902634   \n",
       "std           NaN     14.746052       NaN    NaN   1399.616135   \n",
       "min           NaN   1929.000000       NaN    NaN    101.000000   \n",
       "25%           NaN   1992.000000       NaN    NaN    193.000000   \n",
       "50%           NaN   2001.000000       NaN    NaN    396.000000   \n",
       "75%           NaN   2009.000000       NaN    NaN    980.000000   \n",
       "max           NaN   2015.000000       NaN    NaN  28102.000000   \n",
       "\n",
       "        proportion_of_dialogue           age         gross     script_id  \n",
       "count             23047.000000  18262.000000  19386.000000  23047.000000  \n",
       "unique                     NaN           NaN           NaN           NaN  \n",
       "top                        NaN           NaN           NaN           NaN  \n",
       "freq                       NaN           NaN           NaN           NaN  \n",
       "mean                  0.086518     42.275052    106.735428   4194.804486  \n",
       "std                   0.107746     57.912595    145.861933   2473.037601  \n",
       "min                   0.001537      3.000000      0.000000    280.000000  \n",
       "25%                   0.019773     30.000000     22.000000   2095.000000  \n",
       "50%                   0.042423     39.000000     56.000000   3694.000000  \n",
       "75%                   0.104171     50.000000    136.000000   6224.500000  \n",
       "max                   0.923422   2009.000000   1798.000000   9254.000000  "
      ]
     },
     "execution_count": 5,
     "metadata": {},
     "output_type": "execute_result"
    }
   ],
   "source": [
    "film_df.describe(include='all')"
   ]
  },
  {
   "cell_type": "markdown",
   "id": "3037d678-5d70-47fc-8767-ed0abcc333ea",
   "metadata": {},
   "source": [
    "We noticed X, Y, Z errors and decide to clean the data in X way..."
   ]
  },
  {
   "cell_type": "markdown",
   "id": "a808fb5f-9928-4800-9d74-6251b7c749e4",
   "metadata": {},
   "source": [
    "# Analysis"
   ]
  },
  {
   "cell_type": "markdown",
   "id": "44d8f1d6-10d8-499d-b417-13b352296d80",
   "metadata": {},
   "source": [
    "# Zoom-in"
   ]
  },
  {
   "cell_type": "markdown",
   "id": "5155c156-4c08-402c-a786-f25ce78a3272",
   "metadata": {},
   "source": [
    "Here we zoom in and examine specific characters or movies that are interesting to study and relevant to our written analysis..."
   ]
  }
 ],
 "metadata": {
  "kernelspec": {
   "display_name": "Python 3",
   "language": "python",
   "name": "python3"
  },
  "language_info": {
   "codemirror_mode": {
    "name": "ipython",
    "version": 3
   },
   "file_extension": ".py",
   "mimetype": "text/x-python",
   "name": "python",
   "nbconvert_exporter": "python",
   "pygments_lexer": "ipython3",
   "version": "3.8.8"
  }
 },
 "nbformat": 4,
 "nbformat_minor": 5
}
