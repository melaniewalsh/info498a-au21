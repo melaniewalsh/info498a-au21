{
 "cells": [
  {
   "cell_type": "markdown",
   "id": "cf80cd6e-1424-4e15-b1a4-506a4e66189b",
   "metadata": {},
   "source": [
    "# Class 6 Exercises — Python Lists & List Comprehensions"
   ]
  },
  {
   "cell_type": "markdown",
   "id": "53a2e55c-cd4a-4bc5-a255-da62a67704f9",
   "metadata": {},
   "source": [
    "These exercises will help you practice the skills and concepts that you learned in today's class.\n",
    "\n",
    "To get participation credit for today's class, make sure that you work on these exercises and then submit a screenshot or PDF of your work to the appropriate assignment page in Canvas."
   ]
  },
  {
   "cell_type": "markdown",
   "id": "92b38c30-3180-4398-a04a-696595191ae5",
   "metadata": {},
   "source": [
    "## Demonstration of In / Not In"
   ]
  },
  {
   "cell_type": "markdown",
   "id": "58f87193-cbca-45dd-907c-6ddfa7fd48a1",
   "metadata": {},
   "source": [
    "We can test whether an item is in a list or not in a list with the keywords `in` and `not in`"
   ]
  },
  {
   "cell_type": "code",
   "execution_count": 52,
   "id": "8e12a2ea-a63b-408f-815e-d9882c34f818",
   "metadata": {},
   "outputs": [],
   "source": [
    "fruits = ['apple', 'kumquat', 'KIWI', 'banana',\n",
    "          'kiwi', 'APPLE', 'apple', 'Orange',\n",
    "          'apple', 'pineapple']"
   ]
  },
  {
   "cell_type": "code",
   "execution_count": null,
   "id": "9d4ca57e-9bb4-4795-b37c-3bf5a006c468",
   "metadata": {},
   "outputs": [],
   "source": [
    "if \"kiwi\" in fruits:\n",
    "    print(\"There is a kiwi in this list!\")"
   ]
  },
  {
   "cell_type": "code",
   "execution_count": null,
   "id": "a84e234d-0ffc-4689-81e3-8d7528543a61",
   "metadata": {},
   "outputs": [],
   "source": [
    "if \"blueberry\" not in fruits:\n",
    "    print(\"There is no blueberry in this list!\")"
   ]
  },
  {
   "cell_type": "markdown",
   "id": "4321dbb5-3872-4515-9b86-2da554bcb661",
   "metadata": {},
   "source": [
    "## Exercise 1"
   ]
  },
  {
   "cell_type": "markdown",
   "id": "d8438a63-12f1-4550-bb2a-de9ddd4b4e9a",
   "metadata": {},
   "source": [
    "We want to make a new list of Disney movies but only if the movies were also contemporary (post-2000s) blockbusters (made a lot of money) called `contemp_disney_blockbusters`."
   ]
  },
  {
   "cell_type": "code",
   "execution_count": 23,
   "id": "a70c49d5-65d2-47e2-b477-a1b069ce2b7e",
   "metadata": {},
   "outputs": [],
   "source": [
    "disney_movies = ['Mulan', 'Toy Story', 'Aladdin', 'Monsters Inc.', 'The Lion King', 'Jungle Book', 'Finding Nemo', 'Inside Out', 'Frozen']"
   ]
  },
  {
   "cell_type": "code",
   "execution_count": 24,
   "id": "930c24ba-dbe7-4fec-9b4e-4f133c1b4461",
   "metadata": {},
   "outputs": [],
   "source": [
    "contemp_blockbusters = ['Finding Nemo', 'Shrek', 'Monsters Inc.', 'Mission Impossible', 'Harry Potter', 'Wonder Woman', 'Frozen']"
   ]
  },
  {
   "cell_type": "code",
   "execution_count": 35,
   "id": "879c847f-47a5-4d2d-847a-3fa1d562ef26",
   "metadata": {},
   "outputs": [],
   "source": [
    "#Your code here\n",
    "\n",
    "\n",
    "\n"
   ]
  },
  {
   "cell_type": "code",
   "execution_count": null,
   "id": "a8b29578-3d7e-4344-8658-3704abce2bbc",
   "metadata": {},
   "outputs": [],
   "source": [
    "contemp_disney_blockbusters"
   ]
  },
  {
   "cell_type": "markdown",
   "id": "89155891-06b4-44e6-bd94-b50eae36b8ec",
   "metadata": {},
   "source": [
    "Let's examine this code with [Python Tutor!](https://pythontutor.com/visualize.html#code=disney_movies%20%3D%20%5B'Mulan',%20'Toy%20Story',%20'Aladdin',%20'Monsters%20Inc.',%20'The%20Lion%20King',%20'Jungle%20Book',%20'Finding%20Nemo',%20'Inside%20Out',%20'Frozen'%5D%0Acontemp_blockbusters%20%3D%20%5B'Finding%20Nemo',%20'Shrek',%20'Monsters%20Inc.',%20'Mission%20Impossible',%20'Harry%20Potter',%20'Wonder%20Woman',%20'Frozen'%5D%0A%0Acontemp_disney_blockbusters%20%3D%20%5B%5D%0Afor%20movie%20in%20disney_movies%3A%0A%20%20%20%20if%20movie%20in%20contemp_blockbusters%3A%0A%20%20%20%20%20%20%20%20contemp_disney_blockbusters.append%28movie%29&cumulative=false&curInstr=0&heapPrimitives=nevernest&mode=display&origin=opt-frontend.js&py=3&rawInputLstJSON=%5B%5D&textReferences=false)"
   ]
  },
  {
   "cell_type": "markdown",
   "id": "615ae7ee-9bb4-489e-9376-525bd0549a07",
   "metadata": {},
   "source": [
    "## Exercise 2"
   ]
  },
  {
   "cell_type": "markdown",
   "id": "d110e95d-99a3-466f-843e-ac37cfa7ba2a",
   "metadata": {},
   "source": [
    "We want to make a new list of contemporary blockbuster movies that are NOT Disney movies called `contemp_nondisney_blockbusters`."
   ]
  },
  {
   "cell_type": "code",
   "execution_count": 37,
   "id": "7ce4d342-c70f-4ec9-80ae-a12e15e72d31",
   "metadata": {},
   "outputs": [],
   "source": [
    "disney_movies = ['Mulan', 'Toy Story', 'Aladdin', 'Monsters Inc.', 'The Lion King', 'Jungle Book', 'Finding Nemo', 'Inside Out', 'Frozen']"
   ]
  },
  {
   "cell_type": "code",
   "execution_count": 38,
   "id": "705f3b5f-b6ee-464e-a132-addc91ad2bc6",
   "metadata": {},
   "outputs": [],
   "source": [
    "contemp_blockbusters = ['Finding Nemo', 'Shrek', 'Monsters Inc.', 'Mission Impossible', 'Harry Potter', 'Wonder Woman', 'Frozen']"
   ]
  },
  {
   "cell_type": "code",
   "execution_count": 43,
   "id": "3a8ba129-d149-420d-9ae8-208054990fac",
   "metadata": {},
   "outputs": [],
   "source": [
    "#Your code here\n",
    "\n",
    "\n",
    "\n"
   ]
  },
  {
   "cell_type": "code",
   "execution_count": null,
   "id": "0647ce14-f397-4063-827a-2a31ce367b72",
   "metadata": {},
   "outputs": [],
   "source": [
    "contemp_nondisney_blockbusters"
   ]
  },
  {
   "cell_type": "markdown",
   "id": "fe74c389-8fb1-457a-8db5-1d9a567008f1",
   "metadata": {},
   "source": [
    "## List Comprehensions!"
   ]
  },
  {
   "cell_type": "markdown",
   "id": "7fdc625d-29b1-4f3e-b1aa-091a788050c9",
   "metadata": {},
   "source": [
    "There is actually a simpler way to make new lists called *list comprehensions*. Both ways of creating lists are perfectly fine, but list comprehensions are helpful to know about because they can be fast and efficient."
   ]
  },
  {
   "cell_type": "markdown",
   "id": "0899d8a5-1643-4136-af41-36dcd05c0902",
   "metadata": {},
   "source": [
    "[![](https://miro.medium.com/max/1400/1*T7fcl8wIqlSrO9z6WcHE1g.png)](https://towardsdatascience.com/all-about-python-list-comprehension-14dd979ec0d1)"
   ]
  },
  {
   "cell_type": "code",
   "execution_count": 66,
   "id": "ea8c4d69-3967-4f6f-a527-3a788a2309fe",
   "metadata": {},
   "outputs": [],
   "source": [
    "fruits = ['apple', 'kumquat', 'KIWI', 'banana',\n",
    "          'kiwi', 'APPLE', 'apple', 'Orange',\n",
    "          'apple', 'pineapple']"
   ]
  },
  {
   "cell_type": "code",
   "execution_count": 67,
   "id": "8d7092f5-d1f8-4d6d-8be0-bd2543c0026b",
   "metadata": {},
   "outputs": [],
   "source": [
    "uppercase_fruits = [single_fruit for single_fruit in fruits if single_fruit.isupper()]"
   ]
  },
  {
   "cell_type": "code",
   "execution_count": null,
   "id": "95c70d98-2c8c-4e47-94d2-a8c3fc1b722e",
   "metadata": {},
   "outputs": [],
   "source": [
    "print(uppercase_fruits)"
   ]
  },
  {
   "cell_type": "markdown",
   "id": "88b98f04-1fff-4bdf-9534-699c29bf13d2",
   "metadata": {},
   "source": [
    "## Exercise 3"
   ]
  },
  {
   "cell_type": "code",
   "execution_count": 23,
   "id": "d2d0e76c-24c7-4cd1-98fc-77e598f54981",
   "metadata": {},
   "outputs": [],
   "source": [
    "disney_movies = ['Mulan', 'Toy Story', 'Aladdin', 'Monsters Inc.', 'The Lion King', 'Jungle Book', 'Finding Nemo', 'Inside Out', 'Frozen']"
   ]
  },
  {
   "cell_type": "code",
   "execution_count": 24,
   "id": "8ff5865a-1226-4110-865c-e9d0967da8a3",
   "metadata": {},
   "outputs": [],
   "source": [
    "contemp_blockbusters = ['Finding Nemo', 'Shrek', 'Monsters Inc.', 'Mission Impossible', 'Harry Potter', 'Wonder Woman', 'Frozen']"
   ]
  },
  {
   "cell_type": "markdown",
   "id": "04bb8786-82c7-42c4-b9b3-b40e0fcc0f1a",
   "metadata": {},
   "source": [
    "We want to make a new list of Disney movies but only if the movies were also contemporary (post-2000s) blockbusters (made a lot of money)."
   ]
  },
  {
   "cell_type": "code",
   "execution_count": 48,
   "id": "01a37d6d-c47f-443d-bdff-41f6a4a67609",
   "metadata": {},
   "outputs": [],
   "source": [
    "contemp_disney_blockbusters = [# output # iterable # condition]"
   ]
  },
  {
   "cell_type": "code",
   "execution_count": 49,
   "id": "8dcc2034-61bc-4fae-bc60-556d15deffbb",
   "metadata": {},
   "outputs": [
    {
     "data": {
      "text/plain": [
       "['Monsters Inc.', 'Finding Nemo', 'Frozen']"
      ]
     },
     "execution_count": 49,
     "metadata": {},
     "output_type": "execute_result"
    }
   ],
   "source": [
    "contemp_disney_blockbusters"
   ]
  },
  {
   "cell_type": "markdown",
   "id": "fc445919-958b-43e0-8200-c31a120772a0",
   "metadata": {},
   "source": [
    "## Exercise 4"
   ]
  },
  {
   "cell_type": "markdown",
   "id": "2a7e6445-f8c1-40ac-bd1e-dc5b75db2d7e",
   "metadata": {},
   "source": [
    "We want to make a new list of contemporary blockbuster movies that are NOT Disney movies."
   ]
  },
  {
   "cell_type": "code",
   "execution_count": 50,
   "id": "b3579e42-6498-4abd-b66a-28bc61222f5b",
   "metadata": {},
   "outputs": [],
   "source": [
    "contemp_nondisney_blockbusters = [# output # iterable # condition]"
   ]
  },
  {
   "cell_type": "code",
   "execution_count": 51,
   "id": "ad0da4b2-c97d-4e5e-9b55-39071129aa21",
   "metadata": {},
   "outputs": [
    {
     "data": {
      "text/plain": [
       "['Mulan', 'Toy Story', 'Aladdin', 'The Lion King', 'Jungle Book', 'Inside Out']"
      ]
     },
     "execution_count": 51,
     "metadata": {},
     "output_type": "execute_result"
    }
   ],
   "source": [
    "contemp_nondisney_blockbusters"
   ]
  }
 ],
 "metadata": {
  "kernelspec": {
   "display_name": "Python 3",
   "language": "python",
   "name": "python3"
  },
  "language_info": {
   "codemirror_mode": {
    "name": "ipython",
    "version": 3
   },
   "file_extension": ".py",
   "mimetype": "text/x-python",
   "name": "python",
   "nbconvert_exporter": "python",
   "pygments_lexer": "ipython3",
   "version": "3.8.8"
  }
 },
 "nbformat": 4,
 "nbformat_minor": 5
}
