{
 "cells": [
  {
   "cell_type": "markdown",
   "id": "e684edf5-5404-4417-aa2d-6490d8678625",
   "metadata": {},
   "source": [
    "# String Manipulation\n",
    "\n",
    "## What's the breakdown of Intro CA's favorite albums by decade?"
   ]
  },
  {
   "cell_type": "markdown",
   "id": "4807562f-5d03-4ac8-b7a8-a2335256f632",
   "metadata": {},
   "source": [
    "*Imaginary bar chart: our class's favorite albums by release year*"
   ]
  },
  {
   "cell_type": "markdown",
   "id": "2f9ced9b-2008-41b8-bb2c-855ee328f7cc",
   "metadata": {},
   "source": [
    "![](../../images/music-chart.png)"
   ]
  },
  {
   "cell_type": "markdown",
   "id": "0d006cd1-52c2-4cce-ab42-9cd84dbd147c",
   "metadata": {},
   "source": [
    "All this string stuff can seem a little abstract, so let's think about a concrete example.\n",
    "\n",
    "Later in this class we're going to learn how to extract data from web pages. Imagine that we were able to extract the release dates for all your favorite albums from Genius.com (e.g., \"Released June 25, 1984\"), and we wanted to analyze the historical breakdown of everyone's favorite album in this class. Before we'd get to any of the fun analysis, we would need to isolate the year for every release date."
   ]
  },
  {
   "cell_type": "markdown",
   "id": "3f30194c-3eed-4e5e-9e21-63b3de1ac0db",
   "metadata": {},
   "source": [
    "![](../../images/Purple-Rain-Prince.png)"
   ]
  },
  {
   "cell_type": "markdown",
   "id": "e6cd3fb9-f6c2-425a-9ba6-81c6270ff35a",
   "metadata": {},
   "source": [
    "![](../../images/Blackout-Britney-Spears.png)"
   ]
  },
  {
   "cell_type": "markdown",
   "id": "bc4bdc18-9c58-40a5-8a00-3aa32c4c1b52",
   "metadata": {},
   "source": [
    "![](../../images/Flower-Boy-Tyler-the-Creator.png)"
   ]
  },
  {
   "cell_type": "markdown",
   "id": "c9dfbea1-6f2d-4f5d-a318-6b6f39b1632b",
   "metadata": {},
   "source": [
    "Run these cells to make the following variables:"
   ]
  },
  {
   "cell_type": "code",
   "execution_count": null,
   "id": "7c9ec1a1-bab8-4577-b246-8a388d64d7f3",
   "metadata": {},
   "outputs": [],
   "source": [
    "purple_rain = \"June 25, 1984\""
   ]
  },
  {
   "cell_type": "code",
   "execution_count": null,
   "id": "fc3113d9-9037-48f6-aef6-939b84380ad5",
   "metadata": {},
   "outputs": [],
   "source": [
    "blackout = \"October 25, 2007 \""
   ]
  },
  {
   "cell_type": "code",
   "execution_count": 1,
   "id": "52ae160d-50fe-46b5-8932-86138be9b3b5",
   "metadata": {},
   "outputs": [],
   "source": [
    "flower_boy = \"Monday July 21, 2017\""
   ]
  },
  {
   "cell_type": "markdown",
   "id": "2c41a0b7-bdf9-4ba9-b443-1d4827e2a0df",
   "metadata": {},
   "source": [
    "How would we extract just the year from `purple_rain`? Try doing it with the string methods we explored above."
   ]
  },
  {
   "cell_type": "code",
   "execution_count": null,
   "id": "9b849cb4-9194-4a1f-a4ce-5c0c978d5203",
   "metadata": {},
   "outputs": [],
   "source": [
    "purple_rain"
   ]
  },
  {
   "cell_type": "markdown",
   "id": "4d45451e-2662-477b-89d1-72ef38ae64fd",
   "metadata": {},
   "source": [
    "How would we extract just the year from `blackout`? Try doing it with the string methods we explored above."
   ]
  },
  {
   "cell_type": "code",
   "execution_count": null,
   "id": "72e70db5-e07d-4430-8957-1b90dfaae1b6",
   "metadata": {},
   "outputs": [],
   "source": [
    "blackout"
   ]
  },
  {
   "cell_type": "markdown",
   "id": "6b239015-b6f5-486d-83b7-13c4a7239385",
   "metadata": {},
   "source": [
    "What if we wanted to extract just the year from the variable `purple_rain`, `blackout`, and `flower_boy` but we wanted to use *the exact same code for all three examples*?\n",
    "\n",
    "When we're programming, we're often going to apply one piece of code to many diverse examples, and we're going to want a clean, consistent output. Try it out in the cells below."
   ]
  },
  {
   "cell_type": "code",
   "execution_count": null,
   "id": "87e866df-ac4e-495b-8597-e1a2ae8a9d26",
   "metadata": {},
   "outputs": [],
   "source": [
    "purple_rain"
   ]
  },
  {
   "cell_type": "code",
   "execution_count": null,
   "id": "004de062-7a8f-41f7-b629-8078bf0850dd",
   "metadata": {},
   "outputs": [],
   "source": [
    "blackout "
   ]
  },
  {
   "cell_type": "code",
   "execution_count": null,
   "id": "89c60faa-f2d8-4fc8-a8d8-64a8dc0275ac",
   "metadata": {},
   "outputs": [],
   "source": [
    "flower_boy"
   ]
  },
  {
   "cell_type": "markdown",
   "id": "a92b6a30-7960-4b83-af3c-93cbfccea927",
   "metadata": {},
   "source": [
    "What if we wanted to extract just the month and date from `blackout`?"
   ]
  },
  {
   "cell_type": "code",
   "execution_count": null,
   "id": "ebf73f4b-bf19-484d-a190-fa21ed8e1a46",
   "metadata": {},
   "outputs": [],
   "source": [
    "blackout"
   ]
  }
 ],
 "metadata": {
  "kernelspec": {
   "display_name": "Python 3",
   "language": "python",
   "name": "python3"
  },
  "language_info": {
   "codemirror_mode": {
    "name": "ipython",
    "version": 3
   },
   "file_extension": ".py",
   "mimetype": "text/x-python",
   "name": "python",
   "nbconvert_exporter": "python",
   "pygments_lexer": "ipython3",
   "version": "3.8.8"
  }
 },
 "nbformat": 4,
 "nbformat_minor": 5
}
