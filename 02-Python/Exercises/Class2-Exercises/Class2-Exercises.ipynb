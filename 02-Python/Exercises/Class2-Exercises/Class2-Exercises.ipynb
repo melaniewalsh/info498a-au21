{
 "cells": [
  {
   "cell_type": "markdown",
   "id": "dd0d302d-cb1a-48a5-8524-e3ed19036fc4",
   "metadata": {},
   "source": [
    "# Class 2 Exercises"
   ]
  },
  {
   "cell_type": "markdown",
   "id": "71e68432-e970-46f8-a402-3c4e0dd8b68b",
   "metadata": {},
   "source": [
    "These exercises will help you practice the skills and concepts that you learned in today's class.\n",
    "\n",
    "To get participation credit for today's class, make sure that you work on these exercises and then submit a screenshot or PDF of your work to the appropriate assignment page in Canvas."
   ]
  },
  {
   "cell_type": "markdown",
   "id": "6f44ee54-4248-45d6-bd93-e213c5e3c541",
   "metadata": {},
   "source": [
    "## ✨Group Work Madlibs✨"
   ]
  },
  {
   "cell_type": "markdown",
   "id": "5e555e07-0955-4e8e-bddd-a3262fd186b4",
   "metadata": {},
   "source": [
    "In the first exercise, you're going to ask your partner(s) a few biographical questions about themselves and then put their answers into the correct variables.\n",
    "\n",
    "I'll go first and show you an example:"
   ]
  },
  {
   "cell_type": "code",
   "execution_count": 1,
   "id": "d3fbb7bb-c391-4965-95c6-e07c76f2c970",
   "metadata": {},
   "outputs": [],
   "source": [
    "name = 'Prof. Walsh' \n",
    "age = 1000 \n",
    "place = 'Chicago' \n",
    "favorite_food = 'tacos' \n",
    "dog_years_age = age * 7.5 \n",
    "student_boolean = False "
   ]
  },
  {
   "cell_type": "code",
   "execution_count": 2,
   "id": "58be2d1c-1ff9-4584-b6b1-eaf41583dce5",
   "metadata": {
    "tags": [
     "hide-output"
    ]
   },
   "outputs": [
    {
     "name": "stdout",
     "output_type": "stream",
     "text": [
      "✨This is...Prof. Walsh!✨\n",
      "\n",
      "Prof. Walsh likes tacos and once lived in Chicago.\n",
      "Prof. Walsh is 1000 years old, which is 7500.0 in dog years.\n",
      "The statement 'Prof. Walsh is a student' is False.\n",
      "\n"
     ]
    }
   ],
   "source": [
    "print(f'✨This is...{name}!✨')\n",
    "\n",
    "print(f\"\"\"\n",
    "{name} likes {favorite_food} and once lived in {place}.\n",
    "{name} is {age} years old, which is {dog_years_age} in dog years.\n",
    "The statement '{name} is a student' is {student_boolean}.\n",
    "\"\"\")"
   ]
  },
  {
   "cell_type": "markdown",
   "id": "9968b219-baf5-4dea-8237-ca3a76a5093e",
   "metadata": {},
   "source": [
    "**1.** Now let's do the same thing but with biographical info about your partner! Ask your partner a few questions and then fill in the variables below accordingly."
   ]
  },
  {
   "cell_type": "code",
   "execution_count": null,
   "id": "2a91ad60-aa04-41b7-a969-a1de9802e9c2",
   "metadata": {},
   "outputs": [],
   "source": [
    "name = #Your code here\n",
    "age = #Your code here\n",
    "home_town = #Your code here\n",
    "favorite_food = #Your code here\n",
    "dog_years_age = #Your code here\n",
    "student_boolean = # Your code here"
   ]
  },
  {
   "cell_type": "markdown",
   "id": "c777a14b-daae-4c81-8db6-848bd7461da3",
   "metadata": {},
   "source": [
    "**2.** Now print the introduction below:"
   ]
  },
  {
   "cell_type": "code",
   "execution_count": null,
   "id": "bc03d659-d27a-4b10-945a-f9b46d957186",
   "metadata": {},
   "outputs": [],
   "source": [
    "print(f'✨This is...{name}!✨')\n",
    "\n",
    "print(f\"\"\"{name} likes {favorite_food} and once lived in {place}.\n",
    "{name} is {age} years old, which is {dog_years_age} in dog years.\n",
    "The statement \"{name} is a student\" is {student_boolean}.\"\"\")"
   ]
  },
  {
   "cell_type": "markdown",
   "id": "152bc46b-81a7-4b25-9820-74e1c0257710",
   "metadata": {},
   "source": [
    "## Changes Variables and Values in a Real Script"
   ]
  },
  {
   "cell_type": "markdown",
   "id": "e6368c29-72a2-431c-b984-34b62534f4a5",
   "metadata": {},
   "source": [
    "Let's explore how variables are used in a real Python script. The code below will calculate the most frequent words in a text file.\n",
    "\n",
    "**3.** Experiment with altering the code below below in three ways:\n",
    "- First, choose different stopwords to exclude or include (e.g., remove the word `i` or include `john`), and then see how your results change.\n",
    "- Second, choose a different text from our `texts` directory and calculate the most frequent words for that text.\n",
    "- Third, choose a different number of frequent words to to print out."
   ]
  },
  {
   "cell_type": "markdown",
   "id": "bc837360-1fb5-4065-998f-8616755ab420",
   "metadata": {},
   "source": [
    "To see a list of the other text filepaths that you can choose from, you can use the `ls` command like so:"
   ]
  },
  {
   "cell_type": "code",
   "execution_count": null,
   "id": "cbdd516a-a4f1-40ee-8c23-01810a703e0e",
   "metadata": {},
   "outputs": [],
   "source": [
    "!ls /home/jovyan/course_materials/texts/literature/"
   ]
  },
  {
   "cell_type": "code",
   "execution_count": null,
   "id": "5e70f08a-8311-4755-896a-d863523f1dd3",
   "metadata": {},
   "outputs": [],
   "source": [
    "!ls /home/jovyan/course_materials/texts/music"
   ]
  },
  {
   "cell_type": "code",
   "execution_count": null,
   "id": "ff6f432d-c261-4f0e-8bed-eb748efeb2af",
   "metadata": {},
   "outputs": [],
   "source": [
    "# Import Libraries and Modules\n",
    "\n",
    "import re\n",
    "from collections import Counter\n",
    "\n",
    "# Define Functions\n",
    "\n",
    "def split_into_words(any_chunk_of_text):\n",
    "    lowercase_text = any_chunk_of_text.lower()\n",
    "    split_words = re.split(\"\\W+\", lowercase_text)\n",
    "    return split_words\n",
    "\n",
    "# Define Filepaths and Assign Variables\n",
    "\n",
    "# Choose a different text to analyze!\n",
    "\n",
    "filepath_of_text = \"/home/jovyan/course_materials/texts/literature/The-Yellow-Wallpaper_Charlotte-Perkins-Gilman.txt\"\n",
    "\n",
    "# Choose a different number of words to return!\n",
    "\n",
    "number_of_desired_words = 10\n",
    "\n",
    "# Choose different stopwords to include or exclude!\n",
    "\n",
    "stopwords = ['i', 'me', 'my', 'myself', 'we', 'our', 'ours', 'ourselves', 'you', 'your', 'yours',\n",
    "'yourself', 'yourselves', 'he', 'him', 'his', 'himself', 'she', 'her', 'hers',\n",
    " 'herself', 'it', 'its', 'itself', 'they', 'them', 'their', 'theirs', 'themselves',\n",
    " 'what', 'which', 'who', 'whom', 'this', 'that', 'these', 'those', 'am', 'is', 'are',\n",
    " 'was', 'were', 'be', 'been', 'being', 'have', 'has', 'had', 'having', 'do', 'does',\n",
    " 'did', 'doing', 'a', 'an', 'the', 'and', 'but', 'if', 'or', 'because', 'as', 'until',\n",
    " 'while', 'of', 'at', 'by', 'for', 'with', 'about', 'against', 'between', 'into',\n",
    " 'through', 'during', 'before', 'after', 'above', 'below', 'to', 'from', 'up', 'down',\n",
    " 'in', 'out', 'on', 'off', 'over', 'under', 'again', 'further', 'then', 'once', 'here',\n",
    " 'there', 'when', 'where', 'why', 'how', 'all', 'any', 'both', 'each', 'few', 'more',\n",
    " 'most', 'other', 'some', 'such', 'no', 'nor', 'not', 'only', 'own', 'same', 'so',\n",
    " 'than', 'too', 'very', 's', 't', 'can', 'will', 'just', 'don', 'should', 'now', 've', 'll', 'amp']\n",
    "\n",
    "# Read in File\n",
    "\n",
    "full_text = open(filepath_of_text, encoding=\"utf-8\").read()\n",
    "\n",
    "# Manipulate and Analyze File\n",
    "\n",
    "all_the_words = split_into_words(full_text)\n",
    "meaningful_words = [word for word in all_the_words if word not in stopwords]\n",
    "meaningful_words_tally = Counter(meaningful_words)\n",
    "most_frequent_meaningful_words = meaningful_words_tally.most_common(number_of_desired_words)\n",
    "\n",
    "# Output Results\n",
    "\n",
    "most_frequent_meaningful_words"
   ]
  }
 ],
 "metadata": {
  "kernelspec": {
   "display_name": "Python 3",
   "language": "python",
   "name": "python3"
  },
  "language_info": {
   "codemirror_mode": {
    "name": "ipython",
    "version": 3
   },
   "file_extension": ".py",
   "mimetype": "text/x-python",
   "name": "python",
   "nbconvert_exporter": "python",
   "pygments_lexer": "ipython3",
   "version": "3.8.8"
  }
 },
 "nbformat": 4,
 "nbformat_minor": 5
}
