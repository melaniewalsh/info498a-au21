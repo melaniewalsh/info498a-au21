{
 "cells": [
  {
   "cell_type": "markdown",
   "id": "cf80cd6e-1424-4e15-b1a4-506a4e66189b",
   "metadata": {},
   "source": [
    "# Class 3 Exercises"
   ]
  },
  {
   "cell_type": "markdown",
   "id": "46b0712e-8325-4e86-8d9f-60c79a625832",
   "metadata": {},
   "source": [
    "These exercises will help you practice the skills and concepts that you learned in today's class.\n",
    "\n",
    "To get participation credit for today's class, make sure that you work on these exercises and then submit a screenshot or PDF of your work to the appropriate assignment page in Canvas."
   ]
  },
  {
   "cell_type": "markdown",
   "id": "ab0c11cd-4758-4881-b8b6-74afd12d3ad1",
   "metadata": {},
   "source": [
    "## If/Else Excerises"
   ]
  },
  {
   "cell_type": "markdown",
   "id": "544e36a5-b8dc-4daf-85f2-33d45b9fa507",
   "metadata": {},
   "source": [
    "For the following exercises and the next few lessons, we're going to draw on Anelise Shrout's [Bellevue Almshouse Dataset](https://www.nyuirish.net/almshouse/the-almshouse-records/). The Bellevue Almshouse Dataset includes information about Irish-born immigrants who were admitted to the almshouse in the 1840s."
   ]
  },
  {
   "cell_type": "markdown",
   "id": "d48dba81-4038-4f51-baff-3599328c7c51",
   "metadata": {},
   "source": [
    "### Exercise 1"
   ]
  },
  {
   "cell_type": "code",
   "execution_count": 134,
   "id": "540dbcd8-5ef7-4b7c-8f88-3c2ec4cbe774",
   "metadata": {},
   "outputs": [],
   "source": [
    "name = 'Bridget Reynolds'\n",
    "age = 20\n",
    "arrival = 1847\n",
    "disease = 'pregnant'\n",
    "profession = 'married'\n",
    "gender = 'f'\n",
    "child_status = 'no child'"
   ]
  },
  {
   "cell_type": "markdown",
   "id": "e0f0b502-6c17-40b7-ac3d-3f3dc0a525c1",
   "metadata": {},
   "source": [
    "Write an `if` statement that prints \"Person's profession is married\" if `profession` is married."
   ]
  },
  {
   "cell_type": "code",
   "execution_count": null,
   "id": "d9aa995d-c1bd-4c91-8056-8b826300c69e",
   "metadata": {
    "tags": [
     "hide-output"
    ]
   },
   "outputs": [],
   "source": [
    "#Your code here\n",
    "    print(\"Person's profession is married.\")"
   ]
  },
  {
   "cell_type": "markdown",
   "id": "e70eaddd-154f-44f7-b11e-16a9ea532909",
   "metadata": {},
   "source": [
    "### Exercise 2\n",
    "Write an `if` statement that prints \"Person is young and married\" if `age` is less than 21 years old *and* `profession` is equal to \"married.\""
   ]
  },
  {
   "cell_type": "code",
   "execution_count": null,
   "id": "188e0597-676f-4cb1-ab45-7fe5ff5548b2",
   "metadata": {},
   "outputs": [],
   "source": [
    "#Your code here\n",
    "    print('Person is young and married.')"
   ]
  },
  {
   "cell_type": "markdown",
   "id": "3abb5d48-186e-4cfc-abeb-0b8e432a3307",
   "metadata": {},
   "source": [
    "### Excerise 3"
   ]
  },
  {
   "cell_type": "markdown",
   "id": "59d6348a-64f9-426f-85d6-230efc27e800",
   "metadata": {},
   "source": [
    "Fill in the lines of Python code so that they will report where a person was sent in the Bellevue system based on their `disease`.\n",
    "\n",
    "If the `disease` is \"pregnant,\" they were sent to Ward 38. If the `disease` is \"insane,\" they were sent to the Lunatic Asylum. If the `disease` is \"recent emigrant,\" they were sent to the Shanty. If the person's `disease` is something else, then report that the person was sent to an unknown location."
   ]
  },
  {
   "cell_type": "code",
   "execution_count": null,
   "id": "e23913b9-5dca-4c56-ae52-20ed80cd8e33",
   "metadata": {},
   "outputs": [],
   "source": [
    "#Your code here\n",
    "    print('Person sent to Ward 38.')\n",
    "#Your code here\n",
    "    print('Person sent to Lunatic Asylum.')\n",
    "#Your code here\n",
    "    print('Person sent to Shanty.')\n",
    "#Your code here\n",
    "    print('Person sent to unknown location.')"
   ]
  },
  {
   "cell_type": "markdown",
   "id": "4f650655-f6fb-406b-b64d-a946e62a7dcb",
   "metadata": {},
   "source": [
    "The cell below contains Python code that will let us create our own function. Don't worry too much about it for now. Just copy and paste the code from above into the appropriate places, and be sure to run the cell."
   ]
  },
  {
   "cell_type": "code",
   "execution_count": null,
   "id": "dd9c8612-6ce6-474c-9d5c-4af209e523a1",
   "metadata": {},
   "outputs": [],
   "source": [
    "# The def keyword allows us to define our own function\n",
    "def bellevue_sender(disease):\n",
    "    #Your code here\n",
    "        print('Person sent to Ward 38.')\n",
    "    #Your code here\n",
    "        print('Person sent to Lunatic Asylum.')\n",
    "    #Your code here\n",
    "        print('Person sent to Hospital.')\n",
    "    #Your code here\n",
    "        print('Person sent to unknown location.')"
   ]
  },
  {
   "cell_type": "markdown",
   "id": "5bbe4eba-3f7a-467d-a540-064275f4e1cc",
   "metadata": {},
   "source": [
    "Now test out if your code works correctly for other \"diseases\" by \"calling\" the function like so:"
   ]
  },
  {
   "cell_type": "code",
   "execution_count": null,
   "id": "cfa62845-ddf4-4d56-a9f3-8ee498772b8f",
   "metadata": {},
   "outputs": [],
   "source": [
    "bellevue_sender('insane')"
   ]
  },
  {
   "cell_type": "code",
   "execution_count": 115,
   "id": "d8e1b2f6-8592-41b6-9ae1-7bb38b46f92c",
   "metadata": {},
   "outputs": [],
   "source": [
    "bellevue_sender('recent emigrant')"
   ]
  },
  {
   "cell_type": "code",
   "execution_count": null,
   "id": "d0abb8ac-7b3b-4e6a-ac9e-b2d25a4258fd",
   "metadata": {},
   "outputs": [],
   "source": [
    "bellevue_sender('typhoid')"
   ]
  },
  {
   "cell_type": "markdown",
   "id": "6909c562-78d9-4bf5-8cea-f71fad70be41",
   "metadata": {},
   "source": [
    "### Exercise 4"
   ]
  },
  {
   "cell_type": "markdown",
   "id": "fe242d2d-8703-4974-aeb9-02ae4214b1d5",
   "metadata": {},
   "source": [
    "Some of the Irish immigrants' names have question marks after them. Let's clean up some of the data and remove the question marks."
   ]
  },
  {
   "cell_type": "code",
   "execution_count": 3,
   "id": "d3623abf-923e-4539-8ebf-9c549d1534aa",
   "metadata": {},
   "outputs": [],
   "source": [
    "person2_name = 'John Sanin(?)'"
   ]
  },
  {
   "cell_type": "markdown",
   "id": "3a40b038-7acb-4bf3-9041-3787595d7860",
   "metadata": {},
   "source": [
    "You can use the Python keyword `in` to test whether a string appears within another string. Print `person4_name` with the question mark and parentheses removed. Hint: Think about how you might use what we learned with string methods and remixing..."
   ]
  },
  {
   "cell_type": "code",
   "execution_count": 132,
   "id": "425c79ef-6d4c-4e64-ad8c-d7a3f87a4fd0",
   "metadata": {},
   "outputs": [
    {
     "name": "stdout",
     "output_type": "stream",
     "text": [
      "John Sanin\n"
     ]
    }
   ],
   "source": [
    "if \"(?)\" in person2_name:\n",
    "    #Your code here"
   ]
  },
  {
   "cell_type": "markdown",
   "id": "d4cb93b0-0f2e-4e5a-a58a-ba90cccd0c56",
   "metadata": {},
   "source": [
    "## Discussion"
   ]
  },
  {
   "cell_type": "markdown",
   "id": "4f50f9d2-3dc2-40e7-964b-99b0dd8359b8",
   "metadata": {},
   "source": [
    "- What problems with data and programming do you think are raised by these exercises using the Bellevue Almshouse data and in light of what we learned from *Data Feminism*?\n",
    "- Do you think there are ways for us to work with this data as historians or cultural analytics scholars that do not perpetuate harm or reduction — if so, how?\n",
    "- How, if at all, does the Bellevue data remind you of contemporary data or data-driven systems?"
   ]
  }
 ],
 "metadata": {
  "kernelspec": {
   "display_name": "Python 3",
   "language": "python",
   "name": "python3"
  },
  "language_info": {
   "codemirror_mode": {
    "name": "ipython",
    "version": 3
   },
   "file_extension": ".py",
   "mimetype": "text/x-python",
   "name": "python",
   "nbconvert_exporter": "python",
   "pygments_lexer": "ipython3",
   "version": "3.8.8"
  }
 },
 "nbformat": 4,
 "nbformat_minor": 5
}
