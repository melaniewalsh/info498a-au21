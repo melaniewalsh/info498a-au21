{
 "cells": [
  {
   "cell_type": "markdown",
   "id": "cf80cd6e-1424-4e15-b1a4-506a4e66189b",
   "metadata": {},
   "source": [
    "# Class 4 Exercises"
   ]
  },
  {
   "cell_type": "markdown",
   "id": "46b0712e-8325-4e86-8d9f-60c79a625832",
   "metadata": {},
   "source": [
    "These exercises will help you practice the skills and concepts that you learned in today's class.\n",
    "\n",
    "To get participation credit for today's class, make sure that you work on these exercises and then submit a screenshot or PDF of your work to the appropriate assignment page in Canvas."
   ]
  },
  {
   "cell_type": "markdown",
   "id": "0d36c3a0-2e37-4a0b-8ef3-211421e55b88",
   "metadata": {},
   "source": [
    "## List/For Loop Exercises"
   ]
  },
  {
   "cell_type": "markdown",
   "id": "ec4aeca0-153d-4fe8-875e-61e1b8ffd182",
   "metadata": {},
   "source": [
    "### Exercise 1"
   ]
  },
  {
   "cell_type": "code",
   "execution_count": 31,
   "id": "6aeeb8b0-0146-4e0e-8d94-d511f28bed16",
   "metadata": {},
   "outputs": [],
   "source": [
    "ages = [28, 19, 60, 30, 80, 23]"
   ]
  },
  {
   "cell_type": "markdown",
   "id": "e03ecf86-1917-4d0c-8f68-9f03d49d137e",
   "metadata": {},
   "source": [
    "First, sort the list `ages` in *descending* order and then print it out."
   ]
  },
  {
   "cell_type": "code",
   "execution_count": null,
   "id": "e32d3497-ebac-479f-9452-882be0b432e7",
   "metadata": {},
   "outputs": [],
   "source": [
    "#Your code here"
   ]
  },
  {
   "cell_type": "code",
   "execution_count": null,
   "id": "77a7a997-a62a-437a-ada5-a90384a39022",
   "metadata": {},
   "outputs": [],
   "source": [
    "#Your code here"
   ]
  },
  {
   "cell_type": "markdown",
   "id": "a96beaf0-9c7e-4aaf-ae0e-aace59bf6207",
   "metadata": {},
   "source": [
    "Next, extract the value \"23\" from the list by indexing the list."
   ]
  },
  {
   "cell_type": "code",
   "execution_count": null,
   "id": "41a99cd6-0a79-4eed-abaf-78fcc40a5052",
   "metadata": {},
   "outputs": [],
   "source": [
    "#Your code here"
   ]
  },
  {
   "cell_type": "markdown",
   "id": "e58d2161-3fed-477b-8a65-ae79e647d0fc",
   "metadata": {},
   "source": [
    "Next, calculate how old each of these Irish immigrants would have been in 1857. Note that these ages were recorded in the year 1847."
   ]
  },
  {
   "cell_type": "code",
   "execution_count": null,
   "id": "2624d56e-49f1-4c33-9faf-e7283c2c392e",
   "metadata": {},
   "outputs": [],
   "source": [
    "#Your code here\n",
    "    tenyears_age ...\n",
    "    print(tenyears_age)"
   ]
  },
  {
   "cell_type": "markdown",
   "id": "2be19bca-b6c3-46f5-9aa1-a0c321413ae4",
   "metadata": {},
   "source": [
    "### Exercise 2"
   ]
  },
  {
   "cell_type": "markdown",
   "id": "d8f399c7-3fec-48d7-8e7b-5fcb5f0143ee",
   "metadata": {},
   "source": [
    "Print out the statement \"Person was sent to...\" for each place in the list unless the place is \"illegible.\" As a bonus, see if you can format the place in title case (where the first letter of each word is capitalized)."
   ]
  },
  {
   "cell_type": "code",
   "execution_count": 10,
   "id": "e3f09385-4b4f-48e8-bd91-a6a61c8b9725",
   "metadata": {},
   "outputs": [],
   "source": [
    "places = ['shanty', 'bellevue hospital', 'ward 38', 'illegible', 'asylum', 'illegible']"
   ]
  },
  {
   "cell_type": "code",
   "execution_count": 11,
   "id": "983689e6-31a7-4f16-b97e-7c144a5d8ebe",
   "metadata": {},
   "outputs": [
    {
     "name": "stdout",
     "output_type": "stream",
     "text": [
      "Person was sent to Shanty\n",
      "Person was sent to Bellevue Hospital\n",
      "Person was sent to Ward 38\n",
      "Person was sent to Asylum\n"
     ]
    }
   ],
   "source": [
    "#Your code here ->\n",
    "\n",
    "\n",
    "\n"
   ]
  },
  {
   "cell_type": "markdown",
   "id": "22781f30-3c36-4505-829f-de97b71637ee",
   "metadata": {},
   "source": [
    "### Exercise 3"
   ]
  },
  {
   "cell_type": "markdown",
   "id": "f6c65610-cf6f-4141-ad6b-17d4825a5a7a",
   "metadata": {},
   "source": [
    "Print out the statement \"Person has a child\" or \"Person does not have a child\" for each item in the list. "
   ]
  },
  {
   "cell_type": "code",
   "execution_count": 13,
   "id": "f9dac934-ca14-4acd-b50a-a190fcf55967",
   "metadata": {},
   "outputs": [],
   "source": [
    "child_status = ['Child Alana 10 days', '', 'Catherine 2 mo', '', 'Charles Riley afed 10 days']"
   ]
  },
  {
   "cell_type": "code",
   "execution_count": 15,
   "id": "62e3fdbd-1fd9-47a8-8aa0-dbd38e1fad97",
   "metadata": {},
   "outputs": [
    {
     "name": "stdout",
     "output_type": "stream",
     "text": [
      "Person has a child\n",
      "Person does not have a child\n",
      "Person has a child\n",
      "Person does not have a child\n",
      "Person has a child\n"
     ]
    }
   ],
   "source": [
    "#Your code here ->\n",
    "\n",
    "\n",
    "\n"
   ]
  },
  {
   "cell_type": "markdown",
   "id": "9798fad6-f55b-44f9-9a2c-70e70cee8282",
   "metadata": {},
   "source": [
    "### Exercise 4"
   ]
  },
  {
   "cell_type": "markdown",
   "id": "25fa65eb-4763-4ed9-b518-0c50d12a923c",
   "metadata": {},
   "source": [
    "Using a `for` loop, make a new list `young_people` that only includes ages that are younger than 60, then print it out."
   ]
  },
  {
   "cell_type": "code",
   "execution_count": 4,
   "id": "e01096b0-6572-47a4-abfd-3d175dc621d0",
   "metadata": {},
   "outputs": [],
   "source": [
    "ages = [28, 19, 60, 30, 80, 23]"
   ]
  },
  {
   "cell_type": "code",
   "execution_count": null,
   "id": "d4939fae-decd-4181-b627-3e2fcf38c831",
   "metadata": {},
   "outputs": [],
   "source": [
    "young_people = #Your Code Here\n",
    "#Your Code Here\n",
    "    # Your code here\n",
    "        #Your code here"
   ]
  },
  {
   "cell_type": "code",
   "execution_count": 7,
   "id": "6e5fc49a-0c71-4697-ba74-22e59d74d3d3",
   "metadata": {},
   "outputs": [
    {
     "name": "stdout",
     "output_type": "stream",
     "text": [
      "[28, 19, 30, 23]\n"
     ]
    }
   ],
   "source": [
    "print(young_people)"
   ]
  }
 ],
 "metadata": {
  "kernelspec": {
   "display_name": "Python 3",
   "language": "python",
   "name": "python3"
  },
  "language_info": {
   "codemirror_mode": {
    "name": "ipython",
    "version": 3
   },
   "file_extension": ".py",
   "mimetype": "text/x-python",
   "name": "python",
   "nbconvert_exporter": "python",
   "pygments_lexer": "ipython3",
   "version": "3.8.8"
  }
 },
 "nbformat": 4,
 "nbformat_minor": 5
}
