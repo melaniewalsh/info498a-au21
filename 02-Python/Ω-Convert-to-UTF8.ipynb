{
 "cells": [
  {
   "cell_type": "markdown",
   "id": "e34141e8-6cac-46a0-9b15-adc2256634ba",
   "metadata": {},
   "source": [
    "# Convert Text Files to UTF-8"
   ]
  },
  {
   "cell_type": "markdown",
   "id": "adf9c876-dcb1-4582-8488-dcb4a23b5c30",
   "metadata": {},
   "source": [
    "## Detect Character Encodings"
   ]
  },
  {
   "cell_type": "markdown",
   "id": "e2dce4f8-0018-4c16-8536-f031f5664229",
   "metadata": {},
   "source": [
    "You can install the Python package [chardet](https://github.com/chardet/chardet) to try and detect the character encoding in a file."
   ]
  },
  {
   "cell_type": "code",
   "execution_count": 1,
   "id": "b836cbd4-0114-4e16-8f02-cc0fe6e3a961",
   "metadata": {},
   "outputs": [
    {
     "name": "stdout",
     "output_type": "stream",
     "text": [
      "Requirement already satisfied: chardet in /Users/melwalsh/opt/anaconda3/lib/python3.8/site-packages (4.0.0)\n"
     ]
    }
   ],
   "source": [
    "!pip install chardet"
   ]
  },
  {
   "cell_type": "code",
   "execution_count": 2,
   "id": "7e1b2fdd-5c4d-499c-a313-241368f6c82c",
   "metadata": {},
   "outputs": [
    {
     "name": "stdout",
     "output_type": "stream",
     "text": [
      "../texts/literature/Lady-With-a-Dog_Chekov-KOI8R.txt: KOI8-R with confidence 0.99\n"
     ]
    }
   ],
   "source": [
    "!chardetect ../texts/literature/Lady-With-a-Dog_Chekov-KOI8R.txt"
   ]
  },
  {
   "cell_type": "markdown",
   "id": "65703123-9fb8-40d3-a0c2-fa879a162fc3",
   "metadata": {},
   "source": [
    "## Convert a File to UTF-8"
   ]
  },
  {
   "cell_type": "markdown",
   "id": "0fcc21d0-884d-41cd-9d89-8d23b9df8655",
   "metadata": {},
   "source": [
    "One way to convert a file to UTF-8 is to open the file with the old encoding and then write a new version of the file with UTF-8 encoding."
   ]
  },
  {
   "cell_type": "markdown",
   "id": "43d757d6-6f9b-4840-9b9c-5be52468670e",
   "metadata": {},
   "source": [
    "Method 1"
   ]
  },
  {
   "cell_type": "code",
   "execution_count": 3,
   "id": "c6901d01-91fc-4aa4-880d-3f87f7c8f170",
   "metadata": {},
   "outputs": [],
   "source": [
    "text_to_convert = open('../texts/literature/Lady-With-a-Dog_Chekov-KOI8R.txt', encoding='KOI8-R').read()"
   ]
  },
  {
   "cell_type": "code",
   "execution_count": 4,
   "id": "dc2aaf47-0200-4df3-aa0a-7e594be6085c",
   "metadata": {},
   "outputs": [
    {
     "data": {
      "text/plain": [
       "31500"
      ]
     },
     "execution_count": 4,
     "metadata": {},
     "output_type": "execute_result"
    }
   ],
   "source": [
    "open('../texts/literature/Lady-With-a-Dog_Anton-Chekov-UTF8-Method1.txt', mode='w', encoding='UTF-8').write(text_to_convert)"
   ]
  },
  {
   "cell_type": "markdown",
   "id": "db56281c-2791-4768-b0cc-0ecbe525eb08",
   "metadata": {},
   "source": [
    "Method 2"
   ]
  },
  {
   "cell_type": "code",
   "execution_count": 5,
   "id": "79144088-e5ae-4f75-9598-ddab2f1139e3",
   "metadata": {},
   "outputs": [],
   "source": [
    "with open('../texts/literature/Lady-With-a-Dog_Chekov-KOI8R.txt', encoding='KOI8-R') as read_file_object:\n",
    "    text_to_convert = read_file_object.read()\n",
    "    with open('../texts/literature/Lady-With-a-Dog_Anton-Chekov-UTF8-Method2.txt', mode='w', encoding='UTF-8') as write_file_object:\n",
    "        write_file_object.write(text_to_convert)"
   ]
  }
 ],
 "metadata": {
  "kernelspec": {
   "display_name": "Python 3",
   "language": "python",
   "name": "python3"
  },
  "language_info": {
   "codemirror_mode": {
    "name": "ipython",
    "version": 3
   },
   "file_extension": ".py",
   "mimetype": "text/x-python",
   "name": "python",
   "nbconvert_exporter": "python",
   "pygments_lexer": "ipython3",
   "version": "3.8.8"
  }
 },
 "nbformat": 4,
 "nbformat_minor": 5
}
