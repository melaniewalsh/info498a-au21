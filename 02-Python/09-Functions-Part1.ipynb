{
 "cells": [
  {
   "cell_type": "markdown",
   "metadata": {},
   "source": [
    "# Functions — Workbook"
   ]
  },
  {
   "cell_type": "markdown",
   "metadata": {},
   "source": [
    "A *function* is way of bundling up code to perform specific tasks. It's kind of like making a little Python wind-up toy that runs on command.\n"
   ]
  },
  {
   "cell_type": "markdown",
   "metadata": {},
   "source": [
    "We've encountered built-in Python functions many times already, including:\n",
    "- `print()`\n",
    "- `len()`\n",
    "- `type()`  "
   ]
  },
  {
   "cell_type": "markdown",
   "metadata": {},
   "source": [
    "## Define a Function"
   ]
  },
  {
   "cell_type": "markdown",
   "metadata": {},
   "source": [
    "To make your own function, you use the keyword `def`, short for *define*, followed by your desired name for the function, parentheses (`()`) and a colon (`:`).\n",
    "\n",
    "Finally, you complete the function with a `return` statement."
   ]
  },
  {
   "cell_type": "code",
   "execution_count": 80,
   "metadata": {},
   "outputs": [],
   "source": [
    "def sing_a_song():\n",
    "    print(f\"Ok ladies now let's get in formation 🎵\")\n",
    "    return "
   ]
  },
  {
   "cell_type": "code",
   "execution_count": 78,
   "metadata": {},
   "outputs": [],
   "source": [
    "def sing_happy_birthday(name):\n",
    "    print(f\"Happy Birthday dear {name}\")\n",
    "    return "
   ]
  },
  {
   "cell_type": "code",
   "execution_count": 93,
   "metadata": {},
   "outputs": [],
   "source": [
    "def get_year(album_release):\n",
    "    year = album_release.strip()[-4:]\n",
    "    return year"
   ]
  },
  {
   "cell_type": "code",
   "execution_count": 79,
   "metadata": {},
   "outputs": [],
   "source": [
    "def dog_years_age(age):\n",
    "    dog_age = age * 7\n",
    "    return dog_age"
   ]
  },
  {
   "cell_type": "markdown",
   "metadata": {},
   "source": [
    "## Call a Function"
   ]
  },
  {
   "cell_type": "markdown",
   "metadata": {},
   "source": [
    "To use or \"call\" a function, you simply type the name of the function with parentheses."
   ]
  },
  {
   "cell_type": "code",
   "execution_count": null,
   "metadata": {},
   "outputs": [],
   "source": [
    "sing_a_song()"
   ]
  },
  {
   "cell_type": "code",
   "execution_count": null,
   "metadata": {},
   "outputs": [],
   "source": [
    "sing_happy_birthday(\"Beyonce\")"
   ]
  },
  {
   "cell_type": "code",
   "execution_count": null,
   "metadata": {},
   "outputs": [],
   "source": [
    "get_year(\"Released October 25, 2007 \")"
   ]
  },
  {
   "cell_type": "code",
   "execution_count": null,
   "metadata": {},
   "outputs": [],
   "source": [
    "get_year(\"Released June 17, 2016\")"
   ]
  },
  {
   "cell_type": "code",
   "execution_count": null,
   "metadata": {},
   "outputs": [],
   "source": [
    "dog_years_age(10)"
   ]
  },
  {
   "cell_type": "markdown",
   "metadata": {},
   "source": [
    "## Exercise 1 — Fahrenheit Calculator"
   ]
  },
  {
   "cell_type": "markdown",
   "metadata": {},
   "source": [
    "In 2018, there was a [heat wave](https://en.wikipedia.org/wiki/2018_British_Isles_heat_wave) in Scotland and Northern Ireland. Temperatures rose above 30 degrees Celsius. You want to know...is that a lot?"
   ]
  },
  {
   "cell_type": "markdown",
   "metadata": {},
   "source": [
    "![](https://i.pinimg.com/originals/62/9c/24/629c24707ded09d6fbe294e5de9e73a3.gif)"
   ]
  },
  {
   "cell_type": "markdown",
   "metadata": {},
   "source": [
    "To convert Celsius to Fahrenheit, you can use the following formula:"
   ]
  },
  {
   "cell_type": "markdown",
   "metadata": {},
   "source": [
    "`(0°C × 9/5) + 32 = 32°F`"
   ]
  },
  {
   "cell_type": "code",
   "execution_count": 7,
   "metadata": {},
   "outputs": [],
   "source": [
    "celsius = 30"
   ]
  },
  {
   "cell_type": "code",
   "execution_count": 90,
   "metadata": {},
   "outputs": [
    {
     "data": {
      "text/plain": [
       "86.0"
      ]
     },
     "execution_count": 90,
     "metadata": {},
     "output_type": "execute_result"
    }
   ],
   "source": [
    "(celsius * 9/5) + 32"
   ]
  },
  {
   "cell_type": "markdown",
   "metadata": {},
   "source": [
    "Make a function called `make_fahrenheit()` that will take in any temperature in Celsius and return the converted temperature in degrees Fahrenheit."
   ]
  },
  {
   "cell_type": "code",
   "execution_count": null,
   "metadata": {},
   "outputs": [],
   "source": [
    "def make_fahrenheit...#Your Code Here 👇\n"
   ]
  },
  {
   "cell_type": "code",
   "execution_count": null,
   "metadata": {},
   "outputs": [],
   "source": [
    "make_fahrenheit(30)"
   ]
  },
  {
   "cell_type": "markdown",
   "metadata": {},
   "source": [
    "A few weeks ago, the UK experienced a [cold snap](https://www.independent.co.uk/news/uk/home-news/uk-weather-rain-wind-snow-ice-freezing-b1802005.html). Temperatures plummeted to -8 degrees Celsius. You want to know: uhhh, is that a little?"
   ]
  },
  {
   "cell_type": "code",
   "execution_count": null,
   "metadata": {},
   "outputs": [],
   "source": [
    "make_fahrenheit(-8)"
   ]
  },
  {
   "cell_type": "markdown",
   "metadata": {},
   "source": [
    "## Exercise 2 — Is It Warm Outside? Calculator"
   ]
  },
  {
   "cell_type": "markdown",
   "metadata": {},
   "source": [
    "Let's make a new function `is_it_warm()` that builds on our `make_fahrenheit()` function. This function will convert Celsius to Fahrenehit but it will also print out a statement about whether it is warm outside.\n",
    "\n",
    "Of course, what one person thinks is warm will be different from what another person thinks is warm. So this function will take in 2 arguments: the temperature in Celsius and the threshold for what is considered a warm temperature."
   ]
  },
  {
   "cell_type": "code",
   "execution_count": 107,
   "metadata": {},
   "outputs": [],
   "source": [
    "def is_it_warm(#Your Code here\n",
    "    #Your code here\n",
    "    #Your code here\n",
    "        print(f\"The temperature is {converted_temp}°F. Thus, it is warm outside.\")\n",
    "    #Your Code Here\n",
    "        #Your Code Here\n",
    "    #Your Code Here"
   ]
  },
  {
   "cell_type": "code",
   "execution_count": 108,
   "metadata": {},
   "outputs": [
    {
     "name": "stdout",
     "output_type": "stream",
     "text": [
      "The temperature is 50.0°F. Thus, it is NOT warm outside.\n"
     ]
    }
   ],
   "source": [
    "is_it_warm(celsius_temp=10, my_threshold=60)"
   ]
  },
  {
   "cell_type": "markdown",
   "metadata": {},
   "source": [
    "## Exercise 3 — Chinese Zodiac Calculator"
   ]
  },
  {
   "cell_type": "markdown",
   "metadata": {},
   "source": [
    "Make a function called `chinese_zodiac()` that will take in someone's birth year and then report their corresponding Chinese zodiac. Make sure to run the cell below, which establishes the list of eligible years for each Chinese zodiac sign."
   ]
  },
  {
   "cell_type": "code",
   "execution_count": 109,
   "metadata": {},
   "outputs": [],
   "source": [
    "rat_years = [1924, 1936, 1948, 1960, 1972, 1984, 1996, 2008, 2020, 2032]\n",
    "ox_years = [1925, 1937, 1949, 1961, 1973, 1985, 1997, 2009, 2021, 2033]\n",
    "tiger_years = [1926, 1938, 1950, 1962, 1974, 1986, 1998, 2010, 2022, 2034]\n",
    "rabbit_years = [1927, 1939, 1951, 1963, 1975, 1987, 1999, 2011, 2023, 2035]\n",
    "dragon_years = [1928, 1940, 1952, 1964, 1976, 1988, 2000, 2012, 2024, 2036]\n",
    "snake_years = [1929, 1941, 1953, 1965, 1977, 1989, 2001, 2013, 2025, 2037]\n",
    "hrose_years = [1930, 1942, 1954, 1966, 1978, 1990, 2002, 2014, 2026, 2038]\n",
    "sheep_years = [1931, 1943, 1955, 1967, 1979, 1991, 2003, 2015, 2027, 2039]\n",
    "monkey_years = [1932, 1944, 1956, 1968, 1980, 1992, 2004, 2016, 2028, 2040]\n",
    "rooster_years = [1933, 1945, 1957, 1969, 1981, 1993, 2005, 2017, 2029, 2041]\n",
    "dog_years = [1934, 1946, 1958, 1970, 1982, 1994, 2006, 2018, 2030, 2042]\n",
    "pig_years = [1935, 1947, 1959, 1971, 1983, 1995, 2007, 2019, 2031, 2043]"
   ]
  },
  {
   "cell_type": "markdown",
   "metadata": {},
   "source": [
    "🐀 Rat  \n",
    "🐂 Ox  \n",
    "🐅 Tiger  \n",
    "🐇 Rabbit  \n",
    "🐉 Dragon  \n",
    "🐍 Snake  \n",
    "🐎 Horse  \n",
    "🐑 Sheep / 🐐 Goat / 🐏 Ram  \n",
    "🐒 Monkey  \n",
    "🐓 Rooster  \n",
    "🐕 Dog  \n",
    "🐖 Pig  "
   ]
  },
  {
   "cell_type": "code",
   "execution_count": 110,
   "metadata": {},
   "outputs": [],
   "source": [
    "def chinese_zodiac #Your Code Here 👇"
   ]
  },
  {
   "cell_type": "code",
   "execution_count": 111,
   "metadata": {},
   "outputs": [
    {
     "name": "stdout",
     "output_type": "stream",
     "text": [
      "You were born in the year of the Rat 🐀\n"
     ]
    }
   ],
   "source": [
    "chinese_zodiac(2008)"
   ]
  },
  {
   "cell_type": "code",
   "execution_count": null,
   "metadata": {},
   "outputs": [],
   "source": [
    "chinese_zodiac(#Enter your birth year!)"
   ]
  },
  {
   "cell_type": "code",
   "execution_count": null,
   "metadata": {},
   "outputs": [],
   "source": [
    "chinese_zodiac(#Enter your partner's birth year!)"
   ]
  }
 ],
 "metadata": {
  "kernelspec": {
   "display_name": "Python 3",
   "language": "python",
   "name": "python3"
  },
  "language_info": {
   "codemirror_mode": {
    "name": "ipython",
    "version": 3
   },
   "file_extension": ".py",
   "mimetype": "text/x-python",
   "name": "python",
   "nbconvert_exporter": "python",
   "pygments_lexer": "ipython3",
   "version": "3.8.8"
  }
 },
 "nbformat": 4,
 "nbformat_minor": 4
}
