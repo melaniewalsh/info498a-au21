{
 "cells": [
  {
   "cell_type": "markdown",
   "metadata": {},
   "source": [
    "# Files & Character Encoding — Workbook"
   ]
  },
  {
   "cell_type": "markdown",
   "metadata": {},
   "source": [
    "In this workbook, we're going to explore how to read and write files with the correct character encodings."
   ]
  },
  {
   "cell_type": "markdown",
   "metadata": {},
   "source": [
    "> \"It was the best of times, it was the worst of times, it was the age of wisdom, it was the age of foolishness...\"  \n",
    "\n",
    "> Charles Dickens, *A Tale of Two Cities* (1859)"
   ]
  },
  {
   "cell_type": "markdown",
   "metadata": {},
   "source": [
    "## Ask for Help"
   ]
  },
  {
   "cell_type": "code",
   "execution_count": 65,
   "metadata": {
    "scrolled": true,
    "tags": []
   },
   "outputs": [
    {
     "name": "stdout",
     "output_type": "stream",
     "text": [
      "Help on built-in function open in module io:\n",
      "\n",
      "open(file, mode='r', buffering=-1, encoding=None, errors=None, newline=None, closefd=True, opener=None)\n",
      "    Open file and return a stream.  Raise OSError upon failure.\n",
      "    \n",
      "    file is either a text or byte string giving the name (and the path\n",
      "    if the file isn't in the current working directory) of the file to\n",
      "    be opened or an integer file descriptor of the file to be\n",
      "    wrapped. (If a file descriptor is given, it is closed when the\n",
      "    returned I/O object is closed, unless closefd is set to False.)\n",
      "    \n",
      "    mode is an optional string that specifies the mode in which the file\n",
      "    is opened. It defaults to 'r' which means open for reading in text\n",
      "    mode.  Other common values are 'w' for writing (truncating the file if\n",
      "    it already exists), 'x' for creating and writing to a new file, and\n",
      "    'a' for appending (which on some Unix systems, means that all writes\n",
      "    append to the end of the file regardless of the current seek position).\n",
      "    In text mode, if encoding is not specified the encoding used is platform\n",
      "    dependent: locale.getpreferredencoding(False) is called to get the\n",
      "    current locale encoding. (For reading and writing raw bytes use binary\n",
      "    mode and leave encoding unspecified.) The available modes are:\n",
      "    \n",
      "    ========= ===============================================================\n",
      "    Character Meaning\n",
      "    --------- ---------------------------------------------------------------\n",
      "    'r'       open for reading (default)\n",
      "    'w'       open for writing, truncating the file first\n",
      "    'x'       create a new file and open it for writing\n",
      "    'a'       open for writing, appending to the end of the file if it exists\n",
      "    'b'       binary mode\n",
      "    't'       text mode (default)\n",
      "    '+'       open a disk file for updating (reading and writing)\n",
      "    'U'       universal newline mode (deprecated)\n",
      "    ========= ===============================================================\n",
      "    \n",
      "    The default mode is 'rt' (open for reading text). For binary random\n",
      "    access, the mode 'w+b' opens and truncates the file to 0 bytes, while\n",
      "    'r+b' opens the file without truncation. The 'x' mode implies 'w' and\n",
      "    raises an `FileExistsError` if the file already exists.\n",
      "    \n",
      "    Python distinguishes between files opened in binary and text modes,\n",
      "    even when the underlying operating system doesn't. Files opened in\n",
      "    binary mode (appending 'b' to the mode argument) return contents as\n",
      "    bytes objects without any decoding. In text mode (the default, or when\n",
      "    't' is appended to the mode argument), the contents of the file are\n",
      "    returned as strings, the bytes having been first decoded using a\n",
      "    platform-dependent encoding or using the specified encoding if given.\n",
      "    \n",
      "    'U' mode is deprecated and will raise an exception in future versions\n",
      "    of Python.  It has no effect in Python 3.  Use newline to control\n",
      "    universal newlines mode.\n",
      "    \n",
      "    buffering is an optional integer used to set the buffering policy.\n",
      "    Pass 0 to switch buffering off (only allowed in binary mode), 1 to select\n",
      "    line buffering (only usable in text mode), and an integer > 1 to indicate\n",
      "    the size of a fixed-size chunk buffer.  When no buffering argument is\n",
      "    given, the default buffering policy works as follows:\n",
      "    \n",
      "    * Binary files are buffered in fixed-size chunks; the size of the buffer\n",
      "      is chosen using a heuristic trying to determine the underlying device's\n",
      "      \"block size\" and falling back on `io.DEFAULT_BUFFER_SIZE`.\n",
      "      On many systems, the buffer will typically be 4096 or 8192 bytes long.\n",
      "    \n",
      "    * \"Interactive\" text files (files for which isatty() returns True)\n",
      "      use line buffering.  Other text files use the policy described above\n",
      "      for binary files.\n",
      "    \n",
      "    encoding is the name of the encoding used to decode or encode the\n",
      "    file. This should only be used in text mode. The default encoding is\n",
      "    platform dependent, but any encoding supported by Python can be\n",
      "    passed.  See the codecs module for the list of supported encodings.\n",
      "    \n",
      "    errors is an optional string that specifies how encoding errors are to\n",
      "    be handled---this argument should not be used in binary mode. Pass\n",
      "    'strict' to raise a ValueError exception if there is an encoding error\n",
      "    (the default of None has the same effect), or pass 'ignore' to ignore\n",
      "    errors. (Note that ignoring encoding errors can lead to data loss.)\n",
      "    See the documentation for codecs.register or run 'help(codecs.Codec)'\n",
      "    for a list of the permitted encoding error strings.\n",
      "    \n",
      "    newline controls how universal newlines works (it only applies to text\n",
      "    mode). It can be None, '', '\\n', '\\r', and '\\r\\n'.  It works as\n",
      "    follows:\n",
      "    \n",
      "    * On input, if newline is None, universal newlines mode is\n",
      "      enabled. Lines in the input can end in '\\n', '\\r', or '\\r\\n', and\n",
      "      these are translated into '\\n' before being returned to the\n",
      "      caller. If it is '', universal newline mode is enabled, but line\n",
      "      endings are returned to the caller untranslated. If it has any of\n",
      "      the other legal values, input lines are only terminated by the given\n",
      "      string, and the line ending is returned to the caller untranslated.\n",
      "    \n",
      "    * On output, if newline is None, any '\\n' characters written are\n",
      "      translated to the system default line separator, os.linesep. If\n",
      "      newline is '' or '\\n', no translation takes place. If newline is any\n",
      "      of the other legal values, any '\\n' characters written are translated\n",
      "      to the given string.\n",
      "    \n",
      "    If closefd is False, the underlying file descriptor will be kept open\n",
      "    when the file is closed. This does not work when a file name is given\n",
      "    and must be True in that case.\n",
      "    \n",
      "    A custom opener can be used by passing a callable as *opener*. The\n",
      "    underlying file descriptor for the file object is then obtained by\n",
      "    calling *opener* with (*file*, *flags*). *opener* must return an open\n",
      "    file descriptor (passing os.open as *opener* results in functionality\n",
      "    similar to passing None).\n",
      "    \n",
      "    open() returns a file object whose type depends on the mode, and\n",
      "    through which the standard file operations such as reading and writing\n",
      "    are performed. When open() is used to open a file in a text mode ('w',\n",
      "    'r', 'wt', 'rt', etc.), it returns a TextIOWrapper. When used to open\n",
      "    a file in a binary mode, the returned class varies: in read binary\n",
      "    mode, it returns a BufferedReader; in write binary and append binary\n",
      "    modes, it returns a BufferedWriter, and in read/write mode, it returns\n",
      "    a BufferedRandom.\n",
      "    \n",
      "    It is also possible to use a string or bytearray as a file for both\n",
      "    reading and writing. For strings StringIO can be used like a file\n",
      "    opened in a text mode, and for bytes a BytesIO can be used like a file\n",
      "    opened in a binary mode.\n",
      "\n"
     ]
    }
   ],
   "source": [
    "help(open)"
   ]
  },
  {
   "cell_type": "markdown",
   "metadata": {},
   "source": [
    "## Open a Text File"
   ]
  },
  {
   "cell_type": "markdown",
   "metadata": {},
   "source": [
    "If you want to read or write a text file with Python, it is necessary to first open the file. To open a file, you can use Python's built-in `open()` function."
   ]
  },
  {
   "cell_type": "markdown",
   "metadata": {},
   "source": [
    "Let's open the file \"Charles-Dickens-excerpt.txt,\" which is in our current directory."
   ]
  },
  {
   "cell_type": "code",
   "execution_count": 23,
   "metadata": {
    "tags": [
     "hide-output"
    ]
   },
   "outputs": [
    {
     "data": {
      "text/plain": [
       "<_io.TextIOWrapper name='Charles-Dickens-excerpt.txt' mode='r' encoding='utf-8'>"
      ]
     },
     "execution_count": 23,
     "metadata": {},
     "output_type": "execute_result"
    }
   ],
   "source": [
    "open(\"Charles-Dickens-excerpt.txt\", mode='r', encoding='utf-8')"
   ]
  },
  {
   "cell_type": "markdown",
   "metadata": {},
   "source": [
    "Inside the `open()` function parentheses, you insert the filepath to be opened in quotation marks. You should also insert a character encoding. This function returns what's called a *file object*."
   ]
  },
  {
   "cell_type": "markdown",
   "metadata": {},
   "source": [
    "## Read a Text File"
   ]
  },
  {
   "cell_type": "markdown",
   "metadata": {},
   "source": [
    "A file object does not contain readable text yet. To read this file object as text, you need to use the `.read()` method. "
   ]
  },
  {
   "cell_type": "code",
   "execution_count": 45,
   "metadata": {},
   "outputs": [
    {
     "data": {
      "text/plain": [
       "'A Tale of Two Cities\\nBy Charles Dickens\\n\\nCHAPTER I.\\n\\nIt was the best of times, it was the worst of times, it was the age of wisdom, it was the age of foolishness, it was the epoch of belief...'"
      ]
     },
     "execution_count": 45,
     "metadata": {},
     "output_type": "execute_result"
    }
   ],
   "source": [
    "open('Charles-Dickens-excerpt.txt', mode='r', encoding='utf-8').read()"
   ]
  },
  {
   "cell_type": "markdown",
   "metadata": {},
   "source": [
    "If you want to read in the file line by line, you can use the `.readlines()` method."
   ]
  },
  {
   "cell_type": "code",
   "execution_count": 57,
   "metadata": {},
   "outputs": [
    {
     "data": {
      "text/plain": [
       "['A Tale of Two Cities\\n',\n",
       " 'By Charles Dickens\\n',\n",
       " '\\n',\n",
       " 'CHAPTER I.\\n',\n",
       " '\\n',\n",
       " 'It was the best of times, it was the worst of times, it was the age of wisdom, it was the age of foolishness, it was the epoch of belief...']"
      ]
     },
     "execution_count": 57,
     "metadata": {},
     "output_type": "execute_result"
    }
   ],
   "source": [
    "open('Charles-Dickens-excerpt.txt', mode='r', encoding='utf-8').readlines()"
   ]
  },
  {
   "cell_type": "code",
   "execution_count": 46,
   "metadata": {},
   "outputs": [
    {
     "data": {
      "text/plain": [
       "list"
      ]
     },
     "execution_count": 46,
     "metadata": {},
     "output_type": "execute_result"
    }
   ],
   "source": [
    "type(open('Charles-Dickens-excerpt.txt', mode='r', encoding='utf-8').readlines())"
   ]
  },
  {
   "cell_type": "markdown",
   "metadata": {},
   "source": [
    "The `.readlines()` method will return a list of lines, which we will talk about in a moment."
   ]
  },
  {
   "cell_type": "markdown",
   "metadata": {},
   "source": [
    "## What is `\\n`?"
   ]
  },
  {
   "cell_type": "code",
   "execution_count": 58,
   "metadata": {},
   "outputs": [
    {
     "name": "stdout",
     "output_type": "stream",
     "text": [
      "A Tale of Two Cities\n",
      "By Charles Dickens\n",
      "\n",
      "CHAPTER I.\n",
      "\n",
      "It was the best of times, it was the worst of times, it was the age of wisdom, it was the age of foolishness, it was the epoch of belief...\n"
     ]
    }
   ],
   "source": [
    "print(open('Charles-Dickens-excerpt.txt', mode='r', encoding='utf-8').read())"
   ]
  },
  {
   "cell_type": "markdown",
   "metadata": {},
   "source": [
    "## Assign Text to a Variable"
   ]
  },
  {
   "cell_type": "markdown",
   "metadata": {},
   "source": [
    "How would we assign this text to a variable?"
   ]
  },
  {
   "cell_type": "code",
   "execution_count": 59,
   "metadata": {},
   "outputs": [],
   "source": [
    "dickens = open('Charles-Dickens-excerpt.txt', mode='r', encoding='utf-8').read()"
   ]
  },
  {
   "cell_type": "code",
   "execution_count": 60,
   "metadata": {},
   "outputs": [
    {
     "data": {
      "text/plain": [
       "'A Tale of Two Cities\\nBy Charles Dickens\\n\\nCHAPTER I.\\n\\nIt was the best of times, it was the worst of times, it was the age of wisdom, it was the age of foolishness, it was the epoch of belief...'"
      ]
     },
     "execution_count": 60,
     "metadata": {},
     "output_type": "execute_result"
    }
   ],
   "source": [
    "dickens"
   ]
  },
  {
   "cell_type": "code",
   "execution_count": 61,
   "metadata": {},
   "outputs": [
    {
     "data": {
      "text/plain": [
       "str"
      ]
     },
     "execution_count": 61,
     "metadata": {},
     "output_type": "execute_result"
    }
   ],
   "source": [
    "type(dickens)"
   ]
  },
  {
   "cell_type": "markdown",
   "metadata": {},
   "source": [
    "## Remix!"
   ]
  },
  {
   "cell_type": "markdown",
   "metadata": {},
   "source": [
    "| **String Method** | **Explanation**                                                                                   |\n",
    "|:-------------:|:---------------------------------------------------------------------------------------------------:|\n",
    "| `string.replace('old string', 'new string')`      | replaces `old string` with `new string`          |\n",
    "                                                            "
   ]
  },
  {
   "cell_type": "markdown",
   "metadata": {},
   "source": [
    "You can use the string method `.replace()` to replace text inside a string with different text. Replace the word \"times\" with a different word of your choice."
   ]
  },
  {
   "cell_type": "code",
   "execution_count": 62,
   "metadata": {},
   "outputs": [
    {
     "data": {
      "text/plain": [
       "'A Tale of Two Cities\\nBy Charles Dickens\\n\\nCHAPTER I.\\n\\nIt was the best of tacos, it was the worst of tacos, it was the age of wisdom, it was the age of foolishness, it was the epoch of belief...'"
      ]
     },
     "execution_count": 62,
     "metadata": {},
     "output_type": "execute_result"
    }
   ],
   "source": [
    "dickens.replace('times', 'tacos')"
   ]
  },
  {
   "cell_type": "markdown",
   "metadata": {},
   "source": [
    "Let's assign this remix to a new variable `remixed_dickens`."
   ]
  },
  {
   "cell_type": "code",
   "execution_count": 63,
   "metadata": {},
   "outputs": [],
   "source": [
    "remixed_dickens = dickens.replace('times', 'tacos')"
   ]
  },
  {
   "cell_type": "markdown",
   "metadata": {},
   "source": [
    "## Write a Text File"
   ]
  },
  {
   "cell_type": "markdown",
   "metadata": {},
   "source": [
    "The default mode for the `open()` function is to read text files: `mode = 'r'`.\n",
    "\n",
    "But you can use the `open()` function to write files, too. Simply set the mode to write: `mode = 'w'`"
   ]
  },
  {
   "cell_type": "markdown",
   "metadata": {},
   "source": [
    "Let's create a new text file with our remixed version of the opening line of *A Tale of Two Cities*."
   ]
  },
  {
   "cell_type": "code",
   "execution_count": 64,
   "metadata": {},
   "outputs": [
    {
     "data": {
      "text/plain": [
       "192"
      ]
     },
     "execution_count": 64,
     "metadata": {},
     "output_type": "execute_result"
    }
   ],
   "source": [
    "open(\"Remixed-Dickens.txt\", mode='w', encoding='utf-8').write(remixed_dickens)"
   ]
  },
  {
   "cell_type": "markdown",
   "metadata": {},
   "source": [
    "Double-click on your file in the file browser at the left and see if it worked!"
   ]
  },
  {
   "cell_type": "markdown",
   "metadata": {},
   "source": [
    "## Character Encodings"
   ]
  },
  {
   "cell_type": "markdown",
   "metadata": {},
   "source": [
    "Why do we need to include `encoding='utf-8'` to open our text file?\n",
    "\n",
    "UTF-8 is a character encoding known as [Unicode](https://home.unicode.org/basic-info/faq/). We need to specify a character encoding because — *gasp!* — computers don't actually know what text is. Character encodings are systems that map characters to numbers."
   ]
  },
  {
   "cell_type": "markdown",
   "metadata": {},
   "source": [
    "You can check any characters' \"code point,\" or place in the Unicode universe, with the function `ord()`"
   ]
  },
  {
   "cell_type": "code",
   "execution_count": 8,
   "metadata": {
    "tags": [
     "hide-output"
    ]
   },
   "outputs": [
    {
     "data": {
      "text/plain": [
       "97"
      ]
     },
     "execution_count": 8,
     "metadata": {},
     "output_type": "execute_result"
    }
   ],
   "source": [
    "ord(\"a\")"
   ]
  },
  {
   "cell_type": "code",
   "execution_count": 9,
   "metadata": {
    "tags": [
     "hide-output"
    ]
   },
   "outputs": [
    {
     "data": {
      "text/plain": [
       "128169"
      ]
     },
     "execution_count": 9,
     "metadata": {},
     "output_type": "execute_result"
    }
   ],
   "source": [
    "ord(\"💩\")"
   ]
  },
  {
   "cell_type": "code",
   "execution_count": 10,
   "metadata": {
    "tags": [
     "hide-output"
    ]
   },
   "outputs": [
    {
     "data": {
      "text/plain": [
       "2468"
      ]
     },
     "execution_count": 10,
     "metadata": {},
     "output_type": "execute_result"
    }
   ],
   "source": [
    "ord(\"ত\")"
   ]
  },
  {
   "cell_type": "code",
   "execution_count": 11,
   "metadata": {
    "tags": [
     "hide-output"
    ]
   },
   "outputs": [
    {
     "data": {
      "text/plain": [
       "33"
      ]
     },
     "execution_count": 11,
     "metadata": {},
     "output_type": "execute_result"
    }
   ],
   "source": [
    "ord(\"!\")"
   ]
  },
  {
   "cell_type": "markdown",
   "metadata": {},
   "source": [
    "Unicode is the most popular character encoding on the internet. It even includes emojis. Yet, as Aditya Mukerjee points out in his essay \"[I Can Text You A Pile of Poo, But I Can’t Write My Name](https://modelviewculture.com/pieces/i-can-text-you-a-pile-of-poo-but-i-cant-write-my-name)\", Unicode still does not include characters that are essential to Bengali as well as to many other non-English languages."
   ]
  },
  {
   "cell_type": "markdown",
   "metadata": {},
   "source": [
    "## Adding (UTF-8) Encoding"
   ]
  },
  {
   "cell_type": "markdown",
   "metadata": {},
   "source": [
    "It's always good practice to explicitly specify UTF-8 encoding when reading and writing files. Let's open and read \"sample-character-encoding.txt\""
   ]
  },
  {
   "cell_type": "code",
   "execution_count": 15,
   "metadata": {
    "tags": [
     "hide-output"
    ]
   },
   "outputs": [
    {
     "name": "stdout",
     "output_type": "stream",
     "text": [
      "***\n",
      "This is an example of curly quotation marks:\n",
      "“She said, ‘I won’t bungle the encoding!’”\n",
      "***\n",
      "\n",
      "***\n",
      "This is an example of an emoji:\n",
      "💩\n",
      "***\n",
      "\n",
      "***\n",
      "This is an example of Bengali:\n",
      "আদিত্য মুখোপাধ্যায় পোপ টাইপ করতে পারেন তবে তাঁর নাম বানান করতে পারবেন না\n",
      "(Aditya Mukerjee can type poop but cannot spell his own name)\n",
      "***\n",
      "\n",
      "***This is an example of Russian:\n",
      "Говорили, что на набережной появилось новое лицо: дама с собачкой.\n",
      "(It was said that a new person had appeared on the sea-front: a lady with a little dog.)\n",
      "\n",
      "***\n",
      "This is an example of Chinese:\n",
      "如果我们想学习中文短篇小说怎么办？\n",
      "(What if we want to study Chinese short stories?)\n",
      "***\n"
     ]
    }
   ],
   "source": [
    "sample_text_default = open('sample-character-encoding.txt', encoding='utf-8').read()\n",
    "print(sample_text_default)"
   ]
  },
  {
   "cell_type": "markdown",
   "metadata": {},
   "source": [
    "Look what happens if we read in the exact same text with a different encoding."
   ]
  },
  {
   "cell_type": "code",
   "execution_count": 16,
   "metadata": {
    "tags": [
     "hide-output"
    ]
   },
   "outputs": [
    {
     "name": "stdout",
     "output_type": "stream",
     "text": [
      "***\n",
      "This is an example of curly quotation marks:\n",
      "âShe said, âI wonât bungle the encoding!ââ\n",
      "***\n",
      "\n",
      "***\n",
      "This is an example of an emoji:\n",
      "ð©\n",
      "***\n",
      "\n",
      "***\n",
      "This is an example of Bengali:\n",
      "à¦à¦¦à¦¿à¦¤à§à¦¯ à¦®à§à¦à§à¦ªà¦¾à¦§à§à¦¯à¦¾à¦¯à¦¼ à¦ªà§à¦ª à¦à¦¾à¦à¦ª à¦à¦°à¦¤à§ à¦ªà¦¾à¦°à§à¦¨ à¦¤à¦¬à§ à¦¤à¦¾à¦à¦° à¦¨à¦¾à¦® à¦¬à¦¾à¦¨à¦¾à¦¨ à¦à¦°à¦¤à§ à¦ªà¦¾à¦°à¦¬à§à¦¨ à¦¨à¦¾\n",
      "(Aditya Mukerjee can type poop but cannot spell his own name)\n",
      "***\n",
      "\n",
      "***This is an example of Russian:\n",
      "ÐÐ¾Ð²Ð¾ÑÐ¸Ð»Ð¸, ÑÑÐ¾ Ð½Ð° Ð½Ð°Ð±ÐµÑÐµÐ¶Ð½Ð¾Ð¹ Ð¿Ð¾ÑÐ²Ð¸Ð»Ð¾ÑÑ Ð½Ð¾Ð²Ð¾Ðµ Ð»Ð¸ÑÐ¾: Ð´Ð°Ð¼Ð° Ñ ÑÐ¾Ð±Ð°ÑÐºÐ¾Ð¹.\n",
      "(It was said that a new person had appeared on the sea-front: a lady with a little dog.)\n",
      "\n",
      "***\n",
      "This is an example of Chinese:\n",
      "å¦ææä»¬æ³å­¦ä¹ ä¸­æç­ç¯å°è¯´æä¹åï¼\n",
      "(What if we want to study Chinese short stories?)\n",
      "***\n"
     ]
    }
   ],
   "source": [
    "sample_text_iso = open('sample-character-encoding.txt', encoding='iso-8859-1').read()\n",
    "print(sample_text_iso)"
   ]
  },
  {
   "cell_type": "markdown",
   "metadata": {},
   "source": [
    "## Real Life Encoding Example — \"The Lady with a Dog\""
   ]
  },
  {
   "cell_type": "markdown",
   "metadata": {},
   "source": [
    "I wanted to find some Russian fiction that we could analyze together as a class, so I reached out to my friend and colleague Quinn Dombrowski, a DH researcher at Stanford who specializes in non-English DH.\n",
    "\n",
    "She directed me to [Lib.ru](http://lib.ru/), a website that hosts a lot of Russian-language texts, where I was able to find Anton Chekhov's short story, [\"The Lady with a Dog\"](http://lib.ru/LITRA/CHEHOW/d.txt) (1899), in the original Russian."
   ]
  },
  {
   "cell_type": "markdown",
   "metadata": {},
   "source": [
    "On the [web page](http://lib.ru/LITRA/CHEHOW/d.txt) for \"Lady with a Dog,\" I selected the option in the right-hand corner to download the \"txt\" file. But when I opened it up on my computer, I realized that it had an unfamiliar character encoding. It wouldn't open with UTF-8."
   ]
  },
  {
   "cell_type": "code",
   "execution_count": 17,
   "metadata": {
    "tags": [
     "hide-output"
    ]
   },
   "outputs": [
    {
     "ename": "UnicodeDecodeError",
     "evalue": "'utf-8' codec can't decode byte 0xe1 in position 2: invalid continuation byte",
     "output_type": "error",
     "traceback": [
      "\u001b[0;31m---------------------------------------------------------------------------\u001b[0m",
      "\u001b[0;31mUnicodeDecodeError\u001b[0m                        Traceback (most recent call last)",
      "\u001b[0;32m<ipython-input-17-c000924fc3c6>\u001b[0m in \u001b[0;36m<module>\u001b[0;34m\u001b[0m\n\u001b[0;32m----> 1\u001b[0;31m \u001b[0mprint\u001b[0m\u001b[0;34m(\u001b[0m\u001b[0mopen\u001b[0m\u001b[0;34m(\u001b[0m\u001b[0;34m'../texts/literature/Lady-With-a-Dog_Chekov-KOI8R.txt'\u001b[0m\u001b[0;34m,\u001b[0m \u001b[0mencoding\u001b[0m\u001b[0;34m=\u001b[0m\u001b[0;34m'UTF-8'\u001b[0m\u001b[0;34m)\u001b[0m\u001b[0;34m.\u001b[0m\u001b[0mread\u001b[0m\u001b[0;34m(\u001b[0m\u001b[0;34m)\u001b[0m\u001b[0;34m)\u001b[0m\u001b[0;34m\u001b[0m\u001b[0;34m\u001b[0m\u001b[0m\n\u001b[0m",
      "\u001b[0;32m~/opt/anaconda3/lib/python3.8/codecs.py\u001b[0m in \u001b[0;36mdecode\u001b[0;34m(self, input, final)\u001b[0m\n\u001b[1;32m    320\u001b[0m         \u001b[0;31m# decode input (taking the buffer into account)\u001b[0m\u001b[0;34m\u001b[0m\u001b[0;34m\u001b[0m\u001b[0;34m\u001b[0m\u001b[0m\n\u001b[1;32m    321\u001b[0m         \u001b[0mdata\u001b[0m \u001b[0;34m=\u001b[0m \u001b[0mself\u001b[0m\u001b[0;34m.\u001b[0m\u001b[0mbuffer\u001b[0m \u001b[0;34m+\u001b[0m \u001b[0minput\u001b[0m\u001b[0;34m\u001b[0m\u001b[0;34m\u001b[0m\u001b[0m\n\u001b[0;32m--> 322\u001b[0;31m         \u001b[0;34m(\u001b[0m\u001b[0mresult\u001b[0m\u001b[0;34m,\u001b[0m \u001b[0mconsumed\u001b[0m\u001b[0;34m)\u001b[0m \u001b[0;34m=\u001b[0m \u001b[0mself\u001b[0m\u001b[0;34m.\u001b[0m\u001b[0m_buffer_decode\u001b[0m\u001b[0;34m(\u001b[0m\u001b[0mdata\u001b[0m\u001b[0;34m,\u001b[0m \u001b[0mself\u001b[0m\u001b[0;34m.\u001b[0m\u001b[0merrors\u001b[0m\u001b[0;34m,\u001b[0m \u001b[0mfinal\u001b[0m\u001b[0;34m)\u001b[0m\u001b[0;34m\u001b[0m\u001b[0;34m\u001b[0m\u001b[0m\n\u001b[0m\u001b[1;32m    323\u001b[0m         \u001b[0;31m# keep undecoded input until the next call\u001b[0m\u001b[0;34m\u001b[0m\u001b[0;34m\u001b[0m\u001b[0;34m\u001b[0m\u001b[0m\n\u001b[1;32m    324\u001b[0m         \u001b[0mself\u001b[0m\u001b[0;34m.\u001b[0m\u001b[0mbuffer\u001b[0m \u001b[0;34m=\u001b[0m \u001b[0mdata\u001b[0m\u001b[0;34m[\u001b[0m\u001b[0mconsumed\u001b[0m\u001b[0;34m:\u001b[0m\u001b[0;34m]\u001b[0m\u001b[0;34m\u001b[0m\u001b[0;34m\u001b[0m\u001b[0m\n",
      "\u001b[0;31mUnicodeDecodeError\u001b[0m: 'utf-8' codec can't decode byte 0xe1 in position 2: invalid continuation byte"
     ]
    }
   ],
   "source": [
    "print(open('../texts/literature/Lady-With-a-Dog_Chekov-KOI8R.txt', encoding='UTF-8').read())"
   ]
  },
  {
   "cell_type": "markdown",
   "metadata": {},
   "source": [
    "So I used the Python package [chardet](https://github.com/chardet/chardet) (explained in the \"Ω-Convert-to-UTF8\" notebook) to identify that it was not UTF-8 but [KOI8-R](https://en.wikipedia.org/wiki/KOI8-R), a character encoding designed for Russian in the 1990s."
   ]
  },
  {
   "cell_type": "code",
   "execution_count": 18,
   "metadata": {
    "scrolled": true,
    "tags": [
     "hide-output"
    ]
   },
   "outputs": [
    {
     "name": "stdout",
     "output_type": "stream",
     "text": [
      " \u0014Антон Павлович Чехов. Дама с собачкой\u0015\n",
      "\n",
      "\n",
      "\n",
      " \u00141\u0015\n",
      "\n",
      "\n",
      " Говорили, что на набережной появилось новое лицо: дама с собачкой. Дмитрий Дмитрич Гуров, проживший в Ялте уже две недели и привыкший тут, тоже стал интересоваться новыми лицами. Сидя в павильоне у Верне, он видел, как по набережной прошла молодая дама, невысокого роста блондинка, в берете; за нею бежал белый шпиц.\n",
      " И потом он встречал ее в городском саду и на сквере, по нескольку раз в день.\n",
      " Она гуляла одна, все в том же берете, с белым шпицем; никто не знал, кто она, и называли ее просто так: дама с собачкой.\n",
      " \"Если она здесь без мужа и без знакомых\", - соображал Гуров, - то было бы не лишнее познакомиться с ней\".\n",
      " Ему не было еще сорока, но у него была уже дочь двенадцати лет и два сына гимназиста. Его женили рано, когда он был еще студентом второго курса, и теперь жена казалась в полтора раза старше его. Это была женщина высокая, с темными бровями, прямая, важная, солидная и, как она сама себя называла, мыслящая. Она много читала, не писала в письмах \"ъ\", называла мужа не Дмитрием, а Димитрием, а он втайне считал ее недалекой, узкой, неизящной, боялся ее и не любил бывать дома. Изменять ей он начал уже давно, изменял часто и, вероятно, поэтому о женщинах отзывался почти всегда дурно, и когда в его присутствии говорили о них, то он называл их так:\n",
      " - Низшая раса!\n",
      " Ему казалось, что он достаточно научен горьким опытом, чтобы называть их как угодно, но все же без \"низшей расы\" он не мог бы прожить и двух дней. В обществе мужчин ему было скучно, не по себе, с ними он был неразговорчив, холоден, но когда находился среди женщин, то чувствовал себя свободно и знал, о чем говорить с ними и как держать себя; и даже молчать с ними ему было легко. В его наружности, в характере, во всей его натуре было что-то привлекательное, неуловимое, что располагало к нему женщин, манило их; он знал об этом, и самого его тоже какая-то сила влекла к ним.\n",
      " Опыт многократный, в самом деле горький опыт, научил его давно, что всякое сближение, которое вначале так приятно разнообразит жизнь и представляется милым и легким приключением, у порядочных людей, особенно у москвичей, тяжелых на подъем, нерешительных, неизбежно вырастает в целую задачу, сложную чрезвычайно, и положение в конце концов становится тягостным. Но при всякой новой встрече с интересною женщиной, этот опыт как-то ускользал из памяти, и хотелось жить, и все казалось так просто и забавно.\n",
      " И вот однажды, под вечер, он обедал в саду, а дама в берете подходила не спеша, чтобы занять соседний стол. Ее выражение, походка, платье, прическа говорили ему, что она из порядочного общества, замужем, в Ялте в первый раз и одна, что ей скучно здесь... В рассказах о нечистоте местных нравов много неправды, он презирал их и знал, что такие рассказы в большинстве сочиняются людьми, которые сами бы охотно грешили, если б умели; но когда дама села за соседний стол в трех шагах от него, ему вспомнились эти рассказы о легких победах, о поездках в горы, и соблазнительная мысль о скорой, мимолетной связи, о романе с неизвестною женщиной, которой не знаешь по имени и фамилии, вдруг овладела им. Он ласково поманил к себе шпица и, когда тот подошел, погрозил ему пальцем. Шпиц заворчал. Гуров опять погрозил.\n",
      " Дама взглянула на него и тотчас же опустила глаза.\n",
      " - Он не кусается, - сказала она и покраснела.\n",
      " - Можно дать ему кость? - и когда она утвердительно кивнула головой, он спросил приветливо: - Вы давно изволили приехать в Ялту?\n",
      " - Дней пять.\n",
      " - А я уже дотягиваю здесь вторую неделю.\n",
      " Помолчали немного.\n",
      " - Время идет быстро, а между тем здесь такая скука! - сказала она, не глядя на него.\n",
      " - Это только принято говорить, что здесь скучно. Обыватель живет у себя где-нибудь в Белеве или Жиздре - и ему не скучно, а приедет сюда: \"Ах, скучно! ах, пыль!\" Подумаешь, что он из Гренады приехал.\n",
      " Она засмеялась. Потом оба продолжали есть молча, как незнакомые; но после обеда пошли рядом - и начался шутливый, легкий разговор людей свободных, довольных, которым все равно, куда бы ни идти, о чем ни говорить. Они гуляли и говорили о том, как странно освещено море; вода была сиреневого цвета, такого мягкого и теплого, и по ней от луны шла золотая полоса. Говорили о том, как душно после жаркого дня. Гуров рассказал, что он москвич, по образованию филолог, но служит в банке; готовился когда-то петь в частной опере, но бросил, имеет в Москве два дома... А от нее он узнал, что она выросла в Петербурге, но вышла замуж в С., где живет уже два года, что пробудет она в Ялте еще с месяц и за ней, быть может, приедет ее муж, которому тоже хочется отдохнуть. Она никак не могла объяснить, где служит ее муж, - в губернском правлении или в губернской земской управе, и это ей самой было смешно. И узнал еще Гуров, что ее зовут Анной Сергеевной.\n",
      " Потом у себя в номере он думал о ней, о том, что завтра она, наверное, встретится с ним. Так должно быть. Ложась спать, он вспомнил, что она еще так недавно была институткой, училась все равно как теперь его дочь, вспомнил, сколько еще несмелости, угловатости было в ее смехе, в разговоре с незнакомым, - должно быть, это первый раз в жизни она была одна, в такой обстановке, когда за ней ходят и на нее смотрят, и говорят с ней только с одною тайною целью, о которой она не может не догадываться. Вспомнил он ее тонкую, слабую шею, красивые серые глаза.\n",
      " \"Что-то в ней есть жалкое все-таки\", - подумал он и стал засыпать.\n",
      "\n",
      "\n",
      " \u00142\u0015\n",
      "\n",
      "\n",
      " Прошла неделя после знакомства. Был праздничный день. В комнатах было душно, а на улицах вихрем носилась пыль, срывало шляпы. Весь день хотелось пить, и Гуров часто заходил в павильон и предлагал Анне Сергеевне то воды с сиропом, то мороженого. Некуда было деваться.\n",
      " Вечером, когда немного утихло, они пошли на мол, чтобы посмотреть, как придет пароход. На пристани было много гуляющих; собрались встречать кого-то, держали букеты. И тут отчетливо бросались в глаза две особенности нарядной ялтинской толпы: пожилые дамы были одеты как молодые и было много генералов.\n",
      " По случаю волнения на море пароход пришел поздно, когда уже село солнце, и, прежде чем пристать к молу, долго поворачивался. Анна Сергеевна смотрела в лорнетку на пароход и на пассажиров, как бы отыскивая знакомых, и когда обращалась к Гурову, то глаза у нее блестели. Она много говорила, и вопросы у нее были отрывисты, и она сама тотчас же забывала, о чем спрашивала; потом потеряла в толпе лорнетку.\n",
      " Нарядная толпа расходилась, уже не было видно лиц, ветер стих совсем, а Гуров и Анна Сергеевна стояли, точно ожидая, не сойдет ли еще кто с парохода. Анна Сергеевна уже молчала и нюхала цветы, не глядя на Гурова.\n",
      " - Погода к вечеру стала получше, - сказал он. - Куда же мы теперь пойдем? Не поехать ли нам куда-нибудь?\n",
      " Она ничего не ответила.\n",
      " Тогда он пристально посмотрел на нее и вдруг обнял ее и поцеловал в губы, и его обдало запахом и влагой цветов, и тотчас же он пугливо огляделся: не видел ли кто?\n",
      " - Пойдемте к вам... - проговорил он тихо.\n",
      " И оба пошли быстро.\n",
      " У нее в номере было душно, пахло духами, которые она купила в японском магазине. Гуров, глядя на не теперь, думал: \"Каких только не бывает в жизни встреч!\" От прошлого у него сохранилось воспоминание о беззаботных, добродушных женщинах, веселых от любви, благодарных ему за счастье, хотя бы очень короткое; и о таких, - как, например, его жена, - которые любили без искренности, с излишними разговорами, манерно, с истерией, с таким выражением, как будто то была не любовь, не страсть, а что-то более значительное; и о таких двух-трех, очень красивых, холодных, у которых вдруг промелькало на лице хищное выражение, упрямое желание взять, выхватить у жизни больше, чем она может дать, и это были не первой молодости, капризные, не рассуждающие, властные, не умные женщины, и когда Гуров охладевал к ним, то красота их возбуждала в нем ненависть, и кружева на их белье казались тогда похожими на чешую.\n",
      " Но тут все та же несмелость, угловатость неопытной молодости, неловкое чувство; и было впечатление растерянности, как будто кто вдруг постучал в дверь. Анна Сергеевна, эта \"дама с собачкой\", к тому, что произошло, отнеслась как-то особенно, очень серьезно, точно к своему падению, - так казалось, и это было странно и некстати. У нее опустились, завяли черты и по сторонам лица печально висели длинные волосы, она задумалась в унылой позе, точно грешница на старинной картине.\n",
      " - Нехорошо, - сказала она. - Вы же первый меня не уважаете теперь.\n",
      " На столе в номере был арбуз. Гуров отрезал себе ломоть и стал есть не спеша. Прошло по крайней мере полчаса в молчании.\n",
      " Анна Сергеевна была трогательна, от нее веяло чистотой порядочной, наивной, мало жившей женщины; одинокая свеча, горевшая на столе, едва освещала ее лицо, но было видно, что у нее нехорошо на душе.\n",
      " - Отчего бы я мог перестать уважать тебя? - спросил Гуров. - Ты сама не знаешь, что говоришь.\n",
      " - Пусть бог меня простит! - сказала она, и глаза у нее наполнились слезами. - Это ужасно.\n",
      " - Ты точно оправдываешься.\n",
      " - Чем мне оправдаться? Я дурная, низкая женщина, я себя презираю и об оправдании не думаю. Я не мужа обманула, а самое себя. И не сейчас только, а уже давно обманываю. Мой муж, быть может, честный, хороший человек, но ведь он лакей! Я не знаю, что он делает там, как служит, я знаю только, что он лакей. Мне, когда я вышла за него, было двадцать лет, меня томило любопытство, мне хотелось чего-нибудь получше; ведь есть же, - говорила я себе, - другая жизнь. Хотелось пожить! Пожить и пожить... Любопытство меня жгло... вы этого не понимаете, но, клянусь богом, я уже не могла владеть собой, со мной что-то делалось, меня нельзя было удержать, я сказала мужу, что больна, и поехала сюда... И здесь все ходила, как в угаре, как безумная... и вот я стала пошлой, дрянной женщиной, которую всякий может презирать.\n",
      " Гурову было уже скучно слушать, его раздражал наивный тон, это покаяние, такое неожиданное и неуместное; если бы не слезы на глазах, то можно было бы подумать, что она шутит или играет роль.\n",
      " - Я не понимаю, - сказал он тихо, - что же ты хочешь?\n",
      " Она спрятала голову у него на груди и прижалась к нему.\n",
      " - Верьте, верьте мне, умоляю вас... - говорила она. - Я люблю честную, чистую жизнь, а грех мне гадок, я сама не знаю, что делаю. Простые люди говорят: нечистый попутал. И я могу теперь про себя сказать, что меня попутал нечистый.\n",
      " - Полно, полно... - бормотал он.\n",
      " Он смотрел ей в неподвижные, испуганные глаза, целовал ее, говорил тихо и ласково, и она понемногу успокоилась, и веселость вернулась к ней; стали оба смеяться.\n",
      " Потом, когда они вышли, на набережной не было ни души, город со своими кипарисами имел совсем мертвый вид, но море еще шумело и билось о берег; один баркас качался на волнах, и на нем сонно мерцал фонарик. Нашли извозчика и поехали в Ореанду.\n",
      " - Я сейчас внизу в передней узнал твою фамилию: на доске написано фон Дидериц, - сказал Гуров. - Твой муж немец??\n",
      " - Нет, у него, кажется, дед был немец, но сам он православный.\n",
      " В Ореанде сидели на скамье, недалеко от церкви, смотрели вниз на море и молчали. Ялта была едва видна сквозь утренний туман, на вершинах гор неподвижно стояли белые облака. Листва не шевелилась на деревьях, кричали цикады и однообразный, глухой шум моря, доносившийся снизу, говорил о покое, о вечном сне, какой ожидает нас. Так шумело внизу, когда еще тут не было ни Ялты, ни Ореанды, теперь шумит и будет шуметь так же равнодушно и глухо, когда нас не будет. И в этом постоянстве, в полном равнодушии к жизни и смерти каждого из нас кроется, быть может, залог нашего вечного спасения, непрерывного движения жизни на земле, непрерывного совершенства.\n",
      " Сидя рядом с молодой женщиной, которая на рассвете казалась такой красивой, успокоенный и очарованный в виду этой сказочной обстановки - моря, гор, облаков, широкого неба, Гуров думал о том, как, в сущности, если вдуматься, все прекрасно на этом свете, все, кроме того, что мы сами мыслим и делаем, когда забываем о высших целях бытия, о своем человеческом достоинстве.\n",
      " Подошел какой-то человек - должно быть, сторож, - посмотрел на них и ушел. И эта подробность показалась такой таинственной и тоже красивой. Видно было, как пришел пароход из Феодосии, освещенный утренней зарей, уже без огней.\n",
      " - Роса на траве, - сказала Анна Сергеевна после молчания.\n",
      " - Да. Пора домой.\n",
      " Они вернулись в город.\n",
      " Потом каждый полдень они встречались на набережной, завтракали вместе, обедали, гуляли, восхищались морем. Она жаловалась, что дурно спит и что у нее тревожно бьется сердце, задавала все одни и те же вопросы, волнуемая то ревностью, то страхом, что он недостаточно ее уважает. И часто на сквере в саду, когда вблизи их никого не было, он вдруг привлекал ее к себе и целовал страстно. Совершенная праздность, эти поцелуи среди белого дня, с оглядкой и страхом, как бы кто не увидел, жара, запах моря и постоянное мелькание перед глазами праздных, нарядных, сытых людей точно переродили его: он говорил Анне Сергеевне о том, как она хороша, как соблазнительна, был нетерпеливо страстен, не отходил от нее ни на шаг, а она часто задумывалась и все просила его сознаться, что он ее не уважает, нисколько не любит, а только видит в ней пошлую женщину. Почти каждый вечер попозже они уезжали куда-нибудь за город, в Ореанду или на водопад; и прогулка удавалась, впечатления неизменно всякий раз были прекрасны, величавы. Ждали, что приедет муж. Но пришло от него письмо, в котором он извещал, что у него разболелись глаза, и умолял жену поскорее вернуться домой. Анна Сергеевна заторопилась.\n",
      " - Это хорошо, что я уезжаю, - говорила она Гурову. - Это сама судьба. Она поехала на лошадях, и он провожал ее. Ехали целый день. Когда она садилась в вагон курьерского поезда и когда пробил второй звонок, она говорила:\n",
      " - Дайте я погляжу на вас еще... Погляжу еще раз. Вот так.\n",
      " Она не плакала, но была грустна, точно больна, и лицо у нее дрожало. - Я буду о вас думать... вспоминать, - говорила она. - Господь с вами, оставайтесь. Не поминайте лихом. Мы навсегда прощаемся, это так нужно, потому что не следовало бы вовсе встречаться. Ну, господь с вами.\n",
      " Поезд ушел быстро, его огни скоро исчезли, и через минуту уже не было слышно шума, точно все сговорилось нарочно, чтобы прекратить поскорее это сладкое забытье, это безумие. И, оставшись один на платформе и глядя в темную даль, Гуров слушал крик кузнечиков и гудение телеграфных проволок с таким чувством, как будто только что проснулся. И он думал о том, что вот в его жизни было еще одно похождение или приключение, и оно тоже уже кончилось, и осталось теперь воспоминание... Он был растроган, грустен и испытывал легкое раскаяние; ведь эта молодая женщина, с которой он больше уже никогда не увидится, не была с ним счастлива; он был приветлив с ней и сердечен, но все же в обращении с ней, в его тоне и ласках сквозила тенью легкая насмешка, грубоватое высокомерие счастливого мужчины, который к тому же почти вдвое старше ее. Все время она называла его добрым, необыкновенным, возвышенным; очевидно, он казался ей не тем, чем был на самом деле, значит невольно обманывал ее...\n",
      " Здесь на станции уже пахло осенью, вечер был прохладный.\n",
      " \"Пора и мне на север, - думал Гуров, уходя с платформы. - Пора!\"\n",
      "\n",
      "\n",
      "\n",
      " \u00143\u0015\n",
      "\n",
      "\n",
      " Дома в Москве уже все было по-зимнему, топили печи и по утрам, когда дети собирались в гимназию и пили чай, было темно, и няня ненадолго зажигала огонь. Уже начались морозы. Когда идет первый снег, в первый день езды на санях, приятно видеть белую землю, белые крыши, дышится мягко, славно, и в это время вспоминаются юные годы. У старых лип и берез, белых от инея, добродушное выражение, они ближе к сердцу, чем кипарисы и пальмы, и вблизи них уже не хочется думать о горах и море.\n",
      " Гуров был москвич, вернулся он в Москву в хороший, морозный день, и когда надел шубу и теплые перчатки и прошелся по Петровке и когда в субботу вечером услышал звон колоколов, то недавняя поездка и места, в которых он был, утеряли для него все очарование. Мало-помалу он окунулся в московскую жизнь, уже с жадностью прочитывал по три газеты в день и говорил, что не читает московских газет из принципа. Его уже тянуло в рестораны, клубы, на званые обеды, юбилеи, и уже ему было лестно, что у него бывают известные адвокаты и артисты и что в Докторском клубе он играет в карты с профессором. Уже он мог съесть целую порцию селянки на сковороде...\n",
      " Пройдет какой-нибудь месяц, и Анна Сергеевна, казалось ему, покроется в памяти туманом и только изредка будет сниться с трогательной улыбкой, как снились другие. Но прошло больше месяца, наступила глубокая зима, а в памяти все было ясно, точно расстался он с Анной Сергеевной только вчера. И воспоминания разгорались все сильнее. Доносились ли в вечерней тишине в его кабинет голоса детей, приготовлявших уроки, слышал ли он романс, или орган в ресторане, или завывала в камине метель, как вдруг воскресало в памяти все: и то, что было на молу, и раннее утро с туманом на горах, и пароход из Феодосии, и поцелуи. Он долго ходил по комнате, и вспоминал, и улыбался, и потом воспоминания переходили в мечты, и прошедшее в воображении мешалось с тем, что будет. Анна Сергеевна не снилась ему, а шла за ним всюду, как тень, и следила за ним. Закрывши глаза, он видел ее, как живую, и она казалась красивее, моложе, нежнее, чем была; и сам он казался себе лучше, чем был тогда, в Ялте. Она по вечерам глядела на него из книжного шкафа, из камина, из угла, он слышал ее дыхание, ласковый шорох ее одежды. На улице он провожал взглядом женщин, искал, нет ли похожей на нее... И уже томило сильное желание поделиться с кем-нибудь своими воспоминаниями. Но дома нельзя было говорить о своей любви, а вне дома - не с кем. Не с жильцами же и не в банке. И о чем говорить? Разве он любил тогда? Разве было что-нибудь красивое, поэтическое, или поучительное, или просто интересное в его отношениях к Анне Сергеевне? И приходилось говорить неопределенно о любви, о женщинах, и никто не догадывался, в чем дело, и только жена шевелила своими темными бровями и говорила:\n",
      " - Тебе, Димитрий, совсем не идет роль фата.\n",
      " Однажды ночью, выходя из Докторского клуба со своим партнером, чиновником, он не удержался и сказал:\n",
      " - Если б вы знали, с какой очаровательной женщиной я познакомился в Ялте!\n",
      " Чиновник сел в сани и поехал, но вдруг обернулся и окликнул:\n",
      " - Дмитрий Дмитрич!\n",
      " - Что?\n",
      " - А давеча вы были правы: осетрина-то с душком!\n",
      " Эти слова, такие обычные, почему-то вдруг возмутили Гурова, показались ему унизительными, нечистыми. Какие дикие нравы, какие лица! Что за бестолковые ночи, какие неинтересные, незаметные дни! Неистовая игра в карты, обжорство, пьянство, постоянные разговоры все об одном. Ненужные дела и разговоры все об одном охватывают на свою долю лучшую часть времени, лучшие силы, и в конце концов остается какая-то куцая, бескрылая жизнь, какая-то чепуха, и уйти и бежать нельзя, точно сидишь в сумасшедшем доме или в арестантских ротах! Гуров не спал всю ночь и возмущался, и затем весь день провел с головной болью. И в следующие ночи он спал дурно, все сидел в постели и думал или ходил из угла в угол. Дети ему надоели, банк надоел, не хотелось никуда идти, ни о чем говорить.\n",
      " В декабре на праздниках он собрался в дорогу и сказал жене, что уезжает в Петербург хлопотать за одного молодого человека - и уехал в С. Зачем? Он и сам не знал хорошо. Ему хотелось повидаться с Анной Сергеевной и поговорить, устроить свидание, если можно.\n",
      " Приехал он в С. утром и занял в гостинице лучший номер, где весь пол был обтянут серым солдатским сукном, и была на столе чернильница, серая от пыли, со всадником на лошади, у которого была поднята рука со шляпой, а голова отбита. Швейцар дал ему нужные сведения: фон Дидериц живет на Старо-Гончарной улице, в собственном доме, - это недалеко от гостиницы, живет хорошо, богато, имеет своих лошадей, его все знают в городе. Швейцар выговаривал так: Дрыдыриц. Гуров не спеша пошел на Старо-Гончарную, отыскал дом. Как раз против дома тянулся забор, серый, длинный, с гвоздями.\n",
      " \"От такого забора убежишь\", - думал Гуров, поглядывая то на окна, то на забор.\n",
      " Он соображал: сегодня день неприсутственный, и муж, вероятно, дома. Да и все равно, было бы бестактно войти в дом и смутить. Если же послать записку, то она, пожалуй, попадет в руки мужу, и тогда все можно испортить. Лучше всего положиться на случай. И он все ходил по улице и около забора и поджидал этого случая. Он видел, как в ворота вошел нищий и на него напали собаки, потом, час спустя, слышал игру на рояле, и звуки доносились слабые, неясные. Должно быть, Анна Сергеевна играла. Парадная дверь вдруг отворилась и из нее вышла какая-то старушка, а за нею бежал знакомый шпиц. Гуров хотел позвать собаку, но у него вдруг забилось сердце, и он от волнения не мог вспомнить, как зовут шпица. Он ходил, и все больше и больше ненавидел серый забор, и уже думал с раздражением, что Анна Сергеевна забыла о нем и, быть может, уже развлекается с другим, и это так естественно в положении молодой женщины, которая вынуждена с утра до вечера видеть этот проклятый забор. Он вернулся к себе в номер и долго сидел на диване, не зная, что делать, потом обедал, потом долго спал. \"Как все это глупо и беспокойно, - думал он, проснувшись и глядя на темные окна: был уже вечер. - Вот и выспался зачем-то. Что же я теперь ночью буду делать?\"\n",
      " Он сидел на постели, покрытой дешевым серым, точно больничным, одеялом, и дразнил себя с досадой:\n",
      " \"Вот тебе и дама с собачкой... Вот тебе и приключение... Вот и сиди тут\".\n",
      " Еще утром, на вокзале, ему бросилась в глаза афиша с очень крупными буквами: шла в первый раз \"Гейша\". Он вспомнил об этом и поехал в театр.\n",
      " \"Очень возможно, что она бывает на первых представлениях\", - думал он.\n",
      " Театр был полон. И тут, как вообще во всех губернских театрах, был туман повыше люстры, шумно беспокоилась галерка; в первом ряду перед началом представления стояли местные франты, заложив руки назад; и тут, в губернаторской ложе, на первом месте сидела губернаторская дочь в боа, а сам губернатор скромно прятался за портьерой, и видны были только его руки; качался занавес, оркестр долго настраивался. Все время, пока публика входила и занимала места, Гуров жадно искал глазами.\n",
      " Вошла и Анна Сергеевна. Она села в третьем ряду, и когда Гуров взглянул на нее, то сердце у него сжалось, и он понял ясно, что для него теперь на всем свете нет ближе, дороже и важнее человека; она, затерявшаяся в провинциальной толпе, эта маленькая женщина, ничем не замечательная, с вульгарною лорнеткой в руках, наполняла теперь всю его жизнь, была его горем, радостью, единственным счастьем, какого он теперь желал для себя; и под звуки плохого оркестра, дрянных обывательских скрипок, он думал о том, как она хороша. Думал и мечтал. Вместе с Анной Сергеевной вошел и сел рядом молодой человек с небольшими бакенами, очень высокий, сутулый; он при каждом шаге покачивал головой и, казалось, постоянно кланялся. Вероятно, это был муж, которого она тогда в Ялте, в порыве горького чувства, обозвала лакеем. И в самом деле, в его длинной фигуре, в бакенах, в небольшой лысине было что-то лакейски-скромное, улыбался он сладко, и в петлице у него блестел какой-то ученый значок, точно лакейский номер.\n",
      " В первом антракте муж ушел курить, она осталась в кресле. Гуров, сидевший тоже в партере, подошел к ней и сказал дрожащим голосом, улыбаясь насильно:\n",
      " - Здравствуйте.\n",
      " Она взглянула на него и побледнела, потом еще раз взглянула с ужасом, не веря глазам, и крепко сжала в руках вместе веер и лорнетку, очевидно борясь с собой, чтобы не упасть в обморок. Оба молчали. Она сидела, он стоял, испуганный ее смущением, не решаясь сесть рядом. Запели настраиваемые скрипки и флейта, стало вдруг страшно, казалось, что из всех лож смотрят. Но вот она встала и быстро пошла к выходу; он - за ней, и оба шли бестолково, по коридорам, по лестницам, то поднимаясь, то спускаясь, и мелькали у них перед глазами какие-то люди в судейских, учительских и удельных мундирах, и все со значками; мелькали дамы, шубы на вешалках, дул сквозной ветер, обдавая запахом табачных окурков. И Гуров, у которого сильно билось сердце, думал: \"О, господи! И к чему эти люди, этот оркестр...\"\n",
      " И в эту минуту он вдруг вспомнил: как тогда вечером на станции, проводив Анну Сергеевну, говорил себе, что все кончилось и они уже никогда не увидятся. Но как еще далеко было до конца! На узкой, мрачной лестнице, где было написано \"ход в амфитеатр\", она остановилась.\n",
      " - Как вы меня испугали! - сказала она, тяжело дыша, все еще бледная, ошеломленная. - О, как вы меня испугали! Я едва жива. Зачем вы приехали? Зачем?\n",
      " - Но поймите, Анна, поймите... - проговорил он вполголоса, торопясь. - Умоляю вас, поймите...\n",
      " Она глядела на него со страхом, с мольбой, с любовью, глядела пристально, чтобы покрепче задержать в памяти его черты.\n",
      " - Я так страдаю! - продолжала она, не слушая его. - Я все время думала только о вас, я жила мыслями о вас. И мне хотелось забыть, забыть, но зачем, зачем вы приехали?\n",
      " Повыше, на площадке, два гимназиста курили и смотрели вниз, но Гурову было все равно, он привлек к себе Анну Сергеевну и стал целовать ее лицо, щеки, руки.\n",
      " - Что вы делаете, что вы делаете! - говорила она в ужасе, отстраняя его от себя. - Мы с вами обезумели. Уезжайте сегодня же, уезжайте сейчас... Заклинаю вас всем святым, умоляю... Сюда идут!\n",
      " По лестнице снизу вверх кто-то шел.\n",
      " - Вы должны уехать... - продолжала Анна Сергеевна шепотом. - Слышите, Дмитрий Дмитрич. Я приеду к вам в Москву. Я никогда не была счастлива, я теперь несчастна и никогда, никогда не буду счастлива, никогда! Не заставляйте же меня страдать еще больше! Клянусь, я приеду в Москву. А теперь расстанемся! Мой милый, добрый, дорогой мой, расстанемся!\n",
      " Она пожала ему руку и стала быстро спускаться вниз, все оглядываясь на него, и по глазам ее было видно, что она в самом деле не была счастлива... Гуров постоял немного, прислушался, потом, когда все утихло, отыскал свою вешалку и ушел из театра.\n",
      "\n",
      "\n",
      " \u00144\u0015\n",
      "\n",
      "\n",
      " И Анна Сергеевна стала приезжать к нему в Москву. Раз в два-три месяца она уезжала из С. и говорила мужу, что едет посоветоваться с профессором насчет своей женской болезни, - и муж верил и не верил. Приехав в Москву, она останавливалась в \"Славянском базаре\" и тотчас же посылала к Гурову человека в красной шапке. Гуров ходил к ней, и никто в Москве не знал об этом. Однажды он шел к ней таким образом в зимнее утро (посыльный был у него накануне вечером и не застал). С ним шла его дочь, которую хотелось ему проводить в гимназию, это было по дороге. Валил крупный мокрый снег.\n",
      " - Теперь на три градуса теплее, а между тем идет снег, - говорил Гуров дочери.\n",
      " - Но ведь это тепло только на поверхности земли, в верхних же слоях атмосферы совсем другая температура.\n",
      " - Папа, а почему зимой не бывает грома?\n",
      " Он объяснил и это. Он говорил и думал о том, что вот он идет на свидание, и ни одна живая душа не знает об этом и, вероятно, никогда не будет знать. У него были две жизни: одна явная, которую видели и знали все, кому это нужно было, полная условной правды и условного обмана, похожая совершенно на жизнь его знакомых и друзей, и другая - протекавшая тайно. И по какому-то странному стечению обстоятельств, быть может случайному, все, что было для него важно, интересно, необходимо, в чем он был искренен и не обманывал себя, что составляло зерно его жизни, происходило тайно от других, все же, что было его ложью, его оболочкой, в которую он прятался, чтобы скрыть правду, как, например, его служба в банке, споры в клубе, его \"низшая раса\", хождение с женой на юбилеи, - все это было явно. И по себе он судил о других, не верил тому, что видел, и всегда предполагал, что у каждого человека под покровом тайны, как под покровом ночи, проходит его настоящая, самая интересная жизнь. Каждое личное существование держится на тайне, и, быть может, отчасти поэтому культурный человек так нервно хлопочет о том, чтобы уважалась личная тайна.\n",
      " Проводив дочь в гимназию, Гуров отправился в \"Славянский базар\". Он снял шубу внизу, поднялся наверх и тихо постучал в дверь. Анна Сергеевна, одетая в его любимое серое платье, утомленная дорогой и ожиданием, поджидала его со вчерашнего вечера; она была бледна, глядела на него и не улыбалась, и едва он вошел, как она уже припала к его груди. Точно они не виделись года два, поцелуй их был долгий, длительный.\n",
      " - Ну, как живешь там? - спросил он. - Что нового?\n",
      " - Погоди, сейчас скажу... Не могу.\n",
      " Она не могла говорить, так как плакала. Отвернулась от него и прижала платок к глазам.\n",
      " \"Ну, пуская поплачет, а я пока посижу\", - подумал он и сел в кресло. Потом он позвонил и сказал, чтобы ему принесли чаю; и потом, когда пил чай, она все стояла, отвернувшись к окну... Она плакала от волнения, от скорбного сознания, что их жизнь так печально сложилась; они видятся только тайно, скрываются от людей, как воры! Разве жизнь их не разбита?\n",
      " - Ну, перестань! - сказал он.\n",
      " Для него было очевидно, что эта их любовь кончится еще не скоро, неизвестно когда. Анна Сергеевна привязывалась к нему все сильнее, обожала его, и было бы немыслимо сказать ей, что все это должно же иметь когда-нибудь конец; да она бы и не поверила этому.\n",
      " Он подошел к ней и взял ее за плечи, чтобы приласкать, пошутить, и в это время увидел себя в зеркале.\n",
      " Голова его уже начинала седеть. И ему показалось странным, что он так постарел за последние годы, так подурнел. Плечи, на которых лежали его руки, были теплы и вздрагивали. Он почувствовал сострадание к этой жизни, еще такой теплой и красивой, но, вероятно, уже близкой к тому, чтобы начать блекнуть и вянуть, как его жизнь. За что она его любит так? Он всегда казался женщинам не тем, кем был, и любили в нем не его самого, а человека, которого создавало их воображение и которого они в своей жизни жадно искали; и потом, когда замечали свою ошибку, то все-таки любили. И ни одна из них не была с ним счастлива. Время шло, он знакомился, сходился, расставался, но ни разу не любил; было вес, что угодно, но только не любовь.\n",
      " И только теперь, когда у него голова стала седой, он полюбил как следует, по-настоящему - первый раз в жизни.\n",
      " Анна Сергеевна и он любили друг друга, как очень близкие, родные люди, как муж и жена, как нежные друзья; им казалось, что сама судьба предназначила их друг для друга, и было непонятно, для чего он женат, а она замужем; и точно это были две перелетные птицы, самец и самка, которых поймали и заставили жить в отдельных клетках. Они простили друг другу то, чего стыдились в своем прошлом, прощали все в настоящем и чувствовали, что эта их любовь изменила их обоих. Прежде в грустные минуты он успокаивал себя всякими рассуждениями, какие только приходили ему в голову, теперь же ему было не до рассуждений, он чувствовал глубокое сострадание, хотелось быть искренним, нежным...\n",
      " - Перестань, моя хорошая, - говорил он, - поплакала - и будет... Теперь давай поговорим, что-нибудь придумаем.\n",
      " Потом они долго советовались, говорили о том, как избавить себя от необходимости прятаться, обманывать, жить в разных городах, не видеться подолгу. Как освободиться от этих невыносимых пут?\n",
      " - Как? Как? - спрашивал он, хватая себя за голову. - Как?\n",
      " И казалось, что еще немного - и решение будет найдено, и тогда начнется новая, прекрасная жизнь; и обоим было ясно, что до конца еще далеко-далеко и что самое сложное и трудное только еще начинается.\n",
      "\n",
      " Идея, компиляция, дизайн, разметка,\n",
      " форматирование и отдельное сканирование\n",
      " (c) Русские Тексты, 1996 - 2000\n",
      " Все тексты и изображения являются\n",
      " собственностью их владельцев\n",
      "\n",
      " Idea, compilation, design, layout,\n",
      " formatting and occasional OCR\n",
      " (c) Russian Texts, 1996 - 2000\n",
      " All texts and images (c) their respective owners\n",
      "\n",
      "\n"
     ]
    }
   ],
   "source": [
    "print(open('../texts/literature/Lady-With-a-Dog_Chekov-KOI8R.txt', encoding='KOI8-R').read())"
   ]
  },
  {
   "cell_type": "markdown",
   "metadata": {},
   "source": [
    "So with the right encoding, we can count the most frequent words in the Russian-language version of \"Lady with a Dog\"! But what do you notice as potential issues when running this script on a non-English language?"
   ]
  },
  {
   "cell_type": "code",
   "execution_count": 21,
   "metadata": {
    "scrolled": true
   },
   "outputs": [
    {
     "data": {
      "text/plain": [
       "[('и', 291),\n",
       " ('в', 178),\n",
       " ('он', 107),\n",
       " ('не', 104),\n",
       " ('на', 89),\n",
       " ('что', 80),\n",
       " ('с', 68),\n",
       " ('она', 68),\n",
       " ('как', 55),\n",
       " ('было', 50),\n",
       " ('все', 47),\n",
       " ('его', 45),\n",
       " ('о', 43),\n",
       " ('то', 42),\n",
       " ('к', 34),\n",
       " ('у', 32),\n",
       " ('уже', 31),\n",
       " ('но', 31),\n",
       " ('когда', 31),\n",
       " ('я', 31),\n",
       " ('гуров', 28),\n",
       " ('него', 28),\n",
       " ('а', 28),\n",
       " ('ее', 26),\n",
       " ('это', 26),\n",
       " ('по', 24),\n",
       " ('же', 24),\n",
       " ('ему', 24),\n",
       " ('еще', 22),\n",
       " ('был', 22),\n",
       " ('от', 22),\n",
       " ('так', 20),\n",
       " ('за', 18),\n",
       " ('была', 18),\n",
       " ('теперь', 18),\n",
       " ('только', 18),\n",
       " ('анна', 18),\n",
       " ('из', 17),\n",
       " ('сергеевна', 17),\n",
       " ('потом', 16)]"
      ]
     },
     "execution_count": 21,
     "metadata": {},
     "output_type": "execute_result"
    }
   ],
   "source": [
    "import re\n",
    "from collections import Counter\n",
    "\n",
    "def split_into_words(any_chunk_of_text):\n",
    "    lowercase_text = any_chunk_of_text.lower()\n",
    "    split_words = re.split(\"\\W+\", lowercase_text)\n",
    "    return split_words\n",
    "\n",
    "filepath_of_text = '../texts/literature/Lady-With-a-Dog_Chekov-KOI8R.txt'\n",
    "number_of_desired_words = 40\n",
    "\n",
    "stopwords = ['i', 'me', 'my', 'myself', 'we', 'our', 'ours', 'ourselves', 'you', 'your', 'yours',\n",
    " 'yourself', 'yourselves', 'he', 'him', 'his', 'himself', 'she', 'her', 'hers',\n",
    " 'herself', 'it', 'its', 'itself', 'they', 'them', 'their', 'theirs', 'themselves',\n",
    " 'what', 'which', 'who', 'whom', 'this', 'that', 'these', 'those', 'am', 'is', 'are',\n",
    " 'was', 'were', 'be', 'been', 'being', 'have', 'has', 'had', 'having', 'do', 'does',\n",
    " 'did', 'doing', 'a', 'an', 'the', 'and', 'but', 'if', 'or', 'because', 'as', 'until',\n",
    " 'while', 'of', 'at', 'by', 'for', 'with', 'about', 'against', 'between', 'into',\n",
    " 'through', 'during', 'before', 'after', 'above', 'below', 'to', 'from', 'up', 'down',\n",
    " 'in', 'out', 'on', 'off', 'over', 'under', 'again', 'further', 'then', 'once', 'here',\n",
    " 'there', 'when', 'where', 'why', 'how', 'all', 'any', 'both', 'each', 'few', 'more',\n",
    " 'most', 'other', 'some', 'such', 'no', 'nor', 'not', 'only', 'own', 'same', 'so',\n",
    " 'than', 'too', 'very', 's', 't', 'can', 'will', 'just', 'don', 'should', 'now', 've', 'll', 'amp']\n",
    "\n",
    "full_text = open(filepath_of_text, encoding='KOI8-R').read()\n",
    "\n",
    "all_the_words = split_into_words(full_text)\n",
    "meaningful_words = [word for word in all_the_words if word not in stopwords]\n",
    "meaningful_words_tally = Counter(meaningful_words)\n",
    "most_frequent_meaningful_words = meaningful_words_tally.most_common(number_of_desired_words)\n",
    "\n",
    "most_frequent_meaningful_words"
   ]
  },
  {
   "cell_type": "markdown",
   "metadata": {},
   "source": [
    "## Advanced"
   ]
  },
  {
   "cell_type": "markdown",
   "metadata": {},
   "source": [
    "## Read and Write Files Using a `with` Statement"
   ]
  },
  {
   "cell_type": "markdown",
   "metadata": {},
   "source": [
    "There is another way that you can open files in Python, which is to use something called a `with` statement. You'll probably see this method if you look at code on the internet. The `with` statement helps ensure your files open *and* close properly. It's more important for more advanced programming purposes, but it's good to know about.\n",
    "\n",
    "This method is very similar to the first method, except you put the word `with` before `open()`, and then you give the file object a nickname. We will call it `read_file_object` but you can actualy call it whatever you want (often people just use `f` but we want to be more descriptive!). This nickname `as read_file_object` is followed by a colon `:`. Then you read the file as normal."
   ]
  },
  {
   "cell_type": "code",
   "execution_count": null,
   "metadata": {},
   "outputs": [],
   "source": [
    "with open('Charles-Dickens-excerpt.txt', encoding='utf-8') as read_file_object:\n",
    "    text = read_file_object.read()"
   ]
  },
  {
   "cell_type": "code",
   "execution_count": null,
   "metadata": {},
   "outputs": [],
   "source": [
    "print(text)"
   ]
  },
  {
   "cell_type": "markdown",
   "metadata": {},
   "source": [
    "You use the same structure for writing files but you might give the file object a different nickname `write_file_object`."
   ]
  },
  {
   "cell_type": "code",
   "execution_count": null,
   "metadata": {},
   "outputs": [],
   "source": [
    "with open('text-file-made-by-with.txt', mode='w', encoding='utf-8') as write_file_object:\n",
    "    write_file_object.write('I made this file with a with statement!')"
   ]
  }
 ],
 "metadata": {
  "kernelspec": {
   "display_name": "Python 3",
   "language": "python",
   "name": "python3"
  },
  "language_info": {
   "codemirror_mode": {
    "name": "ipython",
    "version": 3
   },
   "file_extension": ".py",
   "mimetype": "text/x-python",
   "name": "python",
   "nbconvert_exporter": "python",
   "pygments_lexer": "ipython3",
   "version": "3.8.8"
  }
 },
 "nbformat": 4,
 "nbformat_minor": 4
}
