{
 "cells": [
  {
   "cell_type": "markdown",
   "id": "cf80cd6e-1424-4e15-b1a4-506a4e66189b",
   "metadata": {},
   "source": [
    "# Class 4 Exercises — Packages/Dictionaries — Solutions"
   ]
  },
  {
   "cell_type": "markdown",
   "id": "46b0712e-8325-4e86-8d9f-60c79a625832",
   "metadata": {},
   "source": [
    "These exercises will help you practice the skills and concepts that you learned in today's class.\n",
    "\n",
    "To get participation credit for today's class, make sure that you work on these exercises and then submit a screenshot or PDF of your work to the appropriate assignment page in Canvas."
   ]
  },
  {
   "cell_type": "markdown",
   "id": "04a50b4e-ab3a-4b4b-8cfa-540b78b5d906",
   "metadata": {},
   "source": [
    "Install a Python package created by someone else"
   ]
  },
  {
   "cell_type": "code",
   "execution_count": null,
   "id": "5ef9d44f-f271-4504-8051-d252ea41e7c9",
   "metadata": {},
   "outputs": [],
   "source": [
    "!pip install vaderSentiment"
   ]
  },
  {
   "cell_type": "markdown",
   "id": "a5386561-7d90-47b4-8d42-a826e79a8a8d",
   "metadata": {},
   "source": [
    "Import the Python package or the specific \"module\" that you want"
   ]
  },
  {
   "cell_type": "code",
   "execution_count": 1,
   "id": "f9f0e3ad-0daa-46f9-884f-29e497b4d8e5",
   "metadata": {},
   "outputs": [],
   "source": [
    "from vaderSentiment.vaderSentiment import SentimentIntensityAnalyzer\n",
    "\n",
    "# Instantiate VADER's Sentiment Intensity Analyzer\n",
    "sentimentAnalyser = SentimentIntensityAnalyzer()"
   ]
  },
  {
   "cell_type": "markdown",
   "id": "8937d19b-50e9-4088-a884-7cc2f04b71bb",
   "metadata": {},
   "source": [
    "Use one of the `SentimentIntensityAnalyzer`'s methods, `.polarity_scores()`"
   ]
  },
  {
   "cell_type": "code",
   "execution_count": 2,
   "id": "00e6698f-f193-4272-8ab4-10f4297d89de",
   "metadata": {},
   "outputs": [
    {
     "data": {
      "text/plain": [
       "{'neg': 0.0, 'neu': 0.361, 'pos': 0.639, 'compound': 0.6486}"
      ]
     },
     "execution_count": 2,
     "metadata": {},
     "output_type": "execute_result"
    }
   ],
   "source": [
    "sentimentAnalyser.polarity_scores(\"I like the Marvel movies\")"
   ]
  },
  {
   "cell_type": "code",
   "execution_count": 3,
   "id": "4fb03d96-9268-46b3-bf13-a41ba9e87f0d",
   "metadata": {},
   "outputs": [
    {
     "data": {
      "text/plain": [
       "dict"
      ]
     },
     "execution_count": 3,
     "metadata": {},
     "output_type": "execute_result"
    }
   ],
   "source": [
    "type(sentimentAnalyser.polarity_scores(\"I like the Marvel movies\"))"
   ]
  },
  {
   "cell_type": "code",
   "execution_count": 4,
   "id": "386ad064-3273-470a-857d-c24358e143b6",
   "metadata": {},
   "outputs": [],
   "source": [
    "scores = sentimentAnalyser.polarity_scores(\"I like the Marvel movies\")"
   ]
  },
  {
   "cell_type": "markdown",
   "id": "fa38f658-5cfa-4837-9162-575712f7271d",
   "metadata": {},
   "source": [
    "## Exercise 1"
   ]
  },
  {
   "cell_type": "markdown",
   "id": "51bf766a-9415-492c-b5ff-8462c37259b6",
   "metadata": {},
   "source": [
    "Print out all the keys in the dictionary `scores`"
   ]
  },
  {
   "cell_type": "code",
   "execution_count": 5,
   "id": "6c519aed-184e-4cc9-8fff-8f60bd33a157",
   "metadata": {},
   "outputs": [
    {
     "name": "stdout",
     "output_type": "stream",
     "text": [
      "dict_keys(['neg', 'neu', 'pos', 'compound'])\n"
     ]
    }
   ],
   "source": [
    "print(scores.keys())"
   ]
  },
  {
   "cell_type": "markdown",
   "id": "b106df65-7199-4c03-81d9-3ca80b543ce3",
   "metadata": {},
   "source": [
    "Print out all the values in the dictionary `scores`"
   ]
  },
  {
   "cell_type": "code",
   "execution_count": 6,
   "id": "b3dc404e-a373-468f-8472-5fd42ef86a66",
   "metadata": {},
   "outputs": [
    {
     "name": "stdout",
     "output_type": "stream",
     "text": [
      "dict_values([0.0, 0.361, 0.639, 0.6486])\n"
     ]
    }
   ],
   "source": [
    "print(scores.values())"
   ]
  },
  {
   "cell_type": "markdown",
   "id": "5591d971-db51-4d2c-9977-e15b83b2e5e8",
   "metadata": {},
   "source": [
    "Print out all the key, value pairs in the dictionary `scores`"
   ]
  },
  {
   "cell_type": "code",
   "execution_count": 7,
   "id": "37ab17fd-bcd2-4dff-b72a-e00648760ddd",
   "metadata": {},
   "outputs": [
    {
     "name": "stdout",
     "output_type": "stream",
     "text": [
      "neg 0.0\n",
      "neu 0.361\n",
      "pos 0.639\n",
      "compound 0.6486\n"
     ]
    }
   ],
   "source": [
    "for key, value in scores.items():\n",
    "    print(key, value)"
   ]
  },
  {
   "cell_type": "markdown",
   "id": "671c4923-d5da-453f-8e3c-e2ed62c651b8",
   "metadata": {},
   "source": [
    "## Exercise 2"
   ]
  },
  {
   "cell_type": "markdown",
   "id": "b529b33f-0922-4f4c-aa39-d4f535e9d366",
   "metadata": {},
   "source": [
    "Print out the \"negative\" score in the dictionary `scores`"
   ]
  },
  {
   "cell_type": "code",
   "execution_count": 8,
   "id": "2403fe52-c6ad-40d0-a41c-6177009e8d20",
   "metadata": {},
   "outputs": [
    {
     "name": "stdout",
     "output_type": "stream",
     "text": [
      "0.0\n"
     ]
    }
   ],
   "source": [
    "print(scores['neg'])"
   ]
  },
  {
   "cell_type": "markdown",
   "id": "90620a80-c2ce-44d2-93d1-4ae53cbe4182",
   "metadata": {},
   "source": [
    "Print out the \"positive\" score in the dictionary `scores`"
   ]
  },
  {
   "cell_type": "code",
   "execution_count": 9,
   "id": "e41f6245-00d1-4fcd-9ea9-17bfaf44108d",
   "metadata": {},
   "outputs": [
    {
     "name": "stdout",
     "output_type": "stream",
     "text": [
      "0.639\n"
     ]
    }
   ],
   "source": [
    "print(scores['pos'])"
   ]
  },
  {
   "cell_type": "markdown",
   "id": "f8f13ca6-3b6a-4206-8798-e763f9f0ca16",
   "metadata": {},
   "source": [
    "Print out the \"compound\" score in the dictionary `scores`"
   ]
  },
  {
   "cell_type": "code",
   "execution_count": 10,
   "id": "d689f12b-297d-4851-8a27-87bda93a5328",
   "metadata": {},
   "outputs": [
    {
     "name": "stdout",
     "output_type": "stream",
     "text": [
      "0.6486\n"
     ]
    }
   ],
   "source": [
    "print(scores['compound'])"
   ]
  },
  {
   "cell_type": "markdown",
   "id": "1916ddb2-e889-4d62-8d7a-156b06431310",
   "metadata": {},
   "source": [
    "## Exercise 3"
   ]
  },
  {
   "cell_type": "code",
   "execution_count": 11,
   "id": "f339740c-923d-41ca-b8cd-5b313e29e50f",
   "metadata": {},
   "outputs": [],
   "source": [
    "sentences = [\"I like the Marvel movies\",\n",
    "             \"I don't like the Marvel movies\",\n",
    "             \"I despise the Marvel movies with every fiber of my being\",\n",
    "             \"I don't *not* live the Marvel movies\"]"
   ]
  },
  {
   "cell_type": "markdown",
   "id": "e44056b9-2324-4386-aef8-51eef9367740",
   "metadata": {},
   "source": [
    "Print out the compound sentiment score for each sentence in the list `sentences` Hint: you will want to use a `for` loop"
   ]
  },
  {
   "cell_type": "code",
   "execution_count": 14,
   "id": "ad03d16e-bdaf-4b93-9dd9-c8ddc4bfe379",
   "metadata": {},
   "outputs": [
    {
     "name": "stdout",
     "output_type": "stream",
     "text": [
      "I like the Marvel movies 0.6486\n",
      "I don't like the Marvel movies -0.5334\n",
      "I despise the Marvel movies with every fiber of my being 0.1027\n",
      "I don't *not* like the Marvel movies -0.1307\n"
     ]
    }
   ],
   "source": [
    "# List of sentences\n",
    "sentences = [\"I like the Marvel movies\",\n",
    "             \"I don't like the Marvel movies\",\n",
    "             \"I despise the Marvel movies with every fiber of my being\",\n",
    "             \"I don't *not* like the Marvel movies\"]\n",
    "\n",
    "# Loop through list of sentences\n",
    "for sentence in sentences:\n",
    "    # Run VADER on each sentence\n",
    "    sentiment_scores = sentimentAnalyser.polarity_scores(sentence)\n",
    "    \n",
    "    # Print scores for each sentence\n",
    "    print(sentence, sentiment_scores['compound'])"
   ]
  },
  {
   "cell_type": "markdown",
   "id": "43b07b08-5580-49c7-9a41-3a22306519d6",
   "metadata": {},
   "source": [
    "## Bonus Exercise"
   ]
  },
  {
   "cell_type": "code",
   "execution_count": 15,
   "id": "745102f9-ee2f-4179-8504-15b7e95e0d7b",
   "metadata": {},
   "outputs": [
    {
     "name": "stdout",
     "output_type": "stream",
     "text": [
      "'I like the Marvel movies' \n",
      "\n",
      "    🙁 Negative Sentiment: 0.0 \n",
      "  \n",
      "    😐 Neutral Sentiment: 0.361 \n",
      "\n",
      "    😀 Positive Sentiment: 0.639 \n",
      "\n",
      "    ✨ Compound Sentiment: 0.6486 \n",
      "\n",
      "    --- \n",
      "\n",
      "'I don't like the Marvel movies' \n",
      "\n",
      "    🙁 Negative Sentiment: 0.526 \n",
      "  \n",
      "    😐 Neutral Sentiment: 0.474 \n",
      "\n",
      "    😀 Positive Sentiment: 0.0 \n",
      "\n",
      "    ✨ Compound Sentiment: -0.5334 \n",
      "\n",
      "    --- \n",
      "\n",
      "'I despise the Marvel movies with every fiber of my being' \n",
      "\n",
      "    🙁 Negative Sentiment: 0.169 \n",
      "  \n",
      "    😐 Neutral Sentiment: 0.634 \n",
      "\n",
      "    😀 Positive Sentiment: 0.197 \n",
      "\n",
      "    ✨ Compound Sentiment: 0.1027 \n",
      "\n",
      "    --- \n",
      "\n",
      "'I don't *not* like the Marvel movies' \n",
      "\n",
      "    🙁 Negative Sentiment: 0.255 \n",
      "  \n",
      "    😐 Neutral Sentiment: 0.546 \n",
      "\n",
      "    😀 Positive Sentiment: 0.199 \n",
      "\n",
      "    ✨ Compound Sentiment: -0.1307 \n",
      "\n",
      "    --- \n",
      "\n"
     ]
    }
   ],
   "source": [
    "# List of sentences\n",
    "sentences = [\"I like the Marvel movies\",\n",
    "             \"I don't like the Marvel movies\",\n",
    "             \"I despise the Marvel movies with every fiber of my being\",\n",
    "             \"I don't *not* like the Marvel movies\"]\n",
    "\n",
    "# Loop through list of sentences\n",
    "for sentence in sentences:\n",
    "    # Run VADER on each sentence\n",
    "    sentiment_scores = sentimentAnalyser.polarity_scores(sentence)\n",
    "    \n",
    "    # Print scores for each sentence\n",
    "    print(f\"\"\"'{sentence}' \\n\n",
    "    🙁 Negative Sentiment: {sentiment_scores['neg']} \\n  \n",
    "    😐 Neutral Sentiment: {sentiment_scores['neu']} \\n\n",
    "    😀 Positive Sentiment: {sentiment_scores['pos']} \\n\n",
    "    ✨ Compound Sentiment: {sentiment_scores['compound']} \\n\n",
    "    --- \\n\"\"\")"
   ]
  }
 ],
 "metadata": {
  "kernelspec": {
   "display_name": "Python 3",
   "language": "python",
   "name": "python3"
  },
  "language_info": {
   "codemirror_mode": {
    "name": "ipython",
    "version": 3
   },
   "file_extension": ".py",
   "mimetype": "text/x-python",
   "name": "python",
   "nbconvert_exporter": "python",
   "pygments_lexer": "ipython3",
   "version": "3.8.8"
  }
 },
 "nbformat": 4,
 "nbformat_minor": 5
}
