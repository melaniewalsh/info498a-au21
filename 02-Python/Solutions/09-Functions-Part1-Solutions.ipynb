{
 "cells": [
  {
   "cell_type": "markdown",
   "metadata": {},
   "source": [
    "# Functions — Workbook"
   ]
  },
  {
   "cell_type": "markdown",
   "metadata": {},
   "source": [
    "A *function* is way of bundling up code to perform specific tasks. It's kind of like making a little Python wind-up toy that runs on command.\n"
   ]
  },
  {
   "cell_type": "markdown",
   "metadata": {},
   "source": [
    "We've encountered built-in Python functions many times already, including:\n",
    "- `print()`\n",
    "- `len()`\n",
    "- `type()`  "
   ]
  },
  {
   "cell_type": "markdown",
   "metadata": {},
   "source": [
    "## Define a Function"
   ]
  },
  {
   "cell_type": "markdown",
   "metadata": {},
   "source": [
    "To make your own function, you use the keyword `def`, short for *define*, followed by your desired name for the function, parentheses (`()`) and a colon (`:`).\n",
    "\n",
    "Finally, you complete the function with a `return` statement."
   ]
  },
  {
   "cell_type": "code",
   "execution_count": 80,
   "metadata": {},
   "outputs": [],
   "source": [
    "def sing_a_song():\n",
    "    print(f\"Ok ladies now let's get in formation 🎵\")"
   ]
  },
  {
   "cell_type": "code",
   "execution_count": 52,
   "metadata": {},
   "outputs": [],
   "source": [
    "def sing_happy_birthday(name='Harry Styles'):\n",
    "    print(f\"Happy Birthday dear {name}\")"
   ]
  },
  {
   "cell_type": "code",
   "execution_count": 56,
   "metadata": {},
   "outputs": [],
   "source": [
    "def get_year(album_release):\n",
    "    year = album_release.strip()[-4:]\n",
    "    return year"
   ]
  },
  {
   "cell_type": "code",
   "execution_count": 60,
   "metadata": {},
   "outputs": [],
   "source": [
    "def dog_years_age(age):\n",
    "    dog_age = age * 7\n",
    "    return dog_age"
   ]
  },
  {
   "cell_type": "markdown",
   "metadata": {},
   "source": [
    "## Call a Function"
   ]
  },
  {
   "cell_type": "markdown",
   "metadata": {},
   "source": [
    "To use or \"call\" a function, you simply type the name of the function with parentheses."
   ]
  },
  {
   "cell_type": "code",
   "execution_count": null,
   "metadata": {},
   "outputs": [],
   "source": [
    "sing_a_song()"
   ]
  },
  {
   "cell_type": "code",
   "execution_count": 53,
   "metadata": {},
   "outputs": [
    {
     "name": "stdout",
     "output_type": "stream",
     "text": [
      "Happy Birthday dear Harry Styles\n"
     ]
    }
   ],
   "source": [
    "sing_happy_birthday()"
   ]
  },
  {
   "cell_type": "code",
   "execution_count": 54,
   "metadata": {},
   "outputs": [
    {
     "name": "stdout",
     "output_type": "stream",
     "text": [
      "Happy Birthday dear Timothee\n"
     ]
    }
   ],
   "source": [
    "sing_happy_birthday(name='Timothee')"
   ]
  },
  {
   "cell_type": "code",
   "execution_count": 57,
   "metadata": {},
   "outputs": [
    {
     "data": {
      "text/plain": [
       "'2007'"
      ]
     },
     "execution_count": 57,
     "metadata": {},
     "output_type": "execute_result"
    }
   ],
   "source": [
    "get_year(\"Released October 25, 2007   \")"
   ]
  },
  {
   "cell_type": "code",
   "execution_count": 58,
   "metadata": {},
   "outputs": [
    {
     "data": {
      "text/plain": [
       "'2016'"
      ]
     },
     "execution_count": 58,
     "metadata": {},
     "output_type": "execute_result"
    }
   ],
   "source": [
    "get_year(\"Released June 17, 2016\")"
   ]
  },
  {
   "cell_type": "code",
   "execution_count": 61,
   "metadata": {},
   "outputs": [
    {
     "data": {
      "text/plain": [
       "70"
      ]
     },
     "execution_count": 61,
     "metadata": {},
     "output_type": "execute_result"
    }
   ],
   "source": [
    "dog_years_age(10)"
   ]
  },
  {
   "cell_type": "markdown",
   "metadata": {},
   "source": [
    "## Regular Expressions"
   ]
  },
  {
   "cell_type": "markdown",
   "metadata": {},
   "source": [
    "The [regular expressions](https://docs.python.org/3/library/re.html) module, imported as `re`, will allow you to use regular expressions — a special pattern-matching language that allows you to do sophisticated find-and-replace and text manipulation. We will discuss regular expressions more in the coming weeks."
   ]
  },
  {
   "cell_type": "code",
   "execution_count": 29,
   "metadata": {},
   "outputs": [],
   "source": [
    "sample_string = \"I'm presenting this sample string...feel free to copy this construction.\""
   ]
  },
  {
   "cell_type": "code",
   "execution_count": 30,
   "metadata": {},
   "outputs": [
    {
     "data": {
      "text/plain": [
       "[\"I'm\",\n",
       " 'presenting',\n",
       " 'this',\n",
       " 'sample',\n",
       " 'string...feel',\n",
       " 'free',\n",
       " 'to',\n",
       " 'copy',\n",
       " 'this',\n",
       " 'construction.']"
      ]
     },
     "execution_count": 30,
     "metadata": {},
     "output_type": "execute_result"
    }
   ],
   "source": [
    "sample_string.split()"
   ]
  },
  {
   "cell_type": "markdown",
   "metadata": {},
   "source": [
    "\n",
    "| Regular Expression Pattern       | Matches |\n",
    "|:---------------------------:|:-----------------------------------------------------------------------------------------------------------:|\n",
    "| `\\w` | word                                         | \n",
    "| `\\W`                      | NOT word                                           |  \n",
    "| `\\d` | digit                                         | \n",
    "| `\\D`                      | NOT digit                                           \n",
    "| `+`                      | 1 or more instances                                       | \n",
    "| `{4}`                      | Exactly 4 instances                                         \n",
    "                   \n"
   ]
  },
  {
   "cell_type": "code",
   "execution_count": 31,
   "metadata": {},
   "outputs": [],
   "source": [
    "import re"
   ]
  },
  {
   "cell_type": "code",
   "execution_count": 34,
   "metadata": {},
   "outputs": [
    {
     "data": {
      "text/plain": [
       "['I',\n",
       " 'm',\n",
       " 'presenting',\n",
       " 'this',\n",
       " 'sample',\n",
       " 'string',\n",
       " 'feel',\n",
       " 'free',\n",
       " 'to',\n",
       " 'copy',\n",
       " 'this',\n",
       " 'construction',\n",
       " '']"
      ]
     },
     "execution_count": 34,
     "metadata": {},
     "output_type": "execute_result"
    }
   ],
   "source": [
    "re.split('\\W+', sample_string)"
   ]
  },
  {
   "cell_type": "code",
   "execution_count": null,
   "metadata": {},
   "outputs": [],
   "source": [
    "def split_words...# Your code here!\n",
    "    # Your code here!\n",
    "    # Your code here!"
   ]
  },
  {
   "cell_type": "code",
   "execution_count": 42,
   "metadata": {},
   "outputs": [],
   "source": [
    "def split_words(text):\n",
    "    split_words = re.split('\\W+', text)\n",
    "    return split_words"
   ]
  },
  {
   "cell_type": "markdown",
   "metadata": {},
   "source": [
    "Let's try to split this poem by Gwendolyn Brooks into individual words."
   ]
  },
  {
   "cell_type": "code",
   "execution_count": 43,
   "metadata": {},
   "outputs": [],
   "source": [
    "poem = \"\"\"The Pool Players.\n",
    "        Seven at the Golden Shovel.\n",
    "\n",
    "\n",
    "            We real cool. We   \n",
    "            Left school. We\n",
    "\n",
    "            Lurk late. We\n",
    "            Strike straight. We\n",
    "\n",
    "            Sing sin. We   \n",
    "            Thin gin. We\n",
    "\n",
    "            Jazz June. We   \n",
    "            Die soon.\"\"\""
   ]
  },
  {
   "cell_type": "code",
   "execution_count": 44,
   "metadata": {},
   "outputs": [
    {
     "data": {
      "text/plain": [
       "['The',\n",
       " 'Pool',\n",
       " 'Players',\n",
       " 'Seven',\n",
       " 'at',\n",
       " 'the',\n",
       " 'Golden',\n",
       " 'Shovel',\n",
       " 'We',\n",
       " 'real',\n",
       " 'cool',\n",
       " 'We',\n",
       " 'Left',\n",
       " 'school',\n",
       " 'We',\n",
       " 'Lurk',\n",
       " 'late',\n",
       " 'We',\n",
       " 'Strike',\n",
       " 'straight',\n",
       " 'We',\n",
       " 'Sing',\n",
       " 'sin',\n",
       " 'We',\n",
       " 'Thin',\n",
       " 'gin',\n",
       " 'We',\n",
       " 'Jazz',\n",
       " 'June',\n",
       " 'We',\n",
       " 'Die',\n",
       " 'soon',\n",
       " '']"
      ]
     },
     "execution_count": 44,
     "metadata": {},
     "output_type": "execute_result"
    }
   ],
   "source": [
    "split_words(poem)"
   ]
  },
  {
   "cell_type": "markdown",
   "metadata": {},
   "source": [
    "## Print() vs Return?"
   ]
  },
  {
   "cell_type": "code",
   "execution_count": 45,
   "metadata": {},
   "outputs": [],
   "source": [
    "tokenized_words = split_words(poem)"
   ]
  },
  {
   "cell_type": "code",
   "execution_count": 46,
   "metadata": {},
   "outputs": [
    {
     "name": "stdout",
     "output_type": "stream",
     "text": [
      "['The', 'Pool', 'Players', 'Seven', 'at', 'the', 'Golden', 'Shovel', 'We', 'real', 'cool', 'We', 'Left', 'school', 'We', 'Lurk', 'late', 'We', 'Strike', 'straight', 'We', 'Sing', 'sin', 'We', 'Thin', 'gin', 'We', 'Jazz', 'June', 'We', 'Die', 'soon', '']\n"
     ]
    }
   ],
   "source": [
    "print(tokenized_words)"
   ]
  },
  {
   "cell_type": "markdown",
   "metadata": {},
   "source": [
    "## Counter"
   ]
  },
  {
   "cell_type": "code",
   "execution_count": 48,
   "metadata": {},
   "outputs": [],
   "source": [
    "from collections import Counter"
   ]
  },
  {
   "cell_type": "code",
   "execution_count": 49,
   "metadata": {},
   "outputs": [
    {
     "data": {
      "text/plain": [
       "Counter({'The': 1,\n",
       "         'Pool': 1,\n",
       "         'Players': 1,\n",
       "         'Seven': 1,\n",
       "         'at': 1,\n",
       "         'the': 1,\n",
       "         'Golden': 1,\n",
       "         'Shovel': 1,\n",
       "         'We': 8,\n",
       "         'real': 1,\n",
       "         'cool': 1,\n",
       "         'Left': 1,\n",
       "         'school': 1,\n",
       "         'Lurk': 1,\n",
       "         'late': 1,\n",
       "         'Strike': 1,\n",
       "         'straight': 1,\n",
       "         'Sing': 1,\n",
       "         'sin': 1,\n",
       "         'Thin': 1,\n",
       "         'gin': 1,\n",
       "         'Jazz': 1,\n",
       "         'June': 1,\n",
       "         'Die': 1,\n",
       "         'soon': 1,\n",
       "         '': 1})"
      ]
     },
     "execution_count": 49,
     "metadata": {},
     "output_type": "execute_result"
    }
   ],
   "source": [
    "Counter(tokenized_words)"
   ]
  },
  {
   "cell_type": "code",
   "execution_count": 51,
   "metadata": {},
   "outputs": [
    {
     "data": {
      "text/plain": [
       "[('We', 8), ('The', 1), ('Pool', 1)]"
      ]
     },
     "execution_count": 51,
     "metadata": {},
     "output_type": "execute_result"
    }
   ],
   "source": [
    "Counter(tokenized_words).most_common(3)"
   ]
  },
  {
   "cell_type": "code",
   "execution_count": 62,
   "metadata": {},
   "outputs": [
    {
     "data": {
      "text/plain": [
       "[('We', 8)]"
      ]
     },
     "execution_count": 62,
     "metadata": {},
     "output_type": "execute_result"
    }
   ],
   "source": [
    "Counter(tokenized_words).most_common(1)"
   ]
  },
  {
   "cell_type": "markdown",
   "metadata": {},
   "source": [
    "## While Loops"
   ]
  },
  {
   "cell_type": "markdown",
   "metadata": {},
   "source": [
    "This is a `while` loop that will print out years but stop before it reaches 2000 — the year of Y2K!"
   ]
  },
  {
   "cell_type": "code",
   "execution_count": 72,
   "metadata": {},
   "outputs": [
    {
     "name": "stdout",
     "output_type": "stream",
     "text": [
      "1990\n",
      "1991\n",
      "1992\n",
      "1993\n",
      "1994\n",
      "1995\n",
      "1996\n",
      "1997\n",
      "1998\n",
      "1999\n"
     ]
    }
   ],
   "source": [
    "year = 1989\n",
    "while year < 1999:\n",
    "    year += 1\n",
    "    print(year)"
   ]
  }
 ],
 "metadata": {
  "kernelspec": {
   "display_name": "Python 3",
   "language": "python",
   "name": "python3"
  },
  "language_info": {
   "codemirror_mode": {
    "name": "ipython",
    "version": 3
   },
   "file_extension": ".py",
   "mimetype": "text/x-python",
   "name": "python",
   "nbconvert_exporter": "python",
   "pygments_lexer": "ipython3",
   "version": "3.8.8"
  }
 },
 "nbformat": 4,
 "nbformat_minor": 4
}
