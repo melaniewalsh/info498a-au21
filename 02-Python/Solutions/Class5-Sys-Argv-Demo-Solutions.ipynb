{
 "cells": [
  {
   "cell_type": "markdown",
   "id": "cf80cd6e-1424-4e15-b1a4-506a4e66189b",
   "metadata": {},
   "source": [
    "# Class 5 Demo — Sys Argv Solutions"
   ]
  },
  {
   "cell_type": "markdown",
   "id": "53a2e55c-cd4a-4bc5-a255-da62a67704f9",
   "metadata": {},
   "source": [
    "These exercises will help you practice the skills and concepts that you learned in today's class.\n",
    "\n",
    "To get participation credit for today's class, make sure that you work on these exercises and then submit a screenshot or PDF of your work to the appropriate assignment page in Canvas."
   ]
  },
  {
   "cell_type": "code",
   "execution_count": 4,
   "id": "e64776ac-543f-4455-8f69-42808f4e1f97",
   "metadata": {},
   "outputs": [],
   "source": [
    "celebrity_name = 'Drake'"
   ]
  },
  {
   "cell_type": "code",
   "execution_count": 29,
   "id": "6219c2c7-4e29-4089-b600-ae06b859dd46",
   "metadata": {},
   "outputs": [
    {
     "name": "stdout",
     "output_type": "stream",
     "text": [
      "Happy birthday to you\n",
      "Happy birthday dear Drake\n",
      "Happy birthday to you\n"
     ]
    }
   ],
   "source": [
    "print(f\"\"\"Happy birthday to you\\nHappy birthday dear {celebrity_name}\\nHappy birthday to you\"\"\")"
   ]
  },
  {
   "cell_type": "markdown",
   "id": "ce6b6cc6-1ee0-4178-b93b-5ae45f3082fe",
   "metadata": {},
   "source": [
    "Make a function called `sing_happy_birthday()` with a keyword argument that sets a default argument `name` as \"Person\" and that prints out a happy birthday message like the one shown above."
   ]
  },
  {
   "cell_type": "code",
   "execution_count": 5,
   "id": "36296127-4cee-4804-9d00-9466d3703b38",
   "metadata": {},
   "outputs": [
    {
     "name": "stdout",
     "output_type": "stream",
     "text": [
      "Happy birthday to you\n",
      "Happy birthday dear Drake\n",
      "Happy birthday to you\n"
     ]
    }
   ],
   "source": [
    "def sing_happy_birthday(name):\n",
    "    print(f\"\"\"Happy birthday to you\\nHappy birthday dear {name}\\nHappy birthday to you\"\"\")\n",
    "    \n",
    "\n",
    "sing_happy_birthday(celebrity_name)"
   ]
  },
  {
   "cell_type": "code",
   "execution_count": 32,
   "id": "9f5f32e7-1426-4c5d-8be6-5b51cd4510a1",
   "metadata": {},
   "outputs": [
    {
     "name": "stdout",
     "output_type": "stream",
     "text": [
      "Happy birthday to you\n",
      "Happy birthday dear Drake\n",
      "Happy birthday to you\n"
     ]
    }
   ],
   "source": [
    "sing_happy_birthday(celebrity_name)"
   ]
  },
  {
   "cell_type": "markdown",
   "id": "8201556f-c6ec-4a85-8990-b7a11d2d86e4",
   "metadata": {},
   "source": [
    "How can we make this birthday message generator into a stand-alone Python script that we can run from the command line and that will accept any name that a user supplies from the command line?"
   ]
  },
  {
   "cell_type": "raw",
   "id": "699a5291-7908-4be0-8f8e-f52a7aeec999",
   "metadata": {},
   "source": [
    "!python sing_happy_birthday.py \"Big Bird\""
   ]
  },
  {
   "cell_type": "markdown",
   "id": "c8cc47e0-8901-45fe-ac17-7d400ab3e365",
   "metadata": {},
   "source": [
    "Previously, we demonstrated how the `input()` function can accept user input. But in this notebook, we're going to demonstrate how a useful module called `sys` words.\n",
    "\n",
    "After importing the Python module `sys`, we can use `sys.argv[1]` to access the first argument that a user includes when running a Python script from the command line. So all we need to do is copy and paste the following code into a new file called `sing_happy_birthday.py`"
   ]
  },
  {
   "cell_type": "raw",
   "id": "38f0b3aa-c0ea-441a-995d-5ef7cddb073d",
   "metadata": {},
   "source": [
    "#sing_happy_birthday.py\n",
    "\n",
    "import sys\n",
    "\n",
    "def sing_happy_birthday(name='Person'):\n",
    "    print(f\"\"\"\n",
    "    Happy birthday to you\n",
    "    Happy birthday dear {name}\n",
    "    Happy birthday to you\"\"\")\n",
    "    \n",
    "user_defined_name = sys.argv[1]\n",
    "\n",
    "sing_happy_birthday(name=user_defined_name)"
   ]
  },
  {
   "cell_type": "code",
   "execution_count": 14,
   "id": "337b2235-11d9-491b-81f3-d8cac7bbed0d",
   "metadata": {},
   "outputs": [
    {
     "name": "stdout",
     "output_type": "stream",
     "text": [
      "\n",
      "    Happy birthday to you\n",
      "    Happy birthday dear Big Bird\n",
      "    Happy birthday to you\n"
     ]
    }
   ],
   "source": [
    "!python sing_happy_birthday.py \"Big Bird\""
   ]
  },
  {
   "cell_type": "code",
   "execution_count": 34,
   "id": "001c554f-e760-467f-ac37-b0e1f8b4018d",
   "metadata": {},
   "outputs": [
    {
     "name": "stdout",
     "output_type": "stream",
     "text": [
      "\n",
      "    Happy birthday to you\n",
      "    Happy birthday dear Drake\n",
      "    Happy birthday to you\n"
     ]
    }
   ],
   "source": [
    "!python sing_happy_birthday.py \"Drake\""
   ]
  },
  {
   "cell_type": "raw",
   "id": "c3854771-0b76-4b5d-9aa1-12dfbd337dda",
   "metadata": {},
   "source": [
    "# sing_happy_birthday-0.py\n",
    "import sys\n",
    "\n",
    "def sing_happy_birthday(name='Person'):\n",
    "    print(f\"\"\"\n",
    "    Happy birthday to you\n",
    "    Happy birthday dear {name}\n",
    "    Happy birthday to you\"\"\")\n",
    "    \n",
    "user_defined_name = sys.argv[0]\n",
    "\n",
    "sing_happy_birthday(name=user_defined_name)"
   ]
  },
  {
   "cell_type": "code",
   "execution_count": 7,
   "id": "e6e02300-70d3-43d3-961d-aafabea1842e",
   "metadata": {},
   "outputs": [
    {
     "name": "stdout",
     "output_type": "stream",
     "text": [
      "\n",
      "    Happy birthday to you\n",
      "    Happy birthday dear sing_happy_birthday-0.py\n",
      "    Happy birthday to you\n"
     ]
    }
   ],
   "source": [
    "!python sing_happy_birthday-0.py \"Drake\""
   ]
  },
  {
   "cell_type": "raw",
   "id": "695d047f-212e-4545-a1f8-03ae8b7367bc",
   "metadata": {},
   "source": [
    "# sing_happy_birthday-2.py\n",
    "import sys\n",
    "\n",
    "def sing_happy_birthday(name='Person'):\n",
    "    print(f\"\"\"\n",
    "    Happy birthday to you\n",
    "    Happy birthday dear {name}\n",
    "    Happy birthday to you\"\"\")\n",
    "    \n",
    "user_defined_name = sys.argv[2]\n",
    "\n",
    "sing_happy_birthday(name=user_defined_name)"
   ]
  },
  {
   "cell_type": "code",
   "execution_count": 9,
   "id": "44206992-5a81-40ed-a2d1-529ef3baafbb",
   "metadata": {},
   "outputs": [
    {
     "name": "stdout",
     "output_type": "stream",
     "text": [
      "\n",
      "    Happy birthday to you\n",
      "    Happy birthday dear Lil Nas X\n",
      "    Happy birthday to you\n"
     ]
    }
   ],
   "source": [
    "!python sing_happy_birthday-2.py \"Drake\" \"Lil Nas X\""
   ]
  }
 ],
 "metadata": {
  "kernelspec": {
   "display_name": "Python 3",
   "language": "python",
   "name": "python3"
  },
  "language_info": {
   "codemirror_mode": {
    "name": "ipython",
    "version": 3
   },
   "file_extension": ".py",
   "mimetype": "text/x-python",
   "name": "python",
   "nbconvert_exporter": "python",
   "pygments_lexer": "ipython3",
   "version": "3.8.8"
  }
 },
 "nbformat": 4,
 "nbformat_minor": 5
}
