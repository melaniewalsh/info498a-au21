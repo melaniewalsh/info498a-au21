{
 "cells": [
  {
   "cell_type": "markdown",
   "id": "cf80cd6e-1424-4e15-b1a4-506a4e66189b",
   "metadata": {},
   "source": [
    "# Class 3 Exercises — Solutions"
   ]
  },
  {
   "cell_type": "markdown",
   "id": "46b0712e-8325-4e86-8d9f-60c79a625832",
   "metadata": {},
   "source": [
    "These exercises will help you practice the skills and concepts that you learned in today's class.\n",
    "\n",
    "To get participation credit for today's class, make sure that you work on these exercises and then submit a screenshot or PDF of your work to the appropriate assignment page in Canvas."
   ]
  },
  {
   "cell_type": "markdown",
   "id": "0d36c3a0-2e37-4a0b-8ef3-211421e55b88",
   "metadata": {},
   "source": [
    "## List/For Loop Exercises"
   ]
  },
  {
   "cell_type": "markdown",
   "id": "ec4aeca0-153d-4fe8-875e-61e1b8ffd182",
   "metadata": {},
   "source": [
    "### Exercise 1"
   ]
  },
  {
   "cell_type": "code",
   "execution_count": 1,
   "id": "6aeeb8b0-0146-4e0e-8d94-d511f28bed16",
   "metadata": {},
   "outputs": [],
   "source": [
    "ages = [28, 19, 60, 30, 80, 23]"
   ]
  },
  {
   "cell_type": "markdown",
   "id": "e03ecf86-1917-4d0c-8f68-9f03d49d137e",
   "metadata": {},
   "source": [
    "First, sort the list `ages` in ascending order and then print it out."
   ]
  },
  {
   "cell_type": "code",
   "execution_count": 2,
   "id": "e32d3497-ebac-479f-9452-882be0b432e7",
   "metadata": {},
   "outputs": [],
   "source": [
    "ages.sort()"
   ]
  },
  {
   "cell_type": "code",
   "execution_count": 3,
   "id": "77a7a997-a62a-437a-ada5-a90384a39022",
   "metadata": {},
   "outputs": [
    {
     "name": "stdout",
     "output_type": "stream",
     "text": [
      "[19, 23, 28, 30, 60, 80]\n"
     ]
    }
   ],
   "source": [
    "print(ages)"
   ]
  },
  {
   "cell_type": "markdown",
   "id": "a96beaf0-9c7e-4aaf-ae0e-aace59bf6207",
   "metadata": {},
   "source": [
    "Next extract the value \"80\" from the list by indexing the list."
   ]
  },
  {
   "cell_type": "code",
   "execution_count": 5,
   "id": "fb36c9f8-e036-4f40-b80d-53b4de04b3cb",
   "metadata": {},
   "outputs": [
    {
     "data": {
      "text/plain": [
       "80"
      ]
     },
     "execution_count": 5,
     "metadata": {},
     "output_type": "execute_result"
    }
   ],
   "source": [
    "ages[5]"
   ]
  },
  {
   "cell_type": "code",
   "execution_count": 4,
   "id": "41a99cd6-0a79-4eed-abaf-78fcc40a5052",
   "metadata": {},
   "outputs": [
    {
     "data": {
      "text/plain": [
       "80"
      ]
     },
     "execution_count": 4,
     "metadata": {},
     "output_type": "execute_result"
    }
   ],
   "source": [
    "ages[-1]"
   ]
  },
  {
   "cell_type": "markdown",
   "id": "e58d2161-3fed-477b-8a65-ae79e647d0fc",
   "metadata": {},
   "source": [
    "Next, calculate the birth year for each of these Irish immigrants and then print them out one at a time. Note that these ages were recorded in the year 1847."
   ]
  },
  {
   "cell_type": "code",
   "execution_count": 6,
   "id": "2624d56e-49f1-4c33-9faf-e7283c2c392e",
   "metadata": {},
   "outputs": [
    {
     "name": "stdout",
     "output_type": "stream",
     "text": [
      "1828\n",
      "1824\n",
      "1819\n",
      "1817\n",
      "1787\n",
      "1767\n"
     ]
    }
   ],
   "source": [
    "for single_age in ages:\n",
    "    birth_year = 1847 - single_age \n",
    "    print(birth_year)"
   ]
  },
  {
   "cell_type": "markdown",
   "id": "79f9cf4e-2628-48fe-8c5b-f383c2bcf69e",
   "metadata": {},
   "source": [
    "### Exercise 2"
   ]
  },
  {
   "cell_type": "markdown",
   "id": "849a149a-9e49-46ee-a245-4d136268a601",
   "metadata": {},
   "source": [
    "Let's print out their birth years for each person with a statement that says \"Person was born in\"."
   ]
  },
  {
   "cell_type": "code",
   "execution_count": 7,
   "id": "340d7bd6-24c3-4439-b60a-d2a0c4dfcfad",
   "metadata": {},
   "outputs": [
    {
     "name": "stdout",
     "output_type": "stream",
     "text": [
      "Person was born in 1828\n",
      "Person was born in 1824\n",
      "Person was born in 1819\n",
      "Person was born in 1817\n",
      "Person was born in 1787\n",
      "Person was born in 1767\n"
     ]
    }
   ],
   "source": [
    "for single_age in ages:\n",
    "    birth_year = 1847 - single_age\n",
    "    print(f\"Person was born in {birth_year}\")"
   ]
  },
  {
   "cell_type": "markdown",
   "id": "2be19bca-b6c3-46f5-9aa1-a0c321413ae4",
   "metadata": {},
   "source": [
    "### Exercise 3"
   ]
  },
  {
   "cell_type": "markdown",
   "id": "d8f399c7-3fec-48d7-8e7b-5fcb5f0143ee",
   "metadata": {},
   "source": [
    "Let's clean up this list of names."
   ]
  },
  {
   "cell_type": "code",
   "execution_count": 8,
   "id": "e3f09385-4b4f-48e8-bd91-a6a61c8b9725",
   "metadata": {},
   "outputs": [],
   "source": [
    "names = ['Mary Gallagher', 'John Sanin(?)', 'Anthony Clark', 'Margaret Farrell','Unity(?)', 'Catherine']"
   ]
  },
  {
   "cell_type": "markdown",
   "id": "f172b60d-ec5a-406e-beb4-c4fe18d7516a",
   "metadata": {},
   "source": [
    "Print out each name in this list. Remove \"(?)\" from any of the names."
   ]
  },
  {
   "cell_type": "markdown",
   "id": "7b7598ba-f52f-4206-8614-911660d97ae8",
   "metadata": {},
   "source": [
    "*Note: there may be multiple ways to accomplish this task!*"
   ]
  },
  {
   "cell_type": "code",
   "execution_count": 9,
   "id": "9218ca95-7980-4939-9623-4ba556eb6c9b",
   "metadata": {},
   "outputs": [
    {
     "name": "stdout",
     "output_type": "stream",
     "text": [
      "Mary Gallagher\n",
      "John Sanin\n",
      "Anthony Clark\n",
      "Margaret Farrell\n",
      "Unity\n",
      "Catherine\n"
     ]
    }
   ],
   "source": [
    "for single_name in names:\n",
    "    clean_name = single_name.replace('(?)', '')\n",
    "    print(clean_name)"
   ]
  },
  {
   "cell_type": "markdown",
   "id": "22781f30-3c36-4505-829f-de97b71637ee",
   "metadata": {},
   "source": [
    "### Exercise 4"
   ]
  },
  {
   "cell_type": "markdown",
   "id": "82c27d93-4534-48f5-bbb7-6f1555e060d7",
   "metadata": {},
   "source": [
    "Are names that contain a \"(?)\" really very reliable? Maybe we want to remove them. \n",
    "\n",
    "Print out the names in this list but do not print a name if it contains \"(?)\"."
   ]
  },
  {
   "cell_type": "markdown",
   "id": "19300741-be8b-487c-bbcb-dd481843007c",
   "metadata": {},
   "source": [
    "*Note: to test whether a phrase is **not in** a string, you can use `not in`*"
   ]
  },
  {
   "cell_type": "code",
   "execution_count": 34,
   "id": "f9dac934-ca14-4acd-b50a-a190fcf55967",
   "metadata": {},
   "outputs": [],
   "source": [
    "names = ['Mary Gallagher', 'John Sanin(?)', 'Anthony Clark', 'Margaret Farrell', 'Unity(?)', 'Catherine']"
   ]
  },
  {
   "cell_type": "code",
   "execution_count": 10,
   "id": "3079bc42-08d4-4122-9127-eb3eb9a856ed",
   "metadata": {},
   "outputs": [
    {
     "name": "stdout",
     "output_type": "stream",
     "text": [
      "Mary Gallagher\n",
      "Anthony Clark\n",
      "Margaret Farrell\n",
      "Catherine\n"
     ]
    }
   ],
   "source": [
    "for single_name in names:\n",
    "    if '(?)' not in single_name:\n",
    "        clean_name = single_name.replace('(?)', '')\n",
    "        print(clean_name)"
   ]
  }
 ],
 "metadata": {
  "kernelspec": {
   "display_name": "Python 3",
   "language": "python",
   "name": "python3"
  },
  "language_info": {
   "codemirror_mode": {
    "name": "ipython",
    "version": 3
   },
   "file_extension": ".py",
   "mimetype": "text/x-python",
   "name": "python",
   "nbconvert_exporter": "python",
   "pygments_lexer": "ipython3",
   "version": "3.8.8"
  }
 },
 "nbformat": 4,
 "nbformat_minor": 5
}
