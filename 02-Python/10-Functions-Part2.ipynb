{
 "cells": [
  {
   "cell_type": "markdown",
   "metadata": {},
   "source": [
    "# Functions (Part II) — Workbook"
   ]
  },
  {
   "cell_type": "markdown",
   "metadata": {},
   "source": [
    "A *function* is way of bundling up code to perform specific tasks. It's kind of like making a little Python wind-up toy that runs on command.\n"
   ]
  },
  {
   "cell_type": "markdown",
   "metadata": {},
   "source": [
    "## Python Formatting — Quick Review"
   ]
  },
  {
   "cell_type": "markdown",
   "metadata": {},
   "source": [
    "Inconsistent spacing — it works, but it's not ideal"
   ]
  },
  {
   "cell_type": "code",
   "execution_count": 4,
   "metadata": {},
   "outputs": [],
   "source": [
    "temperature = 70"
   ]
  },
  {
   "cell_type": "code",
   "execution_count": null,
   "metadata": {},
   "outputs": [],
   "source": [
    "if temperature>=70:\n",
    "    print ('It is piping hot!')"
   ]
  },
  {
   "cell_type": "markdown",
   "metadata": {},
   "source": [
    "Consistent spacing — it works, and it's more ideal!"
   ]
  },
  {
   "cell_type": "code",
   "execution_count": null,
   "metadata": {},
   "outputs": [],
   "source": [
    "if temperature >= 70:\n",
    "    print('It is piping hot!')"
   ]
  },
  {
   "cell_type": "markdown",
   "metadata": {},
   "source": [
    "Inconsistent spacing — it works, but it's not ideal"
   ]
  },
  {
   "cell_type": "code",
   "execution_count": 15,
   "metadata": {},
   "outputs": [],
   "source": [
    "fruits = [' kiwi ', ' kumquat ', ' apple ']"
   ]
  },
  {
   "cell_type": "code",
   "execution_count": null,
   "metadata": {},
   "outputs": [],
   "source": [
    "fruits [1] .strip()"
   ]
  },
  {
   "cell_type": "markdown",
   "metadata": {},
   "source": [
    "Consistent spacing — it works, and it's more ideal!"
   ]
  },
  {
   "cell_type": "code",
   "execution_count": null,
   "metadata": {},
   "outputs": [],
   "source": [
    "fruits[1].strip()"
   ]
  },
  {
   "cell_type": "markdown",
   "metadata": {},
   "source": [
    "## Python Modules/Packages/Libraries — Review"
   ]
  },
  {
   "cell_type": "markdown",
   "metadata": {},
   "source": [
    "You can use pre-made Python code designed by other people — otherwise known as **modules, packages, or libraries** — by using an `import` statement.\n",
    "\n",
    "For example, the `Counter` module will count items and return a dictionary: https://docs.python.org/3/library/collections.html#collections.Counter"
   ]
  },
  {
   "cell_type": "code",
   "execution_count": 36,
   "metadata": {},
   "outputs": [],
   "source": [
    "from collections import Counter"
   ]
  },
  {
   "cell_type": "code",
   "execution_count": null,
   "metadata": {},
   "outputs": [],
   "source": [
    "fruits = ['apple', 'banana', 'kiwi', 'apple', 'kumquat', 'orange', 'orange', 'kiwi', 'kiwi']\n",
    "Counter(fruits)"
   ]
  },
  {
   "cell_type": "code",
   "execution_count": null,
   "metadata": {},
   "outputs": [],
   "source": [
    "Counter(fruits).most_common(3)"
   ]
  },
  {
   "cell_type": "markdown",
   "metadata": {},
   "source": [
    "The [regular expressions](https://docs.python.org/3/library/re.html) module, imported as `re`, will allow you to use regular expressions — a special pattern-matching language that allows you to do sophisticated find-and-replace and text manipulation. We will discuss regular expressions more in the coming weeks."
   ]
  },
  {
   "cell_type": "code",
   "execution_count": 42,
   "metadata": {},
   "outputs": [],
   "source": [
    "import re"
   ]
  },
  {
   "cell_type": "code",
   "execution_count": 80,
   "metadata": {},
   "outputs": [],
   "source": [
    "sample_string = \"I'm presenting this sample string: feel free to copy this construction.\""
   ]
  },
  {
   "cell_type": "code",
   "execution_count": null,
   "metadata": {},
   "outputs": [],
   "source": [
    "sample_string.split()"
   ]
  },
  {
   "cell_type": "markdown",
   "metadata": {},
   "source": [
    "\n",
    "| Regular Expression Pattern       | Matches |\n",
    "|:---------------------------:|:-----------------------------------------------------------------------------------------------------------:|\n",
    "| `\\w` | word                                         | \n",
    "| `\\W`                      | NOT word                                           |  \n",
    "| `\\d` | digit                                         | \n",
    "| `\\D`                      | NOT digit                                           \n",
    "| `+`                      | 1 or more instances                                       | \n",
    "| `{4}`                      | Exactly 4 instances                                         \n",
    "                   \n"
   ]
  },
  {
   "cell_type": "code",
   "execution_count": null,
   "metadata": {},
   "outputs": [],
   "source": [
    "re.split('\\W+', sample_string)"
   ]
  },
  {
   "cell_type": "code",
   "execution_count": 87,
   "metadata": {},
   "outputs": [],
   "source": [
    "year_string = \"This is a long string 1984 with a year in it but \\\n",
    "                it also has an age 72 and a salary 52k\""
   ]
  },
  {
   "cell_type": "code",
   "execution_count": null,
   "metadata": {},
   "outputs": [],
   "source": [
    "re.search('\\d{4}', year_string).group()"
   ]
  },
  {
   "cell_type": "markdown",
   "metadata": {},
   "source": [
    "## Python Functions — Review"
   ]
  },
  {
   "cell_type": "markdown",
   "metadata": {},
   "source": [
    "![](https://i.pinimg.com/originals/62/9c/24/629c24707ded09d6fbe294e5de9e73a3.gif)"
   ]
  },
  {
   "cell_type": "markdown",
   "metadata": {},
   "source": [
    "To convert Celsius to Fahrenheit, you can use the following formula:"
   ]
  },
  {
   "cell_type": "markdown",
   "metadata": {},
   "source": [
    "`(0°C × 9/5) + 32 = 32°F`"
   ]
  },
  {
   "cell_type": "markdown",
   "metadata": {},
   "source": [
    "Make a function called `make_fahrenheit()` that will take in any temperature in Celsius and return the converted temperature in degrees Fahrenheit."
   ]
  },
  {
   "cell_type": "code",
   "execution_count": 24,
   "metadata": {},
   "outputs": [],
   "source": [
    "def make_fahrenheit(celsius):\n",
    "    fahrenheit_temp = (celsius * 9/5) + 32\n",
    "    return fahrenheit_temp"
   ]
  },
  {
   "cell_type": "markdown",
   "metadata": {},
   "source": [
    "Let's make a new function `is_it_warm()` that builds on our `make_fahrenheit()` function. This function will convert Celsius to Fahrenehit but it will also print out a statement about whether it is warm outside.\n",
    "\n",
    "Of course, what one person thinks is warm will be different from what another person thinks is warm. So this function will take in 2 arguments: the temperature in Celsius and the threshold for what is considered a warm temperature."
   ]
  },
  {
   "cell_type": "markdown",
   "metadata": {},
   "source": [
    "*Note: you can call another function from within a function, as below.*"
   ]
  },
  {
   "cell_type": "code",
   "execution_count": 32,
   "metadata": {},
   "outputs": [],
   "source": [
    "def is_it_warm(celsius_temp, my_threshold):\n",
    "    converted_temp = make_fahrenheit(celsius_temp)\n",
    "    if converted_temp > my_threshold:\n",
    "        print(f\"The temperature is {converted_temp}°F. Thus, it is warm outside.\")\n",
    "    else:\n",
    "        print(f\"The temperature is {converted_temp}°F. Thus, it is NOT warm outside.\")\n",
    "    return"
   ]
  },
  {
   "cell_type": "code",
   "execution_count": 30,
   "metadata": {},
   "outputs": [
    {
     "name": "stdout",
     "output_type": "stream",
     "text": [
      "The temperature is 50.0°F. Thus, it is warm outside.\n"
     ]
    }
   ],
   "source": [
    "is_it_warm(celsius_temp=10, my_threshold=40)"
   ]
  },
  {
   "cell_type": "markdown",
   "metadata": {},
   "source": [
    "**Question**: How would you re-write `is_it_warm()` to give it a default threshold?"
   ]
  },
  {
   "cell_type": "code",
   "execution_count": 35,
   "metadata": {},
   "outputs": [
    {
     "name": "stdout",
     "output_type": "stream",
     "text": [
      "The temperature is 68.0°F. Thus, it is NOT warm outside.\n"
     ]
    }
   ],
   "source": [
    "is_it_warm(celsius_temp=20)"
   ]
  },
  {
   "cell_type": "markdown",
   "metadata": {},
   "source": [
    "## Exercise 1 — Chinese Zodiac Calculator"
   ]
  },
  {
   "cell_type": "markdown",
   "metadata": {},
   "source": [
    "Make a function called `chinese_zodiac()` that will take in someone's birth year and then report their corresponding Chinese zodiac.\n",
    "\n",
    "You can make this function however you want, but here are 12 lists with the corresponding birth years for every zodiac sign. "
   ]
  },
  {
   "cell_type": "code",
   "execution_count": 109,
   "metadata": {},
   "outputs": [],
   "source": [
    "rat_years = [1924, 1936, 1948, 1960, 1972, 1984, 1996, 2008, 2020, 2032]\n",
    "ox_years = [1925, 1937, 1949, 1961, 1973, 1985, 1997, 2009, 2021, 2033]\n",
    "tiger_years = [1926, 1938, 1950, 1962, 1974, 1986, 1998, 2010, 2022, 2034]\n",
    "rabbit_years = [1927, 1939, 1951, 1963, 1975, 1987, 1999, 2011, 2023, 2035]\n",
    "dragon_years = [1928, 1940, 1952, 1964, 1976, 1988, 2000, 2012, 2024, 2036]\n",
    "snake_years = [1929, 1941, 1953, 1965, 1977, 1989, 2001, 2013, 2025, 2037]\n",
    "horse_years = [1930, 1942, 1954, 1966, 1978, 1990, 2002, 2014, 2026, 2038]\n",
    "sheep_years = [1931, 1943, 1955, 1967, 1979, 1991, 2003, 2015, 2027, 2039]\n",
    "monkey_years = [1932, 1944, 1956, 1968, 1980, 1992, 2004, 2016, 2028, 2040]\n",
    "rooster_years = [1933, 1945, 1957, 1969, 1981, 1993, 2005, 2017, 2029, 2041]\n",
    "dog_years = [1934, 1946, 1958, 1970, 1982, 1994, 2006, 2018, 2030, 2042]\n",
    "pig_years = [1935, 1947, 1959, 1971, 1983, 1995, 2007, 2019, 2031, 2043]"
   ]
  },
  {
   "cell_type": "markdown",
   "metadata": {},
   "source": [
    "🐀 Rat  \n",
    "🐂 Ox  \n",
    "🐅 Tiger  \n",
    "🐇 Rabbit  \n",
    "🐉 Dragon  \n",
    "🐍 Snake  \n",
    "🐎 Horse  \n",
    "🐑 Sheep / 🐐 Goat / 🐏 Ram  \n",
    "🐒 Monkey  \n",
    "🐓 Rooster  \n",
    "🐕 Dog  \n",
    "🐖 Pig  "
   ]
  },
  {
   "cell_type": "code",
   "execution_count": 110,
   "metadata": {},
   "outputs": [],
   "source": [
    "def chinese_zodiac #Your Code Here 👇\n",
    "\n",
    "\n",
    "\n",
    "\n",
    "\n",
    "\n",
    "\n"
   ]
  },
  {
   "cell_type": "code",
   "execution_count": 111,
   "metadata": {},
   "outputs": [
    {
     "name": "stdout",
     "output_type": "stream",
     "text": [
      "You were born in the year of the Rat 🐀\n"
     ]
    }
   ],
   "source": [
    "chinese_zodiac(2008)"
   ]
  },
  {
   "cell_type": "code",
   "execution_count": null,
   "metadata": {},
   "outputs": [],
   "source": [
    "chinese_zodiac(#Enter your birth year!)"
   ]
  },
  {
   "cell_type": "code",
   "execution_count": null,
   "metadata": {},
   "outputs": [],
   "source": [
    "chinese_zodiac(#Enter your partner's birth year!)"
   ]
  },
  {
   "cell_type": "markdown",
   "metadata": {},
   "source": [
    "## Exercise 2 — Make a Chinese Zodiac Python Script!"
   ]
  },
  {
   "cell_type": "markdown",
   "metadata": {},
   "source": [
    "Now we want to make a Python script called `zodiac.py` that we can run from the command line. The script will ask a user to enter their birth year and then report their Chinese zodiac animal.\n",
    "\n",
    "To make this script, open Visual Studio Code ([download here](https://code.visualstudio.com/download) if you don't already have it). Choose \"Open Folder\" and then select \"GitHub/Intro-CA-SP21/book\". Go to File -> Make a New File, then save this file as `zodiac.py`.\n",
    "\n",
    "Now you want to add in your Python (you can combine your `chinese_zodiac()` function with a few other necessary lines of code!).\n",
    "\n",
    "To test out the script, you can right-click the `zodiac.py` file and select \"Open in Integrated Terminal\". Then run `python zodiac.py` from the Terminal."
   ]
  },
  {
   "cell_type": "markdown",
   "metadata": {},
   "source": [
    "## Exercise 3 — Movie Recommender Script"
   ]
  },
  {
   "cell_type": "markdown",
   "metadata": {},
   "source": [
    "Make a Python script called `movie_recommender.py` that asks a user to type in their favorite dessert from some provided options (such as cake, pie, ice cream, mochi, flan, or candy) and then recommends a movie to them based on this selection."
   ]
  },
  {
   "cell_type": "markdown",
   "metadata": {},
   "source": [
    "![](../../images/movie_recommender.png)"
   ]
  }
 ],
 "metadata": {
  "kernelspec": {
   "display_name": "Python 3",
   "language": "python",
   "name": "python3"
  },
  "language_info": {
   "codemirror_mode": {
    "name": "ipython",
    "version": 3
   },
   "file_extension": ".py",
   "mimetype": "text/x-python",
   "name": "python",
   "nbconvert_exporter": "python",
   "pygments_lexer": "ipython3",
   "version": "3.8.8"
  }
 },
 "nbformat": 4,
 "nbformat_minor": 4
}
