{
 "cells": [
  {
   "cell_type": "markdown",
   "metadata": {},
   "source": [
    "# Lists & Loops — Part 1 Workbook"
   ]
  },
  {
   "cell_type": "markdown",
   "metadata": {},
   "source": [
    "- How can we apply the same bit of code to multiple values at the same time?\n",
    "- How can we consider multiple values at the same time?"
   ]
  },
  {
   "cell_type": "markdown",
   "metadata": {},
   "source": [
    "## Lists"
   ]
  },
  {
   "cell_type": "markdown",
   "metadata": {},
   "source": [
    "A `list` is a Python *data structure*, a way of grouping multiple values together. We've already encountered lists with the `.split()` method!"
   ]
  },
  {
   "cell_type": "code",
   "execution_count": 20,
   "metadata": {},
   "outputs": [],
   "source": [
    "kafka_line = \"One morning, when Gregor Samsa woke from troubled dreams, he found himself transformed in his bed into a horrible vermin.\""
   ]
  },
  {
   "cell_type": "code",
   "execution_count": 21,
   "metadata": {},
   "outputs": [
    {
     "data": {
      "text/plain": [
       "['One',\n",
       " 'morning,',\n",
       " 'when',\n",
       " 'Gregor',\n",
       " 'Samsa',\n",
       " 'woke',\n",
       " 'from',\n",
       " 'troubled',\n",
       " 'dreams,',\n",
       " 'he',\n",
       " 'found',\n",
       " 'himself',\n",
       " 'transformed',\n",
       " 'in',\n",
       " 'his',\n",
       " 'bed',\n",
       " 'into',\n",
       " 'a',\n",
       " 'horrible',\n",
       " 'vermin.']"
      ]
     },
     "execution_count": 21,
     "metadata": {},
     "output_type": "execute_result"
    }
   ],
   "source": [
    "kafka_line.split()"
   ]
  },
  {
   "cell_type": "markdown",
   "metadata": {},
   "source": [
    "A list is always enclosed by square brackets `[]` and accepts items in a row separated by commas (`,`). A list can contain any combination of Python data types — strings, numbers, or booleans all mixed together."
   ]
  },
  {
   "cell_type": "code",
   "execution_count": 26,
   "metadata": {},
   "outputs": [],
   "source": [
    "names = ['Mary Gallagher', 'John Sanin(?)',\\\n",
    "         'Anthony Clark', 'Margaret Farrell',\\\n",
    "         'Unity(?)', 'Catherine']"
   ]
  },
  {
   "cell_type": "code",
   "execution_count": 8,
   "metadata": {},
   "outputs": [
    {
     "data": {
      "text/plain": [
       "list"
      ]
     },
     "execution_count": 8,
     "metadata": {},
     "output_type": "execute_result"
    }
   ],
   "source": [
    "type(names)"
   ]
  },
  {
   "cell_type": "code",
   "execution_count": 19,
   "metadata": {},
   "outputs": [],
   "source": [
    "ages = [28, 19, 60, 30, 80, 23]"
   ]
  },
  {
   "cell_type": "code",
   "execution_count": 10,
   "metadata": {},
   "outputs": [
    {
     "data": {
      "text/plain": [
       "list"
      ]
     },
     "execution_count": 10,
     "metadata": {},
     "output_type": "execute_result"
    }
   ],
   "source": [
    "type(ages)"
   ]
  },
  {
   "cell_type": "markdown",
   "metadata": {},
   "source": [
    "- What if we wanted to remove the \"(?)\" from all the Bellevue people's names?\n",
    "- What if we wanted to calcuate the year each person was born based on their ages?"
   ]
  },
  {
   "cell_type": "markdown",
   "metadata": {},
   "source": [
    "## For Loops"
   ]
  },
  {
   "cell_type": "markdown",
   "metadata": {},
   "source": [
    "One of the best ways to work with a list is with `for` loops. This is a way of considering each item in the list or *iterating* through the list."
   ]
  },
  {
   "cell_type": "markdown",
   "metadata": {},
   "source": [
    "A basic basic `for` loop will consist of two lines:\n",
    "\n",
    "- On the first line, you type the English word `for`, a new variable name for each item in the list, the English word `in`, the name of the list, and a colon (`:`)\n",
    "\n",
    "- On the second line, you indent and write an instruction or “statement” to be completed for each item in the list"
   ]
  },
  {
   "cell_type": "code",
   "execution_count": 26,
   "metadata": {},
   "outputs": [],
   "source": [
    "names = ['Mary Gallagher', 'John Sanin(?)',\\\n",
    "         'Anthony Clark', 'Margaret Farrell',\\\n",
    "         'Unity(?)', 'Catherine']"
   ]
  },
  {
   "cell_type": "code",
   "execution_count": null,
   "metadata": {},
   "outputs": [],
   "source": [
    "for name in names:\n",
    "    print(f\"Person's name is {name}\")"
   ]
  },
  {
   "cell_type": "markdown",
   "metadata": {},
   "source": [
    "## Your turn!"
   ]
  },
  {
   "cell_type": "markdown",
   "metadata": {},
   "source": [
    "Iterate through the list `ages` and print out \"Person's age is\" for each item in the list."
   ]
  },
  {
   "cell_type": "code",
   "execution_count": 31,
   "metadata": {},
   "outputs": [],
   "source": [
    "ages = [28, 19, 60, 30, 80, 23]"
   ]
  },
  {
   "cell_type": "code",
   "execution_count": 33,
   "metadata": {},
   "outputs": [
    {
     "name": "stdout",
     "output_type": "stream",
     "text": [
      "Person's age is 28\n",
      "Person's age is 19\n",
      "Person's age is 60\n",
      "Person's age is 30\n",
      "Person's age is 80\n",
      "Person's age is 23\n"
     ]
    }
   ],
   "source": [
    "#Your code here\n",
    "    #Your code here"
   ]
  },
  {
   "cell_type": "markdown",
   "metadata": {},
   "source": [
    "## Exercises"
   ]
  },
  {
   "cell_type": "markdown",
   "metadata": {},
   "source": [
    "### Exercise 1"
   ]
  },
  {
   "cell_type": "markdown",
   "metadata": {},
   "source": [
    "Let's calculate the birth year for each of these Irish immigrants. Note that these ages were recorded in the year 1847."
   ]
  },
  {
   "cell_type": "code",
   "execution_count": 31,
   "metadata": {},
   "outputs": [],
   "source": [
    "ages = [28, 19, 60, 30, 80, 23]"
   ]
  },
  {
   "cell_type": "code",
   "execution_count": 38,
   "metadata": {},
   "outputs": [
    {
     "name": "stdout",
     "output_type": "stream",
     "text": [
      "1819\n",
      "1828\n",
      "1787\n",
      "1817\n",
      "1767\n",
      "1824\n"
     ]
    }
   ],
   "source": [
    "#Your code here\n",
    "    birth_year...\n",
    "    print(birth_year)"
   ]
  },
  {
   "cell_type": "markdown",
   "metadata": {},
   "source": [
    "### Exercise 2"
   ]
  },
  {
   "cell_type": "markdown",
   "metadata": {},
   "source": [
    "Let's print out their birth years with a statement that says \"Person was born in\"."
   ]
  },
  {
   "cell_type": "code",
   "execution_count": 40,
   "metadata": {},
   "outputs": [
    {
     "name": "stdout",
     "output_type": "stream",
     "text": [
      "Person was born in 1819\n",
      "Person was born in 1828\n",
      "Person was born in 1787\n",
      "Person was born in 1817\n",
      "Person was born in 1767\n",
      "Person was born in 1824\n"
     ]
    }
   ],
   "source": [
    "#Your code here\n",
    "    #Your code here\n",
    "    #Your code here"
   ]
  },
  {
   "cell_type": "markdown",
   "metadata": {},
   "source": [
    "### Exercise 3"
   ]
  },
  {
   "cell_type": "markdown",
   "metadata": {},
   "source": [
    "Let's clean up this list of names."
   ]
  },
  {
   "cell_type": "code",
   "execution_count": 34,
   "metadata": {},
   "outputs": [],
   "source": [
    "names = ['Mary Gallagher', 'John Sanin(?)',\\\n",
    "         'Anthony Clark', 'Margaret Farrell',\\\n",
    "         'Unity(?)', 'Catherine']"
   ]
  },
  {
   "cell_type": "markdown",
   "metadata": {},
   "source": [
    "Print out each name in this list. Remove \"(?)\" from any of the names."
   ]
  },
  {
   "cell_type": "markdown",
   "metadata": {},
   "source": [
    "*Note: there may be multiple ways to accomplish this task!*"
   ]
  },
  {
   "cell_type": "code",
   "execution_count": 36,
   "metadata": {},
   "outputs": [
    {
     "name": "stdout",
     "output_type": "stream",
     "text": [
      "Mary Gallagher\n",
      "John Sanin\n",
      "Anthony Clark\n",
      "Margaret Farrell\n",
      "Unity\n",
      "Catherine\n"
     ]
    }
   ],
   "source": [
    "#Your code here\n",
    "    clean_name...\n",
    "    #Your code here"
   ]
  },
  {
   "cell_type": "markdown",
   "metadata": {},
   "source": [
    "### Exercise 4"
   ]
  },
  {
   "cell_type": "markdown",
   "metadata": {},
   "source": [
    "Are names that contain a \"(?)\" really very reliable? Maybe we want to remove them. \n",
    "\n",
    "Print out the names in this list but do not print a name if it contains \"(?)\"."
   ]
  },
  {
   "cell_type": "markdown",
   "metadata": {},
   "source": [
    "*Note: to test whether a phrase is **not in** a string, you can use `not in`*"
   ]
  },
  {
   "cell_type": "code",
   "execution_count": 34,
   "metadata": {},
   "outputs": [],
   "source": [
    "names = ['Mary Gallagher', 'John Sanin(?)',\\\n",
    "         'Anthony Clark', 'Margaret Farrell',\\\n",
    "         'Unity(?)', 'Catherine']"
   ]
  },
  {
   "cell_type": "code",
   "execution_count": 42,
   "metadata": {},
   "outputs": [
    {
     "name": "stdout",
     "output_type": "stream",
     "text": [
      "Mary Gallagher\n",
      "Anthony Clark\n",
      "Margaret Farrell\n",
      "Catherine\n"
     ]
    }
   ],
   "source": [
    "#Your code here\n",
    "    #Your code here\n",
    "        #Your code here"
   ]
  }
 ],
 "metadata": {
  "kernelspec": {
   "display_name": "Python 3",
   "language": "python",
   "name": "python3"
  },
  "language_info": {
   "codemirror_mode": {
    "name": "ipython",
    "version": 3
   },
   "file_extension": ".py",
   "mimetype": "text/x-python",
   "name": "python",
   "nbconvert_exporter": "python",
   "pygments_lexer": "ipython3",
   "version": "3.7.6"
  }
 },
 "nbformat": 4,
 "nbformat_minor": 4
}
