{
 "cells": [
  {
   "cell_type": "markdown",
   "metadata": {},
   "source": [
    "# Lists & Loops — Part 2 — Workbook"
   ]
  },
  {
   "cell_type": "markdown",
   "metadata": {},
   "source": [
    "*If you want to save your work from this notebook, you should be sure to make a copy of it on your own computer!!!*\n",
    "\n",
    "*You can right-click the file in the file browser, select \"Rename,\" then add your initials or last name.*"
   ]
  },
  {
   "cell_type": "markdown",
   "metadata": {},
   "source": [
    "Here are a few things we can do with lists. For more list methods, refer to Python's [documentation](https://docs.python.org/3/tutorial/datastructures.html)."
   ]
  },
  {
   "cell_type": "markdown",
   "metadata": {},
   "source": [
    "## Sort"
   ]
  },
  {
   "cell_type": "code",
   "execution_count": null,
   "metadata": {},
   "outputs": [],
   "source": [
    "ages = [28, 19, 60, 30, 80, 23]"
   ]
  },
  {
   "cell_type": "code",
   "execution_count": null,
   "metadata": {},
   "outputs": [],
   "source": [
    "ages.sort()"
   ]
  },
  {
   "cell_type": "markdown",
   "metadata": {},
   "source": [
    "Ascending order is the default"
   ]
  },
  {
   "cell_type": "code",
   "execution_count": null,
   "metadata": {},
   "outputs": [],
   "source": [
    "print(ages)"
   ]
  },
  {
   "cell_type": "code",
   "execution_count": null,
   "metadata": {},
   "outputs": [],
   "source": [
    "ages.sort(reverse=True)"
   ]
  },
  {
   "cell_type": "markdown",
   "metadata": {},
   "source": [
    "Descending order requires `reverse=True`"
   ]
  },
  {
   "cell_type": "code",
   "execution_count": null,
   "metadata": {},
   "outputs": [],
   "source": [
    "print(ages)"
   ]
  },
  {
   "cell_type": "markdown",
   "metadata": {},
   "source": [
    "## Enumerate"
   ]
  },
  {
   "cell_type": "markdown",
   "metadata": {},
   "source": [
    "You might want to keep a numerical count or index of items in a list. To print out each item in the list with a corresponding number, you can use the built-in Python function `enumerate()`."
   ]
  },
  {
   "cell_type": "code",
   "execution_count": 100,
   "metadata": {},
   "outputs": [],
   "source": [
    "names = ['Mary Gallagher', 'John Sanin(?)',\\\n",
    "         'Anthony Clark', 'Margaret Farrell',\\\n",
    "         'Unity(?)', 'Catherine']"
   ]
  },
  {
   "cell_type": "code",
   "execution_count": null,
   "metadata": {},
   "outputs": [],
   "source": [
    "for count, name in enumerate(names):\n",
    "    print(count, name)"
   ]
  },
  {
   "cell_type": "markdown",
   "metadata": {},
   "source": [
    "## Length"
   ]
  },
  {
   "cell_type": "markdown",
   "metadata": {},
   "source": [
    "Calculate how many values are in a list aka the *length* of the list."
   ]
  },
  {
   "cell_type": "code",
   "execution_count": null,
   "metadata": {},
   "outputs": [],
   "source": [
    "len(names)"
   ]
  },
  {
   "cell_type": "markdown",
   "metadata": {},
   "source": [
    "## Append"
   ]
  },
  {
   "cell_type": "markdown",
   "metadata": {},
   "source": [
    "You can add values to a list with `.append()`."
   ]
  },
  {
   "cell_type": "code",
   "execution_count": 72,
   "metadata": {},
   "outputs": [],
   "source": [
    "names.append(\"Rosanna\")"
   ]
  },
  {
   "cell_type": "code",
   "execution_count": null,
   "metadata": {},
   "outputs": [],
   "source": [
    "print(names)"
   ]
  },
  {
   "cell_type": "code",
   "execution_count": null,
   "metadata": {},
   "outputs": [],
   "source": [
    "len(names)"
   ]
  },
  {
   "cell_type": "markdown",
   "metadata": {},
   "source": [
    "## Make a new list"
   ]
  },
  {
   "cell_type": "code",
   "execution_count": 120,
   "metadata": {},
   "outputs": [],
   "source": [
    "m_names = []\n",
    "for name in names:\n",
    "    if name.startswith('M'):\n",
    "        m_names.append(name)"
   ]
  },
  {
   "cell_type": "code",
   "execution_count": null,
   "metadata": {},
   "outputs": [],
   "source": [
    "print(m_names)"
   ]
  },
  {
   "cell_type": "markdown",
   "metadata": {},
   "source": [
    "## Exercise 1"
   ]
  },
  {
   "cell_type": "markdown",
   "metadata": {},
   "source": [
    "Let's make a new list called `birth_years`, which includes the birth year for each of the Irish immigrants represented in this list. Note that these ages were recorded in the year 1847."
   ]
  },
  {
   "cell_type": "code",
   "execution_count": 2,
   "metadata": {},
   "outputs": [],
   "source": [
    "ages = [28, 19, 60, 30, 80, 23]"
   ]
  },
  {
   "cell_type": "code",
   "execution_count": null,
   "metadata": {},
   "outputs": [],
   "source": [
    "#Your code here\n",
    "for age in ages:\n",
    "    birth_year = 1847 - age\n",
    "    #Your code here"
   ]
  },
  {
   "cell_type": "code",
   "execution_count": 6,
   "metadata": {},
   "outputs": [
    {
     "name": "stdout",
     "output_type": "stream",
     "text": [
      "[1819, 1828, 1787, 1817, 1767, 1824]\n"
     ]
    }
   ],
   "source": [
    "print(birth_years)"
   ]
  },
  {
   "cell_type": "markdown",
   "metadata": {},
   "source": [
    "## Exercise 2"
   ]
  },
  {
   "cell_type": "markdown",
   "metadata": {},
   "source": [
    "Let's make a new list called `old_people`, which includes any age that is 28 or older."
   ]
  },
  {
   "cell_type": "code",
   "execution_count": 52,
   "metadata": {},
   "outputs": [],
   "source": [
    "#Your code here\n",
    "#Your code here\n",
    "    #Your code here\n",
    "        #Your code here"
   ]
  },
  {
   "cell_type": "code",
   "execution_count": 53,
   "metadata": {},
   "outputs": [
    {
     "name": "stdout",
     "output_type": "stream",
     "text": [
      "[28, 60, 30, 80]\n"
     ]
    }
   ],
   "source": [
    "print(old_people)"
   ]
  },
  {
   "cell_type": "markdown",
   "metadata": {},
   "source": [
    "## Exercise 3-5"
   ]
  },
  {
   "cell_type": "markdown",
   "metadata": {},
   "source": [
    "A few years ago, Hannah Fingerhut published a data-driven analysis of biographical films — otherwise known as \"biopics\" — for the publication 538. Examples of biopics include movies like:\n",
    "- *The Social Network* (Mark Zuckerberg played by Jesse Eisenberg)\n",
    "- *The Imitation Game* (Alan Turing played by Benedict Cumberbatch)\n",
    "- *Hidden Figures* (Katherine Johnson played by Taraji P. Henson)\n",
    "\n",
    "Fingerhut identified the race and gender of the main subjects in these major Hollwood biopics from 1915 to 2015, and she published all of the data for this investigation on [GitHub](https://github.com/fivethirtyeight/data/blob/master/biopics/biopics.csv)."
   ]
  },
  {
   "cell_type": "markdown",
   "metadata": {},
   "source": [
    "![](https://fivethirtyeight.com/wp-content/uploads/2015/08/fingerhut-datalab-biopic-1.png?w=610)"
   ]
  },
  {
   "cell_type": "markdown",
   "metadata": {},
   "source": [
    "![](https://fivethirtyeight.com/wp-content/uploads/2015/08/fingerhut-datalab-biopic-2.png?w=610)"
   ]
  },
  {
   "cell_type": "markdown",
   "metadata": {},
   "source": [
    "We're going to work with the column \"subject_race\" from Fingerhut's data set. I copied and pasted the values from this column into a plain text file. (We will learn how to work with CSV files, but we're not there quite yet.)"
   ]
  },
  {
   "cell_type": "markdown",
   "metadata": {},
   "source": [
    "Let's open and read the file."
   ]
  },
  {
   "cell_type": "code",
   "execution_count": 122,
   "metadata": {},
   "outputs": [],
   "source": [
    "biopics_race = open('biopics_race.txt', mode='r', encoding='utf-8').read()"
   ]
  },
  {
   "cell_type": "markdown",
   "metadata": {},
   "source": [
    "Let's split on new lines `\\n` so we can have a list with values for each line."
   ]
  },
  {
   "cell_type": "code",
   "execution_count": 123,
   "metadata": {
    "scrolled": true
   },
   "outputs": [
    {
     "data": {
      "text/plain": [
       "['',\n",
       " 'African American',\n",
       " '',\n",
       " 'White',\n",
       " '',\n",
       " 'Asian American',\n",
       " 'White',\n",
       " 'African American',\n",
       " '',\n",
       " '',\n",
       " '',\n",
       " '',\n",
       " 'White',\n",
       " 'White',\n",
       " 'White',\n",
       " '',\n",
       " 'White',\n",
       " 'White',\n",
       " 'Hispanic (White)',\n",
       " 'Hispanic (White)',\n",
       " 'White',\n",
       " 'Multi racial',\n",
       " 'White',\n",
       " 'White',\n",
       " '',\n",
       " 'White',\n",
       " '',\n",
       " 'White',\n",
       " 'White',\n",
       " 'White',\n",
       " 'African American',\n",
       " '',\n",
       " 'White',\n",
       " 'White',\n",
       " 'White',\n",
       " 'White',\n",
       " 'African American',\n",
       " 'Hispanic (Latino)',\n",
       " '',\n",
       " 'White',\n",
       " 'White',\n",
       " '',\n",
       " 'White',\n",
       " 'White',\n",
       " 'Multi racial',\n",
       " 'White',\n",
       " 'White',\n",
       " '',\n",
       " 'African American',\n",
       " 'White',\n",
       " 'White',\n",
       " 'African American',\n",
       " 'White',\n",
       " 'White',\n",
       " 'White',\n",
       " 'Indian',\n",
       " 'White',\n",
       " 'Multi racial',\n",
       " 'White',\n",
       " '',\n",
       " 'White',\n",
       " 'White',\n",
       " 'White',\n",
       " 'White',\n",
       " 'Hispanic (Latin American)',\n",
       " 'Multi racial',\n",
       " 'White',\n",
       " 'White',\n",
       " 'White',\n",
       " '',\n",
       " 'White',\n",
       " 'White',\n",
       " 'White',\n",
       " 'Multi racial',\n",
       " '',\n",
       " 'White',\n",
       " '',\n",
       " '',\n",
       " 'White',\n",
       " '',\n",
       " 'African American',\n",
       " '',\n",
       " '',\n",
       " '',\n",
       " '',\n",
       " 'White',\n",
       " '',\n",
       " 'White',\n",
       " 'White',\n",
       " 'White',\n",
       " 'White',\n",
       " 'White',\n",
       " '',\n",
       " '',\n",
       " 'White',\n",
       " '',\n",
       " 'White',\n",
       " 'White',\n",
       " '',\n",
       " '',\n",
       " 'White',\n",
       " 'White',\n",
       " 'African American',\n",
       " 'African American',\n",
       " 'White',\n",
       " 'White',\n",
       " 'Middle Eastern',\n",
       " 'Mediterranean',\n",
       " '',\n",
       " 'White',\n",
       " '',\n",
       " 'White',\n",
       " '',\n",
       " 'White',\n",
       " '',\n",
       " 'White',\n",
       " 'White',\n",
       " 'White',\n",
       " '',\n",
       " '',\n",
       " 'Caribbean',\n",
       " 'African',\n",
       " '',\n",
       " 'Hispanic (Latino)',\n",
       " 'White',\n",
       " '',\n",
       " '',\n",
       " '',\n",
       " 'Hispanic (Latin American)',\n",
       " 'Hispanic (Latin American)',\n",
       " 'Hispanic (Latin American)',\n",
       " '',\n",
       " 'White',\n",
       " 'White',\n",
       " 'White',\n",
       " 'Middle Eastern',\n",
       " 'Middle Eastern',\n",
       " 'Multi racial',\n",
       " 'White',\n",
       " '',\n",
       " 'White',\n",
       " 'White',\n",
       " '',\n",
       " '',\n",
       " '',\n",
       " 'White',\n",
       " 'Hispanic (Latino)',\n",
       " '',\n",
       " 'White',\n",
       " '',\n",
       " '',\n",
       " 'African',\n",
       " 'White',\n",
       " 'White',\n",
       " '',\n",
       " '',\n",
       " 'White',\n",
       " 'White',\n",
       " 'White',\n",
       " 'Hispanic (White)',\n",
       " 'Middle Eastern',\n",
       " 'African',\n",
       " 'White',\n",
       " 'White',\n",
       " '',\n",
       " '',\n",
       " '',\n",
       " 'White',\n",
       " 'White',\n",
       " 'White',\n",
       " 'White',\n",
       " '',\n",
       " 'White',\n",
       " '',\n",
       " 'White',\n",
       " 'White',\n",
       " 'White',\n",
       " 'Multi racial',\n",
       " 'White',\n",
       " 'Asian American',\n",
       " '',\n",
       " '',\n",
       " '',\n",
       " 'White',\n",
       " 'White',\n",
       " 'Hispanic (Latin American)',\n",
       " 'Hispanic (White)',\n",
       " 'White',\n",
       " 'White',\n",
       " '',\n",
       " '',\n",
       " '',\n",
       " '',\n",
       " 'White',\n",
       " '',\n",
       " 'Hispanic (Latin American)',\n",
       " 'Middle Eastern (White)',\n",
       " 'White',\n",
       " 'White',\n",
       " 'White',\n",
       " 'White',\n",
       " '',\n",
       " 'White',\n",
       " 'White',\n",
       " 'White',\n",
       " 'White',\n",
       " '',\n",
       " '',\n",
       " 'White',\n",
       " 'White',\n",
       " 'White',\n",
       " 'White',\n",
       " 'White',\n",
       " 'African American',\n",
       " 'White',\n",
       " 'White',\n",
       " 'Hispanic (Latin American)',\n",
       " 'African American',\n",
       " 'White',\n",
       " 'White',\n",
       " 'Indian',\n",
       " 'White',\n",
       " 'Native American',\n",
       " 'African American',\n",
       " 'African American',\n",
       " 'White',\n",
       " '',\n",
       " '',\n",
       " 'White',\n",
       " 'White',\n",
       " '',\n",
       " '',\n",
       " 'White',\n",
       " '',\n",
       " 'Hispanic (White)',\n",
       " 'White',\n",
       " 'White',\n",
       " 'African American',\n",
       " '',\n",
       " 'Multi racial',\n",
       " 'White',\n",
       " 'White',\n",
       " 'White',\n",
       " 'White',\n",
       " 'White',\n",
       " 'Asian American',\n",
       " 'Hispanic (Latino)',\n",
       " 'White',\n",
       " 'White',\n",
       " 'White',\n",
       " 'White',\n",
       " 'White',\n",
       " 'White',\n",
       " 'White',\n",
       " 'White',\n",
       " 'White',\n",
       " 'White',\n",
       " 'White',\n",
       " 'White',\n",
       " 'White',\n",
       " 'White',\n",
       " '',\n",
       " 'White',\n",
       " 'White',\n",
       " 'White',\n",
       " 'White',\n",
       " '',\n",
       " 'Middle Eastern',\n",
       " '',\n",
       " 'Hispanic (White)',\n",
       " '',\n",
       " 'White',\n",
       " 'White',\n",
       " 'White',\n",
       " 'White',\n",
       " 'White',\n",
       " 'White',\n",
       " 'White',\n",
       " 'White',\n",
       " 'White',\n",
       " 'White',\n",
       " '',\n",
       " '',\n",
       " 'White',\n",
       " '',\n",
       " 'African',\n",
       " 'White',\n",
       " '',\n",
       " 'White',\n",
       " '',\n",
       " 'White',\n",
       " 'Multi racial',\n",
       " 'White',\n",
       " '',\n",
       " 'White',\n",
       " 'White',\n",
       " 'White',\n",
       " 'White',\n",
       " 'White',\n",
       " 'White',\n",
       " 'White',\n",
       " 'White',\n",
       " 'Native American',\n",
       " 'Multi racial',\n",
       " 'Middle Eastern',\n",
       " 'African American',\n",
       " 'White',\n",
       " 'Multi racial',\n",
       " 'White',\n",
       " 'Hispanic (Latin American)',\n",
       " '',\n",
       " '',\n",
       " '',\n",
       " 'White',\n",
       " '',\n",
       " 'White',\n",
       " 'White',\n",
       " 'Middle Eastern (White)',\n",
       " 'Middle Eastern (White)',\n",
       " 'White',\n",
       " 'White',\n",
       " 'White',\n",
       " 'White',\n",
       " 'Asian',\n",
       " 'Hispanic (Latino)',\n",
       " 'White',\n",
       " '',\n",
       " 'African American',\n",
       " 'White',\n",
       " 'White',\n",
       " 'African American',\n",
       " 'White',\n",
       " 'White',\n",
       " 'Middle Eastern',\n",
       " 'White',\n",
       " 'Multi racial',\n",
       " '',\n",
       " '',\n",
       " 'Hispanic (Latino)',\n",
       " '',\n",
       " 'White',\n",
       " 'White',\n",
       " 'Eurasian',\n",
       " 'White',\n",
       " '',\n",
       " 'White',\n",
       " 'White',\n",
       " 'White',\n",
       " 'White',\n",
       " 'White',\n",
       " 'White',\n",
       " 'White',\n",
       " '',\n",
       " 'White',\n",
       " 'White',\n",
       " 'White',\n",
       " '',\n",
       " 'African American',\n",
       " 'White',\n",
       " '',\n",
       " 'African',\n",
       " 'White',\n",
       " 'White',\n",
       " 'White',\n",
       " 'White',\n",
       " 'White',\n",
       " 'White',\n",
       " 'African American',\n",
       " 'White',\n",
       " 'White',\n",
       " 'White',\n",
       " 'White',\n",
       " '',\n",
       " 'White',\n",
       " 'White',\n",
       " 'White',\n",
       " '',\n",
       " 'Asian',\n",
       " 'White',\n",
       " '',\n",
       " 'White',\n",
       " 'White',\n",
       " 'White',\n",
       " 'White',\n",
       " '',\n",
       " '',\n",
       " '',\n",
       " 'White',\n",
       " 'White',\n",
       " 'White',\n",
       " 'Middle Eastern',\n",
       " '',\n",
       " 'Multi racial',\n",
       " '',\n",
       " 'White',\n",
       " 'White',\n",
       " 'White',\n",
       " 'White',\n",
       " 'White',\n",
       " '',\n",
       " 'White',\n",
       " 'White',\n",
       " 'White',\n",
       " '',\n",
       " 'White',\n",
       " 'White',\n",
       " 'White',\n",
       " '',\n",
       " '',\n",
       " 'Caribbean',\n",
       " 'White',\n",
       " 'Multi racial',\n",
       " '',\n",
       " 'White',\n",
       " 'Middle Eastern (White)',\n",
       " '',\n",
       " '',\n",
       " 'White',\n",
       " '',\n",
       " '',\n",
       " 'White',\n",
       " '',\n",
       " '',\n",
       " 'White',\n",
       " 'White',\n",
       " 'White',\n",
       " 'Middle Eastern',\n",
       " 'African American',\n",
       " 'White',\n",
       " 'White',\n",
       " 'Hispanic (Latin American)',\n",
       " 'White',\n",
       " 'White',\n",
       " '',\n",
       " '',\n",
       " 'White',\n",
       " 'White',\n",
       " 'White',\n",
       " '',\n",
       " 'White',\n",
       " 'White',\n",
       " 'White',\n",
       " 'White',\n",
       " 'African American',\n",
       " '',\n",
       " 'White',\n",
       " 'White',\n",
       " 'White',\n",
       " 'African American',\n",
       " '',\n",
       " 'White',\n",
       " 'White',\n",
       " 'White',\n",
       " 'African American',\n",
       " 'White',\n",
       " 'White',\n",
       " 'White',\n",
       " 'White',\n",
       " 'White',\n",
       " 'White',\n",
       " '',\n",
       " '',\n",
       " '',\n",
       " 'White',\n",
       " 'Hispanic (Latin American)',\n",
       " 'Middle Eastern',\n",
       " '',\n",
       " 'White',\n",
       " 'White',\n",
       " 'White',\n",
       " 'White',\n",
       " 'White',\n",
       " '',\n",
       " 'White',\n",
       " 'White',\n",
       " 'White',\n",
       " 'White',\n",
       " '',\n",
       " 'Hispanic (Latina)',\n",
       " '',\n",
       " 'African American',\n",
       " 'White',\n",
       " 'White',\n",
       " 'White',\n",
       " 'White',\n",
       " '',\n",
       " 'White',\n",
       " 'White',\n",
       " '',\n",
       " '',\n",
       " '',\n",
       " 'White',\n",
       " '',\n",
       " 'African',\n",
       " 'White',\n",
       " 'Middle Eastern (White)',\n",
       " '',\n",
       " '',\n",
       " 'White',\n",
       " 'Native American',\n",
       " 'White',\n",
       " 'White',\n",
       " 'White',\n",
       " 'White',\n",
       " 'White',\n",
       " '',\n",
       " 'White',\n",
       " 'White',\n",
       " '',\n",
       " 'White',\n",
       " 'White',\n",
       " 'White',\n",
       " 'White',\n",
       " 'White',\n",
       " '',\n",
       " 'White',\n",
       " 'White',\n",
       " 'White',\n",
       " 'White',\n",
       " 'African American',\n",
       " 'White',\n",
       " 'White',\n",
       " '',\n",
       " '',\n",
       " '',\n",
       " 'White',\n",
       " 'White',\n",
       " 'White',\n",
       " '',\n",
       " '',\n",
       " 'White',\n",
       " '',\n",
       " 'White',\n",
       " 'White',\n",
       " '',\n",
       " 'White',\n",
       " '',\n",
       " 'White',\n",
       " 'Multi racial',\n",
       " 'Multi racial',\n",
       " 'White',\n",
       " 'White',\n",
       " '',\n",
       " '',\n",
       " 'White',\n",
       " 'African American',\n",
       " 'White',\n",
       " 'White',\n",
       " '',\n",
       " 'Multi racial',\n",
       " 'Multi racial',\n",
       " 'White',\n",
       " '',\n",
       " 'Asian',\n",
       " 'White',\n",
       " 'White',\n",
       " '',\n",
       " '',\n",
       " 'White',\n",
       " 'White',\n",
       " 'White',\n",
       " 'White',\n",
       " 'White',\n",
       " '',\n",
       " 'White',\n",
       " 'White',\n",
       " '',\n",
       " 'African American',\n",
       " '',\n",
       " 'White',\n",
       " 'White',\n",
       " 'African',\n",
       " '',\n",
       " '',\n",
       " 'White',\n",
       " 'White',\n",
       " 'White',\n",
       " 'White',\n",
       " 'White',\n",
       " 'White',\n",
       " 'White',\n",
       " 'African American',\n",
       " '',\n",
       " 'White',\n",
       " 'White',\n",
       " 'African American',\n",
       " 'Middle Eastern (White)',\n",
       " '',\n",
       " '',\n",
       " 'White',\n",
       " 'White',\n",
       " '',\n",
       " 'African American',\n",
       " 'White',\n",
       " '',\n",
       " 'White',\n",
       " 'White',\n",
       " '',\n",
       " 'White',\n",
       " 'White',\n",
       " 'African American',\n",
       " 'Middle Eastern (White)',\n",
       " 'White',\n",
       " 'Multi racial',\n",
       " 'Middle Eastern (White)',\n",
       " 'White',\n",
       " 'Multi racial',\n",
       " 'Multi racial',\n",
       " 'Asian',\n",
       " 'Asian',\n",
       " 'African',\n",
       " 'White',\n",
       " '',\n",
       " 'White',\n",
       " '',\n",
       " '',\n",
       " 'White',\n",
       " 'White',\n",
       " 'White',\n",
       " 'White',\n",
       " 'White',\n",
       " 'African American',\n",
       " '',\n",
       " 'White',\n",
       " 'White',\n",
       " '',\n",
       " 'White',\n",
       " 'Middle Eastern',\n",
       " 'Middle Eastern (White)',\n",
       " 'White',\n",
       " 'White',\n",
       " 'Hispanic (Latin American)',\n",
       " 'White',\n",
       " 'Native American',\n",
       " 'White',\n",
       " 'Multi racial',\n",
       " 'White',\n",
       " 'White',\n",
       " '',\n",
       " '',\n",
       " 'White',\n",
       " '',\n",
       " 'White',\n",
       " 'White',\n",
       " 'White',\n",
       " 'White',\n",
       " 'Middle Eastern (White)',\n",
       " 'Middle Eastern (White)',\n",
       " 'White',\n",
       " 'White',\n",
       " 'White',\n",
       " 'White',\n",
       " '',\n",
       " 'African American',\n",
       " 'White',\n",
       " '',\n",
       " 'White',\n",
       " 'White',\n",
       " 'White',\n",
       " '',\n",
       " '',\n",
       " 'White',\n",
       " 'White',\n",
       " '',\n",
       " 'African American',\n",
       " '',\n",
       " 'White',\n",
       " 'White',\n",
       " 'White',\n",
       " 'White',\n",
       " 'White',\n",
       " 'White',\n",
       " 'White',\n",
       " '',\n",
       " '',\n",
       " '',\n",
       " '',\n",
       " 'Middle Eastern (White)',\n",
       " 'White',\n",
       " 'White',\n",
       " 'White',\n",
       " 'White',\n",
       " 'White',\n",
       " 'Middle Eastern (White)',\n",
       " 'White',\n",
       " 'White',\n",
       " 'Multi racial',\n",
       " '',\n",
       " 'White',\n",
       " '',\n",
       " '',\n",
       " 'White',\n",
       " 'White',\n",
       " 'White',\n",
       " 'White',\n",
       " 'White',\n",
       " 'White',\n",
       " '',\n",
       " 'White',\n",
       " '',\n",
       " 'White',\n",
       " 'White',\n",
       " 'White',\n",
       " 'White',\n",
       " 'White',\n",
       " 'White',\n",
       " 'White',\n",
       " 'White',\n",
       " '',\n",
       " '',\n",
       " '',\n",
       " 'White',\n",
       " 'White',\n",
       " 'White',\n",
       " 'White',\n",
       " '',\n",
       " '',\n",
       " 'White',\n",
       " '',\n",
       " 'White',\n",
       " 'White',\n",
       " 'White',\n",
       " 'White',\n",
       " 'White',\n",
       " 'White',\n",
       " 'White',\n",
       " 'White',\n",
       " 'Hispanic (Latin American)',\n",
       " 'Hispanic (Latin American)',\n",
       " 'White',\n",
       " 'White',\n",
       " 'White',\n",
       " 'White',\n",
       " 'White',\n",
       " '',\n",
       " '',\n",
       " 'Multi racial',\n",
       " 'White',\n",
       " '',\n",
       " '',\n",
       " 'African American',\n",
       " '',\n",
       " 'White',\n",
       " 'White',\n",
       " 'White',\n",
       " 'African',\n",
       " '',\n",
       " '',\n",
       " 'White',\n",
       " 'White',\n",
       " 'White',\n",
       " 'White',\n",
       " 'White',\n",
       " 'White',\n",
       " 'White',\n",
       " 'White',\n",
       " 'White',\n",
       " 'White',\n",
       " 'White',\n",
       " 'White',\n",
       " '',\n",
       " '']"
      ]
     },
     "execution_count": 123,
     "metadata": {},
     "output_type": "execute_result"
    }
   ],
   "source": [
    "biopics_race.split('\\n')"
   ]
  },
  {
   "cell_type": "code",
   "execution_count": 124,
   "metadata": {},
   "outputs": [],
   "source": [
    "all_races = biopics_race.split('\\n')"
   ]
  },
  {
   "cell_type": "markdown",
   "metadata": {},
   "source": [
    "Calculate how many values are in this list"
   ]
  },
  {
   "cell_type": "code",
   "execution_count": null,
   "metadata": {},
   "outputs": [],
   "source": [
    "len(all_races)"
   ]
  },
  {
   "cell_type": "markdown",
   "metadata": {},
   "source": [
    "## Exercise 3"
   ]
  },
  {
   "cell_type": "markdown",
   "metadata": {},
   "source": [
    "Loop through the list `all_races`. If an item in the list is \"White\", append it to a new list called `white_subjects`."
   ]
  },
  {
   "cell_type": "code",
   "execution_count": 84,
   "metadata": {},
   "outputs": [],
   "source": [
    "white_subjects = []\n",
    "#Your code here\n",
    "    #Your code here\n",
    "        #Your code here"
   ]
  },
  {
   "cell_type": "markdown",
   "metadata": {},
   "source": [
    "Calculate how many values are in this list"
   ]
  },
  {
   "cell_type": "code",
   "execution_count": null,
   "metadata": {},
   "outputs": [],
   "source": [
    "len(white_subjects)"
   ]
  },
  {
   "cell_type": "markdown",
   "metadata": {},
   "source": [
    "Calulcate the percentage of white biopic subjects compared to the total"
   ]
  },
  {
   "cell_type": "code",
   "execution_count": null,
   "metadata": {},
   "outputs": [],
   "source": [
    "len(white_subjects) / len(all_races)"
   ]
  },
  {
   "cell_type": "markdown",
   "metadata": {},
   "source": [
    "## Exercise 4"
   ]
  },
  {
   "cell_type": "markdown",
   "metadata": {},
   "source": [
    "Loop through the list `all_races`. If an item in the list is \"African American\", append it to a new list called `aa_subjects`."
   ]
  },
  {
   "cell_type": "code",
   "execution_count": 86,
   "metadata": {},
   "outputs": [],
   "source": [
    "#Your code here\n",
    "#Your code here\n",
    "    #Your code here\n",
    "        #Your code here"
   ]
  },
  {
   "cell_type": "markdown",
   "metadata": {},
   "source": [
    "Calulcate the percentage of African American biopic subjects from the total"
   ]
  },
  {
   "cell_type": "code",
   "execution_count": null,
   "metadata": {},
   "outputs": [],
   "source": [
    "len(aa_subjects) / len(all_races)"
   ]
  },
  {
   "cell_type": "markdown",
   "metadata": {},
   "source": [
    "## Exercise 5"
   ]
  },
  {
   "cell_type": "markdown",
   "metadata": {},
   "source": [
    "Loop through the list `all_races`. If an item in the list is \"Asian\", append it to a new list called `asian_subjects`."
   ]
  },
  {
   "cell_type": "code",
   "execution_count": 90,
   "metadata": {},
   "outputs": [],
   "source": [
    "aa_subjects = []\n",
    "for race in races:\n",
    "    if race == 'Asian':\n",
    "        aa_subjects.append(race)"
   ]
  },
  {
   "cell_type": "markdown",
   "metadata": {},
   "source": [
    "Calulcate the percentage of African American biopic subjects from the total"
   ]
  },
  {
   "cell_type": "code",
   "execution_count": null,
   "metadata": {},
   "outputs": [],
   "source": [
    "len(asian_subjects)"
   ]
  },
  {
   "cell_type": "code",
   "execution_count": null,
   "metadata": {},
   "outputs": [],
   "source": [
    "len(asian_subjects) / len(all_races)"
   ]
  },
  {
   "cell_type": "markdown",
   "metadata": {},
   "source": [
    "## Counter"
   ]
  },
  {
   "cell_type": "markdown",
   "metadata": {},
   "source": [
    "We can import a very useful function called Counter and use it to count all unique values in a list."
   ]
  },
  {
   "cell_type": "code",
   "execution_count": 36,
   "metadata": {},
   "outputs": [],
   "source": [
    "from collections import Counter"
   ]
  },
  {
   "cell_type": "code",
   "execution_count": null,
   "metadata": {},
   "outputs": [],
   "source": [
    "Counter(all_races)"
   ]
  },
  {
   "cell_type": "markdown",
   "metadata": {},
   "source": [
    "By using the `.most_common()` method, we can sort from most to least frequent."
   ]
  },
  {
   "cell_type": "code",
   "execution_count": null,
   "metadata": {},
   "outputs": [],
   "source": [
    "Counter(all_races).most_common()"
   ]
  },
  {
   "cell_type": "markdown",
   "metadata": {},
   "source": [
    "## Discussion"
   ]
  },
  {
   "cell_type": "markdown",
   "metadata": {},
   "source": [
    "Drawing on your readings from *Data Feminism* and your own experiences and opinions, discuss the following questions:"
   ]
  },
  {
   "cell_type": "markdown",
   "metadata": {},
   "source": [
    "1) What are the potential benefits of collecting personal data such as race or gender? What are the drawbacks? In your opinion, do the benefits outweight the drawbacks?"
   ]
  },
  {
   "cell_type": "markdown",
   "metadata": {},
   "source": [
    "2) How would \\*you\\* go about categorizing the race or gender of subjects in biographical films? Which categories would you use, and why? If you would choose not to collect this data, why would you make that choice?"
   ]
  }
 ],
 "metadata": {
  "kernelspec": {
   "display_name": "Python 3",
   "language": "python",
   "name": "python3"
  },
  "language_info": {
   "codemirror_mode": {
    "name": "ipython",
    "version": 3
   },
   "file_extension": ".py",
   "mimetype": "text/x-python",
   "name": "python",
   "nbconvert_exporter": "python",
   "pygments_lexer": "ipython3",
   "version": "3.7.6"
  }
 },
 "nbformat": 4,
 "nbformat_minor": 4
}
