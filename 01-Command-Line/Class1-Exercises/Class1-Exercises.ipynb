{
 "cells": [
  {
   "cell_type": "markdown",
   "id": "7b0670c6-5c9e-4560-b263-9fc680190340",
   "metadata": {},
   "source": [
    "# Class 1 Exercises"
   ]
  },
  {
   "cell_type": "markdown",
   "id": "91fe00ca-c604-405d-bebe-ecdc93145da6",
   "metadata": {},
   "source": [
    "These exercises will help you practice the skills and concepts that you learned in today's class. Be sure to refer back to the \"Command Line\" notebook or to [\"The Command Line\"](https://melaniewalsh.github.io/Intro-Cultural-Analytics/01-Command-Line/01-The-Command-Line.html) chapter of *Introduction to Cultural Analytics & Python*.\n",
    "\n",
    "To get participation credit for today's class, make sure that you work on these exercises and then submit a screenshot of your work to the appropriate assignment page in Canvas."
   ]
  },
  {
   "cell_type": "markdown",
   "id": "e3a6b906-b88b-4034-b13c-7d8d82f06b16",
   "metadata": {},
   "source": [
    "*Note: The Class 1 Exercises are oriented around a silly, quasi-fantasy premise that you are visiting a place called the \"Scholar's Cave.\"*"
   ]
  },
  {
   "cell_type": "markdown",
   "id": "12448a3d-38b7-4e8c-8404-42303120f7db",
   "metadata": {},
   "source": [
    "**1** Create two new cells below.\n",
    "\n",
    "1) Make the first cell a \"Markdown\" cell, and type the words \"Scholar's Cave.\" Format \"Scholar's Cave\" so that it displays as an H2 Markdown header (refer to the [Markdown cheatsheet](https://github.com/adam-p/markdown-here/wiki/Markdown-Cheatsheet)).\n",
    "2) Make the second cell a code cell, paste in the following Python code and run it: `print('I am embarking on a journey!')`"
   ]
  },
  {
   "cell_type": "markdown",
   "id": "a388235e-7298-4321-8b8e-4c45253cfd56",
   "metadata": {},
   "source": [
    "**2** Now, using what you know about the command line, move into the directory called \"scholars-cave.\" "
   ]
  },
  {
   "cell_type": "code",
   "execution_count": null,
   "id": "418ff580-a463-420d-ad60-6713f439b639",
   "metadata": {},
   "outputs": [],
   "source": []
  },
  {
   "cell_type": "markdown",
   "id": "f84de0ff-8655-4bc5-95a4-57ff3bc3bc01",
   "metadata": {},
   "source": [
    "Nice! You made your way into the cave. Now it's time to do some reconnaissance...\n",
    "\n",
    "**3** See what's inside the directory \"scholars-cave\" (which you should already be inside). "
   ]
  },
  {
   "cell_type": "code",
   "execution_count": null,
   "id": "324f39bb-f937-4e7f-9f06-b13a9f8fdf12",
   "metadata": {},
   "outputs": [],
   "source": []
  },
  {
   "cell_type": "markdown",
   "id": "46e38862-e619-41d5-853d-0ee4fa8c0dc4",
   "metadata": {},
   "source": [
    "Huh, just 3 books and a spooky inner sanctum (if you want, you can climb down there and see what's inside there...) Let's flip through some of these books."
   ]
  },
  {
   "cell_type": "markdown",
   "id": "58c4d42d-654e-4012-a273-5e3b1bfab29a",
   "metadata": {},
   "source": [
    "**4** Oh, it's Samuel Pepys's diary. Samuel Pepys was an English parliament member who kept a famously detailed diary from 1660 to 1669 that is now invaluable for historians and scholars. Print out the first 55 lines of Samuel Pepys's diary. "
   ]
  },
  {
   "cell_type": "code",
   "execution_count": null,
   "id": "e000753d-9f9f-4b07-b5c4-be2c85386b58",
   "metadata": {
    "scrolled": true,
    "tags": []
   },
   "outputs": [],
   "source": []
  },
  {
   "cell_type": "markdown",
   "id": "5244ace6-9cfc-4d63-bccf-da171080c6a7",
   "metadata": {},
   "source": [
    "**5** During the period when Pepys was writing, England was struck by the bubonic plague. Search for occurences of the word \"health\" in his diary, make the word \"health\" show up in color, and print out 2 lines before the word and 2 lines after the word. (If you get a long output, you can collapse it by right-clicking and selecting \"Enable Scrolling for Outputs.\")"
   ]
  },
  {
   "cell_type": "code",
   "execution_count": null,
   "id": "41609c51-abbf-45cf-be30-88b2d56c0210",
   "metadata": {
    "tags": []
   },
   "outputs": [],
   "source": []
  },
  {
   "cell_type": "markdown",
   "id": "bd6bb70a-e0f3-410d-b812-cb23d556a32a",
   "metadata": {},
   "source": [
    "**6**  What do you think you were able to learn about the word \"health\" by searching and finding all the lines that included it? What were you able to learn about how `grep` works? How do you think such a search function would be helpful for you or for a researcher?"
   ]
  },
  {
   "cell_type": "code",
   "execution_count": null,
   "id": "0856d857-306f-4ee9-bc69-0565a6aa64b5",
   "metadata": {},
   "outputs": [],
   "source": []
  }
 ],
 "metadata": {
  "kernelspec": {
   "display_name": "Python 3",
   "language": "python",
   "name": "python3"
  },
  "language_info": {
   "codemirror_mode": {
    "name": "ipython",
    "version": 3
   },
   "file_extension": ".py",
   "mimetype": "text/x-python",
   "name": "python",
   "nbconvert_exporter": "python",
   "pygments_lexer": "ipython3",
   "version": "3.8.8"
  }
 },
 "nbformat": 4,
 "nbformat_minor": 5
}
