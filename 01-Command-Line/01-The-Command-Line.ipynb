{
 "cells": [
  {
   "cell_type": "markdown",
   "metadata": {},
   "source": [
    "# The Command Line"
   ]
  },
  {
   "cell_type": "markdown",
   "metadata": {},
   "source": [
    "Before we begin learning about the programming language Python, we need to learn about the command line. The command line — also referred to as *the shell*, *bash*, or *terminal* — is the gateway to computational analysis. Think of it like interacting with your computer behind the scenes.\n",
    "\n",
    "Here are some of the important things that you can do from the command line:\n",
    "\n",
    "* Run Python scripts\n",
    "* Install software and Python packages\n",
    "* Work on different computers from your current computer (including work on cloud platforms such as Google Cloud or Amazon Web Services)\n",
    "* Do basic text analysis\n",
    "* Do simple tasks, such as renaming many files or resizing many images, faster and more efficiently\n",
    "* Gain more power and flexibility over your computing experience"
   ]
  },
  {
   "cell_type": "markdown",
   "metadata": {},
   "source": [
    "<img src=\"../images/command-line/welcome.png\" alt=\"The command line\" class=\"center\">"
   ]
  },
  {
   "cell_type": "markdown",
   "metadata": {},
   "source": [
    "<div class=\"admonition note\" name=\"html-admonition\" style=\"background: lightblue; padding: 10px\">\n",
    "<p class=\"title\">Note</p>\n",
    "Technically speaking, *command line*, *shell*, *bash*, and *terminal* all mean slightly different things. The Digital Humanities Research Institute provides <a href='https://github.com/DHRI-Curriculum/glossary/blob/master/sections/command-line.md#glossary'>a helpful primer on the distinctions</a>.\n",
    "\n",
    "</div>\n",
    "\n",
    "The command line interface is often contrasted with the graphical user interface or GUI (pronounced *gooey*, like [St. Louis gooey butter cake](https://en.wikipedia.org/wiki/Gooey_butter_cake)). This is the way that most people are familiar with navigating their computers. \n",
    "\n",
    "To illustrate the difference between the command line and the GUI, consider the following example. I want to make a new folder to organize my notes for this class. So I drag my mouse cursor and click on a button that says \"New Folder,\" which makes a small icon of a folder appear. I title this folder \"Intro-CA-Notes.\" Now I want to delete this folder. So I drag and drop the folder icon into a tiny trash can icon. "
   ]
  },
  {
   "cell_type": "markdown",
   "metadata": {},
   "source": [
    "<img src=\"../images/command-line/GUI-example.gif\" alt=\"Making and deleting a folder with GUI\" class=\"center\" >\n"
   ]
  },
  {
   "cell_type": "markdown",
   "metadata": {},
   "source": [
    "This is the GUI in action. This is how we interact with our computers *graphically* — with visual icons, movements, and mouse clicks. "
   ]
  },
  {
   "cell_type": "markdown",
   "metadata": {},
   "source": [
    "But that's not the only way we can interact with our computers. We can do all of the above from the command line as well. Instead of dragging and dropping little folder icons, we would type in textual commands, such as `mkdir Intro-CA-Notes` (to make a folder or directory) and `rmdir Intro-CA-Notes` (to remove the directory). "
   ]
  },
  {
   "cell_type": "markdown",
   "metadata": {},
   "source": [
    "<img src=\"../images/command-line/CLI-example.gif\" alt=\"Making and deleting a folder with command line\" class=\"center\" >"
   ]
  },
  {
   "cell_type": "markdown",
   "metadata": {},
   "source": [
    "Making a folder from the command line as opposed to dragging and clicking with the mouse won't save us a ton of time. Maybe a couple of seconds at most.\n",
    "\n",
    "But in the aggregate, with larger tasks, these seconds start to add up. Since we can automate tasks from the command line, we can transform things that would be tedious and time-consuming to do manually — such as resizing 1000 photos or combining a dozen smaller CSV files into one large file — into useful and efficient scripts.\n",
    "\n",
    "That's just the tip of the iceberg. From the command line, you can also run Python code, install software, or connect to a remote server or [Raspberry Pi](https://www.raspberrypi.org/products/raspberry-pi-4-model-b/) (a cheap, tiny computer where you can make Twitter bots and more). The command line offers you greater power and flexibility over your computing experience.\n"
   ]
  },
  {
   "cell_type": "markdown",
   "metadata": {},
   "source": [
    "## Command Line Cheatsheet\n",
    "\n",
    "| Mac / Chrome / Linux                            | Explanation                                                                                               | Windows PowerShell                                                                   |\n",
    "|--------------------------------------------|-----------------------------------------------------------------------------------------------------------|--------------------------------------------------------------------------------------|\n",
    "| `cd` *filepath*                            | **c**hange **d**irectory, aka move into a different folder                                                | `cd` *filepath*                                                                      |\n",
    "| `ls`                                       | **l**i**s**t the files and folders in your current **dir**ectory                                          | `ls` / `dir` / `Get-ChildItem`                                                       |\n",
    "| `pwd`                                      | show **p**ath of **w**orking **d**irectory, aka the folder that you're in right now                       | `pwd` / `cd`                                                                         |\n",
    "| `touch` *filename*                         | make a new file                                                                                           | `ni` *filename*                                                                      |\n",
    "| `mkdir` *directory-name*                   | **m**a**k**e a new **dir**ectory, aka a folder                                                            | `mkdir` *directory-name*                                                             |\n",
    "| `rm` *filename*                            | **r**e**m**ove, aka delete, a file or directory                                                           | `rm` *filename* / `del` *filename*                                                   |\n",
    "| `cp` *original-filename* *copied-filename* | **c**o**p**y a file or directory                                                                          | `cp` / `copy`                                                                        |\n",
    "| `mv` *original-filename* *new-filename*    | **m**o**v**e or rename a file or directory                                                                | `move` *original-filename* *new-filename* / `ren` *original-filename* *new-filename* |\n",
    "| `cat` *filename*                           | show all the contents of a file                                                                           | `cat` *filename* / `type` *filename*                                                 |\n",
    "| `less` *filename*                          | show snippet of a file that allows you to scroll through the entire thing                                 | `more` *filename*                                                                    |\n",
    "| `head` *filename*                          | show the first 10 lines of a file (change number of lines by adding `-*a number*` flag, e.g. `head -100`) | `gc` *filename* `-head 10`                                                           |\n",
    "| `tail` *filename*                          | show the last 10 lines of a file (change number of lines by adding `-*a number*` flag, e.g. `tail -100`)  | `gc` *filename* `-tail 10`                                                           |\n",
    "| `wc -w -l` *filename*                      | show how many **w**ords or lines in a file                                                                | `gc` *filename* \\| `Measure-Object -Word –Line`                                      |\n",
    "| `man` *command*                            | show the **man**ual, aka the documentation that tells you what a particular command does                  | `help` *command*                                                                               |\n",
    "| `echo`                                     | print text to the command line                                                                            | `echo`                                                                               |\n",
    "| `grep` \"search term\" *filename* or *directory-name*       |      search for lines that include search term in file                                                                                                     | `findstr` \"search term\" *filename*                                                                 |\n",
    "| `curl -O` *url* / `wget` *url*            | **get**, a file from the **w**eb                                                                          | `wget` *url* `-OutFile` *new-filename*                                               |\n",
    "\n",
    "\n",
    "## Basic Navigation and File Structure\n",
    "\n",
    "<div class=\"admonition note\" name=\"html-admonition\" style=\"background: lightblue; padding: 10px\">\n",
    "<p class=\"title\">Note</p>\n",
    "The `%` and `!` symbols at the beginning of the lines below allow us to access the command line from a Jupyter notebook. If you were using these commands outside the Jupyter environemnt, you would not need to include `%` or `!`\n",
    "\n",
    "</div>\n",
    "\n",
    "\n",
    "### Display Path of Working Directory\n",
    "\n",
    "⭐ *You are here!* ⭐ One of the most basic and useful commands is the one that tells you where you are on your computer. Type `pwd` and it will show you the **p**ath of your **w**orking **d**irectory, aka the folder that you're currently in. This might not seem terribly important at the moment, but it is.\n",
    "\n",
    "| Mac / Chrome / Linux                            | Explanation                                                                                               | Windows PowerShell                                                                   |\n",
    "|--------------------------------------------|-----------------------------------------------------------------------------------------------------------|--------------------------------------------------------------------------------------|\n",
    "| `pwd`                                      | show **p**ath of **w**orking **d**irectory, aka the folder that you're in right now                       | `pwd` / `cd`                                                                         |"
   ]
  },
  {
   "cell_type": "code",
   "execution_count": null,
   "metadata": {
    "tags": [
     "command_line"
    ]
   },
   "outputs": [],
   "source": [
    "!pwd"
   ]
  },
  {
   "cell_type": "markdown",
   "metadata": {},
   "source": [
    "The forward slash `/` before and after each name indicates that the name is a directory. On Windows computers, directories are indicated by backslashes `\\`.\n",
    "\n",
    "\n",
    "### List Files and Folders\n",
    "\n",
    "If you want to see what's inside the directory that you're currently in, you can run `ls`, which **l**i**s**t all the files and folders.\n",
    "\n",
    "| Mac / Chrome / Linux                            | Explanation                                                                                               | Windows PowerShell                                                                   |\n",
    "|--------------------------------------------|-----------------------------------------------------------------------------------------------------------|--------------------------------------------------------------------------------------|\n",
    "| `ls`                                       | **l**i**s**t the files and folders in your current **dir**ectory                                          | `ls` / `dir` / `Get-ChildItem`                                                       |\n"
   ]
  },
  {
   "cell_type": "code",
   "execution_count": null,
   "metadata": {
    "tags": [
     "command_line"
    ]
   },
   "outputs": [],
   "source": [
    "!ls"
   ]
  },
  {
   "cell_type": "markdown",
   "metadata": {},
   "source": [
    "The output above shows that this directory contains \"The-Command-Line.ipynb\" (this very Jupyter notebook!) as well as another directory called \"very-interesting-folder.\"\n",
    "\n",
    "### Change Directory\n",
    "\n",
    "\n",
    "If we want to find out what's inside that directory, we can move into it by using the **c**hange **d**irectory `cd` command and plugging in the name of the directory\n",
    "\n",
    "| Mac / Chrome / Linux                            | Explanation                                                                                               | Windows PowerShell                                                                   |\n",
    "|--------------------------------------------|-----------------------------------------------------------------------------------------------------------|--------------------------------------------------------------------------------------|\n",
    "| `cd` *filepath*                            | **c**hange **d**irectory, aka move into a different folder                                                | `cd` *filepath*                                                                      |"
   ]
  },
  {
   "cell_type": "code",
   "execution_count": null,
   "metadata": {
    "tags": [
     "command_line"
    ]
   },
   "outputs": [],
   "source": [
    "%cd very-interesting-folder/"
   ]
  },
  {
   "cell_type": "code",
   "execution_count": null,
   "metadata": {
    "tags": [
     "command_line"
    ]
   },
   "outputs": [],
   "source": [
    "!ls"
   ]
  },
  {
   "cell_type": "markdown",
   "metadata": {},
   "source": [
    "### Relative Path vs Absolute Path\n",
    "\n",
    "There are two ways to to tell your computer where you want to go aka your desired *path*.\n",
    "\n",
    "#### Relative Path\n",
    "\n",
    "Relative path is a path to a location that's relative to your current location.\n",
    "\n",
    "We used a relative path when we moved into `very-interesting-folder` because we simply typed:"
   ]
  },
  {
   "cell_type": "markdown",
   "metadata": {
    "tags": [
     "command_line"
    ]
   },
   "source": [
    "`cd very-interesting-folder/`"
   ]
  },
  {
   "cell_type": "markdown",
   "metadata": {},
   "source": [
    "##### Double Dot\n",
    "\n",
    "A \"double dot\" `..` allows you to move up to a parent directory one level up."
   ]
  },
  {
   "cell_type": "code",
   "execution_count": null,
   "metadata": {
    "tags": [
     "command_line"
    ]
   },
   "outputs": [],
   "source": [
    "%cd .."
   ]
  },
  {
   "cell_type": "markdown",
   "metadata": {},
   "source": [
    "The double dot is a very convenient way of moving relatively through your file structure.\n",
    "\n",
    "Most of our text files for this class exist one directory above the Jupyter notebooks, so we're often going to be referencing them with a relative filepath that begins with two periods `../`\n",
    "\n",
    "#### Absolute Path \n",
    "\n",
    "Absolute path is a path to a location from a bird's eye view of your computer.\n",
    "\n",
    "If we wanted to move inside `very-interesting-folder` from a completely different place on our computers, we could use an absolute path.\n"
   ]
  },
  {
   "cell_type": "markdown",
   "metadata": {},
   "source": [
    "##### Home Folder Tilde ~\n",
    "\n",
    "The tilde symbol (`~`) is an alias for the home folder. If you type the tilde symbol and then tab, it should autocomplete the path for your home folder.\n",
    "\n",
    "## Working with Files and Texts\n",
    "\n",
    "There's a lot of basic text analysis that you can do just from the command line.\n",
    "\n",
    "### Download a text file from the web\n",
    "\n",
    "| Mac / Chrome / Linux                            | Explanation                                                                                               | Windows PowerShell                                                                   |\n",
    "|--------------------------------------------|-----------------------------------------------------------------------------------------------------------|--------------------------------------------------------------------------------------|\n",
    "| `curl -O` *url* / `wget` *url*            | **get**, a file from the **w**eb                                                                          | `wget` *url* `-OutFile` *new-filename*                                               |\n",
    "\n",
    "\n",
    "You can download a text file from the web by using the command `curl` or `wget` with the appropriate web address. Let's see if we can download Charlotte Perkins Gilman's short story \"The Yellow Wallpaper.\"\n",
    "\n",
    "We're going to search for the story through [Project Gutenberg](https://www.gutenberg.org/ebooks/search/), an amazing resource that hosts tens of thousands of free texts in the public domain (which means lots of great literary and historical texts published after 1925). "
   ]
  },
  {
   "cell_type": "code",
   "execution_count": null,
   "metadata": {
    "tags": [
     "command_line"
    ]
   },
   "outputs": [],
   "source": [
    "%cd very-interesting-folder/"
   ]
  },
  {
   "cell_type": "code",
   "execution_count": null,
   "metadata": {
    "tags": [
     "command_line"
    ]
   },
   "outputs": [],
   "source": [
    "!curl -O https://www.gutenberg.org/files/1952/1952-0.txt "
   ]
  },
  {
   "cell_type": "markdown",
   "metadata": {},
   "source": [
    "Now let's examine what's inside the directory."
   ]
  },
  {
   "cell_type": "code",
   "execution_count": null,
   "metadata": {
    "tags": [
     "command_line"
    ]
   },
   "outputs": [],
   "source": [
    "!ls"
   ]
  },
  {
   "cell_type": "markdown",
   "metadata": {},
   "source": [
    "### Rename a file\n",
    "\n",
    "| Mac / Chrome / Linux                            | Explanation                                                                                               | Windows PowerShell                                                                   |\n",
    "|--------------------------------------------|-----------------------------------------------------------------------------------------------------------|--------------------------------------------------------------------------------------|\n",
    "| `mv` *original-filename* *new-filename*    | **m**o**v**e or rename a file or directory                                                                | `move` *original-filename* *new-filename* / `ren` *original-filename* *new-filename* |"
   ]
  },
  {
   "cell_type": "code",
   "execution_count": null,
   "metadata": {
    "tags": [
     "command_line"
    ]
   },
   "outputs": [],
   "source": [
    "!mv 1952-0.txt The-Yellow-Wallpaper.txt"
   ]
  },
  {
   "cell_type": "code",
   "execution_count": null,
   "metadata": {
    "tags": [
     "command_line"
    ]
   },
   "outputs": [],
   "source": [
    "!ls"
   ]
  },
  {
   "cell_type": "markdown",
   "metadata": {},
   "source": [
    "### Check file sizes, lengths, and word counts\n",
    "\n",
    "| Mac / Chrome / Linux                            | Explanation                                                                                               | Windows PowerShell                                                                   |\n",
    "|--------------------------------------------|-----------------------------------------------------------------------------------------------------------|--------------------------------------------------------------------------------------|\n",
    "| `ls`                                       | **l**i**s**t the files and folders in your current **dir**ectory                                          | `ls` / `dir` / `Get-ChildItem`                                                       |\n",
    "| `wc -w -l` *filename*                      | show how many **w**ords or lines in a file                                                                | `gc` *filename* \\| `Measure-Object -Word –Line`                                      |\n",
    "\n",
    "Combining the `-lh` flag with the `ls` command will show you the long format version (`-l`) of each file with the file sizes formatted in a human readable (`-h`) way. The long format version of the file will include the file's permissions, size, and date that it was last modified."
   ]
  },
  {
   "cell_type": "code",
   "execution_count": null,
   "metadata": {
    "tags": [
     "command_line"
    ]
   },
   "outputs": [],
   "source": [
    "!ls -lh"
   ]
  },
  {
   "cell_type": "markdown",
   "metadata": {},
   "source": [
    "The file sizes can be found in the fourth column. The file `The-Yellow-Wallpaper.txt` is shown as 50K or 50 Kilboytes. For a helpful breakdown of Bytes vs Kilobytes vs Megabytes vs Gigabytes, see Stanford professor Ashley Taylor's [CS101 course website](https://web.stanford.edu/class/cs101/bits-gigabytes.html)."
   ]
  },
  {
   "cell_type": "markdown",
   "metadata": {},
   "source": [
    "|    Abbreviation                      | Size                                                                                              | \n",
    "|--------------------------------------------|-----------------------------------------------------------------------------------------------------------|\n",
    "| B                         | Bytes                                                                          | \n",
    "| K                         | Kilobytes                                 | \n",
    "| M                         | Megabytes | \n",
    "| G                        | Gigabytes | "
   ]
  },
  {
   "cell_type": "markdown",
   "metadata": {},
   "source": [
    "Now let's check how many words are in \"The Yellow Wallpaper.\" Combining the `-w` flag with the `wc` command will return the number of words in a file."
   ]
  },
  {
   "cell_type": "code",
   "execution_count": null,
   "metadata": {
    "tags": [
     "command_line"
    ]
   },
   "outputs": [],
   "source": [
    "!wc -w The-Yellow-Wallpaper.txt"
   ]
  },
  {
   "cell_type": "markdown",
   "metadata": {},
   "source": [
    "Let's check how many lines are in \"The Yellow Wallpaper.\"  Combining the `-l` flag with the `wc` command will return the number of words in a file."
   ]
  },
  {
   "cell_type": "code",
   "execution_count": null,
   "metadata": {
    "tags": [
     "command_line"
    ]
   },
   "outputs": [],
   "source": [
    "!wc -l The-Yellow-Wallpaper.txt"
   ]
  },
  {
   "cell_type": "markdown",
   "metadata": {},
   "source": [
    "### Display the contents of a file"
   ]
  },
  {
   "cell_type": "markdown",
   "metadata": {},
   "source": [
    "| Mac / Chrome / Linux                            | Explanation                                                                                               | Windows PowerShell                                                                   |\n",
    "|--------------------------------------------|-----------------------------------------------------------------------------------------------------------|--------------------------------------------------------------------------------------|\n",
    "| `cat` *filename*                           | show all the contents of a file                                                                           | `cat` *filename* / `type` *filename*                                                 |\n",
    "| `less` *filename*                          | show snippet of a file that allows you to scroll through the entire thing                                 | `more` *filename*                                                                    |\n",
    "| `head` *filename*                          | show the first 10 lines of a file (change number of lines by adding `-*a number*` flag, e.g. `head -100`) | `gc` *filename* `-head 10`                                                           |\n",
    "| `tail` *filename*                          | show the last 10 lines of a file (change number of lines by adding `-*a number*` flag, e.g. `tail -100`)  | `gc` *filename* `-tail 10`                                                           |"
   ]
  },
  {
   "cell_type": "markdown",
   "metadata": {},
   "source": [
    "The `cat` command prints the whole file to your command line."
   ]
  },
  {
   "cell_type": "code",
   "execution_count": null,
   "metadata": {
    "scrolled": true,
    "tags": [
     "output_scroll",
     "command_line"
    ]
   },
   "outputs": [],
   "source": [
    "!cat The-Yellow-Wallpaper.txt"
   ]
  },
  {
   "cell_type": "markdown",
   "metadata": {},
   "source": [
    "That's often too much text to handle at one time. So you can also look at the first 10 lines of the file with `head`."
   ]
  },
  {
   "cell_type": "code",
   "execution_count": null,
   "metadata": {
    "tags": [
     "command_line"
    ]
   },
   "outputs": [],
   "source": [
    "!head The-Yellow-Wallpaper.txt"
   ]
  },
  {
   "cell_type": "markdown",
   "metadata": {},
   "source": [
    "Or by adding a flag with a number (`-50`), you can look at the first however many lines you want!"
   ]
  },
  {
   "cell_type": "code",
   "execution_count": null,
   "metadata": {
    "scrolled": true,
    "tags": [
     "command_line",
     "output_scroll",
     "hide_output"
    ]
   },
   "outputs": [],
   "source": [
    "!head -50 The-Yellow-Wallpaper.txt"
   ]
  },
  {
   "cell_type": "markdown",
   "metadata": {},
   "source": [
    "The same goes for looking at the end of a file with `tail`"
   ]
  },
  {
   "cell_type": "code",
   "execution_count": null,
   "metadata": {
    "tags": [
     "command_line"
    ]
   },
   "outputs": [],
   "source": [
    "!tail The-Yellow-Wallpaper.txt"
   ]
  },
  {
   "cell_type": "markdown",
   "metadata": {},
   "source": [
    "### Searching inside files"
   ]
  },
  {
   "cell_type": "markdown",
   "metadata": {},
   "source": [
    "| Mac / Chrome / Linux                            | Explanation                                                                                               | Windows PowerShell                                                                   |\n",
    "|--------------------------------------------|-----------------------------------------------------------------------------------------------------------|--------------------------------------------------------------------------------------|\n",
    "| `grep` \"search term\" *filename* or *directory-name*       |      search for lines that include search term in file                                                                                                     | `findstr` \"search term\" *filename*                                                                 |"
   ]
  },
  {
   "cell_type": "markdown",
   "metadata": {},
   "source": [
    "The `grep` command allows you to search for a search term(s) in a file or directory and return each line that contains the term. Combining the `-n` flag with the `grep` command will return the corresponding line number as well."
   ]
  },
  {
   "cell_type": "code",
   "execution_count": null,
   "metadata": {
    "tags": [
     "command_line"
    ]
   },
   "outputs": [],
   "source": [
    "!grep \"yellow\" -n The-Yellow-Wallpaper.txt"
   ]
  },
  {
   "cell_type": "markdown",
   "metadata": {},
   "source": [
    "Combining the `--color` flag with the `grep` command will highlight the search term(s) in a color."
   ]
  },
  {
   "cell_type": "code",
   "execution_count": null,
   "metadata": {
    "tags": [
     "command_line"
    ]
   },
   "outputs": [],
   "source": [
    "!grep \"yellow\" -n --color The-Yellow-Wallpaper.txt"
   ]
  },
  {
   "cell_type": "markdown",
   "metadata": {},
   "source": [
    "Combining the `-wc` flag with the `grep` command will return the number of lines that contain the search term(s) in a file or directory."
   ]
  },
  {
   "cell_type": "code",
   "execution_count": null,
   "metadata": {
    "tags": [
     "command_line",
     "hide_output"
    ]
   },
   "outputs": [],
   "source": [
    "!grep -wc \"yellow\" The-Yellow-Wallpaper.txt"
   ]
  },
  {
   "cell_type": "code",
   "execution_count": null,
   "metadata": {
    "tags": [
     "command_line",
     "hide_output"
    ]
   },
   "outputs": [],
   "source": [
    "!grep -wc \"paper\" The-Yellow-Wallpaper.txt"
   ]
  },
  {
   "cell_type": "markdown",
   "metadata": {},
   "source": [
    "Combining the `-B` and `-A` flags with `grep` will return a specified number of lines before (`-B`) or after (`-A`) the line that contains the search term(s). This can be a way to get more context for a search term."
   ]
  },
  {
   "cell_type": "code",
   "execution_count": null,
   "metadata": {
    "tags": [
     "command_line",
     "output_scroll"
    ]
   },
   "outputs": [],
   "source": [
    "!grep \"wallpaper\" -B 2 -A 2 -n --color The-Yellow-Wallpaper.txt"
   ]
  }
 ],
 "metadata": {
  "kernelspec": {
   "display_name": "Python 3",
   "language": "python",
   "name": "python3"
  },
  "language_info": {
   "codemirror_mode": {
    "name": "ipython",
    "version": 3
   },
   "file_extension": ".py",
   "mimetype": "text/x-python",
   "name": "python",
   "nbconvert_exporter": "python",
   "pygments_lexer": "ipython3",
   "version": "3.8.8"
  }
 },
 "nbformat": 4,
 "nbformat_minor": 4
}
