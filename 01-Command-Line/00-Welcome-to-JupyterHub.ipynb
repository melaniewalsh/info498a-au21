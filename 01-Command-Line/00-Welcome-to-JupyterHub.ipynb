{
 "cells": [
  {
   "cell_type": "markdown",
   "id": "807fe167-846e-4d5e-be84-9dc00790ad4b",
   "metadata": {},
   "source": [
    "# Welcome to 🪐 JupyterHub🪐 and the World of Jupyter Notebooks!"
   ]
  },
  {
   "cell_type": "markdown",
   "id": "be9896b7-6714-4c78-8ac5-37c2bad69cec",
   "metadata": {},
   "source": [
    "This is a Jupyter notebook. This is an interactive programming document that consists of two types of \"cells\": *code* cells and *Markdown* cells. Markdown cells are text cells that can be formatted with a markup language called Markdown (check out the [Markdown cheatsheet](https://github.com/adam-p/markdown-here/wiki/Markdown-Cheatsheet)).\n",
    "\n",
    "For example, this is a Markdown cell, which can include **bolded text**. But the cells below contain Python code that you can actually run.\n",
    "\n",
    "Place your cursor in the next cells and then click the play button in the top menu (or shift `shift` + `return`) and see what happens."
   ]
  },
  {
   "cell_type": "code",
   "execution_count": null,
   "id": "836ab9e3-03a3-4c1f-9a74-93d92b638e23",
   "metadata": {},
   "outputs": [],
   "source": [
    "\"All this happened, more or less\".upper()"
   ]
  },
  {
   "cell_type": "code",
   "execution_count": null,
   "id": "59967143-d06c-4681-9c77-015de0811b57",
   "metadata": {},
   "outputs": [],
   "source": [
    "\"All this happened, more or less\".title()"
   ]
  },
  {
   "cell_type": "markdown",
   "id": "f827d144-c2a3-42b5-ad90-e2fe0a7ed693",
   "metadata": {},
   "source": [
    "The Python methods `.upper()` and `.title()` changed the capitalization of Kurt Vonnegut's famous line. Our first bit of Python code in action!"
   ]
  },
  {
   "cell_type": "markdown",
   "id": "f7dece9f-7e3c-4c11-83bb-205141621351",
   "metadata": {},
   "source": [
    "*Be sure to refer to [\"Jupyter Tips & Tricks\"](https://melaniewalsh.github.io/Intro-Cultural-Analytics/02-Python/EXTRA-Jupyter-Tips-Tricks.html) while you're learning how to work with Jupyter notebooks. Remember: you are not expected to memorize everything! It's ok to refer to guides, and you will typically start to memorize anything that you look up a lot.*"
   ]
  }
 ],
 "metadata": {
  "kernelspec": {
   "display_name": "Python 3",
   "language": "python",
   "name": "python3"
  },
  "language_info": {
   "codemirror_mode": {
    "name": "ipython",
    "version": 3
   },
   "file_extension": ".py",
   "mimetype": "text/x-python",
   "name": "python",
   "nbconvert_exporter": "python",
   "pygments_lexer": "ipython3",
   "version": "3.8.8"
  }
 },
 "nbformat": 4,
 "nbformat_minor": 5
}
