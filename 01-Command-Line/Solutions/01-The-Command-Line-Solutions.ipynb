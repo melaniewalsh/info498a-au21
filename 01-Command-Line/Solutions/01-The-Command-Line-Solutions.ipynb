{
 "cells": [
  {
   "cell_type": "markdown",
   "metadata": {},
   "source": [
    "# The Command Line"
   ]
  },
  {
   "cell_type": "markdown",
   "metadata": {},
   "source": [
    "Before we begin learning about the programming language Python, we need to learn about the command line. The command line — also referred to as *the shell*, *bash*, or *terminal* — is the gateway to computational analysis. Think of it like interacting with your computer behind the scenes.\n",
    "\n",
    "Here are some of the important things that you can do from the command line:\n",
    "\n",
    "* Run Python scripts\n",
    "* Install software and Python packages\n",
    "* Work on different computers from your current computer (including work on cloud platforms such as Google Cloud or Amazon Web Services)\n",
    "* Do basic text analysis\n",
    "* Do simple tasks, such as renaming many files or resizing many images, faster and more efficiently\n",
    "* Gain more power and flexibility over your computing experience"
   ]
  },
  {
   "cell_type": "markdown",
   "metadata": {},
   "source": [
    "<img src=\"../images/command-line/welcome.png\" alt=\"The command line\" class=\"center\">"
   ]
  },
  {
   "cell_type": "markdown",
   "metadata": {},
   "source": [
    "<div class=\"admonition note\" name=\"html-admonition\" style=\"background: lightblue; padding: 10px\">\n",
    "<p class=\"title\">Note</p>\n",
    "Technically speaking, *command line*, *shell*, *bash*, and *terminal* all mean slightly different things. The Digital Humanities Research Institute provides [a helpful primer on the distinctions](https://github.com/DHRI-Curriculum/glossary/blob/master/sections/command-line.md#glossary).\n",
    "\n",
    "</div>\n",
    "\n",
    "The command line interface is often contrasted with the graphical user interface or GUI (pronounced *gooey*, like [St. Louis gooey butter cake](https://en.wikipedia.org/wiki/Gooey_butter_cake)). This is the way that most people are familiar with navigating their computers. \n",
    "\n",
    "To illustrate the difference between the command line and the GUI, consider the following example. I want to make a new folder to organize my notes for this class. So I drag my mouse cursor and click on a button that says \"New Folder,\" which makes a small icon of a folder appear. I title this folder \"Intro-CA-Notes.\" Now I want to delete this folder. So I drag and drop the folder icon into a tiny trash can icon. "
   ]
  },
  {
   "cell_type": "markdown",
   "metadata": {},
   "source": [
    "<img src=\"../images/command-line/GUI-example.gif\" alt=\"Making and deleting a folder with GUI\" class=\"center\" >\n"
   ]
  },
  {
   "cell_type": "markdown",
   "metadata": {},
   "source": [
    "This is the GUI in action. This is how we interact with our computers *graphically* — with visual icons, movements, and mouse clicks. "
   ]
  },
  {
   "cell_type": "markdown",
   "metadata": {},
   "source": [
    "But that's not the only way we can interact with our computers. We can do all of the above from the command line as well. Instead of dragging and dropping little folder icons, we would type in textual commands, such as `mkdir Intro-CA-Notes` (to make a folder or directory) and `rmdir Intro-CA-Notes` (to remove the directory). "
   ]
  },
  {
   "cell_type": "markdown",
   "metadata": {},
   "source": [
    "<img src=\"../images/command-line/CLI-example.gif\" alt=\"Making and deleting a folder with command line\" class=\"center\" >"
   ]
  },
  {
   "cell_type": "markdown",
   "metadata": {},
   "source": [
    "Making a folder from the command line as opposed to dragging and clicking with the mouse won't save us a ton of time. Maybe a couple of seconds at most.\n",
    "\n",
    "But in the aggregate, with larger tasks, these seconds start to add up. Since we can automate tasks from the command line, we can transform things that would be tedious and time-consuming to do manually — such as resizing 1000 photos or combining a dozen smaller CSV files into one large file — into useful and efficient scripts.\n",
    "\n",
    "That's just the tip of the iceberg. From the command line, you can also run Python code, install software, or connect to a remote server or [Raspberry Pi](https://www.raspberrypi.org/products/raspberry-pi-4-model-b/) (a cheap, tiny computer where you can make Twitter bots and more). The command line offers you greater power and flexibility over your computing experience.\n"
   ]
  },
  {
   "cell_type": "markdown",
   "metadata": {},
   "source": [
    "## Command Line Cheatsheet\n",
    "\n",
    "| Mac / Chrome / Linux                            | Explanation                                                                                               | Windows PowerShell                                                                   |\n",
    "|--------------------------------------------|-----------------------------------------------------------------------------------------------------------|--------------------------------------------------------------------------------------|\n",
    "| `cd` *filepath*                            | **c**hange **d**irectory, aka move into a different folder                                                | `cd` *filepath*                                                                      |\n",
    "| `ls`                                       | **l**i**s**t the files and folders in your current **dir**ectory                                          | `ls` / `dir` / `Get-ChildItem`                                                       |\n",
    "| `pwd`                                      | show **p**ath of **w**orking **d**irectory, aka the folder that you're in right now                       | `pwd` / `cd`                                                                         |\n",
    "| `touch` *filename*                         | make a new file                                                                                           | `ni` *filename*                                                                      |\n",
    "| `mkdir` *directory-name*                   | **m**a**k**e a new **dir**ectory, aka a folder                                                            | `mkdir` *directory-name*                                                             |\n",
    "| `rm` *filename*                            | **r**e**m**ove, aka delete, a file or directory                                                           | `rm` *filename* / `del` *filename*                                                   |\n",
    "| `cp` *original-filename* *copied-filename* | **c**o**p**y a file or directory                                                                          | `cp` / `copy`                                                                        |\n",
    "| `mv` *original-filename* *new-filename*    | **m**o**v**e or rename a file or directory                                                                | `move` *original-filename* *new-filename* / `ren` *original-filename* *new-filename* |\n",
    "| `cat` *filename*                           | show all the contents of a file                                                                           | `cat` *filename* / `type` *filename*                                                 |\n",
    "| `less` *filename*                          | show snippet of a file that allows you to scroll through the entire thing                                 | `more` *filename*                                                                    |\n",
    "| `head` *filename*                          | show the first 10 lines of a file (change number of lines by adding `-*a number*` flag, e.g. `head -100`) | `gc` *filename* `-head 10`                                                           |\n",
    "| `tail` *filename*                          | show the last 10 lines of a file (change number of lines by adding `-*a number*` flag, e.g. `tail -100`)  | `gc` *filename* `-tail 10`                                                           |\n",
    "| `wc -w -l` *filename*                      | show how many **w**ords or lines in a file                                                                | `gc` *filename* \\| `Measure-Object -Word –Line`                                      |\n",
    "| `man` *command*                            | show the **man**ual, aka the documentation that tells you what a particular command does                  | `help` *command*                                                                               |\n",
    "| `echo`                                     | print text to the command line                                                                            | `echo`                                                                               |\n",
    "| `grep` \"search term\" *filename* or *directory-name*       |      search for lines that include search term in file                                                                                                     | `findstr` \"search term\" *filename*                                                                 |\n",
    "| `curl -O` *url* / `wget` *url*            | **get**, a file from the **w**eb                                                                          | `wget` *url* `-OutFile` *new-filename*                                               |\n",
    "\n",
    "\n",
    "## Basic Navigation and File Structure\n",
    "\n",
    "<div class=\"admonition note\" name=\"html-admonition\" style=\"background: lightblue; padding: 10px\">\n",
    "<p class=\"title\">Note</p>\n",
    "The `%` and `!` symbols at the beginning of the lines below allow us to access the command line from a Jupyter notebook. If you were using these commands outside the Jupyter environemnt, you would not need to include `%` or `!`\n",
    "\n",
    "</div>\n",
    "\n",
    "\n",
    "### Display Path of Working Directory\n",
    "\n",
    "⭐ *You are here!* ⭐ One of the most basic and useful commands is the one that tells you where you are on your computer. Type `pwd` and it will show you the **p**ath of your **w**orking **d**irectory, aka the folder that you're currently in. This might not seem terribly important at the moment, but it is.\n",
    "\n",
    "| Mac / Chrome / Linux                            | Explanation                                                                                               | Windows PowerShell                                                                   |\n",
    "|--------------------------------------------|-----------------------------------------------------------------------------------------------------------|--------------------------------------------------------------------------------------|\n",
    "| `pwd`                                      | show **p**ath of **w**orking **d**irectory, aka the folder that you're in right now                       | `pwd` / `cd`                                                                         |"
   ]
  },
  {
   "cell_type": "code",
   "execution_count": 1,
   "metadata": {
    "tags": [
     "command_line"
    ]
   },
   "outputs": [
    {
     "data": {
      "text/plain": [
       "'/Users/melwalsh/info498a-au21-repo/01-Command-Line'"
      ]
     },
     "execution_count": 1,
     "metadata": {},
     "output_type": "execute_result"
    }
   ],
   "source": [
    "%pwd"
   ]
  },
  {
   "cell_type": "markdown",
   "metadata": {},
   "source": [
    "The forward slash `/` before and after each name indicates that the name is a directory. On Windows computers, directories are indicated by backslashes `\\`.\n",
    "\n",
    "This filepath is unique to my personal computer, which you could probably guess because it includes my name. If you open up a command line on your own personal machine and type `pwd`, it should return your personal \"home\" directory.\n",
    "\n",
    "### List Files and Folders\n",
    "\n",
    "If you want to see what's inside the directory that you're currently in, you can run `ls`, which **l**i**s**t all the files and folders.\n",
    "\n",
    "| Mac / Chrome / Linux                            | Explanation                                                                                               | Windows PowerShell                                                                   |\n",
    "|--------------------------------------------|-----------------------------------------------------------------------------------------------------------|--------------------------------------------------------------------------------------|\n",
    "| `ls`                                       | **l**i**s**t the files and folders in your current **dir**ectory                                          | `ls` / `dir` / `Get-ChildItem`                                                       |\n"
   ]
  },
  {
   "cell_type": "code",
   "execution_count": 2,
   "metadata": {
    "tags": [
     "command_line"
    ]
   },
   "outputs": [
    {
     "name": "stdout",
     "output_type": "stream",
     "text": [
      "01-The-Command-Line.ipynb  \u001b[34mSolutions\u001b[m\u001b[m/\n",
      "\u001b[34mExercises\u001b[m\u001b[m/                 \u001b[34mvery-interesting-folder\u001b[m\u001b[m/\n"
     ]
    }
   ],
   "source": [
    "%ls"
   ]
  },
  {
   "cell_type": "markdown",
   "metadata": {},
   "source": [
    "The output above shows that this directory contains \"The-Command-Line.ipynb\" (this very Jupyter notebook!) as well as another directory called \"very-interesting-folder.\"\n",
    "\n",
    "### Change Directory\n",
    "\n",
    "\n",
    "If we want to find out what's inside that directory, we can move into it by using the **c**hange **d**irectory `cd` command and plugging in the name of the directory\n",
    "\n",
    "| Mac / Chrome / Linux                            | Explanation                                                                                               | Windows PowerShell                                                                   |\n",
    "|--------------------------------------------|-----------------------------------------------------------------------------------------------------------|--------------------------------------------------------------------------------------|\n",
    "| `cd` *filepath*                            | **c**hange **d**irectory, aka move into a different folder                                                | `cd` *filepath*                                                                      |"
   ]
  },
  {
   "cell_type": "code",
   "execution_count": 3,
   "metadata": {
    "tags": [
     "command_line"
    ]
   },
   "outputs": [
    {
     "name": "stdout",
     "output_type": "stream",
     "text": [
      "/Users/melwalsh/info498a-au21-repo/01-Command-Line/very-interesting-folder\n"
     ]
    }
   ],
   "source": [
    "%cd very-interesting-folder/"
   ]
  },
  {
   "cell_type": "code",
   "execution_count": 5,
   "metadata": {
    "tags": [
     "command_line"
    ]
   },
   "outputs": [
    {
     "name": "stdout",
     "output_type": "stream",
     "text": [
      "a-troubling-fact.txt     an-interesting-fact.txt\n"
     ]
    }
   ],
   "source": [
    "%ls"
   ]
  },
  {
   "cell_type": "markdown",
   "metadata": {},
   "source": [
    "### Relative Path vs Absolute Path\n",
    "\n",
    "There are two ways to to tell your computer where you want to go aka your desired *path*.\n",
    "\n",
    "#### Relative Path\n",
    "\n",
    "Relative path is a path to a location that's relative to your current location.\n",
    "\n",
    "We used a relative path when we moved into `very-interesting-folder` because we simply typed:"
   ]
  },
  {
   "cell_type": "markdown",
   "metadata": {
    "tags": [
     "command_line"
    ]
   },
   "source": [
    "`cd very-interesting-folder/`"
   ]
  },
  {
   "cell_type": "markdown",
   "metadata": {},
   "source": [
    "Since we were already inside `/Users/melaniewalsh/Intro-Cultural-Analytics/Website-Content/Command-Line/`, that's all the information we needed to get where we wanted to go.\n",
    "\n",
    "##### Double Dot\n",
    "\n",
    "A \"double dot\" `..` allows you to move up to a parent directory one level up."
   ]
  },
  {
   "cell_type": "code",
   "execution_count": 6,
   "metadata": {
    "tags": [
     "command_line"
    ]
   },
   "outputs": [
    {
     "name": "stdout",
     "output_type": "stream",
     "text": [
      "/Users/melwalsh/info498a-au21-repo/01-Command-Line\n"
     ]
    }
   ],
   "source": [
    "%cd .."
   ]
  },
  {
   "cell_type": "markdown",
   "metadata": {},
   "source": [
    "The double dot is a very convenient way of moving relatively through your file structure.\n",
    "\n",
    "Most of our text files for this class exist one directory above the Jupyter notebooks, so we're often going to be referencing them with a relative filepath that begins with two periods `../`\n",
    "\n",
    "#### Absolute Path \n",
    "\n",
    "Absolute path is a path to a location from a bird's eye view of your computer.\n",
    "\n",
    "If we wanted to move inside `very-interesting-folder` from a completely different place on our computers, we could use an absolute path.\n"
   ]
  },
  {
   "cell_type": "markdown",
   "metadata": {},
   "source": [
    "##### Home Folder Tilde ~\n",
    "\n",
    "The tilde symbol (`~`) is an alias for the home folder. If you type the tilde symbol and then tab, it should autocomplete the path for your home folder.\n",
    "\n",
    "## Working with Files and Texts\n",
    "\n",
    "There's a lot of basic text analysis that you can do just from the command line.\n",
    "\n",
    "### Download a text file from the web\n",
    "\n",
    "| Mac / Chrome / Linux                            | Explanation                                                                                               | Windows PowerShell                                                                   |\n",
    "|--------------------------------------------|-----------------------------------------------------------------------------------------------------------|--------------------------------------------------------------------------------------|\n",
    "| `curl -O` *url* / `wget` *url*            | **get**, a file from the **w**eb                                                                          | `wget` *url* `-OutFile` *new-filename*                                               |\n",
    "\n",
    "\n",
    "You can download a text file from the web by using the command `curl` or `wget` with the appropriate web address. Let's see if we can download Charlotte Perkins Gilman's short story \"The Yellow Wallpaper.\"\n",
    "\n",
    "We're going to search for the story through [Project Gutenberg](https://www.gutenberg.org/ebooks/search/), an amazing resource that hosts tens of thousands of free texts in the public domain (which means lots of great literary and historical texts published after 1925). "
   ]
  },
  {
   "cell_type": "code",
   "execution_count": 7,
   "metadata": {
    "tags": [
     "command_line"
    ]
   },
   "outputs": [
    {
     "name": "stdout",
     "output_type": "stream",
     "text": [
      "/Users/melwalsh/info498a-au21-repo/01-Command-Line/very-interesting-folder\n"
     ]
    }
   ],
   "source": [
    "%cd very-interesting-folder/"
   ]
  },
  {
   "cell_type": "code",
   "execution_count": 8,
   "metadata": {
    "tags": [
     "command_line"
    ]
   },
   "outputs": [
    {
     "name": "stdout",
     "output_type": "stream",
     "text": [
      "  % Total    % Received % Xferd  Average Speed   Time    Time     Time  Current\n",
      "                                 Dload  Upload   Total   Spent    Left  Speed\n",
      "100 52571  100 52571    0     0   8387      0  0:00:06  0:00:06 --:--:-- 13022\n"
     ]
    }
   ],
   "source": [
    "!curl -O https://www.gutenberg.org/files/1952/1952-0.txt "
   ]
  },
  {
   "cell_type": "markdown",
   "metadata": {},
   "source": [
    "Now let's examine what's inside the directory."
   ]
  },
  {
   "cell_type": "code",
   "execution_count": 9,
   "metadata": {
    "tags": [
     "command_line"
    ]
   },
   "outputs": [
    {
     "name": "stdout",
     "output_type": "stream",
     "text": [
      "1952-0.txt               a-troubling-fact.txt     an-interesting-fact.txt\n"
     ]
    }
   ],
   "source": [
    "%ls"
   ]
  },
  {
   "cell_type": "markdown",
   "metadata": {},
   "source": [
    "### Rename a file\n",
    "\n",
    "| Mac / Chrome / Linux                            | Explanation                                                                                               | Windows PowerShell                                                                   |\n",
    "|--------------------------------------------|-----------------------------------------------------------------------------------------------------------|--------------------------------------------------------------------------------------|\n",
    "| `mv` *original-filename* *new-filename*    | **m**o**v**e or rename a file or directory                                                                | `move` *original-filename* *new-filename* / `ren` *original-filename* *new-filename* |"
   ]
  },
  {
   "cell_type": "code",
   "execution_count": 10,
   "metadata": {
    "tags": [
     "command_line"
    ]
   },
   "outputs": [],
   "source": [
    "%mv 1952-0.txt The-Yellow-Wallpaper.txt"
   ]
  },
  {
   "cell_type": "code",
   "execution_count": 11,
   "metadata": {
    "tags": [
     "command_line"
    ]
   },
   "outputs": [
    {
     "name": "stdout",
     "output_type": "stream",
     "text": [
      "The-Yellow-Wallpaper.txt  a-troubling-fact.txt      an-interesting-fact.txt\n"
     ]
    }
   ],
   "source": [
    "%ls"
   ]
  },
  {
   "cell_type": "markdown",
   "metadata": {},
   "source": [
    "### Check file sizes, lengths, and word counts\n",
    "\n",
    "| Mac / Chrome / Linux                            | Explanation                                                                                               | Windows PowerShell                                                                   |\n",
    "|--------------------------------------------|-----------------------------------------------------------------------------------------------------------|--------------------------------------------------------------------------------------|\n",
    "| `ls`                                       | **l**i**s**t the files and folders in your current **dir**ectory                                          | `ls` / `dir` / `Get-ChildItem`                                                       |\n",
    "| `wc -w -l` *filename*                      | show how many **w**ords or lines in a file                                                                | `gc` *filename* \\| `Measure-Object -Word –Line`                                      |\n",
    "\n",
    "Combining the `-lh` flag with the `ls` command will show you the long format version (`-l`) of each file with the file sizes formatted in a human readable (`-h`) way. The long format version of the file will include the file's permissions, size, and date that it was last modified."
   ]
  },
  {
   "cell_type": "code",
   "execution_count": 12,
   "metadata": {
    "tags": [
     "command_line"
    ]
   },
   "outputs": [
    {
     "name": "stdout",
     "output_type": "stream",
     "text": [
      "total 120\n",
      "-rw-r--r--  1 melwalsh  staff    51K Sep 13 11:30 The-Yellow-Wallpaper.txt\n",
      "-rw-r--r--  1 melwalsh  staff   661B Aug 30 15:43 a-troubling-fact.txt\n",
      "-rw-r--r--  1 melwalsh  staff   214B Aug 30 15:43 an-interesting-fact.txt\n"
     ]
    }
   ],
   "source": [
    "%ls -lh"
   ]
  },
  {
   "cell_type": "markdown",
   "metadata": {},
   "source": [
    "The file sizes can be found in the fourth column. The file `The-Yellow-Wallpaper.txt` is shown as 50K or 50 Kilboytes. For a helpful breakdown of Bytes vs Kilobytes vs Megabytes vs Gigabytes, see Stanford professor Ashley Taylor's [CS101 course website](https://web.stanford.edu/class/cs101/bits-gigabytes.html)."
   ]
  },
  {
   "cell_type": "markdown",
   "metadata": {},
   "source": [
    "|    Abbreviation                      | Size                                                                                              | \n",
    "|--------------------------------------------|-----------------------------------------------------------------------------------------------------------|\n",
    "| B                         | Bytes                                                                          | \n",
    "| K                         | Kilobytes                                 | \n",
    "| M                         | Megabytes | \n",
    "| G                        | Gigabytes | "
   ]
  },
  {
   "cell_type": "markdown",
   "metadata": {},
   "source": [
    "Now let's check how many words are in \"The Yellow Wallpaper.\" Combining the `-w` flag with the `wc` command will return the number of words in a file."
   ]
  },
  {
   "cell_type": "code",
   "execution_count": 13,
   "metadata": {
    "tags": [
     "command_line"
    ]
   },
   "outputs": [
    {
     "name": "stdout",
     "output_type": "stream",
     "text": [
      "    9153 The-Yellow-Wallpaper.txt\n"
     ]
    }
   ],
   "source": [
    "!wc -w The-Yellow-Wallpaper.txt"
   ]
  },
  {
   "cell_type": "markdown",
   "metadata": {},
   "source": [
    "Let's check how many lines are in \"The Yellow Wallpaper.\"  Combining the `-l` flag with the `wc` command will return the number of words in a file."
   ]
  },
  {
   "cell_type": "code",
   "execution_count": 14,
   "metadata": {
    "tags": [
     "command_line"
    ]
   },
   "outputs": [
    {
     "name": "stdout",
     "output_type": "stream",
     "text": [
      "    1225 The-Yellow-Wallpaper.txt\n"
     ]
    }
   ],
   "source": [
    "!wc -l The-Yellow-Wallpaper.txt"
   ]
  },
  {
   "cell_type": "markdown",
   "metadata": {},
   "source": [
    "### Display the contents of a file"
   ]
  },
  {
   "cell_type": "markdown",
   "metadata": {},
   "source": [
    "| Mac / Chrome / Linux                            | Explanation                                                                                               | Windows PowerShell                                                                   |\n",
    "|--------------------------------------------|-----------------------------------------------------------------------------------------------------------|--------------------------------------------------------------------------------------|\n",
    "| `cat` *filename*                           | show all the contents of a file                                                                           | `cat` *filename* / `type` *filename*                                                 |\n",
    "| `less` *filename*                          | show snippet of a file that allows you to scroll through the entire thing                                 | `more` *filename*                                                                    |\n",
    "| `head` *filename*                          | show the first 10 lines of a file (change number of lines by adding `-*a number*` flag, e.g. `head -100`) | `gc` *filename* `-head 10`                                                           |\n",
    "| `tail` *filename*                          | show the last 10 lines of a file (change number of lines by adding `-*a number*` flag, e.g. `tail -100`)  | `gc` *filename* `-tail 10`                                                           |"
   ]
  },
  {
   "cell_type": "markdown",
   "metadata": {},
   "source": [
    "The `cat` command prints the whole file to your command line."
   ]
  },
  {
   "cell_type": "code",
   "execution_count": 15,
   "metadata": {
    "scrolled": true,
    "tags": [
     "output_scroll",
     "command_line"
    ]
   },
   "outputs": [
    {
     "name": "stdout",
     "output_type": "stream",
     "text": [
      "﻿The Project Gutenberg eBook of The Yellow Wallpaper, by Charlotte Perkins Gilman\n",
      "\n",
      "This eBook is for the use of anyone anywhere in the United States and\n",
      "most other parts of the world at no cost and with almost no restrictions\n",
      "whatsoever. You may copy it, give it away or re-use it under the terms\n",
      "of the Project Gutenberg License included with this eBook or online at\n",
      "www.gutenberg.org. If you are not located in the United States, you\n",
      "will have to check the laws of the country where you are located before\n",
      "using this eBook.\n",
      "\n",
      "Title: The Yellow Wallpaper\n",
      "\n",
      "Author: Charlotte Perkins Gilman\n",
      "\n",
      "Release Date: November, 1999 [eBook #1952]\n",
      "[Most recently updated: January 4, 2021]\n",
      "\n",
      "Language: English\n",
      "\n",
      "Character set encoding: UTF-8\n",
      "\n",
      "Produced by: An Anonymous Volunteer and David Widger\n",
      "\n",
      "*** START OF THE PROJECT GUTENBERG EBOOK THE YELLOW WALLPAPER ***\n",
      "\n",
      "\n",
      "\n",
      "\n",
      "The Yellow Wallpaper\n",
      "\n",
      "By Charlotte Perkins Gilman\n",
      "\n",
      "\n",
      "It is very seldom that mere ordinary people like John and myself secure\n",
      "ancestral halls for the summer.\n",
      "\n",
      "A colonial mansion, a hereditary estate, I would say a haunted house,\n",
      "and reach the height of romantic felicity—but that would be asking too\n",
      "much of fate!\n",
      "\n",
      "Still I will proudly declare that there is something queer about it.\n",
      "\n",
      "Else, why should it be let so cheaply? And why have stood so long\n",
      "untenanted?\n",
      "\n",
      "John laughs at me, of course, but one expects that in marriage.\n",
      "\n",
      "John is practical in the extreme. He has no patience with faith, an\n",
      "intense horror of superstition, and he scoffs openly at any talk of\n",
      "things not to be felt and seen and put down in figures.\n",
      "\n",
      "John is a physician, and perhaps—(I would not say it to a living soul,\n",
      "of course, but this is dead paper and a great relief to my\n",
      "mind)—perhaps that is one reason I do not get well faster.\n",
      "\n",
      "You see, he does not believe I am sick!\n",
      "\n",
      "And what can one do?\n",
      "\n",
      "If a physician of high standing, and one’s own husband, assures friends\n",
      "and relatives that there is really nothing the matter with one but\n",
      "temporary nervous depression—a slight hysterical tendency—what is one\n",
      "to do?\n",
      "\n",
      "My brother is also a physician, and also of high standing, and he says\n",
      "the same thing.\n",
      "\n",
      "So I take phosphates or phosphites—whichever it is, and tonics, and\n",
      "journeys, and air, and exercise, and am absolutely forbidden to “work”\n",
      "until I am well again.\n",
      "\n",
      "Personally, I disagree with their ideas.\n",
      "\n",
      "Personally, I believe that congenial work, with excitement and change,\n",
      "would do me good.\n",
      "\n",
      "But what is one to do?\n",
      "\n",
      "I did write for a while in spite of them; but it does exhaust me a good\n",
      "deal—having to be so sly about it, or else meet with heavy opposition.\n",
      "\n",
      "I sometimes fancy that in my condition if I had less opposition and\n",
      "more society and stimulus—but John says the very worst thing I can do\n",
      "is to think about my condition, and I confess it always makes me feel\n",
      "bad.\n",
      "\n",
      "So I will let it alone and talk about the house.\n",
      "\n",
      "The most beautiful place! It is quite alone, standing well back from\n",
      "the road, quite three miles from the village. It makes me think of\n",
      "English places that you read about, for there are hedges and walls and\n",
      "gates that lock, and lots of separate little houses for the gardeners\n",
      "and people.\n",
      "\n",
      "There is a delicious garden! I never saw such a garden—large and shady,\n",
      "full of box-bordered paths, and lined with long grape-covered arbors\n",
      "with seats under them.\n",
      "\n",
      "There were greenhouses, too, but they are all broken now.\n",
      "\n",
      "There was some legal trouble, I believe, something about the heirs and\n",
      "co-heirs; anyhow, the place has been empty for years.\n",
      "\n",
      "That spoils my ghostliness, I am afraid; but I don’t care—there is\n",
      "something strange about the house—I can feel it.\n",
      "\n",
      "I even said so to John one moonlight evening, but he said what I felt\n",
      "was a draught, and shut the window.\n",
      "\n",
      "I get unreasonably angry with John sometimes. I’m sure I never used to\n",
      "be so sensitive. I think it is due to this nervous condition.\n",
      "\n",
      "But John says if I feel so I shall neglect proper self-control; so I\n",
      "take pains to control myself,—before him, at least,—and that makes me\n",
      "very tired.\n",
      "\n",
      "I don’t like our room a bit. I wanted one downstairs that opened on the\n",
      "piazza and had roses all over the window, and such pretty old-fashioned\n",
      "chintz hangings! but John would not hear of it.\n",
      "\n",
      "He said there was only one window and not room for two beds, and no\n",
      "near room for him if he took another.\n",
      "\n",
      "He is very careful and loving, and hardly lets me stir without special\n",
      "direction.\n",
      "\n",
      "I have a schedule prescription for each hour in the day; he takes all\n",
      "care from me, and so I feel basely ungrateful not to value it more.\n",
      "\n",
      "He said we came here solely on my account, that I was to have perfect\n",
      "rest and all the air I could get. “Your exercise depends on your\n",
      "strength, my dear,” said he, “and your food somewhat on your appetite;\n",
      "but air you can absorb all the time.” So we took the nursery, at the\n",
      "top of the house.\n",
      "\n",
      "It is a big, airy room, the whole floor nearly, with windows that look\n",
      "all ways, and air and sunshine galore. It was nursery first and then\n",
      "playground and gymnasium, I should judge; for the windows are barred\n",
      "for little children, and there are rings and things in the walls.\n",
      "\n",
      "The paint and paper look as if a boys’ school had used it. It is\n",
      "stripped off—the paper—in great patches all around the head of my bed,\n",
      "about as far as I can reach, and in a great place on the other side of\n",
      "the room low down. I never saw a worse paper in my life.\n",
      "\n",
      "One of those sprawling flamboyant patterns committing every artistic\n",
      "sin.\n",
      "\n",
      "It is dull enough to confuse the eye in following, pronounced enough to\n",
      "constantly irritate, and provoke study, and when you follow the lame,\n",
      "uncertain curves for a little distance they suddenly commit\n",
      "suicide—plunge off at outrageous angles, destroy themselves in\n",
      "unheard-of contradictions.\n",
      "\n",
      "The color is repellant, almost revolting; a smouldering, unclean\n",
      "yellow, strangely faded by the slow-turning sunlight.\n",
      "\n",
      "It is a dull yet lurid orange in some places, a sickly sulphur tint in\n",
      "others.\n",
      "\n",
      "No wonder the children hated it! I should hate it myself if I had to\n",
      "live in this room long.\n",
      "\n",
      "There comes John, and I must put this away,—he hates to have me write a\n",
      "word.\n",
      "\n",
      "We have been here two weeks, and I haven’t felt like writing before,\n",
      "since that first day.\n",
      "\n",
      "I am sitting by the window now, up in this atrocious nursery, and there\n",
      "is nothing to hinder my writing as much as I please, save lack of\n",
      "strength.\n",
      "\n",
      "John is away all day, and even some nights when his cases are serious.\n",
      "\n",
      "I am glad my case is not serious!\n",
      "\n",
      "But these nervous troubles are dreadfully depressing.\n",
      "\n",
      "John does not know how much I really suffer. He knows there is no\n",
      "reason to suffer, and that satisfies him.\n",
      "\n",
      "Of course it is only nervousness. It does weigh on me so not to do my\n",
      "duty in any way!\n",
      "\n",
      "I meant to be such a help to John, such a real rest and comfort, and\n",
      "here I am a comparative burden already!\n",
      "\n",
      "Nobody would believe what an effort it is to do what little I am\n",
      "able—to dress and entertain, and order things.\n",
      "\n",
      "It is fortunate Mary is so good with the baby. Such a dear baby!\n",
      "\n",
      "And yet I cannot be with him, it makes me so nervous.\n",
      "\n",
      "I suppose John never was nervous in his life. He laughs at me so about\n",
      "this wallpaper!\n",
      "\n",
      "At first he meant to repaper the room, but afterwards he said that I\n",
      "was letting it get the better of me, and that nothing was worse for a\n",
      "nervous patient than to give way to such fancies.\n",
      "\n",
      "He said that after the wallpaper was changed it would be the heavy\n",
      "bedstead, and then the barred windows, and then that gate at the head\n",
      "of the stairs, and so on.\n",
      "\n",
      "“You know the place is doing you good,” he said, “and really, dear, I\n",
      "don’t care to renovate the house just for a three months’ rental.”\n",
      "\n",
      "“Then do let us go downstairs,” I said, “there are such pretty rooms\n",
      "there.”\n",
      "\n",
      "Then he took me in his arms and called me a blessed little goose, and\n",
      "said he would go down cellar if I wished, and have it whitewashed into\n",
      "the bargain.\n",
      "\n",
      "But he is right enough about the beds and windows and things.\n",
      "\n",
      "It is as airy and comfortable a room as any one need wish, and, of\n",
      "course, I would not be so silly as to make him uncomfortable just for a\n",
      "whim.\n",
      "\n",
      "I’m really getting quite fond of the big room, all but that horrid\n",
      "paper.\n",
      "\n",
      "Out of one window I can see the garden, those mysterious deep-shaded\n",
      "arbors, the riotous old-fashioned flowers, and bushes and gnarly trees.\n",
      "\n",
      "Out of another I get a lovely view of the bay and a little private\n",
      "wharf belonging to the estate. There is a beautiful shaded lane that\n",
      "runs down there from the house. I always fancy I see people walking in\n",
      "these numerous paths and arbors, but John has cautioned me not to give\n",
      "way to fancy in the least. He says that with my imaginative power and\n",
      "habit of story-making a nervous weakness like mine is sure to lead to\n",
      "all manner of excited fancies, and that I ought to use my will and good\n",
      "sense to check the tendency. So I try.\n",
      "\n",
      "I think sometimes that if I were only well enough to write a little it\n",
      "would relieve the press of ideas and rest me.\n",
      "\n",
      "But I find I get pretty tired when I try.\n",
      "\n",
      "It is so discouraging not to have any advice and companionship about my\n",
      "work. When I get really well John says we will ask Cousin Henry and\n",
      "Julia down for a long visit; but he says he would as soon put\n",
      "fire-works in my pillow-case as to let me have those stimulating people\n",
      "about now.\n",
      "\n",
      "I wish I could get well faster.\n",
      "\n",
      "But I must not think about that. This paper looks to me as if it knew\n",
      "what a vicious influence it had!\n",
      "\n",
      "There is a recurrent spot where the pattern lolls like a broken neck\n",
      "and two bulbous eyes stare at you upside-down.\n",
      "\n",
      "I get positively angry with the impertinence of it and the\n",
      "everlastingness. Up and down and sideways they crawl, and those absurd,\n",
      "unblinking eyes are everywhere. There is one place where two breadths\n",
      "didn’t match, and the eyes go all up and down the line, one a little\n",
      "higher than the other.\n",
      "\n",
      "I never saw so much expression in an inanimate thing before, and we all\n",
      "know how much expression they have! I used to lie awake as a child and\n",
      "get more entertainment and terror out of blank walls and plain\n",
      "furniture than most children could find in a toy-store.\n",
      "\n",
      "I remember what a kindly wink the knobs of our big old bureau used to\n",
      "have, and there was one chair that always seemed like a strong friend.\n",
      "\n",
      "I used to feel that if any of the other things looked too fierce I\n",
      "could always hop into that chair and be safe.\n",
      "\n",
      "The furniture in this room is no worse than inharmonious, however, for\n",
      "we had to bring it all from downstairs. I suppose when this was used as\n",
      "a playroom they had to take the nursery things out, and no wonder! I\n",
      "never saw such ravages as the children have made here.\n",
      "\n",
      "The wallpaper, as I said before, is torn off in spots, and it sticketh\n",
      "closer than a brother—they must have had perseverance as well as\n",
      "hatred.\n",
      "\n",
      "Then the floor is scratched and gouged and splintered, the plaster\n",
      "itself is dug out here and there, and this great heavy bed, which is\n",
      "all we found in the room, looks as if it had been through the wars.\n",
      "\n",
      "But I don’t mind it a bit—only the paper.\n",
      "\n",
      "There comes John’s sister. Such a dear girl as she is, and so careful\n",
      "of me! I must not let her find me writing.\n",
      "\n",
      "She is a perfect, and enthusiastic housekeeper, and hopes for no better\n",
      "profession. I verily believe she thinks it is the writing which made me\n",
      "sick!\n",
      "\n",
      "But I can write when she is out, and see her a long way off from these\n",
      "windows.\n",
      "\n",
      "There is one that commands the road, a lovely, shaded, winding road,\n",
      "and one that just looks off over the country. A lovely country, too,\n",
      "full of great elms and velvet meadows.\n",
      "\n",
      "This wallpaper has a kind of sub-pattern in a different shade, a\n",
      "particularly irritating one, for you can only see it in certain lights,\n",
      "and not clearly then.\n",
      "\n",
      "But in the places where it isn’t faded, and where the sun is just so, I\n",
      "can see a strange, provoking, formless sort of figure, that seems to\n",
      "sulk about behind that silly and conspicuous front design.\n",
      "\n",
      "There’s sister on the stairs!\n",
      "\n",
      "Well, the Fourth of July is over! The people are gone and I am tired\n",
      "out. John thought it might do me good to see a little company, so we\n",
      "just had mother and Nellie and the children down for a week.\n",
      "\n",
      "Of course I didn’t do a thing. Jennie sees to everything now.\n",
      "\n",
      "But it tired me all the same.\n",
      "\n",
      "John says if I don’t pick up faster he shall send me to Weir Mitchell\n",
      "in the fall.\n",
      "\n",
      "But I don’t want to go there at all. I had a friend who was in his\n",
      "hands once, and she says he is just like John and my brother, only more\n",
      "so!\n",
      "\n",
      "Besides, it is such an undertaking to go so far.\n",
      "\n",
      "I don’t feel as if it was worth while to turn my hand over for\n",
      "anything, and I’m getting dreadfully fretful and querulous.\n",
      "\n",
      "I cry at nothing, and cry most of the time.\n",
      "\n",
      "Of course I don’t when John is here, or anybody else, but when I am\n",
      "alone.\n",
      "\n",
      "And I am alone a good deal just now. John is kept in town very often by\n",
      "serious cases, and Jennie is good and lets me alone when I want her to.\n",
      "\n",
      "So I walk a little in the garden or down that lovely lane, sit on the\n",
      "porch under the roses, and lie down up here a good deal.\n",
      "\n",
      "I’m getting really fond of the room in spite of the wallpaper. Perhaps\n",
      "because of the wallpaper.\n",
      "\n",
      "It dwells in my mind so!\n",
      "\n",
      "I lie here on this great immovable bed—it is nailed down, I believe—and\n",
      "follow that pattern about by the hour. It is as good as gymnastics, I\n",
      "assure you. I start, we’ll say, at the bottom, down in the corner over\n",
      "there where it has not been touched, and I determine for the thousandth\n",
      "time that I will follow that pointless pattern to some sort of a\n",
      "conclusion.\n",
      "\n",
      "I know a little of the principle of design, and I know this thing was\n",
      "not arranged on any laws of radiation, or alternation, or repetition,\n",
      "or symmetry, or anything else that I ever heard of.\n",
      "\n",
      "It is repeated, of course, by the breadths, but not otherwise.\n",
      "\n",
      "Looked at in one way each breadth stands alone, the bloated curves and\n",
      "flourishes—a kind of “debased Romanesque” with delirium tremens—go\n",
      "waddling up and down in isolated columns of fatuity.\n",
      "\n",
      "But, on the other hand, they connect diagonally, and the sprawling\n",
      "outlines run off in great slanting waves of optic horror, like a lot of\n",
      "wallowing seaweeds in full chase.\n",
      "\n",
      "The whole thing goes horizontally, too, at least it seems so, and I\n",
      "exhaust myself in trying to distinguish the order of its going in that\n",
      "direction.\n",
      "\n",
      "They have used a horizontal breadth for a frieze, and that adds\n",
      "wonderfully to the confusion.\n",
      "\n",
      "There is one end of the room where it is almost intact, and there, when\n",
      "the cross-lights fade and the low sun shines directly upon it, I can\n",
      "almost fancy radiation after all,—the interminable grotesques seem to\n",
      "form around a common centre and rush off in headlong plunges of equal\n",
      "distraction.\n",
      "\n",
      "It makes me tired to follow it. I will take a nap, I guess.\n",
      "\n",
      "I don’t know why I should write this.\n",
      "\n",
      "I don’t want to.\n",
      "\n",
      "I don’t feel able.\n",
      "\n",
      "And I know John would think it absurd. But I must say what I feel and\n",
      "think in some way—it is such a relief!\n",
      "\n",
      "But the effort is getting to be greater than the relief.\n",
      "\n",
      "Half the time now I am awfully lazy, and lie down ever so much.\n",
      "\n",
      "John says I musn’t lose my strength, and has me take cod-liver oil and\n",
      "lots of tonics and things, to say nothing of ale and wine and rare\n",
      "meat.\n",
      "\n",
      "Dear John! He loves me very dearly, and hates to have me sick. I tried\n",
      "to have a real earnest reasonable talk with him the other day, and tell\n",
      "him how I wish he would let me go and make a visit to Cousin Henry and\n",
      "Julia.\n",
      "\n",
      "But he said I wasn’t able to go, nor able to stand it after I got\n",
      "there; and I did not make out a very good case for myself, for I was\n",
      "crying before I had finished.\n",
      "\n",
      "It is getting to be a great effort for me to think straight. Just this\n",
      "nervous weakness, I suppose.\n",
      "\n",
      "And dear John gathered me up in his arms, and just carried me upstairs\n",
      "and laid me on the bed, and sat by me and read to me till it tired my\n",
      "head.\n",
      "\n",
      "He said I was his darling and his comfort and all he had, and that I\n",
      "must take care of myself for his sake, and keep well.\n",
      "\n",
      "He says no one but myself can help me out of it, that I must use my\n",
      "will and self-control and not let any silly fancies run away with me.\n",
      "\n",
      "There’s one comfort, the baby is well and happy, and does not have to\n",
      "occupy this nursery with the horrid wallpaper.\n",
      "\n",
      "If we had not used it that blessed child would have! What a fortunate\n",
      "escape! Why, I wouldn’t have a child of mine, an impressionable little\n",
      "thing, live in such a room for worlds.\n",
      "\n",
      "I never thought of it before, but it is lucky that John kept me here\n",
      "after all. I can stand it so much easier than a baby, you see.\n",
      "\n",
      "Of course I never mention it to them any more,—I am too wise,—but I\n",
      "keep watch of it all the same.\n",
      "\n",
      "There are things in that paper that nobody knows but me, or ever will.\n",
      "\n",
      "Behind that outside pattern the dim shapes get clearer every day.\n",
      "\n",
      "It is always the same shape, only very numerous.\n",
      "\n",
      "And it is like a woman stooping down and creeping about behind that\n",
      "pattern. I don’t like it a bit. I wonder—I begin to think—I wish John\n",
      "would take me away from here!\n",
      "\n",
      "It is so hard to talk with John about my case, because he is so wise,\n",
      "and because he loves me so.\n",
      "\n",
      "But I tried it last night.\n",
      "\n",
      "It was moonlight. The moon shines in all around, just as the sun does.\n",
      "\n",
      "I hate to see it sometimes, it creeps so slowly, and always comes in by\n",
      "one window or another.\n",
      "\n",
      "John was asleep and I hated to waken him, so I kept still and watched\n",
      "the moonlight on that undulating wallpaper till I felt creepy.\n",
      "\n",
      "The faint figure behind seemed to shake the pattern, just as if she\n",
      "wanted to get out.\n",
      "\n",
      "I got up softly and went to feel and see if the paper did move, and\n",
      "when I came back John was awake.\n",
      "\n",
      "“What is it, little girl?” he said. “Don’t go walking about like\n",
      "that—you’ll get cold.”\n",
      "\n",
      "I thought it was a good time to talk, so I told him that I really was\n",
      "not gaining here, and that I wished he would take me away.\n",
      "\n",
      "“Why darling!” said he, “our lease will be up in three weeks, and I\n",
      "can’t see how to leave before.\n",
      "\n",
      "“The repairs are not done at home, and I cannot possibly leave town\n",
      "just now. Of course if you were in any danger I could and would, but\n",
      "you really are better, dear, whether you can see it or not. I am a\n",
      "doctor, dear, and I know. You are gaining flesh and color, your\n",
      "appetite is better. I feel really much easier about you.”\n",
      "\n",
      "“I don’t weigh a bit more,” said I, “nor as much; and my appetite may\n",
      "be better in the evening, when you are here, but it is worse in the\n",
      "morning when you are away.”\n",
      "\n",
      "“Bless her little heart!” said he with a big hug; “she shall be as sick\n",
      "as she pleases! But now let’s improve the shining hours by going to\n",
      "sleep, and talk about it in the morning!”\n",
      "\n",
      "“And you won’t go away?” I asked gloomily.\n",
      "\n",
      "“Why, how can I, dear? It is only three weeks more and then we will\n",
      "take a nice little trip of a few days while Jennie is getting the house\n",
      "ready. Really, dear, you are better!”\n",
      "\n",
      "“Better in body perhaps”—I began, and stopped short, for he sat up\n",
      "straight and looked at me with such a stern, reproachful look that I\n",
      "could not say another word.\n",
      "\n",
      "“My darling,” said he, “I beg of you, for my sake and for our child’s\n",
      "sake, as well as for your own, that you will never for one instant let\n",
      "that idea enter your mind! There is nothing so dangerous, so\n",
      "fascinating, to a temperament like yours. It is a false and foolish\n",
      "fancy. Can you not trust me as a physician when I tell you so?”\n",
      "\n",
      "So of course I said no more on that score, and we went to sleep before\n",
      "long. He thought I was asleep first, but I wasn’t,—I lay there for\n",
      "hours trying to decide whether that front pattern and the back pattern\n",
      "really did move together or separately.\n",
      "\n",
      "On a pattern like this, by daylight, there is a lack of sequence, a\n",
      "defiance of law, that is a constant irritant to a normal mind.\n",
      "\n",
      "The color is hideous enough, and unreliable enough, and infuriating\n",
      "enough, but the pattern is torturing.\n",
      "\n",
      "You think you have mastered it, but just as you get well under way in\n",
      "following, it turns a back somersault and there you are. It slaps you\n",
      "in the face, knocks you down, and tramples upon you. It is like a bad\n",
      "dream.\n",
      "\n",
      "The outside pattern is a florid arabesque, reminding one of a fungus.\n",
      "If you can imagine a toadstool in joints, an interminable string of\n",
      "toadstools, budding and sprouting in endless convolutions,—why, that is\n",
      "something like it.\n",
      "\n",
      "That is, sometimes!\n",
      "\n",
      "There is one marked peculiarity about this paper, a thing nobody seems\n",
      "to notice but myself, and that is that it changes as the light changes.\n",
      "\n",
      "When the sun shoots in through the east window—I always watch for that\n",
      "first long, straight ray—it changes so quickly that I never can quite\n",
      "believe it.\n",
      "\n",
      "That is why I watch it always.\n",
      "\n",
      "By moonlight—the moon shines in all night when there is a moon—I\n",
      "wouldn’t know it was the same paper.\n",
      "\n",
      "At night in any kind of light, in twilight, candlelight, lamplight, and\n",
      "worst of all by moonlight, it becomes bars! The outside pattern I mean,\n",
      "and the woman behind it is as plain as can be.\n",
      "\n",
      "I didn’t realize for a long time what the thing was that showed\n",
      "behind,—that dim sub-pattern,—but now I am quite sure it is a woman.\n",
      "\n",
      "By daylight she is subdued, quiet. I fancy it is the pattern that keeps\n",
      "her so still. It is so puzzling. It keeps me quiet by the hour.\n",
      "\n",
      "I lie down ever so much now. John says it is good for me, and to sleep\n",
      "all I can.\n",
      "\n",
      "Indeed, he started the habit by making me lie down for an hour after\n",
      "each meal.\n",
      "\n",
      "It is a very bad habit, I am convinced, for, you see, I don’t sleep.\n",
      "\n",
      "And that cultivates deceit, for I don’t tell them I’m awake,—oh, no!\n",
      "\n",
      "The fact is, I am getting a little afraid of John.\n",
      "\n",
      "He seems very queer sometimes, and even Jennie has an inexplicable\n",
      "look.\n",
      "\n",
      "It strikes me occasionally, just as a scientific hypothesis, that\n",
      "perhaps it is the paper!\n",
      "\n",
      "I have watched John when he did not know I was looking, and come into\n",
      "the room suddenly on the most innocent excuses, and I’ve caught him\n",
      "several times looking at the paper! And Jennie too. I caught Jennie\n",
      "with her hand on it once.\n",
      "\n",
      "She didn’t know I was in the room, and when I asked her in a quiet, a\n",
      "very quiet voice, with the most restrained manner possible, what she\n",
      "was doing with the paper she turned around as if she had been caught\n",
      "stealing, and looked quite angry—asked me why I should frighten her so!\n",
      "\n",
      "Then she said that the paper stained everything it touched, that she\n",
      "had found yellow smooches on all my clothes and John’s, and she wished\n",
      "we would be more careful!\n",
      "\n",
      "Did not that sound innocent? But I know she was studying that pattern,\n",
      "and I am determined that nobody shall find it out but myself!\n",
      "\n",
      "Life is very much more exciting now than it used to be. You see I have\n",
      "something more to expect, to look forward to, to watch. I really do eat\n",
      "better, and am more quiet than I was.\n",
      "\n",
      "John is so pleased to see me improve! He laughed a little the other\n",
      "day, and said I seemed to be flourishing in spite of my wallpaper.\n",
      "\n",
      "I turned it off with a laugh. I had no intention of telling him it was\n",
      "because of the wallpaper—he would make fun of me. He might even want to\n",
      "take me away.\n",
      "\n",
      "I don’t want to leave now until I have found it out. There is a week\n",
      "more, and I think that will be enough.\n",
      "\n",
      "I’m feeling ever so much better! I don’t sleep much at night, for it is\n",
      "so interesting to watch developments; but I sleep a good deal in the\n",
      "daytime.\n",
      "\n",
      "In the daytime it is tiresome and perplexing.\n",
      "\n",
      "There are always new shoots on the fungus, and new shades of yellow all\n",
      "over it. I cannot keep count of them, though I have tried\n",
      "conscientiously.\n",
      "\n",
      "It is the strangest yellow, that wallpaper! It makes me think of all\n",
      "the yellow things I ever saw—not beautiful ones like buttercups, but\n",
      "old foul, bad yellow things.\n",
      "\n",
      "But there is something else about that paper—the smell! I noticed it\n",
      "the moment we came into the room, but with so much air and sun it was\n",
      "not bad. Now we have had a week of fog and rain, and whether the\n",
      "windows are open or not, the smell is here.\n",
      "\n",
      "It creeps all over the house.\n",
      "\n",
      "I find it hovering in the dining-room, skulking in the parlor, hiding\n",
      "in the hall, lying in wait for me on the stairs.\n",
      "\n",
      "It gets into my hair.\n",
      "\n",
      "Even when I go to ride, if I turn my head suddenly and surprise\n",
      "it—there is that smell!\n",
      "\n",
      "Such a peculiar odor, too! I have spent hours in trying to analyze it,\n",
      "to find what it smelled like.\n",
      "\n",
      "It is not bad—at first, and very gentle, but quite the subtlest, most\n",
      "enduring odor I ever met.\n",
      "\n",
      "In this damp weather it is awful. I wake up in the night and find it\n",
      "hanging over me.\n",
      "\n",
      "It used to disturb me at first. I thought seriously of burning the\n",
      "house—to reach the smell.\n",
      "\n",
      "But now I am used to it. The only thing I can think of that it is like\n",
      "is the color of the paper! A yellow smell.\n",
      "\n",
      "There is a very funny mark on this wall, low down, near the mopboard. A\n",
      "streak that runs round the room. It goes behind every piece of\n",
      "furniture, except the bed, a long, straight, even smooch, as if it had\n",
      "been rubbed over and over.\n",
      "\n",
      "I wonder how it was done and who did it, and what they did it for.\n",
      "Round and round and round—round and round and round—it makes me dizzy!\n",
      "\n",
      "I really have discovered something at last.\n",
      "\n",
      "Through watching so much at night, when it changes so, I have finally\n",
      "found out.\n",
      "\n",
      "The front pattern does move—and no wonder! The woman behind shakes it!\n",
      "\n",
      "Sometimes I think there are a great many women behind, and sometimes\n",
      "only one, and she crawls around fast, and her crawling shakes it all\n",
      "over.\n",
      "\n",
      "Then in the very bright spots she keeps still, and in the very shady\n",
      "spots she just takes hold of the bars and shakes them hard.\n",
      "\n",
      "And she is all the time trying to climb through. But nobody could climb\n",
      "through that pattern—it strangles so; I think that is why it has so\n",
      "many heads.\n",
      "\n",
      "They get through, and then the pattern strangles them off and turns\n",
      "them upside-down, and makes their eyes white!\n",
      "\n",
      "If those heads were covered or taken off it would not be half so bad.\n",
      "\n",
      "I think that woman gets out in the daytime!\n",
      "\n",
      "And I’ll tell you why—privately—I’ve seen her!\n",
      "\n",
      "I can see her out of every one of my windows!\n",
      "\n",
      "It is the same woman, I know, for she is always creeping, and most\n",
      "women do not creep by daylight.\n",
      "\n",
      "I see her on that long shaded lane, creeping up and down. I see her in\n",
      "those dark grape arbors, creeping all around the garden.\n",
      "\n",
      "I see her on that long road under the trees, creeping along, and when a\n",
      "carriage comes she hides under the blackberry vines.\n",
      "\n",
      "I don’t blame her a bit. It must be very humiliating to be caught\n",
      "creeping by daylight!\n",
      "\n",
      "I always lock the door when I creep by daylight. I can’t do it at\n",
      "night, for I know John would suspect something at once.\n",
      "\n",
      "And John is so queer now, that I don’t want to irritate him. I wish he\n",
      "would take another room! Besides, I don’t want anybody to get that\n",
      "woman out at night but myself.\n",
      "\n",
      "I often wonder if I could see her out of all the windows at once.\n",
      "\n",
      "But, turn as fast as I can, I can only see out of one at one time.\n",
      "\n",
      "And though I always see her she may be able to creep faster than I can\n",
      "turn!\n",
      "\n",
      "I have watched her sometimes away off in the open country, creeping as\n",
      "fast as a cloud shadow in a high wind.\n",
      "\n",
      "If only that top pattern could be gotten off from the under one! I mean\n",
      "to try it, little by little.\n",
      "\n",
      "I have found out another funny thing, but I shan’t tell it this time!\n",
      "It does not do to trust people too much.\n",
      "\n",
      "There are only two more days to get this paper off, and I believe John\n",
      "is beginning to notice. I don’t like the look in his eyes.\n",
      "\n",
      "And I heard him ask Jennie a lot of professional questions about me.\n",
      "She had a very good report to give.\n",
      "\n",
      "She said I slept a good deal in the daytime.\n",
      "\n",
      "John knows I don’t sleep very well at night, for all I’m so quiet!\n",
      "\n",
      "He asked me all sorts of questions, too, and pretended to be very\n",
      "loving and kind.\n",
      "\n",
      "As if I couldn’t see through him!\n",
      "\n",
      "Still, I don’t wonder he acts so, sleeping under this paper for three\n",
      "months.\n",
      "\n",
      "It only interests me, but I feel sure John and Jennie are secretly\n",
      "affected by it.\n",
      "\n",
      "Hurrah! This is the last day, but it is enough. John is to stay in town\n",
      "over night, and won’t be out until this evening.\n",
      "\n",
      "Jennie wanted to sleep with me—the sly thing! but I told her I should\n",
      "undoubtedly rest better for a night all alone.\n",
      "\n",
      "That was clever, for really I wasn’t alone a bit! As soon as it was\n",
      "moonlight, and that poor thing began to crawl and shake the pattern, I\n",
      "got up and ran to help her.\n",
      "\n",
      "I pulled and she shook, I shook and she pulled, and before morning we\n",
      "had peeled off yards of that paper.\n",
      "\n",
      "A strip about as high as my head and half around the room.\n",
      "\n",
      "And then when the sun came and that awful pattern began to laugh at me\n",
      "I declared I would finish it to-day!\n",
      "\n",
      "We go away to-morrow, and they are moving all my furniture down again\n",
      "to leave things as they were before.\n",
      "\n",
      "Jennie looked at the wall in amazement, but I told her merrily that I\n",
      "did it out of pure spite at the vicious thing.\n",
      "\n",
      "She laughed and said she wouldn’t mind doing it herself, but I must not\n",
      "get tired.\n",
      "\n",
      "How she betrayed herself that time!\n",
      "\n",
      "But I am here, and no person touches this paper but me—not alive!\n",
      "\n",
      "She tried to get me out of the room—it was too patent! But I said it\n",
      "was so quiet and empty and clean now that I believed I would lie down\n",
      "again and sleep all I could; and not to wake me even for dinner—I would\n",
      "call when I woke.\n",
      "\n",
      "So now she is gone, and the servants are gone, and the things are gone,\n",
      "and there is nothing left but that great bedstead nailed down, with the\n",
      "canvas mattress we found on it.\n",
      "\n",
      "We shall sleep downstairs to-night, and take the boat home to-morrow.\n",
      "\n",
      "I quite enjoy the room, now it is bare again.\n",
      "\n",
      "How those children did tear about here!\n",
      "\n",
      "This bedstead is fairly gnawed!\n",
      "\n",
      "But I must get to work.\n",
      "\n",
      "I have locked the door and thrown the key down into the front path.\n",
      "\n",
      "I don’t want to go out, and I don’t want to have anybody come in, till\n",
      "John comes.\n",
      "\n",
      "I want to astonish him.\n",
      "\n",
      "I’ve got a rope up here that even Jennie did not find. If that woman\n",
      "does get out, and tries to get away, I can tie her!\n",
      "\n",
      "But I forgot I could not reach far without anything to stand on!\n",
      "\n",
      "This bed will not move!\n",
      "\n",
      "I tried to lift and push it until I was lame, and then I got so angry I\n",
      "bit off a little piece at one corner—but it hurt my teeth.\n",
      "\n",
      "Then I peeled off all the paper I could reach standing on the floor. It\n",
      "sticks horribly and the pattern just enjoys it! All those strangled\n",
      "heads and bulbous eyes and waddling fungus growths just shriek with\n",
      "derision!\n",
      "\n",
      "I am getting angry enough to do something desperate. To jump out of the\n",
      "window would be admirable exercise, but the bars are too strong even to\n",
      "try.\n",
      "\n",
      "Besides I wouldn’t do it. Of course not. I know well enough that a step\n",
      "like that is improper and might be misconstrued.\n",
      "\n",
      "I don’t like to look out of the windows even—there are so many of those\n",
      "creeping women, and they creep so fast.\n",
      "\n",
      "I wonder if they all come out of that wallpaper as I did?\n",
      "\n",
      "But I am securely fastened now by my well-hidden rope—you don’t get me\n",
      "out in the road there!\n",
      "\n",
      "I suppose I shall have to get back behind the pattern when it comes\n",
      "night, and that is hard!\n",
      "\n",
      "It is so pleasant to be out in this great room and creep around as I\n",
      "please!\n",
      "\n",
      "I don’t want to go outside. I won’t, even if Jennie asks me to.\n",
      "\n",
      "For outside you have to creep on the ground, and everything is green\n",
      "instead of yellow.\n",
      "\n",
      "But here I can creep smoothly on the floor, and my shoulder just fits\n",
      "in that long smooch around the wall, so I cannot lose my way.\n",
      "\n",
      "Why, there’s John at the door!\n",
      "\n",
      "It is no use, young man, you can’t open it!\n",
      "\n",
      "How he does call and pound!\n",
      "\n",
      "Now he’s crying for an axe.\n",
      "\n",
      "It would be a shame to break down that beautiful door!\n",
      "\n",
      "“John dear!” said I in the gentlest voice, “the key is down by the\n",
      "front steps, under a plantain leaf!”\n",
      "\n",
      "That silenced him for a few moments.\n",
      "\n",
      "Then he said—very quietly indeed, “Open the door, my darling!”\n",
      "\n",
      "“I can’t,” said I. “The key is down by the front door under a plantain\n",
      "leaf!”\n",
      "\n",
      "And then I said it again, several times, very gently and slowly, and\n",
      "said it so often that he had to go and see, and he got it, of course,\n",
      "and came in. He stopped short by the door.\n",
      "\n",
      "“What is the matter?” he cried. “For God’s sake, what are you doing!”\n",
      "\n",
      "I kept on creeping just the same, but I looked at him over my shoulder.\n",
      "\n",
      "“I’ve got out at last,” said I, “in spite of you and Jane! And I’ve\n",
      "pulled off most of the paper, so you can’t put me back!”\n",
      "\n",
      "Now why should that man have fainted? But he did, and right across my\n",
      "path by the wall, so that I had to creep over him every time!\n",
      "\n",
      "\n",
      "\n",
      "\n",
      "*** END OF THE PROJECT GUTENBERG EBOOK THE YELLOW WALLPAPER ***\n",
      "\n",
      "***** This file should be named 1952-0.txt or 1952-0.zip *****\n",
      "This and all associated files of various formats will be found in:\n",
      "    https://www.gutenberg.org/1/9/5/1952/\n",
      "\n",
      "Updated editions will replace the previous one--the old editions will\n",
      "be renamed.\n",
      "\n",
      "Creating the works from print editions not protected by U.S. copyright\n",
      "law means that no one owns a United States copyright in these works,\n",
      "so the Foundation (and you!) can copy and distribute it in the\n",
      "United States without permission and without paying copyright\n",
      "royalties. Special rules, set forth in the General Terms of Use part\n",
      "of this license, apply to copying and distributing Project\n",
      "Gutenberg-tm electronic works to protect the PROJECT GUTENBERG-tm\n",
      "concept and trademark. Project Gutenberg is a registered trademark,\n",
      "and may not be used if you charge for an eBook, except by following\n",
      "the terms of the trademark license, including paying royalties for use\n",
      "of the Project Gutenberg trademark. If you do not charge anything for\n",
      "copies of this eBook, complying with the trademark license is very\n",
      "easy. You may use this eBook for nearly any purpose such as creation\n",
      "of derivative works, reports, performances and research. Project\n",
      "Gutenberg eBooks may be modified and printed and given away--you may\n",
      "do practically ANYTHING in the United States with eBooks not protected\n",
      "by U.S. copyright law. Redistribution is subject to the trademark\n",
      "license, especially commercial redistribution.\n",
      "\n",
      "START: FULL LICENSE\n",
      "\n",
      "THE FULL PROJECT GUTENBERG LICENSE\n",
      "PLEASE READ THIS BEFORE YOU DISTRIBUTE OR USE THIS WORK\n",
      "\n",
      "To protect the Project Gutenberg-tm mission of promoting the free\n",
      "distribution of electronic works, by using or distributing this work\n",
      "(or any other work associated in any way with the phrase \"Project\n",
      "Gutenberg\"), you agree to comply with all the terms of the Full\n",
      "Project Gutenberg-tm License available with this file or online at\n",
      "www.gutenberg.org/license.\n",
      "\n",
      "Section 1. General Terms of Use and Redistributing Project\n",
      "Gutenberg-tm electronic works\n",
      "\n",
      "1.A. By reading or using any part of this Project Gutenberg-tm\n",
      "electronic work, you indicate that you have read, understand, agree to\n",
      "and accept all the terms of this license and intellectual property\n",
      "(trademark/copyright) agreement. If you do not agree to abide by all\n",
      "the terms of this agreement, you must cease using and return or\n",
      "destroy all copies of Project Gutenberg-tm electronic works in your\n",
      "possession. If you paid a fee for obtaining a copy of or access to a\n",
      "Project Gutenberg-tm electronic work and you do not agree to be bound\n",
      "by the terms of this agreement, you may obtain a refund from the\n",
      "person or entity to whom you paid the fee as set forth in paragraph\n",
      "1.E.8.\n",
      "\n",
      "1.B. \"Project Gutenberg\" is a registered trademark. It may only be\n",
      "used on or associated in any way with an electronic work by people who\n",
      "agree to be bound by the terms of this agreement. There are a few\n",
      "things that you can do with most Project Gutenberg-tm electronic works\n",
      "even without complying with the full terms of this agreement. See\n",
      "paragraph 1.C below. There are a lot of things you can do with Project\n",
      "Gutenberg-tm electronic works if you follow the terms of this\n",
      "agreement and help preserve free future access to Project Gutenberg-tm\n",
      "electronic works. See paragraph 1.E below.\n",
      "\n",
      "1.C. The Project Gutenberg Literary Archive Foundation (\"the\n",
      "Foundation\" or PGLAF), owns a compilation copyright in the collection\n",
      "of Project Gutenberg-tm electronic works. Nearly all the individual\n",
      "works in the collection are in the public domain in the United\n",
      "States. If an individual work is unprotected by copyright law in the\n",
      "United States and you are located in the United States, we do not\n",
      "claim a right to prevent you from copying, distributing, performing,\n",
      "displaying or creating derivative works based on the work as long as\n",
      "all references to Project Gutenberg are removed. Of course, we hope\n",
      "that you will support the Project Gutenberg-tm mission of promoting\n",
      "free access to electronic works by freely sharing Project Gutenberg-tm\n",
      "works in compliance with the terms of this agreement for keeping the\n",
      "Project Gutenberg-tm name associated with the work. You can easily\n",
      "comply with the terms of this agreement by keeping this work in the\n",
      "same format with its attached full Project Gutenberg-tm License when\n",
      "you share it without charge with others.\n",
      "\n",
      "1.D. The copyright laws of the place where you are located also govern\n",
      "what you can do with this work. Copyright laws in most countries are\n",
      "in a constant state of change. If you are outside the United States,\n",
      "check the laws of your country in addition to the terms of this\n",
      "agreement before downloading, copying, displaying, performing,\n",
      "distributing or creating derivative works based on this work or any\n",
      "other Project Gutenberg-tm work. The Foundation makes no\n",
      "representations concerning the copyright status of any work in any\n",
      "country other than the United States.\n",
      "\n",
      "1.E. Unless you have removed all references to Project Gutenberg:\n",
      "\n",
      "1.E.1. The following sentence, with active links to, or other\n",
      "immediate access to, the full Project Gutenberg-tm License must appear\n",
      "prominently whenever any copy of a Project Gutenberg-tm work (any work\n",
      "on which the phrase \"Project Gutenberg\" appears, or with which the\n",
      "phrase \"Project Gutenberg\" is associated) is accessed, displayed,\n",
      "performed, viewed, copied or distributed:\n",
      "\n",
      "  This eBook is for the use of anyone anywhere in the United States and\n",
      "  most other parts of the world at no cost and with almost no\n",
      "  restrictions whatsoever. You may copy it, give it away or re-use it\n",
      "  under the terms of the Project Gutenberg License included with this\n",
      "  eBook or online at www.gutenberg.org. If you are not located in the\n",
      "  United States, you will have to check the laws of the country where\n",
      "  you are located before using this eBook.\n",
      "\n",
      "1.E.2. If an individual Project Gutenberg-tm electronic work is\n",
      "derived from texts not protected by U.S. copyright law (does not\n",
      "contain a notice indicating that it is posted with permission of the\n",
      "copyright holder), the work can be copied and distributed to anyone in\n",
      "the United States without paying any fees or charges. If you are\n",
      "redistributing or providing access to a work with the phrase \"Project\n",
      "Gutenberg\" associated with or appearing on the work, you must comply\n",
      "either with the requirements of paragraphs 1.E.1 through 1.E.7 or\n",
      "obtain permission for the use of the work and the Project Gutenberg-tm\n",
      "trademark as set forth in paragraphs 1.E.8 or 1.E.9.\n",
      "\n",
      "1.E.3. If an individual Project Gutenberg-tm electronic work is posted\n",
      "with the permission of the copyright holder, your use and distribution\n",
      "must comply with both paragraphs 1.E.1 through 1.E.7 and any\n",
      "additional terms imposed by the copyright holder. Additional terms\n",
      "will be linked to the Project Gutenberg-tm License for all works\n",
      "posted with the permission of the copyright holder found at the\n",
      "beginning of this work.\n",
      "\n",
      "1.E.4. Do not unlink or detach or remove the full Project Gutenberg-tm\n",
      "License terms from this work, or any files containing a part of this\n",
      "work or any other work associated with Project Gutenberg-tm.\n",
      "\n",
      "1.E.5. Do not copy, display, perform, distribute or redistribute this\n",
      "electronic work, or any part of this electronic work, without\n",
      "prominently displaying the sentence set forth in paragraph 1.E.1 with\n",
      "active links or immediate access to the full terms of the Project\n",
      "Gutenberg-tm License.\n",
      "\n",
      "1.E.6. You may convert to and distribute this work in any binary,\n",
      "compressed, marked up, nonproprietary or proprietary form, including\n",
      "any word processing or hypertext form. However, if you provide access\n",
      "to or distribute copies of a Project Gutenberg-tm work in a format\n",
      "other than \"Plain Vanilla ASCII\" or other format used in the official\n",
      "version posted on the official Project Gutenberg-tm website\n",
      "(www.gutenberg.org), you must, at no additional cost, fee or expense\n",
      "to the user, provide a copy, a means of exporting a copy, or a means\n",
      "of obtaining a copy upon request, of the work in its original \"Plain\n",
      "Vanilla ASCII\" or other form. Any alternate format must include the\n",
      "full Project Gutenberg-tm License as specified in paragraph 1.E.1.\n",
      "\n",
      "1.E.7. Do not charge a fee for access to, viewing, displaying,\n",
      "performing, copying or distributing any Project Gutenberg-tm works\n",
      "unless you comply with paragraph 1.E.8 or 1.E.9.\n",
      "\n",
      "1.E.8. You may charge a reasonable fee for copies of or providing\n",
      "access to or distributing Project Gutenberg-tm electronic works\n",
      "provided that:\n",
      "\n",
      "* You pay a royalty fee of 20% of the gross profits you derive from\n",
      "  the use of Project Gutenberg-tm works calculated using the method\n",
      "  you already use to calculate your applicable taxes. The fee is owed\n",
      "  to the owner of the Project Gutenberg-tm trademark, but he has\n",
      "  agreed to donate royalties under this paragraph to the Project\n",
      "  Gutenberg Literary Archive Foundation. Royalty payments must be paid\n",
      "  within 60 days following each date on which you prepare (or are\n",
      "  legally required to prepare) your periodic tax returns. Royalty\n",
      "  payments should be clearly marked as such and sent to the Project\n",
      "  Gutenberg Literary Archive Foundation at the address specified in\n",
      "  Section 4, \"Information about donations to the Project Gutenberg\n",
      "  Literary Archive Foundation.\"\n",
      "\n",
      "* You provide a full refund of any money paid by a user who notifies\n",
      "  you in writing (or by e-mail) within 30 days of receipt that s/he\n",
      "  does not agree to the terms of the full Project Gutenberg-tm\n",
      "  License. You must require such a user to return or destroy all\n",
      "  copies of the works possessed in a physical medium and discontinue\n",
      "  all use of and all access to other copies of Project Gutenberg-tm\n",
      "  works.\n",
      "\n",
      "* You provide, in accordance with paragraph 1.F.3, a full refund of\n",
      "  any money paid for a work or a replacement copy, if a defect in the\n",
      "  electronic work is discovered and reported to you within 90 days of\n",
      "  receipt of the work.\n",
      "\n",
      "* You comply with all other terms of this agreement for free\n",
      "  distribution of Project Gutenberg-tm works.\n",
      "\n",
      "1.E.9. If you wish to charge a fee or distribute a Project\n",
      "Gutenberg-tm electronic work or group of works on different terms than\n",
      "are set forth in this agreement, you must obtain permission in writing\n",
      "from the Project Gutenberg Literary Archive Foundation, the manager of\n",
      "the Project Gutenberg-tm trademark. Contact the Foundation as set\n",
      "forth in Section 3 below.\n",
      "\n",
      "1.F.\n",
      "\n",
      "1.F.1. Project Gutenberg volunteers and employees expend considerable\n",
      "effort to identify, do copyright research on, transcribe and proofread\n",
      "works not protected by U.S. copyright law in creating the Project\n",
      "Gutenberg-tm collection. Despite these efforts, Project Gutenberg-tm\n",
      "electronic works, and the medium on which they may be stored, may\n",
      "contain \"Defects,\" such as, but not limited to, incomplete, inaccurate\n",
      "or corrupt data, transcription errors, a copyright or other\n",
      "intellectual property infringement, a defective or damaged disk or\n",
      "other medium, a computer virus, or computer codes that damage or\n",
      "cannot be read by your equipment.\n",
      "\n",
      "1.F.2. LIMITED WARRANTY, DISCLAIMER OF DAMAGES - Except for the \"Right\n",
      "of Replacement or Refund\" described in paragraph 1.F.3, the Project\n",
      "Gutenberg Literary Archive Foundation, the owner of the Project\n",
      "Gutenberg-tm trademark, and any other party distributing a Project\n",
      "Gutenberg-tm electronic work under this agreement, disclaim all\n",
      "liability to you for damages, costs and expenses, including legal\n",
      "fees. YOU AGREE THAT YOU HAVE NO REMEDIES FOR NEGLIGENCE, STRICT\n",
      "LIABILITY, BREACH OF WARRANTY OR BREACH OF CONTRACT EXCEPT THOSE\n",
      "PROVIDED IN PARAGRAPH 1.F.3. YOU AGREE THAT THE FOUNDATION, THE\n",
      "TRADEMARK OWNER, AND ANY DISTRIBUTOR UNDER THIS AGREEMENT WILL NOT BE\n",
      "LIABLE TO YOU FOR ACTUAL, DIRECT, INDIRECT, CONSEQUENTIAL, PUNITIVE OR\n",
      "INCIDENTAL DAMAGES EVEN IF YOU GIVE NOTICE OF THE POSSIBILITY OF SUCH\n",
      "DAMAGE.\n",
      "\n",
      "1.F.3. LIMITED RIGHT OF REPLACEMENT OR REFUND - If you discover a\n",
      "defect in this electronic work within 90 days of receiving it, you can\n",
      "receive a refund of the money (if any) you paid for it by sending a\n",
      "written explanation to the person you received the work from. If you\n",
      "received the work on a physical medium, you must return the medium\n",
      "with your written explanation. The person or entity that provided you\n",
      "with the defective work may elect to provide a replacement copy in\n",
      "lieu of a refund. If you received the work electronically, the person\n",
      "or entity providing it to you may choose to give you a second\n",
      "opportunity to receive the work electronically in lieu of a refund. If\n",
      "the second copy is also defective, you may demand a refund in writing\n",
      "without further opportunities to fix the problem.\n",
      "\n",
      "1.F.4. Except for the limited right of replacement or refund set forth\n",
      "in paragraph 1.F.3, this work is provided to you 'AS-IS', WITH NO\n",
      "OTHER WARRANTIES OF ANY KIND, EXPRESS OR IMPLIED, INCLUDING BUT NOT\n",
      "LIMITED TO WARRANTIES OF MERCHANTABILITY OR FITNESS FOR ANY PURPOSE.\n",
      "\n",
      "1.F.5. Some states do not allow disclaimers of certain implied\n",
      "warranties or the exclusion or limitation of certain types of\n",
      "damages. If any disclaimer or limitation set forth in this agreement\n",
      "violates the law of the state applicable to this agreement, the\n",
      "agreement shall be interpreted to make the maximum disclaimer or\n",
      "limitation permitted by the applicable state law. The invalidity or\n",
      "unenforceability of any provision of this agreement shall not void the\n",
      "remaining provisions.\n",
      "\n",
      "1.F.6. INDEMNITY - You agree to indemnify and hold the Foundation, the\n",
      "trademark owner, any agent or employee of the Foundation, anyone\n",
      "providing copies of Project Gutenberg-tm electronic works in\n",
      "accordance with this agreement, and any volunteers associated with the\n",
      "production, promotion and distribution of Project Gutenberg-tm\n",
      "electronic works, harmless from all liability, costs and expenses,\n",
      "including legal fees, that arise directly or indirectly from any of\n",
      "the following which you do or cause to occur: (a) distribution of this\n",
      "or any Project Gutenberg-tm work, (b) alteration, modification, or\n",
      "additions or deletions to any Project Gutenberg-tm work, and (c) any\n",
      "Defect you cause.\n",
      "\n",
      "Section 2. Information about the Mission of Project Gutenberg-tm\n",
      "\n",
      "Project Gutenberg-tm is synonymous with the free distribution of\n",
      "electronic works in formats readable by the widest variety of\n",
      "computers including obsolete, old, middle-aged and new computers. It\n",
      "exists because of the efforts of hundreds of volunteers and donations\n",
      "from people in all walks of life.\n",
      "\n",
      "Volunteers and financial support to provide volunteers with the\n",
      "assistance they need are critical to reaching Project Gutenberg-tm's\n",
      "goals and ensuring that the Project Gutenberg-tm collection will\n",
      "remain freely available for generations to come. In 2001, the Project\n",
      "Gutenberg Literary Archive Foundation was created to provide a secure\n",
      "and permanent future for Project Gutenberg-tm and future\n",
      "generations. To learn more about the Project Gutenberg Literary\n",
      "Archive Foundation and how your efforts and donations can help, see\n",
      "Sections 3 and 4 and the Foundation information page at\n",
      "www.gutenberg.org\n",
      "\n",
      "Section 3. Information about the Project Gutenberg Literary\n",
      "Archive Foundation\n",
      "\n",
      "The Project Gutenberg Literary Archive Foundation is a non-profit\n",
      "501(c)(3) educational corporation organized under the laws of the\n",
      "state of Mississippi and granted tax exempt status by the Internal\n",
      "Revenue Service. The Foundation's EIN or federal tax identification\n",
      "number is 64-6221541. Contributions to the Project Gutenberg Literary\n",
      "Archive Foundation are tax deductible to the full extent permitted by\n",
      "U.S. federal laws and your state's laws.\n",
      "\n",
      "The Foundation's business office is located at 809 North 1500 West,\n",
      "Salt Lake City, UT 84116, (801) 596-1887. Email contact links and up\n",
      "to date contact information can be found at the Foundation's website\n",
      "and official page at www.gutenberg.org/contact\n",
      "\n",
      "Section 4. Information about Donations to the Project Gutenberg\n",
      "Literary Archive Foundation\n",
      "\n",
      "Project Gutenberg-tm depends upon and cannot survive without\n",
      "widespread public support and donations to carry out its mission of\n",
      "increasing the number of public domain and licensed works that can be\n",
      "freely distributed in machine-readable form accessible by the widest\n",
      "array of equipment including outdated equipment. Many small donations\n",
      "($1 to $5,000) are particularly important to maintaining tax exempt\n",
      "status with the IRS.\n",
      "\n",
      "The Foundation is committed to complying with the laws regulating\n",
      "charities and charitable donations in all 50 states of the United\n",
      "States. Compliance requirements are not uniform and it takes a\n",
      "considerable effort, much paperwork and many fees to meet and keep up\n",
      "with these requirements. We do not solicit donations in locations\n",
      "where we have not received written confirmation of compliance. To SEND\n",
      "DONATIONS or determine the status of compliance for any particular\n",
      "state visit www.gutenberg.org/donate\n",
      "\n",
      "While we cannot and do not solicit contributions from states where we\n",
      "have not met the solicitation requirements, we know of no prohibition\n",
      "against accepting unsolicited donations from donors in such states who\n",
      "approach us with offers to donate.\n",
      "\n",
      "International donations are gratefully accepted, but we cannot make\n",
      "any statements concerning tax treatment of donations received from\n",
      "outside the United States. U.S. laws alone swamp our small staff.\n",
      "\n",
      "Please check the Project Gutenberg web pages for current donation\n",
      "methods and addresses. Donations are accepted in a number of other\n",
      "ways including checks, online payments and credit card donations. To\n",
      "donate, please visit: www.gutenberg.org/donate\n",
      "\n",
      "Section 5. General Information About Project Gutenberg-tm electronic works\n",
      "\n",
      "Professor Michael S. Hart was the originator of the Project\n",
      "Gutenberg-tm concept of a library of electronic works that could be\n",
      "freely shared with anyone. For forty years, he produced and\n",
      "distributed Project Gutenberg-tm eBooks with only a loose network of\n",
      "volunteer support.\n",
      "\n",
      "Project Gutenberg-tm eBooks are often created from several printed\n",
      "editions, all of which are confirmed as not protected by copyright in\n",
      "the U.S. unless a copyright notice is included. Thus, we do not\n",
      "necessarily keep eBooks in compliance with any particular paper\n",
      "edition.\n",
      "\n",
      "Most people start at our website which has the main PG search\n",
      "facility: www.gutenberg.org\n",
      "\n",
      "This website includes information about Project Gutenberg-tm,\n",
      "including how to make donations to the Project Gutenberg Literary\n",
      "Archive Foundation, how to help produce our new eBooks, and how to\n",
      "subscribe to our email newsletter to hear about new eBooks.\n",
      "\n",
      "\n"
     ]
    }
   ],
   "source": [
    "!cat The-Yellow-Wallpaper.txt"
   ]
  },
  {
   "cell_type": "markdown",
   "metadata": {},
   "source": [
    "That's often too much text to handle at one time. So you can also look at the first 10 lines of the file with `head`."
   ]
  },
  {
   "cell_type": "code",
   "execution_count": 16,
   "metadata": {
    "tags": [
     "command_line"
    ]
   },
   "outputs": [
    {
     "name": "stdout",
     "output_type": "stream",
     "text": [
      "﻿The Project Gutenberg eBook of The Yellow Wallpaper, by Charlotte Perkins Gilman\n",
      "\n",
      "This eBook is for the use of anyone anywhere in the United States and\n",
      "most other parts of the world at no cost and with almost no restrictions\n",
      "whatsoever. You may copy it, give it away or re-use it under the terms\n",
      "of the Project Gutenberg License included with this eBook or online at\n",
      "www.gutenberg.org. If you are not located in the United States, you\n",
      "will have to check the laws of the country where you are located before\n",
      "using this eBook.\n",
      "\n"
     ]
    }
   ],
   "source": [
    "!head The-Yellow-Wallpaper.txt"
   ]
  },
  {
   "cell_type": "markdown",
   "metadata": {},
   "source": [
    "Or by adding a flag with a number (`-50`), you can look at the first however many lines you want!"
   ]
  },
  {
   "cell_type": "code",
   "execution_count": 19,
   "metadata": {
    "scrolled": true,
    "tags": [
     "command_line",
     "output_scroll",
     "hide_output"
    ]
   },
   "outputs": [
    {
     "name": "stdout",
     "output_type": "stream",
     "text": [
      "﻿The Project Gutenberg eBook of The Yellow Wallpaper, by Charlotte Perkins Gilman\n",
      "\n",
      "This eBook is for the use of anyone anywhere in the United States and\n",
      "most other parts of the world at no cost and with almost no restrictions\n",
      "whatsoever. You may copy it, give it away or re-use it under the terms\n",
      "of the Project Gutenberg License included with this eBook or online at\n",
      "www.gutenberg.org. If you are not located in the United States, you\n",
      "will have to check the laws of the country where you are located before\n",
      "using this eBook.\n",
      "\n",
      "Title: The Yellow Wallpaper\n",
      "\n",
      "Author: Charlotte Perkins Gilman\n",
      "\n",
      "Release Date: November, 1999 [eBook #1952]\n",
      "[Most recently updated: January 4, 2021]\n",
      "\n",
      "Language: English\n",
      "\n",
      "Character set encoding: UTF-8\n",
      "\n",
      "Produced by: An Anonymous Volunteer and David Widger\n",
      "\n",
      "*** START OF THE PROJECT GUTENBERG EBOOK THE YELLOW WALLPAPER ***\n",
      "\n",
      "\n",
      "\n",
      "\n",
      "The Yellow Wallpaper\n",
      "\n",
      "By Charlotte Perkins Gilman\n",
      "\n",
      "\n",
      "It is very seldom that mere ordinary people like John and myself secure\n",
      "ancestral halls for the summer.\n",
      "\n",
      "A colonial mansion, a hereditary estate, I would say a haunted house,\n",
      "and reach the height of romantic felicity—but that would be asking too\n",
      "much of fate!\n",
      "\n",
      "Still I will proudly declare that there is something queer about it.\n",
      "\n",
      "Else, why should it be let so cheaply? And why have stood so long\n",
      "untenanted?\n",
      "\n",
      "John laughs at me, of course, but one expects that in marriage.\n",
      "\n",
      "John is practical in the extreme. He has no patience with faith, an\n",
      "intense horror of superstition, and he scoffs openly at any talk of\n",
      "things not to be felt and seen and put down in figures.\n"
     ]
    }
   ],
   "source": [
    "!head -50 The-Yellow-Wallpaper.txt"
   ]
  },
  {
   "cell_type": "markdown",
   "metadata": {},
   "source": [
    "The same goes for looking at the end of a file with `tail`"
   ]
  },
  {
   "cell_type": "code",
   "execution_count": 20,
   "metadata": {
    "tags": [
     "command_line"
    ]
   },
   "outputs": [
    {
     "name": "stdout",
     "output_type": "stream",
     "text": [
      "\n",
      "Most people start at our website which has the main PG search\n",
      "facility: www.gutenberg.org\n",
      "\n",
      "This website includes information about Project Gutenberg-tm,\n",
      "including how to make donations to the Project Gutenberg Literary\n",
      "Archive Foundation, how to help produce our new eBooks, and how to\n",
      "subscribe to our email newsletter to hear about new eBooks.\n",
      "\n",
      "\n"
     ]
    }
   ],
   "source": [
    "!tail The-Yellow-Wallpaper.txt"
   ]
  },
  {
   "cell_type": "markdown",
   "metadata": {},
   "source": [
    "### Searching inside files"
   ]
  },
  {
   "cell_type": "markdown",
   "metadata": {},
   "source": [
    "| Mac / Chrome / Linux                            | Explanation                                                                                               | Windows PowerShell                                                                   |\n",
    "|--------------------------------------------|-----------------------------------------------------------------------------------------------------------|--------------------------------------------------------------------------------------|\n",
    "| `grep` \"search term\" *filename* or *directory-name*       |      search for lines that include search term in file                                                                                                     | `findstr` \"search term\" *filename*                                                                 |"
   ]
  },
  {
   "cell_type": "markdown",
   "metadata": {},
   "source": [
    "The `grep` command allows you to search for a search term(s) in a file or directory and return each line that contains the term. Combining the `-n` flag with the `grep` command will return the corresponding line number as well."
   ]
  },
  {
   "cell_type": "code",
   "execution_count": 21,
   "metadata": {
    "tags": [
     "command_line"
    ]
   },
   "outputs": [
    {
     "name": "stdout",
     "output_type": "stream",
     "text": [
      "156:yellow, strangely faded by the slow-turning sunlight.\n",
      "579:had found yellow smooches on all my clothes and John’s, and she wished\n",
      "605:There are always new shoots on the fungus, and new shades of yellow all\n",
      "609:It is the strangest yellow, that wallpaper! It makes me think of all\n",
      "610:the yellow things I ever saw—not beautiful ones like buttercups, but\n",
      "611:old foul, bad yellow things.\n",
      "641:is the color of the paper! A yellow smell.\n",
      "832:instead of yellow.\n"
     ]
    }
   ],
   "source": [
    "!grep \"yellow\" -n The-Yellow-Wallpaper.txt"
   ]
  },
  {
   "cell_type": "markdown",
   "metadata": {},
   "source": [
    "Combining the `--color` flag with the `grep` command will highlight the search term(s) in a color."
   ]
  },
  {
   "cell_type": "code",
   "execution_count": 22,
   "metadata": {
    "tags": [
     "command_line"
    ]
   },
   "outputs": [
    {
     "name": "stdout",
     "output_type": "stream",
     "text": [
      "156:\u001b[01;31m\u001b[Kyellow\u001b[m\u001b[K, strangely faded by the slow-turning sunlight.\n",
      "579:had found \u001b[01;31m\u001b[Kyellow\u001b[m\u001b[K smooches on all my clothes and John’s, and she wished\n",
      "605:There are always new shoots on the fungus, and new shades of \u001b[01;31m\u001b[Kyellow\u001b[m\u001b[K all\n",
      "609:It is the strangest \u001b[01;31m\u001b[Kyellow\u001b[m\u001b[K, that wallpaper! It makes me think of all\n",
      "610:the \u001b[01;31m\u001b[Kyellow\u001b[m\u001b[K things I ever saw—not beautiful ones like buttercups, but\n",
      "611:old foul, bad \u001b[01;31m\u001b[Kyellow\u001b[m\u001b[K things.\n",
      "641:is the color of the paper! A \u001b[01;31m\u001b[Kyellow\u001b[m\u001b[K smell.\n",
      "832:instead of \u001b[01;31m\u001b[Kyellow\u001b[m\u001b[K.\n"
     ]
    }
   ],
   "source": [
    "!grep \"yellow\" -n --color The-Yellow-Wallpaper.txt"
   ]
  },
  {
   "cell_type": "markdown",
   "metadata": {},
   "source": [
    "Combining the `-wc` flag with the `grep` command will return the number of lines that contain the search term(s) in a file or directory."
   ]
  },
  {
   "cell_type": "code",
   "execution_count": 23,
   "metadata": {
    "tags": [
     "command_line",
     "hide_output"
    ]
   },
   "outputs": [
    {
     "name": "stdout",
     "output_type": "stream",
     "text": [
      "8\n"
     ]
    }
   ],
   "source": [
    "!grep -wc \"yellow\" The-Yellow-Wallpaper.txt"
   ]
  },
  {
   "cell_type": "code",
   "execution_count": 24,
   "metadata": {
    "tags": [
     "command_line",
     "hide_output"
    ]
   },
   "outputs": [
    {
     "name": "stdout",
     "output_type": "stream",
     "text": [
      "24\n"
     ]
    }
   ],
   "source": [
    "!grep -wc \"paper\" The-Yellow-Wallpaper.txt"
   ]
  },
  {
   "cell_type": "markdown",
   "metadata": {},
   "source": [
    "Combining the `-B` and `-A` flags with `grep` will return a specified number of lines before (`-B`) or after (`-A`) the line that contains the search term(s). This can be a way to get more context for a search term."
   ]
  },
  {
   "cell_type": "code",
   "execution_count": 25,
   "metadata": {
    "scrolled": true,
    "tags": [
     "command_line",
     "output_scroll"
    ]
   },
   "outputs": [
    {
     "name": "stdout",
     "output_type": "stream",
     "text": [
      "195-\n",
      "196-I suppose John never was nervous in his life. He laughs at me so about\n",
      "197:this \u001b[01;31m\u001b[Kwallpaper\u001b[m\u001b[K!\n",
      "198-\n",
      "199-At first he meant to repaper the room, but afterwards he said that I\n",
      "--\n",
      "--\n",
      "201-nervous patient than to give way to such fancies.\n",
      "202-\n",
      "203:He said that after the \u001b[01;31m\u001b[Kwallpaper\u001b[m\u001b[K was changed it would be the heavy\n",
      "204-bedstead, and then the barred windows, and then that gate at the head\n",
      "205-of the stairs, and so on.\n",
      "--\n",
      "--\n",
      "277-never saw such ravages as the children have made here.\n",
      "278-\n",
      "279:The \u001b[01;31m\u001b[Kwallpaper\u001b[m\u001b[K, as I said before, is torn off in spots, and it sticketh\n",
      "280-closer than a brother—they must have had perseverance as well as\n",
      "281-hatred.\n",
      "--\n",
      "--\n",
      "301-full of great elms and velvet meadows.\n",
      "302-\n",
      "303:This \u001b[01;31m\u001b[Kwallpaper\u001b[m\u001b[K has a kind of sub-pattern in a different shade, a\n",
      "304-particularly irritating one, for you can only see it in certain lights,\n",
      "305-and not clearly then.\n",
      "--\n",
      "--\n",
      "342-porch under the roses, and lie down up here a good deal.\n",
      "343-\n",
      "344:I’m getting really fond of the room in spite of the \u001b[01;31m\u001b[Kwallpaper\u001b[m\u001b[K. Perhaps\n",
      "345:because of the \u001b[01;31m\u001b[Kwallpaper\u001b[m\u001b[K.\n",
      "346-\n",
      "347-It dwells in my mind so!\n",
      "--\n",
      "--\n",
      "423-\n",
      "424-There’s one comfort, the baby is well and happy, and does not have to\n",
      "425:occupy this nursery with the horrid \u001b[01;31m\u001b[Kwallpaper\u001b[m\u001b[K.\n",
      "426-\n",
      "427-If we had not used it that blessed child would have! What a fortunate\n",
      "--\n",
      "--\n",
      "456-\n",
      "457-John was asleep and I hated to waken him, so I kept still and watched\n",
      "458:the moonlight on that undulating \u001b[01;31m\u001b[Kwallpaper\u001b[m\u001b[K till I felt creepy.\n",
      "459-\n",
      "460-The faint figure behind seemed to shake the pattern, just as if she\n",
      "--\n",
      "--\n",
      "588-\n",
      "589-John is so pleased to see me improve! He laughed a little the other\n",
      "590:day, and said I seemed to be flourishing in spite of my \u001b[01;31m\u001b[Kwallpaper\u001b[m\u001b[K.\n",
      "591-\n",
      "592-I turned it off with a laugh. I had no intention of telling him it was\n",
      "--\n",
      "--\n",
      "591-\n",
      "592-I turned it off with a laugh. I had no intention of telling him it was\n",
      "593:because of the \u001b[01;31m\u001b[Kwallpaper\u001b[m\u001b[K—he would make fun of me. He might even want to\n",
      "594-take me away.\n",
      "595-\n",
      "--\n",
      "--\n",
      "607-conscientiously.\n",
      "608-\n",
      "609:It is the strangest yellow, that \u001b[01;31m\u001b[Kwallpaper\u001b[m\u001b[K! It makes me think of all\n",
      "610-the yellow things I ever saw—not beautiful ones like buttercups, but\n",
      "611-old foul, bad yellow things.\n",
      "--\n",
      "--\n",
      "816-creeping women, and they creep so fast.\n",
      "817-\n",
      "818:I wonder if they all come out of that \u001b[01;31m\u001b[Kwallpaper\u001b[m\u001b[K as I did?\n",
      "819-\n",
      "820-But I am securely fastened now by my well-hidden rope—you don’t get me\n"
     ]
    }
   ],
   "source": [
    "!grep \"wallpaper\" -B 2 -A 2 -n --color The-Yellow-Wallpaper.txt"
   ]
  }
 ],
 "metadata": {
  "kernelspec": {
   "display_name": "Python 3",
   "language": "python",
   "name": "python3"
  },
  "language_info": {
   "codemirror_mode": {
    "name": "ipython",
    "version": 3
   },
   "file_extension": ".py",
   "mimetype": "text/x-python",
   "name": "python",
   "nbconvert_exporter": "python",
   "pygments_lexer": "ipython3",
   "version": "3.8.8"
  }
 },
 "nbformat": 4,
 "nbformat_minor": 4
}
