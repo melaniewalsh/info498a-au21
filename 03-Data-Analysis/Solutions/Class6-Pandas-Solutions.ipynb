{
 "cells": [
  {
   "cell_type": "markdown",
   "metadata": {},
   "source": [
    "# Class 6 Exercises"
   ]
  },
  {
   "cell_type": "markdown",
   "metadata": {},
   "source": [
    "___"
   ]
  },
  {
   "cell_type": "markdown",
   "metadata": {},
   "source": [
    "## Dataset\n",
    "### *The Pudding*'s Film Dialogue Data"
   ]
  },
  {
   "cell_type": "markdown",
   "metadata": {},
   "source": [
    "The dataset that we're working with in this lesson is taken from Hannah Andersen and Matt Daniels's *Pudding* essay, [\"Film Dialogue from 2,000 screenplays, Broken Down by Gender and Age\"](https://pudding.cool/2017/03/film-dialogue/). The dataset provides information about 2,000 films from 1925 to 2015, including characters’ names, genders, ages, how many words each character spoke in each film, the release year of each film, and how much money the film grossed. They included character gender information because they wanted to contribute data to a broader conversation about how \"white men dominate movie roles.\""
   ]
  },
  {
   "cell_type": "markdown",
   "metadata": {},
   "source": [
    "___"
   ]
  },
  {
   "cell_type": "markdown",
   "metadata": {},
   "source": [
    "## Import Pandas"
   ]
  },
  {
   "cell_type": "markdown",
   "metadata": {},
   "source": [
    "To use the Pandas library, we first need to `import` it."
   ]
  },
  {
   "cell_type": "code",
   "execution_count": 1,
   "metadata": {},
   "outputs": [],
   "source": [
    "import pandas as pd"
   ]
  },
  {
   "cell_type": "markdown",
   "metadata": {},
   "source": [
    "## Change Display Settings"
   ]
  },
  {
   "cell_type": "markdown",
   "metadata": {},
   "source": [
    "By default, Pandas will display 60 rows and 20 columns. I often change [Pandas' default display settings](https://pandas.pydata.org/pandas-docs/stable/user_guide/options.html) to show more rows or columns."
   ]
  },
  {
   "cell_type": "code",
   "execution_count": 2,
   "metadata": {},
   "outputs": [],
   "source": [
    "pd.options.display.max_rows = 200"
   ]
  },
  {
   "cell_type": "markdown",
   "metadata": {},
   "source": [
    "## Get Data"
   ]
  },
  {
   "cell_type": "code",
   "execution_count": 8,
   "metadata": {},
   "outputs": [],
   "source": [
    "film_df = pd.read_csv('../Exercises/Class6-Exercises/Pudding-Film-Dialogue-Clean.csv', delimiter=\",\", encoding='utf-8')"
   ]
  },
  {
   "cell_type": "markdown",
   "metadata": {},
   "source": [
    "This creates a Pandas [DataFrame object](https://pandas.pydata.org/pandas-docs/stable/user_guide/dsintro.html#DataFrame) — often abbreviated as *df*, e.g., *slave_voyages_df*. A DataFrame looks and acts a lot like a spreadsheet. But it has special powers and functions that we will discuss in the next few lessons."
   ]
  },
  {
   "cell_type": "markdown",
   "metadata": {},
   "source": [
    "## Overview\n",
    "\n",
    "To look at a random *n* number of rows in a DataFrame, we can use a method called `.sample()`."
   ]
  },
  {
   "cell_type": "code",
   "execution_count": 9,
   "metadata": {},
   "outputs": [
    {
     "data": {
      "text/html": [
       "<div>\n",
       "<style scoped>\n",
       "    .dataframe tbody tr th:only-of-type {\n",
       "        vertical-align: middle;\n",
       "    }\n",
       "\n",
       "    .dataframe tbody tr th {\n",
       "        vertical-align: top;\n",
       "    }\n",
       "\n",
       "    .dataframe thead th {\n",
       "        text-align: right;\n",
       "    }\n",
       "</style>\n",
       "<table border=\"1\" class=\"dataframe\">\n",
       "  <thead>\n",
       "    <tr style=\"text-align: right;\">\n",
       "      <th></th>\n",
       "      <th>title</th>\n",
       "      <th>release_year</th>\n",
       "      <th>character</th>\n",
       "      <th>gender</th>\n",
       "      <th>words</th>\n",
       "      <th>proportion_of_dialogue</th>\n",
       "      <th>age</th>\n",
       "      <th>gross</th>\n",
       "      <th>script_id</th>\n",
       "    </tr>\n",
       "  </thead>\n",
       "  <tbody>\n",
       "    <tr>\n",
       "      <th>19373</th>\n",
       "      <td>Trading Places</td>\n",
       "      <td>1983</td>\n",
       "      <td>Mortimer Duke</td>\n",
       "      <td>man</td>\n",
       "      <td>712</td>\n",
       "      <td>0.078857</td>\n",
       "      <td>75.0</td>\n",
       "      <td>249.0</td>\n",
       "      <td>7423</td>\n",
       "    </tr>\n",
       "    <tr>\n",
       "      <th>2846</th>\n",
       "      <td>Silver Bullet</td>\n",
       "      <td>1985</td>\n",
       "      <td>Marty Coslaw</td>\n",
       "      <td>man</td>\n",
       "      <td>872</td>\n",
       "      <td>0.210934</td>\n",
       "      <td>14.0</td>\n",
       "      <td>NaN</td>\n",
       "      <td>1329</td>\n",
       "    </tr>\n",
       "    <tr>\n",
       "      <th>15324</th>\n",
       "      <td>Titanic</td>\n",
       "      <td>1997</td>\n",
       "      <td>Lewis Bodine</td>\n",
       "      <td>man</td>\n",
       "      <td>649</td>\n",
       "      <td>0.051887</td>\n",
       "      <td>NaN</td>\n",
       "      <td>1249.0</td>\n",
       "      <td>5136</td>\n",
       "    </tr>\n",
       "    <tr>\n",
       "      <th>16298</th>\n",
       "      <td>St. Vincent</td>\n",
       "      <td>2014</td>\n",
       "      <td>Charisse</td>\n",
       "      <td>woman</td>\n",
       "      <td>563</td>\n",
       "      <td>0.074118</td>\n",
       "      <td>NaN</td>\n",
       "      <td>46.0</td>\n",
       "      <td>5472</td>\n",
       "    </tr>\n",
       "    <tr>\n",
       "      <th>9071</th>\n",
       "      <td>Mrs Brown</td>\n",
       "      <td>1997</td>\n",
       "      <td>Doctor Jenner</td>\n",
       "      <td>man</td>\n",
       "      <td>398</td>\n",
       "      <td>0.025267</td>\n",
       "      <td>71.0</td>\n",
       "      <td>17.0</td>\n",
       "      <td>2957</td>\n",
       "    </tr>\n",
       "    <tr>\n",
       "      <th>1672</th>\n",
       "      <td>Raiders of the Lost Ark</td>\n",
       "      <td>1981</td>\n",
       "      <td>Dr. Ren� Belloq</td>\n",
       "      <td>man</td>\n",
       "      <td>630</td>\n",
       "      <td>0.143410</td>\n",
       "      <td>38.0</td>\n",
       "      <td>9.0</td>\n",
       "      <td>1034</td>\n",
       "    </tr>\n",
       "    <tr>\n",
       "      <th>18408</th>\n",
       "      <td>W.</td>\n",
       "      <td>2008</td>\n",
       "      <td>Don Evans</td>\n",
       "      <td>man</td>\n",
       "      <td>229</td>\n",
       "      <td>0.028852</td>\n",
       "      <td>37.0</td>\n",
       "      <td>30.0</td>\n",
       "      <td>6922</td>\n",
       "    </tr>\n",
       "    <tr>\n",
       "      <th>1338</th>\n",
       "      <td>Gremlins</td>\n",
       "      <td>1984</td>\n",
       "      <td>Pete Fountaine</td>\n",
       "      <td>man</td>\n",
       "      <td>334</td>\n",
       "      <td>0.050922</td>\n",
       "      <td>13.0</td>\n",
       "      <td>383.0</td>\n",
       "      <td>971</td>\n",
       "    </tr>\n",
       "    <tr>\n",
       "      <th>11616</th>\n",
       "      <td>Win Win</td>\n",
       "      <td>2011</td>\n",
       "      <td>Cindy</td>\n",
       "      <td>woman</td>\n",
       "      <td>760</td>\n",
       "      <td>0.057337</td>\n",
       "      <td>34.0</td>\n",
       "      <td>11.0</td>\n",
       "      <td>3726</td>\n",
       "    </tr>\n",
       "    <tr>\n",
       "      <th>12875</th>\n",
       "      <td>Jason Goes to Hell: The Final Friday</td>\n",
       "      <td>1993</td>\n",
       "      <td>Joey B.</td>\n",
       "      <td>woman</td>\n",
       "      <td>107</td>\n",
       "      <td>0.040809</td>\n",
       "      <td>31.0</td>\n",
       "      <td>33.0</td>\n",
       "      <td>4238</td>\n",
       "    </tr>\n",
       "  </tbody>\n",
       "</table>\n",
       "</div>"
      ],
      "text/plain": [
       "                                      title  release_year        character  \\\n",
       "19373                        Trading Places          1983    Mortimer Duke   \n",
       "2846                          Silver Bullet          1985     Marty Coslaw   \n",
       "15324                               Titanic          1997     Lewis Bodine   \n",
       "16298                           St. Vincent          2014         Charisse   \n",
       "9071                              Mrs Brown          1997    Doctor Jenner   \n",
       "1672                Raiders of the Lost Ark          1981  Dr. Ren� Belloq   \n",
       "18408                                    W.          2008        Don Evans   \n",
       "1338                               Gremlins          1984   Pete Fountaine   \n",
       "11616                               Win Win          2011            Cindy   \n",
       "12875  Jason Goes to Hell: The Final Friday          1993          Joey B.   \n",
       "\n",
       "      gender  words  proportion_of_dialogue   age   gross  script_id  \n",
       "19373    man    712                0.078857  75.0   249.0       7423  \n",
       "2846     man    872                0.210934  14.0     NaN       1329  \n",
       "15324    man    649                0.051887   NaN  1249.0       5136  \n",
       "16298  woman    563                0.074118   NaN    46.0       5472  \n",
       "9071     man    398                0.025267  71.0    17.0       2957  \n",
       "1672     man    630                0.143410  38.0     9.0       1034  \n",
       "18408    man    229                0.028852  37.0    30.0       6922  \n",
       "1338     man    334                0.050922  13.0   383.0        971  \n",
       "11616  woman    760                0.057337  34.0    11.0       3726  \n",
       "12875  woman    107                0.040809  31.0    33.0       4238  "
      ]
     },
     "execution_count": 9,
     "metadata": {},
     "output_type": "execute_result"
    }
   ],
   "source": [
    "film_df.sample(10)"
   ]
  },
  {
   "cell_type": "markdown",
   "metadata": {},
   "source": [
    "## Pandas Methods"
   ]
  },
  {
   "cell_type": "markdown",
   "metadata": {},
   "source": [
    "| Pandas method | Explanation                         |\n",
    "|----------|-------------------------------------|\n",
    "| `.sum()`      | Sum of values                       |\n",
    "| `.mean()`     | Mean of values                      |\n",
    "| `.median()`   | Median of values         |\n",
    "| `.min()`      | Minimum                             |\n",
    "| `.max()`      | Maximum                             |\n",
    "| `.mode()`     | Mode                                |\n",
    "| `.std()`      | Unbiased standard deviation         |\n",
    "| `.count()`    | Total number of non-blank values    |\n",
    "| `.value_counts()` | Frequency of unique values |"
   ]
  },
  {
   "cell_type": "markdown",
   "metadata": {},
   "source": [
    "### ❓  How old (on average) are the characters in this dataset?"
   ]
  },
  {
   "cell_type": "code",
   "execution_count": 10,
   "metadata": {},
   "outputs": [
    {
     "data": {
      "text/plain": [
       "42.2750520205892"
      ]
     },
     "execution_count": 10,
     "metadata": {},
     "output_type": "execute_result"
    }
   ],
   "source": [
    "film_df['age'].mean()"
   ]
  },
  {
   "cell_type": "markdown",
   "metadata": {},
   "source": [
    "### ❓  How old is the oldest character in the dataset?"
   ]
  },
  {
   "cell_type": "code",
   "execution_count": 11,
   "metadata": {},
   "outputs": [
    {
     "data": {
      "text/plain": [
       "2009.0"
      ]
     },
     "execution_count": 11,
     "metadata": {},
     "output_type": "execute_result"
    }
   ],
   "source": [
    "film_df['age'].max()"
   ]
  },
  {
   "cell_type": "markdown",
   "metadata": {},
   "source": [
    "### ❓  How young was the youngest person?"
   ]
  },
  {
   "cell_type": "code",
   "execution_count": 12,
   "metadata": {},
   "outputs": [
    {
     "data": {
      "text/plain": [
       "3.0"
      ]
     },
     "execution_count": 12,
     "metadata": {},
     "output_type": "execute_result"
    }
   ],
   "source": [
    "film_df['age'].min()"
   ]
  },
  {
   "cell_type": "markdown",
   "metadata": {},
   "source": [
    "### ❓  How many men vs. women characters are in the dataset?"
   ]
  },
  {
   "cell_type": "code",
   "execution_count": 17,
   "metadata": {},
   "outputs": [
    {
     "data": {
      "text/plain": [
       "man      16131\n",
       "woman     6911\n",
       "?            5\n",
       "Name: gender, dtype: int64"
      ]
     },
     "execution_count": 17,
     "metadata": {},
     "output_type": "execute_result"
    }
   ],
   "source": [
    "film_df['gender'].value_counts()"
   ]
  },
  {
   "cell_type": "markdown",
   "metadata": {},
   "source": [
    "## Examine Subsets"
   ]
  },
  {
   "cell_type": "markdown",
   "metadata": {},
   "source": [
    "### ❓  Who are all the characters from Monsters, Inc.?"
   ]
  },
  {
   "cell_type": "markdown",
   "metadata": {},
   "source": [
    "![](https://imgr.search.brave.com/Sc0_L9RRhHrC2B_0i2XRMWpuhGCN8yKvb0hiqnexAAk/fit/877/225/ce/1/aHR0cHM6Ly90c2U0/Lm1tLmJpbmcubmV0/L3RoP2lkPU9JUC5G/MVlGNmRvZzFvNHhi/NFdVNzJYbGhBSGFF/QSZwaWQ9QXBp)\n",
    "\n",
    "[Roz from Monsters, Inc.](https://disney.fandom.com/wiki/Roz)\n"
   ]
  },
  {
   "cell_type": "markdown",
   "metadata": {},
   "source": [
    "Write a conditional statement that will filter the DataFrame to only show rows that have the title \"Monsters, Inc.\""
   ]
  },
  {
   "cell_type": "code",
   "execution_count": 15,
   "metadata": {},
   "outputs": [],
   "source": [
    "title_filter = film_df['title'] == 'Monsters, Inc.'"
   ]
  },
  {
   "cell_type": "code",
   "execution_count": 16,
   "metadata": {},
   "outputs": [
    {
     "data": {
      "text/html": [
       "<div>\n",
       "<style scoped>\n",
       "    .dataframe tbody tr th:only-of-type {\n",
       "        vertical-align: middle;\n",
       "    }\n",
       "\n",
       "    .dataframe tbody tr th {\n",
       "        vertical-align: top;\n",
       "    }\n",
       "\n",
       "    .dataframe thead th {\n",
       "        text-align: right;\n",
       "    }\n",
       "</style>\n",
       "<table border=\"1\" class=\"dataframe\">\n",
       "  <thead>\n",
       "    <tr style=\"text-align: right;\">\n",
       "      <th></th>\n",
       "      <th>title</th>\n",
       "      <th>release_year</th>\n",
       "      <th>character</th>\n",
       "      <th>gender</th>\n",
       "      <th>words</th>\n",
       "      <th>proportion_of_dialogue</th>\n",
       "      <th>age</th>\n",
       "      <th>gross</th>\n",
       "      <th>script_id</th>\n",
       "    </tr>\n",
       "  </thead>\n",
       "  <tbody>\n",
       "    <tr>\n",
       "      <th>20730</th>\n",
       "      <td>Monsters, Inc.</td>\n",
       "      <td>2001</td>\n",
       "      <td>Celia</td>\n",
       "      <td>woman</td>\n",
       "      <td>399</td>\n",
       "      <td>0.037702</td>\n",
       "      <td>43.0</td>\n",
       "      <td>445.0</td>\n",
       "      <td>7991</td>\n",
       "    </tr>\n",
       "    <tr>\n",
       "      <th>20731</th>\n",
       "      <td>Monsters, Inc.</td>\n",
       "      <td>2001</td>\n",
       "      <td>Charlie</td>\n",
       "      <td>man</td>\n",
       "      <td>128</td>\n",
       "      <td>0.012095</td>\n",
       "      <td>61.0</td>\n",
       "      <td>445.0</td>\n",
       "      <td>7991</td>\n",
       "    </tr>\n",
       "    <tr>\n",
       "      <th>20732</th>\n",
       "      <td>Monsters, Inc.</td>\n",
       "      <td>2001</td>\n",
       "      <td>Floor Manager</td>\n",
       "      <td>man</td>\n",
       "      <td>130</td>\n",
       "      <td>0.012284</td>\n",
       "      <td>59.0</td>\n",
       "      <td>445.0</td>\n",
       "      <td>7991</td>\n",
       "    </tr>\n",
       "    <tr>\n",
       "      <th>20733</th>\n",
       "      <td>Monsters, Inc.</td>\n",
       "      <td>2001</td>\n",
       "      <td>Fungus</td>\n",
       "      <td>man</td>\n",
       "      <td>220</td>\n",
       "      <td>0.020788</td>\n",
       "      <td>57.0</td>\n",
       "      <td>445.0</td>\n",
       "      <td>7991</td>\n",
       "    </tr>\n",
       "    <tr>\n",
       "      <th>20734</th>\n",
       "      <td>Monsters, Inc.</td>\n",
       "      <td>2001</td>\n",
       "      <td>George Sanderso</td>\n",
       "      <td>man</td>\n",
       "      <td>148</td>\n",
       "      <td>0.013985</td>\n",
       "      <td>39.0</td>\n",
       "      <td>445.0</td>\n",
       "      <td>7991</td>\n",
       "    </tr>\n",
       "    <tr>\n",
       "      <th>20735</th>\n",
       "      <td>Monsters, Inc.</td>\n",
       "      <td>2001</td>\n",
       "      <td>Henry J. Watern</td>\n",
       "      <td>man</td>\n",
       "      <td>1192</td>\n",
       "      <td>0.112633</td>\n",
       "      <td>73.0</td>\n",
       "      <td>445.0</td>\n",
       "      <td>7991</td>\n",
       "    </tr>\n",
       "    <tr>\n",
       "      <th>20736</th>\n",
       "      <td>Monsters, Inc.</td>\n",
       "      <td>2001</td>\n",
       "      <td>James P. \"Sulle</td>\n",
       "      <td>man</td>\n",
       "      <td>2625</td>\n",
       "      <td>0.248039</td>\n",
       "      <td>49.0</td>\n",
       "      <td>445.0</td>\n",
       "      <td>7991</td>\n",
       "    </tr>\n",
       "    <tr>\n",
       "      <th>20737</th>\n",
       "      <td>Monsters, Inc.</td>\n",
       "      <td>2001</td>\n",
       "      <td>Mike Wazowski</td>\n",
       "      <td>man</td>\n",
       "      <td>4653</td>\n",
       "      <td>0.439667</td>\n",
       "      <td>53.0</td>\n",
       "      <td>445.0</td>\n",
       "      <td>7991</td>\n",
       "    </tr>\n",
       "    <tr>\n",
       "      <th>20738</th>\n",
       "      <td>Monsters, Inc.</td>\n",
       "      <td>2001</td>\n",
       "      <td>Needleman</td>\n",
       "      <td>man</td>\n",
       "      <td>128</td>\n",
       "      <td>0.012095</td>\n",
       "      <td>35.0</td>\n",
       "      <td>445.0</td>\n",
       "      <td>7991</td>\n",
       "    </tr>\n",
       "    <tr>\n",
       "      <th>20739</th>\n",
       "      <td>Monsters, Inc.</td>\n",
       "      <td>2001</td>\n",
       "      <td>Randall Boggs</td>\n",
       "      <td>man</td>\n",
       "      <td>734</td>\n",
       "      <td>0.069357</td>\n",
       "      <td>44.0</td>\n",
       "      <td>445.0</td>\n",
       "      <td>7991</td>\n",
       "    </tr>\n",
       "    <tr>\n",
       "      <th>20740</th>\n",
       "      <td>Monsters, Inc.</td>\n",
       "      <td>2001</td>\n",
       "      <td>Roz</td>\n",
       "      <td>man</td>\n",
       "      <td>226</td>\n",
       "      <td>0.021355</td>\n",
       "      <td>40.0</td>\n",
       "      <td>445.0</td>\n",
       "      <td>7991</td>\n",
       "    </tr>\n",
       "  </tbody>\n",
       "</table>\n",
       "</div>"
      ],
      "text/plain": [
       "                title  release_year        character gender  words  \\\n",
       "20730  Monsters, Inc.          2001            Celia  woman    399   \n",
       "20731  Monsters, Inc.          2001          Charlie    man    128   \n",
       "20732  Monsters, Inc.          2001    Floor Manager    man    130   \n",
       "20733  Monsters, Inc.          2001           Fungus    man    220   \n",
       "20734  Monsters, Inc.          2001  George Sanderso    man    148   \n",
       "20735  Monsters, Inc.          2001  Henry J. Watern    man   1192   \n",
       "20736  Monsters, Inc.          2001  James P. \"Sulle    man   2625   \n",
       "20737  Monsters, Inc.          2001    Mike Wazowski    man   4653   \n",
       "20738  Monsters, Inc.          2001        Needleman    man    128   \n",
       "20739  Monsters, Inc.          2001    Randall Boggs    man    734   \n",
       "20740  Monsters, Inc.          2001              Roz    man    226   \n",
       "\n",
       "       proportion_of_dialogue   age  gross  script_id  \n",
       "20730                0.037702  43.0  445.0       7991  \n",
       "20731                0.012095  61.0  445.0       7991  \n",
       "20732                0.012284  59.0  445.0       7991  \n",
       "20733                0.020788  57.0  445.0       7991  \n",
       "20734                0.013985  39.0  445.0       7991  \n",
       "20735                0.112633  73.0  445.0       7991  \n",
       "20736                0.248039  49.0  445.0       7991  \n",
       "20737                0.439667  53.0  445.0       7991  \n",
       "20738                0.012095  35.0  445.0       7991  \n",
       "20739                0.069357  44.0  445.0       7991  \n",
       "20740                0.021355  40.0  445.0       7991  "
      ]
     },
     "execution_count": 16,
     "metadata": {},
     "output_type": "execute_result"
    }
   ],
   "source": [
    "film_df[title_filter]"
   ]
  },
  {
   "cell_type": "markdown",
   "metadata": {},
   "source": [
    "### ❓  What potential issues do you notice when you look closer at this data? (Hint: Look at Roz)"
   ]
  },
  {
   "cell_type": "markdown",
   "metadata": {},
   "source": [
    "What do you think about The Pudding's approach to assigning gender in this dataset? What alternatives could we potentially use, if any?"
   ]
  },
  {
   "cell_type": "markdown",
   "metadata": {},
   "source": [
    "Write a conditional statement that will filter the DataFrame to only show rows that have the title \"Mulan\""
   ]
  },
  {
   "cell_type": "code",
   "execution_count": 32,
   "metadata": {},
   "outputs": [],
   "source": [
    "title_filter = film_df['title'] == \"Mulan\""
   ]
  },
  {
   "cell_type": "code",
   "execution_count": 33,
   "metadata": {},
   "outputs": [
    {
     "data": {
      "text/html": [
       "<div>\n",
       "<style scoped>\n",
       "    .dataframe tbody tr th:only-of-type {\n",
       "        vertical-align: middle;\n",
       "    }\n",
       "\n",
       "    .dataframe tbody tr th {\n",
       "        vertical-align: top;\n",
       "    }\n",
       "\n",
       "    .dataframe thead th {\n",
       "        text-align: right;\n",
       "    }\n",
       "</style>\n",
       "<table border=\"1\" class=\"dataframe\">\n",
       "  <thead>\n",
       "    <tr style=\"text-align: right;\">\n",
       "      <th></th>\n",
       "      <th>title</th>\n",
       "      <th>release_year</th>\n",
       "      <th>character</th>\n",
       "      <th>gender</th>\n",
       "      <th>words</th>\n",
       "      <th>proportion_of_dialogue</th>\n",
       "      <th>age</th>\n",
       "      <th>gross</th>\n",
       "      <th>script_id</th>\n",
       "    </tr>\n",
       "  </thead>\n",
       "  <tbody>\n",
       "    <tr>\n",
       "      <th>9093</th>\n",
       "      <td>Mulan</td>\n",
       "      <td>1998</td>\n",
       "      <td>Chi Fu</td>\n",
       "      <td>man</td>\n",
       "      <td>932</td>\n",
       "      <td>0.064650</td>\n",
       "      <td>69.0</td>\n",
       "      <td>224.0</td>\n",
       "      <td>2961</td>\n",
       "    </tr>\n",
       "    <tr>\n",
       "      <th>9094</th>\n",
       "      <td>Mulan</td>\n",
       "      <td>1998</td>\n",
       "      <td>Chien-Po</td>\n",
       "      <td>man</td>\n",
       "      <td>168</td>\n",
       "      <td>0.011654</td>\n",
       "      <td>48.0</td>\n",
       "      <td>224.0</td>\n",
       "      <td>2961</td>\n",
       "    </tr>\n",
       "    <tr>\n",
       "      <th>9095</th>\n",
       "      <td>Mulan</td>\n",
       "      <td>1998</td>\n",
       "      <td>Fa Li</td>\n",
       "      <td>woman</td>\n",
       "      <td>156</td>\n",
       "      <td>0.010821</td>\n",
       "      <td>NaN</td>\n",
       "      <td>224.0</td>\n",
       "      <td>2961</td>\n",
       "    </tr>\n",
       "    <tr>\n",
       "      <th>9096</th>\n",
       "      <td>Mulan</td>\n",
       "      <td>1998</td>\n",
       "      <td>Fa Zhou</td>\n",
       "      <td>man</td>\n",
       "      <td>542</td>\n",
       "      <td>0.037597</td>\n",
       "      <td>55.0</td>\n",
       "      <td>224.0</td>\n",
       "      <td>2961</td>\n",
       "    </tr>\n",
       "    <tr>\n",
       "      <th>9097</th>\n",
       "      <td>Mulan</td>\n",
       "      <td>1998</td>\n",
       "      <td>First Ancestor</td>\n",
       "      <td>man</td>\n",
       "      <td>238</td>\n",
       "      <td>0.016509</td>\n",
       "      <td>61.0</td>\n",
       "      <td>224.0</td>\n",
       "      <td>2961</td>\n",
       "    </tr>\n",
       "    <tr>\n",
       "      <th>9098</th>\n",
       "      <td>Mulan</td>\n",
       "      <td>1998</td>\n",
       "      <td>General Li</td>\n",
       "      <td>man</td>\n",
       "      <td>316</td>\n",
       "      <td>0.021920</td>\n",
       "      <td>69.0</td>\n",
       "      <td>224.0</td>\n",
       "      <td>2961</td>\n",
       "    </tr>\n",
       "    <tr>\n",
       "      <th>9099</th>\n",
       "      <td>Mulan</td>\n",
       "      <td>1998</td>\n",
       "      <td>Ling</td>\n",
       "      <td>man</td>\n",
       "      <td>448</td>\n",
       "      <td>0.031077</td>\n",
       "      <td>43.0</td>\n",
       "      <td>224.0</td>\n",
       "      <td>2961</td>\n",
       "    </tr>\n",
       "    <tr>\n",
       "      <th>9100</th>\n",
       "      <td>Mulan</td>\n",
       "      <td>1998</td>\n",
       "      <td>Mulan</td>\n",
       "      <td>woman</td>\n",
       "      <td>3028</td>\n",
       "      <td>0.210044</td>\n",
       "      <td>35.0</td>\n",
       "      <td>224.0</td>\n",
       "      <td>2961</td>\n",
       "    </tr>\n",
       "    <tr>\n",
       "      <th>9101</th>\n",
       "      <td>Mulan</td>\n",
       "      <td>1998</td>\n",
       "      <td>Mushu</td>\n",
       "      <td>man</td>\n",
       "      <td>4594</td>\n",
       "      <td>0.318674</td>\n",
       "      <td>37.0</td>\n",
       "      <td>224.0</td>\n",
       "      <td>2961</td>\n",
       "    </tr>\n",
       "    <tr>\n",
       "      <th>9102</th>\n",
       "      <td>Mulan</td>\n",
       "      <td>1998</td>\n",
       "      <td>Shan-Yu</td>\n",
       "      <td>man</td>\n",
       "      <td>570</td>\n",
       "      <td>0.039539</td>\n",
       "      <td>43.0</td>\n",
       "      <td>224.0</td>\n",
       "      <td>2961</td>\n",
       "    </tr>\n",
       "    <tr>\n",
       "      <th>9103</th>\n",
       "      <td>Mulan</td>\n",
       "      <td>1998</td>\n",
       "      <td>Shang</td>\n",
       "      <td>man</td>\n",
       "      <td>1800</td>\n",
       "      <td>0.124861</td>\n",
       "      <td>38.0</td>\n",
       "      <td>224.0</td>\n",
       "      <td>2961</td>\n",
       "    </tr>\n",
       "    <tr>\n",
       "      <th>9104</th>\n",
       "      <td>Mulan</td>\n",
       "      <td>1998</td>\n",
       "      <td>The Emperor</td>\n",
       "      <td>man</td>\n",
       "      <td>512</td>\n",
       "      <td>0.035516</td>\n",
       "      <td>66.0</td>\n",
       "      <td>224.0</td>\n",
       "      <td>2961</td>\n",
       "    </tr>\n",
       "    <tr>\n",
       "      <th>9105</th>\n",
       "      <td>Mulan</td>\n",
       "      <td>1998</td>\n",
       "      <td>The Matchmaker</td>\n",
       "      <td>woman</td>\n",
       "      <td>376</td>\n",
       "      <td>0.026082</td>\n",
       "      <td>57.0</td>\n",
       "      <td>224.0</td>\n",
       "      <td>2961</td>\n",
       "    </tr>\n",
       "    <tr>\n",
       "      <th>9106</th>\n",
       "      <td>Mulan</td>\n",
       "      <td>1998</td>\n",
       "      <td>Yao</td>\n",
       "      <td>man</td>\n",
       "      <td>736</td>\n",
       "      <td>0.051054</td>\n",
       "      <td>44.0</td>\n",
       "      <td>224.0</td>\n",
       "      <td>2961</td>\n",
       "    </tr>\n",
       "  </tbody>\n",
       "</table>\n",
       "</div>"
      ],
      "text/plain": [
       "      title  release_year       character gender  words  \\\n",
       "9093  Mulan          1998          Chi Fu    man    932   \n",
       "9094  Mulan          1998        Chien-Po    man    168   \n",
       "9095  Mulan          1998           Fa Li  woman    156   \n",
       "9096  Mulan          1998         Fa Zhou    man    542   \n",
       "9097  Mulan          1998  First Ancestor    man    238   \n",
       "9098  Mulan          1998      General Li    man    316   \n",
       "9099  Mulan          1998            Ling    man    448   \n",
       "9100  Mulan          1998           Mulan  woman   3028   \n",
       "9101  Mulan          1998           Mushu    man   4594   \n",
       "9102  Mulan          1998         Shan-Yu    man    570   \n",
       "9103  Mulan          1998           Shang    man   1800   \n",
       "9104  Mulan          1998     The Emperor    man    512   \n",
       "9105  Mulan          1998  The Matchmaker  woman    376   \n",
       "9106  Mulan          1998             Yao    man    736   \n",
       "\n",
       "      proportion_of_dialogue   age  gross  script_id  \n",
       "9093                0.064650  69.0  224.0       2961  \n",
       "9094                0.011654  48.0  224.0       2961  \n",
       "9095                0.010821   NaN  224.0       2961  \n",
       "9096                0.037597  55.0  224.0       2961  \n",
       "9097                0.016509  61.0  224.0       2961  \n",
       "9098                0.021920  69.0  224.0       2961  \n",
       "9099                0.031077  43.0  224.0       2961  \n",
       "9100                0.210044  35.0  224.0       2961  \n",
       "9101                0.318674  37.0  224.0       2961  \n",
       "9102                0.039539  43.0  224.0       2961  \n",
       "9103                0.124861  38.0  224.0       2961  \n",
       "9104                0.035516  66.0  224.0       2961  \n",
       "9105                0.026082  57.0  224.0       2961  \n",
       "9106                0.051054  44.0  224.0       2961  "
      ]
     },
     "execution_count": 33,
     "metadata": {},
     "output_type": "execute_result"
    }
   ],
   "source": [
    "film_df[title_filter]"
   ]
  }
 ],
 "metadata": {
  "kernelspec": {
   "display_name": "Python 3",
   "language": "python",
   "name": "python3"
  },
  "language_info": {
   "codemirror_mode": {
    "name": "ipython",
    "version": 3
   },
   "file_extension": ".py",
   "mimetype": "text/x-python",
   "name": "python",
   "nbconvert_exporter": "python",
   "pygments_lexer": "ipython3",
   "version": "3.8.8"
  }
 },
 "nbformat": 4,
 "nbformat_minor": 4
}
