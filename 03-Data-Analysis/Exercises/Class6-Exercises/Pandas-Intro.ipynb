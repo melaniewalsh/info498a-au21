{
 "cells": [
  {
   "cell_type": "markdown",
   "metadata": {},
   "source": [
    "# Class 6 Exercises"
   ]
  },
  {
   "cell_type": "markdown",
   "metadata": {},
   "source": [
    "These exercises will help you practice the skills and concepts that you learned in today's class.\n",
    "\n",
    "To get participation credit for today's class, make sure that you work on these exercises and then submit a screenshot or PDF of your work to the appropriate assignment page in Canvas."
   ]
  },
  {
   "cell_type": "markdown",
   "metadata": {},
   "source": [
    "___"
   ]
  },
  {
   "cell_type": "markdown",
   "metadata": {},
   "source": [
    "## Dataset\n",
    "### *The Pudding*'s Film Dialogue Data"
   ]
  },
  {
   "cell_type": "markdown",
   "metadata": {},
   "source": [
    "The dataset that we're working with in this lesson is taken from Hannah Andersen and Matt Daniels's *Pudding* essay, [\"Film Dialogue from 2,000 screenplays, Broken Down by Gender and Age\"](https://pudding.cool/2017/03/film-dialogue/). The dataset provides information about 2,000 films from 1925 to 2015, including characters’ names, genders, ages, how many words each character spoke in each film, the release year of each film, and how much money the film grossed. They included character gender information because they wanted to contribute data to a broader conversation about how \"white men dominate movie roles.\""
   ]
  },
  {
   "cell_type": "markdown",
   "metadata": {},
   "source": [
    "___"
   ]
  },
  {
   "cell_type": "markdown",
   "metadata": {},
   "source": [
    "## Import Pandas"
   ]
  },
  {
   "cell_type": "markdown",
   "metadata": {},
   "source": [
    "To use the Pandas library, we first need to `import` it."
   ]
  },
  {
   "cell_type": "code",
   "execution_count": 1,
   "metadata": {},
   "outputs": [],
   "source": [
    "# Your code here"
   ]
  },
  {
   "cell_type": "markdown",
   "metadata": {},
   "source": [
    "## Change Display Settings"
   ]
  },
  {
   "cell_type": "markdown",
   "metadata": {},
   "source": [
    "By default, Pandas will display 60 rows and 20 columns. I often change [Pandas' default display settings](https://pandas.pydata.org/pandas-docs/stable/user_guide/options.html) to show more rows or columns."
   ]
  },
  {
   "cell_type": "code",
   "execution_count": 3,
   "metadata": {},
   "outputs": [],
   "source": [
    "pd.options.display.max_rows = 200"
   ]
  },
  {
   "cell_type": "markdown",
   "metadata": {},
   "source": [
    "## Get Data"
   ]
  },
  {
   "cell_type": "markdown",
   "metadata": {},
   "source": [
    "Read in the file \"Pudding-Film-Dialogue-Clean.csv\""
   ]
  },
  {
   "cell_type": "code",
   "execution_count": null,
   "metadata": {},
   "outputs": [],
   "source": [
    "film_df = # Your code here"
   ]
  },
  {
   "cell_type": "markdown",
   "metadata": {},
   "source": [
    "This creates a Pandas [DataFrame object](https://pandas.pydata.org/pandas-docs/stable/user_guide/dsintro.html#DataFrame) — often abbreviated as *df*, e.g., *slave_voyages_df*. A DataFrame looks and acts a lot like a spreadsheet. But it has special powers and functions that we will discuss in the next few lessons."
   ]
  },
  {
   "cell_type": "markdown",
   "metadata": {},
   "source": [
    "## Overview\n",
    "\n",
    "To look at a random *n* number of rows in a DataFrame, we can use a method called `.sample()`."
   ]
  },
  {
   "cell_type": "code",
   "execution_count": 5,
   "metadata": {},
   "outputs": [
    {
     "data": {
      "text/html": [
       "<div>\n",
       "<style scoped>\n",
       "    .dataframe tbody tr th:only-of-type {\n",
       "        vertical-align: middle;\n",
       "    }\n",
       "\n",
       "    .dataframe tbody tr th {\n",
       "        vertical-align: top;\n",
       "    }\n",
       "\n",
       "    .dataframe thead th {\n",
       "        text-align: right;\n",
       "    }\n",
       "</style>\n",
       "<table border=\"1\" class=\"dataframe\">\n",
       "  <thead>\n",
       "    <tr style=\"text-align: right;\">\n",
       "      <th></th>\n",
       "      <th>title</th>\n",
       "      <th>release_year</th>\n",
       "      <th>character</th>\n",
       "      <th>gender</th>\n",
       "      <th>words</th>\n",
       "      <th>proportion_of_dialogue</th>\n",
       "      <th>age</th>\n",
       "      <th>gross</th>\n",
       "      <th>script_id</th>\n",
       "    </tr>\n",
       "  </thead>\n",
       "  <tbody>\n",
       "    <tr>\n",
       "      <th>10706</th>\n",
       "      <td>Sugar</td>\n",
       "      <td>2008</td>\n",
       "      <td>Orlando</td>\n",
       "      <td>man</td>\n",
       "      <td>266</td>\n",
       "      <td>0.017379</td>\n",
       "      <td>NaN</td>\n",
       "      <td>1.0</td>\n",
       "      <td>3462</td>\n",
       "    </tr>\n",
       "    <tr>\n",
       "      <th>1804</th>\n",
       "      <td>Kundun</td>\n",
       "      <td>1997</td>\n",
       "      <td>Chairman Mao</td>\n",
       "      <td>man</td>\n",
       "      <td>301</td>\n",
       "      <td>0.064206</td>\n",
       "      <td>28.0</td>\n",
       "      <td>10.0</td>\n",
       "      <td>1077</td>\n",
       "    </tr>\n",
       "    <tr>\n",
       "      <th>19562</th>\n",
       "      <td>Mystic River</td>\n",
       "      <td>2003</td>\n",
       "      <td>Esther Harris</td>\n",
       "      <td>woman</td>\n",
       "      <td>114</td>\n",
       "      <td>0.010595</td>\n",
       "      <td>61.0</td>\n",
       "      <td>129.0</td>\n",
       "      <td>7502</td>\n",
       "    </tr>\n",
       "    <tr>\n",
       "      <th>16862</th>\n",
       "      <td>Heaven Is for Real</td>\n",
       "      <td>2014</td>\n",
       "      <td>Nancy Rawling</td>\n",
       "      <td>woman</td>\n",
       "      <td>357</td>\n",
       "      <td>0.042384</td>\n",
       "      <td>63.0</td>\n",
       "      <td>97.0</td>\n",
       "      <td>6045</td>\n",
       "    </tr>\n",
       "    <tr>\n",
       "      <th>13105</th>\n",
       "      <td>Hardcore</td>\n",
       "      <td>1979</td>\n",
       "      <td>Niki</td>\n",
       "      <td>woman</td>\n",
       "      <td>1344</td>\n",
       "      <td>0.161752</td>\n",
       "      <td>28.0</td>\n",
       "      <td>NaN</td>\n",
       "      <td>4333</td>\n",
       "    </tr>\n",
       "    <tr>\n",
       "      <th>11476</th>\n",
       "      <td>War Horse</td>\n",
       "      <td>2011</td>\n",
       "      <td>Lt. Charlie Wav</td>\n",
       "      <td>man</td>\n",
       "      <td>140</td>\n",
       "      <td>0.016906</td>\n",
       "      <td>34.0</td>\n",
       "      <td>87.0</td>\n",
       "      <td>3680</td>\n",
       "    </tr>\n",
       "    <tr>\n",
       "      <th>5829</th>\n",
       "      <td>The Dark Knight</td>\n",
       "      <td>2008</td>\n",
       "      <td>Loeb</td>\n",
       "      <td>man</td>\n",
       "      <td>164</td>\n",
       "      <td>0.004890</td>\n",
       "      <td>47.0</td>\n",
       "      <td>645.0</td>\n",
       "      <td>2106</td>\n",
       "    </tr>\n",
       "    <tr>\n",
       "      <th>16026</th>\n",
       "      <td>Frankenweenie</td>\n",
       "      <td>2012</td>\n",
       "      <td>Bob</td>\n",
       "      <td>man</td>\n",
       "      <td>213</td>\n",
       "      <td>0.051067</td>\n",
       "      <td>14.0</td>\n",
       "      <td>38.0</td>\n",
       "      <td>5404</td>\n",
       "    </tr>\n",
       "    <tr>\n",
       "      <th>18725</th>\n",
       "      <td>My Bloody Valentine</td>\n",
       "      <td>2009</td>\n",
       "      <td>Ben Foley</td>\n",
       "      <td>man</td>\n",
       "      <td>653</td>\n",
       "      <td>0.143390</td>\n",
       "      <td>65.0</td>\n",
       "      <td>59.0</td>\n",
       "      <td>7149</td>\n",
       "    </tr>\n",
       "    <tr>\n",
       "      <th>8324</th>\n",
       "      <td>Life as a House</td>\n",
       "      <td>2001</td>\n",
       "      <td>Adam Kimball</td>\n",
       "      <td>man</td>\n",
       "      <td>616</td>\n",
       "      <td>0.028450</td>\n",
       "      <td>8.0</td>\n",
       "      <td>23.0</td>\n",
       "      <td>2764</td>\n",
       "    </tr>\n",
       "  </tbody>\n",
       "</table>\n",
       "</div>"
      ],
      "text/plain": [
       "                     title  release_year        character gender  words  \\\n",
       "10706                Sugar          2008          Orlando    man    266   \n",
       "1804                Kundun          1997     Chairman Mao    man    301   \n",
       "19562         Mystic River          2003    Esther Harris  woman    114   \n",
       "16862   Heaven Is for Real          2014    Nancy Rawling  woman    357   \n",
       "13105             Hardcore          1979             Niki  woman   1344   \n",
       "11476            War Horse          2011  Lt. Charlie Wav    man    140   \n",
       "5829       The Dark Knight          2008             Loeb    man    164   \n",
       "16026        Frankenweenie          2012              Bob    man    213   \n",
       "18725  My Bloody Valentine          2009        Ben Foley    man    653   \n",
       "8324       Life as a House          2001     Adam Kimball    man    616   \n",
       "\n",
       "       proportion_of_dialogue   age  gross  script_id  \n",
       "10706                0.017379   NaN    1.0       3462  \n",
       "1804                 0.064206  28.0   10.0       1077  \n",
       "19562                0.010595  61.0  129.0       7502  \n",
       "16862                0.042384  63.0   97.0       6045  \n",
       "13105                0.161752  28.0    NaN       4333  \n",
       "11476                0.016906  34.0   87.0       3680  \n",
       "5829                 0.004890  47.0  645.0       2106  \n",
       "16026                0.051067  14.0   38.0       5404  \n",
       "18725                0.143390  65.0   59.0       7149  \n",
       "8324                 0.028450   8.0   23.0       2764  "
      ]
     },
     "execution_count": 5,
     "metadata": {},
     "output_type": "execute_result"
    }
   ],
   "source": [
    "film_df.sample(10)"
   ]
  },
  {
   "cell_type": "markdown",
   "metadata": {},
   "source": [
    "## Pandas Methods"
   ]
  },
  {
   "cell_type": "markdown",
   "metadata": {},
   "source": [
    "| Pandas method | Explanation                         |\n",
    "|----------|-------------------------------------|\n",
    "| `.sum()`      | Sum of values                       |\n",
    "| `.mean()`     | Mean of values                      |\n",
    "| `.median()`   | Median of values         |\n",
    "| `.min()`      | Minimum                             |\n",
    "| `.max()`      | Maximum                             |\n",
    "| `.mode()`     | Mode                                |\n",
    "| `.std()`      | Unbiased standard deviation         |\n",
    "| `.count()`    | Total number of non-blank values    |\n",
    "| `.value_counts()` | Frequency of unique values |"
   ]
  },
  {
   "cell_type": "markdown",
   "metadata": {},
   "source": [
    "### ❓  How old (on average) are the characters in this dataset?"
   ]
  },
  {
   "cell_type": "code",
   "execution_count": null,
   "metadata": {},
   "outputs": [],
   "source": [
    "# Your code here"
   ]
  },
  {
   "cell_type": "markdown",
   "metadata": {},
   "source": [
    "### ❓  How old is the oldest character in the dataset?"
   ]
  },
  {
   "cell_type": "code",
   "execution_count": null,
   "metadata": {},
   "outputs": [],
   "source": [
    "# Your code here"
   ]
  },
  {
   "cell_type": "markdown",
   "metadata": {},
   "source": [
    "### ❓  How young is the youngest character?"
   ]
  },
  {
   "cell_type": "code",
   "execution_count": null,
   "metadata": {},
   "outputs": [],
   "source": [
    "# Your code here"
   ]
  },
  {
   "cell_type": "markdown",
   "metadata": {},
   "source": [
    "### ❓  How many men vs. women characters are in the dataset?"
   ]
  },
  {
   "cell_type": "code",
   "execution_count": null,
   "metadata": {},
   "outputs": [],
   "source": [
    "# Your code here"
   ]
  },
  {
   "cell_type": "markdown",
   "metadata": {},
   "source": [
    "## Examine Subsets"
   ]
  },
  {
   "cell_type": "markdown",
   "metadata": {},
   "source": [
    "### ❓  Who are all the characters from Monsters, Inc.?"
   ]
  },
  {
   "cell_type": "markdown",
   "metadata": {},
   "source": [
    "![](https://imgr.search.brave.com/Sc0_L9RRhHrC2B_0i2XRMWpuhGCN8yKvb0hiqnexAAk/fit/877/225/ce/1/aHR0cHM6Ly90c2U0/Lm1tLmJpbmcubmV0/L3RoP2lkPU9JUC5G/MVlGNmRvZzFvNHhi/NFdVNzJYbGhBSGFF/QSZwaWQ9QXBp)\n",
    "\n",
    "[Roz from Monsters, Inc.](https://disney.fandom.com/wiki/Roz)\n"
   ]
  },
  {
   "cell_type": "markdown",
   "metadata": {},
   "source": [
    "Write a conditional statement that will filter the DataFrame to only show rows that have the title \"Monsters, Inc.\""
   ]
  },
  {
   "cell_type": "code",
   "execution_count": null,
   "metadata": {},
   "outputs": [],
   "source": [
    "title_filter = #Your code here"
   ]
  },
  {
   "cell_type": "code",
   "execution_count": 29,
   "metadata": {},
   "outputs": [
    {
     "data": {
      "text/html": [
       "<div>\n",
       "<style scoped>\n",
       "    .dataframe tbody tr th:only-of-type {\n",
       "        vertical-align: middle;\n",
       "    }\n",
       "\n",
       "    .dataframe tbody tr th {\n",
       "        vertical-align: top;\n",
       "    }\n",
       "\n",
       "    .dataframe thead th {\n",
       "        text-align: right;\n",
       "    }\n",
       "</style>\n",
       "<table border=\"1\" class=\"dataframe\">\n",
       "  <thead>\n",
       "    <tr style=\"text-align: right;\">\n",
       "      <th></th>\n",
       "      <th>title</th>\n",
       "      <th>release_year</th>\n",
       "      <th>character</th>\n",
       "      <th>gender</th>\n",
       "      <th>words</th>\n",
       "      <th>proportion_of_dialogue</th>\n",
       "      <th>age</th>\n",
       "      <th>gross</th>\n",
       "      <th>script_id</th>\n",
       "    </tr>\n",
       "  </thead>\n",
       "  <tbody>\n",
       "    <tr>\n",
       "      <th>20730</th>\n",
       "      <td>Monsters, Inc.</td>\n",
       "      <td>2001</td>\n",
       "      <td>Celia</td>\n",
       "      <td>woman</td>\n",
       "      <td>399</td>\n",
       "      <td>0.037702</td>\n",
       "      <td>43.0</td>\n",
       "      <td>445.0</td>\n",
       "      <td>7991</td>\n",
       "    </tr>\n",
       "    <tr>\n",
       "      <th>20731</th>\n",
       "      <td>Monsters, Inc.</td>\n",
       "      <td>2001</td>\n",
       "      <td>Charlie</td>\n",
       "      <td>man</td>\n",
       "      <td>128</td>\n",
       "      <td>0.012095</td>\n",
       "      <td>61.0</td>\n",
       "      <td>445.0</td>\n",
       "      <td>7991</td>\n",
       "    </tr>\n",
       "    <tr>\n",
       "      <th>20732</th>\n",
       "      <td>Monsters, Inc.</td>\n",
       "      <td>2001</td>\n",
       "      <td>Floor Manager</td>\n",
       "      <td>man</td>\n",
       "      <td>130</td>\n",
       "      <td>0.012284</td>\n",
       "      <td>59.0</td>\n",
       "      <td>445.0</td>\n",
       "      <td>7991</td>\n",
       "    </tr>\n",
       "    <tr>\n",
       "      <th>20733</th>\n",
       "      <td>Monsters, Inc.</td>\n",
       "      <td>2001</td>\n",
       "      <td>Fungus</td>\n",
       "      <td>man</td>\n",
       "      <td>220</td>\n",
       "      <td>0.020788</td>\n",
       "      <td>57.0</td>\n",
       "      <td>445.0</td>\n",
       "      <td>7991</td>\n",
       "    </tr>\n",
       "    <tr>\n",
       "      <th>20734</th>\n",
       "      <td>Monsters, Inc.</td>\n",
       "      <td>2001</td>\n",
       "      <td>George Sanderso</td>\n",
       "      <td>man</td>\n",
       "      <td>148</td>\n",
       "      <td>0.013985</td>\n",
       "      <td>39.0</td>\n",
       "      <td>445.0</td>\n",
       "      <td>7991</td>\n",
       "    </tr>\n",
       "    <tr>\n",
       "      <th>20735</th>\n",
       "      <td>Monsters, Inc.</td>\n",
       "      <td>2001</td>\n",
       "      <td>Henry J. Watern</td>\n",
       "      <td>man</td>\n",
       "      <td>1192</td>\n",
       "      <td>0.112633</td>\n",
       "      <td>73.0</td>\n",
       "      <td>445.0</td>\n",
       "      <td>7991</td>\n",
       "    </tr>\n",
       "    <tr>\n",
       "      <th>20736</th>\n",
       "      <td>Monsters, Inc.</td>\n",
       "      <td>2001</td>\n",
       "      <td>James P. \"Sulle</td>\n",
       "      <td>man</td>\n",
       "      <td>2625</td>\n",
       "      <td>0.248039</td>\n",
       "      <td>49.0</td>\n",
       "      <td>445.0</td>\n",
       "      <td>7991</td>\n",
       "    </tr>\n",
       "    <tr>\n",
       "      <th>20737</th>\n",
       "      <td>Monsters, Inc.</td>\n",
       "      <td>2001</td>\n",
       "      <td>Mike Wazowski</td>\n",
       "      <td>man</td>\n",
       "      <td>4653</td>\n",
       "      <td>0.439667</td>\n",
       "      <td>53.0</td>\n",
       "      <td>445.0</td>\n",
       "      <td>7991</td>\n",
       "    </tr>\n",
       "    <tr>\n",
       "      <th>20738</th>\n",
       "      <td>Monsters, Inc.</td>\n",
       "      <td>2001</td>\n",
       "      <td>Needleman</td>\n",
       "      <td>man</td>\n",
       "      <td>128</td>\n",
       "      <td>0.012095</td>\n",
       "      <td>35.0</td>\n",
       "      <td>445.0</td>\n",
       "      <td>7991</td>\n",
       "    </tr>\n",
       "    <tr>\n",
       "      <th>20739</th>\n",
       "      <td>Monsters, Inc.</td>\n",
       "      <td>2001</td>\n",
       "      <td>Randall Boggs</td>\n",
       "      <td>man</td>\n",
       "      <td>734</td>\n",
       "      <td>0.069357</td>\n",
       "      <td>44.0</td>\n",
       "      <td>445.0</td>\n",
       "      <td>7991</td>\n",
       "    </tr>\n",
       "    <tr>\n",
       "      <th>20740</th>\n",
       "      <td>Monsters, Inc.</td>\n",
       "      <td>2001</td>\n",
       "      <td>Roz</td>\n",
       "      <td>man</td>\n",
       "      <td>226</td>\n",
       "      <td>0.021355</td>\n",
       "      <td>40.0</td>\n",
       "      <td>445.0</td>\n",
       "      <td>7991</td>\n",
       "    </tr>\n",
       "  </tbody>\n",
       "</table>\n",
       "</div>"
      ],
      "text/plain": [
       "                title  release_year        character gender  words  \\\n",
       "20730  Monsters, Inc.          2001            Celia  woman    399   \n",
       "20731  Monsters, Inc.          2001          Charlie    man    128   \n",
       "20732  Monsters, Inc.          2001    Floor Manager    man    130   \n",
       "20733  Monsters, Inc.          2001           Fungus    man    220   \n",
       "20734  Monsters, Inc.          2001  George Sanderso    man    148   \n",
       "20735  Monsters, Inc.          2001  Henry J. Watern    man   1192   \n",
       "20736  Monsters, Inc.          2001  James P. \"Sulle    man   2625   \n",
       "20737  Monsters, Inc.          2001    Mike Wazowski    man   4653   \n",
       "20738  Monsters, Inc.          2001        Needleman    man    128   \n",
       "20739  Monsters, Inc.          2001    Randall Boggs    man    734   \n",
       "20740  Monsters, Inc.          2001              Roz    man    226   \n",
       "\n",
       "       proportion_of_dialogue   age  gross  script_id  \n",
       "20730                0.037702  43.0  445.0       7991  \n",
       "20731                0.012095  61.0  445.0       7991  \n",
       "20732                0.012284  59.0  445.0       7991  \n",
       "20733                0.020788  57.0  445.0       7991  \n",
       "20734                0.013985  39.0  445.0       7991  \n",
       "20735                0.112633  73.0  445.0       7991  \n",
       "20736                0.248039  49.0  445.0       7991  \n",
       "20737                0.439667  53.0  445.0       7991  \n",
       "20738                0.012095  35.0  445.0       7991  \n",
       "20739                0.069357  44.0  445.0       7991  \n",
       "20740                0.021355  40.0  445.0       7991  "
      ]
     },
     "execution_count": 29,
     "metadata": {},
     "output_type": "execute_result"
    }
   ],
   "source": [
    "film_df[title_filter]"
   ]
  },
  {
   "cell_type": "markdown",
   "metadata": {},
   "source": [
    "### ❓  What potential issues do you notice when you look closer at this data? (Hint: Look at Roz!)"
   ]
  },
  {
   "cell_type": "markdown",
   "metadata": {},
   "source": [
    "What do you think about The Pudding's approach to classifying gender in this dataset? Why do you think they chose this miethod? What alternative methods could we potentially use to understand gender?"
   ]
  },
  {
   "cell_type": "markdown",
   "metadata": {},
   "source": [
    "### ❓  Who are all the characters from Mulan?"
   ]
  },
  {
   "cell_type": "markdown",
   "metadata": {},
   "source": [
    "![](https://imgr.search.brave.com/FneuSAPYJKxzA127qqcXL1viYxX35cnkJ3mCY6CPZ8w/fit/1200/1200/ce/1/aHR0cDovL2ltYWdl/czYuZmFucG9wLmNv/bS9pbWFnZS9waG90/b3MvMzQ0MDAwMDAv/V2FsdC1EaXNuZXkt/U2NyZWVuY2Fwcy1N/dXNodS13YWx0LWRp/c25leS1jaGFyYWN0/ZXJzLTM0NDYwMjIy/LTUwMDAtMjk3Ny5q/cGc)"
   ]
  },
  {
   "cell_type": "markdown",
   "metadata": {},
   "source": [
    "[Mushu from Mulan](https://disney.fandom.com/wiki/Mushu)\n"
   ]
  },
  {
   "cell_type": "markdown",
   "metadata": {},
   "source": [
    "Write a conditional statement that will filter the DataFrame to only show rows that have the title \"Mulan\""
   ]
  },
  {
   "cell_type": "code",
   "execution_count": 32,
   "metadata": {},
   "outputs": [],
   "source": [
    "title_filter = #Your code here"
   ]
  },
  {
   "cell_type": "code",
   "execution_count": 33,
   "metadata": {},
   "outputs": [
    {
     "data": {
      "text/html": [
       "<div>\n",
       "<style scoped>\n",
       "    .dataframe tbody tr th:only-of-type {\n",
       "        vertical-align: middle;\n",
       "    }\n",
       "\n",
       "    .dataframe tbody tr th {\n",
       "        vertical-align: top;\n",
       "    }\n",
       "\n",
       "    .dataframe thead th {\n",
       "        text-align: right;\n",
       "    }\n",
       "</style>\n",
       "<table border=\"1\" class=\"dataframe\">\n",
       "  <thead>\n",
       "    <tr style=\"text-align: right;\">\n",
       "      <th></th>\n",
       "      <th>title</th>\n",
       "      <th>release_year</th>\n",
       "      <th>character</th>\n",
       "      <th>gender</th>\n",
       "      <th>words</th>\n",
       "      <th>proportion_of_dialogue</th>\n",
       "      <th>age</th>\n",
       "      <th>gross</th>\n",
       "      <th>script_id</th>\n",
       "    </tr>\n",
       "  </thead>\n",
       "  <tbody>\n",
       "    <tr>\n",
       "      <th>9093</th>\n",
       "      <td>Mulan</td>\n",
       "      <td>1998</td>\n",
       "      <td>Chi Fu</td>\n",
       "      <td>man</td>\n",
       "      <td>932</td>\n",
       "      <td>0.064650</td>\n",
       "      <td>69.0</td>\n",
       "      <td>224.0</td>\n",
       "      <td>2961</td>\n",
       "    </tr>\n",
       "    <tr>\n",
       "      <th>9094</th>\n",
       "      <td>Mulan</td>\n",
       "      <td>1998</td>\n",
       "      <td>Chien-Po</td>\n",
       "      <td>man</td>\n",
       "      <td>168</td>\n",
       "      <td>0.011654</td>\n",
       "      <td>48.0</td>\n",
       "      <td>224.0</td>\n",
       "      <td>2961</td>\n",
       "    </tr>\n",
       "    <tr>\n",
       "      <th>9095</th>\n",
       "      <td>Mulan</td>\n",
       "      <td>1998</td>\n",
       "      <td>Fa Li</td>\n",
       "      <td>woman</td>\n",
       "      <td>156</td>\n",
       "      <td>0.010821</td>\n",
       "      <td>NaN</td>\n",
       "      <td>224.0</td>\n",
       "      <td>2961</td>\n",
       "    </tr>\n",
       "    <tr>\n",
       "      <th>9096</th>\n",
       "      <td>Mulan</td>\n",
       "      <td>1998</td>\n",
       "      <td>Fa Zhou</td>\n",
       "      <td>man</td>\n",
       "      <td>542</td>\n",
       "      <td>0.037597</td>\n",
       "      <td>55.0</td>\n",
       "      <td>224.0</td>\n",
       "      <td>2961</td>\n",
       "    </tr>\n",
       "    <tr>\n",
       "      <th>9097</th>\n",
       "      <td>Mulan</td>\n",
       "      <td>1998</td>\n",
       "      <td>First Ancestor</td>\n",
       "      <td>man</td>\n",
       "      <td>238</td>\n",
       "      <td>0.016509</td>\n",
       "      <td>61.0</td>\n",
       "      <td>224.0</td>\n",
       "      <td>2961</td>\n",
       "    </tr>\n",
       "    <tr>\n",
       "      <th>9098</th>\n",
       "      <td>Mulan</td>\n",
       "      <td>1998</td>\n",
       "      <td>General Li</td>\n",
       "      <td>man</td>\n",
       "      <td>316</td>\n",
       "      <td>0.021920</td>\n",
       "      <td>69.0</td>\n",
       "      <td>224.0</td>\n",
       "      <td>2961</td>\n",
       "    </tr>\n",
       "    <tr>\n",
       "      <th>9099</th>\n",
       "      <td>Mulan</td>\n",
       "      <td>1998</td>\n",
       "      <td>Ling</td>\n",
       "      <td>man</td>\n",
       "      <td>448</td>\n",
       "      <td>0.031077</td>\n",
       "      <td>43.0</td>\n",
       "      <td>224.0</td>\n",
       "      <td>2961</td>\n",
       "    </tr>\n",
       "    <tr>\n",
       "      <th>9100</th>\n",
       "      <td>Mulan</td>\n",
       "      <td>1998</td>\n",
       "      <td>Mulan</td>\n",
       "      <td>woman</td>\n",
       "      <td>3028</td>\n",
       "      <td>0.210044</td>\n",
       "      <td>35.0</td>\n",
       "      <td>224.0</td>\n",
       "      <td>2961</td>\n",
       "    </tr>\n",
       "    <tr>\n",
       "      <th>9101</th>\n",
       "      <td>Mulan</td>\n",
       "      <td>1998</td>\n",
       "      <td>Mushu</td>\n",
       "      <td>man</td>\n",
       "      <td>4594</td>\n",
       "      <td>0.318674</td>\n",
       "      <td>37.0</td>\n",
       "      <td>224.0</td>\n",
       "      <td>2961</td>\n",
       "    </tr>\n",
       "    <tr>\n",
       "      <th>9102</th>\n",
       "      <td>Mulan</td>\n",
       "      <td>1998</td>\n",
       "      <td>Shan-Yu</td>\n",
       "      <td>man</td>\n",
       "      <td>570</td>\n",
       "      <td>0.039539</td>\n",
       "      <td>43.0</td>\n",
       "      <td>224.0</td>\n",
       "      <td>2961</td>\n",
       "    </tr>\n",
       "    <tr>\n",
       "      <th>9103</th>\n",
       "      <td>Mulan</td>\n",
       "      <td>1998</td>\n",
       "      <td>Shang</td>\n",
       "      <td>man</td>\n",
       "      <td>1800</td>\n",
       "      <td>0.124861</td>\n",
       "      <td>38.0</td>\n",
       "      <td>224.0</td>\n",
       "      <td>2961</td>\n",
       "    </tr>\n",
       "    <tr>\n",
       "      <th>9104</th>\n",
       "      <td>Mulan</td>\n",
       "      <td>1998</td>\n",
       "      <td>The Emperor</td>\n",
       "      <td>man</td>\n",
       "      <td>512</td>\n",
       "      <td>0.035516</td>\n",
       "      <td>66.0</td>\n",
       "      <td>224.0</td>\n",
       "      <td>2961</td>\n",
       "    </tr>\n",
       "    <tr>\n",
       "      <th>9105</th>\n",
       "      <td>Mulan</td>\n",
       "      <td>1998</td>\n",
       "      <td>The Matchmaker</td>\n",
       "      <td>woman</td>\n",
       "      <td>376</td>\n",
       "      <td>0.026082</td>\n",
       "      <td>57.0</td>\n",
       "      <td>224.0</td>\n",
       "      <td>2961</td>\n",
       "    </tr>\n",
       "    <tr>\n",
       "      <th>9106</th>\n",
       "      <td>Mulan</td>\n",
       "      <td>1998</td>\n",
       "      <td>Yao</td>\n",
       "      <td>man</td>\n",
       "      <td>736</td>\n",
       "      <td>0.051054</td>\n",
       "      <td>44.0</td>\n",
       "      <td>224.0</td>\n",
       "      <td>2961</td>\n",
       "    </tr>\n",
       "  </tbody>\n",
       "</table>\n",
       "</div>"
      ],
      "text/plain": [
       "      title  release_year       character gender  words  \\\n",
       "9093  Mulan          1998          Chi Fu    man    932   \n",
       "9094  Mulan          1998        Chien-Po    man    168   \n",
       "9095  Mulan          1998           Fa Li  woman    156   \n",
       "9096  Mulan          1998         Fa Zhou    man    542   \n",
       "9097  Mulan          1998  First Ancestor    man    238   \n",
       "9098  Mulan          1998      General Li    man    316   \n",
       "9099  Mulan          1998            Ling    man    448   \n",
       "9100  Mulan          1998           Mulan  woman   3028   \n",
       "9101  Mulan          1998           Mushu    man   4594   \n",
       "9102  Mulan          1998         Shan-Yu    man    570   \n",
       "9103  Mulan          1998           Shang    man   1800   \n",
       "9104  Mulan          1998     The Emperor    man    512   \n",
       "9105  Mulan          1998  The Matchmaker  woman    376   \n",
       "9106  Mulan          1998             Yao    man    736   \n",
       "\n",
       "      proportion_of_dialogue   age  gross  script_id  \n",
       "9093                0.064650  69.0  224.0       2961  \n",
       "9094                0.011654  48.0  224.0       2961  \n",
       "9095                0.010821   NaN  224.0       2961  \n",
       "9096                0.037597  55.0  224.0       2961  \n",
       "9097                0.016509  61.0  224.0       2961  \n",
       "9098                0.021920  69.0  224.0       2961  \n",
       "9099                0.031077  43.0  224.0       2961  \n",
       "9100                0.210044  35.0  224.0       2961  \n",
       "9101                0.318674  37.0  224.0       2961  \n",
       "9102                0.039539  43.0  224.0       2961  \n",
       "9103                0.124861  38.0  224.0       2961  \n",
       "9104                0.035516  66.0  224.0       2961  \n",
       "9105                0.026082  57.0  224.0       2961  \n",
       "9106                0.051054  44.0  224.0       2961  "
      ]
     },
     "execution_count": 33,
     "metadata": {},
     "output_type": "execute_result"
    }
   ],
   "source": [
    "film_df[title_filter]"
   ]
  },
  {
   "cell_type": "markdown",
   "metadata": {},
   "source": [
    "### ❓  What potential issues do you notice when you look closer at the words and proportion of dialogue for each character? (Hint: Look at Mushu and Mulan)"
   ]
  },
  {
   "cell_type": "markdown",
   "metadata": {},
   "source": [
    "What do you think about The Pudding's framing of dialogue as the most important feature in films?"
   ]
  }
 ],
 "metadata": {
  "kernelspec": {
   "display_name": "Python 3",
   "language": "python",
   "name": "python3"
  },
  "language_info": {
   "codemirror_mode": {
    "name": "ipython",
    "version": 3
   },
   "file_extension": ".py",
   "mimetype": "text/x-python",
   "name": "python",
   "nbconvert_exporter": "python",
   "pygments_lexer": "ipython3",
   "version": "3.8.8"
  }
 },
 "nbformat": 4,
 "nbformat_minor": 4
}
