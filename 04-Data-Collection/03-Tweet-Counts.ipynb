{
 "cells": [
  {
   "cell_type": "markdown",
   "id": "12320a21-b23d-44c4-b26e-968d93fd56fd",
   "metadata": {},
   "source": [
    "# Get Tweet Counts"
   ]
  },
  {
   "cell_type": "markdown",
   "id": "158f4a63-cc80-47e3-8715-c8cb013b3946",
   "metadata": {},
   "source": [
    "In this notebook, we will learn how to get tweets counts."
   ]
  },
  {
   "cell_type": "markdown",
   "id": "a3e995a5-9679-4c58-abec-a7ce3a2992f8",
   "metadata": {},
   "source": [
    "## But First, New Concepts!"
   ]
  },
  {
   "cell_type": "markdown",
   "id": "2478460f-f922-4c33-a78f-c6790fc9f586",
   "metadata": {},
   "source": [
    "### Make a DataFrame From a List of Dictionaries"
   ]
  },
  {
   "cell_type": "markdown",
   "id": "52477c12-d574-40a4-af30-4f55b28f6bdf",
   "metadata": {},
   "source": [
    "We can make a DataFrame from a list of dictionaries!"
   ]
  },
  {
   "cell_type": "code",
   "execution_count": 3,
   "id": "ee060dac-9800-4d6f-a71e-abf0ec245861",
   "metadata": {},
   "outputs": [
    {
     "data": {
      "text/plain": [
       "{'month': 'October'}"
      ]
     },
     "execution_count": 3,
     "metadata": {},
     "output_type": "execute_result"
    }
   ],
   "source": [
    "{'month': 'October'}"
   ]
  },
  {
   "cell_type": "code",
   "execution_count": 4,
   "id": "8725982a-a124-4dd3-890e-2da4e5cab109",
   "metadata": {},
   "outputs": [
    {
     "data": {
      "text/plain": [
       "dict"
      ]
     },
     "execution_count": 4,
     "metadata": {},
     "output_type": "execute_result"
    }
   ],
   "source": [
    "type({'year': 2020})"
   ]
  },
  {
   "cell_type": "code",
   "execution_count": 2,
   "id": "32a53e0f-125b-4793-9bf0-174d652f1c16",
   "metadata": {},
   "outputs": [],
   "source": [
    "import pandas as pd"
   ]
  },
  {
   "cell_type": "code",
   "execution_count": 9,
   "id": "b62f81b4-0f77-4ceb-8abc-72c2344278f9",
   "metadata": {},
   "outputs": [
    {
     "data": {
      "text/html": [
       "<div>\n",
       "<style scoped>\n",
       "    .dataframe tbody tr th:only-of-type {\n",
       "        vertical-align: middle;\n",
       "    }\n",
       "\n",
       "    .dataframe tbody tr th {\n",
       "        vertical-align: top;\n",
       "    }\n",
       "\n",
       "    .dataframe thead th {\n",
       "        text-align: right;\n",
       "    }\n",
       "</style>\n",
       "<table border=\"1\" class=\"dataframe\">\n",
       "  <thead>\n",
       "    <tr style=\"text-align: right;\">\n",
       "      <th></th>\n",
       "      <th>month</th>\n",
       "    </tr>\n",
       "  </thead>\n",
       "  <tbody>\n",
       "    <tr>\n",
       "      <th>0</th>\n",
       "      <td>October</td>\n",
       "    </tr>\n",
       "    <tr>\n",
       "      <th>1</th>\n",
       "      <td>November</td>\n",
       "    </tr>\n",
       "  </tbody>\n",
       "</table>\n",
       "</div>"
      ],
      "text/plain": [
       "      month\n",
       "0   October\n",
       "1  November"
      ]
     },
     "execution_count": 9,
     "metadata": {},
     "output_type": "execute_result"
    }
   ],
   "source": [
    "pd.DataFrame([{'month': 'October'}, {'month': 'November'}])"
   ]
  },
  {
   "cell_type": "code",
   "execution_count": 10,
   "id": "1ee28cc3-4942-4714-b96c-6abd6053b685",
   "metadata": {},
   "outputs": [
    {
     "data": {
      "text/html": [
       "<div>\n",
       "<style scoped>\n",
       "    .dataframe tbody tr th:only-of-type {\n",
       "        vertical-align: middle;\n",
       "    }\n",
       "\n",
       "    .dataframe tbody tr th {\n",
       "        vertical-align: top;\n",
       "    }\n",
       "\n",
       "    .dataframe thead th {\n",
       "        text-align: right;\n",
       "    }\n",
       "</style>\n",
       "<table border=\"1\" class=\"dataframe\">\n",
       "  <thead>\n",
       "    <tr style=\"text-align: right;\">\n",
       "      <th></th>\n",
       "      <th>month</th>\n",
       "      <th>tweets</th>\n",
       "    </tr>\n",
       "  </thead>\n",
       "  <tbody>\n",
       "    <tr>\n",
       "      <th>0</th>\n",
       "      <td>October</td>\n",
       "      <td>100</td>\n",
       "    </tr>\n",
       "    <tr>\n",
       "      <th>1</th>\n",
       "      <td>November</td>\n",
       "      <td>1000</td>\n",
       "    </tr>\n",
       "  </tbody>\n",
       "</table>\n",
       "</div>"
      ],
      "text/plain": [
       "      month  tweets\n",
       "0   October     100\n",
       "1  November    1000"
      ]
     },
     "execution_count": 10,
     "metadata": {},
     "output_type": "execute_result"
    }
   ],
   "source": [
    "pd.DataFrame([{'month': 'October', 'tweets': 100}, {'month': 'November', 'tweets': 1000}])"
   ]
  },
  {
   "cell_type": "markdown",
   "id": "9fb776e6-c345-4d78-9e63-b9796aca4a10",
   "metadata": {},
   "source": [
    "### Make Plots with Plotly"
   ]
  },
  {
   "cell_type": "code",
   "execution_count": 11,
   "id": "c9de6b01-d19a-4f7d-98cb-222954506d42",
   "metadata": {},
   "outputs": [],
   "source": [
    "tweet_df = pd.DataFrame([{'month': 'October', 'tweets': 100}, {'month': 'November', 'tweets': 1000}])"
   ]
  },
  {
   "cell_type": "code",
   "execution_count": 3,
   "id": "282eee24-fb76-4c12-b6fb-55dd1f805c1f",
   "metadata": {},
   "outputs": [],
   "source": [
    "import plotly.express as px\n",
    "import plotly.io as pio\n",
    "pio.renderers.default='iframe'"
   ]
  },
  {
   "cell_type": "code",
   "execution_count": 9,
   "id": "ef11ab44-d41f-43fd-bc26-f24fc219d4a3",
   "metadata": {},
   "outputs": [
    {
     "data": {
      "text/html": [
       "<iframe\n",
       "    scrolling=\"no\"\n",
       "    width=\"100%\"\n",
       "    height=\"545px\"\n",
       "    src=\"iframe_figures/figure_9.html\"\n",
       "    frameborder=\"0\"\n",
       "    allowfullscreen\n",
       "></iframe>\n"
      ]
     },
     "metadata": {},
     "output_type": "display_data"
    }
   ],
   "source": [
    "px.line(tweet_df, x= 'month', y = 'tweets', title = 'Tweets Per Month')"
   ]
  },
  {
   "cell_type": "markdown",
   "id": "d0183fe0-05fb-4cdf-9ae8-b2b4a33bae07",
   "metadata": {},
   "source": [
    "## Get Tweet Counts"
   ]
  },
  {
   "cell_type": "markdown",
   "id": "044a418b-e21b-4e4f-8122-eecf8b243c8e",
   "metadata": {},
   "source": [
    "The [tweet counts API endpoint](https://twittercommunity.com/t/introducing-new-tweet-counts-endpoints-to-the-twitter-api-v2/155997) is a convenient feature of the v2 API (first introduced in 2021) that allows us to get a sense of how many tweets will be returned for a given query before we actually collect all the tweets that match the query.\n",
    "\n",
    "The tweet counts API endpoint is perhaps even more useful for research projects that are primarily interested in tracking the volume of a Twitter conversation over time. In this case, tweet counts enable a researcher to retrieve this information in a way that's faster and easier than retrieving all tweets and relevant metadata."
   ]
  },
  {
   "cell_type": "markdown",
   "id": "81bf32ac-67ec-4422-8536-7d60224ced7e",
   "metadata": {},
   "source": [
    "To get tweet counts, we can use [`twarc2 counts`](https://twarc-project.readthedocs.io/en/latest/twarc2/#counts) followed by a search query.\n",
    "\n",
    "\n",
    "\n",
    "| Search Operator             | Explanation                                                                                                                                                                                                                                                                                                                                                                                                                                         |\n",
    "|:--------------------:|:----------------------------------------------------------------------------------------------:|\n",
    "| keyword              | Matches a keyword within the body of a Tweet. `so sweet and so cold`                                                                                          \n",
    "| \"exact phrase match\" | Matches the exact phrase within the body of a Tweet. `\"so sweet and so cold\" OR \"plums in the icebox\"`                                                                                              |\n",
    "| - | Do NOT match a keyword or operator `baldwin -alec`, `walt whitman -bridge`                                                                                              |\n",
    "| #                    | Matches any Tweet containing a recognized hashtag `#arthistory`        |                                                                             |\n",
    "| from:, to:                | Matches any Tweet from or to a specific user. `from:KingJames` `to:KingJames`                                                                    |                                                                                                            |\n",
    "| place:               | Matches Tweets tagged with the specified location or Twitter place ID. `place:\"new york city\" OR place:seattle`                                                                                            |\n",
    "| is:reply, is:quote             | Returns only replies or quote tweets. `DFW bro is:reply` `David Foster Wallace bro is:quote`                                                                                                                               |\n",
    "| is:verified          | Returns only Tweets whose authors are verified by Twitter.`DFW bro is:verified`                                                                                                                                |\n",
    "| has:media           | Matches Tweets that contain a media object, such as a photo, GIF, or video, as determined by Twitter. `I Think You Should Leave has:media`                                                                                                                                |\n",
    "| has:images, has:videos           | Matches Tweets that contain a recognized URL to an image. `i'm gonna tell my kinds that this was has:images`                                                                                    |\n",
    "| has:geo              | Matches Tweets that have Tweet-specific geolocation data provided by the Twitter user.  `pyramids has:geo`           \n",
    "\n",
    "We will also use the flag `--csv` because we want to output the data as a CSV and the flag `--granularity day` to get tweet counts per day (other options include `hour` and `minute` — you can see more in [twarc's documentation](https://twarc-project.readthedocs.io/en/latest/twarc2/#counts)).  Finally, we write the data to a CSV file."
   ]
  },
  {
   "cell_type": "code",
   "execution_count": 6,
   "id": "bb4c109c-47a6-47e9-9b90-4d07ffa0124a",
   "metadata": {},
   "outputs": [],
   "source": [
    "!twarc2 counts \"virginia\" --csv --granularity day > tweet-counts.csv"
   ]
  },
  {
   "cell_type": "markdown",
   "id": "ed07214b-61c3-4c0a-a126-112fd57df5eb",
   "metadata": {},
   "source": [
    "We can read in this CSV file with pandas, parse the date columns, and sort from earliest to latest. Then we can make a quick plot of tweets per day with [plotly](https://plotly.com/python/line-charts/) The code below is largely [borrowed from Ed Summers](https://github.com/edsu/notebooks/blob/master/Black%20Lives%20Matter%20Counts.ipynb). Thanks, Ed!"
   ]
  },
  {
   "cell_type": "code",
   "execution_count": 43,
   "id": "88b29de0-a0e2-4123-a640-c63404de393c",
   "metadata": {},
   "outputs": [
    {
     "data": {
      "text/html": [
       "<div>\n",
       "<style scoped>\n",
       "    .dataframe tbody tr th:only-of-type {\n",
       "        vertical-align: middle;\n",
       "    }\n",
       "\n",
       "    .dataframe tbody tr th {\n",
       "        vertical-align: top;\n",
       "    }\n",
       "\n",
       "    .dataframe thead th {\n",
       "        text-align: right;\n",
       "    }\n",
       "</style>\n",
       "<table border=\"1\" class=\"dataframe\">\n",
       "  <thead>\n",
       "    <tr style=\"text-align: right;\">\n",
       "      <th></th>\n",
       "      <th>start</th>\n",
       "      <th>end</th>\n",
       "      <th>day_count</th>\n",
       "    </tr>\n",
       "  </thead>\n",
       "  <tbody>\n",
       "    <tr>\n",
       "      <th>0</th>\n",
       "      <td>2021-11-02 08:23:52+00:00</td>\n",
       "      <td>2021-11-03 00:00:00+00:00</td>\n",
       "      <td>407015</td>\n",
       "    </tr>\n",
       "    <tr>\n",
       "      <th>1</th>\n",
       "      <td>2021-11-03 00:00:00+00:00</td>\n",
       "      <td>2021-11-04 00:00:00+00:00</td>\n",
       "      <td>1231983</td>\n",
       "    </tr>\n",
       "    <tr>\n",
       "      <th>2</th>\n",
       "      <td>2021-11-04 00:00:00+00:00</td>\n",
       "      <td>2021-11-05 00:00:00+00:00</td>\n",
       "      <td>321488</td>\n",
       "    </tr>\n",
       "    <tr>\n",
       "      <th>3</th>\n",
       "      <td>2021-11-05 00:00:00+00:00</td>\n",
       "      <td>2021-11-06 00:00:00+00:00</td>\n",
       "      <td>159428</td>\n",
       "    </tr>\n",
       "    <tr>\n",
       "      <th>4</th>\n",
       "      <td>2021-11-06 00:00:00+00:00</td>\n",
       "      <td>2021-11-07 00:00:00+00:00</td>\n",
       "      <td>99062</td>\n",
       "    </tr>\n",
       "    <tr>\n",
       "      <th>5</th>\n",
       "      <td>2021-11-07 00:00:00+00:00</td>\n",
       "      <td>2021-11-08 00:00:00+00:00</td>\n",
       "      <td>58689</td>\n",
       "    </tr>\n",
       "    <tr>\n",
       "      <th>6</th>\n",
       "      <td>2021-11-08 00:00:00+00:00</td>\n",
       "      <td>2021-11-09 00:00:00+00:00</td>\n",
       "      <td>72148</td>\n",
       "    </tr>\n",
       "    <tr>\n",
       "      <th>7</th>\n",
       "      <td>2021-11-09 00:00:00+00:00</td>\n",
       "      <td>2021-11-09 08:23:52+00:00</td>\n",
       "      <td>19639</td>\n",
       "    </tr>\n",
       "  </tbody>\n",
       "</table>\n",
       "</div>"
      ],
      "text/plain": [
       "                      start                       end  day_count\n",
       "0 2021-11-02 08:23:52+00:00 2021-11-03 00:00:00+00:00     407015\n",
       "1 2021-11-03 00:00:00+00:00 2021-11-04 00:00:00+00:00    1231983\n",
       "2 2021-11-04 00:00:00+00:00 2021-11-05 00:00:00+00:00     321488\n",
       "3 2021-11-05 00:00:00+00:00 2021-11-06 00:00:00+00:00     159428\n",
       "4 2021-11-06 00:00:00+00:00 2021-11-07 00:00:00+00:00      99062\n",
       "5 2021-11-07 00:00:00+00:00 2021-11-08 00:00:00+00:00      58689\n",
       "6 2021-11-08 00:00:00+00:00 2021-11-09 00:00:00+00:00      72148\n",
       "7 2021-11-09 00:00:00+00:00 2021-11-09 08:23:52+00:00      19639"
      ]
     },
     "execution_count": 43,
     "metadata": {},
     "output_type": "execute_result"
    }
   ],
   "source": [
    "# Read in CSV as DataFrame and parse dates\n",
    "tweet_counts_df = pd.read_csv('tweet-counts.csv', parse_dates=['start', 'end'])\n",
    "\n",
    "# Sort values by earliest date\n",
    "tweet_counts_df = tweet_counts_df.sort_values(by='start')\n",
    "\n",
    "tweet_counts_df"
   ]
  },
  {
   "cell_type": "code",
   "execution_count": 14,
   "id": "a03ce234-241b-4fcc-88e2-6446b006a538",
   "metadata": {},
   "outputs": [
    {
     "data": {
      "text/html": [
       "<iframe\n",
       "    scrolling=\"no\"\n",
       "    width=\"100%\"\n",
       "    height=\"545px\"\n",
       "    src=\"iframe_figures/figure_44.html\"\n",
       "    frameborder=\"0\"\n",
       "    allowfullscreen\n",
       "></iframe>\n"
      ]
     },
     "metadata": {},
     "output_type": "display_data"
    }
   ],
   "source": [
    "# Make a line plot and create x and y axis labels and a title\n",
    "\n",
    "px.line(tweet_counts_df, x='start', y='day_count', title= 'Tweets Mentioning \"Virginia\"',\n",
    "        \n",
    "    labels={'start': 'Time', 'day_count': 'Tweets per Day'})"
   ]
  },
  {
   "cell_type": "markdown",
   "id": "e753ecba-73d9-4be9-9f67-4c5646ab0ad5",
   "metadata": {},
   "source": [
    "With a plotly line chart, we can hover over points to see more information, and we can use the tool bar in the upper right corner to zoom or pan on different parts of the graph. We can also press the camera button to download an image of the graph at any pan or zoom level.\n",
    "\n",
    "To return to the original view, double-click on the plot."
   ]
  },
  {
   "cell_type": "markdown",
   "id": "cc41bca2-69ed-47bb-803c-693e5a708f29",
   "metadata": {},
   "source": [
    "## Plot Multiple Twitter Trends"
   ]
  },
  {
   "cell_type": "code",
   "execution_count": 44,
   "id": "54f43d06-5516-4a50-bb66-5c0ac776e353",
   "metadata": {},
   "outputs": [],
   "source": [
    "!twarc2 counts \"texas\" --csv --granularity day > texas-tweet-counts.csv"
   ]
  },
  {
   "cell_type": "code",
   "execution_count": 9,
   "id": "1afd0feb-5787-42d9-b9f4-b145e2f8aa58",
   "metadata": {},
   "outputs": [],
   "source": [
    "import plotly.graph_objects as go"
   ]
  },
  {
   "cell_type": "code",
   "execution_count": 66,
   "id": "59a5dbc5-f59d-42f7-abec-4de3e171da39",
   "metadata": {},
   "outputs": [],
   "source": [
    "# Read in CSV as DataFrame and parse dates\n",
    "texas_tweet_counts_df = pd.read_csv('texas-tweet-counts.csv', parse_dates=['start', 'end'])\n",
    "\n",
    "# Sort values by earliest date\n",
    "texas_tweet_counts_df = texas_tweet_counts_df.sort_values(by='start')"
   ]
  },
  {
   "cell_type": "code",
   "execution_count": 48,
   "id": "d86a6fd6-dca7-40f3-a5e3-af83f98ac8fa",
   "metadata": {},
   "outputs": [],
   "source": [
    "tweet_counts_df['Subject'] = 'Virignia'"
   ]
  },
  {
   "cell_type": "code",
   "execution_count": 49,
   "id": "b74a606f-9c0e-49e2-bf71-94cd3612fe90",
   "metadata": {},
   "outputs": [],
   "source": [
    "texas_tweet_counts_df['Subject'] = 'Texas'"
   ]
  },
  {
   "cell_type": "code",
   "execution_count": 55,
   "id": "52d3945d-0beb-4289-9807-1645208ef4eb",
   "metadata": {},
   "outputs": [],
   "source": [
    "df = tweet_counts_df.append(texas_tweet_counts_df)"
   ]
  },
  {
   "cell_type": "code",
   "execution_count": 65,
   "id": "b766cce5-b3d9-40cb-a346-b88431109e5b",
   "metadata": {},
   "outputs": [
    {
     "data": {
      "text/html": [
       "<div>\n",
       "<style scoped>\n",
       "    .dataframe tbody tr th:only-of-type {\n",
       "        vertical-align: middle;\n",
       "    }\n",
       "\n",
       "    .dataframe tbody tr th {\n",
       "        vertical-align: top;\n",
       "    }\n",
       "\n",
       "    .dataframe thead th {\n",
       "        text-align: right;\n",
       "    }\n",
       "</style>\n",
       "<table border=\"1\" class=\"dataframe\">\n",
       "  <thead>\n",
       "    <tr style=\"text-align: right;\">\n",
       "      <th></th>\n",
       "      <th>start</th>\n",
       "      <th>end</th>\n",
       "      <th>day_count</th>\n",
       "      <th>Subject</th>\n",
       "    </tr>\n",
       "  </thead>\n",
       "  <tbody>\n",
       "    <tr>\n",
       "      <th>0</th>\n",
       "      <td>2021-11-02 08:23:52+00:00</td>\n",
       "      <td>2021-11-03 00:00:00+00:00</td>\n",
       "      <td>407015</td>\n",
       "      <td>Virignia</td>\n",
       "    </tr>\n",
       "    <tr>\n",
       "      <th>1</th>\n",
       "      <td>2021-11-03 00:00:00+00:00</td>\n",
       "      <td>2021-11-04 00:00:00+00:00</td>\n",
       "      <td>1231983</td>\n",
       "      <td>Virignia</td>\n",
       "    </tr>\n",
       "    <tr>\n",
       "      <th>2</th>\n",
       "      <td>2021-11-04 00:00:00+00:00</td>\n",
       "      <td>2021-11-05 00:00:00+00:00</td>\n",
       "      <td>321488</td>\n",
       "      <td>Virignia</td>\n",
       "    </tr>\n",
       "    <tr>\n",
       "      <th>3</th>\n",
       "      <td>2021-11-05 00:00:00+00:00</td>\n",
       "      <td>2021-11-06 00:00:00+00:00</td>\n",
       "      <td>159428</td>\n",
       "      <td>Virignia</td>\n",
       "    </tr>\n",
       "    <tr>\n",
       "      <th>4</th>\n",
       "      <td>2021-11-06 00:00:00+00:00</td>\n",
       "      <td>2021-11-07 00:00:00+00:00</td>\n",
       "      <td>99062</td>\n",
       "      <td>Virignia</td>\n",
       "    </tr>\n",
       "    <tr>\n",
       "      <th>5</th>\n",
       "      <td>2021-11-07 00:00:00+00:00</td>\n",
       "      <td>2021-11-08 00:00:00+00:00</td>\n",
       "      <td>58689</td>\n",
       "      <td>Virignia</td>\n",
       "    </tr>\n",
       "    <tr>\n",
       "      <th>6</th>\n",
       "      <td>2021-11-08 00:00:00+00:00</td>\n",
       "      <td>2021-11-09 00:00:00+00:00</td>\n",
       "      <td>72148</td>\n",
       "      <td>Virignia</td>\n",
       "    </tr>\n",
       "    <tr>\n",
       "      <th>7</th>\n",
       "      <td>2021-11-09 00:00:00+00:00</td>\n",
       "      <td>2021-11-09 08:23:52+00:00</td>\n",
       "      <td>19639</td>\n",
       "      <td>Virignia</td>\n",
       "    </tr>\n",
       "    <tr>\n",
       "      <th>0</th>\n",
       "      <td>2021-11-02 08:45:32+00:00</td>\n",
       "      <td>2021-11-03 00:00:00+00:00</td>\n",
       "      <td>114002</td>\n",
       "      <td>Texas</td>\n",
       "    </tr>\n",
       "    <tr>\n",
       "      <th>1</th>\n",
       "      <td>2021-11-03 00:00:00+00:00</td>\n",
       "      <td>2021-11-04 00:00:00+00:00</td>\n",
       "      <td>152682</td>\n",
       "      <td>Texas</td>\n",
       "    </tr>\n",
       "    <tr>\n",
       "      <th>2</th>\n",
       "      <td>2021-11-04 00:00:00+00:00</td>\n",
       "      <td>2021-11-05 00:00:00+00:00</td>\n",
       "      <td>127787</td>\n",
       "      <td>Texas</td>\n",
       "    </tr>\n",
       "    <tr>\n",
       "      <th>3</th>\n",
       "      <td>2021-11-05 00:00:00+00:00</td>\n",
       "      <td>2021-11-06 00:00:00+00:00</td>\n",
       "      <td>112297</td>\n",
       "      <td>Texas</td>\n",
       "    </tr>\n",
       "    <tr>\n",
       "      <th>4</th>\n",
       "      <td>2021-11-06 00:00:00+00:00</td>\n",
       "      <td>2021-11-07 00:00:00+00:00</td>\n",
       "      <td>141573</td>\n",
       "      <td>Texas</td>\n",
       "    </tr>\n",
       "    <tr>\n",
       "      <th>5</th>\n",
       "      <td>2021-11-07 00:00:00+00:00</td>\n",
       "      <td>2021-11-08 00:00:00+00:00</td>\n",
       "      <td>127473</td>\n",
       "      <td>Texas</td>\n",
       "    </tr>\n",
       "    <tr>\n",
       "      <th>6</th>\n",
       "      <td>2021-11-08 00:00:00+00:00</td>\n",
       "      <td>2021-11-09 00:00:00+00:00</td>\n",
       "      <td>153243</td>\n",
       "      <td>Texas</td>\n",
       "    </tr>\n",
       "    <tr>\n",
       "      <th>7</th>\n",
       "      <td>2021-11-09 00:00:00+00:00</td>\n",
       "      <td>2021-11-09 08:45:32+00:00</td>\n",
       "      <td>44424</td>\n",
       "      <td>Texas</td>\n",
       "    </tr>\n",
       "  </tbody>\n",
       "</table>\n",
       "</div>"
      ],
      "text/plain": [
       "                      start                       end  day_count   Subject\n",
       "0 2021-11-02 08:23:52+00:00 2021-11-03 00:00:00+00:00     407015  Virignia\n",
       "1 2021-11-03 00:00:00+00:00 2021-11-04 00:00:00+00:00    1231983  Virignia\n",
       "2 2021-11-04 00:00:00+00:00 2021-11-05 00:00:00+00:00     321488  Virignia\n",
       "3 2021-11-05 00:00:00+00:00 2021-11-06 00:00:00+00:00     159428  Virignia\n",
       "4 2021-11-06 00:00:00+00:00 2021-11-07 00:00:00+00:00      99062  Virignia\n",
       "5 2021-11-07 00:00:00+00:00 2021-11-08 00:00:00+00:00      58689  Virignia\n",
       "6 2021-11-08 00:00:00+00:00 2021-11-09 00:00:00+00:00      72148  Virignia\n",
       "7 2021-11-09 00:00:00+00:00 2021-11-09 08:23:52+00:00      19639  Virignia\n",
       "0 2021-11-02 08:45:32+00:00 2021-11-03 00:00:00+00:00     114002     Texas\n",
       "1 2021-11-03 00:00:00+00:00 2021-11-04 00:00:00+00:00     152682     Texas\n",
       "2 2021-11-04 00:00:00+00:00 2021-11-05 00:00:00+00:00     127787     Texas\n",
       "3 2021-11-05 00:00:00+00:00 2021-11-06 00:00:00+00:00     112297     Texas\n",
       "4 2021-11-06 00:00:00+00:00 2021-11-07 00:00:00+00:00     141573     Texas\n",
       "5 2021-11-07 00:00:00+00:00 2021-11-08 00:00:00+00:00     127473     Texas\n",
       "6 2021-11-08 00:00:00+00:00 2021-11-09 00:00:00+00:00     153243     Texas\n",
       "7 2021-11-09 00:00:00+00:00 2021-11-09 08:45:32+00:00      44424     Texas"
      ]
     },
     "execution_count": 65,
     "metadata": {},
     "output_type": "execute_result"
    }
   ],
   "source": [
    "df"
   ]
  },
  {
   "cell_type": "code",
   "execution_count": 64,
   "id": "3fe86619-f50b-4971-b8b5-10c5f1e5611d",
   "metadata": {},
   "outputs": [
    {
     "data": {
      "text/html": [
       "<iframe\n",
       "    scrolling=\"no\"\n",
       "    width=\"100%\"\n",
       "    height=\"545px\"\n",
       "    src=\"iframe_figures/figure_64.html\"\n",
       "    frameborder=\"0\"\n",
       "    allowfullscreen\n",
       "></iframe>\n"
      ]
     },
     "metadata": {},
     "output_type": "display_data"
    }
   ],
   "source": [
    "px.line(df, x='start', y='day_count', color= 'Subject',\n",
    "        \n",
    "    labels={'start': 'Time', 'day_count': 'Tweets per Day'}, title = 'Virgina v Texas Tweets')"
   ]
  }
 ],
 "metadata": {
  "kernelspec": {
   "display_name": "Python 3",
   "language": "python",
   "name": "python3"
  },
  "language_info": {
   "codemirror_mode": {
    "name": "ipython",
    "version": 3
   },
   "file_extension": ".py",
   "mimetype": "text/x-python",
   "name": "python",
   "nbconvert_exporter": "python",
   "pygments_lexer": "ipython3",
   "version": "3.8.8"
  }
 },
 "nbformat": 4,
 "nbformat_minor": 5
}
