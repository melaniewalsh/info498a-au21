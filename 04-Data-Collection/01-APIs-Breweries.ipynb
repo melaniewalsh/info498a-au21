{
 "cells": [
  {
   "cell_type": "markdown",
   "metadata": {},
   "source": [
    "# APIs — Breweries and Making Requests"
   ]
  },
  {
   "cell_type": "markdown",
   "metadata": {},
   "source": [
    "In this notebook, we will explore how to make simple API requests."
   ]
  },
  {
   "cell_type": "code",
   "execution_count": 1,
   "metadata": {},
   "outputs": [],
   "source": [
    "import requests\n",
    "import pandas as pd\n",
    "pd.options.display.max_rows = 100\n",
    "pd.options.display.max_colwidth = 100"
   ]
  },
  {
   "cell_type": "markdown",
   "metadata": {},
   "source": [
    "## Open Brewery Database"
   ]
  },
  {
   "cell_type": "markdown",
   "metadata": {},
   "source": [
    "https://api.openbrewerydb.org"
   ]
  },
  {
   "cell_type": "markdown",
   "metadata": {},
   "source": [
    "Open Brewery Database API Endpoints:  \n",
    "   - List Breweries  \n",
    "   - Get Brewery  \n",
    "   - Search Breweries  \n",
    "   - Autocomplete  \n"
   ]
  },
  {
   "cell_type": "markdown",
   "metadata": {},
   "source": [
    "## List Breweries"
   ]
  },
  {
   "cell_type": "markdown",
   "metadata": {},
   "source": [
    "https://api.openbrewerydb.org/breweries"
   ]
  },
  {
   "cell_type": "code",
   "execution_count": 2,
   "metadata": {},
   "outputs": [],
   "source": [
    "response = requests.get(\"https://api.openbrewerydb.org/breweries\")"
   ]
  },
  {
   "cell_type": "code",
   "execution_count": 3,
   "metadata": {
    "scrolled": true,
    "tags": []
   },
   "outputs": [
    {
     "data": {
      "text/plain": [
       "[{'id': '10-56-brewing-company-knox',\n",
       "  'name': '10-56 Brewing Company',\n",
       "  'brewery_type': 'micro',\n",
       "  'street': '400 Brown Cir',\n",
       "  'address_2': None,\n",
       "  'address_3': None,\n",
       "  'city': 'Knox',\n",
       "  'state': 'Indiana',\n",
       "  'county_province': None,\n",
       "  'postal_code': '46534',\n",
       "  'country': 'United States',\n",
       "  'longitude': '-86.627954',\n",
       "  'latitude': '41.289715',\n",
       "  'phone': '6308165790',\n",
       "  'website_url': None,\n",
       "  'updated_at': '2021-10-23T02:24:55.243Z',\n",
       "  'created_at': '2021-10-23T02:24:55.243Z'},\n",
       " {'id': '10-barrel-brewing-co-bend-1',\n",
       "  'name': '10 Barrel Brewing Co',\n",
       "  'brewery_type': 'large',\n",
       "  'street': '62970 18th St',\n",
       "  'address_2': None,\n",
       "  'address_3': None,\n",
       "  'city': 'Bend',\n",
       "  'state': 'Oregon',\n",
       "  'county_province': None,\n",
       "  'postal_code': '97701-9847',\n",
       "  'country': 'United States',\n",
       "  'longitude': None,\n",
       "  'latitude': None,\n",
       "  'phone': '5415851007',\n",
       "  'website_url': 'http://www.10barrel.com',\n",
       "  'updated_at': '2021-10-23T02:24:55.243Z',\n",
       "  'created_at': '2021-10-23T02:24:55.243Z'},\n",
       " {'id': '10-barrel-brewing-co-bend-2',\n",
       "  'name': '10 Barrel Brewing Co',\n",
       "  'brewery_type': 'large',\n",
       "  'street': '1135 NW Galveston Ave Ste B',\n",
       "  'address_2': None,\n",
       "  'address_3': None,\n",
       "  'city': 'Bend',\n",
       "  'state': 'Oregon',\n",
       "  'county_province': None,\n",
       "  'postal_code': '97703-2465',\n",
       "  'country': 'United States',\n",
       "  'longitude': None,\n",
       "  'latitude': None,\n",
       "  'phone': '5415851007',\n",
       "  'website_url': None,\n",
       "  'updated_at': '2021-10-23T02:24:55.243Z',\n",
       "  'created_at': '2021-10-23T02:24:55.243Z'},\n",
       " {'id': '10-barrel-brewing-co-bend-pub-bend',\n",
       "  'name': '10 Barrel Brewing Co - Bend Pub',\n",
       "  'brewery_type': 'large',\n",
       "  'street': '62950 NE 18th St',\n",
       "  'address_2': None,\n",
       "  'address_3': None,\n",
       "  'city': 'Bend',\n",
       "  'state': 'Oregon',\n",
       "  'county_province': None,\n",
       "  'postal_code': '97701',\n",
       "  'country': 'United States',\n",
       "  'longitude': '-121.2809536',\n",
       "  'latitude': '44.0912109',\n",
       "  'phone': '5415851007',\n",
       "  'website_url': None,\n",
       "  'updated_at': '2021-10-23T02:24:55.243Z',\n",
       "  'created_at': '2021-10-23T02:24:55.243Z'},\n",
       " {'id': '10-barrel-brewing-co-boise-boise',\n",
       "  'name': '10 Barrel Brewing Co - Boise',\n",
       "  'brewery_type': 'large',\n",
       "  'street': '826 W Bannock St',\n",
       "  'address_2': None,\n",
       "  'address_3': None,\n",
       "  'city': 'Boise',\n",
       "  'state': 'Idaho',\n",
       "  'county_province': None,\n",
       "  'postal_code': '83702-5857',\n",
       "  'country': 'United States',\n",
       "  'longitude': '-116.202929',\n",
       "  'latitude': '43.618516',\n",
       "  'phone': '2083445870',\n",
       "  'website_url': 'http://www.10barrel.com',\n",
       "  'updated_at': '2021-10-23T02:24:55.243Z',\n",
       "  'created_at': '2021-10-23T02:24:55.243Z'},\n",
       " {'id': '10-barrel-brewing-co-denver-denver',\n",
       "  'name': '10 Barrel Brewing Co - Denver',\n",
       "  'brewery_type': 'large',\n",
       "  'street': '2620 Walnut St',\n",
       "  'address_2': None,\n",
       "  'address_3': None,\n",
       "  'city': 'Denver',\n",
       "  'state': 'Colorado',\n",
       "  'county_province': None,\n",
       "  'postal_code': '80205-2231',\n",
       "  'country': 'United States',\n",
       "  'longitude': '-104.9853655',\n",
       "  'latitude': '39.7592508',\n",
       "  'phone': '7205738992',\n",
       "  'website_url': None,\n",
       "  'updated_at': '2021-10-23T02:24:55.243Z',\n",
       "  'created_at': '2021-10-23T02:24:55.243Z'},\n",
       " {'id': '10-barrel-brewing-co-portland',\n",
       "  'name': '10 Barrel Brewing Co',\n",
       "  'brewery_type': 'large',\n",
       "  'street': '1411 NW Flanders St',\n",
       "  'address_2': None,\n",
       "  'address_3': None,\n",
       "  'city': 'Portland',\n",
       "  'state': 'Oregon',\n",
       "  'county_province': None,\n",
       "  'postal_code': '97209-2620',\n",
       "  'country': 'United States',\n",
       "  'longitude': '-122.6855056',\n",
       "  'latitude': '45.5259786',\n",
       "  'phone': '5032241700',\n",
       "  'website_url': 'http://www.10barrel.com',\n",
       "  'updated_at': '2021-10-23T02:24:55.243Z',\n",
       "  'created_at': '2021-10-23T02:24:55.243Z'},\n",
       " {'id': '10-barrel-brewing-co-san-diego',\n",
       "  'name': '10 Barrel Brewing Co',\n",
       "  'brewery_type': 'large',\n",
       "  'street': '1501 E St',\n",
       "  'address_2': None,\n",
       "  'address_3': None,\n",
       "  'city': 'San Diego',\n",
       "  'state': 'California',\n",
       "  'county_province': None,\n",
       "  'postal_code': '92101-6618',\n",
       "  'country': 'United States',\n",
       "  'longitude': '-117.129593',\n",
       "  'latitude': '32.714813',\n",
       "  'phone': '6195782311',\n",
       "  'website_url': 'http://10barrel.com',\n",
       "  'updated_at': '2021-10-23T02:24:55.243Z',\n",
       "  'created_at': '2021-10-23T02:24:55.243Z'},\n",
       " {'id': '10-torr-distilling-and-brewing-reno',\n",
       "  'name': '10 Torr Distilling and Brewing',\n",
       "  'brewery_type': 'micro',\n",
       "  'street': '490 Mill St',\n",
       "  'address_2': None,\n",
       "  'address_3': None,\n",
       "  'city': 'Reno',\n",
       "  'state': 'Nevada',\n",
       "  'county_province': None,\n",
       "  'postal_code': '89502',\n",
       "  'country': 'United States',\n",
       "  'longitude': '-119.7732015',\n",
       "  'latitude': '39.5171702',\n",
       "  'phone': '7755307014',\n",
       "  'website_url': 'http://www.10torr.com',\n",
       "  'updated_at': '2021-10-23T02:24:55.243Z',\n",
       "  'created_at': '2021-10-23T02:24:55.243Z'},\n",
       " {'id': '101-brewery-quilcene',\n",
       "  'name': '101 Brewery',\n",
       "  'brewery_type': 'brewpub',\n",
       "  'street': '294793 US Highway 101',\n",
       "  'address_2': None,\n",
       "  'address_3': None,\n",
       "  'city': 'Quilcene',\n",
       "  'state': 'Washington',\n",
       "  'county_province': None,\n",
       "  'postal_code': '98376-9000',\n",
       "  'country': 'United States',\n",
       "  'longitude': '-122.87558226136872',\n",
       "  'latitude': '47.823475773720666',\n",
       "  'phone': '3607656485',\n",
       "  'website_url': 'http://www.101brewery.com',\n",
       "  'updated_at': '2021-10-23T02:24:55.243Z',\n",
       "  'created_at': '2021-10-23T02:24:55.243Z'},\n",
       " {'id': '101-north-brewing-company-petaluma',\n",
       "  'name': '101 North Brewing Company',\n",
       "  'brewery_type': 'micro',\n",
       "  'street': '1304 Scott St Ste D',\n",
       "  'address_2': None,\n",
       "  'address_3': None,\n",
       "  'city': 'Petaluma',\n",
       "  'state': 'California',\n",
       "  'county_province': None,\n",
       "  'postal_code': '94954-7100',\n",
       "  'country': 'United States',\n",
       "  'longitude': None,\n",
       "  'latitude': None,\n",
       "  'phone': '7077534934',\n",
       "  'website_url': 'http://www.101northbeer.com',\n",
       "  'updated_at': '2021-10-23T02:24:55.243Z',\n",
       "  'created_at': '2021-10-23T02:24:55.243Z'},\n",
       " {'id': '105-west-brewing-co-castle-rock',\n",
       "  'name': '105 West Brewing Co',\n",
       "  'brewery_type': 'micro',\n",
       "  'street': '1043 Park St',\n",
       "  'address_2': None,\n",
       "  'address_3': None,\n",
       "  'city': 'Castle Rock',\n",
       "  'state': 'Colorado',\n",
       "  'county_province': None,\n",
       "  'postal_code': '80109-1585',\n",
       "  'country': 'United States',\n",
       "  'longitude': '-104.8667206',\n",
       "  'latitude': '39.38269495',\n",
       "  'phone': '3033257321',\n",
       "  'website_url': 'http://www.105westbrewing.com',\n",
       "  'updated_at': '2021-10-23T02:24:55.243Z',\n",
       "  'created_at': '2021-10-23T02:24:55.243Z'},\n",
       " {'id': '10k-brewing-anoka',\n",
       "  'name': '10K Brewing',\n",
       "  'brewery_type': 'micro',\n",
       "  'street': '2005 2nd Ave',\n",
       "  'address_2': None,\n",
       "  'address_3': None,\n",
       "  'city': 'Anoka',\n",
       "  'state': 'Minnesota',\n",
       "  'county_province': None,\n",
       "  'postal_code': '55303-2243',\n",
       "  'country': 'United States',\n",
       "  'longitude': '-93.38952559',\n",
       "  'latitude': '45.19812039',\n",
       "  'phone': '7633924753',\n",
       "  'website_url': 'http://10KBrew.com',\n",
       "  'updated_at': '2021-10-23T02:24:55.243Z',\n",
       "  'created_at': '2021-10-23T02:24:55.243Z'},\n",
       " {'id': '10th-district-brewing-company-abington',\n",
       "  'name': '10th District Brewing Company',\n",
       "  'brewery_type': 'micro',\n",
       "  'street': '491 Washington St',\n",
       "  'address_2': None,\n",
       "  'address_3': None,\n",
       "  'city': 'Abington',\n",
       "  'state': 'Massachusetts',\n",
       "  'county_province': None,\n",
       "  'postal_code': '02351-2419',\n",
       "  'country': 'United States',\n",
       "  'longitude': '-70.94594149',\n",
       "  'latitude': '42.10591754',\n",
       "  'phone': '7813071554',\n",
       "  'website_url': 'http://www.10thdistrictbrewing.com',\n",
       "  'updated_at': '2021-10-23T02:24:55.243Z',\n",
       "  'created_at': '2021-10-23T02:24:55.243Z'},\n",
       " {'id': '11-below-brewing-company-houston',\n",
       "  'name': '11 Below Brewing Company',\n",
       "  'brewery_type': 'micro',\n",
       "  'street': '6820 Bourgeois Rd',\n",
       "  'address_2': None,\n",
       "  'address_3': None,\n",
       "  'city': 'Houston',\n",
       "  'state': 'Texas',\n",
       "  'county_province': None,\n",
       "  'postal_code': '77066-3107',\n",
       "  'country': 'United States',\n",
       "  'longitude': '-95.5186591',\n",
       "  'latitude': '29.9515464',\n",
       "  'phone': '2814442337',\n",
       "  'website_url': 'http://www.11belowbrewing.com',\n",
       "  'updated_at': '2021-10-23T02:24:55.243Z',\n",
       "  'created_at': '2021-10-23T02:24:55.243Z'},\n",
       " {'id': '1188-brewing-co-john-day',\n",
       "  'name': '1188 Brewing Co',\n",
       "  'brewery_type': 'brewpub',\n",
       "  'street': '141 E Main St',\n",
       "  'address_2': None,\n",
       "  'address_3': None,\n",
       "  'city': 'John Day',\n",
       "  'state': 'Oregon',\n",
       "  'county_province': None,\n",
       "  'postal_code': '97845-1210',\n",
       "  'country': 'United States',\n",
       "  'longitude': '-118.9218754',\n",
       "  'latitude': '44.4146563',\n",
       "  'phone': '5415751188',\n",
       "  'website_url': 'http://www.1188brewing.com',\n",
       "  'updated_at': '2021-10-23T02:24:55.243Z',\n",
       "  'created_at': '2021-10-23T02:24:55.243Z'},\n",
       " {'id': '12-acres-brewing-company-killeshin',\n",
       "  'name': '12 Acres Brewing Company',\n",
       "  'brewery_type': 'micro',\n",
       "  'street': 'Unnamed Street',\n",
       "  'address_2': 'Clonmore',\n",
       "  'address_3': None,\n",
       "  'city': 'Killeshin',\n",
       "  'state': None,\n",
       "  'county_province': 'Laois',\n",
       "  'postal_code': 'R93 X3X8',\n",
       "  'country': 'Ireland',\n",
       "  'longitude': '-6.979343891',\n",
       "  'latitude': '52.84930763',\n",
       "  'phone': '3.53599E+11',\n",
       "  'website_url': 'https://12acresbrewing.ie/',\n",
       "  'updated_at': '2021-10-23T02:24:55.243Z',\n",
       "  'created_at': '2021-10-23T02:24:55.243Z'},\n",
       " {'id': '12-gates-brewing-company-williamsville',\n",
       "  'name': '12 Gates Brewing Company',\n",
       "  'brewery_type': 'brewpub',\n",
       "  'street': '80 Earhart Dr Ste 20',\n",
       "  'address_2': None,\n",
       "  'address_3': None,\n",
       "  'city': 'Williamsville',\n",
       "  'state': 'New York',\n",
       "  'county_province': None,\n",
       "  'postal_code': '14221-7804',\n",
       "  'country': 'United States',\n",
       "  'longitude': None,\n",
       "  'latitude': None,\n",
       "  'phone': '7169066600',\n",
       "  'website_url': 'http://www.12gatesbrewing.com',\n",
       "  'updated_at': '2021-10-23T02:24:55.243Z',\n",
       "  'created_at': '2021-10-23T02:24:55.243Z'},\n",
       " {'id': '12-west-brewing-company-gilbert',\n",
       "  'name': '12 West Brewing Company',\n",
       "  'brewery_type': 'micro',\n",
       "  'street': '3000 E Ray Rd Bldg 6',\n",
       "  'address_2': None,\n",
       "  'address_3': None,\n",
       "  'city': 'Gilbert',\n",
       "  'state': 'Arizona',\n",
       "  'county_province': None,\n",
       "  'postal_code': '85296-7832',\n",
       "  'country': 'United States',\n",
       "  'longitude': None,\n",
       "  'latitude': None,\n",
       "  'phone': '6023395014',\n",
       "  'website_url': 'http://www.12westbrewing.com',\n",
       "  'updated_at': '2021-10-23T02:24:55.243Z',\n",
       "  'created_at': '2021-10-23T02:24:55.243Z'},\n",
       " {'id': '12-west-brewing-company-production-facility-mesa',\n",
       "  'name': '12 West Brewing Company - Production Facility',\n",
       "  'brewery_type': 'micro',\n",
       "  'street': None,\n",
       "  'address_2': None,\n",
       "  'address_3': None,\n",
       "  'city': 'Mesa',\n",
       "  'state': 'Arizona',\n",
       "  'county_province': None,\n",
       "  'postal_code': '85207',\n",
       "  'country': 'United States',\n",
       "  'longitude': '-111.5860662',\n",
       "  'latitude': '33.436188',\n",
       "  'phone': None,\n",
       "  'website_url': None,\n",
       "  'updated_at': '2021-10-23T02:24:55.243Z',\n",
       "  'created_at': '2021-10-23T02:24:55.243Z'}]"
      ]
     },
     "execution_count": 3,
     "metadata": {},
     "output_type": "execute_result"
    }
   ],
   "source": [
    "response.json()"
   ]
  },
  {
   "cell_type": "code",
   "execution_count": null,
   "metadata": {},
   "outputs": [],
   "source": [
    "json = response.json()"
   ]
  },
  {
   "cell_type": "code",
   "execution_count": null,
   "metadata": {},
   "outputs": [],
   "source": [
    "pd.json_normalize(json)"
   ]
  },
  {
   "cell_type": "markdown",
   "metadata": {},
   "source": [
    "## List Breweries Paramaters"
   ]
  },
  {
   "cell_type": "markdown",
   "metadata": {},
   "source": [
    "- by_city\n",
    "- by_name\n",
    "- by_state\n",
    "- by_postal\n",
    "- by_type\n",
    "- page\n",
    "- per_page\n",
    "- sort"
   ]
  },
  {
   "cell_type": "markdown",
   "metadata": {},
   "source": [
    "### By City"
   ]
  },
  {
   "cell_type": "markdown",
   "metadata": {},
   "source": [
    "https://api.openbrewerydb.org/breweries?by_city=Seattle"
   ]
  },
  {
   "cell_type": "code",
   "execution_count": null,
   "metadata": {},
   "outputs": [],
   "source": [
    "city = 'Seattle'"
   ]
  },
  {
   "cell_type": "code",
   "execution_count": null,
   "metadata": {},
   "outputs": [],
   "source": [
    "response = requests.get(f\"https://api.openbrewerydb.org/breweries?by_city={city}&per_page=50\")\n",
    "json = response.json()"
   ]
  },
  {
   "cell_type": "code",
   "execution_count": null,
   "metadata": {},
   "outputs": [],
   "source": [
    "pd.json_normalize(json)"
   ]
  },
  {
   "cell_type": "markdown",
   "metadata": {},
   "source": [
    "## By Type"
   ]
  },
  {
   "cell_type": "markdown",
   "metadata": {},
   "source": [
    "https://api.openbrewerydb.org/breweries?by_city=Ithaca&by_type=micro"
   ]
  },
  {
   "cell_type": "code",
   "execution_count": null,
   "metadata": {},
   "outputs": [],
   "source": [
    "city = 'Seattle'\n",
    "brew_type = 'large'"
   ]
  },
  {
   "cell_type": "code",
   "execution_count": null,
   "metadata": {},
   "outputs": [],
   "source": [
    "response = requests.get(f\"https://api.openbrewerydb.org/breweries?by_city={city}&by_type={brew_type}\")\n",
    "json = response.json()"
   ]
  },
  {
   "cell_type": "code",
   "execution_count": null,
   "metadata": {},
   "outputs": [],
   "source": [
    "pd.json_normalize(json)"
   ]
  },
  {
   "cell_type": "markdown",
   "metadata": {},
   "source": [
    "## Search Breweries"
   ]
  },
  {
   "cell_type": "markdown",
   "metadata": {},
   "source": [
    "https://api.openbrewerydb.org/breweries/search?query=dog\n",
    "\n"
   ]
  },
  {
   "cell_type": "code",
   "execution_count": null,
   "metadata": {},
   "outputs": [],
   "source": [
    "query = 'four'"
   ]
  },
  {
   "cell_type": "code",
   "execution_count": null,
   "metadata": {},
   "outputs": [],
   "source": [
    "response = requests.get(f\"https://api.openbrewerydb.org/breweries/search?query={query}\")\n",
    "json = response.json()"
   ]
  },
  {
   "cell_type": "code",
   "execution_count": null,
   "metadata": {
    "scrolled": true
   },
   "outputs": [],
   "source": [
    "pd.json_normalize(json)"
   ]
  },
  {
   "cell_type": "markdown",
   "metadata": {},
   "source": [
    "### Your Turn!"
   ]
  },
  {
   "cell_type": "markdown",
   "metadata": {},
   "source": [
    "Search for your own keyword by changing the `query` variable above! Or create your own API request entirely.\n",
    "\n",
    "**Discuss**: What kind of projects or research questions do you think you (or someone else) could do with data from the Open Brewery Database API?"
   ]
  }
 ],
 "metadata": {
  "kernelspec": {
   "display_name": "Python 3",
   "language": "python",
   "name": "python3"
  },
  "language_info": {
   "codemirror_mode": {
    "name": "ipython",
    "version": 3
   },
   "file_extension": ".py",
   "mimetype": "text/x-python",
   "name": "python",
   "nbconvert_exporter": "python",
   "pygments_lexer": "ipython3",
   "version": "3.8.8"
  }
 },
 "nbformat": 4,
 "nbformat_minor": 4
}
