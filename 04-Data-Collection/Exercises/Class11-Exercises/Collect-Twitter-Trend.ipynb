{
 "cells": [
  {
   "cell_type": "markdown",
   "id": "ba99d1c8-2674-41c6-8d52-1e6e28fa91d5",
   "metadata": {},
   "source": [
    "# Collect Tweets for a Twitter Trend"
   ]
  },
  {
   "cell_type": "markdown",
   "id": "9eb70d2c-4dcb-43db-9019-9003634421f8",
   "metadata": {},
   "source": [
    "If you haven't done so already, you need to open a Terminal and type `twarc2 configure`, then enter your bearer token"
   ]
  },
  {
   "cell_type": "raw",
   "id": "551b80dc-84e5-4793-96d7-f788adeb00e2",
   "metadata": {},
   "source": [
    "twarc2 configure"
   ]
  },
  {
   "cell_type": "markdown",
   "id": "9b3426d5-70cf-4e48-80db-740d20273506",
   "metadata": {},
   "source": [
    "To collect tweets from the past week, we can use [`twarc2 counts`](https://twarc-project.readthedocs.io/en/latest/twarc2/#counts) followed by a search query.\n",
    "      "
   ]
  },
  {
   "cell_type": "markdown",
   "id": "e3a48126-2ab3-45ab-85b8-628b73a2f06e",
   "metadata": {},
   "source": [
    "## Get Tweets (Standard Track)"
   ]
  },
  {
   "cell_type": "markdown",
   "id": "3d3b9eb0-96d5-4d2d-8330-7054887eb960",
   "metadata": {},
   "source": [
    "To actually collect tweets and their associated metadata, we can use the command `twarc2 search` and insert a query. By default, `twarc2 search` will use the standard track of the Twitter API, which only collects tweets from the past week."
   ]
  },
  {
   "cell_type": "code",
   "execution_count": null,
   "id": "b196b294-0219-49b9-934c-ae9ca508e155",
   "metadata": {},
   "outputs": [],
   "source": [
    "!twarc2 search --limit 1000 \"University of Washington\" > tweets.jsonl"
   ]
  },
  {
   "cell_type": "markdown",
   "id": "bb5758b1-bc4e-45a8-8c56-9d651bd5ed6d",
   "metadata": {},
   "source": [
    "## Convert JSONL to CSV"
   ]
  },
  {
   "cell_type": "markdown",
   "id": "24ea1b64-7c37-4c04-b92c-6f97f1512a6b",
   "metadata": {},
   "source": [
    "To make our Twitter data easier to work with, we can convert our JSONL file to a CSV file with the [`twarc-csv`](https://pypi.org/project/twarc-csv/) plugin, which needs to be installed separately."
   ]
  },
  {
   "cell_type": "code",
   "execution_count": null,
   "id": "b615bff3-50ed-4133-bc30-d14b7e0659c7",
   "metadata": {},
   "outputs": [],
   "source": [
    "!pip install twarc-csv"
   ]
  },
  {
   "cell_type": "markdown",
   "id": "50db9185-eefa-4552-8b6c-354659604e02",
   "metadata": {},
   "source": [
    "Once installed, we can use the plug-in from twarc2 with the input filename for the JSONL and a desired output filename for the CSV file."
   ]
  },
  {
   "cell_type": "code",
   "execution_count": null,
   "id": "5db3e2f1-41d7-4015-a716-a7a8f6c20695",
   "metadata": {},
   "outputs": [],
   "source": [
    "!twarc2 csv tweets.jsonl > tweets.csv"
   ]
  },
  {
   "cell_type": "markdown",
   "id": "d86a7e46-a924-4288-ad97-5bb56a2284aa",
   "metadata": {},
   "source": [
    "## Read in CSV"
   ]
  },
  {
   "cell_type": "markdown",
   "id": "f27e7568-728a-493a-812f-8df96edfcb55",
   "metadata": {},
   "source": [
    "Now we're ready to explore the data!\n",
    "\n",
    "To work with our tweet data, we can read in our CSV file with pandas and again parse the date column."
   ]
  },
  {
   "cell_type": "code",
   "execution_count": 11,
   "id": "d6917690-91c0-41f1-bf73-7393f998a69f",
   "metadata": {},
   "outputs": [],
   "source": [
    "import pandas as pd\n",
    "pd.options.display.max_colwidth = 400"
   ]
  },
  {
   "cell_type": "code",
   "execution_count": null,
   "id": "14669a94-8d0b-4c9f-b03b-888cdd75d1c9",
   "metadata": {},
   "outputs": [],
   "source": [
    "tweets_df = pd.read_csv('tweets.csv',\n",
    "                        parse_dates = ['created_at'])"
   ]
  },
  {
   "cell_type": "code",
   "execution_count": null,
   "id": "42ffeb18-a826-4794-bcbd-175b4e3400c2",
   "metadata": {
    "scrolled": true,
    "tags": [
     "output_scroll",
     "full-width"
    ]
   },
   "outputs": [],
   "source": [
    "tweets_df"
   ]
  },
  {
   "cell_type": "markdown",
   "id": "3e8802bc-d25e-44aa-be8f-a15618f7e0f8",
   "metadata": {},
   "source": [
    "If we ask for a list of all the columns in the DataFrame, we can see that there are more than 90 columns here!"
   ]
  },
  {
   "cell_type": "code",
   "execution_count": null,
   "id": "f84f836c-06ec-4172-8566-7f8a5eb297bd",
   "metadata": {
    "scrolled": true,
    "tags": [
     "output_scroll"
    ]
   },
   "outputs": [],
   "source": [
    "tweets_df.columns"
   ]
  },
  {
   "cell_type": "markdown",
   "id": "1bafa5d0-e018-4a9a-82f4-7a9215e815f6",
   "metadata": {},
   "source": [
    "## Rename and Select Columns"
   ]
  },
  {
   "cell_type": "markdown",
   "id": "f219dc08-0511-4f41-aeae-4e5fdd505636",
   "metadata": {},
   "source": [
    "To make the data more readable, we're going to rename a number of columns."
   ]
  },
  {
   "cell_type": "code",
   "execution_count": null,
   "id": "09d1ba93-1333-4ede-9a10-42e6d0beab7c",
   "metadata": {
    "scrolled": true,
    "tags": []
   },
   "outputs": [],
   "source": [
    "tweets_df = tweets_df.rename(columns={'created_at': 'date',\n",
    "                          'public_metrics.retweet_count': 'retweets', \n",
    "                          'author.username': 'username', \n",
    "                          'author.name': 'name',\n",
    "                          'author.verified': 'verified', \n",
    "                          'public_metrics.like_count': 'likes', \n",
    "                          'public_metrics.quote_count': 'quotes', \n",
    "                          'public_metrics.reply_count': 'replies',\n",
    "                           'author.description': 'user_bio'})"
   ]
  },
  {
   "cell_type": "markdown",
   "id": "389dce67-f919-4ebd-a2b1-2498f00139ab",
   "metadata": {},
   "source": [
    "Then we're only going to select the columns that we're interested. Depending on your project and research question, you should change and customize these categories."
   ]
  },
  {
   "cell_type": "code",
   "execution_count": null,
   "id": "181dd52b-9b2c-4025-b5ef-e1862b62f32d",
   "metadata": {},
   "outputs": [],
   "source": [
    "tweets_df = tweets_df[['date', 'username', 'name', 'verified', 'text', 'retweets',\n",
    "            'likes', 'replies',  'quotes', 'user_bio']]"
   ]
  },
  {
   "cell_type": "markdown",
   "id": "29db2477-98fb-4cba-b6be-b957138775ab",
   "metadata": {},
   "source": [
    "Now we can view our more focused DataFrame!"
   ]
  },
  {
   "cell_type": "code",
   "execution_count": null,
   "id": "ef1cf354-76b8-4e7e-a450-6096b8b5bac5",
   "metadata": {
    "scrolled": true,
    "tags": [
     "output_scroll"
    ]
   },
   "outputs": [],
   "source": [
    "tweets_df"
   ]
  },
  {
   "cell_type": "markdown",
   "id": "3c5c049f-fc63-40be-9de5-ebc71a0d5746",
   "metadata": {},
   "source": [
    "# Collect Tweets for Your Twitter Trend!"
   ]
  },
  {
   "cell_type": "markdown",
   "id": "6e05f991-5341-47da-9dc1-c316697061f8",
   "metadata": {},
   "source": [
    "With your group, try to answer the following questions:\n",
    "\n",
    "4. After examining the actual tweets and metadata below, were you collecting the tweets that you thought you were collecting in the previous exercise (getting tweet counts)?\n",
    "\n",
    "5. What does a closer analysis of the tweets show you that the tweets counts alone didn't show you?\n",
    "\n",
    "6. What other steps or analysis would you be interested in pursuing from here?"
   ]
  },
  {
   "cell_type": "markdown",
   "id": "eb63cf99-5bf9-4a3d-b0f7-3ad063d8b8e4",
   "metadata": {},
   "source": [
    "Run your query, collect tweets, and transform into a DataFrame:"
   ]
  },
  {
   "cell_type": "code",
   "execution_count": null,
   "id": "8e435be8-5fd0-49c7-be00-d1e3445f74d9",
   "metadata": {},
   "outputs": [],
   "source": [
    "!twarc2 search --limit 1000 \"#Your query here\" > tweets.jsonl\n",
    "\n",
    "!twarc2 csv tweets.jsonl > tweets.csv\n",
    "tweets_df = pd.read_csv('tweets.csv',\n",
    "                        parse_dates = ['created_at'])\n",
    "tweets_df = tweets_df.rename(columns={'created_at': 'date',\n",
    "                          'public_metrics.retweet_count': 'retweets', \n",
    "                          'author.username': 'username', \n",
    "                          'author.name': 'name',\n",
    "                          'author.verified': 'verified', \n",
    "                          'public_metrics.like_count': 'likes', \n",
    "                          'public_metrics.quote_count': 'quotes', \n",
    "                          'public_metrics.reply_count': 'replies',\n",
    "                           'author.description': 'user_bio'})\n",
    "tweets_df = tweets_df[['date', 'username', 'name', 'verified', 'text', 'retweets',\n",
    "           'likes', 'replies',  'quotes', 'user_bio']]\n",
    "tweets_df"
   ]
  },
  {
   "cell_type": "markdown",
   "id": "e12fa429-9be7-46ae-bf8d-7bcf367ed5fa",
   "metadata": {},
   "source": [
    "## Sort By Top Retweets"
   ]
  },
  {
   "cell_type": "markdown",
   "id": "68eedbd0-2a97-437d-873f-8d041e569bad",
   "metadata": {},
   "source": [
    "We can sort by number of retweets to see the most circulated tweets. Let's examine the top 5. The column is titled \"retweets.\""
   ]
  },
  {
   "cell_type": "code",
   "execution_count": null,
   "id": "66c504d8-1188-4c6c-a54e-97ff99531146",
   "metadata": {
    "scrolled": true,
    "tags": [
     "full-width"
    ]
   },
   "outputs": [],
   "source": [
    "# Sort top 5 tweets"
   ]
  },
  {
   "cell_type": "markdown",
   "id": "73b72fe0-3537-4869-98cc-00ece5fc06bc",
   "metadata": {},
   "source": [
    "## Sort By Date"
   ]
  },
  {
   "cell_type": "markdown",
   "id": "aac6d72c-a475-4d65-a1a5-e412b6117ceb",
   "metadata": {},
   "source": [
    "We can sort from the earliest tweets to the latest tweets. Let's examine the earliest 5 tweets. The column is titled \"date.\""
   ]
  },
  {
   "cell_type": "code",
   "execution_count": 53,
   "id": "5a82aed7-abb6-4bf8-89a8-3f444dcff4bb",
   "metadata": {
    "scrolled": true,
    "tags": [
     "full-width"
    ]
   },
   "outputs": [],
   "source": [
    "# Sort by top earliest tweets"
   ]
  },
  {
   "cell_type": "markdown",
   "id": "fb08f691-6b73-4338-ad9c-14e276085916",
   "metadata": {},
   "source": [
    "With your group, try to answer the following questions:\n",
    "\n",
    "4. After examining the actual tweets and metadata below, were you collecting the tweets that you thought you were collecting in the previous exercise (getting tweet counts)?\n",
    "\n",
    "5. What does a closer analysis of the tweets show you that the tweets counts alone didn't show you?\n",
    "\n",
    "6. What other steps or analysis would you be interested in pursuing from here?"
   ]
  }
 ],
 "metadata": {
  "kernelspec": {
   "display_name": "Python 3",
   "language": "python",
   "name": "python3"
  },
  "language_info": {
   "codemirror_mode": {
    "name": "ipython",
    "version": 3
   },
   "file_extension": ".py",
   "mimetype": "text/x-python",
   "name": "python",
   "nbconvert_exporter": "python",
   "pygments_lexer": "ipython3",
   "version": "3.8.8"
  }
 },
 "nbformat": 4,
 "nbformat_minor": 5
}
