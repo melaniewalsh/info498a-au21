{
 "cells": [
  {
   "cell_type": "markdown",
   "id": "ba99d1c8-2674-41c6-8d52-1e6e28fa91d5",
   "metadata": {},
   "source": [
    "# Explore a Twitter Trend"
   ]
  },
  {
   "cell_type": "markdown",
   "id": "9eb70d2c-4dcb-43db-9019-9003634421f8",
   "metadata": {},
   "source": [
    "If you haven't done so already, you need to open a Terminal and type `twarc2 configure`, then enter your bearer token"
   ]
  },
  {
   "cell_type": "raw",
   "id": "551b80dc-84e5-4793-96d7-f788adeb00e2",
   "metadata": {},
   "source": [
    "twarc2 configure"
   ]
  },
  {
   "cell_type": "markdown",
   "id": "9b3426d5-70cf-4e48-80db-740d20273506",
   "metadata": {},
   "source": [
    "To get tweet counts, we can use [`twarc2 counts`](https://twarc-project.readthedocs.io/en/latest/twarc2/#counts) followed by a search query.\n",
    "\n",
    "\n",
    "\n",
    "| Search Operator             | Explanation                                                                                                                                                                                                                                                                                                                                                                                                                                         |\n",
    "|:--------------------:|:----------------------------------------------------------------------------------------------:|\n",
    "| keyword              | Matches a keyword within the body of a Tweet. `so sweet and so cold`                                                                                          \n",
    "| \"exact phrase match\" | Matches the exact phrase within the body of a Tweet. `\"so sweet and so cold\" OR \"plums in the icebox\"`                                                                                              |\n",
    "| - | Do NOT match a keyword or operator `baldwin -alec`, `walt whitman -bridge`                                                                                              |\n",
    "| #                    | Matches any Tweet containing a recognized hashtag `#arthistory`        |                                                                             |\n",
    "| from:, to:                | Matches any Tweet from or to a specific user. `from:KingJames` `to:KingJames`                                                                    |                                                                                                            |\n",
    "| place:               | Matches Tweets tagged with the specified location or Twitter place ID. `place:\"new york city\" OR place:seattle`                                                                                            |\n",
    "| is:reply, is:quote             | Returns only replies or quote tweets. `DFW bro is:reply` `David Foster Wallace bro is:quote`                                                                                                                               |\n",
    "| is:verified          | Returns only Tweets whose authors are verified by Twitter.`DFW bro is:verified`                                                                                                                                |\n",
    "| has:media           | Matches Tweets that contain a media object, such as a photo, GIF, or video, as determined by Twitter. `I Think You Should Leave has:media`                                                                                                                                |\n",
    "| has:images, has:videos           | Matches Tweets that contain a recognized URL to an image. `i'm gonna tell my kinds that this was has:images`                                                                                    |\n",
    "| has:geo              | Matches Tweets that have Tweet-specific geolocation data provided by the Twitter user.  `pyramids has:geo`           \n",
    "\n",
    "We will also use the flag `--csv` because we want to output the data as a CSV and the flag `--granularity day` to get tweet counts per day (other options include `hour` and `minute` — you can see more in [twarc's documentation](https://twarc-project.readthedocs.io/en/latest/twarc2/#counts)).  Finally, we write the data to a CSV file."
   ]
  },
  {
   "cell_type": "markdown",
   "id": "1efa7278-e7f9-4b11-b339-4465a6b114ab",
   "metadata": {},
   "source": [
    "## Explore a Twitter Trend of Your Own!"
   ]
  },
  {
   "cell_type": "markdown",
   "id": "150ca1f2-32c0-43dd-83b5-7cd1975086c9",
   "metadata": {},
   "source": [
    "1. With your group, come up with a question or an idea that you can explore by examining the fluctuation of tweets over the past week (October 29th - November 4th) – either by day, by hour, or by minute. Think about news events, holidays, memes, trends etc.\n",
    "\n",
    "2. Make a prediction about that trend and sketch what you think the tweets plot will look like on a piece of paper.\n",
    "\n",
    "3. Now test your hypothesis and see how it matches up with your prediction!"
   ]
  },
  {
   "cell_type": "code",
   "execution_count": 11,
   "id": "f9589799-5623-4d1a-861a-f193606ffd73",
   "metadata": {},
   "outputs": [],
   "source": [
    "import pandas as pd\n",
    "pd.options.display.max_colwidth = 400\n",
    "import plotly.express as px\n",
    "import plotly.io as pio\n",
    "pio.renderers.default='iframe'"
   ]
  },
  {
   "cell_type": "code",
   "execution_count": 74,
   "id": "bce2545a-8534-4376-b3f8-4221bbf4816a",
   "metadata": {},
   "outputs": [],
   "source": [
    "!twarc2 counts \"your query\" --csv --granularity day > tweet-counts.csv"
   ]
  },
  {
   "cell_type": "markdown",
   "id": "4d4ae791-0389-44ca-a57e-0fd89ea45a01",
   "metadata": {},
   "source": [
    "We can read in this CSV file with pandas, parse the date columns, and sort from earliest to latest. "
   ]
  },
  {
   "cell_type": "code",
   "execution_count": 75,
   "id": "f363c5b6-97cc-48e7-99b1-3d1f578af6c0",
   "metadata": {},
   "outputs": [
    {
     "data": {
      "text/html": [
       "<div>\n",
       "<style scoped>\n",
       "    .dataframe tbody tr th:only-of-type {\n",
       "        vertical-align: middle;\n",
       "    }\n",
       "\n",
       "    .dataframe tbody tr th {\n",
       "        vertical-align: top;\n",
       "    }\n",
       "\n",
       "    .dataframe thead th {\n",
       "        text-align: right;\n",
       "    }\n",
       "</style>\n",
       "<table border=\"1\" class=\"dataframe\">\n",
       "  <thead>\n",
       "    <tr style=\"text-align: right;\">\n",
       "      <th></th>\n",
       "      <th>start</th>\n",
       "      <th>end</th>\n",
       "      <th>day_count</th>\n",
       "    </tr>\n",
       "  </thead>\n",
       "  <tbody>\n",
       "    <tr>\n",
       "      <th>0</th>\n",
       "      <td>2021-10-28 01:46:42+00:00</td>\n",
       "      <td>2021-10-29 00:00:00+00:00</td>\n",
       "      <td>146527</td>\n",
       "    </tr>\n",
       "    <tr>\n",
       "      <th>1</th>\n",
       "      <td>2021-10-29 00:00:00+00:00</td>\n",
       "      <td>2021-10-30 00:00:00+00:00</td>\n",
       "      <td>264804</td>\n",
       "    </tr>\n",
       "    <tr>\n",
       "      <th>2</th>\n",
       "      <td>2021-10-30 00:00:00+00:00</td>\n",
       "      <td>2021-10-31 00:00:00+00:00</td>\n",
       "      <td>303836</td>\n",
       "    </tr>\n",
       "    <tr>\n",
       "      <th>3</th>\n",
       "      <td>2021-10-31 00:00:00+00:00</td>\n",
       "      <td>2021-11-01 00:00:00+00:00</td>\n",
       "      <td>182884</td>\n",
       "    </tr>\n",
       "    <tr>\n",
       "      <th>4</th>\n",
       "      <td>2021-11-01 00:00:00+00:00</td>\n",
       "      <td>2021-11-02 00:00:00+00:00</td>\n",
       "      <td>250908</td>\n",
       "    </tr>\n",
       "    <tr>\n",
       "      <th>5</th>\n",
       "      <td>2021-11-02 00:00:00+00:00</td>\n",
       "      <td>2021-11-03 00:00:00+00:00</td>\n",
       "      <td>519634</td>\n",
       "    </tr>\n",
       "    <tr>\n",
       "      <th>6</th>\n",
       "      <td>2021-11-03 00:00:00+00:00</td>\n",
       "      <td>2021-11-04 00:00:00+00:00</td>\n",
       "      <td>1247173</td>\n",
       "    </tr>\n",
       "    <tr>\n",
       "      <th>7</th>\n",
       "      <td>2021-11-04 00:00:00+00:00</td>\n",
       "      <td>2021-11-04 01:46:42+00:00</td>\n",
       "      <td>51441</td>\n",
       "    </tr>\n",
       "  </tbody>\n",
       "</table>\n",
       "</div>"
      ],
      "text/plain": [
       "                      start                       end  day_count\n",
       "0 2021-10-28 01:46:42+00:00 2021-10-29 00:00:00+00:00     146527\n",
       "1 2021-10-29 00:00:00+00:00 2021-10-30 00:00:00+00:00     264804\n",
       "2 2021-10-30 00:00:00+00:00 2021-10-31 00:00:00+00:00     303836\n",
       "3 2021-10-31 00:00:00+00:00 2021-11-01 00:00:00+00:00     182884\n",
       "4 2021-11-01 00:00:00+00:00 2021-11-02 00:00:00+00:00     250908\n",
       "5 2021-11-02 00:00:00+00:00 2021-11-03 00:00:00+00:00     519634\n",
       "6 2021-11-03 00:00:00+00:00 2021-11-04 00:00:00+00:00    1247173\n",
       "7 2021-11-04 00:00:00+00:00 2021-11-04 01:46:42+00:00      51441"
      ]
     },
     "execution_count": 75,
     "metadata": {},
     "output_type": "execute_result"
    }
   ],
   "source": [
    "# Read in CSV as DataFrame and parse dates\n",
    "tweet_counts_df = pd.read_csv('tweet-counts.csv', parse_dates=['start', 'end'])\n",
    "\n",
    "# Sort values by earliest date\n",
    "tweet_counts_df = tweet_counts_df.sort_values(by='start')\n",
    "\n",
    "tweet_counts_df"
   ]
  },
  {
   "cell_type": "markdown",
   "id": "9c20367b-b685-4718-8a23-1dc69d984b5e",
   "metadata": {},
   "source": [
    "Then we can make a quick plot of tweets per day with [plotly](https://plotly.com/python/line-charts/)."
   ]
  },
  {
   "cell_type": "code",
   "execution_count": 77,
   "id": "08f72dd2-6671-4df6-860a-0e260fa4aa9a",
   "metadata": {},
   "outputs": [
    {
     "data": {
      "text/html": [
       "<iframe\n",
       "    scrolling=\"no\"\n",
       "    width=\"100%\"\n",
       "    height=\"545px\"\n",
       "    src=\"iframe_figures/figure_77.html\"\n",
       "    frameborder=\"0\"\n",
       "    allowfullscreen\n",
       "></iframe>\n"
      ]
     },
     "metadata": {},
     "output_type": "display_data"
    }
   ],
   "source": [
    "# Make a line plot and create x and y axis labels and a title\n",
    "\n",
    "px.line(tweet_counts_df, x=\"#Your code here\", y=\"#Your code here\", title= \"Your title here\",\n",
    "        \n",
    "    labels={'start': 'Time', 'day_count': 'Tweets per Day'})"
   ]
  },
  {
   "cell_type": "markdown",
   "id": "7d5971a6-01ee-4cee-9a0d-3026eaa3b26e",
   "metadata": {},
   "source": [
    "With a plotly line chart, we can hover over points to see more information, and we can use the tool bar in the upper right corner to zoom or pan on different parts of the graph. We can also press the camera button to download an image of the graph at any pan or zoom level.\n",
    "\n",
    "To return to the original view, double-click on the plot."
   ]
  }
 ],
 "metadata": {
  "kernelspec": {
   "display_name": "Python 3",
   "language": "python",
   "name": "python3"
  },
  "language_info": {
   "codemirror_mode": {
    "name": "ipython",
    "version": 3
   },
   "file_extension": ".py",
   "mimetype": "text/x-python",
   "name": "python",
   "nbconvert_exporter": "python",
   "pygments_lexer": "ipython3",
   "version": "3.8.8"
  }
 },
 "nbformat": 4,
 "nbformat_minor": 5
}
