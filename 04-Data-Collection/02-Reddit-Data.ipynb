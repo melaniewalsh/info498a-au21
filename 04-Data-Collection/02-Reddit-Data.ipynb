{
 "cells": [
  {
   "cell_type": "markdown",
   "metadata": {},
   "source": [
    "# Reddit Data Collection and Analysis with PSAW"
   ]
  },
  {
   "cell_type": "markdown",
   "metadata": {},
   "source": [
    "To collect Reddit data, we're going to use the [Pushift API](https://www.reddit.com/r/pushshift/comments/bcxguf/new_to_pushshift_read_this_faq/), specifically a Python wrapper for the Pushshift API called [PSAW](https://github.com/dmarx/psaw) (PushShift API Wrapper). Why are we using the Pushshift API instead of the official Reddit API, and PSAW instead of Pushshift itself?"
   ]
  },
  {
   "cell_type": "markdown",
   "metadata": {},
   "source": [
    "Well, as Pushshift's creator Jason Baumgartner and his co-authors describe it in their [published paper](https://arxiv.org/pdf/2001.08435.pdf), \"Pushshift makes it\n",
    "much easier for researchers to query and retrieve historical Reddit data, provides extended functionality by providing fulltext search against comments and submissions, and has larger single query limits.\" PSAW, meanwhile, makes it easier to work with Pushshift and provides better documentation."
   ]
  },
  {
   "cell_type": "markdown",
   "metadata": {},
   "source": [
    "## Install PSAW"
   ]
  },
  {
   "cell_type": "markdown",
   "metadata": {},
   "source": [
    "To use PSAW, we first need to install it."
   ]
  },
  {
   "cell_type": "code",
   "execution_count": null,
   "metadata": {
    "scrolled": true
   },
   "outputs": [],
   "source": [
    "!pip install psaw"
   ]
  },
  {
   "cell_type": "markdown",
   "metadata": {},
   "source": [
    "Then we will import pandas for eventually working with the collected data, and we will change pandas default display setting to make our DataFrame columns wider."
   ]
  },
  {
   "cell_type": "code",
   "execution_count": 2,
   "metadata": {},
   "outputs": [],
   "source": [
    "import pandas as pd\n",
    "pd.set_option('max_colwidth', 500)\n",
    "pd.set_option('max_columns', 50)"
   ]
  },
  {
   "cell_type": "markdown",
   "metadata": {},
   "source": [
    "Next we will import the PushshiftAPI from psaw and initialize it."
   ]
  },
  {
   "cell_type": "code",
   "execution_count": 3,
   "metadata": {},
   "outputs": [],
   "source": [
    "from psaw import PushshiftAPI\n",
    "\n",
    "# Initialize PushShift\n",
    "api = PushshiftAPI()"
   ]
  },
  {
   "cell_type": "markdown",
   "metadata": {},
   "source": [
    "## Collect Reddit Posts (By Subreddit)"
   ]
  },
  {
   "cell_type": "markdown",
   "metadata": {},
   "source": [
    "To collect Reddit posts, we will use `api.search_submissions()` and then establish the parameters of our query, such as which subreddit we want to search in and what threshold of upvote score we want to set.\n",
    "\n",
    "Below we are setting up to search for posts in the subreddit \"AmITheAsshole\" that have an upvote score of at least 2,000 or more."
   ]
  },
  {
   "cell_type": "code",
   "execution_count": 5,
   "metadata": {},
   "outputs": [],
   "source": [
    "api_request_generator = api.search_submissions(subreddit='AmITheAsshole',\n",
    "                                               score = \">2000\")"
   ]
  },
  {
   "cell_type": "markdown",
   "metadata": {},
   "source": [
    "Once this generator is set up, we can use it to collect Reddit posts. The code below is a list comprehension that loops through the generator and extracts relevant data for each matching Reddit post. It then turns that list into a Pandas DataFrame."
   ]
  },
  {
   "cell_type": "markdown",
   "metadata": {},
   "source": [
    "<div class=\"admonition pandasreview\" name=\"html-admonition\" style=\"background: black; color: white; padding: 10px\">\n",
    "<p class=\"title\">Pandas</p>\n",
    " Do you need a refresher or introduction to the Python data analysis library Pandas? Be sure to check out <a href=\"https://melaniewalsh.github.io/Intro-Cultural-Analytics/Data-Analysis/Pandas-Basics-Part1.html\"> Pandas Basics (1-3) </a> in this textbook!\n",
    "    \n",
    "</div>"
   ]
  },
  {
   "cell_type": "code",
   "execution_count": null,
   "metadata": {},
   "outputs": [],
   "source": [
    "aita_submissions = pd.DataFrame([submission.d_ for submission in api_request_generator])"
   ]
  },
  {
   "cell_type": "markdown",
   "metadata": {},
   "source": [
    "*The cell above should take a while to run. It's searching through Reddit's entire history. It's ok if you periodically get errors while it's running.*"
   ]
  },
  {
   "cell_type": "markdown",
   "metadata": {},
   "source": [
    "Let's check to see how many Reddit posts we have collected by checking the shape of the DataFrame."
   ]
  },
  {
   "cell_type": "code",
   "execution_count": 7,
   "metadata": {},
   "outputs": [
    {
     "data": {
      "text/plain": [
       "(2959, 78)"
      ]
     },
     "execution_count": 7,
     "metadata": {},
     "output_type": "execute_result"
    }
   ],
   "source": [
    "aita_submissions.shape"
   ]
  },
  {
   "cell_type": "markdown",
   "metadata": {},
   "source": [
    "We have 2,959 posts!"
   ]
  },
  {
   "cell_type": "markdown",
   "metadata": {},
   "source": [
    "Let's check to see what columns/metadata exist in this data by seeing what columns are in the DataFrame."
   ]
  },
  {
   "cell_type": "code",
   "execution_count": 8,
   "metadata": {},
   "outputs": [
    {
     "data": {
      "text/plain": [
       "Index(['all_awardings', 'allow_live_comments', 'author',\n",
       "       'author_flair_css_class', 'author_flair_richtext', 'author_flair_text',\n",
       "       'author_flair_type', 'author_fullname', 'author_patreon_flair',\n",
       "       'author_premium', 'awarders', 'can_mod_post', 'contest_mode',\n",
       "       'created_utc', 'domain', 'edited', 'full_link', 'gildings', 'id',\n",
       "       'is_crosspostable', 'is_meta', 'is_original_content',\n",
       "       'is_reddit_media_domain', 'is_robot_indexable', 'is_self', 'is_video',\n",
       "       'link_flair_background_color', 'link_flair_richtext',\n",
       "       'link_flair_text_color', 'link_flair_type', 'locked', 'media_only',\n",
       "       'no_follow', 'num_comments', 'num_crossposts', 'over_18',\n",
       "       'parent_whitelist_status', 'permalink', 'pinned', 'pwls',\n",
       "       'retrieved_on', 'score', 'selftext', 'send_replies', 'spoiler',\n",
       "       'stickied', 'subreddit', 'subreddit_id', 'subreddit_subscribers',\n",
       "       'subreddit_type', 'suggested_sort', 'thumbnail', 'title',\n",
       "       'total_awards_received', 'treatment_tags', 'upvote_ratio', 'url',\n",
       "       'whitelist_status', 'wls', 'created', 'gilded', 'top_awarded_type',\n",
       "       'removed_by_category', 'link_flair_template_id', 'link_flair_text',\n",
       "       'author_flair_background_color', 'author_flair_text_color', 'post_hint',\n",
       "       'preview', 'author_flair_template_id', 'link_flair_css_class',\n",
       "       'banned_by', 'steward_reports', 'updated_utc', 'og_description',\n",
       "       'og_title', 'author_cakeday', 'rte_mode'],\n",
       "      dtype='object')"
      ]
     },
     "execution_count": 8,
     "metadata": {},
     "output_type": "execute_result"
    }
   ],
   "source": [
    "aita_submissions.columns"
   ]
  },
  {
   "cell_type": "markdown",
   "metadata": {},
   "source": [
    "To get a quick peak of the data, we can look at 10 random rows of data, and only for the columns \"title\" and upvote \"score.\""
   ]
  },
  {
   "cell_type": "code",
   "execution_count": 11,
   "metadata": {},
   "outputs": [
    {
     "data": {
      "text/html": [
       "<div>\n",
       "<style scoped>\n",
       "    .dataframe tbody tr th:only-of-type {\n",
       "        vertical-align: middle;\n",
       "    }\n",
       "\n",
       "    .dataframe tbody tr th {\n",
       "        vertical-align: top;\n",
       "    }\n",
       "\n",
       "    .dataframe thead th {\n",
       "        text-align: right;\n",
       "    }\n",
       "</style>\n",
       "<table border=\"1\" class=\"dataframe\">\n",
       "  <thead>\n",
       "    <tr style=\"text-align: right;\">\n",
       "      <th></th>\n",
       "      <th>title</th>\n",
       "      <th>score</th>\n",
       "    </tr>\n",
       "  </thead>\n",
       "  <tbody>\n",
       "    <tr>\n",
       "      <th>1787</th>\n",
       "      <td>AITA for not paying for college for my pregnant daughter?</td>\n",
       "      <td>5913</td>\n",
       "    </tr>\n",
       "    <tr>\n",
       "      <th>1563</th>\n",
       "      <td>AITA for offering my sister to pay for an abortion but not offering to support the child finacially if she keeps it?</td>\n",
       "      <td>9111</td>\n",
       "    </tr>\n",
       "    <tr>\n",
       "      <th>1422</th>\n",
       "      <td>AITA for snapping at my sister when she encouraged her 4 y/o daughter to fingerprint with my makeup?</td>\n",
       "      <td>4420</td>\n",
       "    </tr>\n",
       "    <tr>\n",
       "      <th>2908</th>\n",
       "      <td>AITA For purposely stopping my classmate from winning an award and subsequently making her cry?</td>\n",
       "      <td>32356</td>\n",
       "    </tr>\n",
       "    <tr>\n",
       "      <th>2412</th>\n",
       "      <td>AITA for not giving up my table (at a restaurant) for a pregnant woman who needed it for accessibility?</td>\n",
       "      <td>11900</td>\n",
       "    </tr>\n",
       "    <tr>\n",
       "      <th>2672</th>\n",
       "      <td>AITA for not allowing people to access a swimming hole that has been used for generations, but is on our property?</td>\n",
       "      <td>4618</td>\n",
       "    </tr>\n",
       "    <tr>\n",
       "      <th>1220</th>\n",
       "      <td>AITA for giving both of my kids the same money for Back to School Shopping?</td>\n",
       "      <td>3749</td>\n",
       "    </tr>\n",
       "    <tr>\n",
       "      <th>1707</th>\n",
       "      <td>WIBTA if I stopped inviting my triggered friend to movie night?</td>\n",
       "      <td>12656</td>\n",
       "    </tr>\n",
       "    <tr>\n",
       "      <th>949</th>\n",
       "      <td>AITA for leaving my girlfriend alone in the ER to go workout?</td>\n",
       "      <td>2718</td>\n",
       "    </tr>\n",
       "    <tr>\n",
       "      <th>566</th>\n",
       "      <td>AITA for doing the bare minimum babysitting because my mom and stepdad expect me to fo it for free?</td>\n",
       "      <td>4467</td>\n",
       "    </tr>\n",
       "  </tbody>\n",
       "</table>\n",
       "</div>"
      ],
      "text/plain": [
       "                                                                                                                     title  \\\n",
       "1787                                                             AITA for not paying for college for my pregnant daughter?   \n",
       "1563  AITA for offering my sister to pay for an abortion but not offering to support the child finacially if she keeps it?   \n",
       "1422                  AITA for snapping at my sister when she encouraged her 4 y/o daughter to fingerprint with my makeup?   \n",
       "2908                       AITA For purposely stopping my classmate from winning an award and subsequently making her cry?   \n",
       "2412               AITA for not giving up my table (at a restaurant) for a pregnant woman who needed it for accessibility?   \n",
       "2672    AITA for not allowing people to access a swimming hole that has been used for generations, but is on our property?   \n",
       "1220                                           AITA for giving both of my kids the same money for Back to School Shopping?   \n",
       "1707                                                       WIBTA if I stopped inviting my triggered friend to movie night?   \n",
       "949                                                          AITA for leaving my girlfriend alone in the ER to go workout?   \n",
       "566                    AITA for doing the bare minimum babysitting because my mom and stepdad expect me to fo it for free?   \n",
       "\n",
       "      score  \n",
       "1787   5913  \n",
       "1563   9111  \n",
       "1422   4420  \n",
       "2908  32356  \n",
       "2412  11900  \n",
       "2672   4618  \n",
       "1220   3749  \n",
       "1707  12656  \n",
       "949    2718  \n",
       "566    4467  "
      ]
     },
     "execution_count": 11,
     "metadata": {},
     "output_type": "execute_result"
    }
   ],
   "source": [
    "aita_submissions[['title', 'score']].sample(10)"
   ]
  },
  {
   "cell_type": "markdown",
   "metadata": {},
   "source": [
    "To sort by and manipulate date information, let's transform the date into datetime values."
   ]
  },
  {
   "cell_type": "code",
   "execution_count": 8,
   "metadata": {},
   "outputs": [],
   "source": [
    "aita_submissions['date'] = pd.to_datetime(aita_submissions['created_utc'], utc=True, unit='s')"
   ]
  },
  {
   "cell_type": "markdown",
   "metadata": {},
   "source": [
    "To only look at columns of interest, we can insert them in double square brackets."
   ]
  },
  {
   "cell_type": "code",
   "execution_count": 9,
   "metadata": {
    "scrolled": true,
    "tags": [
     "output_scroll"
    ]
   },
   "outputs": [
    {
     "data": {
      "text/html": [
       "<div>\n",
       "<style scoped>\n",
       "    .dataframe tbody tr th:only-of-type {\n",
       "        vertical-align: middle;\n",
       "    }\n",
       "\n",
       "    .dataframe tbody tr th {\n",
       "        vertical-align: top;\n",
       "    }\n",
       "\n",
       "    .dataframe thead th {\n",
       "        text-align: right;\n",
       "    }\n",
       "</style>\n",
       "<table border=\"1\" class=\"dataframe\">\n",
       "  <thead>\n",
       "    <tr style=\"text-align: right;\">\n",
       "      <th></th>\n",
       "      <th>author</th>\n",
       "      <th>date</th>\n",
       "      <th>title</th>\n",
       "      <th>selftext</th>\n",
       "      <th>url</th>\n",
       "      <th>subreddit</th>\n",
       "      <th>score</th>\n",
       "      <th>num_comments</th>\n",
       "      <th>num_crossposts</th>\n",
       "    </tr>\n",
       "  </thead>\n",
       "  <tbody>\n",
       "    <tr>\n",
       "      <th>0</th>\n",
       "      <td>Additional-Pizza-805</td>\n",
       "      <td>2020-07-24 19:13:49+00:00</td>\n",
       "      <td>AITA for kicking my cousin off of my sister’s wedding Zoom call?</td>\n",
       "      <td>My [27M] older sister [30F] and her fiancé [31M] were planning for over a year for their wedding to be this month. Obviously, they can’t have the wedding as planned, but they still would like to get married, so they decided on a “Zoom” wedding where all of the family/friends would just call in to watch the officiant, my sister, and her fiancé. \\n\\nMy sister didn’t want to be in charge of hosting the Zoom call because she thought it would stress her out, so she asked me to and I gladly accept...</td>\n",
       "      <td>https://www.reddit.com/r/AmItheAsshole/comments/hx80wd/aita_for_kicking_my_cousin_off_of_my_sisters/</td>\n",
       "      <td>AmItheAsshole</td>\n",
       "      <td>11159</td>\n",
       "      <td>2209</td>\n",
       "      <td>4</td>\n",
       "    </tr>\n",
       "    <tr>\n",
       "      <th>1</th>\n",
       "      <td>decadel8ter</td>\n",
       "      <td>2020-07-24 14:37:13+00:00</td>\n",
       "      <td>AITA for resenting my family for something that happened over a decade ago?</td>\n",
       "      <td>when i was 15 i was in a car accident. i was riding my bike on new bike lanes that my city had installed, and a car hit me. I ended up having to go to the hospital, nothing major, the car was turning onto the main road when it hit me so it was going well below the speed limit. but since it was a car accident, i was forced into the ambulance and shipped off to the hospital to get x-rays.\\n\\nsince i was a minor, I wasn't allowed to be released from the hospital without my family coming to pick...</td>\n",
       "      <td>https://www.reddit.com/r/AmItheAsshole/comments/hx2vvl/aita_for_resenting_my_family_for_something_that/</td>\n",
       "      <td>AmItheAsshole</td>\n",
       "      <td>2541</td>\n",
       "      <td>1143</td>\n",
       "      <td>0</td>\n",
       "    </tr>\n",
       "    <tr>\n",
       "      <th>2</th>\n",
       "      <td>Snoo_66130</td>\n",
       "      <td>2020-07-24 12:35:35+00:00</td>\n",
       "      <td>AITA for telling my step dad to stop trying to be my dad?</td>\n",
       "      <td>I'm   35, and my mom who is 52 is dating a man who is is 27. This is fucking   weird as hell and I really don't like this guy but whatever. He always   brings up the fact that's he's my step dad and always talks about how   proud of me he is and how good of a son I've become and how he's raised   me so well and shit.\\n\\nLike he's   literally acting like my dad, which pisses me off because he is younger   htan me and was barely ever in my life but more so, becuase I actually   had a dad who u...</td>\n",
       "      <td>https://www.reddit.com/r/AmItheAsshole/comments/hx0zk7/aita_for_telling_my_step_dad_to_stop_trying_to_be/</td>\n",
       "      <td>AmItheAsshole</td>\n",
       "      <td>2809</td>\n",
       "      <td>1253</td>\n",
       "      <td>1</td>\n",
       "    </tr>\n",
       "    <tr>\n",
       "      <th>3</th>\n",
       "      <td>ohnoihaveabluechair</td>\n",
       "      <td>2020-07-24 10:56:56+00:00</td>\n",
       "      <td>AITA for confronting my SIL for wearing clothes that belonged to me?</td>\n",
       "      <td>Some info: A few years ago, my family didn’t have a lot of spare money to buy a lot of things (lower middle class), only recently (around 2016) did my husband get a new job and we got financially better by a lot, so finally we could afford to buy things for our kids and travel.\\n\\nIn 2018, I was so excited when my husband got both of us tickets to go to India for 2 weeks and gave me 200,000 rupees for punjabi suit shopping (traditional indian clothes). This meant a lot to me because my husba...</td>\n",
       "      <td>https://www.reddit.com/r/AmItheAsshole/comments/hwzpbu/aita_for_confronting_my_sil_for_wearing_clothes/</td>\n",
       "      <td>AmItheAsshole</td>\n",
       "      <td>7581</td>\n",
       "      <td>1550</td>\n",
       "      <td>1</td>\n",
       "    </tr>\n",
       "    <tr>\n",
       "      <th>4</th>\n",
       "      <td>FormalLettuce3</td>\n",
       "      <td>2020-07-24 10:52:08+00:00</td>\n",
       "      <td>AITA for saying we'd only help with my ex's kid's party if we could tell people we're engaged?</td>\n",
       "      <td>This guy, \"Jack\", and I were together for about a year, and within a couple weeks of ending it I found out I was pregnant. I texted Jack to tell him, and a couple hours later this woman, \"Liz\", showed up at my place saying she and Jack had been together for 6 months, and she was also pregnant, and when the text arrived she got my address out of Jack's phone so she could talk to me before him. I told her everything, and Liz dumped Jack. I was about 6 weeks along at this stage, and she was 12 ...</td>\n",
       "      <td>https://www.reddit.com/r/AmItheAsshole/comments/hwzncq/aita_for_saying_wed_only_help_with_my_exs_kids/</td>\n",
       "      <td>AmItheAsshole</td>\n",
       "      <td>2915</td>\n",
       "      <td>1214</td>\n",
       "      <td>0</td>\n",
       "    </tr>\n",
       "    <tr>\n",
       "      <th>...</th>\n",
       "      <td>...</td>\n",
       "      <td>...</td>\n",
       "      <td>...</td>\n",
       "      <td>...</td>\n",
       "      <td>...</td>\n",
       "      <td>...</td>\n",
       "      <td>...</td>\n",
       "      <td>...</td>\n",
       "      <td>...</td>\n",
       "    </tr>\n",
       "    <tr>\n",
       "      <th>2927</th>\n",
       "      <td>BackgroundJellyfish</td>\n",
       "      <td>2018-08-31 21:39:49+00:00</td>\n",
       "      <td>AITA for hitting my girlfriend out of reflex for her scaring me?</td>\n",
       "      <td>Hi, so my girlfriend and i watched a horror movie recently, called The Last Exorcism. Now keep in mind, i HATE horror, i get very scared easily. but she likes horror, and practically begged me to watch it with her. So, i did watch it, and have been very jumpy lately. It was pretty scary, because horror movies have always given me nightmares.\\n\\n\\nMy girlfriend, however, thinks it's funny how i am. She has picked up me bad habit. She likes to sneak up behind me and make a loud noise to startl...</td>\n",
       "      <td>https://www.reddit.com/r/AmItheAsshole/comments/9bxoro/aita_for_hitting_my_girlfriend_out_of_reflex_for/</td>\n",
       "      <td>AmItheAsshole</td>\n",
       "      <td>2719</td>\n",
       "      <td>405</td>\n",
       "      <td>1</td>\n",
       "    </tr>\n",
       "    <tr>\n",
       "      <th>2928</th>\n",
       "      <td>Marylebone_Road</td>\n",
       "      <td>2018-08-30 17:00:31+00:00</td>\n",
       "      <td>AITA for thinking that this sub is only so people can have their decisions validated and never actually post something assholish they've done?</td>\n",
       "      <td></td>\n",
       "      <td>https://www.reddit.com/r/AmItheAsshole/comments/9blev1/aita_for_thinking_that_this_sub_is_only_so_people/</td>\n",
       "      <td>AmItheAsshole</td>\n",
       "      <td>2001</td>\n",
       "      <td>104</td>\n",
       "      <td>0</td>\n",
       "    </tr>\n",
       "    <tr>\n",
       "      <th>2929</th>\n",
       "      <td>treefiddyfive</td>\n",
       "      <td>2018-08-26 09:33:45+00:00</td>\n",
       "      <td>AITA for not believing my daughter is non-binary?</td>\n",
       "      <td>Recently my daughter has 'come out' to me as non binary, meaning that she supposedly does not believe she is a man or a woman. I heard her out and let her speak, and tried to calmly ask her how she has come to this conclusion. The conversation was civil until I told her I did not believe she is anything but a woman. At this point, she started crying, calling me a bigot, and my wife had to take over. My wife tells me I am being insensitive. \\n\\n\\nThey want me to refer to them as 'they', which...</td>\n",
       "      <td>https://www.reddit.com/r/AmItheAsshole/comments/9aeeed/aita_for_not_believing_my_daughter_is_nonbinary/</td>\n",
       "      <td>AmItheAsshole</td>\n",
       "      <td>2068</td>\n",
       "      <td>905</td>\n",
       "      <td>3</td>\n",
       "    </tr>\n",
       "    <tr>\n",
       "      <th>2930</th>\n",
       "      <td>grizzythekid</td>\n",
       "      <td>2018-06-19 02:07:05+00:00</td>\n",
       "      <td>AITA for throwing a soda on the ground near the dude I bought it for?</td>\n",
       "      <td>I was going to McDonald's for a quick bite to go, when a drunk maybe homeless, definitely in some state guy asked if I could but him a burger. I said sure, having been drunk plenty of times myself, I know a burger hits the spot when you're on one. So I buy two big cheeseburger meals, and walk out. I've got all the food in a bag, and two drinks in the other. I set the drinks down on an outside table and fish out one burger and hand it to him. I set the fries on the table for him, as he his un...</td>\n",
       "      <td>https://www.reddit.com/r/AmItheAsshole/comments/8s56a3/aita_for_throwing_a_soda_on_the_ground_near_the/</td>\n",
       "      <td>AmItheAsshole</td>\n",
       "      <td>3532</td>\n",
       "      <td>90</td>\n",
       "      <td>0</td>\n",
       "    </tr>\n",
       "    <tr>\n",
       "      <th>2931</th>\n",
       "      <td>Pettheftthrow</td>\n",
       "      <td>2018-05-11 03:28:07+00:00</td>\n",
       "      <td>AITA for refusing to return a lost pet?</td>\n",
       "      <td>So over two years ago a cat appeared in my yard. He was skinny, skittish, unneutered, and had a serious abscess on his rump, likely from a cat bite wound. I took him to the vet that night and had him treated. The vet estimated he was about six months old.\\n\\nI called the local county shelters to file a found cat report. I also posted on Craigslist, posted his info at local vet offices, and kept an eye out for flyers. He was scanned for a microchip and didn't have one. \\n\\nAt that point I did...</td>\n",
       "      <td>https://www.reddit.com/r/AmItheAsshole/comments/8ikrb0/aita_for_refusing_to_return_a_lost_pet/</td>\n",
       "      <td>AmItheAsshole</td>\n",
       "      <td>2387</td>\n",
       "      <td>169</td>\n",
       "      <td>0</td>\n",
       "    </tr>\n",
       "  </tbody>\n",
       "</table>\n",
       "<p>2932 rows × 9 columns</p>\n",
       "</div>"
      ],
      "text/plain": [
       "                    author                      date  \\\n",
       "0     Additional-Pizza-805 2020-07-24 19:13:49+00:00   \n",
       "1              decadel8ter 2020-07-24 14:37:13+00:00   \n",
       "2               Snoo_66130 2020-07-24 12:35:35+00:00   \n",
       "3      ohnoihaveabluechair 2020-07-24 10:56:56+00:00   \n",
       "4           FormalLettuce3 2020-07-24 10:52:08+00:00   \n",
       "...                    ...                       ...   \n",
       "2927   BackgroundJellyfish 2018-08-31 21:39:49+00:00   \n",
       "2928       Marylebone_Road 2018-08-30 17:00:31+00:00   \n",
       "2929         treefiddyfive 2018-08-26 09:33:45+00:00   \n",
       "2930          grizzythekid 2018-06-19 02:07:05+00:00   \n",
       "2931         Pettheftthrow 2018-05-11 03:28:07+00:00   \n",
       "\n",
       "                                                                                                                                               title  \\\n",
       "0                                                                                   AITA for kicking my cousin off of my sister’s wedding Zoom call?   \n",
       "1                                                                        AITA for resenting my family for something that happened over a decade ago?   \n",
       "2                                                                                          AITA for telling my step dad to stop trying to be my dad?   \n",
       "3                                                                               AITA for confronting my SIL for wearing clothes that belonged to me?   \n",
       "4                                                     AITA for saying we'd only help with my ex's kid's party if we could tell people we're engaged?   \n",
       "...                                                                                                                                              ...   \n",
       "2927                                                                                AITA for hitting my girlfriend out of reflex for her scaring me?   \n",
       "2928  AITA for thinking that this sub is only so people can have their decisions validated and never actually post something assholish they've done?   \n",
       "2929                                                                                               AITA for not believing my daughter is non-binary?   \n",
       "2930                                                                           AITA for throwing a soda on the ground near the dude I bought it for?   \n",
       "2931                                                                                                         AITA for refusing to return a lost pet?   \n",
       "\n",
       "                                                                                                                                                                                                                                                                                                                                                                                                                                                                                                                 selftext  \\\n",
       "0     My [27M] older sister [30F] and her fiancé [31M] were planning for over a year for their wedding to be this month. Obviously, they can’t have the wedding as planned, but they still would like to get married, so they decided on a “Zoom” wedding where all of the family/friends would just call in to watch the officiant, my sister, and her fiancé. \\n\\nMy sister didn’t want to be in charge of hosting the Zoom call because she thought it would stress her out, so she asked me to and I gladly accept...   \n",
       "1     when i was 15 i was in a car accident. i was riding my bike on new bike lanes that my city had installed, and a car hit me. I ended up having to go to the hospital, nothing major, the car was turning onto the main road when it hit me so it was going well below the speed limit. but since it was a car accident, i was forced into the ambulance and shipped off to the hospital to get x-rays.\\n\\nsince i was a minor, I wasn't allowed to be released from the hospital without my family coming to pick...   \n",
       "2     I'm   35, and my mom who is 52 is dating a man who is is 27. This is fucking   weird as hell and I really don't like this guy but whatever. He always   brings up the fact that's he's my step dad and always talks about how   proud of me he is and how good of a son I've become and how he's raised   me so well and shit.\\n\\nLike he's   literally acting like my dad, which pisses me off because he is younger   htan me and was barely ever in my life but more so, becuase I actually   had a dad who u...   \n",
       "3     Some info: A few years ago, my family didn’t have a lot of spare money to buy a lot of things (lower middle class), only recently (around 2016) did my husband get a new job and we got financially better by a lot, so finally we could afford to buy things for our kids and travel.\\n\\nIn 2018, I was so excited when my husband got both of us tickets to go to India for 2 weeks and gave me 200,000 rupees for punjabi suit shopping (traditional indian clothes). This meant a lot to me because my husba...   \n",
       "4     This guy, \"Jack\", and I were together for about a year, and within a couple weeks of ending it I found out I was pregnant. I texted Jack to tell him, and a couple hours later this woman, \"Liz\", showed up at my place saying she and Jack had been together for 6 months, and she was also pregnant, and when the text arrived she got my address out of Jack's phone so she could talk to me before him. I told her everything, and Liz dumped Jack. I was about 6 weeks along at this stage, and she was 12 ...   \n",
       "...                                                                                                                                                                                                                                                                                                                                                                                                                                                                                                                   ...   \n",
       "2927  Hi, so my girlfriend and i watched a horror movie recently, called The Last Exorcism. Now keep in mind, i HATE horror, i get very scared easily. but she likes horror, and practically begged me to watch it with her. So, i did watch it, and have been very jumpy lately. It was pretty scary, because horror movies have always given me nightmares.\\n\\n\\nMy girlfriend, however, thinks it's funny how i am. She has picked up me bad habit. She likes to sneak up behind me and make a loud noise to startl...   \n",
       "2928                                                                                                                                                                                                                                                                                                                                                                                                                                                                                                                        \n",
       "2929  Recently my daughter has 'come out' to me as non binary, meaning that she supposedly does not believe she is a man or a woman. I heard her out and let her speak, and tried to calmly ask her how she has come to this conclusion. The conversation was civil until I told her I did not believe she is anything but a woman. At this point, she started crying, calling me a bigot, and my wife had to take over. My wife tells me I am being insensitive. \\n\\n\\nThey want me to refer to them as 'they', which...   \n",
       "2930  I was going to McDonald's for a quick bite to go, when a drunk maybe homeless, definitely in some state guy asked if I could but him a burger. I said sure, having been drunk plenty of times myself, I know a burger hits the spot when you're on one. So I buy two big cheeseburger meals, and walk out. I've got all the food in a bag, and two drinks in the other. I set the drinks down on an outside table and fish out one burger and hand it to him. I set the fries on the table for him, as he his un...   \n",
       "2931  So over two years ago a cat appeared in my yard. He was skinny, skittish, unneutered, and had a serious abscess on his rump, likely from a cat bite wound. I took him to the vet that night and had him treated. The vet estimated he was about six months old.\\n\\nI called the local county shelters to file a found cat report. I also posted on Craigslist, posted his info at local vet offices, and kept an eye out for flyers. He was scanned for a microchip and didn't have one. \\n\\nAt that point I did...   \n",
       "\n",
       "                                                                                                            url  \\\n",
       "0          https://www.reddit.com/r/AmItheAsshole/comments/hx80wd/aita_for_kicking_my_cousin_off_of_my_sisters/   \n",
       "1       https://www.reddit.com/r/AmItheAsshole/comments/hx2vvl/aita_for_resenting_my_family_for_something_that/   \n",
       "2     https://www.reddit.com/r/AmItheAsshole/comments/hx0zk7/aita_for_telling_my_step_dad_to_stop_trying_to_be/   \n",
       "3       https://www.reddit.com/r/AmItheAsshole/comments/hwzpbu/aita_for_confronting_my_sil_for_wearing_clothes/   \n",
       "4        https://www.reddit.com/r/AmItheAsshole/comments/hwzncq/aita_for_saying_wed_only_help_with_my_exs_kids/   \n",
       "...                                                                                                         ...   \n",
       "2927   https://www.reddit.com/r/AmItheAsshole/comments/9bxoro/aita_for_hitting_my_girlfriend_out_of_reflex_for/   \n",
       "2928  https://www.reddit.com/r/AmItheAsshole/comments/9blev1/aita_for_thinking_that_this_sub_is_only_so_people/   \n",
       "2929    https://www.reddit.com/r/AmItheAsshole/comments/9aeeed/aita_for_not_believing_my_daughter_is_nonbinary/   \n",
       "2930    https://www.reddit.com/r/AmItheAsshole/comments/8s56a3/aita_for_throwing_a_soda_on_the_ground_near_the/   \n",
       "2931             https://www.reddit.com/r/AmItheAsshole/comments/8ikrb0/aita_for_refusing_to_return_a_lost_pet/   \n",
       "\n",
       "          subreddit  score  num_comments  num_crossposts  \n",
       "0     AmItheAsshole  11159          2209               4  \n",
       "1     AmItheAsshole   2541          1143               0  \n",
       "2     AmItheAsshole   2809          1253               1  \n",
       "3     AmItheAsshole   7581          1550               1  \n",
       "4     AmItheAsshole   2915          1214               0  \n",
       "...             ...    ...           ...             ...  \n",
       "2927  AmItheAsshole   2719           405               1  \n",
       "2928  AmItheAsshole   2001           104               0  \n",
       "2929  AmItheAsshole   2068           905               3  \n",
       "2930  AmItheAsshole   3532            90               0  \n",
       "2931  AmItheAsshole   2387           169               0  \n",
       "\n",
       "[2932 rows x 9 columns]"
      ]
     },
     "execution_count": 9,
     "metadata": {},
     "output_type": "execute_result"
    }
   ],
   "source": [
    "aita_submissions[['author', 'date', 'title', 'selftext', 'url', 'subreddit', 'score', 'num_comments', 'num_crossposts']]"
   ]
  },
  {
   "cell_type": "markdown",
   "metadata": {},
   "source": [
    "## Collect Reddit Posts (By Keyword)"
   ]
  },
  {
   "cell_type": "markdown",
   "metadata": {},
   "source": [
    "To search by a keyword, we will add `q=` and insert a query phrase, the rapper \"Missy Elliott.\""
   ]
  },
  {
   "cell_type": "code",
   "execution_count": 10,
   "metadata": {},
   "outputs": [],
   "source": [
    "api_request_generator = api.search_submissions(q='Missy Elliott', score = \">2000\")"
   ]
  },
  {
   "cell_type": "markdown",
   "metadata": {},
   "source": [
    "Once this generator is set up, we can use it to collect Reddit posts. The code below is a list comprehension that loops through the generator and extracts relevant data for each matching Reddit post. It then turns that list into a Pandas DataFrame."
   ]
  },
  {
   "cell_type": "code",
   "execution_count": 11,
   "metadata": {},
   "outputs": [],
   "source": [
    "missy_submissions = pd.DataFrame([submission.d_ for submission in api_request_generator])"
   ]
  },
  {
   "cell_type": "markdown",
   "metadata": {},
   "source": [
    "*The cell above should take a while to run. It's searching through Reddit's entire history. It's ok if you periodically get errors while it's running.*"
   ]
  },
  {
   "cell_type": "markdown",
   "metadata": {},
   "source": [
    "To sort by and manipulate date information, let's transform the date into datetime values."
   ]
  },
  {
   "cell_type": "code",
   "execution_count": 12,
   "metadata": {},
   "outputs": [],
   "source": [
    "missy_submissions['date'] = pd.to_datetime(missy_submissions['created_utc'], utc=True, unit='s')"
   ]
  },
  {
   "cell_type": "markdown",
   "metadata": {},
   "source": [
    "To only look at columns of interest, we can insert them in double square brackets."
   ]
  },
  {
   "cell_type": "code",
   "execution_count": 13,
   "metadata": {
    "scrolled": true,
    "tags": [
     "output_scroll"
    ]
   },
   "outputs": [
    {
     "data": {
      "text/html": [
       "<div>\n",
       "<style scoped>\n",
       "    .dataframe tbody tr th:only-of-type {\n",
       "        vertical-align: middle;\n",
       "    }\n",
       "\n",
       "    .dataframe tbody tr th {\n",
       "        vertical-align: top;\n",
       "    }\n",
       "\n",
       "    .dataframe thead th {\n",
       "        text-align: right;\n",
       "    }\n",
       "</style>\n",
       "<table border=\"1\" class=\"dataframe\">\n",
       "  <thead>\n",
       "    <tr style=\"text-align: right;\">\n",
       "      <th></th>\n",
       "      <th>author</th>\n",
       "      <th>date</th>\n",
       "      <th>title</th>\n",
       "      <th>selftext</th>\n",
       "      <th>url</th>\n",
       "      <th>subreddit</th>\n",
       "      <th>score</th>\n",
       "      <th>num_comments</th>\n",
       "      <th>num_crossposts</th>\n",
       "    </tr>\n",
       "  </thead>\n",
       "  <tbody>\n",
       "    <tr>\n",
       "      <th>0</th>\n",
       "      <td>Origai</td>\n",
       "      <td>2020-04-12 17:21:30+00:00</td>\n",
       "      <td>When Missy Elliott is a Heidi Stan</td>\n",
       "      <td></td>\n",
       "      <td>https://i.redd.it/nbra20y58fs41.jpg</td>\n",
       "      <td>rupaulsdragrace</td>\n",
       "      <td>3682</td>\n",
       "      <td>103</td>\n",
       "      <td>0.0</td>\n",
       "    </tr>\n",
       "    <tr>\n",
       "      <th>1</th>\n",
       "      <td>Chriscftb97</td>\n",
       "      <td>2019-10-04 20:21:19+00:00</td>\n",
       "      <td>DaBaby's \"KIRK\" sells 147K First Week (8K Pure). Kevin Gates' \"I'm Him\" sells 71K First Week (15K Pure). Young M.A's \"Herstory in the Making\" sells 22K First Week (5K Pure).</td>\n",
       "      <td>Rank| Artist| Album| Label | Pure Sales| Sales + Streaming\\n---|---|----|----|----|----\\n1 | Post Malone | Hollywood's Bleeding | Republic | 200,000 | 489,000\\n2 | Khalid | Free Spirit | Right Hand Music/RCA | 82,000 | 202,000\\n3 | Ed Sheeran | No.6 Collaborations Project | Atlantic | 70,000 | 173,000\\n4 | Tyler, The Creator | IGOR | Columbia | 77,716 | 172,377\\n5 | Juice WRLD | Death Race For Love | Grade A/Interscope | 42,648 | 164,076\\n**6** | **DaBaby** | **KIRK** | **Interscope** | **7,...</td>\n",
       "      <td>https://www.reddit.com/r/hiphopheads/comments/ddcx0y/dababys_kirk_sells_147k_first_week_8k_pure_kevin/</td>\n",
       "      <td>hiphopheads</td>\n",
       "      <td>2470</td>\n",
       "      <td>575</td>\n",
       "      <td>0.0</td>\n",
       "    </tr>\n",
       "    <tr>\n",
       "      <th>2</th>\n",
       "      <td>Chriscftb97</td>\n",
       "      <td>2019-09-14 16:29:34+00:00</td>\n",
       "      <td>Post Malone's \"Hollywood's Bleeding\" sells 493K First Week (210K Pure). EARTHGANG's \"Mirrorland\" sells 12K First Week (2K Pure).</td>\n",
       "      <td>Rank| Artist| Album| Label | Pure Sales| Sales + Streaming\\n---|---|----|----|----|----\\n**1** | **Post Malone** | **Hollywood's Bleeding** | **Republic** | **210,283** | **492,854**\\n2 | Khalid | Free Spirit | Right Hand Music/RCA | 82,000 | 202,000\\n3 | Ed Sheeran | No.6 Collaborations Project | Atlantic | 70,000 | 173,000\\n4 | Tyler, The Creator | IGOR | Columbia | 77,716 | 172,377\\n5 | Juice WRLD | Death Race For Love | Grade A/Interscope | 42,648 | 164,076\\n6 | DJ Khaled | Father Of Asa...</td>\n",
       "      <td>https://www.reddit.com/r/hiphopheads/comments/d47eza/post_malones_hollywoods_bleeding_sells_493k_first/</td>\n",
       "      <td>hiphopheads</td>\n",
       "      <td>3332</td>\n",
       "      <td>889</td>\n",
       "      <td>0.0</td>\n",
       "    </tr>\n",
       "    <tr>\n",
       "      <th>3</th>\n",
       "      <td>Chriscftb97</td>\n",
       "      <td>2019-08-30 21:00:33+00:00</td>\n",
       "      <td>BROCKHAMPTON's \"GINGER\" sells 77K First Week (55K Pure). Jeezy's \"TM104: The Legend of the Snowman\" sells 50K First Week (22K Pure). Missy Elliott's \"ICONOLOGY\" sells 17K First Week (11K Pure). SAINt JHN's \"Ghetto Lenny's Love Songs\" sells 13K First Week (4K Pure).</td>\n",
       "      <td>Rank| Artist| Album| Label | Pure Sales| Sales + Streaming\\n---|---|----|----|----|----\\n1 | Khalid | Free Spirit | Right Hand Music/RCA | 82,000 | 202,000\\n2 | Ed Sheeran | No.6 Collaborations Project | Atlantic | 70,000 | 173,000\\n3 | Tyler, The Creator | IGOR | Columbia | 77,716 | 172,377\\n4 | Juice WRLD | Death Race For Love | Grade A/Interscope | 42,648 | 164,076\\n5 | DJ Khaled | Father Of Asahd | We The Best/Epic | 32,466 | 131,717\\n6| Young Thug | So Much Fun | Atlantic | 5,142 | 131,...</td>\n",
       "      <td>https://www.reddit.com/r/hiphopheads/comments/cxmule/brockhamptons_ginger_sells_77k_first_week_55k/</td>\n",
       "      <td>hiphopheads</td>\n",
       "      <td>3317</td>\n",
       "      <td>694</td>\n",
       "      <td>0.0</td>\n",
       "    </tr>\n",
       "    <tr>\n",
       "      <th>4</th>\n",
       "      <td>hugh__honey</td>\n",
       "      <td>2019-08-22 18:12:01+00:00</td>\n",
       "      <td>Missy Elliott announces first new album in 14 years, ICONOLOGY, coming out TONIGHT</td>\n",
       "      <td>Announced on her IG - - https://www.instagram.com/p/B1ebzOigauK/?utm_source=ig_web_button_share_sheet</td>\n",
       "      <td>https://www.reddit.com/r/hiphopheads/comments/cu199g/missy_elliott_announces_first_new_album_in_14/</td>\n",
       "      <td>hiphopheads</td>\n",
       "      <td>4262</td>\n",
       "      <td>237</td>\n",
       "      <td>0.0</td>\n",
       "    </tr>\n",
       "    <tr>\n",
       "      <th>5</th>\n",
       "      <td>errgreen</td>\n",
       "      <td>2019-07-26 19:59:15+00:00</td>\n",
       "      <td>Lizzo - Tempo (feat. Missy Elliott) [Official Music Video]</td>\n",
       "      <td></td>\n",
       "      <td>https://www.youtube.com/watch?v=Srq1FqFPwj0</td>\n",
       "      <td>Music</td>\n",
       "      <td>7656</td>\n",
       "      <td>603</td>\n",
       "      <td>0.0</td>\n",
       "    </tr>\n",
       "    <tr>\n",
       "      <th>6</th>\n",
       "      <td>emitremmus27</td>\n",
       "      <td>2019-06-14 13:59:53+00:00</td>\n",
       "      <td>Missy Elliott becomes first female hip-hop artist inducted into Songwriters Hall of Fame</td>\n",
       "      <td></td>\n",
       "      <td>https://abcnews.go.com/GMA/Culture/missy-elliott-female-hip-hop-artist-inducted-songwriters/story?id=63695814</td>\n",
       "      <td>Music</td>\n",
       "      <td>7935</td>\n",
       "      <td>299</td>\n",
       "      <td>0.0</td>\n",
       "    </tr>\n",
       "    <tr>\n",
       "      <th>7</th>\n",
       "      <td>DanWofSoc</td>\n",
       "      <td>2018-05-04 15:59:44+00:00</td>\n",
       "      <td>Friday Midday MAGAthread! - 05/04/2018 - Focus on the Midterms Volume 1: House Seats : CA-10 Jeff Denham, CA-25 Steve Knight, CA-48 Dana Rohrabacher</td>\n",
       "      <td>_______________\\n\\n_______________\\n\\nGood afternoon my fellow Americans.  **Your dom sheriff /u/DanWofSoc here to kick off the upcoming election cycle.**  Believe it or not, we have about 24 weeks until the [November midterms](https://i.imgur.com/CdgAsM7.png) so it is time to go to work.  **My goal is to run through all of the competitive house races each Friday until the election.**  It is no secret that the democrat's only goal is the impeachment of our dear GEOTUS and The House of Repres...</td>\n",
       "      <td>https://www.reddit.com/r/The_Donald/comments/8h0buy/friday_midday_magathread_05042018_focus_on_the/</td>\n",
       "      <td>The_Donald</td>\n",
       "      <td>2873</td>\n",
       "      <td>28</td>\n",
       "      <td>0.0</td>\n",
       "    </tr>\n",
       "    <tr>\n",
       "      <th>8</th>\n",
       "      <td>rejeremiad</td>\n",
       "      <td>2018-01-22 17:02:21+00:00</td>\n",
       "      <td>Malia Obama's Brand New Car is Disgusting | It isn't, refers to \"Limosine One\" used by the POTUS, saved you 257 clicks</td>\n",
       "      <td>screenshot of original click headline: https://i.imgur.com/kCDDZBU.png \\n\\nsource: http://archive.is/FkEMT\\n\\nList:  \\n\\n001: Paris Hilton – Bentley GT Continental, Estimated $285K  \\n002: Jay Leno – 1955 Mercedes 300SL Gullwing Coupe, Estimated $1.8 Million  \\n003: Kim Kardashian – Ferrari 458 Italia, Estimated $325K  \\n004: P.Diddy – Rolls Royce Phantom Drophead Coupe, Estimated $440K  \\n005: Nicolas Cage – 1958 Ferrari 250 GT Pininfarina, Estimated $3.6 Million  \\n006: Jerry Seinfeld – Po...</td>\n",
       "      <td>https://www.reddit.com/r/savedyouaclick/comments/7s751u/malia_obamas_brand_new_car_is_disgusting_it_isnt/</td>\n",
       "      <td>savedyouaclick</td>\n",
       "      <td>9950</td>\n",
       "      <td>339</td>\n",
       "      <td>0.0</td>\n",
       "    </tr>\n",
       "    <tr>\n",
       "      <th>9</th>\n",
       "      <td>silverwolfer</td>\n",
       "      <td>2017-10-23 22:34:16+00:00</td>\n",
       "      <td>Missy Elliott doing you a /r/personalfinance</td>\n",
       "      <td></td>\n",
       "      <td>https://imgur.com/GzzkVyt</td>\n",
       "      <td>BlackPeopleTwitter</td>\n",
       "      <td>3057</td>\n",
       "      <td>46</td>\n",
       "      <td>0.0</td>\n",
       "    </tr>\n",
       "    <tr>\n",
       "      <th>10</th>\n",
       "      <td>hennny</td>\n",
       "      <td>2017-01-30 11:40:38+00:00</td>\n",
       "      <td>MORNING MAGAthread: Let's destroy, debunk and decuck some of these CTR talking points.</td>\n",
       "      <td>#RISE AND SHINE, CENTIPEDES!\\n\\n#How are we all today?\\n\\n#Are we all ready for another week of being **PRESIDENTIAL AF**?\\n\\nI'm sure you don't need me to add another scratch onto an already very scratched, overplayed record- it's obvious right now that CTR  are back with a vengeance. However, **jet fuel can't melt steel memes**. I, for one, absolutely fucking love banning cucks. It takes so much longer for them to create an account and copy and paste a CTR talking point than it does for me...</td>\n",
       "      <td>https://www.reddit.com/r/The_Donald/comments/5r06o1/morning_magathread_lets_destroy_debunk_and_decuck/</td>\n",
       "      <td>The_Donald</td>\n",
       "      <td>7000</td>\n",
       "      <td>816</td>\n",
       "      <td>NaN</td>\n",
       "    </tr>\n",
       "    <tr>\n",
       "      <th>11</th>\n",
       "      <td>BigLeJaffe</td>\n",
       "      <td>2016-04-26 20:33:14+00:00</td>\n",
       "      <td>Beyoncé’s “Masterpiece of Black Feminism” Was Produced Almost Entirely By Men</td>\n",
       "      <td>Beyoncé Knowles, Kevin Garrett, James Black, Wynter Gordon, Jack White, Mike Will Made It, Diplo, Ezra Koenig, Kevin Cossom, Melo-X, Danny Boy Styles, Ben Billions, Boots, Mike Dean, Vincent Berry II, Jonathan Coffer, and Just Blaze; these are the names credited as producers on Lemonade, the album The Hollywood Reporter calls a “Revolutionary Work of Black Feminism.” Notice anything peculiar?\\n\\nI believe the music is as advertised: a triumphant masterwork created by some of the most talente...</td>\n",
       "      <td>https://www.reddit.com/r/hiphopheads/comments/4gktw6/beyoncés_masterpiece_of_black_feminism_was/</td>\n",
       "      <td>hiphopheads</td>\n",
       "      <td>3436</td>\n",
       "      <td>925</td>\n",
       "      <td>NaN</td>\n",
       "    </tr>\n",
       "    <tr>\n",
       "      <th>12</th>\n",
       "      <td>TheHHHRobot</td>\n",
       "      <td>2016-04-21 17:50:05+00:00</td>\n",
       "      <td>R.I.P. Prince Megathread</td>\n",
       "      <td>http://www.tmz.com/2016/04/21/prince-dead-at-57/\\n\\nShare your favorite Prince songs, memories, interviews and alike.\\n\\nR.I.P.\\n\\n**REACTIONS FROM THE HIP-HOP COMMUNITY:**\\n\\n[Pete Rock](https://www.instagram.com/p/BEeJtKUGLdr/)\\n\\n[Killer Mike](https://www.instagram.com/p/BEeKYHCy1LZ/)\\n\\n[TDE's Punch](https://twitter.com/iamstillpunch/status/723205084151083008)\\n\\n[Questlove](https://www.instagram.com/p/BEeIpzpwa8I/)\\n\\n[Juicy J](https://www.instagram.com/p/BEeJU-fI-Kj/)\\n\\n[Young Thug](h...</td>\n",
       "      <td>https://www.reddit.com/r/hiphopheads/comments/4fu6lc/rip_prince_megathread/</td>\n",
       "      <td>hiphopheads</td>\n",
       "      <td>2546</td>\n",
       "      <td>750</td>\n",
       "      <td>NaN</td>\n",
       "    </tr>\n",
       "    <tr>\n",
       "      <th>13</th>\n",
       "      <td>RaHxRaH</td>\n",
       "      <td>2015-11-12 14:05:16+00:00</td>\n",
       "      <td>[FRESH] Missy Elliott - WTF (Where They From) ft. Pharrell Williams</td>\n",
       "      <td></td>\n",
       "      <td>https://youtu.be/KO_3Qgib6RQ</td>\n",
       "      <td>hiphopheads</td>\n",
       "      <td>2905</td>\n",
       "      <td>502</td>\n",
       "      <td>NaN</td>\n",
       "    </tr>\n",
       "    <tr>\n",
       "      <th>14</th>\n",
       "      <td>caphis</td>\n",
       "      <td>2015-05-28 02:12:13+00:00</td>\n",
       "      <td>Why haven't Missy Elliott and Baskin Robbins teamed up for \"Get Ur Free Cone\" day yet?</td>\n",
       "      <td></td>\n",
       "      <td>http://www.reddit.com/r/Showerthoughts/comments/37jj0x/why_havent_missy_elliott_and_baskin_robbins/</td>\n",
       "      <td>Showerthoughts</td>\n",
       "      <td>2918</td>\n",
       "      <td>205</td>\n",
       "      <td>NaN</td>\n",
       "    </tr>\n",
       "    <tr>\n",
       "      <th>15</th>\n",
       "      <td>All_Under_Heaven</td>\n",
       "      <td>2015-02-02 01:27:53+00:00</td>\n",
       "      <td>MRW Missy fucking Elliott showed up in the Superbowl Halftime show.</td>\n",
       "      <td></td>\n",
       "      <td>http://www.reactiongifs.com/r/2013/07/holy-sht.gif</td>\n",
       "      <td>reactiongifs</td>\n",
       "      <td>3746</td>\n",
       "      <td>313</td>\n",
       "      <td>NaN</td>\n",
       "    </tr>\n",
       "  </tbody>\n",
       "</table>\n",
       "</div>"
      ],
      "text/plain": [
       "              author                      date  \\\n",
       "0             Origai 2020-04-12 17:21:30+00:00   \n",
       "1        Chriscftb97 2019-10-04 20:21:19+00:00   \n",
       "2        Chriscftb97 2019-09-14 16:29:34+00:00   \n",
       "3        Chriscftb97 2019-08-30 21:00:33+00:00   \n",
       "4        hugh__honey 2019-08-22 18:12:01+00:00   \n",
       "5           errgreen 2019-07-26 19:59:15+00:00   \n",
       "6       emitremmus27 2019-06-14 13:59:53+00:00   \n",
       "7          DanWofSoc 2018-05-04 15:59:44+00:00   \n",
       "8         rejeremiad 2018-01-22 17:02:21+00:00   \n",
       "9       silverwolfer 2017-10-23 22:34:16+00:00   \n",
       "10            hennny 2017-01-30 11:40:38+00:00   \n",
       "11        BigLeJaffe 2016-04-26 20:33:14+00:00   \n",
       "12       TheHHHRobot 2016-04-21 17:50:05+00:00   \n",
       "13           RaHxRaH 2015-11-12 14:05:16+00:00   \n",
       "14            caphis 2015-05-28 02:12:13+00:00   \n",
       "15  All_Under_Heaven 2015-02-02 01:27:53+00:00   \n",
       "\n",
       "                                                                                                                                                                                                                                                                        title  \\\n",
       "0                                                                                                                                                                                                                                          When Missy Elliott is a Heidi Stan   \n",
       "1                                                                                               DaBaby's \"KIRK\" sells 147K First Week (8K Pure). Kevin Gates' \"I'm Him\" sells 71K First Week (15K Pure). Young M.A's \"Herstory in the Making\" sells 22K First Week (5K Pure).   \n",
       "2                                                                                                                                            Post Malone's \"Hollywood's Bleeding\" sells 493K First Week (210K Pure). EARTHGANG's \"Mirrorland\" sells 12K First Week (2K Pure).   \n",
       "3   BROCKHAMPTON's \"GINGER\" sells 77K First Week (55K Pure). Jeezy's \"TM104: The Legend of the Snowman\" sells 50K First Week (22K Pure). Missy Elliott's \"ICONOLOGY\" sells 17K First Week (11K Pure). SAINt JHN's \"Ghetto Lenny's Love Songs\" sells 13K First Week (4K Pure).   \n",
       "4                                                                                                                                                                                          Missy Elliott announces first new album in 14 years, ICONOLOGY, coming out TONIGHT   \n",
       "5                                                                                                                                                                                                                  Lizzo - Tempo (feat. Missy Elliott) [Official Music Video]   \n",
       "6                                                                                                                                                                                    Missy Elliott becomes first female hip-hop artist inducted into Songwriters Hall of Fame   \n",
       "7                                                                                                                        Friday Midday MAGAthread! - 05/04/2018 - Focus on the Midterms Volume 1: House Seats : CA-10 Jeff Denham, CA-25 Steve Knight, CA-48 Dana Rohrabacher   \n",
       "8                                                                                                                                                      Malia Obama's Brand New Car is Disgusting | It isn't, refers to \"Limosine One\" used by the POTUS, saved you 257 clicks   \n",
       "9                                                                                                                                                                                                                                Missy Elliott doing you a /r/personalfinance   \n",
       "10                                                                                                                                                                                     MORNING MAGAthread: Let's destroy, debunk and decuck some of these CTR talking points.   \n",
       "11                                                                                                                                                                                              Beyoncé’s “Masterpiece of Black Feminism” Was Produced Almost Entirely By Men   \n",
       "12                                                                                                                                                                                                                                                   R.I.P. Prince Megathread   \n",
       "13                                                                                                                                                                                                        [FRESH] Missy Elliott - WTF (Where They From) ft. Pharrell Williams   \n",
       "14                                                                                                                                                                                     Why haven't Missy Elliott and Baskin Robbins teamed up for \"Get Ur Free Cone\" day yet?   \n",
       "15                                                                                                                                                                                                        MRW Missy fucking Elliott showed up in the Superbowl Halftime show.   \n",
       "\n",
       "                                                                                                                                                                                                                                                                                                                                                                                                                                                                                                               selftext  \\\n",
       "0                                                                                                                                                                                                                                                                                                                                                                                                                                                                                                                         \n",
       "1   Rank| Artist| Album| Label | Pure Sales| Sales + Streaming\\n---|---|----|----|----|----\\n1 | Post Malone | Hollywood's Bleeding | Republic | 200,000 | 489,000\\n2 | Khalid | Free Spirit | Right Hand Music/RCA | 82,000 | 202,000\\n3 | Ed Sheeran | No.6 Collaborations Project | Atlantic | 70,000 | 173,000\\n4 | Tyler, The Creator | IGOR | Columbia | 77,716 | 172,377\\n5 | Juice WRLD | Death Race For Love | Grade A/Interscope | 42,648 | 164,076\\n**6** | **DaBaby** | **KIRK** | **Interscope** | **7,...   \n",
       "2   Rank| Artist| Album| Label | Pure Sales| Sales + Streaming\\n---|---|----|----|----|----\\n**1** | **Post Malone** | **Hollywood's Bleeding** | **Republic** | **210,283** | **492,854**\\n2 | Khalid | Free Spirit | Right Hand Music/RCA | 82,000 | 202,000\\n3 | Ed Sheeran | No.6 Collaborations Project | Atlantic | 70,000 | 173,000\\n4 | Tyler, The Creator | IGOR | Columbia | 77,716 | 172,377\\n5 | Juice WRLD | Death Race For Love | Grade A/Interscope | 42,648 | 164,076\\n6 | DJ Khaled | Father Of Asa...   \n",
       "3   Rank| Artist| Album| Label | Pure Sales| Sales + Streaming\\n---|---|----|----|----|----\\n1 | Khalid | Free Spirit | Right Hand Music/RCA | 82,000 | 202,000\\n2 | Ed Sheeran | No.6 Collaborations Project | Atlantic | 70,000 | 173,000\\n3 | Tyler, The Creator | IGOR | Columbia | 77,716 | 172,377\\n4 | Juice WRLD | Death Race For Love | Grade A/Interscope | 42,648 | 164,076\\n5 | DJ Khaled | Father Of Asahd | We The Best/Epic | 32,466 | 131,717\\n6| Young Thug | So Much Fun | Atlantic | 5,142 | 131,...   \n",
       "4                                                                                                                                                                                                                                                                                                                                                                                                                 Announced on her IG - - https://www.instagram.com/p/B1ebzOigauK/?utm_source=ig_web_button_share_sheet   \n",
       "5                                                                                                                                                                                                                                                                                                                                                                                                                                                                                                                         \n",
       "6                                                                                                                                                                                                                                                                                                                                                                                                                                                                                                                         \n",
       "7   _______________\\n\\n_______________\\n\\nGood afternoon my fellow Americans.  **Your dom sheriff /u/DanWofSoc here to kick off the upcoming election cycle.**  Believe it or not, we have about 24 weeks until the [November midterms](https://i.imgur.com/CdgAsM7.png) so it is time to go to work.  **My goal is to run through all of the competitive house races each Friday until the election.**  It is no secret that the democrat's only goal is the impeachment of our dear GEOTUS and The House of Repres...   \n",
       "8   screenshot of original click headline: https://i.imgur.com/kCDDZBU.png \\n\\nsource: http://archive.is/FkEMT\\n\\nList:  \\n\\n001: Paris Hilton – Bentley GT Continental, Estimated $285K  \\n002: Jay Leno – 1955 Mercedes 300SL Gullwing Coupe, Estimated $1.8 Million  \\n003: Kim Kardashian – Ferrari 458 Italia, Estimated $325K  \\n004: P.Diddy – Rolls Royce Phantom Drophead Coupe, Estimated $440K  \\n005: Nicolas Cage – 1958 Ferrari 250 GT Pininfarina, Estimated $3.6 Million  \\n006: Jerry Seinfeld – Po...   \n",
       "9                                                                                                                                                                                                                                                                                                                                                                                                                                                                                                                         \n",
       "10  #RISE AND SHINE, CENTIPEDES!\\n\\n#How are we all today?\\n\\n#Are we all ready for another week of being **PRESIDENTIAL AF**?\\n\\nI'm sure you don't need me to add another scratch onto an already very scratched, overplayed record- it's obvious right now that CTR  are back with a vengeance. However, **jet fuel can't melt steel memes**. I, for one, absolutely fucking love banning cucks. It takes so much longer for them to create an account and copy and paste a CTR talking point than it does for me...   \n",
       "11  Beyoncé Knowles, Kevin Garrett, James Black, Wynter Gordon, Jack White, Mike Will Made It, Diplo, Ezra Koenig, Kevin Cossom, Melo-X, Danny Boy Styles, Ben Billions, Boots, Mike Dean, Vincent Berry II, Jonathan Coffer, and Just Blaze; these are the names credited as producers on Lemonade, the album The Hollywood Reporter calls a “Revolutionary Work of Black Feminism.” Notice anything peculiar?\\n\\nI believe the music is as advertised: a triumphant masterwork created by some of the most talente...   \n",
       "12  http://www.tmz.com/2016/04/21/prince-dead-at-57/\\n\\nShare your favorite Prince songs, memories, interviews and alike.\\n\\nR.I.P.\\n\\n**REACTIONS FROM THE HIP-HOP COMMUNITY:**\\n\\n[Pete Rock](https://www.instagram.com/p/BEeJtKUGLdr/)\\n\\n[Killer Mike](https://www.instagram.com/p/BEeKYHCy1LZ/)\\n\\n[TDE's Punch](https://twitter.com/iamstillpunch/status/723205084151083008)\\n\\n[Questlove](https://www.instagram.com/p/BEeIpzpwa8I/)\\n\\n[Juicy J](https://www.instagram.com/p/BEeJU-fI-Kj/)\\n\\n[Young Thug](h...   \n",
       "13                                                                                                                                                                                                                                                                                                                                                                                                                                                                                                                        \n",
       "14                                                                                                                                                                                                                                                                                                                                                                                                                                                                                                                        \n",
       "15                                                                                                                                                                                                                                                                                                                                                                                                                                                                                                                        \n",
       "\n",
       "                                                                                                              url  \\\n",
       "0                                                                             https://i.redd.it/nbra20y58fs41.jpg   \n",
       "1          https://www.reddit.com/r/hiphopheads/comments/ddcx0y/dababys_kirk_sells_147k_first_week_8k_pure_kevin/   \n",
       "2         https://www.reddit.com/r/hiphopheads/comments/d47eza/post_malones_hollywoods_bleeding_sells_493k_first/   \n",
       "3             https://www.reddit.com/r/hiphopheads/comments/cxmule/brockhamptons_ginger_sells_77k_first_week_55k/   \n",
       "4             https://www.reddit.com/r/hiphopheads/comments/cu199g/missy_elliott_announces_first_new_album_in_14/   \n",
       "5                                                                     https://www.youtube.com/watch?v=Srq1FqFPwj0   \n",
       "6   https://abcnews.go.com/GMA/Culture/missy-elliott-female-hip-hop-artist-inducted-songwriters/story?id=63695814   \n",
       "7             https://www.reddit.com/r/The_Donald/comments/8h0buy/friday_midday_magathread_05042018_focus_on_the/   \n",
       "8       https://www.reddit.com/r/savedyouaclick/comments/7s751u/malia_obamas_brand_new_car_is_disgusting_it_isnt/   \n",
       "9                                                                                       https://imgur.com/GzzkVyt   \n",
       "10         https://www.reddit.com/r/The_Donald/comments/5r06o1/morning_magathread_lets_destroy_debunk_and_decuck/   \n",
       "11               https://www.reddit.com/r/hiphopheads/comments/4gktw6/beyoncés_masterpiece_of_black_feminism_was/   \n",
       "12                                    https://www.reddit.com/r/hiphopheads/comments/4fu6lc/rip_prince_megathread/   \n",
       "13                                                                                   https://youtu.be/KO_3Qgib6RQ   \n",
       "14            http://www.reddit.com/r/Showerthoughts/comments/37jj0x/why_havent_missy_elliott_and_baskin_robbins/   \n",
       "15                                                             http://www.reactiongifs.com/r/2013/07/holy-sht.gif   \n",
       "\n",
       "             subreddit  score  num_comments  num_crossposts  \n",
       "0      rupaulsdragrace   3682           103             0.0  \n",
       "1          hiphopheads   2470           575             0.0  \n",
       "2          hiphopheads   3332           889             0.0  \n",
       "3          hiphopheads   3317           694             0.0  \n",
       "4          hiphopheads   4262           237             0.0  \n",
       "5                Music   7656           603             0.0  \n",
       "6                Music   7935           299             0.0  \n",
       "7           The_Donald   2873            28             0.0  \n",
       "8       savedyouaclick   9950           339             0.0  \n",
       "9   BlackPeopleTwitter   3057            46             0.0  \n",
       "10          The_Donald   7000           816             NaN  \n",
       "11         hiphopheads   3436           925             NaN  \n",
       "12         hiphopheads   2546           750             NaN  \n",
       "13         hiphopheads   2905           502             NaN  \n",
       "14      Showerthoughts   2918           205             NaN  \n",
       "15        reactiongifs   3746           313             NaN  "
      ]
     },
     "execution_count": 13,
     "metadata": {},
     "output_type": "execute_result"
    }
   ],
   "source": [
    "missy_submissions[['author', 'date', 'title', 'selftext', 'url', 'subreddit', 'score', 'num_comments', 'num_crossposts', ]]"
   ]
  },
  {
   "cell_type": "markdown",
   "metadata": {},
   "source": [
    "To look at the subreddits where \"Missy Elliott\" appears the most often, we can use the `.value_counts()` method."
   ]
  },
  {
   "cell_type": "code",
   "execution_count": 77,
   "metadata": {},
   "outputs": [
    {
     "data": {
      "text/plain": [
       "hiphopheads           7\n",
       "Music                 2\n",
       "The_Donald            2\n",
       "Showerthoughts        1\n",
       "rupaulsdragrace       1\n",
       "savedyouaclick        1\n",
       "reactiongifs          1\n",
       "BlackPeopleTwitter    1\n",
       "Name: subreddit, dtype: int64"
      ]
     },
     "execution_count": 77,
     "metadata": {},
     "output_type": "execute_result"
    }
   ],
   "source": [
    "missy_submissions['subreddit'].value_counts()"
   ]
  },
  {
   "cell_type": "markdown",
   "metadata": {},
   "source": [
    "## Collect Reddit Comments (By Keyword)"
   ]
  },
  {
   "cell_type": "markdown",
   "metadata": {},
   "source": [
    "To collect Reddit *comments* rather than posts, we can use `api.search_comments()` rather than `api.search_submissions()`."
   ]
  },
  {
   "cell_type": "code",
   "execution_count": 39,
   "metadata": {},
   "outputs": [],
   "source": [
    "api_request_generator = api.search_comments(q='Missy Elliott', score = \">2000\")"
   ]
  },
  {
   "cell_type": "code",
   "execution_count": 40,
   "metadata": {},
   "outputs": [],
   "source": [
    "missy_comments = pd.DataFrame([comment.d_ for comment in api_request_generator])"
   ]
  },
  {
   "cell_type": "markdown",
   "metadata": {},
   "source": [
    "## Collect Reddit Posts and Comments (By Multiple Keywords)"
   ]
  },
  {
   "cell_type": "markdown",
   "metadata": {},
   "source": [
    "To search for multiple phrases in posts —  such as posts that mention the author George Orwell OR the author J.R.R. Tolkein — we can use parentheses and the bitwise OR operator `|`"
   ]
  },
  {
   "cell_type": "code",
   "execution_count": 56,
   "metadata": {},
   "outputs": [],
   "source": [
    "api_request_generator = api.search_comments(q='(George Orwell)|(J. R. R. Tolkien)')"
   ]
  },
  {
   "cell_type": "markdown",
   "metadata": {},
   "source": [
    "To search for multiple phrases in posts —  such as posts that mention Shakespeare AND Beyonce — we can use parentheses and the bitwise AND operator `&`"
   ]
  },
  {
   "cell_type": "code",
   "execution_count": 56,
   "metadata": {},
   "outputs": [],
   "source": [
    "api_request_generator = api.search_comments(q='(Shakespeare)&(Beyonce)')"
   ]
  },
  {
   "cell_type": "markdown",
   "metadata": {},
   "source": [
    "## Collect Reddit Posts and Comments (By Date Range)"
   ]
  },
  {
   "cell_type": "code",
   "execution_count": 73,
   "metadata": {},
   "outputs": [],
   "source": [
    "import datetime as dt\n",
    "\n",
    "start_epoch=int(dt.datetime(2020, 1, 1).timestamp())\n",
    "end_epoch=int(dt.datetime(2020, 1, 10).timestamp())\n",
    "\n",
    "api_request_generator = api.search_comments(q='(Shakespeare)&(Beyonce)\"', after = start_epoch, before=end_epoch)"
   ]
  }
 ],
 "metadata": {
  "kernelspec": {
   "display_name": "Python 3",
   "language": "python",
   "name": "python3"
  },
  "language_info": {
   "codemirror_mode": {
    "name": "ipython",
    "version": 3
   },
   "file_extension": ".py",
   "mimetype": "text/x-python",
   "name": "python",
   "nbconvert_exporter": "python",
   "pygments_lexer": "ipython3",
   "version": "3.8.8"
  }
 },
 "nbformat": 4,
 "nbformat_minor": 4
}
