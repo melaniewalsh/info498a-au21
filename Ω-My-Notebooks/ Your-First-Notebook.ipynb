{
 "cells": [
  {
   "cell_type": "markdown",
   "id": "03908388-4384-4fec-8633-1a6b6a3caf62",
   "metadata": {},
   "source": [
    "# Your First Notebook"
   ]
  },
  {
   "cell_type": "markdown",
   "id": "cf5386f8-71fa-4bda-bdcf-51376cab4f66",
   "metadata": {},
   "source": [
    "You can create and save your own notebooks in this directory!"
   ]
  }
 ],
 "metadata": {
  "kernelspec": {
   "display_name": "Python 3",
   "language": "python",
   "name": "python3"
  },
  "language_info": {
   "codemirror_mode": {
    "name": "ipython",
    "version": 3
   },
   "file_extension": ".py",
   "mimetype": "text/x-python",
   "name": "python",
   "nbconvert_exporter": "python",
   "pygments_lexer": "ipython3",
   "version": "3.8.8"
  }
 },
 "nbformat": 4,
 "nbformat_minor": 5
}
