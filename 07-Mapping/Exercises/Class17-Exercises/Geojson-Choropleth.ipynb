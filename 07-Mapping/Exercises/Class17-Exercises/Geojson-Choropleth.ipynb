{
 "cells": [
  {
   "cell_type": "markdown",
   "metadata": {},
   "source": [
    "# Class 17 Exercises — GeoJSON and Choropleth Maps"
   ]
  },
  {
   "cell_type": "markdown",
   "metadata": {},
   "source": [
    "In this lesson, we're going to learn how to analyze and visualize geographic data."
   ]
  },
  {
   "cell_type": "markdown",
   "metadata": {},
   "source": [
    "## GeoJSON "
   ]
  },
  {
   "cell_type": "markdown",
   "metadata": {},
   "source": [
    "GeoJSON.io: https://geojson.io/#map=2/20.0/0.0"
   ]
  },
  {
   "cell_type": "markdown",
   "metadata": {},
   "source": [
    "The data in this section was drawn from [Torn Apart / Separados Project](https://github.com/xpmethod/torn-apart-open-data). This data maps the \"cumulative ICE awards since 2014 to contractors by congressional district,\" as featured in [Volume 2](http://xpmethod.plaintext.in/torn-apart/volume/2/)."
   ]
  },
  {
   "cell_type": "markdown",
   "metadata": {},
   "source": [
    "To create a chropleth map with Folium, we need to pair a \"geo.json\" or \"geojson\" file, which indicates which parts of the map to shade, with a CSV file, which includes the variable that we want to shade by. First, we will explore how you work with a \"geojson\" file. To do so, we will install a package called `geopandas`."
   ]
  },
  {
   "cell_type": "code",
   "execution_count": null,
   "metadata": {},
   "outputs": [],
   "source": [
    "!pip install geopandas"
   ]
  },
  {
   "cell_type": "code",
   "execution_count": null,
   "metadata": {},
   "outputs": [],
   "source": [
    "import pandas as pd\n",
    "import json\n",
    "import geopandas as gpd\n",
    "import matplotlib.pyplot as plt"
   ]
  },
  {
   "cell_type": "markdown",
   "metadata": {},
   "source": [
    "We can load the \"geo.json\" with the `json` library, and it looks like this:"
   ]
  },
  {
   "cell_type": "code",
   "execution_count": null,
   "metadata": {
    "scrolled": true,
    "tags": []
   },
   "outputs": [],
   "source": [
    "json.loads(open(\"ICE_money_districts.geo.json\").read())"
   ]
  },
  {
   "cell_type": "markdown",
   "metadata": {},
   "source": [
    "See what it looks like if you drag and drop this file into GeoJSON.io (https://geojson.io/#map=2/20.0/0.0)."
   ]
  },
  {
   "cell_type": "markdown",
   "metadata": {},
   "source": [
    "We can also load the \"geo.json\" with the `geopandas` library, and it looks like this:"
   ]
  },
  {
   "cell_type": "code",
   "execution_count": null,
   "metadata": {},
   "outputs": [],
   "source": [
    "gpd.read_file(\"ICE_money_districts.geo.json\")"
   ]
  },
  {
   "cell_type": "markdown",
   "metadata": {},
   "source": [
    "We can plot each individual district or entire districts and states."
   ]
  },
  {
   "cell_type": "code",
   "execution_count": null,
   "metadata": {},
   "outputs": [],
   "source": [
    "geo_df = gpd.read_file(\"../data/ICE_money_districts.geo.json\")"
   ]
  },
  {
   "cell_type": "code",
   "execution_count": null,
   "metadata": {},
   "outputs": [],
   "source": [
    "geo_df.head(1)"
   ]
  },
  {
   "cell_type": "code",
   "execution_count": null,
   "metadata": {},
   "outputs": [],
   "source": [
    "geo_df.head(1).plot()"
   ]
  },
  {
   "cell_type": "markdown",
   "metadata": {},
   "source": [
    "Filter the DataFrame to only plot the state of Washington"
   ]
  },
  {
   "cell_type": "code",
   "execution_count": null,
   "metadata": {},
   "outputs": [],
   "source": [
    "state_filter = #Your code here\n",
    "\n",
    "geo_df[state_filter].plot()"
   ]
  },
  {
   "cell_type": "markdown",
   "metadata": {},
   "source": [
    "Plot the entire DataFrame with matplotlib"
   ]
  },
  {
   "cell_type": "code",
   "execution_count": null,
   "metadata": {},
   "outputs": [],
   "source": [
    "fig, ax = plt.subplots(figsize=(24,18))\n",
    "\n",
    "geo_df.plot(ax=ax)"
   ]
  },
  {
   "cell_type": "markdown",
   "metadata": {},
   "source": [
    "Plot the entire DataFrame with Folium"
   ]
  },
  {
   "cell_type": "code",
   "execution_count": null,
   "metadata": {},
   "outputs": [],
   "source": [
    "US_map = folium.Map(location=[42, -102], zoom_start=4)\n",
    "\n",
    "folium.GeoJson(\"../data/ICE_money_districts.geo.json\", name=\"geojson\").add_to(US_map)\n",
    "\n",
    "US_map"
   ]
  },
  {
   "cell_type": "markdown",
   "metadata": {},
   "source": [
    "## Choropleth Maps"
   ]
  },
  {
   "cell_type": "markdown",
   "metadata": {},
   "source": [
    "```Choropleth map = a map where areas are shaded according to a value```"
   ]
  },
  {
   "cell_type": "markdown",
   "metadata": {},
   "source": [
    "The data in this section was drawn from [Torn Apart / Separados Project](https://github.com/xpmethod/torn-apart-open-data). This data maps the \"cumulative ICE awards since 2014 to contractors by congressional district,\" as featured in [Volume 2](http://xpmethod.plaintext.in/torn-apart/volume/2/)."
   ]
  },
  {
   "cell_type": "markdown",
   "metadata": {},
   "source": [
    "To create a chropleth map with Folium, we need to pair a \"geo.json\" file (which indicates which parts of the map to shade) with a CSV file (which includes the variable that we want to shade by)."
   ]
  },
  {
   "cell_type": "code",
   "execution_count": null,
   "metadata": {},
   "outputs": [],
   "source": [
    "US_districts_geo_json = \"../data/ICE_money_districts.geo.json\""
   ]
  },
  {
   "cell_type": "code",
   "execution_count": null,
   "metadata": {},
   "outputs": [],
   "source": [
    "US_districts_csv = pd.read_csv(\"../data/ICE_money_districts.csv\")"
   ]
  },
  {
   "cell_type": "code",
   "execution_count": null,
   "metadata": {
    "scrolled": true
   },
   "outputs": [],
   "source": [
    "US_districts_csv"
   ]
  },
  {
   "cell_type": "code",
   "execution_count": null,
   "metadata": {},
   "outputs": [],
   "source": [
    "US_map = folium.Map(location=[42, -102], zoom_start=4)\n",
    "\n",
    "folium.Choropleth(\n",
    "    # GeoJSON data\n",
    "    geo_data = US_districts_geo_json,\n",
    "    \n",
    "    name = 'choropleth',\n",
    "    \n",
    "    # CSV data\n",
    "    data = US_districts_csv,\n",
    "    \n",
    "    columns = ['districtName', 'total_awards'],\n",
    "    \n",
    "    # Column to match on\n",
    "    key_on = 'feature.properties.districtName',\n",
    "    # Color\n",
    "    fill_color = 'GnBu',\n",
    "    line_opacity = 0.2,\n",
    "    legend_name= 'Total ICE Money Received'\n",
    ").add_to(US_map)\n",
    "\n",
    "US_map"
   ]
  },
  {
   "cell_type": "markdown",
   "metadata": {},
   "source": [
    "## Add a Tooltip to Choropleth"
   ]
  },
  {
   "cell_type": "code",
   "execution_count": null,
   "metadata": {},
   "outputs": [],
   "source": [
    "tooltip = folium.features.GeoJson(\n",
    "    US_districts_geo_json,\n",
    "    tooltip=folium.features.GeoJsonTooltip(fields=['representative', 'state', 'party', 'total_value'], localize=True)\n",
    "                                )\n",
    "US_map.add_child(tooltip)\n",
    "US_map"
   ]
  },
  {
   "cell_type": "markdown",
   "metadata": {},
   "source": [
    "# Seattle 2010 Census Data"
   ]
  },
  {
   "cell_type": "markdown",
   "metadata": {},
   "source": [
    "https://data.seattle.gov/dataset/Census-Block-2010-Population-Statistics/93z3-npn6"
   ]
  },
  {
   "cell_type": "code",
   "execution_count": null,
   "metadata": {},
   "outputs": [],
   "source": [
    "geo_df = gpd.read_file(\"Census_Block_-_2010_Population_Statistics.geojson\")\n",
    "geo_df"
   ]
  },
  {
   "cell_type": "code",
   "execution_count": null,
   "metadata": {},
   "outputs": [],
   "source": [
    "census_df = pd.read_csv('Census_Block_-_2010_Population_Statistics.csv')\n",
    "census_df"
   ]
  },
  {
   "cell_type": "markdown",
   "metadata": {},
   "source": [
    "Calculate demographic percentages"
   ]
  },
  {
   "cell_type": "code",
   "execution_count": null,
   "metadata": {},
   "outputs": [],
   "source": [
    "census_df['percentage_white'] = census_df['White_alone'] / census_df['Total_Population']\n",
    "census_df['percentage_black'] = census_df['Black_or_African_American_alone_or_in_combination'] / census_df['Total_Population']\n",
    "census_df['percentage_asian'] = census_df['Asian_alone_or_in_combination'] / census_df['Total_Population']"
   ]
  },
  {
   "cell_type": "code",
   "execution_count": null,
   "metadata": {},
   "outputs": [],
   "source": [
    "seattle_map = folium.Map(location=[47.65558, -122.3126], zoom_start=12)\n",
    "\n",
    "folium.Choropleth(\n",
    "    \n",
    "    geo_data = geo_df,\n",
    "    \n",
    "    name = 'choropleth',\n",
    "    \n",
    "    data = census_df,\n",
    "    \n",
    "    columns = ['OBJECTID', 'percentage_white'],\n",
    "    # Column to match on\n",
    "    key_on = 'feature.properties.OBJECTID',\n",
    "    fill_color = 'RdBu',\n",
    "    line_opacity = 0.2,\n",
    "    legend_name= 'Nonwhite - White'\n",
    ").add_to(seattle_map)\n",
    "\n",
    "seattle_map"
   ]
  }
 ],
 "metadata": {
  "kernelspec": {
   "display_name": "Python 3",
   "language": "python",
   "name": "python3"
  },
  "language_info": {
   "codemirror_mode": {
    "name": "ipython",
    "version": 3
   },
   "file_extension": ".py",
   "mimetype": "text/x-python",
   "name": "python",
   "nbconvert_exporter": "python",
   "pygments_lexer": "ipython3",
   "version": "3.8.8"
  }
 },
 "nbformat": 4,
 "nbformat_minor": 4
}
