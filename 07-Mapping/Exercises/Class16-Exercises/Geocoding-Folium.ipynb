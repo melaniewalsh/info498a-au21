{
 "cells": [
  {
   "cell_type": "markdown",
   "metadata": {},
   "source": [
    "# Geocoding and Folium — Class 16 Exercises"
   ]
  },
  {
   "cell_type": "markdown",
   "metadata": {},
   "source": [
    "In this lesson, we're going to learn how to analyze and visualize geographic data."
   ]
  },
  {
   "cell_type": "markdown",
   "metadata": {},
   "source": [
    "Torn Apart / Separados Volume 1: https://xpmethod.columbia.edu/torn-apart/volume/1/"
   ]
  },
  {
   "cell_type": "markdown",
   "metadata": {},
   "source": [
    "# Geocoding with GeoPy"
   ]
  },
  {
   "cell_type": "markdown",
   "metadata": {},
   "source": [
    "First, we're going to geocode data — aka get coordinates from addresses or place names — with the Python package [GeoPy](https://geopy.readthedocs.io/en/stable/#). GeoPy makes it easier to use a range of third-party [geocoding API services](https://geopy.readthedocs.io/en/stable/#), such as Google, Bing, ArcGIS, and OpenStreetMap.\n",
    "\n",
    "Though most of these services require an API key, Nominatim, which uses OpenStreetMap data, does not, which is why we're going to use it here."
   ]
  },
  {
   "cell_type": "markdown",
   "metadata": {},
   "source": [
    "### Install GeoPy"
   ]
  },
  {
   "cell_type": "code",
   "execution_count": null,
   "metadata": {},
   "outputs": [],
   "source": [
    "!pip install geopy"
   ]
  },
  {
   "cell_type": "markdown",
   "metadata": {},
   "source": [
    "### Import Nominatim"
   ]
  },
  {
   "cell_type": "markdown",
   "metadata": {},
   "source": [
    "From GeoPy's list of possible geocoding services, we're going to import Nominatim:"
   ]
  },
  {
   "cell_type": "code",
   "execution_count": 1,
   "metadata": {},
   "outputs": [],
   "source": [
    "from geopy.geocoders import Nominatim"
   ]
  },
  {
   "cell_type": "markdown",
   "metadata": {},
   "source": [
    "### Nominatim & OpenStreetMap"
   ]
  },
  {
   "cell_type": "markdown",
   "metadata": {},
   "source": [
    "<img src=\"https://upload.wikimedia.org/wikipedia/commons/thumb/b/b0/Openstreetmap_logo.svg/256px-Openstreetmap_logo.svg.png\" border=2 >"
   ]
  },
  {
   "cell_type": "markdown",
   "metadata": {},
   "source": [
    "Nominatim (which means \"name\" in Latin) uses [OpenStreetMap data](https://www.openstreetmap.org/relation/174979) to match addresses with geopgraphic coordinates. Though we don't need an API key to use Nominatim, we do need to create a unique [application name](https://operations.osmfoundation.org/policies/nominatim/). "
   ]
  },
  {
   "cell_type": "markdown",
   "metadata": {},
   "source": [
    "Here we're initializing Nominatim as a variable called `geolocator`. Change the application name below to your own application name:"
   ]
  },
  {
   "cell_type": "code",
   "execution_count": 5,
   "metadata": {},
   "outputs": [],
   "source": [
    "geolocator = Nominatim(user_agent=\"YOUR NAME's mapping app\", timeout=2)"
   ]
  },
  {
   "cell_type": "markdown",
   "metadata": {},
   "source": [
    "To geocode an address or location, we simply use the `.geocode()` function:"
   ]
  },
  {
   "cell_type": "code",
   "execution_count": 6,
   "metadata": {},
   "outputs": [],
   "source": [
    "location = geolocator.geocode(\"University of Washington\")"
   ]
  },
  {
   "cell_type": "code",
   "execution_count": null,
   "metadata": {},
   "outputs": [],
   "source": [
    "location"
   ]
  },
  {
   "cell_type": "markdown",
   "metadata": {},
   "source": [
    "### Google Geocoding API"
   ]
  },
  {
   "cell_type": "markdown",
   "metadata": {},
   "source": [
    "The Google Geocoding API is superior to Nominatim, but it requires an API key and more set up. To enable the Google Geocoding API and get an API key, see [Get Started with Google Maps Platform](https://developers.google.com/maps/gmp-get-started) and [Get Started with Geocoding API](https://developers.google.com/maps/documentation/geocoding/start)."
   ]
  },
  {
   "cell_type": "code",
   "execution_count": 13,
   "metadata": {
    "tags": [
     "hide-input"
    ]
   },
   "outputs": [],
   "source": [
    "#from geopy.geocoders import GoogleV3\n",
    "#google_geolocator = GoogleV3(api_key=\"YOUR-API-KEY HERE\")\n",
    "#google_geolocator.geocode(\"Cayuga Street\")"
   ]
  },
  {
   "cell_type": "markdown",
   "metadata": {},
   "source": [
    "### Get Address"
   ]
  },
  {
   "cell_type": "code",
   "execution_count": null,
   "metadata": {},
   "outputs": [],
   "source": [
    "print(location.address)"
   ]
  },
  {
   "cell_type": "markdown",
   "metadata": {},
   "source": [
    "### Get Latitude and Longitude"
   ]
  },
  {
   "cell_type": "code",
   "execution_count": null,
   "metadata": {},
   "outputs": [],
   "source": [
    "print(location.latitude, location.longitude)"
   ]
  },
  {
   "cell_type": "markdown",
   "metadata": {},
   "source": [
    "### Get \"Importance\" Score"
   ]
  },
  {
   "cell_type": "code",
   "execution_count": null,
   "metadata": {},
   "outputs": [],
   "source": [
    "print(location.raw)"
   ]
  },
  {
   "cell_type": "code",
   "execution_count": null,
   "metadata": {},
   "outputs": [],
   "source": [
    "type(location.raw)"
   ]
  },
  {
   "cell_type": "markdown",
   "metadata": {},
   "source": [
    "Complete the code below to print out each key and value as it is formatted in the example output below:"
   ]
  },
  {
   "cell_type": "code",
   "execution_count": 17,
   "metadata": {},
   "outputs": [
    {
     "name": "stdout",
     "output_type": "stream",
     "text": [
      "place_id : 282991345 \n",
      "---\n",
      "licence : Data © OpenStreetMap contributors, ODbL 1.0. https://osm.org/copyright \n",
      "---\n",
      "osm_type : relation \n",
      "---\n",
      "osm_id : 5268488 \n",
      "---\n",
      "boundingbox : ['47.6474459', '47.6612001', '-122.3218398', '-122.2865938'] \n",
      "---\n",
      "lat : 47.6543238 \n",
      "---\n",
      "lon : -122.30800894320257 \n",
      "---\n",
      "display_name : University of Washington, 12th Avenue Northeast, University District, Seattle, King County, Washington, 98105-6286, United States \n",
      "---\n",
      "class : amenity \n",
      "---\n",
      "type : university \n",
      "---\n",
      "importance : 0.9084184230792569 \n",
      "---\n",
      "icon : https://nominatim.openstreetmap.org/ui/mapicons//education_university.p.20.png \n",
      "---\n"
     ]
    }
   ],
   "source": [
    "for key, value in location.raw.items():\n",
    "    # Your code here"
   ]
  },
  {
   "cell_type": "markdown",
   "metadata": {},
   "source": [
    "Complete the code below to print out the importance score for this location:"
   ]
  },
  {
   "cell_type": "code",
   "execution_count": null,
   "metadata": {},
   "outputs": [],
   "source": [
    "print(f\"Importance: {location.raw[ENTER-A-DICT-KEY-HERE]}\")"
   ]
  },
  {
   "cell_type": "markdown",
   "metadata": {},
   "source": [
    "### Get Class and Type"
   ]
  },
  {
   "cell_type": "code",
   "execution_count": null,
   "metadata": {},
   "outputs": [],
   "source": [
    "print(f\"\"\"Class: {location.raw['class']}\n",
    "Type: {location.raw['type']}\"\"\")"
   ]
  },
  {
   "cell_type": "markdown",
   "metadata": {},
   "source": [
    "### Get Multiple Possible Matches"
   ]
  },
  {
   "cell_type": "code",
   "execution_count": null,
   "metadata": {},
   "outputs": [],
   "source": [
    "possible_locations = geolocator.geocode(\"University Way\", exactly_one=False)\n",
    "\n",
    "possible_locations"
   ]
  },
  {
   "cell_type": "markdown",
   "metadata": {},
   "source": [
    "Complete the code below to print out the values as they are formatted in the example output below:"
   ]
  },
  {
   "cell_type": "code",
   "execution_count": 261,
   "metadata": {
    "scrolled": true,
    "tags": [
     "output_scroll"
    ]
   },
   "outputs": [
    {
     "name": "stdout",
     "output_type": "stream",
     "text": [
      "University Way Northeast, University District, Seattle, King County, Washington, 98105-6286, United States\n",
      "47.660447 -122.313162\n",
      "Importance: 0.46095814307697175\n",
      "\n",
      "\n",
      "University Way Northeast, University District, Seattle, King County, Washington, 98105-6286, United States\n",
      "47.653274 -122.3133469\n",
      "Importance: 0.46095814307697175\n",
      "\n",
      "\n",
      "University Way, Crewe, Cheshire East, North West England, England, CW1 6ND, United Kingdom\n",
      "53.0808058 -2.4146025\n",
      "Importance: 0.3\n",
      "\n",
      "\n",
      "University Way, Crewe, Cheshire East, North West England, England, CW1 5XN, United Kingdom\n",
      "53.0805749 -2.414805\n",
      "Importance: 0.3\n",
      "\n",
      "\n",
      "University Way, Crewe, Crewe Green, Cheshire East, North West England, England, CW1 6HX, United Kingdom\n",
      "53.0865484 -2.4119713\n",
      "Importance: 0.3\n",
      "\n",
      "\n",
      "University Way, Crewe Green, Cheshire East, North West England, England, CW1 5NP, United Kingdom\n",
      "53.0935795 -2.4138049\n",
      "Importance: 0.3\n",
      "\n",
      "\n",
      "University Way, Cranfield Technology Park, Cranfield, Central Bedfordshire, East of England, England, MK43 0BT, United Kingdom\n",
      "52.0660143 -0.634304\n",
      "Importance: 0.3\n",
      "\n",
      "\n",
      "University Way, Cranfield Technology Park, Cranfield, Central Bedfordshire, East of England, England, MK43 0GH, United Kingdom\n",
      "52.0706446 -0.631061\n",
      "Importance: 0.3\n",
      "\n",
      "\n"
     ]
    }
   ],
   "source": [
    "for location in possible_locations:\n",
    "    # Print the address\n",
    "    # Print the latitude, longitude\n",
    "    # Print the importance score\n",
    "    # Print a line break"
   ]
  },
  {
   "cell_type": "markdown",
   "metadata": {},
   "source": [
    "## Geocode with Pandas"
   ]
  },
  {
   "cell_type": "markdown",
   "metadata": {},
   "source": [
    "To geocode every location in a CSV file, we can use Pandas, make a Python function, and `.apply()` it to every row in the CSV file."
   ]
  },
  {
   "cell_type": "code",
   "execution_count": 257,
   "metadata": {},
   "outputs": [],
   "source": [
    "import pandas as pd\n",
    "pd.options.display.max_rows =  400\n",
    "pd.options.display.max_colwidth = 400"
   ]
  },
  {
   "cell_type": "markdown",
   "metadata": {},
   "source": [
    "To start exploring, let's read in a CSV file with a list of places in and around Seattle."
   ]
  },
  {
   "cell_type": "code",
   "execution_count": 258,
   "metadata": {},
   "outputs": [],
   "source": [
    "seattle_df = pd.read_csv(\"seattle-places.csv\")"
   ]
  },
  {
   "cell_type": "code",
   "execution_count": null,
   "metadata": {},
   "outputs": [],
   "source": [
    "seattle_df"
   ]
  },
  {
   "cell_type": "markdown",
   "metadata": {},
   "source": [
    "## Pandas Review: Apply Function to Single Column"
   ]
  },
  {
   "cell_type": "markdown",
   "metadata": {},
   "source": [
    "Let's convert the column \"place\" to title case with the following function."
   ]
  },
  {
   "cell_type": "code",
   "execution_count": 181,
   "metadata": {},
   "outputs": [],
   "source": [
    "def make_title(text):\n",
    "    return text.title()"
   ]
  },
  {
   "cell_type": "markdown",
   "metadata": {},
   "source": [
    "Complete the code below to convert the \"place\" column to title case"
   ]
  },
  {
   "cell_type": "code",
   "execution_count": 182,
   "metadata": {},
   "outputs": [
    {
     "data": {
      "text/html": [
       "<div>\n",
       "<style scoped>\n",
       "    .dataframe tbody tr th:only-of-type {\n",
       "        vertical-align: middle;\n",
       "    }\n",
       "\n",
       "    .dataframe tbody tr th {\n",
       "        vertical-align: top;\n",
       "    }\n",
       "\n",
       "    .dataframe thead th {\n",
       "        text-align: right;\n",
       "    }\n",
       "</style>\n",
       "<table border=\"1\" class=\"dataframe\">\n",
       "  <thead>\n",
       "    <tr style=\"text-align: right;\">\n",
       "      <th></th>\n",
       "      <th>place</th>\n",
       "    </tr>\n",
       "  </thead>\n",
       "  <tbody>\n",
       "    <tr>\n",
       "      <th>0</th>\n",
       "      <td>University Of Washington</td>\n",
       "    </tr>\n",
       "    <tr>\n",
       "      <th>1</th>\n",
       "      <td>Space Needle</td>\n",
       "    </tr>\n",
       "    <tr>\n",
       "      <th>2</th>\n",
       "      <td>Ballard Locks</td>\n",
       "    </tr>\n",
       "    <tr>\n",
       "      <th>3</th>\n",
       "      <td>Cascade Mountains</td>\n",
       "    </tr>\n",
       "    <tr>\n",
       "      <th>4</th>\n",
       "      <td>Olympic National Park</td>\n",
       "    </tr>\n",
       "    <tr>\n",
       "      <th>5</th>\n",
       "      <td>Bridal Veil Falls</td>\n",
       "    </tr>\n",
       "    <tr>\n",
       "      <th>6</th>\n",
       "      <td>Suzzallo Library</td>\n",
       "    </tr>\n",
       "    <tr>\n",
       "      <th>7</th>\n",
       "      <td>Microsoft Headquarters</td>\n",
       "    </tr>\n",
       "    <tr>\n",
       "      <th>8</th>\n",
       "      <td>Amazon Headquarters</td>\n",
       "    </tr>\n",
       "    <tr>\n",
       "      <th>9</th>\n",
       "      <td>Pike Place Market</td>\n",
       "    </tr>\n",
       "    <tr>\n",
       "      <th>10</th>\n",
       "      <td>Bainbridge Island</td>\n",
       "    </tr>\n",
       "    <tr>\n",
       "      <th>11</th>\n",
       "      <td>Capitol Hill</td>\n",
       "    </tr>\n",
       "    <tr>\n",
       "      <th>12</th>\n",
       "      <td>Husky Stadium</td>\n",
       "    </tr>\n",
       "    <tr>\n",
       "      <th>13</th>\n",
       "      <td>Starbucks</td>\n",
       "    </tr>\n",
       "    <tr>\n",
       "      <th>14</th>\n",
       "      <td>Seattle</td>\n",
       "    </tr>\n",
       "  </tbody>\n",
       "</table>\n",
       "</div>"
      ],
      "text/plain": [
       "                       place\n",
       "0   University Of Washington\n",
       "1               Space Needle\n",
       "2              Ballard Locks\n",
       "3          Cascade Mountains\n",
       "4      Olympic National Park\n",
       "5          Bridal Veil Falls\n",
       "6           Suzzallo Library\n",
       "7     Microsoft Headquarters\n",
       "8        Amazon Headquarters\n",
       "9          Pike Place Market\n",
       "10         Bainbridge Island\n",
       "11              Capitol Hill\n",
       "12             Husky Stadium\n",
       "13                 Starbucks\n",
       "14                   Seattle"
      ]
     },
     "execution_count": 182,
     "metadata": {},
     "output_type": "execute_result"
    }
   ],
   "source": [
    "seattle_df['place'] = seattle_df['place']#Your Code Here\n",
    "seattle_df"
   ]
  },
  {
   "cell_type": "markdown",
   "metadata": {},
   "source": [
    "## Pandas Review: Apply Function to Entire DataFrame\n",
    "\n",
    "`axis='columns'`"
   ]
  },
  {
   "cell_type": "markdown",
   "metadata": {},
   "source": [
    "Here we make a function with `geolocator.geocode()` and ask it to return the address, lat/lon, and importance score:"
   ]
  },
  {
   "cell_type": "code",
   "execution_count": 183,
   "metadata": {},
   "outputs": [],
   "source": [
    "def find_location(row, column_name='place'):\n",
    "    \n",
    "    # Name of the place column in the DataFrame\n",
    "    place = row[column_name]\n",
    "    \n",
    "    location = geolocator.geocode(place)\n",
    "    \n",
    "    if location != None:\n",
    "        return location.address, location.latitude, location.longitude, location.raw['importance']"
   ]
  },
  {
   "cell_type": "markdown",
   "metadata": {},
   "source": [
    "Now let's `.apply()` our function to this Pandas dataframe and see what results Nominatim's geocoding service spits out."
   ]
  },
  {
   "cell_type": "code",
   "execution_count": null,
   "metadata": {
    "scrolled": true,
    "tags": []
   },
   "outputs": [],
   "source": [
    "seattle_df.apply(find_location, axis=\"columns\")"
   ]
  },
  {
   "cell_type": "code",
   "execution_count": null,
   "metadata": {
    "scrolled": true,
    "tags": []
   },
   "outputs": [],
   "source": [
    "seattle_df['location'] = seattle_df.apply(find_location, axis=\"columns\")\n",
    "\n",
    "\n",
    "seattle_df"
   ]
  },
  {
   "cell_type": "code",
   "execution_count": null,
   "metadata": {},
   "outputs": [],
   "source": [
    "seattle_df.apply(find_location, axis=\"columns\", result_type=\"expand\")"
   ]
  },
  {
   "cell_type": "markdown",
   "metadata": {},
   "source": [
    "## Pandas Review: Expand Results\n",
    "\n",
    "`axis='columns', result_type='expand'`"
   ]
  },
  {
   "cell_type": "code",
   "execution_count": null,
   "metadata": {
    "scrolled": true,
    "tags": []
   },
   "outputs": [],
   "source": [
    "seattle_df[['address', 'lat', 'lon', 'importance']] = seattle_df.apply(find_location,\n",
    "                                                                       axis=\"columns\",\n",
    "                                                                       result_type=\"expand\")\n",
    "seattle_df"
   ]
  },
  {
   "cell_type": "markdown",
   "metadata": {},
   "source": [
    "**What do you notice about these results?** ☝️☝️☝️"
   ]
  },
  {
   "cell_type": "markdown",
   "metadata": {},
   "source": [
    "# Making Interactive Maps"
   ]
  },
  {
   "cell_type": "markdown",
   "metadata": {},
   "source": [
    "To map our geocoded coordinates, we're going to use the Python library [Folium](https://python-visualization.github.io/folium/). Folium is built on top of the popular JavaScript library [Leaflet](https://leafletjs.com/)."
   ]
  },
  {
   "cell_type": "markdown",
   "metadata": {},
   "source": [
    "To install and import Folium, run the cells below:"
   ]
  },
  {
   "cell_type": "code",
   "execution_count": null,
   "metadata": {
    "tags": [
     "output_scroll"
    ]
   },
   "outputs": [],
   "source": [
    "!pip install folium"
   ]
  },
  {
   "cell_type": "code",
   "execution_count": 60,
   "metadata": {},
   "outputs": [],
   "source": [
    "import folium"
   ]
  },
  {
   "cell_type": "markdown",
   "metadata": {},
   "source": [
    "### Base Map"
   ]
  },
  {
   "cell_type": "markdown",
   "metadata": {},
   "source": [
    "First, we need to establish a base map. This is where we'll map our geocoded Ithaca locations. To do so, we're going to call `folium.Map()`and enter the general latitude/longitude coordinates of the Ithaca area at a particular zoom.\n",
    "\n",
    "(To find latitude/longitude coordintes for a particular location, you can use Google Maps, [as described here](https://support.google.com/maps/answer/18539?co=GENIE.Platform%3DDesktop&hl=en).)"
   ]
  },
  {
   "cell_type": "code",
   "execution_count": null,
   "metadata": {},
   "outputs": [],
   "source": [
    "seattle_map = folium.Map(location=[47.65558, -122.3126], zoom_start=12)\n",
    "seattle_map"
   ]
  },
  {
   "cell_type": "markdown",
   "metadata": {},
   "source": [
    "### Add a Marker"
   ]
  },
  {
   "cell_type": "markdown",
   "metadata": {},
   "source": [
    "https://python-visualization.github.io/folium/quickstart.html#Markers\n",
    "\n",
    "https://python-visualization.github.io/folium/modules.html#folium.map.Marker"
   ]
  },
  {
   "cell_type": "markdown",
   "metadata": {},
   "source": [
    "Adding a marker to a map is easy with Folium! We'll simply call `folium.Marker()` at a particular lat/lon, enter some text to display when the marker is clicked on, and then add it to our base map."
   ]
  },
  {
   "cell_type": "code",
   "execution_count": null,
   "metadata": {},
   "outputs": [],
   "source": [
    "folium.Marker(location=[47.65142, -122.30765],\n",
    "              popup=\"Bloedel Hall\").add_to(seattle_map)\n",
    "\n",
    "seattle_map"
   ]
  },
  {
   "cell_type": "markdown",
   "metadata": {},
   "source": [
    "### Add Markers From Pandas Data"
   ]
  },
  {
   "cell_type": "markdown",
   "metadata": {},
   "source": [
    "To add markers for every location in our Pandas dataframe, we can make a Python function and `.apply()` it to every row in the dataframe."
   ]
  },
  {
   "cell_type": "code",
   "execution_count": 189,
   "metadata": {},
   "outputs": [],
   "source": [
    "def create_map_markers(row, map_name):\n",
    "    \n",
    "    folium.Marker(location=[row['lat'], row['lon']],\n",
    "                  popup=row['place']).add_to(map_name)"
   ]
  },
  {
   "cell_type": "code",
   "execution_count": null,
   "metadata": {},
   "outputs": [],
   "source": [
    "seattle_df.apply(create_map_markers, map_name=seattle_map, axis='columns')\n",
    "\n",
    "seattle_map"
   ]
  },
  {
   "cell_type": "markdown",
   "metadata": {},
   "source": [
    "### Save Map"
   ]
  },
  {
   "cell_type": "code",
   "execution_count": 75,
   "metadata": {},
   "outputs": [],
   "source": [
    "seattle_map.save(\"Seattle-map.html\")"
   ]
  },
  {
   "cell_type": "markdown",
   "metadata": {},
   "source": [
    "## Torn Apart / Separados"
   ]
  },
  {
   "cell_type": "markdown",
   "metadata": {},
   "source": [
    "The data in this section was drawn from [Torn Apart / Separados Project](https://github.com/xpmethod/torn-apart-open-data). It maps the locations of Immigration and Customs Enforcement (ICE) detention facilities, as featured in [Volume 1](http://xpmethod.plaintext.in/torn-apart/volume/1/)."
   ]
  },
  {
   "cell_type": "code",
   "execution_count": null,
   "metadata": {
    "scrolled": true,
    "tags": [
     "output_scroll"
    ]
   },
   "outputs": [],
   "source": [
    "ICE_df = pd.read_csv(\"ICE-facilities.csv\")\n",
    "ICE_df"
   ]
  },
  {
   "cell_type": "markdown",
   "metadata": {},
   "source": [
    "### Add a Circle Marker"
   ]
  },
  {
   "cell_type": "markdown",
   "metadata": {},
   "source": [
    "https://python-visualization.github.io/folium/modules.html#folium.vector_layers.CircleMarker"
   ]
  },
  {
   "cell_type": "markdown",
   "metadata": {},
   "source": [
    "There are a few [different kinds of markers](https://python-visualization.github.io/folium/quickstart.html#Markers) that we can add to a Folium map, including circles.\n",
    "\n",
    "To make a circle, we can call `folium.CircleMarker()` with a particular radius and the option to fill in the circle. You can explore more customization options in the [Folium documentation](https://python-visualization.github.io/folium/modules.html#folium.vector_layers.CircleMarker). \n",
    "\n",
    "We're also going to add a hover `tooltip` in addition to a `popup`."
   ]
  },
  {
   "cell_type": "code",
   "execution_count": 234,
   "metadata": {},
   "outputs": [],
   "source": [
    "def create_circle_markers(row, map_name):\n",
    "    \n",
    "    text = f\"{row['Name']} <br> {row['City']}, {row['State']}\"\n",
    "    \n",
    "    folium.CircleMarker(\n",
    "    \n",
    "        location=[row['lat'], row['lon']],\n",
    "        radius=10,\n",
    "        color='green',\n",
    "        fill=True,\n",
    "        popup=folium.Popup(text, max_width=200),\n",
    "        tooltip= text\n",
    "                        ).add_to(map_name)"
   ]
  },
  {
   "cell_type": "code",
   "execution_count": null,
   "metadata": {},
   "outputs": [],
   "source": [
    "US_map = folium.Map(location=[42, -102], zoom_start=4)\n",
    "US_map"
   ]
  },
  {
   "cell_type": "code",
   "execution_count": null,
   "metadata": {},
   "outputs": [],
   "source": [
    "# Drop rows with no lat, lon info\n",
    "ICE_df = ICE_df.dropna(subset=['lat', 'lon'])\n",
    "ICE_df.apply(create_circle_markers, map_name=US_map, axis=\"columns\")\n",
    "US_map"
   ]
  },
  {
   "cell_type": "markdown",
   "metadata": {},
   "source": [
    "## Your Turn!"
   ]
  },
  {
   "cell_type": "markdown",
   "metadata": {},
   "source": [
    "Now it's your turn! Explore different ways that you might clean and customize this map.\n",
    "\n",
    "You might consider cleaning up or more clearly formatting the detention center, city, and state, or add additional information to the tooltip.\n",
    "\n",
    "You might consider changing the size of the circle markers based on some category. You might try to change the color of the markers based on some category."
   ]
  },
  {
   "cell_type": "markdown",
   "metadata": {},
   "source": [
    "It will be helpful to see all the data included in this dataset."
   ]
  },
  {
   "cell_type": "code",
   "execution_count": 158,
   "metadata": {},
   "outputs": [
    {
     "data": {
      "text/plain": [
       "Index(['lat', 'lon', 'adpSum', 'onWeb', 'Flags', 'fulladdr', 'DETLOC', 'Name',\n",
       "       'Address', 'City', 'County', 'State', 'Zip', 'Circuit', 'AOR', 'Docket',\n",
       "       'Type', 'Type.Detailed', 'ICE.Funded', 'Population.Count',\n",
       "       'Date.of.Last.Use', 'Date.of.First.Use', 'FY18.Max.Population.Count',\n",
       "       'FY18.ADP', 'FY17.ADP', 'FY16.ADP', 'FY15.ADP', 'FY14.ADP',\n",
       "       'FY18.Facility.Bookins', 'FY17.Facility.Bookins',\n",
       "       'FY16.Facility.Bookins', 'FY15.Facility.Bookins', 'FY18.Non.Criminal',\n",
       "       'FY18.Criminal', 'FY17.Non.Criminal', 'FY17.Criminal',\n",
       "       'FY16.Non.Criminal', 'FY16.Criminal', 'FY15.Non.Criminal',\n",
       "       'FY15.Criminal', 'ICE.Threat.Level.1', 'ICE.Threat.Level.2',\n",
       "       'ICE.Threat.Level.3', 'No.ICE.Threat.Level', 'Facility.Operator',\n",
       "       'FY17.Calendar.Days.in.Use', 'FY17...of.Days.in.Use',\n",
       "       'FY17.Total.Mandays', 'FY17.Max.Pop.Count', 'geocodelat', 'geocodelon'],\n",
       "      dtype='object')"
      ]
     },
     "execution_count": 158,
     "metadata": {},
     "output_type": "execute_result"
    }
   ],
   "source": [
    "ICE_df.columns"
   ]
  },
  {
   "cell_type": "code",
   "execution_count": 248,
   "metadata": {},
   "outputs": [],
   "source": [
    "# Change the function to customize your own map!\n",
    "\n",
    "def create_custom_circle_markers(row, map_name):\n",
    "    \n",
    "    text = f\"{row['Name']} <br> {row['City']}, {row['State']}\"\n",
    "    \n",
    "    folium.CircleMarker(\n",
    "    \n",
    "        location=[row['lat'], row['lon']],\n",
    "        radius= 10,\n",
    "        color='green',\n",
    "        fill=True,\n",
    "        fill_opacity=0.3,\n",
    "        popup=folium.Popup(text, max_width=200),\n",
    "        tooltip= text\n",
    "                        ).add_to(map_name)"
   ]
  },
  {
   "cell_type": "code",
   "execution_count": null,
   "metadata": {},
   "outputs": [],
   "source": [
    "# Reset map\n",
    "US_map = folium.Map(location=[42, -102], zoom_start=4)\n",
    "ICE_df = ICE_df.dropna(subset=['lat', 'lon'])\n",
    "ICE_df.apply(create_custom_circle_markers, map_name=US_map, axis=\"columns\")\n",
    "US_map"
   ]
  }
 ],
 "metadata": {
  "kernelspec": {
   "display_name": "Python 3",
   "language": "python",
   "name": "python3"
  },
  "language_info": {
   "codemirror_mode": {
    "name": "ipython",
    "version": 3
   },
   "file_extension": ".py",
   "mimetype": "text/x-python",
   "name": "python",
   "nbconvert_exporter": "python",
   "pygments_lexer": "ipython3",
   "version": "3.8.8"
  }
 },
 "nbformat": 4,
 "nbformat_minor": 4
}
