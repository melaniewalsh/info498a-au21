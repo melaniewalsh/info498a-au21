{
 "cells": [
  {
   "cell_type": "markdown",
   "metadata": {},
   "source": [
    "# HW 3"
   ]
  },
  {
   "cell_type": "markdown",
   "metadata": {},
   "source": [
    "**Student Name**: Your name here  \n",
    "**UW ID**: Your ID here  \n",
    "**(Double-click this cell to type)**"
   ]
  },
  {
   "cell_type": "markdown",
   "metadata": {},
   "source": [
    "<div class=\"admonition note\" name=\"html-admonition\" style=\"background: lightblue; padding: 10px\">\n",
    "<p class=\"title\">Note</p>\n",
    "There are sample outputs in the notebook below that demonstrate what your outputs should look like if you use the correct code. You may want to create a copy of this Jupyter notebook so that you can preserve the demonstration outputs and refer to them as you work.\n",
    "</div>"
   ]
  },
  {
   "cell_type": "markdown",
   "metadata": {},
   "source": [
    "In this homework assignment, you will be analyzing [circulation data](https://data.seattle.gov/Community/Checkouts-by-Title/tmmm-ytt6) made available by the Seattle Public Library. The dataset includes items that were checked out 15+ times in a month between January 2017 and September 2021.\n",
    "\n",
    "![](https://imgr.search.brave.com/TI642y9Tt0rtRqi9cXLonZle_hAbotbbBbQW_P9HAIE/fit/600/142/ce/1/aHR0cHM6Ly90aHVu/ZGVyLmNkbi5vdmVy/ZHJpdmUuY29tL2xv/Z29zL2NydXNoZWQv/OTc0LnBuZz8x)\n",
    "\n",
    "For more information about this dataset, see the Seattle Public Library's [data portal](https://data.seattle.gov/Community/Checkouts-by-Title/tmmm-ytt6)."
   ]
  },
  {
   "cell_type": "markdown",
   "metadata": {},
   "source": [
    "## 1. Import Pandas (1 point)"
   ]
  },
  {
   "cell_type": "markdown",
   "metadata": {},
   "source": [
    "Import pandas and rename it as its commonly used alias"
   ]
  },
  {
   "cell_type": "code",
   "execution_count": 1,
   "metadata": {},
   "outputs": [],
   "source": [
    "# Your code here"
   ]
  },
  {
   "cell_type": "markdown",
   "metadata": {},
   "source": [
    "Change [Pandas' default display settings](https://pandas.pydata.org/pandas-docs/stable/user_guide/options.html) to show wider columns"
   ]
  },
  {
   "cell_type": "code",
   "execution_count": 3,
   "metadata": {},
   "outputs": [],
   "source": [
    "pd.options.display.max_colwidth = 100"
   ]
  },
  {
   "cell_type": "markdown",
   "metadata": {},
   "source": [
    "## 2. Read in Data (1 point)"
   ]
  },
  {
   "cell_type": "markdown",
   "metadata": {},
   "source": [
    "Read in the CSV file \"Seattle_Library_2017-2021.csv\" and assign the resulting DataFrame to the variable `seattle_df`.  \n",
    "*Note: the delimiter for this file is a tab, not a comma.*"
   ]
  },
  {
   "cell_type": "code",
   "execution_count": null,
   "metadata": {},
   "outputs": [],
   "source": [
    "# Your code here"
   ]
  },
  {
   "cell_type": "markdown",
   "metadata": {},
   "source": [
    "## 3. Examine 9 Random Rows (1 point)"
   ]
  },
  {
   "cell_type": "code",
   "execution_count": 14,
   "metadata": {},
   "outputs": [],
   "source": [
    "# Your code here"
   ]
  },
  {
   "cell_type": "markdown",
   "metadata": {},
   "source": [
    "## 4. Calculate Summary Statistics for All Columns (4 points)"
   ]
  },
  {
   "cell_type": "code",
   "execution_count": 27,
   "metadata": {},
   "outputs": [
    {
     "data": {
      "text/html": [
       "<div>\n",
       "<style scoped>\n",
       "    .dataframe tbody tr th:only-of-type {\n",
       "        vertical-align: middle;\n",
       "    }\n",
       "\n",
       "    .dataframe tbody tr th {\n",
       "        vertical-align: top;\n",
       "    }\n",
       "\n",
       "    .dataframe thead th {\n",
       "        text-align: right;\n",
       "    }\n",
       "</style>\n",
       "<table border=\"1\" class=\"dataframe\">\n",
       "  <thead>\n",
       "    <tr style=\"text-align: right;\">\n",
       "      <th></th>\n",
       "      <th>UsageClass</th>\n",
       "      <th>CheckoutType</th>\n",
       "      <th>MaterialType</th>\n",
       "      <th>CheckoutYear</th>\n",
       "      <th>CheckoutMonth</th>\n",
       "      <th>Checkouts</th>\n",
       "      <th>Title</th>\n",
       "      <th>Creator</th>\n",
       "      <th>Subjects</th>\n",
       "      <th>Publisher</th>\n",
       "      <th>PublicationYear</th>\n",
       "    </tr>\n",
       "  </thead>\n",
       "  <tbody>\n",
       "    <tr>\n",
       "      <th>count</th>\n",
       "      <td>327953</td>\n",
       "      <td>327953</td>\n",
       "      <td>327953</td>\n",
       "      <td>327953.000000</td>\n",
       "      <td>327953.000000</td>\n",
       "      <td>327953.000000</td>\n",
       "      <td>327953</td>\n",
       "      <td>255057</td>\n",
       "      <td>323477</td>\n",
       "      <td>324105</td>\n",
       "      <td>323024</td>\n",
       "    </tr>\n",
       "    <tr>\n",
       "      <th>unique</th>\n",
       "      <td>2</td>\n",
       "      <td>5</td>\n",
       "      <td>24</td>\n",
       "      <td>NaN</td>\n",
       "      <td>NaN</td>\n",
       "      <td>NaN</td>\n",
       "      <td>43250</td>\n",
       "      <td>12681</td>\n",
       "      <td>29169</td>\n",
       "      <td>4244</td>\n",
       "      <td>660</td>\n",
       "    </tr>\n",
       "    <tr>\n",
       "      <th>top</th>\n",
       "      <td>Physical</td>\n",
       "      <td>Horizon</td>\n",
       "      <td>BOOK</td>\n",
       "      <td>NaN</td>\n",
       "      <td>NaN</td>\n",
       "      <td>NaN</td>\n",
       "      <td>Hillbilly elegy : a memoir of a family and culture in crisis / J.D. Vance.</td>\n",
       "      <td>Willems, Mo</td>\n",
       "      <td>Fiction, Literature</td>\n",
       "      <td>Random House, Inc.</td>\n",
       "      <td>[2017]</td>\n",
       "    </tr>\n",
       "    <tr>\n",
       "      <th>freq</th>\n",
       "      <td>190394</td>\n",
       "      <td>190394</td>\n",
       "      <td>119060</td>\n",
       "      <td>NaN</td>\n",
       "      <td>NaN</td>\n",
       "      <td>NaN</td>\n",
       "      <td>87</td>\n",
       "      <td>2420</td>\n",
       "      <td>12500</td>\n",
       "      <td>22342</td>\n",
       "      <td>25040</td>\n",
       "    </tr>\n",
       "    <tr>\n",
       "      <th>mean</th>\n",
       "      <td>NaN</td>\n",
       "      <td>NaN</td>\n",
       "      <td>NaN</td>\n",
       "      <td>2018.678866</td>\n",
       "      <td>6.267673</td>\n",
       "      <td>34.873500</td>\n",
       "      <td>NaN</td>\n",
       "      <td>NaN</td>\n",
       "      <td>NaN</td>\n",
       "      <td>NaN</td>\n",
       "      <td>NaN</td>\n",
       "    </tr>\n",
       "    <tr>\n",
       "      <th>std</th>\n",
       "      <td>NaN</td>\n",
       "      <td>NaN</td>\n",
       "      <td>NaN</td>\n",
       "      <td>1.332451</td>\n",
       "      <td>3.423648</td>\n",
       "      <td>47.287902</td>\n",
       "      <td>NaN</td>\n",
       "      <td>NaN</td>\n",
       "      <td>NaN</td>\n",
       "      <td>NaN</td>\n",
       "      <td>NaN</td>\n",
       "    </tr>\n",
       "    <tr>\n",
       "      <th>min</th>\n",
       "      <td>NaN</td>\n",
       "      <td>NaN</td>\n",
       "      <td>NaN</td>\n",
       "      <td>2017.000000</td>\n",
       "      <td>1.000000</td>\n",
       "      <td>15.000000</td>\n",
       "      <td>NaN</td>\n",
       "      <td>NaN</td>\n",
       "      <td>NaN</td>\n",
       "      <td>NaN</td>\n",
       "      <td>NaN</td>\n",
       "    </tr>\n",
       "    <tr>\n",
       "      <th>25%</th>\n",
       "      <td>NaN</td>\n",
       "      <td>NaN</td>\n",
       "      <td>NaN</td>\n",
       "      <td>2018.000000</td>\n",
       "      <td>3.000000</td>\n",
       "      <td>17.000000</td>\n",
       "      <td>NaN</td>\n",
       "      <td>NaN</td>\n",
       "      <td>NaN</td>\n",
       "      <td>NaN</td>\n",
       "      <td>NaN</td>\n",
       "    </tr>\n",
       "    <tr>\n",
       "      <th>50%</th>\n",
       "      <td>NaN</td>\n",
       "      <td>NaN</td>\n",
       "      <td>NaN</td>\n",
       "      <td>2019.000000</td>\n",
       "      <td>6.000000</td>\n",
       "      <td>22.000000</td>\n",
       "      <td>NaN</td>\n",
       "      <td>NaN</td>\n",
       "      <td>NaN</td>\n",
       "      <td>NaN</td>\n",
       "      <td>NaN</td>\n",
       "    </tr>\n",
       "    <tr>\n",
       "      <th>75%</th>\n",
       "      <td>NaN</td>\n",
       "      <td>NaN</td>\n",
       "      <td>NaN</td>\n",
       "      <td>2020.000000</td>\n",
       "      <td>9.000000</td>\n",
       "      <td>34.000000</td>\n",
       "      <td>NaN</td>\n",
       "      <td>NaN</td>\n",
       "      <td>NaN</td>\n",
       "      <td>NaN</td>\n",
       "      <td>NaN</td>\n",
       "    </tr>\n",
       "    <tr>\n",
       "      <th>max</th>\n",
       "      <td>NaN</td>\n",
       "      <td>NaN</td>\n",
       "      <td>NaN</td>\n",
       "      <td>2021.000000</td>\n",
       "      <td>12.000000</td>\n",
       "      <td>4903.000000</td>\n",
       "      <td>NaN</td>\n",
       "      <td>NaN</td>\n",
       "      <td>NaN</td>\n",
       "      <td>NaN</td>\n",
       "      <td>NaN</td>\n",
       "    </tr>\n",
       "  </tbody>\n",
       "</table>\n",
       "</div>"
      ],
      "text/plain": [
       "       UsageClass CheckoutType MaterialType   CheckoutYear  CheckoutMonth  \\\n",
       "count      327953       327953       327953  327953.000000  327953.000000   \n",
       "unique          2            5           24            NaN            NaN   \n",
       "top      Physical      Horizon         BOOK            NaN            NaN   \n",
       "freq       190394       190394       119060            NaN            NaN   \n",
       "mean          NaN          NaN          NaN    2018.678866       6.267673   \n",
       "std           NaN          NaN          NaN       1.332451       3.423648   \n",
       "min           NaN          NaN          NaN    2017.000000       1.000000   \n",
       "25%           NaN          NaN          NaN    2018.000000       3.000000   \n",
       "50%           NaN          NaN          NaN    2019.000000       6.000000   \n",
       "75%           NaN          NaN          NaN    2020.000000       9.000000   \n",
       "max           NaN          NaN          NaN    2021.000000      12.000000   \n",
       "\n",
       "            Checkouts  \\\n",
       "count   327953.000000   \n",
       "unique            NaN   \n",
       "top               NaN   \n",
       "freq              NaN   \n",
       "mean        34.873500   \n",
       "std         47.287902   \n",
       "min         15.000000   \n",
       "25%         17.000000   \n",
       "50%         22.000000   \n",
       "75%         34.000000   \n",
       "max       4903.000000   \n",
       "\n",
       "                                                                             Title  \\\n",
       "count                                                                       327953   \n",
       "unique                                                                       43250   \n",
       "top     Hillbilly elegy : a memoir of a family and culture in crisis / J.D. Vance.   \n",
       "freq                                                                            87   \n",
       "mean                                                                           NaN   \n",
       "std                                                                            NaN   \n",
       "min                                                                            NaN   \n",
       "25%                                                                            NaN   \n",
       "50%                                                                            NaN   \n",
       "75%                                                                            NaN   \n",
       "max                                                                            NaN   \n",
       "\n",
       "            Creator             Subjects           Publisher PublicationYear  \n",
       "count        255057               323477              324105          323024  \n",
       "unique        12681                29169                4244             660  \n",
       "top     Willems, Mo  Fiction, Literature  Random House, Inc.          [2017]  \n",
       "freq           2420                12500               22342           25040  \n",
       "mean            NaN                  NaN                 NaN             NaN  \n",
       "std             NaN                  NaN                 NaN             NaN  \n",
       "min             NaN                  NaN                 NaN             NaN  \n",
       "25%             NaN                  NaN                 NaN             NaN  \n",
       "50%             NaN                  NaN                 NaN             NaN  \n",
       "75%             NaN                  NaN                 NaN             NaN  \n",
       "max             NaN                  NaN                 NaN             NaN  "
      ]
     },
     "execution_count": 27,
     "metadata": {},
     "output_type": "execute_result"
    }
   ],
   "source": [
    "# Your code here"
   ]
  },
  {
   "cell_type": "markdown",
   "metadata": {},
   "source": [
    "Based on the summary statistics above, answer the following questions:\n",
    "- What is the maximum number of checkouts?\n",
    "- What is the minimum number of checkouts?\n",
    "- How many different material types are there?\n",
    "- How many rows are missing information in the \"Creator\" column? (You may need to do some basic math with the total number of rows...)"
   ]
  },
  {
   "cell_type": "markdown",
   "metadata": {},
   "source": [
    "Provide your answers here:\n",
    "- Maximum number of checkouts: \n",
    "- Minimum number of checkouts: \n",
    "- Number of different material types: \n",
    "- Number of missing rows in the \"Creator\" column: "
   ]
  },
  {
   "cell_type": "markdown",
   "metadata": {},
   "source": [
    "## 5. What are the top 15 most checked out items? (5 points)"
   ]
  },
  {
   "cell_type": "markdown",
   "metadata": {},
   "source": [
    "What are the top 15 most checked out items in this dataset?\n",
    "\n",
    "This is a tricky question because the SPL checkouts are recorded by individual month. To find the top 15 most checked out items for the period 2017-2021, you first need to group the data by title and then calculate the sum total for all the checkouts."
   ]
  },
  {
   "cell_type": "markdown",
   "metadata": {},
   "source": [
    "Group the DataFrame by title and then calculate the sum total checkouts for each title for the entire period 2017-2021"
   ]
  },
  {
   "cell_type": "code",
   "execution_count": 28,
   "metadata": {},
   "outputs": [
    {
     "data": {
      "text/plain": [
       "Title\n",
       "!Estamos en un libro! / por Mo Willems ; adaptado al español por F. Isabel Campoy.                                                                                                                                                                                       15\n",
       "\"A very Kacey Christmas\" / Kacey Musgraves.                                                                                                                                                                                                                              17\n",
       "\"A\" is for Alibi: Kinsey Millhone Series, Book 1                                                                                                                                                                                                                        636\n",
       "\"A\" is for Alibi: Kinsey Millhone Series, Book 1 (unabridged)                                                                                                                                                                                                           101\n",
       "\"A\" is for Alibi: Kinsey Millhone Series, Book 1 (unabridged) (Unabridged)                                                                                                                                                                                              663\n",
       "                                                                                                                                                                                                                                                                       ... \n",
       "¡Vamos! Let's go eat! / by Raúl the Third ; colors by Elaine Bay.                                                                                                                                                                                                        16\n",
       "¡Vamos! Let's go to the market / by Raúl the Third ; colors by Elaine Bay.                                                                                                                                                                                               68\n",
       "ÆonFlux / Paramount Pictures and Lakeshore Entertainment ; a Valhalla Motion Picture and MTV Films production ; produced by Gale Ann Hurd, David Gale, Gary Lucchesi, Greg Goodman, Martha Griffin ; written by Phil Hay & Matt Manfredi ; directed by Karyn Kusama.     15\n",
       "÷                                                                                                                                                                                                                                                                        16\n",
       "÷ (Deluxe)                                                                                                                                                                                                                                                              275\n",
       "Name: Checkouts, Length: 43250, dtype: int64"
      ]
     },
     "execution_count": 28,
     "metadata": {},
     "output_type": "execute_result"
    }
   ],
   "source": [
    "# Your code here"
   ]
  },
  {
   "cell_type": "markdown",
   "metadata": {},
   "source": [
    "Now assign the resulting output above to the variable `total_checkouts` (in other words, copy and paste the code you used above to the cell below)"
   ]
  },
  {
   "cell_type": "code",
   "execution_count": null,
   "metadata": {},
   "outputs": [],
   "source": [
    "total_checkouts = "
   ]
  },
  {
   "cell_type": "markdown",
   "metadata": {},
   "source": [
    "Now, sort the values in `total_checkouts` from the highest number of checkouts to the lowest. Then examine only the top 15 values."
   ]
  },
  {
   "cell_type": "code",
   "execution_count": null,
   "metadata": {},
   "outputs": [],
   "source": [
    "# Your code here"
   ]
  },
  {
   "cell_type": "markdown",
   "metadata": {},
   "source": [
    "## 6. Interpret and Synthesize (1 point)"
   ]
  },
  {
   "cell_type": "markdown",
   "metadata": {},
   "source": [
    "In 2 to 3 sentences, offer an interpretation of the top 15 most checked out items. Pick 2 or 3 items and discuss why you think they were so popular during the period 2017-2021."
   ]
  },
  {
   "cell_type": "markdown",
   "metadata": {},
   "source": [
    "**Your answer here**"
   ]
  },
  {
   "cell_type": "markdown",
   "metadata": {},
   "source": [
    "## 7. How did ebook checkout patterns fluctuate between 2017-2021? (6 points)"
   ]
  },
  {
   "cell_type": "markdown",
   "metadata": {},
   "source": [
    "How did ebook checkout patterns fluctuate between 2017 and 2021? Did they increase, decrease, or stay the same? Did people become more interested or less interested in ebooks? To answer these questions, you first need to to filter the dataset, and then you need to find the total number of checkouts for ebooks for each year.\n",
    "\n",
    "First, filter the dataset to only include checkouts that were the material type \"EBOOK\", then make a copy of this smaller DataFrame and assign it to the variable `ebook_df`"
   ]
  },
  {
   "cell_type": "code",
   "execution_count": null,
   "metadata": {},
   "outputs": [],
   "source": [
    "ebook_filter =  # Your code here\n",
    "ebook_df =  # Your code here"
   ]
  },
  {
   "cell_type": "markdown",
   "metadata": {},
   "source": [
    "Next, group the `ebook_df` by checkout year and calculate the sum total of ebook checkouts per year. Then plot the results as a line graph, and make the line graph a color other than blue."
   ]
  },
  {
   "cell_type": "code",
   "execution_count": 33,
   "metadata": {},
   "outputs": [
    {
     "data": {
      "text/plain": [
       "<AxesSubplot:xlabel='CheckoutYear'>"
      ]
     },
     "execution_count": 33,
     "metadata": {},
     "output_type": "execute_result"
    },
    {
     "data": {
      "image/png": "[encoded data removed]",
      "text/plain": [
       "<Figure size 432x288 with 1 Axes>"
      ]
     },
     "metadata": {
      "needs_background": "light"
     },
     "output_type": "display_data"
    }
   ],
   "source": [
    "ebook_df... # Your code here"
   ]
  },
  {
   "cell_type": "markdown",
   "metadata": {},
   "source": [
    "## 8. Interpret and Synthesize (1 point)"
   ]
  },
  {
   "cell_type": "markdown",
   "metadata": {},
   "source": [
    "In 2 or 3 sentences, describe the pattern that you observe in the line graph above, and offer an interpretation for why the number of ebook checkouts has increased, decreased, or stayed  the same between 2017 and 2021."
   ]
  },
  {
   "cell_type": "markdown",
   "metadata": {},
   "source": [
    "**Your answer here**"
   ]
  },
  {
   "cell_type": "markdown",
   "metadata": {},
   "source": [
    "## When You're Finished"
   ]
  },
  {
   "cell_type": "markdown",
   "metadata": {},
   "source": [
    "When you're finished, you should:\n",
    "\n",
    "1. Save your Jupyter notebook with your last name. To save your notebook, you can select File -> Save Notebook or File -> Save Notebook As...\n",
    "\n",
    "2. Download your Jupyter notebook file (.ipynb), and then upload it to [Gradescope](https://www.gradescope.com/courses/322397/assignments/)."
   ]
  }
 ],
 "metadata": {
  "kernelspec": {
   "display_name": "Python 3",
   "language": "python",
   "name": "python3"
  },
  "language_info": {
   "codemirror_mode": {
    "name": "ipython",
    "version": 3
   },
   "file_extension": ".py",
   "mimetype": "text/x-python",
   "name": "python",
   "nbconvert_exporter": "python",
   "pygments_lexer": "ipython3",
   "version": "3.8.8"
  }
 },
 "nbformat": 4,
 "nbformat_minor": 4
}
