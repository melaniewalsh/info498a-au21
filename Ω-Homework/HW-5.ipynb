{
 "cells": [
  {
   "cell_type": "markdown",
   "metadata": {},
   "source": [
    "# HW 5 — Python/Pandas Review"
   ]
  },
  {
   "cell_type": "markdown",
   "metadata": {},
   "source": [
    "**Student Name**: Your name here  \n",
    "**UW ID**: Your ID here  \n",
    "**(Double-click this cell to type)**"
   ]
  },
  {
   "cell_type": "markdown",
   "metadata": {},
   "source": [
    "---"
   ]
  },
  {
   "cell_type": "markdown",
   "metadata": {},
   "source": [
    "<div class=\"admonition note\" name=\"html-admonition\" style=\"background: lightblue; padding: 10px\">\n",
    "<p class=\"title\">Note</p>\n",
    "There are sample outputs in the notebook below that demonstrate what your outputs should look like if you use the correct code. You may want to create a copy of this Jupyter notebook so that you can preserve the demonstration outputs and refer to them as you work.\n",
    "</div>"
   ]
  },
  {
   "cell_type": "markdown",
   "metadata": {},
   "source": [
    "In this homework assignment, you will review basic Python and Pandas lessons by analyzing data about U.S. Immigration and Customs Enforcement (ICE) [facilities](https://github.com/xpmethod/torn-apart-open-data), which was collected by the [Torn Apart / Separados Project](https://xpmethod.columbia.edu/torn-apart/volume/1/index)."
   ]
  },
  {
   "cell_type": "markdown",
   "metadata": {},
   "source": [
    "Here is background information about how this ICE data was collected:"
   ]
  },
  {
   "cell_type": "markdown",
   "metadata": {},
   "source": [
    "> For Volume 1, we began with ICE/CBP websites and got the public geo-data that they serve. We then began looking into business records, federal records, and news records culling data about locations used by federal, state, and private for-profit agencies...our largest data tranche came via our discovery of the [“November 2017 ICE Detention Facility Lists,”](https://immigrantjustice.org/staff/blog/ice-released-its-most-comprehensive-immigration-detention-data-yet) which exists because of the FOIA efforts of the Immigrant Legal Resource Center and the National Immigrant Justice Center...Our full sources of data are in the bibliography.\n",
    "> - [\"Data,\" Torn Apart / Separados](http://xpmethod.columbia.edu/torn-apart/credits.html)"
   ]
  },
  {
   "cell_type": "markdown",
   "metadata": {},
   "source": [
    "## Python Review\n",
    "---"
   ]
  },
  {
   "cell_type": "markdown",
   "metadata": {},
   "source": [
    "## 1. Make a Function (2 points)"
   ]
  },
  {
   "cell_type": "markdown",
   "metadata": {},
   "source": [
    "The names of ICE facilities in the Torn Apart / Separados dataset are recorded in all caps — for example, \"SOUTH TEXAS DETENTION COMPLEX.\" Eventually, we want to convert them to title case.\n",
    "\n",
    "First, complete the code below so that the function `make_titlecase()` returns any text as title case — in other words, so that each word in the text starts with a capital letter."
   ]
  },
  {
   "cell_type": "code",
   "execution_count": 13,
   "metadata": {},
   "outputs": [],
   "source": [
    "def make_titlecase(text):\n",
    "    # Your code here\n",
    "    return title_text"
   ]
  },
  {
   "cell_type": "markdown",
   "metadata": {},
   "source": [
    "Then test your code below to make sure you get the right answer"
   ]
  },
  {
   "cell_type": "code",
   "execution_count": 14,
   "metadata": {},
   "outputs": [
    {
     "data": {
      "text/plain": [
       "'South Texas Detention Complex'"
      ]
     },
     "execution_count": 14,
     "metadata": {},
     "output_type": "execute_result"
    }
   ],
   "source": [
    "make_titlecase(\"SOUTH TEXAS DETENTION COMPLEX\")"
   ]
  },
  {
   "cell_type": "markdown",
   "metadata": {},
   "source": [
    "## 2. For Loop (2 points)"
   ]
  },
  {
   "cell_type": "markdown",
   "metadata": {},
   "source": [
    "Next, loop through the list `names` and print out each ICE facility name in title case (each word begins with a capital letter)"
   ]
  },
  {
   "cell_type": "code",
   "execution_count": 27,
   "metadata": {},
   "outputs": [],
   "source": [
    "names = ['SOUTH TEXAS DETENTION COMPLEX',\n",
    " 'STEWART DETENTION CENTER',\n",
    " 'ADELANTO ICE PROCESSING CENTER']"
   ]
  },
  {
   "cell_type": "markdown",
   "metadata": {},
   "source": [
    "Test your code below to make sure you get the right answer"
   ]
  },
  {
   "cell_type": "code",
   "execution_count": 29,
   "metadata": {},
   "outputs": [
    {
     "name": "stdout",
     "output_type": "stream",
     "text": [
      "South Texas Detention Complex\n",
      "Stewart Detention Center\n",
      "Adelanto Ice Processing Center\n"
     ]
    }
   ],
   "source": [
    "# Your code here\n",
    "    # Your code here"
   ]
  },
  {
   "cell_type": "markdown",
   "metadata": {},
   "source": [
    "## 3. Enumerate (3 points)"
   ]
  },
  {
   "cell_type": "markdown",
   "metadata": {},
   "source": [
    "Now, loop through the list `names` and print out \"ICE Facility *N*\" next to each name in title case, where *N* is a running index number that starts with 1.  \n",
    "\n",
    "*Hint: You will need the built-in method `enumerate()`, which you can read more about below as well as in our [textbook](https://melaniewalsh.github.io/Intro-Cultural-Analytics/02-Python/10-Lists-Loops-Part2.html?highlight=enumerate#enumerate)*"
   ]
  },
  {
   "cell_type": "code",
   "execution_count": 32,
   "metadata": {
    "scrolled": true,
    "tags": []
   },
   "outputs": [
    {
     "name": "stdout",
     "output_type": "stream",
     "text": [
      "Help on class enumerate in module builtins:\n",
      "\n",
      "class enumerate(object)\n",
      " |  enumerate(iterable, start=0)\n",
      " |  \n",
      " |  Return an enumerate object.\n",
      " |  \n",
      " |    iterable\n",
      " |      an object supporting iteration\n",
      " |  \n",
      " |  The enumerate object yields pairs containing a count (from start, which\n",
      " |  defaults to zero) and a value yielded by the iterable argument.\n",
      " |  \n",
      " |  enumerate is useful for obtaining an indexed list:\n",
      " |      (0, seq[0]), (1, seq[1]), (2, seq[2]), ...\n",
      " |  \n",
      " |  Methods defined here:\n",
      " |  \n",
      " |  __getattribute__(self, name, /)\n",
      " |      Return getattr(self, name).\n",
      " |  \n",
      " |  __iter__(self, /)\n",
      " |      Implement iter(self).\n",
      " |  \n",
      " |  __next__(self, /)\n",
      " |      Implement next(self).\n",
      " |  \n",
      " |  __reduce__(...)\n",
      " |      Return state information for pickling.\n",
      " |  \n",
      " |  ----------------------------------------------------------------------\n",
      " |  Static methods defined here:\n",
      " |  \n",
      " |  __new__(*args, **kwargs) from builtins.type\n",
      " |      Create and return a new object.  See help(type) for accurate signature.\n",
      "\n"
     ]
    }
   ],
   "source": [
    "help(enumerate)"
   ]
  },
  {
   "cell_type": "code",
   "execution_count": 33,
   "metadata": {},
   "outputs": [
    {
     "name": "stdout",
     "output_type": "stream",
     "text": [
      "ICE Facility 1: South Texas Detention Complex\n",
      "ICE Facility 2: Stewart Detention Center\n",
      "ICE Facility 3: Adelanto Ice Processing Center\n"
     ]
    }
   ],
   "source": [
    "# Your code here\n",
    "    # Your code here"
   ]
  },
  {
   "cell_type": "markdown",
   "metadata": {},
   "source": [
    "## Import Packages"
   ]
  },
  {
   "cell_type": "markdown",
   "metadata": {},
   "source": [
    "Import the following Python packages"
   ]
  },
  {
   "cell_type": "code",
   "execution_count": 44,
   "metadata": {},
   "outputs": [],
   "source": [
    "import matplotlib.pyplot as plt\n",
    "import pandas as pd"
   ]
  },
  {
   "cell_type": "markdown",
   "metadata": {},
   "source": [
    "## Pandas Review\n",
    "---"
   ]
  },
  {
   "cell_type": "markdown",
   "metadata": {},
   "source": [
    "## 4. Read in Data (2 points)"
   ]
  },
  {
   "cell_type": "markdown",
   "metadata": {},
   "source": [
    "Read in the CSV file for the ICE facilities data, which has the following relative filepath — \"ICE-Facilities-Reduced.csv\" — and then save the resulting DataFrame as `ice_df`"
   ]
  },
  {
   "cell_type": "code",
   "execution_count": 50,
   "metadata": {},
   "outputs": [],
   "source": [
    "# Your code here"
   ]
  },
  {
   "cell_type": "code",
   "execution_count": 51,
   "metadata": {
    "scrolled": true,
    "tags": []
   },
   "outputs": [
    {
     "data": {
      "text/html": [
       "<div>\n",
       "<style scoped>\n",
       "    .dataframe tbody tr th:only-of-type {\n",
       "        vertical-align: middle;\n",
       "    }\n",
       "\n",
       "    .dataframe tbody tr th {\n",
       "        vertical-align: top;\n",
       "    }\n",
       "\n",
       "    .dataframe thead th {\n",
       "        text-align: right;\n",
       "    }\n",
       "</style>\n",
       "<table border=\"1\" class=\"dataframe\">\n",
       "  <thead>\n",
       "    <tr style=\"text-align: right;\">\n",
       "      <th></th>\n",
       "      <th>lat</th>\n",
       "      <th>lon</th>\n",
       "      <th>Name</th>\n",
       "      <th>Address</th>\n",
       "      <th>City</th>\n",
       "      <th>County</th>\n",
       "      <th>State</th>\n",
       "      <th>Zip</th>\n",
       "      <th>Type</th>\n",
       "      <th>Type.Detailed</th>\n",
       "      <th>ICE.Funded</th>\n",
       "      <th>Population.Count</th>\n",
       "      <th>Date.of.Last.Use</th>\n",
       "      <th>Date.of.First.Use</th>\n",
       "    </tr>\n",
       "  </thead>\n",
       "  <tbody>\n",
       "    <tr>\n",
       "      <th>0</th>\n",
       "      <td>28.895000</td>\n",
       "      <td>-99.121200</td>\n",
       "      <td>SOUTH TEXAS DETENTION COMPLEX</td>\n",
       "      <td>566 VETERANS DRIVE</td>\n",
       "      <td>PEARSALL</td>\n",
       "      <td>FRIO</td>\n",
       "      <td>TX</td>\n",
       "      <td>78061</td>\n",
       "      <td>CDF</td>\n",
       "      <td>CDF</td>\n",
       "      <td>Yes</td>\n",
       "      <td>1735</td>\n",
       "      <td>04.11.2017</td>\n",
       "      <td>27.06.2005</td>\n",
       "    </tr>\n",
       "    <tr>\n",
       "      <th>1</th>\n",
       "      <td>32.036600</td>\n",
       "      <td>-84.771800</td>\n",
       "      <td>STEWART DETENTION CENTER</td>\n",
       "      <td>146 CCA ROAD</td>\n",
       "      <td>LUMPKIN</td>\n",
       "      <td>STEWART</td>\n",
       "      <td>GA</td>\n",
       "      <td>31815</td>\n",
       "      <td>IGSA</td>\n",
       "      <td>DIGSA</td>\n",
       "      <td>Yes</td>\n",
       "      <td>1917</td>\n",
       "      <td>04.11.2017</td>\n",
       "      <td>01.09.2000</td>\n",
       "    </tr>\n",
       "    <tr>\n",
       "      <th>2</th>\n",
       "      <td>34.559200</td>\n",
       "      <td>-117.441000</td>\n",
       "      <td>ADELANTO ICE PROCESSING CENTER</td>\n",
       "      <td>10250 RANCHO ROAD</td>\n",
       "      <td>ADELANTO</td>\n",
       "      <td>SAN BERNARDINO</td>\n",
       "      <td>CA</td>\n",
       "      <td>92301</td>\n",
       "      <td>IGSA</td>\n",
       "      <td>DIGSA</td>\n",
       "      <td>Yes</td>\n",
       "      <td>1747</td>\n",
       "      <td>04.11.2017</td>\n",
       "      <td>29.08.2011</td>\n",
       "    </tr>\n",
       "    <tr>\n",
       "      <th>3</th>\n",
       "      <td>32.817700</td>\n",
       "      <td>-111.520000</td>\n",
       "      <td>ELOY FEDERAL CONTRACT FACILITY</td>\n",
       "      <td>1705 EAST HANNA RD.</td>\n",
       "      <td>ELOY</td>\n",
       "      <td>PINAL</td>\n",
       "      <td>AZ</td>\n",
       "      <td>85131</td>\n",
       "      <td>IGSA</td>\n",
       "      <td>DIGSA</td>\n",
       "      <td>Yes</td>\n",
       "      <td>1436</td>\n",
       "      <td>04.11.2017</td>\n",
       "      <td>10.03.1991</td>\n",
       "    </tr>\n",
       "    <tr>\n",
       "      <th>4</th>\n",
       "      <td>47.249100</td>\n",
       "      <td>-122.421000</td>\n",
       "      <td>NORTHWEST DETENTION CENTER</td>\n",
       "      <td>1623 E. J STREET</td>\n",
       "      <td>TACOMA</td>\n",
       "      <td>PIERCE</td>\n",
       "      <td>WA</td>\n",
       "      <td>98421</td>\n",
       "      <td>CDF</td>\n",
       "      <td>CDF</td>\n",
       "      <td>Yes</td>\n",
       "      <td>1421</td>\n",
       "      <td>04.11.2017</td>\n",
       "      <td>07.06.2001</td>\n",
       "    </tr>\n",
       "    <tr>\n",
       "      <th>...</th>\n",
       "      <td>...</td>\n",
       "      <td>...</td>\n",
       "      <td>...</td>\n",
       "      <td>...</td>\n",
       "      <td>...</td>\n",
       "      <td>...</td>\n",
       "      <td>...</td>\n",
       "      <td>...</td>\n",
       "      <td>...</td>\n",
       "      <td>...</td>\n",
       "      <td>...</td>\n",
       "      <td>...</td>\n",
       "      <td>...</td>\n",
       "      <td>...</td>\n",
       "    </tr>\n",
       "    <tr>\n",
       "      <th>481</th>\n",
       "      <td>39.671492</td>\n",
       "      <td>-75.714329</td>\n",
       "      <td>NEW/INS OS HOLD ROOM</td>\n",
       "      <td>970 BROAD STREET</td>\n",
       "      <td>NEWARK</td>\n",
       "      <td>ESSEX</td>\n",
       "      <td>NJ</td>\n",
       "      <td>7102</td>\n",
       "      <td>Other</td>\n",
       "      <td>HOLD</td>\n",
       "      <td>Yes</td>\n",
       "      <td>0</td>\n",
       "      <td>20.10.2017</td>\n",
       "      <td>01.01.1988</td>\n",
       "    </tr>\n",
       "    <tr>\n",
       "      <th>482</th>\n",
       "      <td>26.204563</td>\n",
       "      <td>-98.270145</td>\n",
       "      <td>US MARSHALS (SOUTH DISTRICT, TEXAS)</td>\n",
       "      <td>BENTSEN TOWER, 1701 W BUS HWY 83</td>\n",
       "      <td>MCALLEN</td>\n",
       "      <td>HIDALGO</td>\n",
       "      <td>TX</td>\n",
       "      <td>78501</td>\n",
       "      <td>USMS IGA</td>\n",
       "      <td>USMS IGA</td>\n",
       "      <td>Yes</td>\n",
       "      <td>0</td>\n",
       "      <td>02.05.2016</td>\n",
       "      <td>26.06.2005</td>\n",
       "    </tr>\n",
       "    <tr>\n",
       "      <th>483</th>\n",
       "      <td>41.528728</td>\n",
       "      <td>-73.363545</td>\n",
       "      <td>BRIDGEWATER STATE HOSPITAL</td>\n",
       "      <td>BRIDGEWATER STATE HOSPITAL</td>\n",
       "      <td>BRIDGEWATER</td>\n",
       "      <td>PLYMOUTH</td>\n",
       "      <td>MA</td>\n",
       "      <td>2324</td>\n",
       "      <td>Other</td>\n",
       "      <td>HOSPITAL</td>\n",
       "      <td>No</td>\n",
       "      <td>0</td>\n",
       "      <td>11.06.2015</td>\n",
       "      <td>09.11.2000</td>\n",
       "    </tr>\n",
       "    <tr>\n",
       "      <th>484</th>\n",
       "      <td>NaN</td>\n",
       "      <td>NaN</td>\n",
       "      <td>Redacted</td>\n",
       "      <td>Redacted</td>\n",
       "      <td>Redacted</td>\n",
       "      <td>Redacted</td>\n",
       "      <td>Redacted</td>\n",
       "      <td>Redacted</td>\n",
       "      <td>ORR</td>\n",
       "      <td>ORR</td>\n",
       "      <td>No</td>\n",
       "      <td>0</td>\n",
       "      <td>22.12.2016</td>\n",
       "      <td>21.04.2008</td>\n",
       "    </tr>\n",
       "    <tr>\n",
       "      <th>485</th>\n",
       "      <td>NaN</td>\n",
       "      <td>NaN</td>\n",
       "      <td>Redacted</td>\n",
       "      <td>Redacted</td>\n",
       "      <td>Redacted</td>\n",
       "      <td>Redacted</td>\n",
       "      <td>Redacted</td>\n",
       "      <td>Redacted</td>\n",
       "      <td>ORR</td>\n",
       "      <td>ORR</td>\n",
       "      <td>No</td>\n",
       "      <td>0</td>\n",
       "      <td>17.08.2015</td>\n",
       "      <td>03.07.2015</td>\n",
       "    </tr>\n",
       "  </tbody>\n",
       "</table>\n",
       "<p>486 rows × 14 columns</p>\n",
       "</div>"
      ],
      "text/plain": [
       "           lat         lon                                 Name  \\\n",
       "0    28.895000  -99.121200        SOUTH TEXAS DETENTION COMPLEX   \n",
       "1    32.036600  -84.771800             STEWART DETENTION CENTER   \n",
       "2    34.559200 -117.441000       ADELANTO ICE PROCESSING CENTER   \n",
       "3    32.817700 -111.520000       ELOY FEDERAL CONTRACT FACILITY   \n",
       "4    47.249100 -122.421000           NORTHWEST DETENTION CENTER   \n",
       "..         ...         ...                                  ...   \n",
       "481  39.671492  -75.714329                 NEW/INS OS HOLD ROOM   \n",
       "482  26.204563  -98.270145  US MARSHALS (SOUTH DISTRICT, TEXAS)   \n",
       "483  41.528728  -73.363545           BRIDGEWATER STATE HOSPITAL   \n",
       "484        NaN         NaN                             Redacted   \n",
       "485        NaN         NaN                             Redacted   \n",
       "\n",
       "                              Address         City          County     State  \\\n",
       "0                  566 VETERANS DRIVE     PEARSALL            FRIO        TX   \n",
       "1                        146 CCA ROAD      LUMPKIN         STEWART        GA   \n",
       "2                   10250 RANCHO ROAD     ADELANTO  SAN BERNARDINO        CA   \n",
       "3                 1705 EAST HANNA RD.         ELOY           PINAL        AZ   \n",
       "4                    1623 E. J STREET       TACOMA          PIERCE        WA   \n",
       "..                                ...          ...             ...       ...   \n",
       "481                  970 BROAD STREET       NEWARK           ESSEX        NJ   \n",
       "482  BENTSEN TOWER, 1701 W BUS HWY 83      MCALLEN         HIDALGO        TX   \n",
       "483        BRIDGEWATER STATE HOSPITAL  BRIDGEWATER        PLYMOUTH        MA   \n",
       "484                          Redacted     Redacted        Redacted  Redacted   \n",
       "485                          Redacted     Redacted        Redacted  Redacted   \n",
       "\n",
       "          Zip      Type Type.Detailed ICE.Funded  Population.Count  \\\n",
       "0       78061       CDF           CDF        Yes              1735   \n",
       "1       31815      IGSA         DIGSA        Yes              1917   \n",
       "2       92301      IGSA         DIGSA        Yes              1747   \n",
       "3       85131      IGSA         DIGSA        Yes              1436   \n",
       "4       98421       CDF           CDF        Yes              1421   \n",
       "..        ...       ...           ...        ...               ...   \n",
       "481      7102     Other          HOLD        Yes                 0   \n",
       "482     78501  USMS IGA      USMS IGA        Yes                 0   \n",
       "483      2324     Other      HOSPITAL         No                 0   \n",
       "484  Redacted       ORR           ORR         No                 0   \n",
       "485  Redacted       ORR           ORR         No                 0   \n",
       "\n",
       "    Date.of.Last.Use Date.of.First.Use  \n",
       "0         04.11.2017        27.06.2005  \n",
       "1         04.11.2017        01.09.2000  \n",
       "2         04.11.2017        29.08.2011  \n",
       "3         04.11.2017        10.03.1991  \n",
       "4         04.11.2017        07.06.2001  \n",
       "..               ...               ...  \n",
       "481       20.10.2017        01.01.1988  \n",
       "482       02.05.2016        26.06.2005  \n",
       "483       11.06.2015        09.11.2000  \n",
       "484       22.12.2016        21.04.2008  \n",
       "485       17.08.2015        03.07.2015  \n",
       "\n",
       "[486 rows x 14 columns]"
      ]
     },
     "execution_count": 51,
     "metadata": {},
     "output_type": "execute_result"
    }
   ],
   "source": [
    "ice_df"
   ]
  },
  {
   "cell_type": "markdown",
   "metadata": {},
   "source": [
    "How many rows are included in this DataFrame? Enter your answer in the blank below."
   ]
  },
  {
   "cell_type": "code",
   "execution_count": null,
   "metadata": {},
   "outputs": [],
   "source": [
    "# Your code here — you can use any method to find the right answer"
   ]
  },
  {
   "cell_type": "markdown",
   "metadata": {},
   "source": [
    "There are **____** rows in this DataFrame."
   ]
  },
  {
   "cell_type": "markdown",
   "metadata": {},
   "source": [
    "## 5. Convert \"Name\" Column to Title Case (3 points)\n",
    "\n",
    "Use the Python function that you created earlier `make_titlecase()` to convert all the values in the column \"Name\" to title case instead of all caps. Reassign all the values to the same column, \"Name.\"\n",
    "\n",
    "*Hint: You should refer to [\"Pandas Basics - Part 3\"](https://melaniewalsh.github.io/Intro-Cultural-Analytics/03-Data-Analysis/03-Pandas-Basics-Part3.html#pandas-basics-part-3)*\n"
   ]
  },
  {
   "cell_type": "code",
   "execution_count": 54,
   "metadata": {},
   "outputs": [],
   "source": [
    "ice_df['Name'] = # Your code here"
   ]
  },
  {
   "cell_type": "markdown",
   "metadata": {},
   "source": [
    "Test your code below to make sure you get the right answer"
   ]
  },
  {
   "cell_type": "code",
   "execution_count": 55,
   "metadata": {},
   "outputs": [
    {
     "data": {
      "text/html": [
       "<div>\n",
       "<style scoped>\n",
       "    .dataframe tbody tr th:only-of-type {\n",
       "        vertical-align: middle;\n",
       "    }\n",
       "\n",
       "    .dataframe tbody tr th {\n",
       "        vertical-align: top;\n",
       "    }\n",
       "\n",
       "    .dataframe thead th {\n",
       "        text-align: right;\n",
       "    }\n",
       "</style>\n",
       "<table border=\"1\" class=\"dataframe\">\n",
       "  <thead>\n",
       "    <tr style=\"text-align: right;\">\n",
       "      <th></th>\n",
       "      <th>Name</th>\n",
       "    </tr>\n",
       "  </thead>\n",
       "  <tbody>\n",
       "    <tr>\n",
       "      <th>0</th>\n",
       "      <td>South Texas Detention Complex</td>\n",
       "    </tr>\n",
       "    <tr>\n",
       "      <th>1</th>\n",
       "      <td>Stewart Detention Center</td>\n",
       "    </tr>\n",
       "    <tr>\n",
       "      <th>2</th>\n",
       "      <td>Adelanto Ice Processing Center</td>\n",
       "    </tr>\n",
       "    <tr>\n",
       "      <th>3</th>\n",
       "      <td>Eloy Federal Contract Facility</td>\n",
       "    </tr>\n",
       "    <tr>\n",
       "      <th>4</th>\n",
       "      <td>Northwest Detention Center</td>\n",
       "    </tr>\n",
       "    <tr>\n",
       "      <th>...</th>\n",
       "      <td>...</td>\n",
       "    </tr>\n",
       "    <tr>\n",
       "      <th>481</th>\n",
       "      <td>New/Ins Os Hold Room</td>\n",
       "    </tr>\n",
       "    <tr>\n",
       "      <th>482</th>\n",
       "      <td>Us Marshals (South District, Texas)</td>\n",
       "    </tr>\n",
       "    <tr>\n",
       "      <th>483</th>\n",
       "      <td>Bridgewater State Hospital</td>\n",
       "    </tr>\n",
       "    <tr>\n",
       "      <th>484</th>\n",
       "      <td>Redacted</td>\n",
       "    </tr>\n",
       "    <tr>\n",
       "      <th>485</th>\n",
       "      <td>Redacted</td>\n",
       "    </tr>\n",
       "  </tbody>\n",
       "</table>\n",
       "<p>486 rows × 1 columns</p>\n",
       "</div>"
      ],
      "text/plain": [
       "                                    Name\n",
       "0          South Texas Detention Complex\n",
       "1               Stewart Detention Center\n",
       "2         Adelanto Ice Processing Center\n",
       "3         Eloy Federal Contract Facility\n",
       "4             Northwest Detention Center\n",
       "..                                   ...\n",
       "481                 New/Ins Os Hold Room\n",
       "482  Us Marshals (South District, Texas)\n",
       "483           Bridgewater State Hospital\n",
       "484                             Redacted\n",
       "485                             Redacted\n",
       "\n",
       "[486 rows x 1 columns]"
      ]
     },
     "execution_count": 55,
     "metadata": {},
     "output_type": "execute_result"
    }
   ],
   "source": [
    "ice_df[['Name']]"
   ]
  },
  {
   "cell_type": "markdown",
   "metadata": {},
   "source": [
    "## 6. Make and Save a Bar Chart (8 points)"
   ]
  },
  {
   "cell_type": "markdown",
   "metadata": {},
   "source": [
    "Finally, calculate how many ICE facilities exist in each state, and make a green bar plot of the top 10 values with the title \"Number of ICE Facilities Per State.\" Then save the bar plot as a .png file, and make sure the x-axis labels don't get cut off.\n",
    "\n",
    "Be sure to upload the image with your Jupyterbook notebook to Gradescope.\n",
    "\n",
    "*Hint: You should refer to [\"Pandas Basics - Part 2\"](https://melaniewalsh.github.io/Intro-Cultural-Analytics/03-Data-Analysis/02-Pandas-Basics-Part2.html#save-plots)*\n"
   ]
  },
  {
   "cell_type": "code",
   "execution_count": 45,
   "metadata": {},
   "outputs": [
    {
     "data": {
      "image/png": "[encoded data removed]",
      "text/plain": [
       "<Figure size 432x288 with 1 Axes>"
      ]
     },
     "metadata": {},
     "output_type": "display_data"
    }
   ],
   "source": [
    "# Your code here 👇\n",
    "\n",
    "👇\n",
    "\n",
    "👇\n",
    "\n",
    "👇"
   ]
  },
  {
   "cell_type": "markdown",
   "metadata": {},
   "source": [
    "## When You're Finished"
   ]
  },
  {
   "cell_type": "markdown",
   "metadata": {},
   "source": [
    "When you're finished, you should:\n",
    "\n",
    "1. Save your Jupyter notebook with your last name. To save your notebook, you can select File -> Save Notebook or File -> Save Notebook As...\n",
    "\n",
    "2. Download your Jupyter notebook file (.ipynb) and your bar chart (.png), and then upload them to [Gradescope](https://www.gradescope.com/courses/322397/assignments/)."
   ]
  }
 ],
 "metadata": {
  "kernelspec": {
   "display_name": "Python 3",
   "language": "python",
   "name": "python3"
  },
  "language_info": {
   "codemirror_mode": {
    "name": "ipython",
    "version": 3
   },
   "file_extension": ".py",
   "mimetype": "text/x-python",
   "name": "python",
   "nbconvert_exporter": "python",
   "pygments_lexer": "ipython3",
   "version": "3.8.8"
  },
  "varInspector": {
   "cols": {
    "lenName": 16,
    "lenType": 16,
    "lenVar": 40
   },
   "kernels_config": {
    "python": {
     "delete_cmd_postfix": "",
     "delete_cmd_prefix": "del ",
     "library": "var_list.py",
     "varRefreshCmd": "print(var_dic_list())"
    },
    "r": {
     "delete_cmd_postfix": ") ",
     "delete_cmd_prefix": "rm(",
     "library": "var_list.r",
     "varRefreshCmd": "cat(var_dic_list()) "
    }
   },
   "types_to_exclude": [
    "module",
    "function",
    "builtin_function_or_method",
    "instance",
    "_Feature"
   ],
   "window_display": false
  }
 },
 "nbformat": 4,
 "nbformat_minor": 4
}
