{
 "cells": [
  {
   "cell_type": "markdown",
   "id": "8694e7d1-c0ab-472f-a5e5-4c0862a8fb92",
   "metadata": {},
   "source": [
    "# Appendix"
   ]
  },
  {
   "cell_type": "markdown",
   "id": "d2b82513-a18d-4789-bf06-7df82cb65a7e",
   "metadata": {},
   "source": [
    "This notebook includes code, examples, and details about source texts that will be useful to you for your homework assignments."
   ]
  },
  {
   "cell_type": "markdown",
   "id": "b6ef0c7d-4993-4d68-8f8a-2ae93977e21b",
   "metadata": {},
   "source": [
    "## HW 2"
   ]
  },
  {
   "cell_type": "markdown",
   "id": "5ac97fbc-673a-4094-860d-e92621573762",
   "metadata": {},
   "source": [
    "### Tokenizing words"
   ]
  },
  {
   "cell_type": "markdown",
   "id": "35cb05f5-917d-4e90-9bee-f1553055ca7f",
   "metadata": {},
   "source": [
    "The string method `.split()` is very useful for splitting a string on white spaces."
   ]
  },
  {
   "cell_type": "code",
   "execution_count": 1,
   "id": "3cc0326b-e308-441d-a865-f67523948632",
   "metadata": {},
   "outputs": [
    {
     "data": {
      "text/plain": [
       "['This', 'is', 'a', 'sample', 'string.', \"It's\", 'for', 'example', 'purposes']"
      ]
     },
     "execution_count": 1,
     "metadata": {},
     "output_type": "execute_result"
    }
   ],
   "source": [
    "sample = \"This is a sample string. It's for example purposes\"\n",
    "sample.split()"
   ]
  },
  {
   "cell_type": "markdown",
   "id": "dfedc90e-e755-4fd6-b6b7-6f10ada54fbe",
   "metadata": {},
   "source": [
    "However, you'll notice that it doesn't split on punctuation, such as periods or apostrophes. One common method for tokenizing is to use the `re` library, short for regular expressions, and to use `re.split()` to split on any character that is not a word `\\W`."
   ]
  },
  {
   "cell_type": "code",
   "execution_count": 2,
   "id": "fed50dbe-8712-4fb4-b2a6-cabbda5ae557",
   "metadata": {},
   "outputs": [
    {
     "data": {
      "text/plain": [
       "['This',\n",
       " 'is',\n",
       " 'a',\n",
       " 'sample',\n",
       " 'string',\n",
       " 'It',\n",
       " 's',\n",
       " 'for',\n",
       " 'example',\n",
       " 'purposes']"
      ]
     },
     "execution_count": 2,
     "metadata": {},
     "output_type": "execute_result"
    }
   ],
   "source": [
    "import re\n",
    "\n",
    "re.split('\\W+', sample)"
   ]
  },
  {
   "cell_type": "markdown",
   "id": "dab65833-8c3b-4b7c-8473-85915471b5ba",
   "metadata": {},
   "source": [
    "### Counting things"
   ]
  },
  {
   "cell_type": "markdown",
   "id": "c65cee99-13bc-498f-b35f-bbdb5cceda51",
   "metadata": {},
   "source": [
    "We can use the `Counter` module to count items in a Python data collection."
   ]
  },
  {
   "cell_type": "code",
   "execution_count": 24,
   "id": "9614228a-eb02-4741-87b8-9d5269d34629",
   "metadata": {},
   "outputs": [
    {
     "data": {
      "text/plain": [
       "Counter({'apple': 4, 'banana': 1, 'kiwi': 4, 'kumquat': 1, 'orange': 2})"
      ]
     },
     "execution_count": 24,
     "metadata": {},
     "output_type": "execute_result"
    }
   ],
   "source": [
    "from collections import Counter\n",
    "\n",
    "fruits = ['apple', 'banana', 'kiwi', 'apple', 'kumquat', 'orange', 'orange', 'kiwi', 'kiwi', 'apple', 'kiwi', 'apple']\n",
    "\n",
    "Counter(fruits)"
   ]
  },
  {
   "cell_type": "markdown",
   "id": "476beff5-b86d-4b33-896f-6091c9d6325e",
   "metadata": {},
   "source": [
    "We can use the `Counter` method `.most_common(n)` to return the top `n` most frequent items."
   ]
  },
  {
   "cell_type": "code",
   "execution_count": 25,
   "id": "5cbe85ee-0bd3-43ef-9fe3-24a1a7020c33",
   "metadata": {},
   "outputs": [
    {
     "data": {
      "text/plain": [
       "[('apple', 4), ('kiwi', 4)]"
      ]
     },
     "execution_count": 25,
     "metadata": {},
     "output_type": "execute_result"
    }
   ],
   "source": [
    "Counter(fruits).most_common(2)"
   ]
  },
  {
   "cell_type": "markdown",
   "id": "3340daa9-39aa-437d-bd7f-7232ddb6bdd8",
   "metadata": {},
   "source": [
    "### User input from the command line"
   ]
  },
  {
   "cell_type": "markdown",
   "id": "61572a36-96ff-4815-aef7-5077a41d22b2",
   "metadata": {},
   "source": [
    "How can we run our word counter Python script on any text file? One easy way to accept an input from a user when running a script from the command line is to use the `sys` module, which allows us to get a user argument by using `sys.arv[1]`."
   ]
  },
  {
   "cell_type": "code",
   "execution_count": 28,
   "id": "f033ffdf-23fe-45da-9371-ac8ecc548906",
   "metadata": {},
   "outputs": [],
   "source": [
    "import sys"
   ]
  },
  {
   "cell_type": "markdown",
   "id": "4172e99b-b0e6-4bc0-a320-38bfbc5781f7",
   "metadata": {},
   "source": [
    "To show an example, I have created a Python script called `sys-argv-demo.py`, which contains the following code:"
   ]
  },
  {
   "cell_type": "raw",
   "id": "4ab696ac-2b5c-4410-a286-e1345f6f04a8",
   "metadata": {},
   "source": [
    "# This is the contents of sys-argv-demo.py \n",
    "\n",
    "import sys\n",
    "\n",
    "print(\"The output of sys.argv[0] is:\")\n",
    "print(sys.argv[0])\n",
    "\n",
    "print(\"The output of sys.argv[1] is:\")\n",
    "print(sys.argv[1])\n",
    "\n",
    "print(\"The output of sys.argv[2] is:\")\n",
    "print(sys.argv[2])"
   ]
  },
  {
   "cell_type": "markdown",
   "id": "22119997-4dba-42a7-a8cc-144df8ccde29",
   "metadata": {},
   "source": [
    "If you run the Python script above with two arguments, `filename` and `another_argument`, this is the output:"
   ]
  },
  {
   "cell_type": "code",
   "execution_count": 30,
   "id": "f05c69f6-e0aa-4562-8e8f-1b3b6e3aefff",
   "metadata": {},
   "outputs": [
    {
     "name": "stdout",
     "output_type": "stream",
     "text": [
      "The output of sys.argv[0] is:\n",
      "sys-argv-demo.py\n",
      "The output of sys.argv[1] is:\n",
      "filename\n",
      "The output of sys.argv[2] is:\n",
      "another_argument\n"
     ]
    }
   ],
   "source": [
    "!python sys-argv-demo.py filename another_argument"
   ]
  },
  {
   "cell_type": "markdown",
   "id": "5239cd8b-5a0a-4428-a73d-0d2c9f652e88",
   "metadata": {},
   "source": [
    "### Text Sources"
   ]
  },
  {
   "cell_type": "markdown",
   "id": "24e35434-3c58-4eea-9d6e-e9da113f83ee",
   "metadata": {},
   "source": [
    "F. Scott Fitzgerald's *The Great Gatsby*  \n",
    "\n",
    "Source text: https://www.gutenberg.org/ebooks/64317  \n",
    "Wikipedia page: https://en.wikipedia.org/wiki/The_Great_Gatsby  \n",
    "\n",
    "Donald Trump's Tweets   \n",
    "\n",
    "Source text: https://www.thetrumparchive.com/  \n",
    "\n",
    "J.G. Bartholomew's *A Literary and Historical Atlas of Asia*  \n",
    "\n",
    "Source text: https://www.gutenberg.org/ebooks/40900    \n",
    "PDF of the *Atlas*: https://upload.wikimedia.org/wikipedia/commons/c/ce/Bartholomew_J._G._-_A_literary_%26_historical_atlas_of_Asia_%281912%29.pdf  \n",
    "Wikipedia page for Bartholomew: https://en.wikipedia.org/wiki/John_George_Bartholomew  "
   ]
  }
 ],
 "metadata": {
  "kernelspec": {
   "display_name": "Python 3",
   "language": "python",
   "name": "python3"
  },
  "language_info": {
   "codemirror_mode": {
    "name": "ipython",
    "version": 3
   },
   "file_extension": ".py",
   "mimetype": "text/x-python",
   "name": "python",
   "nbconvert_exporter": "python",
   "pygments_lexer": "ipython3",
   "version": "3.8.8"
  }
 },
 "nbformat": 4,
 "nbformat_minor": 5
}
