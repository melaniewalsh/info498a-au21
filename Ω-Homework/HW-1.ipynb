{
 "cells": [
  {
   "cell_type": "markdown",
   "metadata": {},
   "source": [
    "# HW 1"
   ]
  },
  {
   "cell_type": "markdown",
   "metadata": {},
   "source": [
    "This homework assignment will help you review Python variables, data types, working with files, and directory structures. Answer the questions below and follow the instructions.\n",
    "\n",
    "When you're finished, you should:\n",
    "\n",
    "- Save your Jupyter notebook with your last name  \n",
    "(Right-click the file and select \"Rename,\" e.g., \"HW-1-Your-Last-Name.ipynb\")\n",
    "\n",
    "- Upload the Jupyter notebook file (.ipynb) to [Gradescope](https://www.gradescope.com/courses/322397/assignments/).\n",
    "\n",
    "For help with this homework, refer to the chapters [Variables](https://melaniewalsh.github.io/Intro-Cultural-Analytics/02-Python/04-Variables.html), [Data Types](https://melaniewalsh.github.io/Intro-Cultural-Analytics/02-Python/05-Data-Types.html), and [Files and Character Encoding](https://melaniewalsh.github.io/Intro-Cultural-Analytics/02-Python/07-Files-Character-Encoding.html)."
   ]
  },
  {
   "cell_type": "markdown",
   "metadata": {},
   "source": [
    "## Your Name Here"
   ]
  },
  {
   "cell_type": "markdown",
   "metadata": {},
   "source": [
    "**1.** Make a new Markdown cell below this one, and copy and paste the following text with your own name and UW ID like so:  \n",
    "`Student Name: Your name here`   \n",
    "`UW ID: Your ID here`  (1 point)"
   ]
  },
  {
   "cell_type": "markdown",
   "metadata": {},
   "source": [
    "## Madlibs with Christine Darden"
   ]
  },
  {
   "cell_type": "markdown",
   "metadata": {},
   "source": [
    "**2.** The cell below contains the first line of Christine Darden's Wikipedia page. Convert this cell to \"Markdown\" and then add a relevant image from a URL (a photo of Christine Darden, the NASA logo, a supersonic flight, etc.) Refer to the [Markdown cheatsheet](https://github.com/adam-p/markdown-here/wiki/Markdown-Cheatsheet) for help. (2 points)."
   ]
  },
  {
   "cell_type": "code",
   "execution_count": null,
   "metadata": {},
   "outputs": [],
   "source": [
    ">Christine Darden (born September 10, 1942, as Christine Mann) is an American mathematician,\n",
    "data analyst, and aeronautical engineer who devoted much of her 40-year career in aerodynamics\n",
    "at NASA to researching supersonic flight and sonic booms.\n",
    "-[Wikipedia](https://en.wikipedia.org/wiki/Christine_Darden)\n",
    "\n",
    "# Your Markdown image here"
   ]
  },
  {
   "cell_type": "markdown",
   "metadata": {},
   "source": [
    "**3.** Go to Christine Darden's [Wikipedia page](https://en.wikipedia.org/wiki/Christine_Darden) (or look at the cell above) and find her name, birth year, and occupation. Assign these values to the corresponding variables below. You should also assign the current year to the variable `current_year`.\n",
    "\n",
    "Make sure `name` and `occupation` are strings. Make sure `birth_year` and `current_year` are integers. (2 points) "
   ]
  },
  {
   "cell_type": "code",
   "execution_count": null,
   "metadata": {},
   "outputs": [],
   "source": [
    "name ... #Your Code Here\n",
    "birth_year ... #Your Code Here\n",
    "occupation ... #Your Code Here\n",
    "current_year ... #Your Code Here"
   ]
  },
  {
   "cell_type": "markdown",
   "metadata": {},
   "source": [
    "**4.** Calculate Christine Darden's current age by using two of the variables above and [a mathematical operator](https://melaniewalsh.github.io/Intro-Cultural-Analytics/02-Python/05-Data-Types.html#integers-floats). (Be sure to use the Python variable names and NOT the values.) (1 point)"
   ]
  },
  {
   "cell_type": "code",
   "execution_count": null,
   "metadata": {},
   "outputs": [],
   "source": [
    "#Your Code Here"
   ]
  },
  {
   "cell_type": "markdown",
   "metadata": {},
   "source": [
    "**5.** Assign the Python expression above to a new variable called `current_age`. (1 point)"
   ]
  },
  {
   "cell_type": "code",
   "execution_count": null,
   "metadata": {},
   "outputs": [],
   "source": [
    "current_age ... "
   ]
  },
  {
   "cell_type": "markdown",
   "metadata": {},
   "source": [
    "**6.** Write a line of Python code that will output the statement printed below using an f-string and the Python variables `name`, `occupation`, `birth_year`, and `current_age` (again, be sure to use the Python variable names and NOT the actual values). It's fine if you described her occupation slightly differently than the statement below. (2 points)"
   ]
  },
  {
   "cell_type": "code",
   "execution_count": 1,
   "metadata": {},
   "outputs": [
    {
     "name": "stdout",
     "output_type": "stream",
     "text": [
      "Chirstine Darden was a NASA data analyst. She was born in 1942 and is currently 79 years old.\n"
     ]
    }
   ],
   "source": [
    "#Your Code Here"
   ]
  },
  {
   "cell_type": "markdown",
   "metadata": {},
   "source": [
    "## Reading a Text File About Christine Darden"
   ]
  },
  {
   "cell_type": "markdown",
   "metadata": {},
   "source": [
    "**7.** You should have the file \"GW-Hidden-Figures-Article.txt\" in your current directory. This file includes an [article](https://gwtoday.gwu.edu/christine-darden-one-nasa%E2%80%99s-%E2%80%98hidden-figures%E2%80%99) about Christine Darden published by the George Washington University news.\n",
    "\n",
    "Fil in Python code in the cell below such that you will read in the \"GW-Hidden-Figures-Article.txt\" file and print it out below.  Make sure you include arguments about the `mode` and `encoding` that you want to use when opening the file. (2 points)"
   ]
  },
  {
   "cell_type": "code",
   "execution_count": null,
   "metadata": {
    "scrolled": true
   },
   "outputs": [],
   "source": [
    "gw_article = # Your Code Here\n",
    "print(gw_article)"
   ]
  },
  {
   "cell_type": "markdown",
   "metadata": {},
   "source": [
    "## Debugging/Troubleshooting Practice"
   ]
  },
  {
   "cell_type": "markdown",
   "metadata": {},
   "source": [
    "**8.** The code below returns an error message. Fix the issue so that the `grep` command works properly (it prints out all lines with occurrences of the word \"crawl\") and then explain why the code originally produced an error. (2 points)"
   ]
  },
  {
   "cell_type": "code",
   "execution_count": 10,
   "metadata": {},
   "outputs": [
    {
     "name": "stdout",
     "output_type": "stream",
     "text": [
      "grep: texts/literature/The-Metamorphosis_Franz-Kafka.txt: No such file or directory\n"
     ]
    }
   ],
   "source": [
    "!grep \"crawl\" -n --color texts/literature/The-Metamorphosis_Franz-Kafka.txt"
   ]
  },
  {
   "cell_type": "markdown",
   "metadata": {},
   "source": [
    "#Your Explanation Here (double-click this cell to type inside it)"
   ]
  },
  {
   "cell_type": "markdown",
   "metadata": {},
   "source": [
    "## Directory Structure"
   ]
  },
  {
   "cell_type": "markdown",
   "metadata": {},
   "source": [
    "**9.** What is the absolute path for the file \"The-Metamorphosis_Franz-Kafka.txt\" if you are referencing the file that exists in your `texts` directory in your course JupyterHub (e.g., for example, on my computer, the absolute path for the folder \"info498a-au21-repo\" is `/Users/melwalsh/info498a-au21-repo`)? (2 points)"
   ]
  },
  {
   "cell_type": "markdown",
   "metadata": {},
   "source": [
    "Absolute path: Type it here (double-click this cell to type inside it)"
   ]
  },
  {
   "cell_type": "markdown",
   "metadata": {},
   "source": [
    "## When You're Finished"
   ]
  },
  {
   "cell_type": "markdown",
   "metadata": {},
   "source": [
    "When you're finished, you should:\n",
    "\n",
    "- Save your Jupyter notebook with your last name (Right-click the file and select \"Rename\")\n",
    "\n",
    "-  Upload the Jupyter notebook file (.ipynb) to Gradescope."
   ]
  }
 ],
 "metadata": {
  "kernelspec": {
   "display_name": "Python 3",
   "language": "python",
   "name": "python3"
  },
  "language_info": {
   "codemirror_mode": {
    "name": "ipython",
    "version": 3
   },
   "file_extension": ".py",
   "mimetype": "text/x-python",
   "name": "python",
   "nbconvert_exporter": "python",
   "pygments_lexer": "ipython3",
   "version": "3.8.8"
  }
 },
 "nbformat": 4,
 "nbformat_minor": 4
}
