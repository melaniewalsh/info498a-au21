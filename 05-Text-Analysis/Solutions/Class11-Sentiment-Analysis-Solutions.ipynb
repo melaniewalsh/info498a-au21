{
 "cells": [
  {
   "cell_type": "markdown",
   "metadata": {},
   "source": [
    "# Sentiment Analysis — Solutions"
   ]
  },
  {
   "cell_type": "markdown",
   "metadata": {},
   "source": [
    "In this lesson, we're going to learn how to use [VADER](https://github.com/cjhutto/vaderSentiment), an English-language sentiment analysis tool designed for use with social media texts. This tool helps to calculate whether texts express positive or negative sentiment."
   ]
  },
  {
   "cell_type": "markdown",
   "metadata": {},
   "source": [
    "## Install and Import Libraries/Packages"
   ]
  },
  {
   "cell_type": "markdown",
   "metadata": {},
   "source": [
    "Then we will import the `SentimentIntensityAnalyser` and initialize it."
   ]
  },
  {
   "cell_type": "code",
   "execution_count": 1,
   "metadata": {},
   "outputs": [],
   "source": [
    "from vaderSentiment.vaderSentiment import SentimentIntensityAnalyzer\n",
    "\n",
    "# Initialize VADER so we can use it later\n",
    "sentimentAnalyser = SentimentIntensityAnalyzer()"
   ]
  },
  {
   "cell_type": "markdown",
   "metadata": {},
   "source": [
    "We are also going to import pandas for working with data and set the column width for pandas DataFrames to 400."
   ]
  },
  {
   "cell_type": "code",
   "execution_count": 2,
   "metadata": {},
   "outputs": [],
   "source": [
    "import pandas as pd\n",
    "pd.options.display.max_colwidth = 400"
   ]
  },
  {
   "cell_type": "markdown",
   "metadata": {},
   "source": [
    "## Calculate Sentiment Scores"
   ]
  },
  {
   "cell_type": "markdown",
   "metadata": {},
   "source": [
    "To calculate sentiment scores for a sentence or paragraph, we can use `sentimentAnalyser.polarity_scores()` and input a string of text.\n",
    "\n",
    "This method returns a Python dictionary of sentiment scores: how negative the sentence is between 0-1, how neutral the sentence is between 0-1, how positive the sentence is between 0-1, as well as a compound score between -1-1.\n",
    "\n",
    "Most scholars uses the compound score to represent sentiment in their analyses, and we will use the compound score in this lesson, as well. Let's test it out with some sample sentences! "
   ]
  },
  {
   "cell_type": "code",
   "execution_count": 3,
   "metadata": {},
   "outputs": [
    {
     "data": {
      "text/plain": [
       "{'neg': 0.286, 'neu': 0.714, 'pos': 0.0, 'compound': -0.5574}"
      ]
     },
     "execution_count": 3,
     "metadata": {},
     "output_type": "execute_result"
    }
   ],
   "source": [
    "sentimentAnalyser.polarity_scores(\"The ref made the call. The goalie was fired up.\")"
   ]
  },
  {
   "cell_type": "code",
   "execution_count": null,
   "metadata": {},
   "outputs": [],
   "source": [
    "sentimentAnalyser.polarity_scores(\"Prejudice is awful.\")"
   ]
  },
  {
   "cell_type": "markdown",
   "metadata": {},
   "source": [
    "## Make a Function"
   ]
  },
  {
   "cell_type": "markdown",
   "metadata": {},
   "source": [
    "Make a function that will accept any text and then return just the compound sentiment score for that text"
   ]
  },
  {
   "cell_type": "code",
   "execution_count": 6,
   "metadata": {},
   "outputs": [],
   "source": [
    "def calculate_sentiment(text):\n",
    "    # Run VADER on the text\n",
    "    scores = sentimentAnalyser.polarity_scores(text)\n",
    "    \n",
    "    # Extract the compound score\n",
    "    \n",
    "    # Return compound score\n",
    "    return scores['compound']"
   ]
  },
  {
   "cell_type": "markdown",
   "metadata": {},
   "source": [
    "Test it out!"
   ]
  },
  {
   "cell_type": "code",
   "execution_count": 7,
   "metadata": {},
   "outputs": [
    {
     "data": {
      "text/plain": [
       "-0.743"
      ]
     },
     "execution_count": 7,
     "metadata": {},
     "output_type": "execute_result"
    }
   ],
   "source": [
    "calculate_sentiment('Prejudice is awful.')"
   ]
  },
  {
   "cell_type": "markdown",
   "metadata": {},
   "source": [
    "## Calculate Sentiment Scores for Donald Trump's Tweets"
   ]
  },
  {
   "cell_type": "markdown",
   "metadata": {},
   "source": [
    "Let's try using VADER on many texts: Donald Trump's corpus of tweets from 2009 to 2021 (when he was suspended from Twitter)."
   ]
  },
  {
   "cell_type": "markdown",
   "metadata": {},
   "source": [
    "We will load the Trump tweets CSV file with pandas"
   ]
  },
  {
   "cell_type": "code",
   "execution_count": 8,
   "metadata": {},
   "outputs": [],
   "source": [
    "trump_df = pd.read_csv('Trump-Tweets.csv', parse_dates=['date'])"
   ]
  },
  {
   "cell_type": "markdown",
   "metadata": {},
   "source": [
    "To calculate the sentiment for each tweet in the CSV file and add a new column that contains this information, we will apply a function that will take in any text and output the compound sentiment score."
   ]
  },
  {
   "cell_type": "markdown",
   "metadata": {},
   "source": [
    "Apply the function to every row in the \"text\" column and output the results into a new column \"sentiment_score\"\n"
   ]
  },
  {
   "cell_type": "code",
   "execution_count": 9,
   "metadata": {},
   "outputs": [],
   "source": [
    "trump_df['sentiment_score'] = trump_df['text'].apply(calculate_sentiment)"
   ]
  },
  {
   "cell_type": "markdown",
   "metadata": {},
   "source": [
    "Let's sort the DataFrame and examine the top 10 tweets with the highest compound sentiment."
   ]
  },
  {
   "cell_type": "code",
   "execution_count": 10,
   "metadata": {},
   "outputs": [
    {
     "data": {
      "text/html": [
       "<div>\n",
       "<style scoped>\n",
       "    .dataframe tbody tr th:only-of-type {\n",
       "        vertical-align: middle;\n",
       "    }\n",
       "\n",
       "    .dataframe tbody tr th {\n",
       "        vertical-align: top;\n",
       "    }\n",
       "\n",
       "    .dataframe thead th {\n",
       "        text-align: right;\n",
       "    }\n",
       "</style>\n",
       "<table border=\"1\" class=\"dataframe\">\n",
       "  <thead>\n",
       "    <tr style=\"text-align: right;\">\n",
       "      <th></th>\n",
       "      <th>text</th>\n",
       "      <th>favorites</th>\n",
       "      <th>retweets</th>\n",
       "      <th>date</th>\n",
       "      <th>sentiment_score</th>\n",
       "    </tr>\n",
       "  </thead>\n",
       "  <tbody>\n",
       "    <tr>\n",
       "      <th>23169</th>\n",
       "      <td>Congratulations to Patrick Reed on his great and courageous MASTERS win! When Patrick had his amazing win at Doral 5 years ago, people saw his great talent, and a bright future ahead. Now he is the Masters Champion!</td>\n",
       "      <td>79374</td>\n",
       "      <td>10122</td>\n",
       "      <td>2018-04-09 00:43:00</td>\n",
       "      <td>0.9899</td>\n",
       "    </tr>\n",
       "    <tr>\n",
       "      <th>5169</th>\n",
       "      <td>Today, it was my great honor to proudly accept the endorsement of the @NYCPBA! I have deeply and profoundly admired the brave men and women of the #NYPD for my entire life. New York’s Finest are truly the best of the best — I will NEVER let you down! #MAGA https://t.co/o1l5kAx34v</td>\n",
       "      <td>86425</td>\n",
       "      <td>22183</td>\n",
       "      <td>2020-08-15 03:59:00</td>\n",
       "      <td>0.9879</td>\n",
       "    </tr>\n",
       "    <tr>\n",
       "      <th>7200</th>\n",
       "      <td>I am a big fan of Drew Brees. I think he’s truly one of the greatest quarterbacks, but he should not have taken back his original stance on honoring our magnificent American Flag. OLD GLORY is to be revered, cherished, and flown high...</td>\n",
       "      <td>267196</td>\n",
       "      <td>48513</td>\n",
       "      <td>2020-06-05 20:08:00</td>\n",
       "      <td>0.9879</td>\n",
       "    </tr>\n",
       "    <tr>\n",
       "      <th>2490</th>\n",
       "      <td>It was great to be back in North Carolina with thousands of loyal, hardworking American Patriots! This election is a simple choice: If Biden Wins, China Wins. When WE Win, YOU WIN, North Carolina WINS, and America WINS! https://t.co/jWYVYZdT3E</td>\n",
       "      <td>46024</td>\n",
       "      <td>10955</td>\n",
       "      <td>2020-10-15 19:20:00</td>\n",
       "      <td>0.9876</td>\n",
       "    </tr>\n",
       "    <tr>\n",
       "      <th>11615</th>\n",
       "      <td>95% Approval Rating in the Republican Party. Thank you! 191 Federal Judges (a record), and two Supreme Court Justices, approved. Best Economy &amp;amp; Employment Numbers EVER. Thank you to our great New, Smart and Nimble REPUBLICAN PARTY. Join now, it’s where people want to be!</td>\n",
       "      <td>110818</td>\n",
       "      <td>23498</td>\n",
       "      <td>2020-01-26 16:24:00</td>\n",
       "      <td>0.9869</td>\n",
       "    </tr>\n",
       "    <tr>\n",
       "      <th>...</th>\n",
       "      <td>...</td>\n",
       "      <td>...</td>\n",
       "      <td>...</td>\n",
       "      <td>...</td>\n",
       "      <td>...</td>\n",
       "    </tr>\n",
       "    <tr>\n",
       "      <th>21818</th>\n",
       "      <td>The Rigged Russian Witch Hunt goes on and on as the “originators and founders” of this scam continue to be fired and demoted for their corrupt and illegal activity. All credibility is gone from this terrible Hoax, and much more will be lost as it proceeds. No Collusion!</td>\n",
       "      <td>66924</td>\n",
       "      <td>15264</td>\n",
       "      <td>2018-08-15 14:08:00</td>\n",
       "      <td>-0.9785</td>\n",
       "    </tr>\n",
       "    <tr>\n",
       "      <th>7096</th>\n",
       "      <td>Colin Powell was a pathetic interview today on Fake News CNN. In his time, he was weak &amp;amp; gave away everything to everybody - so bad for the USA. Also got the “weapons of mass destruction” totally wrong, and you know what that mistake cost us? Sad! Only negative questions asked.</td>\n",
       "      <td>127934</td>\n",
       "      <td>28175</td>\n",
       "      <td>2020-06-08 03:42:00</td>\n",
       "      <td>-0.9800</td>\n",
       "    </tr>\n",
       "    <tr>\n",
       "      <th>1552</th>\n",
       "      <td>Our prayers are with the people of Vienna after yet another vile act of terrorism in Europe. These evil attacks against innocent people must stop. The U.S. stands with Austria, France, and all of Europe in the fight against terrorists, including radical Islamic terrorists.</td>\n",
       "      <td>236684</td>\n",
       "      <td>39564</td>\n",
       "      <td>2020-11-03 04:25:00</td>\n",
       "      <td>-0.9810</td>\n",
       "    </tr>\n",
       "    <tr>\n",
       "      <th>21749</th>\n",
       "      <td>It is outrageous that Poisonous Synthetic Heroin Fentanyl comes pouring into the U.S. Postal System from China. We can, and must, END THIS NOW! The Senate should pass the STOP ACT – and firmly STOP this poison from killing our children and destroying our country. No more delay!</td>\n",
       "      <td>89183</td>\n",
       "      <td>23153</td>\n",
       "      <td>2018-08-20 17:14:00</td>\n",
       "      <td>-0.9825</td>\n",
       "    </tr>\n",
       "    <tr>\n",
       "      <th>3728</th>\n",
       "      <td>According to press reports, Iran may be planning an assassination, or other attack, against the United States in retaliation for the killing of terrorist leader Soleimani, which was carried out for his planning a future attack, murdering U.S. Troops, and the death &amp;amp; suffering...</td>\n",
       "      <td>120885</td>\n",
       "      <td>32175</td>\n",
       "      <td>2020-09-15 03:04:00</td>\n",
       "      <td>-0.9829</td>\n",
       "    </tr>\n",
       "  </tbody>\n",
       "</table>\n",
       "<p>56571 rows × 5 columns</p>\n",
       "</div>"
      ],
      "text/plain": [
       "                                                                                                                                                                                                                                                                                              text  \\\n",
       "23169                                                                      Congratulations to Patrick Reed on his great and courageous MASTERS win! When Patrick had his amazing win at Doral 5 years ago, people saw his great talent, and a bright future ahead. Now he is the Masters Champion!   \n",
       "5169      Today, it was my great honor to proudly accept the endorsement of the @NYCPBA! I have deeply and profoundly admired the brave men and women of the #NYPD for my entire life. New York’s Finest are truly the best of the best — I will NEVER let you down! #MAGA https://t.co/o1l5kAx34v   \n",
       "7200                                                  I am a big fan of Drew Brees. I think he’s truly one of the greatest quarterbacks, but he should not have taken back his original stance on honoring our magnificent American Flag. OLD GLORY is to be revered, cherished, and flown high...   \n",
       "2490                                           It was great to be back in North Carolina with thousands of loyal, hardworking American Patriots! This election is a simple choice: If Biden Wins, China Wins. When WE Win, YOU WIN, North Carolina WINS, and America WINS! https://t.co/jWYVYZdT3E   \n",
       "11615          95% Approval Rating in the Republican Party. Thank you! 191 Federal Judges (a record), and two Supreme Court Justices, approved. Best Economy &amp; Employment Numbers EVER. Thank you to our great New, Smart and Nimble REPUBLICAN PARTY. Join now, it’s where people want to be!   \n",
       "...                                                                                                                                                                                                                                                                                            ...   \n",
       "21818               The Rigged Russian Witch Hunt goes on and on as the “originators and founders” of this scam continue to be fired and demoted for their corrupt and illegal activity. All credibility is gone from this terrible Hoax, and much more will be lost as it proceeds. No Collusion!   \n",
       "7096    Colin Powell was a pathetic interview today on Fake News CNN. In his time, he was weak &amp; gave away everything to everybody - so bad for the USA. Also got the “weapons of mass destruction” totally wrong, and you know what that mistake cost us? Sad! Only negative questions asked.   \n",
       "1552             Our prayers are with the people of Vienna after yet another vile act of terrorism in Europe. These evil attacks against innocent people must stop. The U.S. stands with Austria, France, and all of Europe in the fight against terrorists, including radical Islamic terrorists.   \n",
       "21749       It is outrageous that Poisonous Synthetic Heroin Fentanyl comes pouring into the U.S. Postal System from China. We can, and must, END THIS NOW! The Senate should pass the STOP ACT – and firmly STOP this poison from killing our children and destroying our country. No more delay!   \n",
       "3728   According to press reports, Iran may be planning an assassination, or other attack, against the United States in retaliation for the killing of terrorist leader Soleimani, which was carried out for his planning a future attack, murdering U.S. Troops, and the death &amp; suffering...   \n",
       "\n",
       "       favorites  retweets                date  sentiment_score  \n",
       "23169      79374     10122 2018-04-09 00:43:00           0.9899  \n",
       "5169       86425     22183 2020-08-15 03:59:00           0.9879  \n",
       "7200      267196     48513 2020-06-05 20:08:00           0.9879  \n",
       "2490       46024     10955 2020-10-15 19:20:00           0.9876  \n",
       "11615     110818     23498 2020-01-26 16:24:00           0.9869  \n",
       "...          ...       ...                 ...              ...  \n",
       "21818      66924     15264 2018-08-15 14:08:00          -0.9785  \n",
       "7096      127934     28175 2020-06-08 03:42:00          -0.9800  \n",
       "1552      236684     39564 2020-11-03 04:25:00          -0.9810  \n",
       "21749      89183     23153 2018-08-20 17:14:00          -0.9825  \n",
       "3728      120885     32175 2020-09-15 03:04:00          -0.9829  \n",
       "\n",
       "[56571 rows x 5 columns]"
      ]
     },
     "execution_count": 10,
     "metadata": {},
     "output_type": "execute_result"
    }
   ],
   "source": [
    "trump_df.sort_values(by='sentiment_score', ascending=False)"
   ]
  },
  {
   "cell_type": "markdown",
   "metadata": {},
   "source": [
    "How well do you think VADER is working on Trump's tweets? What patterns do you notice in these most positive tweets?"
   ]
  },
  {
   "cell_type": "markdown",
   "metadata": {},
   "source": [
    "Let's sort the DataFrame and examine the 10 tweets with the lowest compound sentiment."
   ]
  },
  {
   "cell_type": "code",
   "execution_count": 11,
   "metadata": {},
   "outputs": [
    {
     "data": {
      "text/html": [
       "<div>\n",
       "<style scoped>\n",
       "    .dataframe tbody tr th:only-of-type {\n",
       "        vertical-align: middle;\n",
       "    }\n",
       "\n",
       "    .dataframe tbody tr th {\n",
       "        vertical-align: top;\n",
       "    }\n",
       "\n",
       "    .dataframe thead th {\n",
       "        text-align: right;\n",
       "    }\n",
       "</style>\n",
       "<table border=\"1\" class=\"dataframe\">\n",
       "  <thead>\n",
       "    <tr style=\"text-align: right;\">\n",
       "      <th></th>\n",
       "      <th>text</th>\n",
       "      <th>favorites</th>\n",
       "      <th>retweets</th>\n",
       "      <th>date</th>\n",
       "      <th>sentiment_score</th>\n",
       "    </tr>\n",
       "  </thead>\n",
       "  <tbody>\n",
       "    <tr>\n",
       "      <th>3728</th>\n",
       "      <td>According to press reports, Iran may be planning an assassination, or other attack, against the United States in retaliation for the killing of terrorist leader Soleimani, which was carried out for his planning a future attack, murdering U.S. Troops, and the death &amp;amp; suffering...</td>\n",
       "      <td>120885</td>\n",
       "      <td>32175</td>\n",
       "      <td>2020-09-15 03:04:00</td>\n",
       "      <td>-0.9829</td>\n",
       "    </tr>\n",
       "    <tr>\n",
       "      <th>21749</th>\n",
       "      <td>It is outrageous that Poisonous Synthetic Heroin Fentanyl comes pouring into the U.S. Postal System from China. We can, and must, END THIS NOW! The Senate should pass the STOP ACT – and firmly STOP this poison from killing our children and destroying our country. No more delay!</td>\n",
       "      <td>89183</td>\n",
       "      <td>23153</td>\n",
       "      <td>2018-08-20 17:14:00</td>\n",
       "      <td>-0.9825</td>\n",
       "    </tr>\n",
       "    <tr>\n",
       "      <th>1552</th>\n",
       "      <td>Our prayers are with the people of Vienna after yet another vile act of terrorism in Europe. These evil attacks against innocent people must stop. The U.S. stands with Austria, France, and all of Europe in the fight against terrorists, including radical Islamic terrorists.</td>\n",
       "      <td>236684</td>\n",
       "      <td>39564</td>\n",
       "      <td>2020-11-03 04:25:00</td>\n",
       "      <td>-0.9810</td>\n",
       "    </tr>\n",
       "    <tr>\n",
       "      <th>7096</th>\n",
       "      <td>Colin Powell was a pathetic interview today on Fake News CNN. In his time, he was weak &amp;amp; gave away everything to everybody - so bad for the USA. Also got the “weapons of mass destruction” totally wrong, and you know what that mistake cost us? Sad! Only negative questions asked.</td>\n",
       "      <td>127934</td>\n",
       "      <td>28175</td>\n",
       "      <td>2020-06-08 03:42:00</td>\n",
       "      <td>-0.9800</td>\n",
       "    </tr>\n",
       "    <tr>\n",
       "      <th>21818</th>\n",
       "      <td>The Rigged Russian Witch Hunt goes on and on as the “originators and founders” of this scam continue to be fired and demoted for their corrupt and illegal activity. All credibility is gone from this terrible Hoax, and much more will be lost as it proceeds. No Collusion!</td>\n",
       "      <td>66924</td>\n",
       "      <td>15264</td>\n",
       "      <td>2018-08-15 14:08:00</td>\n",
       "      <td>-0.9785</td>\n",
       "    </tr>\n",
       "    <tr>\n",
       "      <th>...</th>\n",
       "      <td>...</td>\n",
       "      <td>...</td>\n",
       "      <td>...</td>\n",
       "      <td>...</td>\n",
       "      <td>...</td>\n",
       "    </tr>\n",
       "    <tr>\n",
       "      <th>11615</th>\n",
       "      <td>95% Approval Rating in the Republican Party. Thank you! 191 Federal Judges (a record), and two Supreme Court Justices, approved. Best Economy &amp;amp; Employment Numbers EVER. Thank you to our great New, Smart and Nimble REPUBLICAN PARTY. Join now, it’s where people want to be!</td>\n",
       "      <td>110818</td>\n",
       "      <td>23498</td>\n",
       "      <td>2020-01-26 16:24:00</td>\n",
       "      <td>0.9869</td>\n",
       "    </tr>\n",
       "    <tr>\n",
       "      <th>2490</th>\n",
       "      <td>It was great to be back in North Carolina with thousands of loyal, hardworking American Patriots! This election is a simple choice: If Biden Wins, China Wins. When WE Win, YOU WIN, North Carolina WINS, and America WINS! https://t.co/jWYVYZdT3E</td>\n",
       "      <td>46024</td>\n",
       "      <td>10955</td>\n",
       "      <td>2020-10-15 19:20:00</td>\n",
       "      <td>0.9876</td>\n",
       "    </tr>\n",
       "    <tr>\n",
       "      <th>7200</th>\n",
       "      <td>I am a big fan of Drew Brees. I think he’s truly one of the greatest quarterbacks, but he should not have taken back his original stance on honoring our magnificent American Flag. OLD GLORY is to be revered, cherished, and flown high...</td>\n",
       "      <td>267196</td>\n",
       "      <td>48513</td>\n",
       "      <td>2020-06-05 20:08:00</td>\n",
       "      <td>0.9879</td>\n",
       "    </tr>\n",
       "    <tr>\n",
       "      <th>5169</th>\n",
       "      <td>Today, it was my great honor to proudly accept the endorsement of the @NYCPBA! I have deeply and profoundly admired the brave men and women of the #NYPD for my entire life. New York’s Finest are truly the best of the best — I will NEVER let you down! #MAGA https://t.co/o1l5kAx34v</td>\n",
       "      <td>86425</td>\n",
       "      <td>22183</td>\n",
       "      <td>2020-08-15 03:59:00</td>\n",
       "      <td>0.9879</td>\n",
       "    </tr>\n",
       "    <tr>\n",
       "      <th>23169</th>\n",
       "      <td>Congratulations to Patrick Reed on his great and courageous MASTERS win! When Patrick had his amazing win at Doral 5 years ago, people saw his great talent, and a bright future ahead. Now he is the Masters Champion!</td>\n",
       "      <td>79374</td>\n",
       "      <td>10122</td>\n",
       "      <td>2018-04-09 00:43:00</td>\n",
       "      <td>0.9899</td>\n",
       "    </tr>\n",
       "  </tbody>\n",
       "</table>\n",
       "<p>56571 rows × 5 columns</p>\n",
       "</div>"
      ],
      "text/plain": [
       "                                                                                                                                                                                                                                                                                              text  \\\n",
       "3728   According to press reports, Iran may be planning an assassination, or other attack, against the United States in retaliation for the killing of terrorist leader Soleimani, which was carried out for his planning a future attack, murdering U.S. Troops, and the death &amp; suffering...   \n",
       "21749       It is outrageous that Poisonous Synthetic Heroin Fentanyl comes pouring into the U.S. Postal System from China. We can, and must, END THIS NOW! The Senate should pass the STOP ACT – and firmly STOP this poison from killing our children and destroying our country. No more delay!   \n",
       "1552             Our prayers are with the people of Vienna after yet another vile act of terrorism in Europe. These evil attacks against innocent people must stop. The U.S. stands with Austria, France, and all of Europe in the fight against terrorists, including radical Islamic terrorists.   \n",
       "7096    Colin Powell was a pathetic interview today on Fake News CNN. In his time, he was weak &amp; gave away everything to everybody - so bad for the USA. Also got the “weapons of mass destruction” totally wrong, and you know what that mistake cost us? Sad! Only negative questions asked.   \n",
       "21818               The Rigged Russian Witch Hunt goes on and on as the “originators and founders” of this scam continue to be fired and demoted for their corrupt and illegal activity. All credibility is gone from this terrible Hoax, and much more will be lost as it proceeds. No Collusion!   \n",
       "...                                                                                                                                                                                                                                                                                            ...   \n",
       "11615          95% Approval Rating in the Republican Party. Thank you! 191 Federal Judges (a record), and two Supreme Court Justices, approved. Best Economy &amp; Employment Numbers EVER. Thank you to our great New, Smart and Nimble REPUBLICAN PARTY. Join now, it’s where people want to be!   \n",
       "2490                                           It was great to be back in North Carolina with thousands of loyal, hardworking American Patriots! This election is a simple choice: If Biden Wins, China Wins. When WE Win, YOU WIN, North Carolina WINS, and America WINS! https://t.co/jWYVYZdT3E   \n",
       "7200                                                  I am a big fan of Drew Brees. I think he’s truly one of the greatest quarterbacks, but he should not have taken back his original stance on honoring our magnificent American Flag. OLD GLORY is to be revered, cherished, and flown high...   \n",
       "5169      Today, it was my great honor to proudly accept the endorsement of the @NYCPBA! I have deeply and profoundly admired the brave men and women of the #NYPD for my entire life. New York’s Finest are truly the best of the best — I will NEVER let you down! #MAGA https://t.co/o1l5kAx34v   \n",
       "23169                                                                      Congratulations to Patrick Reed on his great and courageous MASTERS win! When Patrick had his amazing win at Doral 5 years ago, people saw his great talent, and a bright future ahead. Now he is the Masters Champion!   \n",
       "\n",
       "       favorites  retweets                date  sentiment_score  \n",
       "3728      120885     32175 2020-09-15 03:04:00          -0.9829  \n",
       "21749      89183     23153 2018-08-20 17:14:00          -0.9825  \n",
       "1552      236684     39564 2020-11-03 04:25:00          -0.9810  \n",
       "7096      127934     28175 2020-06-08 03:42:00          -0.9800  \n",
       "21818      66924     15264 2018-08-15 14:08:00          -0.9785  \n",
       "...          ...       ...                 ...              ...  \n",
       "11615     110818     23498 2020-01-26 16:24:00           0.9869  \n",
       "2490       46024     10955 2020-10-15 19:20:00           0.9876  \n",
       "7200      267196     48513 2020-06-05 20:08:00           0.9879  \n",
       "5169       86425     22183 2020-08-15 03:59:00           0.9879  \n",
       "23169      79374     10122 2018-04-09 00:43:00           0.9899  \n",
       "\n",
       "[56571 rows x 5 columns]"
      ]
     },
     "execution_count": 11,
     "metadata": {},
     "output_type": "execute_result"
    }
   ],
   "source": [
    "trump_df.sort_values(by='sentiment_score', ascending=True)"
   ]
  },
  {
   "cell_type": "markdown",
   "metadata": {},
   "source": [
    "### Plot Sentiment Over Time"
   ]
  },
  {
   "cell_type": "markdown",
   "metadata": {},
   "source": [
    "We can plot how Trump's sentiment in his tweets fluctuates over time by making the date column the index of the DataFrame, which makes it easier to work with time series data."
   ]
  },
  {
   "cell_type": "code",
   "execution_count": 12,
   "metadata": {},
   "outputs": [],
   "source": [
    "trump_df = trump_df.set_index('date')"
   ]
  },
  {
   "cell_type": "markdown",
   "metadata": {},
   "source": [
    "Then we will group the tweets by month using `.resample()`, a special method for datetime indices, and calculate the average (`.mean()`) compound score for each month. Finally, we will plot these averages."
   ]
  },
  {
   "cell_type": "code",
   "execution_count": 13,
   "metadata": {},
   "outputs": [
    {
     "data": {
      "text/plain": [
       "<AxesSubplot:title={'center':\"Trump's Tweet Sentiment by Month\"}, xlabel='date'>"
      ]
     },
     "execution_count": 13,
     "metadata": {},
     "output_type": "execute_result"
    },
    {
     "data": {
      "image/png": "[encoded data removed]",
      "text/plain": [
       "<Figure size 432x288 with 1 Axes>"
      ]
     },
     "metadata": {
      "needs_background": "light"
     },
     "output_type": "display_data"
    }
   ],
   "source": [
    "trump_df.resample('M')['sentiment_score'].mean().plot(title=\"Trump's Tweet Sentiment by Month\")"
   ]
  },
  {
   "cell_type": "markdown",
   "metadata": {},
   "source": [
    "By using `.loc`, we can also zoom in on particular time periods, such as the year 2020."
   ]
  },
  {
   "cell_type": "code",
   "execution_count": 14,
   "metadata": {},
   "outputs": [
    {
     "data": {
      "image/png": "[encoded data removed]",
      "text/plain": [
       "<Figure size 432x288 with 1 Axes>"
      ]
     },
     "metadata": {
      "needs_background": "light"
     },
     "output_type": "display_data"
    }
   ],
   "source": [
    "trump_df.loc[\"2020\"].resample('W')['sentiment_score'].mean().plot(title=\"Trump's Tweet Sentiment by Week in 2020\");"
   ]
  },
  {
   "cell_type": "markdown",
   "metadata": {},
   "source": [
    "## Zoom In and Explore"
   ]
  },
  {
   "cell_type": "code",
   "execution_count": 15,
   "metadata": {},
   "outputs": [
    {
     "data": {
      "text/html": [
       "<div>\n",
       "<style scoped>\n",
       "    .dataframe tbody tr th:only-of-type {\n",
       "        vertical-align: middle;\n",
       "    }\n",
       "\n",
       "    .dataframe tbody tr th {\n",
       "        vertical-align: top;\n",
       "    }\n",
       "\n",
       "    .dataframe thead th {\n",
       "        text-align: right;\n",
       "    }\n",
       "</style>\n",
       "<table border=\"1\" class=\"dataframe\">\n",
       "  <thead>\n",
       "    <tr style=\"text-align: right;\">\n",
       "      <th></th>\n",
       "      <th>text</th>\n",
       "      <th>favorites</th>\n",
       "      <th>retweets</th>\n",
       "      <th>sentiment_score</th>\n",
       "    </tr>\n",
       "    <tr>\n",
       "      <th>date</th>\n",
       "      <th></th>\n",
       "      <th></th>\n",
       "      <th></th>\n",
       "      <th></th>\n",
       "    </tr>\n",
       "  </thead>\n",
       "  <tbody>\n",
       "    <tr>\n",
       "      <th>2020-12-31 18:52:00</th>\n",
       "      <td>https://t.co/2kYtZF8Mei</td>\n",
       "      <td>237668</td>\n",
       "      <td>57422</td>\n",
       "      <td>0.0000</td>\n",
       "    </tr>\n",
       "    <tr>\n",
       "      <th>2020-12-31 01:13:00</th>\n",
       "      <td>https://t.co/S6fKpzoXZZ</td>\n",
       "      <td>175185</td>\n",
       "      <td>47501</td>\n",
       "      <td>0.0000</td>\n",
       "    </tr>\n",
       "    <tr>\n",
       "      <th>2020-12-30 21:51:00</th>\n",
       "      <td>We now have far more votes than needed to flip Georgia in the Presidential race. Massive VOTER FRAUD took place. Thank you to the Georgia Legislature for today’s revealing meeting!</td>\n",
       "      <td>348110</td>\n",
       "      <td>85675</td>\n",
       "      <td>-0.5147</td>\n",
       "    </tr>\n",
       "    <tr>\n",
       "      <th>2020-12-30 21:38:00</th>\n",
       "      <td>.@BrianKempGA, his puppet Lt. Governor @GeoffDuncanGA, and Secretary of State, are disasters for Georgia. Won’t let professionals get anywhere near Fulton County for signature verifications, or anything else. They are virtually controlled by @staceyabrams &amp;amp; the Democrats. Fools!</td>\n",
       "      <td>172187</td>\n",
       "      <td>46133</td>\n",
       "      <td>-0.7959</td>\n",
       "    </tr>\n",
       "    <tr>\n",
       "      <th>2020-12-30 21:27:00</th>\n",
       "      <td>Watching @FoxNews is almost as bad as watching Fake News @CNN. New alternatives are developing!</td>\n",
       "      <td>265625</td>\n",
       "      <td>49692</td>\n",
       "      <td>-0.7659</td>\n",
       "    </tr>\n",
       "    <tr>\n",
       "      <th>...</th>\n",
       "      <td>...</td>\n",
       "      <td>...</td>\n",
       "      <td>...</td>\n",
       "      <td>...</td>\n",
       "    </tr>\n",
       "    <tr>\n",
       "      <th>2020-01-01 00:15:00</th>\n",
       "      <td>RT @heatherjones333: 🔥🔥🔥🔥🔥Lindsey Graham: Trump Has World on Notice, ‘There Will Be No Benghazis on His Watch’ https://t.co/4yfHKlZlV9</td>\n",
       "      <td>0</td>\n",
       "      <td>6631</td>\n",
       "      <td>-0.8689</td>\n",
       "    </tr>\n",
       "    <tr>\n",
       "      <th>2020-01-01 00:14:00</th>\n",
       "      <td>RT @heatherjones333: Congratulations Sleepy Joe! You just won Stupid Person of 2019 Award! 🏆Joe Biden: ‘We’re All Dead’ if We Don’t Stop...</td>\n",
       "      <td>0</td>\n",
       "      <td>7133</td>\n",
       "      <td>0.7955</td>\n",
       "    </tr>\n",
       "    <tr>\n",
       "      <th>2020-01-01 00:14:00</th>\n",
       "      <td>RT @heatherjones333: DEAR STUPID PEOPLE- PEACE IS A GOOD THINGPutin Calls Trump To Thank Him For Helping Russia Thwart Terrorist Attack h...</td>\n",
       "      <td>0</td>\n",
       "      <td>8034</td>\n",
       "      <td>0.4526</td>\n",
       "    </tr>\n",
       "    <tr>\n",
       "      <th>2020-01-01 00:13:00</th>\n",
       "      <td>RT @heatherjones333: 'We Have Taken Appropriate Force Protection Actions to Ensure Safety of Americans' - AH-64 Apaches Protect US Embassy...</td>\n",
       "      <td>0</td>\n",
       "      <td>5336</td>\n",
       "      <td>0.7906</td>\n",
       "    </tr>\n",
       "    <tr>\n",
       "      <th>2020-01-01 00:09:00</th>\n",
       "      <td>RT @DevinNunes: My Christmas and New Years message to you and your family!  No more #fakenews in 2020! https://t.co/cAxUke2xW6</td>\n",
       "      <td>0</td>\n",
       "      <td>17139</td>\n",
       "      <td>-0.4184</td>\n",
       "    </tr>\n",
       "  </tbody>\n",
       "</table>\n",
       "<p>12236 rows × 4 columns</p>\n",
       "</div>"
      ],
      "text/plain": [
       "                                                                                                                                                                                                                                                                                                            text  \\\n",
       "date                                                                                                                                                                                                                                                                                                               \n",
       "2020-12-31 18:52:00                                                                                                                                                                                                                                                                      https://t.co/2kYtZF8Mei   \n",
       "2020-12-31 01:13:00                                                                                                                                                                                                                                                                      https://t.co/S6fKpzoXZZ   \n",
       "2020-12-30 21:51:00                                                                                                         We now have far more votes than needed to flip Georgia in the Presidential race. Massive VOTER FRAUD took place. Thank you to the Georgia Legislature for today’s revealing meeting!   \n",
       "2020-12-30 21:38:00  .@BrianKempGA, his puppet Lt. Governor @GeoffDuncanGA, and Secretary of State, are disasters for Georgia. Won’t let professionals get anywhere near Fulton County for signature verifications, or anything else. They are virtually controlled by @staceyabrams &amp; the Democrats. Fools!   \n",
       "2020-12-30 21:27:00                                                                                                                                                                                              Watching @FoxNews is almost as bad as watching Fake News @CNN. New alternatives are developing!   \n",
       "...                                                                                                                                                                                                                                                                                                          ...   \n",
       "2020-01-01 00:15:00                                                                                                                                                       RT @heatherjones333: 🔥🔥🔥🔥🔥Lindsey Graham: Trump Has World on Notice, ‘There Will Be No Benghazis on His Watch’ https://t.co/4yfHKlZlV9   \n",
       "2020-01-01 00:14:00                                                                                                                                                  RT @heatherjones333: Congratulations Sleepy Joe! You just won Stupid Person of 2019 Award! 🏆Joe Biden: ‘We’re All Dead’ if We Don’t Stop...   \n",
       "2020-01-01 00:14:00                                                                                                                                                 RT @heatherjones333: DEAR STUPID PEOPLE- PEACE IS A GOOD THINGPutin Calls Trump To Thank Him For Helping Russia Thwart Terrorist Attack h...   \n",
       "2020-01-01 00:13:00                                                                                                                                                RT @heatherjones333: 'We Have Taken Appropriate Force Protection Actions to Ensure Safety of Americans' - AH-64 Apaches Protect US Embassy...   \n",
       "2020-01-01 00:09:00                                                                                                                                                               RT @DevinNunes: My Christmas and New Years message to you and your family!  No more #fakenews in 2020! https://t.co/cAxUke2xW6   \n",
       "\n",
       "                     favorites  retweets  sentiment_score  \n",
       "date                                                       \n",
       "2020-12-31 18:52:00     237668     57422           0.0000  \n",
       "2020-12-31 01:13:00     175185     47501           0.0000  \n",
       "2020-12-30 21:51:00     348110     85675          -0.5147  \n",
       "2020-12-30 21:38:00     172187     46133          -0.7959  \n",
       "2020-12-30 21:27:00     265625     49692          -0.7659  \n",
       "...                        ...       ...              ...  \n",
       "2020-01-01 00:15:00          0      6631          -0.8689  \n",
       "2020-01-01 00:14:00          0      7133           0.7955  \n",
       "2020-01-01 00:14:00          0      8034           0.4526  \n",
       "2020-01-01 00:13:00          0      5336           0.7906  \n",
       "2020-01-01 00:09:00          0     17139          -0.4184  \n",
       "\n",
       "[12236 rows x 4 columns]"
      ]
     },
     "execution_count": 15,
     "metadata": {},
     "output_type": "execute_result"
    }
   ],
   "source": [
    "trump_df.loc[\"2020\"]"
   ]
  },
  {
   "cell_type": "markdown",
   "metadata": {},
   "source": [
    "- How well do you think VADER sentiment analysis works with tweets?\n",
    "- What do you think VADER is really measuring?\n",
    "- Could you imagine using sentiment analysis in a project? If so, how?"
   ]
  }
 ],
 "metadata": {
  "kernelspec": {
   "display_name": "Python 3",
   "language": "python",
   "name": "python3"
  },
  "language_info": {
   "codemirror_mode": {
    "name": "ipython",
    "version": 3
   },
   "file_extension": ".py",
   "mimetype": "text/x-python",
   "name": "python",
   "nbconvert_exporter": "python",
   "pygments_lexer": "ipython3",
   "version": "3.8.8"
  }
 },
 "nbformat": 4,
 "nbformat_minor": 4
}
