{
 "cells": [
  {
   "cell_type": "markdown",
   "id": "dce8a22a-c9b6-4860-a672-9ea27a9665f1",
   "metadata": {},
   "source": [
    "# Word Shift Graphs — Comparing Shakespeare Plays"
   ]
  },
  {
   "cell_type": "markdown",
   "id": "4e99780f-435a-4236-94cd-4dfa0649b047",
   "metadata": {},
   "source": [
    "In this notebook, we will be comparing Shakespeare comedies vs tragedies. To do so, we will be using the `Shifterator` package, and we will be making word shift graphs.\n",
    "\n",
    "What we need to make word shift graphs with `Shifterator` is **two dictionaries for our two corpora** — dictionaries that have keys as words and values as how many times the words show up in the corpora. To make these dictionaries, we will go over how to use `Counter()` and how to transform multiple text files into dictionaries of word counts."
   ]
  },
  {
   "cell_type": "markdown",
   "id": "12470b91-01b9-4cee-b02e-214db2395ca7",
   "metadata": {},
   "source": [
    "## Make a Word Tokenizer"
   ]
  },
  {
   "cell_type": "markdown",
   "id": "86284741-0dd6-43ca-a061-548a57f657e9",
   "metadata": {},
   "source": [
    "Make sure to run all of these cells and create these variables. If you're unsure, check your Variable Inspector."
   ]
  },
  {
   "cell_type": "code",
   "execution_count": 20,
   "id": "4d027619-8e81-4faf-9f81-c966184eb9b5",
   "metadata": {},
   "outputs": [],
   "source": [
    "from collections import Counter\n",
    "import re"
   ]
  },
  {
   "cell_type": "code",
   "execution_count": 22,
   "id": "695f575a-0ddb-403a-9e4f-9204dd76eb26",
   "metadata": {},
   "outputs": [],
   "source": [
    "stopwords = ['i', 'me', 'my', 'myself', 'we', 'our', 'ours', 'ourselves', 'you', 'your', 'yours',\n",
    " 'yourself', 'yourselves', 'he', 'him', 'his', 'himself', 'she', 'her', 'hers',\n",
    " 'herself', 'it', 'its', 'itself', 'they', 'them', 'their', 'theirs', 'themselves',\n",
    " 'what', 'which', 'who', 'whom', 'this', 'that', 'these', 'those', 'am', 'is', 'are',\n",
    " 'was', 'were', 'be', 'been', 'being', 'have', 'has', 'had', 'having', 'do', 'does',\n",
    " 'did', 'doing', 'a', 'an', 'the', 'and', 'but', 'if', 'or', 'because', 'as', 'until',\n",
    " 'while', 'of', 'at', 'by', 'for', 'with', 'about', 'against', 'between', 'into',\n",
    " 'through', 'during', 'before', 'after', 'above', 'below', 'to', 'from', 'up', 'down',\n",
    " 'in', 'out', 'on', 'off', 'over', 'under', 'again', 'further', 'then', 'once', 'here',\n",
    " 'there', 'when', 'where', 'why', 'how', 'all', 'any', 'both', 'each', 'few', 'more',\n",
    " 'most', 'other', 'some', 'such', 'no', 'nor', 'not', 'only', 'own', 'same', 'so',\n",
    " 'than', 'too', 'very', 's', 't', 'can', 'will', 'just', 'don', 'should', 'now', 've', 'll', 'amp']"
   ]
  },
  {
   "cell_type": "code",
   "execution_count": 23,
   "id": "05aa8459-4387-49de-b106-9fda77d4c1af",
   "metadata": {},
   "outputs": [],
   "source": [
    "def tokenize_words(text):\n",
    "    lowercase_text = text.lower()\n",
    "    split_words = re.split(\"\\W+\", lowercase_text)\n",
    "    meaningful_words = [word for word in split_words if word not in stopwords]\n",
    "    return meaningful_words"
   ]
  },
  {
   "cell_type": "code",
   "execution_count": 24,
   "id": "dbcab974-c731-447e-892c-eb26e6e54005",
   "metadata": {},
   "outputs": [
    {
     "data": {
      "text/plain": [
       "['love', 'seattle', '']"
      ]
     },
     "execution_count": 24,
     "metadata": {},
     "output_type": "execute_result"
    }
   ],
   "source": [
    "tokenize_words(\"I love Seattle!!!\")"
   ]
  },
  {
   "cell_type": "markdown",
   "id": "f2ed9b17-2a60-4895-8506-57554a04a627",
   "metadata": {},
   "source": [
    "## Make Shakepeare's Comedies and Tragedies Into Dictionaries"
   ]
  },
  {
   "cell_type": "code",
   "execution_count": 16,
   "id": "de81ce53-1c26-46c5-9199-89fbcfaf4967",
   "metadata": {},
   "outputs": [],
   "source": [
    "import glob"
   ]
  },
  {
   "cell_type": "code",
   "execution_count": 17,
   "id": "6270e9db-88c6-455b-ad9a-d95fd42349c1",
   "metadata": {},
   "outputs": [],
   "source": [
    "comedy_filenames = glob.glob('../shakespeare-data/comedies/*')"
   ]
  },
  {
   "cell_type": "code",
   "execution_count": 30,
   "id": "33c9ab86-d3f8-4b7b-8ab8-5884f82e1c72",
   "metadata": {},
   "outputs": [],
   "source": [
    "tragedy_filenames = glob.glob('../shakespeare-data/tragedies/*')"
   ]
  },
  {
   "cell_type": "code",
   "execution_count": 31,
   "id": "dfa0fb8c-88c4-4b62-a9ec-03c4b06057b7",
   "metadata": {},
   "outputs": [
    {
     "data": {
      "text/plain": [
       "['../shakespeare-data/comedies/much-ado-about-nothing_TXT_FolgerShakespeare.txt',\n",
       " '../shakespeare-data/comedies/the-winters-tale_TXT_FolgerShakespeare.txt',\n",
       " '../shakespeare-data/comedies/the-merchant-of-venice_TXT_FolgerShakespeare.txt',\n",
       " '../shakespeare-data/comedies/loves-labors-lost_TXT_FolgerShakespeare.txt',\n",
       " '../shakespeare-data/comedies/troilus-and-cressida_TXT_FolgerShakespeare.txt',\n",
       " '../shakespeare-data/comedies/a-midsummer-nights-dream_TXT_FolgerShakespeare.txt',\n",
       " '../shakespeare-data/comedies/pericles_TXT_FolgerShakespeare.txt',\n",
       " '../shakespeare-data/comedies/the-merry-wives-of-windsor_TXT_FolgerShakespeare.txt',\n",
       " '../shakespeare-data/comedies/as-you-like-it_TXT_FolgerShakespeare.txt',\n",
       " '../shakespeare-data/comedies/cymbeline_TXT_FolgerShakespeare.txt',\n",
       " '../shakespeare-data/comedies/alls-well-that-ends-well_TXT_FolgerShakespeare.txt',\n",
       " '../shakespeare-data/comedies/the-tempest_TXT_FolgerShakespeare.txt',\n",
       " '../shakespeare-data/comedies/the-taming-of-the-shrew_TXT_FolgerShakespeare.txt',\n",
       " '../shakespeare-data/comedies/measure-for-measure_TXT_FolgerShakespeare.txt',\n",
       " '../shakespeare-data/comedies/twelfth-night_TXT_FolgerShakespeare.txt',\n",
       " '../shakespeare-data/comedies/the-comedy-of-errors_TXT_FolgerShakespeare.txt',\n",
       " '../shakespeare-data/comedies/the-two-gentlemen-of-verona_TXT_FolgerShakespeare.txt']"
      ]
     },
     "execution_count": 31,
     "metadata": {},
     "output_type": "execute_result"
    }
   ],
   "source": [
    "comedy_filenames"
   ]
  },
  {
   "cell_type": "code",
   "execution_count": 32,
   "id": "eeb51133-f777-411e-8844-14fbf4933c1f",
   "metadata": {},
   "outputs": [],
   "source": [
    "comedy_counts = Counter()\n",
    "\n",
    "for filename in comedy_filenames:\n",
    "    \n",
    "    # Read in file here and assign to variable\n",
    "    words = tokenize_words(full_text)\n",
    "    comedy_counts.update(words)"
   ]
  },
  {
   "cell_type": "code",
   "execution_count": 33,
   "id": "2c75d4b7-8b1e-47e1-9e54-abfc45e60748",
   "metadata": {},
   "outputs": [],
   "source": [
    "tragedy_counts = Counter()\n",
    "\n",
    "for filename in tragedy_filenames:\n",
    "    # Read in file here and assign to variable\n",
    "    words = tokenize_words(full_text)\n",
    "    tragedy_counts.update(words)"
   ]
  },
  {
   "cell_type": "markdown",
   "id": "fec9e6c4-45a5-4e07-97df-13613459c75d",
   "metadata": {},
   "source": [
    "## Word Shift Graphs — Proportion Shift"
   ]
  },
  {
   "cell_type": "markdown",
   "id": "d96e992d-2af2-440e-b38f-1eefa7431d0c",
   "metadata": {},
   "source": [
    "## Import Packages"
   ]
  },
  {
   "cell_type": "code",
   "execution_count": null,
   "id": "9552ab42-a081-452e-8b03-263466f0cb1f",
   "metadata": {},
   "outputs": [],
   "source": [
    "#!pip install shifterator"
   ]
  },
  {
   "cell_type": "code",
   "execution_count": 35,
   "id": "99b017f2-5a40-44a5-b483-40c048415cf1",
   "metadata": {},
   "outputs": [],
   "source": [
    "import shifterator as sh\n",
    "import warnings\n",
    "warnings.filterwarnings(\"ignore\")"
   ]
  },
  {
   "cell_type": "markdown",
   "id": "215cc588-b1c9-483e-a727-e55db8af07d3",
   "metadata": {},
   "source": [
    "## 🛑  Pause!\n",
    "Before you run this cell, take a few minutes and make predictions about what words you think are going to be the most relatively frequent in Shakespeare's comedies vs tragedies. Jot down a few thoughts."
   ]
  },
  {
   "cell_type": "code",
   "execution_count": null,
   "id": "e4d22f47-3190-4872-bae4-34aa26618d2f",
   "metadata": {},
   "outputs": [],
   "source": [
    "# Your thoughts"
   ]
  },
  {
   "cell_type": "markdown",
   "id": "b9b24b11-5f56-4e7a-a395-15180aafe48c",
   "metadata": {},
   "source": [
    "## 🚦 Go!"
   ]
  },
  {
   "cell_type": "code",
   "execution_count": null,
   "id": "1fe756f5-910b-41b1-bf4e-70e3b0dbf716",
   "metadata": {},
   "outputs": [],
   "source": [
    "proportion_shift = sh.ProportionShift(type2freq_1 = #Dictionary 1,\n",
    "                                    type2freq_2= #Dictionary 2)\n",
    "\n",
    "proportion_shift.get_shift_graph(system_names = ['Comedy', 'Tragedy'],  width=15, height=15, cumulative_inset=False,  top_n = 50, title= 'Comedy v Tragedy' )"
   ]
  },
  {
   "cell_type": "markdown",
   "id": "b3976f6d-5046-4db9-85bc-b41a80b02203",
   "metadata": {},
   "source": [
    "## Word Shift Graphs — Sentiment Analysis"
   ]
  },
  {
   "cell_type": "markdown",
   "id": "dbf3f824-4d37-42fc-a075-47bf387e165a",
   "metadata": {},
   "source": [
    "You can see the full list of possible sentiment lexicons here: https://github.com/ryanjgallagher/shifterator/tree/master/shifterator/lexicons"
   ]
  },
  {
   "cell_type": "code",
   "execution_count": null,
   "id": "fe07727d-1c98-42b1-b056-e5706ba4ed96",
   "metadata": {},
   "outputs": [],
   "source": [
    "sentiment_shift = sh.WeightedAvgShift(type2freq_1 = #Dictionary 1,\n",
    "                                type2freq_2= #Dictionary 2,\n",
    "                                type2score_1='labMT_English', #Try 'NRC-emotion_anger_English' or 'NRC-emotion_sadness_English'\n",
    "                                stop_lens=[(4,6)]\n",
    "                                )\n",
    "\n",
    "sentiment_shift.get_shift_graph(system_names = ['Comedy', 'Tragedy'],  width=15, height=15, cumulative_inset=False, details=True)"
   ]
  },
  {
   "cell_type": "markdown",
   "id": "142727f7-82fb-4699-933b-0ffc97c00401",
   "metadata": {},
   "source": [
    "## 🛑  Interpretation & Analysis"
   ]
  },
  {
   "cell_type": "markdown",
   "id": "0d7d836e-2b45-4c4d-9e8e-ef1bc412fb6d",
   "metadata": {},
   "source": [
    "What kind of claims could you make about Shakespeare's comedies vs tragedies based on the word shift graphs? Try to formulate it in one or two sentences."
   ]
  },
  {
   "cell_type": "code",
   "execution_count": null,
   "id": "a576467c-1168-4d7e-81d2-c2989754b0f4",
   "metadata": {},
   "outputs": [],
   "source": [
    "# Your claims here"
   ]
  }
 ],
 "metadata": {
  "kernelspec": {
   "display_name": "Python 3",
   "language": "python",
   "name": "python3"
  },
  "language_info": {
   "codemirror_mode": {
    "name": "ipython",
    "version": 3
   },
   "file_extension": ".py",
   "mimetype": "text/x-python",
   "name": "python",
   "nbconvert_exporter": "python",
   "pygments_lexer": "ipython3",
   "version": "3.8.8"
  }
 },
 "nbformat": 4,
 "nbformat_minor": 5
}
