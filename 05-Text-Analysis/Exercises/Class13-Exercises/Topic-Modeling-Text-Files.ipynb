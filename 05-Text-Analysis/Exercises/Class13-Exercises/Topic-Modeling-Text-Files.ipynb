{
 "cells": [
  {
   "cell_type": "markdown",
   "metadata": {},
   "source": [
    "# Class 13 Exercises — Topic Modeling"
   ]
  },
  {
   "cell_type": "markdown",
   "metadata": {},
   "source": [
    "In these lessons, we're learning about a text analysis method called *topic modeling*. This method will help us identify the main topics or discourses within a collection of texts.\n",
    "\n",
    "In this particular lesson, we're going to use [Little MALLET Wrapper](https://github.com/maria-antoniak/little-mallet-wrapper), a Python wrapper for [MALLET](http://mallet.cs.umass.edu/topics.php), to topic model 379 obituaries published by *The New York Times*. This dataset is based on data originally collected by Matt Lavin for his *Programming Historian* [TF-IDF tutorial](https://programminghistorian.org/en/lessons/analyzing-documents-with-tfidf#lesson-dataset). I have re-scraped the obituaries so that the subject's name and death year is included in each text file name, and I have added 13 more [\"Overlooked\"](https://www.nytimes.com/interactive/2018/obituaries/overlooked.html) obituaries, including [Karen Spärck Jones](https://www.nytimes.com/2019/01/02/obituaries/karen-sparck-jones-overlooked.html), the computer scientist who introduced TF-IDF."
   ]
  },
  {
   "cell_type": "markdown",
   "metadata": {},
   "source": [
    "___"
   ]
  },
  {
   "cell_type": "markdown",
   "metadata": {},
   "source": [
    "## Install and Import Packages"
   ]
  },
  {
   "cell_type": "markdown",
   "metadata": {},
   "source": [
    "To use `little_mallet_wrapper` outside JupyterHub, you will need to install it."
   ]
  },
  {
   "cell_type": "code",
   "execution_count": null,
   "metadata": {},
   "outputs": [],
   "source": [
    "#!pip install little_mallet_wrapper"
   ]
  },
  {
   "cell_type": "markdown",
   "metadata": {},
   "source": [
    "Import `little_mallet_wrapper` and the data viz library `seaborn`. We're also going to import [`glob`](https://docs.python.org/3/library/glob.html) and [`pathlib`](https://docs.python.org/3/library/pathlib.html#basic-use) for working with files and the file system."
   ]
  },
  {
   "cell_type": "code",
   "execution_count": 6,
   "metadata": {},
   "outputs": [],
   "source": [
    "import little_mallet_wrapper\n",
    "import seaborn\n",
    "\n",
    "import glob\n",
    "from pathlib import Path"
   ]
  },
  {
   "cell_type": "markdown",
   "metadata": {},
   "source": [
    "## Process Texts"
   ]
  },
  {
   "cell_type": "markdown",
   "metadata": {},
   "source": [
    "First, we're going to review how to open and read text files with Python, and we're going to test out one of `little_mallet_wrapper`'s functions. This workflow will be essential for pre-processing the NYT obituaries for topic modeling.\n",
    "\n",
    "Open and read the text file for Ada Lovelace's obituary, which has the following relative filepath: \"../NYT-Obituaries/1852-Ada-Lovelace.txt\""
   ]
  },
  {
   "cell_type": "code",
   "execution_count": 27,
   "metadata": {
    "scrolled": true,
    "tags": []
   },
   "outputs": [
    {
     "data": {
      "text/plain": [
       "'A gifted mathematician who is now recognized as the first computer programmer.By CLAIRE CAIN MILLER\\n\\n A century before the dawn of the computer age, Ada Lovelace imagined the modern-day, general-purpose computer. It could be programmed to follow instructions, she wrote in 1843. It could not just calculate but also create, as it “weaves algebraic patterns just as the Jacquard loom weaves flowers and leaves.” The computer she was writing about, the British inventor Charles Babbage’s Analytical Engine, was never built. But her writings about computing have earned Lovelace — who died of uterine cancer in 1852 at 36 — recognition as the first computer programmer. \\n\\n The program she wrote for the Analytical Engine was to calculate the seventh Bernoulli number. (Bernoulli numbers, named after the Swiss mathematician Jacob Bernoulli, are used in many different areas of mathematics.) But her deeper influence was to see the potential of computing. The machines could go beyond calculating numbers, she said, to understand symbols and be used to create music or art.\\n\\n “This insight would become the core concept of the digital age,” Walter Isaacson wrote in his book “The Innovators.” “Any piece of content, data or information — music, text, pictures, numbers, symbols, sounds, video — could be expressed in digital form and manipulated by machines.” She also explored the ramifications of what a computer could do, writing about the responsibility placed on the person programming the machine, and raising and then dismissing the notion that computers could someday think and create on their own — what we now call artificial intelligence.\\n\\n “The Analytical Engine has no pretensions whatever to originate any thing,” she wrote. “It can do whatever we know how to order it to perform.”\\n\\n Lovelace, a British socialite who was the daughter of Lord Byron, the Romantic poet, had a gift for combining art and science, one of her biographers, Betty Alexandra Toole, has written. She thought of math and logic as creative and imaginative, and called it “poetical science.”\\n\\n Math “constitutes the language through which alone we can adequately express the great facts of the natural world,” Lovelace wrote.\\n\\n Her work, which was rediscovered in the mid-20th century, inspired the Defense Department to name a programming language after her and each October Ada Lovelace Day signifies a celebration of women in technology. Lovelace lived when women were not considered to be prominent scientific thinkers, and her skills were often described as masculine.\\n\\n “With an understanding thoroughly masculine in solidity, grasp and firmness, Lady Lovelace had all the delicacies of the most refined female character,” said an obituary in The London Examiner.\\n\\n Babbage, who called her the “enchantress of numbers,” once wrote that she “has thrown her magical spell around the most abstract of Sciences and has grasped it with a force which few masculine intellects (in our own country at least) could have exerted over it.”\\n\\n Augusta Ada Byron was born on Dec. 10, 1815, in London, to Lord Byron and Annabella Milbanke. Her parents separated when she was an infant, and her father died when she was 8. Her mother — whom Lord Byron called the “princess of parallelograms” and, after their falling out, a “mathematical Medea” — was a social reformer from a wealthy family who had a deep interest in mathematics.\\n\\n An etching from a portrait of Lovelace as a child. She is said to have had a gift for combining art and science. Smith Collection/Gado/Getty Images\\n\\n Lovelace showed a passion for math and mechanics from a young age, encouraged by her mother. Because of her class, she had access to private tutors and to intellectuals in British scientific and literary society. She was insatiably curious and surrounded herself with big thinkers of the day, including Mary Somerville, a scientist and writer.\\n\\n It was Somerville who introduced Lovelace to Babbage when she was 17, at a salon he hosted soon after she made her society debut. He showed her a two-foot high, brass mechanical calculator he had built, and it gripped her imagination. They began a correspondence about math and science that lasted almost two decades.\\n\\n She also met her husband, William King, through Somerville. They married in 1835, when she was 19. He soon became an earl, and she became the Countess of Lovelace. By 1839, she had given birth to two sons and a daughter.\\n\\n She was determined, however, not to let her family life slow her work. The year she was married, she wrote to Somerville: “I now read Mathematics every day and am occupied in Trigonometry and in preliminaries to Cubic and Biquadratic Equations. So you see that matrimony has by no means lessened my taste for these pursuits, nor my determination to carry them on.”\\n\\n In 1840, Lovelace asked Augustus De Morgan, a math professor in London, to tutor her. Through exchanging letters, he taught her university-level math. He later wrote to her mother that if a young male student had shown her skill, “they would have certainly made him an original mathematical investigator, perhaps of first-rate eminence.”\\n\\n It was in 1843, when she was 27, that Lovelace wrote her most lasting contribution to computer science.\\n\\n She published her translation of an academic paper about the Babbage Analytical Engine and added a section, nearly three times the length of the paper, titled, “Notes.” Here, she described how the computer would work, imagined its potential and wrote the first program.\\n\\n Researchers have come to see it as “an extraordinary document,” said Ursula Martin, a computer scientist at the University of Oxford who has studied Lovelace’s life and work. “She’s talking about the abstract principles of computation, how you could program it, and big ideas like maybe it could compose music, maybe it could think.”\\n\\n Lovelace died less than a decade later, on Nov. 27, 1852. In the “Notes,” she imagined a future in which computers could do more powerful and faster analysis than humans.\\n\\n “A new, a vast and a powerful language is developed for the future use of analysis,” she wrote, “in which to wield its truths so that these may become of more speedy and accurate practical application for the purposes of mankind.”\\n\\n Claire Cain Miller writes about gender for The Upshot. She first learned about Ada Lovelace while covering the tech industry, where women are severely underrepresented.'"
      ]
     },
     "execution_count": 27,
     "metadata": {},
     "output_type": "execute_result"
    }
   ],
   "source": [
    "#Your code here"
   ]
  },
  {
   "cell_type": "markdown",
   "metadata": {},
   "source": [
    "Assign the contents of Ada Lovelace's obituary to the variable `text`"
   ]
  },
  {
   "cell_type": "code",
   "execution_count": 28,
   "metadata": {},
   "outputs": [],
   "source": [
    "text = #Your code here"
   ]
  },
  {
   "cell_type": "markdown",
   "metadata": {},
   "source": [
    "Now run `little_mallet_wrapper.process_string()` on `text`"
   ]
  },
  {
   "cell_type": "code",
   "execution_count": 29,
   "metadata": {
    "scrolled": true,
    "tags": []
   },
   "outputs": [
    {
     "data": {
      "text/plain": [
       "'gifted mathematician recognized first computer programmer claire cain miller century dawn computer age ada lovelace imagined modern day general purpose computer could programmed follow instructions wrote could calculate also create weaves algebraic patterns jacquard loom weaves flowers leaves computer writing british inventor charles babbage analytical engine never built writings computing earned lovelace died uterine cancer recognition first computer programmer program wrote analytical engine calculate seventh bernoulli number bernoulli numbers named swiss mathematician jacob bernoulli used many different areas mathematics deeper influence see potential computing machines could beyond calculating numbers said understand symbols used create music art insight would become core concept digital age walter isaacson wrote book innovators piece content data information music text pictures numbers symbols sounds video could expressed digital form manipulated machines also explored ramifications computer could writing responsibility placed person programming machine raising dismissing notion computers could someday think create call artificial intelligence analytical engine pretensions whatever originate thing wrote whatever know order perform lovelace british socialite daughter lord byron romantic poet gift combining art science one biographers betty alexandra toole written thought math logic creative imaginative called poetical science math constitutes language alone adequately express great facts natural world lovelace wrote work rediscovered mid century inspired defense department name programming language october ada lovelace day signifies celebration women technology lovelace lived women considered prominent scientific thinkers skills often described masculine understanding thoroughly masculine solidity grasp firmness lady lovelace delicacies refined female character said obituary london examiner babbage called enchantress numbers wrote thrown magical spell around abstract sciences grasped force masculine intellects country least could exerted augusta ada byron born dec london lord byron annabella milbanke parents separated infant father died mother lord byron called princess parallelograms falling mathematical medea social reformer wealthy family deep interest mathematics etching portrait lovelace child said gift combining art science smith collection/gado/getty images lovelace showed passion math mechanics young age encouraged mother class access private tutors intellectuals british scientific literary society insatiably curious surrounded big thinkers day including mary somerville scientist writer somerville introduced lovelace babbage salon hosted soon made society debut showed two foot high brass mechanical calculator built gripped imagination began correspondence math science lasted almost two decades also met husband william king somerville married soon became earl became countess lovelace given birth two sons daughter determined however let family life slow work year married wrote somerville read mathematics every day occupied trigonometry preliminaries cubic biquadratic equations see matrimony means lessened taste pursuits determination carry lovelace asked augustus morgan math professor london tutor exchanging letters taught university level math later wrote mother young male student shown skill would certainly made original mathematical investigator perhaps first rate eminence lovelace wrote lasting contribution computer science published translation academic paper babbage analytical engine added section nearly three times length paper titled notes described computer would work imagined potential wrote first program researchers come see extraordinary document said ursula martin computer scientist university oxford studied lovelace life work talking abstract principles computation could program big ideas like maybe could compose music maybe could think lovelace died less decade later nov notes imagined future computers could powerful faster analysis humans new vast powerful language developed future use analysis wrote wield truths may become speedy accurate practical application purposes mankind claire cain miller writes gender upshot first learned ada lovelace covering tech industry women severely underrepresented'"
      ]
     },
     "execution_count": 29,
     "metadata": {},
     "output_type": "execute_result"
    }
   ],
   "source": [
    "little_mallet_wrapper.process_string(text, numbers='remove')"
   ]
  },
  {
   "cell_type": "markdown",
   "metadata": {},
   "source": [
    "## Working with Multiple Text Files — Glob to the Rescue!"
   ]
  },
  {
   "cell_type": "markdown",
   "metadata": {},
   "source": [
    "To topic model the *NYT* obituaries, we need to process and work with dozens of text files. But how can we work with multiple text files at the same time?"
   ]
  },
  {
   "cell_type": "markdown",
   "metadata": {},
   "source": [
    "This is where the `glob` library comes in handy. We can use `glob.glob()` to get a list of filepaths that match a certain pattern. Below, we are matching any file (`*`) in the \"NYT-Obituaries\" directory that has the file extension `.txt`"
   ]
  },
  {
   "cell_type": "code",
   "execution_count": 76,
   "metadata": {
    "scrolled": true,
    "tags": []
   },
   "outputs": [
    {
     "data": {
      "text/plain": [
       "['../NYT-Obituaries/1945-Adolf-Hitler.txt',\n",
       " '../NYT-Obituaries/1915-F-W-Taylor.txt',\n",
       " '../NYT-Obituaries/1975-Chiang-Kai-shek.txt',\n",
       " '../NYT-Obituaries/1984-Ethel-Merman.txt',\n",
       " '../NYT-Obituaries/1953-Jim-Thorpe.txt',\n",
       " '../NYT-Obituaries/1964-Nella-Larsen.txt',\n",
       " '../NYT-Obituaries/1955-Margaret-Abbott.txt',\n",
       " '../NYT-Obituaries/1984-Lillian-Hellman.txt',\n",
       " '../NYT-Obituaries/1959-Cecil-De-Mille.txt',\n",
       " '../NYT-Obituaries/1928-Mabel-Craty.txt',\n",
       " '../NYT-Obituaries/1973-Eddie-Rickenbacker.txt',\n",
       " '../NYT-Obituaries/1989-Ferdinand-Marcos.txt',\n",
       " '../NYT-Obituaries/1991-Martha-Graham.txt',\n",
       " '../NYT-Obituaries/1997-Deng-Xiaoping.txt',\n",
       " '../NYT-Obituaries/1938-George-E-Hale.txt',\n",
       " '../NYT-Obituaries/1885-Ulysses-Grant.txt',\n",
       " '../NYT-Obituaries/1909-Sarah-Orne-Jewett.txt',\n",
       " '../NYT-Obituaries/1957-Christian-Dior.txt',\n",
       " '../NYT-Obituaries/1987-Clare-Boothe-Luce.txt',\n",
       " '../NYT-Obituaries/1976-Jacques-Monod.txt',\n",
       " '../NYT-Obituaries/1954-Getulio-Vargas.txt',\n",
       " '../NYT-Obituaries/1979-Stan-Kenton.txt',\n",
       " '../NYT-Obituaries/1990-Leonard-Bernstein.txt',\n",
       " '../NYT-Obituaries/1972-Jackie-Robinson.txt',\n",
       " '../NYT-Obituaries/1998-Fred-W-Friendly.txt',\n",
       " '../NYT-Obituaries/1991-Leo-Durocher.txt',\n",
       " '../NYT-Obituaries/1915-B-T-Washington.txt',\n",
       " '../NYT-Obituaries/1997-James-Stewart.txt',\n",
       " '../NYT-Obituaries/1981-Joe-Louis.txt',\n",
       " '../NYT-Obituaries/1983-Muddy-Waters.txt',\n",
       " '../NYT-Obituaries/1942-George-M-Cohan.txt',\n",
       " '../NYT-Obituaries/1989-Samuel-Beckett.txt',\n",
       " '../NYT-Obituaries/1962-Marilyn-Monroe.txt',\n",
       " '../NYT-Obituaries/2000-Charles-M-Schulz.txt',\n",
       " '../NYT-Obituaries/1967-Gregory-Pincus.txt',\n",
       " '../NYT-Obituaries/1894-R-L-Stevenson.txt',\n",
       " '../NYT-Obituaries/1978-Bruce-Catton.txt',\n",
       " '../NYT-Obituaries/1982-Arthur-Rubinstein.txt',\n",
       " '../NYT-Obituaries/1875-Andrew-Johnson.txt',\n",
       " '../NYT-Obituaries/1974-Charles-Lindbergh.txt',\n",
       " '../NYT-Obituaries/1964-Rachel-Carson.txt',\n",
       " '../NYT-Obituaries/1953-Marjorie-Rawlings.txt',\n",
       " '../NYT-Obituaries/1973-Otto-Klemperer.txt',\n",
       " '../NYT-Obituaries/1963-Sylvia-Plath.txt',\n",
       " '../NYT-Obituaries/1956-Charles-Merrill.txt',\n",
       " '../NYT-Obituaries/1966-Lenny-Bruce.txt',\n",
       " '../NYT-Obituaries/1908-Cleveland.txt',\n",
       " '../NYT-Obituaries/1982-Anna-Freud.txt',\n",
       " '../NYT-Obituaries/1941-Frank-Conrad.txt',\n",
       " '../NYT-Obituaries/1966-Alfred-P-Sloan-Jr.txt',\n",
       " '../NYT-Obituaries/1960-Beno-Gutenberg.txt',\n",
       " '../NYT-Obituaries/1976-J-Paul-Getty.txt',\n",
       " '../NYT-Obituaries/1891-P-T-Barnum.txt',\n",
       " '../NYT-Obituaries/1901-Queen-Victoria.txt',\n",
       " '../NYT-Obituaries/1970-Erich-Maria-Remarque.txt',\n",
       " '../NYT-Obituaries/1989-August-A-Busch-Jr.txt',\n",
       " '../NYT-Obituaries/1992-John-Cage.txt',\n",
       " '../NYT-Obituaries/1994-Erik-Erikson.txt',\n",
       " '../NYT-Obituaries/1990-Erte.txt',\n",
       " '../NYT-Obituaries/1966-Chester-Nimitz.txt',\n",
       " '../NYT-Obituaries/1954-Enrico-Fermi.txt',\n",
       " '../NYT-Obituaries/1961-Primitive-Artist.txt',\n",
       " '../NYT-Obituaries/1945-Bela-Bartok.txt',\n",
       " '../NYT-Obituaries/1978-Pope-Paul-VI.txt',\n",
       " '../NYT-Obituaries/1965-Martin-Buber.txt',\n",
       " '../NYT-Obituaries/1971-Diane-Arbus.txt',\n",
       " '../NYT-Obituaries/1973-Lyndon-Johnson.txt',\n",
       " '../NYT-Obituaries/1998-Bob-Kane.txt',\n",
       " '../NYT-Obituaries/1969-Judy-Garland.txt',\n",
       " '../NYT-Obituaries/1959-Frank-Lloyd-Wright.txt',\n",
       " '../NYT-Obituaries/1995-Ginger-Rogers.txt',\n",
       " '../NYT-Obituaries/1920-Marlene-Dietrich.txt',\n",
       " '../NYT-Obituaries/1998-Alan-B-Shepard-Jr.txt',\n",
       " '../NYT-Obituaries/1971-Khrushchev.txt',\n",
       " '../NYT-Obituaries/1935-Justice-Holmes.txt',\n",
       " '../NYT-Obituaries/1969-David-Eisenhower.txt',\n",
       " '../NYT-Obituaries/1992-Marsha-P-Johnson.txt',\n",
       " '../NYT-Obituaries/1914-Alfred-Thayer-Mahan.txt',\n",
       " '../NYT-Obituaries/1965-Branch-Rickey.txt',\n",
       " '../NYT-Obituaries/2007-Karen-Sparck-Jones.txt',\n",
       " '../NYT-Obituaries/1965-Albert-Schweitzer.txt',\n",
       " '../NYT-Obituaries/1992-Isaac-Asimov.txt',\n",
       " '../NYT-Obituaries/1989-William-B-Shockley.txt',\n",
       " '../NYT-Obituaries/1910-William-James.txt',\n",
       " '../NYT-Obituaries/1951-Fanny-Brice.txt',\n",
       " '../NYT-Obituaries/1916-Jack-London.txt',\n",
       " '../NYT-Obituaries/1947-Al-Capone.txt',\n",
       " '../NYT-Obituaries/1989-Lucille-Ball.txt',\n",
       " '../NYT-Obituaries/1980-Jean-Paul-Sartre.txt',\n",
       " '../NYT-Obituaries/1969-Sonja-Henie.txt',\n",
       " '../NYT-Obituaries/1976-Adolph-Zukor.txt',\n",
       " '../NYT-Obituaries/1959-John-Dulles.txt',\n",
       " '../NYT-Obituaries/1980-Alfred-Hitchcock.txt',\n",
       " '../NYT-Obituaries/1901-Benjamin-Harrison.txt',\n",
       " '../NYT-Obituaries/1994-Richard-Nixon.txt',\n",
       " '../NYT-Obituaries/1917-Hilaire-G-E-Degas.txt',\n",
       " '../NYT-Obituaries/1987-James-Baldwin.txt',\n",
       " '../NYT-Obituaries/1941-Virginia-Woolf.txt',\n",
       " '../NYT-Obituaries/1922-Alexander-Graham-Bell.txt',\n",
       " '../NYT-Obituaries/1907-Qiu-Jin.txt',\n",
       " '../NYT-Obituaries/1895-Fred-Douglass.txt',\n",
       " '../NYT-Obituaries/1971-Florence-Blanchfield.txt',\n",
       " '../NYT-Obituaries/1984-Ray-A-Kroc.txt',\n",
       " '../NYT-Obituaries/1947-Fiorello-La-Guardia.txt',\n",
       " '../NYT-Obituaries/1988-Louis-L-Amour.txt',\n",
       " '../NYT-Obituaries/1902-Elizabeth-Cady-Stanton.txt',\n",
       " '../NYT-Obituaries/1965-Shirley-Jackson.txt',\n",
       " '../NYT-Obituaries/1979-John-Wayne.txt',\n",
       " '../NYT-Obituaries/1994-Thomas-P-O-Neill-Jr.txt',\n",
       " '../NYT-Obituaries/1982-Thelonious-Monk.txt',\n",
       " '../NYT-Obituaries/1919-C-J-Walker.txt',\n",
       " '../NYT-Obituaries/1954-Liberty-H-Bailey.txt',\n",
       " '../NYT-Obituaries/1977-Dash-Ended.txt',\n",
       " '../NYT-Obituaries/1936-Maxim-Gorky.txt',\n",
       " '../NYT-Obituaries/2000-Pierre-Trudeau.txt',\n",
       " '../NYT-Obituaries/1976-Mao-Tse-Tung.txt',\n",
       " '../NYT-Obituaries/1955-Walter-White.txt',\n",
       " '../NYT-Obituaries/1930-Conan-Doyle.txt',\n",
       " '../NYT-Obituaries/1995-Jonas-Salk.txt',\n",
       " '../NYT-Obituaries/1949-Mitchell.txt',\n",
       " '../NYT-Obituaries/1951-Henrietta-Lacks.txt',\n",
       " '../NYT-Obituaries/1903-James-M-N-Whistler.txt',\n",
       " '../NYT-Obituaries/1950-A-J-Dempster.txt',\n",
       " '../NYT-Obituaries/1937-Edith-Wharton.txt',\n",
       " '../NYT-Obituaries/1935-Jane-Addams.txt',\n",
       " '../NYT-Obituaries/1941-James-Joyce.txt',\n",
       " '../NYT-Obituaries/1952-John-Dewey.txt',\n",
       " '../NYT-Obituaries/1940-Marcus-Garvey.txt',\n",
       " '../NYT-Obituaries/1971-Louis-Armstrong.txt',\n",
       " '../NYT-Obituaries/1923-Warren-Harding.txt',\n",
       " '../NYT-Obituaries/1937-John-Rockefeller.txt',\n",
       " '../NYT-Obituaries/2000-Elliot-Richardson.txt',\n",
       " '../NYT-Obituaries/1972-J-Edgar-Hoover.txt',\n",
       " '../NYT-Obituaries/1975-Franco.txt',\n",
       " '../NYT-Obituaries/1973-Jeanette-Rankin.txt',\n",
       " '../NYT-Obituaries/1888-Louisa-M-Alcott.txt',\n",
       " '../NYT-Obituaries/1977-Charles-Chaplin.txt',\n",
       " '../NYT-Obituaries/1990-Ralph-David-Abernathy.txt',\n",
       " '../NYT-Obituaries/1946-Lord-Keynes.txt',\n",
       " '../NYT-Obituaries/1996-Gene-Kelly.txt',\n",
       " '../NYT-Obituaries/1973-Roberto-Clemente.txt',\n",
       " '../NYT-Obituaries/1986-Georgia-O-Keeffe.txt',\n",
       " '../NYT-Obituaries/1990-Rex-Harrison.txt',\n",
       " '../NYT-Obituaries/1916-Martian-Theory.txt',\n",
       " '../NYT-Obituaries/1961-Ernest-Hemingway.txt',\n",
       " '../NYT-Obituaries/1978-Margaret-Mead.txt',\n",
       " '../NYT-Obituaries/1982-Ingrid-Bergman.txt',\n",
       " '../NYT-Obituaries/1946-C-E-M-Clung.txt',\n",
       " '../NYT-Obituaries/1977-Maria-Callas.txt',\n",
       " '../NYT-Obituaries/1952-Eva-Peron.txt',\n",
       " '../NYT-Obituaries/1961-Emily-Balch.txt',\n",
       " '../NYT-Obituaries/1979-Arthur-Fiedler.txt',\n",
       " '../NYT-Obituaries/1896-Harriet-Beecher-Stowe.txt',\n",
       " '../NYT-Obituaries/1989-Andrei-Sakharov.txt',\n",
       " '../NYT-Obituaries/1939-W-B-Yeats.txt',\n",
       " '../NYT-Obituaries/1961-Hammarskjold.txt',\n",
       " '../NYT-Obituaries/1969-Madhubala.txt',\n",
       " '../NYT-Obituaries/1970-Edouard-Daladier.txt',\n",
       " '../NYT-Obituaries/1988-John-Houseman.txt',\n",
       " '../NYT-Obituaries/1992-William-Shawn.txt',\n",
       " '../NYT-Obituaries/1950-Edna-St-V-Millay.txt',\n",
       " '../NYT-Obituaries/1989-Claude-Pepper.txt',\n",
       " '../NYT-Obituaries/1929-Marie-Curie.txt',\n",
       " '../NYT-Obituaries/1972-The-Duke-of-Windsor.txt',\n",
       " '../NYT-Obituaries/1984-Count-Basie.txt',\n",
       " '../NYT-Obituaries/1998-Helen-Moody.txt',\n",
       " '../NYT-Obituaries/1936-Anne-Macy.txt',\n",
       " '../NYT-Obituaries/1900-Nietzsche.txt',\n",
       " '../NYT-Obituaries/1880-Lucretia-Mott.txt',\n",
       " '../NYT-Obituaries/1967-J-Robert-Oppenheimer.txt',\n",
       " '../NYT-Obituaries/1984-Richard-Burton.txt',\n",
       " '../NYT-Obituaries/1964-Sean-O-Casey.txt',\n",
       " '../NYT-Obituaries/1931-Thomas-Edison.txt',\n",
       " '../NYT-Obituaries/1971-Bobby-Jones.txt',\n",
       " '../NYT-Obituaries/1914-John-P-Holland.txt',\n",
       " '../NYT-Obituaries/1995-George-Abbott.txt',\n",
       " '../NYT-Obituaries/1950-Henry-L-Stimson.txt',\n",
       " '../NYT-Obituaries/1955-Dale-Carnegie.txt',\n",
       " '../NYT-Obituaries/1934-T-A-Watson.txt',\n",
       " '../NYT-Obituaries/1968-Martin-Luther-King-Jr.txt',\n",
       " '../NYT-Obituaries/1933-Louis-C-Tiffany.txt',\n",
       " '../NYT-Obituaries/1909-Geronimo.txt',\n",
       " '../NYT-Obituaries/1952-Charles-Spaulding.txt',\n",
       " '../NYT-Obituaries/1922-Nellie-Bly.txt',\n",
       " '../NYT-Obituaries/1955-Cy-Young.txt',\n",
       " '../NYT-Obituaries/1993-Arthur-Ashe.txt',\n",
       " '../NYT-Obituaries/1986-Bernard-Malamud.txt',\n",
       " '../NYT-Obituaries/1939-Howard-Carter.txt',\n",
       " '../NYT-Obituaries/1994-Linus-C-Pauling.txt',\n",
       " '../NYT-Obituaries/1967-Langston-Hughes.txt',\n",
       " '../NYT-Obituaries/1948-Mohandas-K-Gandhi.txt',\n",
       " '../NYT-Obituaries/1931-Melvil-Dewey.txt',\n",
       " '../NYT-Obituaries/1969-Everett-Dirksen.txt',\n",
       " '../NYT-Obituaries/1968-Helen-Keller.txt',\n",
       " '../NYT-Obituaries/1992-Alex-Haley.txt',\n",
       " '../NYT-Obituaries/1953-Eugene-O-Neill.txt',\n",
       " '../NYT-Obituaries/1981-Anwar-el-Sadat.txt',\n",
       " '../NYT-Obituaries/1937-Maurice-Ravel.txt',\n",
       " '../NYT-Obituaries/1966-Margaret-Sanger.txt',\n",
       " '../NYT-Obituaries/1989-I-F-Stone.txt',\n",
       " '../NYT-Obituaries/1943-J-H-Kellogg.txt',\n",
       " '../NYT-Obituaries/1985-Roger-Maris.txt',\n",
       " '../NYT-Obituaries/1972-Mahalia-Jackson.txt',\n",
       " '../NYT-Obituaries/1990-Greta-Garbo.txt',\n",
       " '../NYT-Obituaries/1998-Benjamin-Spock.txt',\n",
       " '../NYT-Obituaries/1994-Jessica-Tandy.txt',\n",
       " '../NYT-Obituaries/1979-Richard-Rodgers.txt',\n",
       " '../NYT-Obituaries/1958-W-C-Handy.txt',\n",
       " '../NYT-Obituaries/1974-Ed-Sullivan.txt',\n",
       " '../NYT-Obituaries/1989-Hirohito.txt',\n",
       " '../NYT-Obituaries/1933-Calvin-Coolidge.txt',\n",
       " '../NYT-Obituaries/1969-Ho-Chi-Minh.txt',\n",
       " '../NYT-Obituaries/1987-John-Huston.txt',\n",
       " '../NYT-Obituaries/1984-Johnny-Weissmuller.txt',\n",
       " '../NYT-Obituaries/1969-Maureen-Connolly.txt',\n",
       " '../NYT-Obituaries/1968-Yuri-Gagarin.txt',\n",
       " '../NYT-Obituaries/1991-Peggy-Ashcroft.txt',\n",
       " '../NYT-Obituaries/1979-A-Philip-Randolph.txt',\n",
       " '../NYT-Obituaries/1946-Gertrude-Stein.txt',\n",
       " '../NYT-Obituaries/1993-Thurgood-Marshall.txt',\n",
       " '../NYT-Obituaries/1887-Emma-Lazarus.txt',\n",
       " '../NYT-Obituaries/1986-James-Cagney.txt',\n",
       " '../NYT-Obituaries/1976-Richard-Daley.txt',\n",
       " '../NYT-Obituaries/1977-Joan-Crawford.txt',\n",
       " '../NYT-Obituaries/1971-Hugo-Black.txt',\n",
       " '../NYT-Obituaries/1954-Henri-Matisse.txt',\n",
       " '../NYT-Obituaries/1906-Susan-B-Anthony.txt',\n",
       " '../NYT-Obituaries/1990-Sammy-Davis-Jr.txt',\n",
       " '../NYT-Obituaries/1914-John-Muir.txt',\n",
       " '../NYT-Obituaries/1954-Anne-O-Hare-McCormick.txt',\n",
       " '../NYT-Obituaries/1986-Kate-Smith.txt',\n",
       " '../NYT-Obituaries/1919-Anna-H-Shaw.txt',\n",
       " '../NYT-Obituaries/1980-Jean-Piaget.txt',\n",
       " '../NYT-Obituaries/1966-Buster-Keaton.txt',\n",
       " '../NYT-Obituaries/1997-Allen-Ginsberg.txt',\n",
       " '../NYT-Obituaries/1991-Miles-Davis.txt',\n",
       " '../NYT-Obituaries/1982-Satchel-Paige.txt',\n",
       " '../NYT-Obituaries/1931-Ida-B-Wells.txt',\n",
       " '../NYT-Obituaries/1967-Henry-R-Luce.txt',\n",
       " '../NYT-Obituaries/1984-Ansel-Adams.txt',\n",
       " '../NYT-Obituaries/1945-Ernie-Pyle.txt',\n",
       " '../NYT-Obituaries/1952-Chaim-Weizmann.txt',\n",
       " '../NYT-Obituaries/1973-Nancy-Mitford.txt',\n",
       " '../NYT-Obituaries/1852-Ada-Lovelace.txt',\n",
       " '../NYT-Obituaries/1996-Timothy-Leary.txt',\n",
       " '../NYT-Obituaries/1919-Carnegie-Started.txt',\n",
       " '../NYT-Obituaries/1989-Andrei-A-Gromyko.txt',\n",
       " '../NYT-Obituaries/1965-David-O-Selznick.txt',\n",
       " '../NYT-Obituaries/1870-Robert-E-Lee.txt',\n",
       " '../NYT-Obituaries/1968-Robert-Francis-Kennedy.txt',\n",
       " '../NYT-Obituaries/1900-Stephen-Crane.txt',\n",
       " '../NYT-Obituaries/1936-John-W-Heisman.txt',\n",
       " '../NYT-Obituaries/1998-Maureen-O-Sullivan.txt',\n",
       " '../NYT-Obituaries/1953-Joseph-Stalin.txt',\n",
       " '../NYT-Obituaries/1944-Alfred-E-Smith.txt',\n",
       " '../NYT-Obituaries/1910-Tolstoy.txt',\n",
       " '../NYT-Obituaries/1964-Cole-Porter.txt',\n",
       " '../NYT-Obituaries/1983-Jack-Dempsey.txt',\n",
       " '../NYT-Obituaries/1975-Haile-Selassie.txt',\n",
       " '../NYT-Obituaries/1882-Charles-Darwin.txt',\n",
       " '../NYT-Obituaries/1903-Emily-Warren-Roebling.txt',\n",
       " '../NYT-Obituaries/1962-Eleanor-Roosevelt.txt',\n",
       " '../NYT-Obituaries/1926-Harry-Houdini.txt',\n",
       " '../NYT-Obituaries/1955-Albert-Einstein.txt',\n",
       " '../NYT-Obituaries/1971-Coco-Chanel.txt',\n",
       " '../NYT-Obituaries/1959-Billie-Holiday.txt',\n",
       " '../NYT-Obituaries/1969-Coleman-Hawkins.txt',\n",
       " '../NYT-Obituaries/1954-Frida-Kahlo.txt',\n",
       " '../NYT-Obituaries/1911-Joseph-Pulitzer.txt',\n",
       " '../NYT-Obituaries/1993-Carlos-Montoya.txt',\n",
       " '../NYT-Obituaries/1947-Max-Planck.txt',\n",
       " '../NYT-Obituaries/1985-Orson-Welles.txt',\n",
       " '../NYT-Obituaries/1974-Earl-Warren.txt',\n",
       " '../NYT-Obituaries/1971-Ralph-Bunche.txt',\n",
       " '../NYT-Obituaries/1999-Hassan-II.txt',\n",
       " '../NYT-Obituaries/1931-Knute-Rocke.txt',\n",
       " '../NYT-Obituaries/1998-Theodore-Schultz.txt',\n",
       " '../NYT-Obituaries/1960-Boris-Pasternak.txt',\n",
       " '../NYT-Obituaries/1927-Victoria-Martin.txt',\n",
       " '../NYT-Obituaries/1943-George-Washington-Carver.txt',\n",
       " '../NYT-Obituaries/1956-Thomas-J-Watson-Sr.txt',\n",
       " '../NYT-Obituaries/1947-Henry-Ford.txt',\n",
       " '../NYT-Obituaries/1953-Fred-Vinson.txt',\n",
       " '../NYT-Obituaries/1982-Leonid-Brezhnev.txt',\n",
       " '../NYT-Obituaries/1999-King-Hussein.txt',\n",
       " '../NYT-Obituaries/1930-Elmer-Sperry.txt',\n",
       " '../NYT-Obituaries/1985-E-B-White.txt',\n",
       " '../NYT-Obituaries/1959-Ethel-Barrymore.txt',\n",
       " '../NYT-Obituaries/1986-Benny-Goodman.txt',\n",
       " '../NYT-Obituaries/1963-W-E-B-DuBois.txt',\n",
       " '../NYT-Obituaries/1975-Elijah-Muhammad.txt',\n",
       " '../NYT-Obituaries/1973-Pablo-Picasso.txt',\n",
       " '../NYT-Obituaries/1993-Federico-Fellini.txt',\n",
       " '../NYT-Obituaries/1945-Harry-S-Truman.txt',\n",
       " '../NYT-Obituaries/1970-De-Gaulle-Rallied.txt',\n",
       " '../NYT-Obituaries/1995-Alfred-Eisenstaedt.txt',\n",
       " '../NYT-Obituaries/1999-Iris-Murdoch.txt',\n",
       " '../NYT-Obituaries/1987-Alf-Landon.txt',\n",
       " '../NYT-Obituaries/1998-Bella-Abzug.txt',\n",
       " '../NYT-Obituaries/1940-Scott-Fitzgerald.txt',\n",
       " '../NYT-Obituaries/1989-Vladimir-Horowitz.txt',\n",
       " '../NYT-Obituaries/1969-Mies-van-der-Rohe.txt',\n",
       " '../NYT-Obituaries/1944-Ida-M-Tarbell.txt',\n",
       " '../NYT-Obituaries/1948-John-Pershing.txt',\n",
       " '../NYT-Obituaries/1938-Clarence-Darrow.txt',\n",
       " '../NYT-Obituaries/1987-Primo-Levi.txt',\n",
       " '../NYT-Obituaries/1971-Igor-Stravinsky.txt',\n",
       " '../NYT-Obituaries/1945-George-Patton.txt',\n",
       " '../NYT-Obituaries/1930-William-Howard-Taft.txt',\n",
       " '../NYT-Obituaries/1935-Will-Rogers.txt',\n",
       " '../NYT-Obituaries/1992-Shirley-Booth.txt',\n",
       " '../NYT-Obituaries/1994-Jacqueline-Kennedy.txt',\n",
       " '../NYT-Obituaries/1933-Ring-Lardner.txt',\n",
       " '../NYT-Obituaries/1974-Sylvia-Plath.txt',\n",
       " '../NYT-Obituaries/1945-FDR.txt',\n",
       " '../NYT-Obituaries/1995-Yitzhak-Rabin.txt',\n",
       " '../NYT-Obituaries/1960-Emily-Post.txt',\n",
       " '../NYT-Obituaries/1984-Truman-Capote.txt',\n",
       " '../NYT-Obituaries/1968-Upton-Sinclair.txt',\n",
       " '../NYT-Obituaries/1994-Jan-Tinbergen.txt',\n",
       " '../NYT-Obituaries/1957-Gerard-Swope.txt',\n",
       " '../NYT-Obituaries/1993-Albert-Sabin.txt',\n",
       " '../NYT-Obituaries/1955-Thomas-Mann.txt',\n",
       " '../NYT-Obituaries/1991-Dr-Seuss.txt',\n",
       " '../NYT-Obituaries/1877-Bedford-Forrest.txt',\n",
       " '../NYT-Obituaries/1964-Douglas-MacArthur.txt',\n",
       " '../NYT-Obituaries/1965-Churchill.txt',\n",
       " '../NYT-Obituaries/1962-William-Faulkner.txt',\n",
       " '../NYT-Obituaries/1956-Babe-Zaharias.txt',\n",
       " '../NYT-Obituaries/1932-John-Philip-Sousa.txt',\n",
       " '../NYT-Obituaries/1964-Herbert-Hoover.txt',\n",
       " '../NYT-Obituaries/1961-Sam-Rayburn.txt',\n",
       " '../NYT-Obituaries/1954-Lionel-Barrymore.txt',\n",
       " '../NYT-Obituaries/1998-Frank-Sinatra.txt',\n",
       " '../NYT-Obituaries/1948-Babe-Ruth.txt',\n",
       " '../NYT-Obituaries/1947-Willa-Cather.txt',\n",
       " '../NYT-Obituaries/1963-John-F-Kennedy.txt',\n",
       " '../NYT-Obituaries/1975-Walker-Evans.txt',\n",
       " '../NYT-Obituaries/1916-J-J-Hill.txt',\n",
       " '../NYT-Obituaries/1980-Jesse-Owens.txt',\n",
       " '../NYT-Obituaries/1948-Sergei-Eisenstein.txt',\n",
       " '../NYT-Obituaries/1981-Robert-Moses.txt',\n",
       " '../NYT-Obituaries/1989-Robert-Penn-Warren.txt',\n",
       " '../NYT-Obituaries/1901-William-McKinley.txt',\n",
       " '../NYT-Obituaries/1970-Walter-Reuther.txt',\n",
       " '../NYT-Obituaries/1930-Balfour.txt',\n",
       " '../NYT-Obituaries/1984-Indira-Gandhi.txt',\n",
       " '../NYT-Obituaries/1978-Golda-Meir.txt',\n",
       " '../NYT-Obituaries/1983-Earl-Hines.txt',\n",
       " '../NYT-Obituaries/1974-Katharine-Cornell.txt',\n",
       " '../NYT-Obituaries/1982-Lee-Strasberg.txt',\n",
       " '../NYT-Obituaries/1939-Pope-Pius-XI.txt',\n",
       " '../NYT-Obituaries/1886-Mary-Ewing-Outerbridge.txt',\n",
       " '../NYT-Obituaries/1993-Dizzy-Gillespie.txt',\n",
       " '../NYT-Obituaries/1910-Florence-Nightingale.txt',\n",
       " '../NYT-Obituaries/1960-Richard-Wright.txt',\n",
       " '../NYT-Obituaries/1986-The-Challenger.txt',\n",
       " '../NYT-Obituaries/1992-Menachem-Begin.txt',\n",
       " '../NYT-Obituaries/1998-Galina-Ulanova.txt',\n",
       " '../NYT-Obituaries/1976-Max-Ernst.txt',\n",
       " '../NYT-Obituaries/1993-Cesar-Chavez.txt',\n",
       " '../NYT-Obituaries/1965-Adlai-Ewing-Stevenson.txt',\n",
       " '../NYT-Obituaries/1935-Adolph-S-Ochs.txt',\n",
       " '../NYT-Obituaries/1941-Lou-Gehrig.txt',\n",
       " '../NYT-Obituaries/1961-Carl-G-Jung.txt',\n",
       " '../NYT-Obituaries/1963-Robert-Frost.txt',\n",
       " '../NYT-Obituaries/1965-Edward-R-Murrow.txt',\n",
       " '../NYT-Obituaries/1971-Dean-Acheson.txt',\n",
       " '../NYT-Obituaries/1986-Jorge-Luis-Borges.txt',\n",
       " '../NYT-Obituaries/1966-Walt-Disney.txt',\n",
       " '../NYT-Obituaries/1996-Carl-Sagan.txt',\n",
       " '../NYT-Obituaries/1959-Ross-G-Harrison.txt',\n",
       " '../NYT-Obituaries/1945-Jerome-Kern.txt',\n",
       " '../NYT-Obituaries/1991-Frank-Capra.txt',\n",
       " '../NYT-Obituaries/1987-Andres-Segovie.txt',\n",
       " '../NYT-Obituaries/1987-Rita-Hayworth.txt',\n",
       " '../NYT-Obituaries/1993-William-Golding.txt',\n",
       " '../NYT-Obituaries/1932-Florenz-Ziegfeld.txt',\n",
       " '../NYT-Obituaries/1938-Constantin-Stanislavsky.txt']"
      ]
     },
     "execution_count": 76,
     "metadata": {},
     "output_type": "execute_result"
    }
   ],
   "source": [
    "glob.glob( \"../NYT-Obituaries/*.txt\")"
   ]
  },
  {
   "cell_type": "markdown",
   "metadata": {},
   "source": [
    "Below, we are matching any files that starts with 1945 (`1945*`) in the \"NYT-Obituaries\" directory and have the file extension `.txt`"
   ]
  },
  {
   "cell_type": "code",
   "execution_count": 77,
   "metadata": {},
   "outputs": [
    {
     "data": {
      "text/plain": [
       "['../NYT-Obituaries/1945-Adolf-Hitler.txt',\n",
       " '../NYT-Obituaries/1945-Bela-Bartok.txt',\n",
       " '../NYT-Obituaries/1945-Ernie-Pyle.txt',\n",
       " '../NYT-Obituaries/1945-Harry-S-Truman.txt',\n",
       " '../NYT-Obituaries/1945-George-Patton.txt',\n",
       " '../NYT-Obituaries/1945-FDR.txt',\n",
       " '../NYT-Obituaries/1945-Jerome-Kern.txt']"
      ]
     },
     "execution_count": 77,
     "metadata": {},
     "output_type": "execute_result"
    }
   ],
   "source": [
    "glob.glob( \"../NYT-Obituaries/1945*.txt\")"
   ]
  },
  {
   "cell_type": "markdown",
   "metadata": {},
   "source": [
    "Below, we are matching any files that starts with 1990 (`1990*`) in the \"NYT-Obituaries\" directory and have the file extension `.txt`"
   ]
  },
  {
   "cell_type": "code",
   "execution_count": 78,
   "metadata": {},
   "outputs": [
    {
     "data": {
      "text/plain": [
       "['../NYT-Obituaries/1990-Leonard-Bernstein.txt',\n",
       " '../NYT-Obituaries/1990-Erte.txt',\n",
       " '../NYT-Obituaries/1990-Ralph-David-Abernathy.txt',\n",
       " '../NYT-Obituaries/1990-Rex-Harrison.txt',\n",
       " '../NYT-Obituaries/1990-Greta-Garbo.txt',\n",
       " '../NYT-Obituaries/1990-Sammy-Davis-Jr.txt']"
      ]
     },
     "execution_count": 78,
     "metadata": {},
     "output_type": "execute_result"
    }
   ],
   "source": [
    "glob.glob( \"../NYT-Obituaries/1990*.txt\")"
   ]
  },
  {
   "cell_type": "markdown",
   "metadata": {},
   "source": [
    "Save the all the text files in \"NYT-Obituaries\" to the variable `filenames`"
   ]
  },
  {
   "cell_type": "code",
   "execution_count": 49,
   "metadata": {},
   "outputs": [],
   "source": [
    "directory = \"../NYT-Obituaries\"\n",
    "filenames = glob.glob(f\"{directory}/*.txt\")"
   ]
  },
  {
   "cell_type": "markdown",
   "metadata": {},
   "source": [
    "## Get Training Data From Text Files"
   ]
  },
  {
   "cell_type": "markdown",
   "metadata": {},
   "source": [
    "Next, we need to process our texts with the function `little_mallet_wrapper.process_string()`. This function will take a text file and transform it to lowercase as well as remove stopwords, punctuation, and numbers.\n",
    "\n",
    "Complete the code below to iterate through all the filenames, open and read each file, process the text, and then add the processed text to the list `training_data`."
   ]
  },
  {
   "cell_type": "code",
   "execution_count": null,
   "metadata": {},
   "outputs": [],
   "source": [
    "#Make a list of all pre-processed NYT obituaries\n",
    "training_data = []\n",
    "\n",
    "for file in ...\n",
    "    text = # Your code here — open and read text file\n",
    "    processed_text = # Your code here — process text with little mallet wrapper\n",
    "    # Your code here — add the pre-processed text "
   ]
  },
  {
   "cell_type": "markdown",
   "metadata": {},
   "source": [
    "We will also make a master list of the original text of the obituaries for future reference."
   ]
  },
  {
   "cell_type": "code",
   "execution_count": 23,
   "metadata": {},
   "outputs": [],
   "source": [
    "#Make a list of all original NYT obituaries (not pre-processed)\n",
    "original_texts = []\n",
    "\n",
    "for file in filenames:\n",
    "    text = # Your code here — open and read text file\n",
    "        # Your code here — add the original text "
   ]
  },
  {
   "cell_type": "markdown",
   "metadata": {},
   "source": [
    "Here, we will extract the relevant part of each file name by using [`Path().stem`](https://docs.python.org/3/library/pathlib.html#pathlib.PurePath.stem), which conveniently extracts just the last part of the file path without the \".txt\" file extension."
   ]
  },
  {
   "cell_type": "code",
   "execution_count": 65,
   "metadata": {},
   "outputs": [],
   "source": [
    "obit_titles = [Path(file).stem for file in filenames]"
   ]
  },
  {
   "cell_type": "markdown",
   "metadata": {},
   "source": [
    "Examine the first item in the list:"
   ]
  },
  {
   "cell_type": "code",
   "execution_count": null,
   "metadata": {},
   "outputs": [],
   "source": [
    "obit_titles#Your code here"
   ]
  },
  {
   "cell_type": "markdown",
   "metadata": {},
   "source": [
    "## Setting Up and Training the Topic Model"
   ]
  },
  {
   "cell_type": "markdown",
   "metadata": {},
   "source": [
    "We can get training data summary statistics by using the function `print_dataset_stats()`."
   ]
  },
  {
   "cell_type": "code",
   "execution_count": null,
   "metadata": {},
   "outputs": [],
   "source": [
    "little_mallet_wrapper.print_dataset_stats(training_data)"
   ]
  },
  {
   "cell_type": "markdown",
   "metadata": {},
   "source": [
    "Since Little MALLET Wrapper is a Python package built around MALLET, we need to tell it where the bigger, Java-based MALLET lives (`path_to_mallet`)."
   ]
  },
  {
   "cell_type": "markdown",
   "metadata": {},
   "source": [
    "Below we set the number of topics we want to return, as well as file paths for our topic modeling results. If you'd like to change this output location, simply change `output_directory_path` below."
   ]
  },
  {
   "cell_type": "code",
   "execution_count": 53,
   "metadata": {},
   "outputs": [],
   "source": [
    "num_topics = 15\n",
    "\n",
    "path_to_mallet = '/home/jovyan/course_materials/mallet/bin/mallet'\n",
    "\n",
    "#No need to change anything below here\n",
    "training_data = training_data\n",
    "\n",
    "#Set output directory\n",
    "output_directory_path = 'topic-model-output/'\n",
    "\n",
    "#Create output directory\n",
    "Path(f\"{output_directory_path}\").mkdir(parents=True, exist_ok=True)\n",
    "\n",
    "#Create output files\n",
    "path_to_training_data           = f\"{output_directory_path}/training.txt\"\n",
    "path_to_formatted_training_data = f\"{output_directory_path}/mallet.training\"\n",
    "path_to_model                   = f\"{output_directory_path}/mallet.model.{str(num_topics)}\"\n",
    "path_to_topic_keys              = f\"{output_directory_path}/mallet.topic_keys.{str(num_topics)}\"\n",
    "path_to_topic_distributions     = f\"{output_directory_path}/mallet.topic_distributions.{str(num_topics)}\""
   ]
  },
  {
   "cell_type": "markdown",
   "metadata": {},
   "source": [
    "Finally, we can train our topic model with `little_mallet_wrapper.quick_train_topic_model()`."
   ]
  },
  {
   "cell_type": "code",
   "execution_count": null,
   "metadata": {
    "scrolled": true
   },
   "outputs": [],
   "source": [
    "little_mallet_wrapper.quick_train_topic_model(path_to_mallet,\n",
    "                                              output_directory_path,\n",
    "                                              num_topics,\n",
    "                                              training_data)"
   ]
  },
  {
   "cell_type": "markdown",
   "metadata": {},
   "source": [
    "## Display Topics and Top Words"
   ]
  },
  {
   "cell_type": "markdown",
   "metadata": {},
   "source": [
    "To examine the 15 topics that the topic model extracted from the *NYT* obituaries, we can use `load_topic_keys()`.\n",
    "\n",
    "The `load_topic_keys()` function will read and process the MALLET topic model output from your JupyterHub, specifically the file \"mallet.topic_keys.15\"."
   ]
  },
  {
   "cell_type": "code",
   "execution_count": null,
   "metadata": {
    "scrolled": true,
    "tags": []
   },
   "outputs": [],
   "source": [
    "topics = little_mallet_wrapper.load_topic_keys(path_to_topic_keys)\n",
    "topics"
   ]
  },
  {
   "cell_type": "markdown",
   "metadata": {},
   "source": [
    "Complete the code below to iterate through the list `topics` and print out each topic number and list of topic words."
   ]
  },
  {
   "cell_type": "code",
   "execution_count": 31,
   "metadata": {},
   "outputs": [
    {
     "name": "stdout",
     "output_type": "stream",
     "text": [
      "✨Topic 0✨\n",
      "\n",
      "['art', 'paris', 'moses', 'picasso', 'work', 'artist', 'york', 'painting', 'new', 'schulz', 'pictures', 'modern', 'wright', 'works', 'disney', 'brown', 'painter', 'charlie', 'museum', 'arts']\n",
      "\n",
      "✨Topic 1✨\n",
      "\n",
      "['music', 'band', 'jazz', 'piano', 'sinatra', 'musical', 'composer', 'goodman', 'new', 'york', 'orchestra', 'concert', 'stravinsky', 'armstrong', 'bernstein', 'musicians', 'playing', 'davis', 'style', 'played']\n",
      "\n",
      "✨Topic 2✨\n",
      "\n",
      "['university', 'professor', 'research', 'science', 'institute', 'scientific', 'oppenheimer', 'atomic', 'prize', 'society', 'also', 'human', 'dewey', 'theory', 'nobel', 'work', 'vaccine', 'scientist', 'received', 'freud']\n",
      "\n",
      "✨Topic 3✨\n",
      "\n",
      "['one', 'years', 'first', 'said', 'time', 'new', 'later', 'would', 'world', 'life', 'two', 'many', 'made', 'man', 'year', 'also', 'could', 'became', 'american', 'old']\n",
      "\n",
      "✨Topic 4✨\n",
      "\n",
      "['black', 'court', 'justice', 'rights', 'warren', 'king', 'negro', 'civil', 'white', 'law', 'supreme', 'case', 'marshall', 'said', 'negroes', 'blacks', 'racial', 'nation', 'people', 'randolph']\n",
      "\n",
      "✨Topic 5✨\n",
      "\n",
      "['company', 'york', 'business', 'ford', 'oil', 'new', 'rockefeller', 'years', 'mrs', 'hill', 'street', 'president', 'great', 'money', 'carnegie', 'church', 'building', 'million', 'died', 'national']\n",
      "\n",
      "✨Topic 6✨\n",
      "\n",
      "['miss', 'film', 'theater', 'movie', 'broadway', 'films', 'hollywood', 'york', 'stage', 'movies', 'actor', 'television', 'said', 'show', 'director', 'made', 'role', 'star', 'actress', 'won']\n",
      "\n",
      "✨Topic 7✨\n",
      "\n",
      "['miss', 'book', 'mrs', 'published', 'wrote', 'new', 'york', 'writing', 'women', 'said', 'books', 'author', 'writer', 'novel', 'story', 'magazine', 'stories', 'work', 'woman', 'read']\n",
      "\n",
      "✨Topic 8✨\n",
      "\n",
      "['soviet', 'party', 'mao', 'china', 'communist', 'united', 'military', 'union', 'political', 'stalin', 'chinese', 'deng', 'moscow', 'foreign', 'war', 'chiang', 'khrushchev', 'economic', 'policy', 'french']\n",
      "\n",
      "✨Topic 9✨\n",
      "\n",
      "['israel', 'king', 'british', 'war', 'minister', 'peace', 'queen', 'prince', 'arab', 'sir', 'israeli', 'prime', 'egypt', 'churchill', 'lord', 'sadat', 'england', 'victoria', 'jewish', 'begin']\n",
      "\n",
      "✨Topic 10✨\n",
      "\n",
      "['hitler', 'german', 'gandhi', 'germany', 'war', 'government', 'india', 'nazi', 'franco', 'keller', 'mrs', 'minister', 'berlin', 'schweitzer', 'france', 'party', 'poland', 'power', 'nazis', 'indian']\n",
      "\n",
      "✨Topic 11✨\n",
      "\n",
      "['louis', 'lindbergh', 'murrow', 'flight', 'emperor', 'radio', 'air', 'space', 'television', 'dempsey', 'plane', 'news', 'shepard', 'tolstoy', 'friendly', 'houdini', 'marcos', 'selassie', 'haile', 'busch']\n",
      "\n",
      "✨Topic 12✨\n",
      "\n",
      "['times', 'baseball', 'ochs', 'game', 'pulitzer', 'york', 'paper', 'newspaper', 'ruth', 'team', 'luce', 'won', 'tennis', 'league', 'news', 'babe', 'rickey', 'golf', 'chattanooga', 'home']\n",
      "\n",
      "✨Topic 13✨\n",
      "\n",
      "['general', 'gen', 'grant', 'army', 'war', 'military', 'men', 'upon', 'command', 'macarthur', 'pershing', 'troops', 'president', 'union', 'march', 'service', 'forces', 'chief', 'south', 'april']\n",
      "\n",
      "✨Topic 14✨\n",
      "\n",
      "['president', 'roosevelt', 'united', 'state', 'house', 'states', 'political', 'truman', 'party', 'republican', 'office', 'government', 'war', 'election', 'secretary', 'governor', 'senator', 'democratic', 'kennedy', 'campaign']\n",
      "\n"
     ]
    }
   ],
   "source": [
    "for ___, ____ in enumerate(topics):\n",
    "    print(f\"✨Topic {number}✨\\n\\n{topic}\\n\")"
   ]
  },
  {
   "cell_type": "markdown",
   "metadata": {},
   "source": [
    "## Load Topic Distributions"
   ]
  },
  {
   "cell_type": "markdown",
   "metadata": {},
   "source": [
    "MALLET also calculates the likely mixture of these topics for every single obituary in the corpus. This mixture is called a probability distribution.\n",
    "\n",
    "To get the topic distributions, we're going to use the `little_mallet_wrapper.load_topic_distributions()` function, which will read and process the MALLET topic model output, specifically the file \"mallet.topic_distributions.15\". "
   ]
  },
  {
   "cell_type": "code",
   "execution_count": 62,
   "metadata": {},
   "outputs": [],
   "source": [
    "topic_distributions = little_mallet_wrapper.load_topic_distributions(path_to_topic_distributions)"
   ]
  },
  {
   "cell_type": "markdown",
   "metadata": {},
   "source": [
    "If we look at the 32nd topic distribution in this list of `topic_distributions`, which corresponds to Marilyn Monroe's obituary, we will see a list of 15 probabilities. This  list corresponds to the likelihood that each of the 15 topics exists in Marilyn Monroe's obituary."
   ]
  },
  {
   "cell_type": "code",
   "execution_count": null,
   "metadata": {
    "tags": [
     "output_scroll"
    ]
   },
   "outputs": [],
   "source": [
    "topic_distributions[32]"
   ]
  },
  {
   "cell_type": "markdown",
   "metadata": {},
   "source": [
    "## Explore Heatmap of Topics and Texts"
   ]
  },
  {
   "cell_type": "markdown",
   "metadata": {},
   "source": [
    "We can visualize and compare these topic probability distributions with a heatmap by using the `little_mallet_wrapper.plot_categories_by_topics_heatmap()` function.\n",
    "\n",
    "We have everything we need for the heatmap except for our list of target_labels, the sample of texts that we’d like to visualize and compare with the heatmap. Below we make our list of desired target labels."
   ]
  },
  {
   "cell_type": "code",
   "execution_count": 67,
   "metadata": {},
   "outputs": [],
   "source": [
    "target_labels = ['1852-Ada-Lovelace', '1885-Ulysses-Grant',\n",
    "                 '1900-Nietzsche', '1931-Ida-B-Wells', '1940-Marcus-Garvey',\n",
    "                 '1941-Virginia-Woolf', '1954-Frida-Kahlo', '1962-Marilyn-Monroe',\n",
    "                 '1963-John-F-Kennedy', '1964-Nella-Larsen', '1972-Jackie-Robinson',\n",
    "                 '1973-Pablo-Picasso', '1984-Ray-A-Kroc','1986-Jorge-Luis-Borges', '1991-Miles-Davis',\n",
    "                 '1992-Marsha-P-Johnson', '1993-Cesar-Chavez']\n",
    "\n",
    "# If you'd like to make a random list of target labels, you can uncomment and run the code below.\n",
    "#import random\n",
    "#target_labels = random.sample(obit_titles, 10)"
   ]
  },
  {
   "cell_type": "code",
   "execution_count": null,
   "metadata": {},
   "outputs": [],
   "source": [
    "little_mallet_wrapper.plot_categories_by_topics_heatmap(obit_titles,\n",
    "                                      topic_distributions,\n",
    "                                      topics, \n",
    "                                      output_directory_path + '/categories_by_topics.pdf',\n",
    "                                      target_labels=target_labels,\n",
    "                                      dim= (13, 9)\n",
    "                                     )"
   ]
  },
  {
   "cell_type": "markdown",
   "metadata": {},
   "source": [
    "## Examine Top Documents"
   ]
  },
  {
   "cell_type": "markdown",
   "metadata": {},
   "source": [
    "The functions below will allow us to find the documents (the original texts of the NYT obituaries or their titles) that have the highest probability of containing certain topics."
   ]
  },
  {
   "cell_type": "code",
   "execution_count": 69,
   "metadata": {},
   "outputs": [],
   "source": [
    "from IPython.display import Markdown, display\n",
    "import re\n",
    "\n",
    "def make_md(string):\n",
    "    \"\"\"A function that transforms string data into Markdown\n",
    "    so it can be nicely formatted with bolding and emojis\n",
    "    \"\"\"\n",
    "    display(Markdown(str(string)))\n",
    "\n",
    "def get_top_docs(docs, topic_distributions, topic_index, n=5):\n",
    "    \n",
    "    \"\"\"A function that shows the top documents for a given set of topic distributions\n",
    "    and a specific topic number\n",
    "    \"\"\"\n",
    "    \n",
    "    sorted_data = sorted([(_distribution[topic_index], _document) for _distribution, _document in zip(topic_distributions, docs)], reverse=True)\n",
    "    topic_words = topics[topic_index]\n",
    "    make_md(f\"### ✨Topic {topic_index}✨\\n\\n{topic_words}\\n\\n---\")\n",
    "    \n",
    "    for probability, doc in sorted_data[:n]:\n",
    "        # Make topic words bolded\n",
    "        for word in topic_words:\n",
    "            if word in doc.lower():\n",
    "                doc = re.sub(f\"\\\\b{word}\\\\b\", f\"**{word}**\", doc, re.IGNORECASE)\n",
    "        make_md(f'✨  \\n**Topic Probability**: {probability}  \\n**Document**: {doc}\\n\\n')"
   ]
  },
  {
   "cell_type": "markdown",
   "metadata": {},
   "source": [
    "Examine the top 5 NYT obituary article titles for the Topic 0"
   ]
  },
  {
   "cell_type": "code",
   "execution_count": null,
   "metadata": {},
   "outputs": [],
   "source": [
    "get_top_docs(obit_titles, topic_distributions, topic_index=0, n=5)"
   ]
  },
  {
   "cell_type": "markdown",
   "metadata": {},
   "source": [
    "Examine the top 5 NYT obituary articles for the Topic 0"
   ]
  },
  {
   "cell_type": "code",
   "execution_count": null,
   "metadata": {
    "scrolled": true,
    "tags": []
   },
   "outputs": [],
   "source": [
    "get_top_docs(original_texts, topic_distributions, topic_index=0, n=5)"
   ]
  },
  {
   "cell_type": "markdown",
   "metadata": {},
   "source": [
    "## Your Turn!"
   ]
  },
  {
   "cell_type": "markdown",
   "metadata": {},
   "source": [
    "Come up with labels for 5 of the 15 topics. To do so, examine the top obituaries for that topic as well as the words in context."
   ]
  },
  {
   "cell_type": "code",
   "execution_count": null,
   "metadata": {},
   "outputs": [],
   "source": [
    "get_top_docs(original_texts, topic_distributions, topic_index=YOUR-TOPIC-NUMBER, n=5)"
   ]
  },
  {
   "cell_type": "markdown",
   "metadata": {},
   "source": [
    "**Topic *Number Here***: First Five Topic Words Here  \n",
    "**Topic Label**: Topic Label Here  "
   ]
  },
  {
   "cell_type": "markdown",
   "metadata": {},
   "source": [
    "**Topic *Number Here***: First Five Topic Words Here  \n",
    "**Topic Label**: Topic Label Here  "
   ]
  },
  {
   "cell_type": "markdown",
   "metadata": {},
   "source": [
    "**Topic *Number Here***: First Five Topic Words Here  \n",
    "**Topic Label**: Topic Label Here  "
   ]
  },
  {
   "cell_type": "markdown",
   "metadata": {},
   "source": [
    "**Topic *Number Here***: First Five Topic Words Here  \n",
    "**Topic Label**: Topic Label Here  "
   ]
  },
  {
   "cell_type": "markdown",
   "metadata": {},
   "source": [
    "**Topic *Number Here***: First Five Topic Words Here  \n",
    "**Topic Label**: Topic Label Here  "
   ]
  },
  {
   "cell_type": "markdown",
   "metadata": {},
   "source": [
    "**Reflection**"
   ]
  },
  {
   "cell_type": "markdown",
   "metadata": {},
   "source": [
    "Why did you label your topics the way you did? What made labeling them easy or hard? Where could you go next with this analysis?"
   ]
  }
 ],
 "metadata": {
  "kernelspec": {
   "display_name": "Python 3",
   "language": "python",
   "name": "python3"
  },
  "language_info": {
   "codemirror_mode": {
    "name": "ipython",
    "version": 3
   },
   "file_extension": ".py",
   "mimetype": "text/x-python",
   "name": "python",
   "nbconvert_exporter": "python",
   "pygments_lexer": "ipython3",
   "version": "3.8.8"
  }
 },
 "nbformat": 4,
 "nbformat_minor": 4
}
