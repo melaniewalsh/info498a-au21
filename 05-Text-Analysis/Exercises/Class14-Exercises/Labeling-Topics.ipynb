{
 "cells": [
  {
   "cell_type": "markdown",
   "id": "c719f2a0-014f-44ab-baca-181923fb84ec",
   "metadata": {},
   "source": [
    "# Labeling Topics"
   ]
  },
  {
   "cell_type": "markdown",
   "id": "49c22ccb-a8f2-4046-9ee0-71b4148ba43a",
   "metadata": {},
   "source": [
    "Let's practice labeling topics!"
   ]
  },
  {
   "cell_type": "code",
   "execution_count": 2,
   "id": "ec1ea508-6c08-4e9d-9eec-29661fd5c76c",
   "metadata": {},
   "outputs": [],
   "source": [
    "import little_mallet_wrapper\n",
    "\n",
    "import glob\n",
    "from pathlib import Path"
   ]
  },
  {
   "cell_type": "markdown",
   "id": "0d8d8b94-0d92-4ce3-a43f-d950928bb187",
   "metadata": {},
   "source": [
    "Run this cell to get previous topic model results loaded"
   ]
  },
  {
   "cell_type": "code",
   "execution_count": 9,
   "id": "484304a0-048d-4f82-b010-b740acd3c8b2",
   "metadata": {},
   "outputs": [],
   "source": [
    "directory = \"../NYT-Obituaries\"\n",
    "filenames = glob.glob(f\"{directory}/*.txt\")\n",
    "#Make a list of all original NYT obituaries (not pre-processed)\n",
    "original_texts = []\n",
    "\n",
    "for file in filenames:\n",
    "    text = open(file).read()\n",
    "    original_texts.append(text)\n",
    "\n",
    "obit_titles = [Path(file).stem for file in filenames]\n",
    "\n",
    "num_topics = 15\n",
    "output_directory_path = 'topic-model-output'\n",
    "path_to_topic_keys              = f\"{output_directory_path}/mallet.topic_keys.{str(num_topics)}\"\n",
    "path_to_topic_distributions     = f\"{output_directory_path}/mallet.topic_distributions.{str(num_topics)}\"\n",
    "\n",
    "topics = little_mallet_wrapper.load_topic_keys(path_to_topic_keys)\n",
    "topic_distributions = little_mallet_wrapper.load_topic_distributions(path_to_topic_distributions)\n",
    "\n",
    "from IPython.display import Markdown, display\n",
    "import re\n",
    "\n",
    "def make_md(string):\n",
    "    \"\"\"A function that transforms string data into Markdown\n",
    "    so it can be nicely formatted with bolding and emojis\n",
    "    \"\"\"\n",
    "    display(Markdown(str(string)))\n",
    "\n",
    "def get_top_docs(docs, topic_distributions, topic_index, n=5):\n",
    "    \n",
    "    \"\"\"A function that shows the top documents for a given set of topic distributions\n",
    "    and a specific topic number\n",
    "    \"\"\"\n",
    "    \n",
    "    sorted_data = sorted([(_distribution[topic_index], _document) for _distribution, _document in zip(topic_distributions, docs)], reverse=True)\n",
    "    topic_words = topics[topic_index]\n",
    "    make_md(f\"### ✨Topic {topic_index}✨\\n\\n{topic_words}\\n\\n---\")\n",
    "    \n",
    "    for probability, doc in sorted_data[:n]:\n",
    "        # Make topic words bolded\n",
    "        for word in topic_words:\n",
    "            if word in doc.lower():\n",
    "                doc = re.sub(f\"\\\\b{word}\\\\b\", f\"**{word}**\", doc, re.IGNORECASE)\n",
    "        make_md(f'✨  \\n**Topic Probability**: {probability}  \\n**Document**: {doc}\\n\\n')"
   ]
  },
  {
   "cell_type": "markdown",
   "id": "efbd5a04-c43d-48c1-b991-d745b6ba9b63",
   "metadata": {},
   "source": [
    "# Topic 2"
   ]
  },
  {
   "cell_type": "code",
   "execution_count": null,
   "id": "13758f0b-6d5f-4a84-b4e5-b0cfeb32b66a",
   "metadata": {},
   "outputs": [],
   "source": [
    "get_top_docs(obit_titles, topic_distributions, topic_index=2, n=5)"
   ]
  },
  {
   "cell_type": "code",
   "execution_count": null,
   "id": "1b1e0d66-5f64-4792-b99c-056cbaed0e31",
   "metadata": {
    "scrolled": true,
    "tags": []
   },
   "outputs": [],
   "source": [
    "get_top_docs(original_texts, topic_distributions, topic_index=2, n=5)"
   ]
  },
  {
   "cell_type": "markdown",
   "id": "4b268d85-d193-4d87-bec6-5381ce15636b",
   "metadata": {},
   "source": [
    "**Topic 2 Label**: "
   ]
  },
  {
   "cell_type": "markdown",
   "id": "5d2cc6c0-daac-494e-ac76-0f7af99c25a3",
   "metadata": {},
   "source": [
    "## Topic 11"
   ]
  },
  {
   "cell_type": "code",
   "execution_count": null,
   "id": "63839a98-af77-49a9-837b-e0502e80912e",
   "metadata": {},
   "outputs": [],
   "source": [
    "get_top_docs(obit_titles, topic_distributions, topic_index=11, n=5)"
   ]
  },
  {
   "cell_type": "code",
   "execution_count": null,
   "id": "949e2720-c0ec-4daa-9a3b-b6e86dcc6c45",
   "metadata": {
    "scrolled": true,
    "tags": []
   },
   "outputs": [],
   "source": [
    "get_top_docs(original_texts, topic_distributions, topic_index=11, n=5)"
   ]
  },
  {
   "cell_type": "markdown",
   "id": "31b09b8c-2cb9-47f3-aa64-fdf3da48a939",
   "metadata": {},
   "source": [
    "**Topic 11 Label**: "
   ]
  }
 ],
 "metadata": {
  "kernelspec": {
   "display_name": "Python 3",
   "language": "python",
   "name": "python3"
  },
  "language_info": {
   "codemirror_mode": {
    "name": "ipython",
    "version": 3
   },
   "file_extension": ".py",
   "mimetype": "text/x-python",
   "name": "python",
   "nbconvert_exporter": "python",
   "pygments_lexer": "ipython3",
   "version": "3.8.8"
  }
 },
 "nbformat": 4,
 "nbformat_minor": 5
}
