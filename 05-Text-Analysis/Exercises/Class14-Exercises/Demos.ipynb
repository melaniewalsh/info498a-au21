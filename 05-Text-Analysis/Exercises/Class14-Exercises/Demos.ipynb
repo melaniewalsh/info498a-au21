{
 "cells": [
  {
   "cell_type": "markdown",
   "id": "abadcb8f-cd44-4602-bc64-875a08f23a7e",
   "metadata": {},
   "source": [
    "# Demos"
   ]
  },
  {
   "cell_type": "markdown",
   "id": "03af33f5-a38b-4b5e-ab57-a832c38ae09a",
   "metadata": {},
   "source": [
    "# Pixray"
   ]
  },
  {
   "cell_type": "markdown",
   "id": "ca67e064-c0b3-425b-8f5c-d59467410770",
   "metadata": {},
   "source": [
    "Play with [Pixray image generator](https://colab.research.google.com/github/dribnet/clipit/blob/master/demos/Start_Here.ipynb)\n",
    "\n",
    "Submit an image description and artist (e.g. \"college classroom by Edward Hopper\") "
   ]
  },
  {
   "cell_type": "markdown",
   "id": "0b3e8851-07a2-423a-b926-580ec9e971ef",
   "metadata": {},
   "source": [
    "## GPT-J"
   ]
  },
  {
   "cell_type": "markdown",
   "id": "19d16d62-d3e7-484c-99c0-343d040da50c",
   "metadata": {},
   "source": [
    "Play with [GPT-J text generator](https://6b.eleuther.ai/)\n",
    "\n",
    "Submit the beginning of a story or paragraph "
   ]
  }
 ],
 "metadata": {
  "kernelspec": {
   "display_name": "Python 3",
   "language": "python",
   "name": "python3"
  },
  "language_info": {
   "codemirror_mode": {
    "name": "ipython",
    "version": 3
   },
   "file_extension": ".py",
   "mimetype": "text/x-python",
   "name": "python",
   "nbconvert_exporter": "python",
   "pygments_lexer": "ipython3",
   "version": "3.8.8"
  }
 },
 "nbformat": 4,
 "nbformat_minor": 5
}
