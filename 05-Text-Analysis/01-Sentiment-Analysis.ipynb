{
 "cells": [
  {
   "cell_type": "markdown",
   "metadata": {},
   "source": [
    "# Sentiment Analysis"
   ]
  },
  {
   "cell_type": "markdown",
   "metadata": {},
   "source": [
    "In this lesson, we're going to learn how to use [VADER](https://github.com/cjhutto/vaderSentiment), an English-language sentiment analysis tool designed for use with social media texts. This tool helps to calculate whether texts express positive or negative sentiment.\n",
    "\n",
    "In this lesson, we will learn how to use VADER to:\n",
    "- Calculate sentiment for individual sentences, tweets, and a fairy tale\n",
    "- Make plots of how sentiment fluctuates over time and throughout a text\n",
    "---"
   ]
  },
  {
   "cell_type": "markdown",
   "metadata": {},
   "source": [
    "## Datasets"
   ]
  },
  {
   "cell_type": "markdown",
   "metadata": {},
   "source": [
    "### Trump's Tweets"
   ]
  },
  {
   "cell_type": "markdown",
   "metadata": {},
   "source": [
    "[![](https://www.the-sun.com/wp-content/uploads/sites/6/2020/03/Screenshot-2020-03-25-at-21.56.11.png?strip=all&w=942)](https://www.the-sun.com/wp-content/uploads/sites/6/2020/03/Screenshot-2020-03-25-at-21.56.11.png?strip=all&w=942)"
   ]
  },
  {
   "cell_type": "markdown",
   "metadata": {},
   "source": [
    "We're going to use VADER to analyze Donald Trump's tweets and plot the fluctuation of sentiment over time. The Trump tweets dataset is downloaded from [The Trump Twitter Archive](https://www.thetrumparchive.com/)."
   ]
  },
  {
   "cell_type": "markdown",
   "metadata": {},
   "source": [
    "### Little Red Riding Hood\n",
    "<blockquote class=\"epigraph\" style=\" padding: 10px\">\n",
    "\n",
    "\"Grandmother,” she said, “what big ears you have!” \n",
    "    \n",
    "“The better to hear you with, my Child\"...\n",
    "\n",
    "\n",
    "<p class =\"attribution\">\n",
    "    —<a href=\"https://www.gutenberg.org/ebooks/2591\">\"Little Red-Cap,\" </a> Grimms' Fairy Tales\n",
    "    </p>\n",
    "    \n",
    "</blockquote>\n",
    "\n",
    "\n",
    "[![](https://www.publicdomainpictures.net/pictures/80000/nahled/little-red-riding-hood.jpg)](https://www.publicdomainpictures.net/pictures/80000/nahled/little-red-riding-hood.jpg)\n",
    "\n",
    "We're also going to use VADER to analyze the story \"Little Red-Cap\" (commonly known as \"Little Red Riding Hood\") from Grimms' fairy tales. The story is downloaded from [Project Gutenberg](https://www.gutenberg.org/ebooks/2591)."
   ]
  },
  {
   "cell_type": "markdown",
   "metadata": {},
   "source": [
    "## What is Sentiment? What Exactly Are We Measuring?"
   ]
  },
  {
   "cell_type": "markdown",
   "metadata": {},
   "source": [
    "What is sentiment analysis, exactly? What are we actually measuring with VADER?\n",
    "\n",
    "These are tough and important questions. According to VADER's creators, C.J. Hutto and Eric Gilbert, \"Sentiment analysis, or opinion mining, is an active area of study in the field of natural language processing that analyzes people's **opinions, sentiments, evaluations, attitudes, and emotions** via the computational treatment of subjectivity in text\" ([\"VADER\"](https://www.aaai.org/ocs/index.php/ICWSM/ICWSM14/paper/view/8109/8122)).\n",
    "\n",
    "I would like to emphasize that \"opinions, sentiments, evaluations, attitudes, and emotions\" covers a *lot* of ground. These are complex categories of human experience that can be expressed in many different ways, especially in different contexts. In fact, that's why Hutto and Gilbert designed VADER specifically for *social media* texts, because sentiment gets expressed differently in social media posts than in, say, fictional stories or newspaper articles.\n",
    "\n",
    "We want to remain critical and self-reflexive about what exactly we are measuring with VADER — especially when we apply VADER to non-social media texts, as we will with \"Little Red-Cap\" below. Too often I have encountered well-meaning students who want to understand complex social or textual phenomena (e.g., mental health, a reader's emotional experience of a story, opinions about climate change) by reducing it only to sentiment analysis scores, without doing more and without thinking more deeply about whether those scores actually capture what they're interested in.\n",
    "\n",
    "So, yes, tools like VADER can be useful, as we will see below, but they are only useful when thoughtfully and deliberately applied."
   ]
  },
  {
   "cell_type": "markdown",
   "metadata": {},
   "source": [
    "## How VADER Was Built and How It Works\n",
    "\n",
    "VADER, which stands for **V**alence **A**ware **D**ictionary and s**E**ntiment **R**easoner, calculates the sentiment of texts by referring to a lexicon of words that have been assigned sentiment scores as well as by using a handful of simple rules.\n",
    "\n",
    "You can read more about how VADER was designed in [C.J. Hutto and Eric Gilbert's published paper](https://www.aaai.org/ocs/index.php/ICWSM/ICWSM14/paper/view/8109/8122), but here's a summary version: VADER's lexicon was created by enlisting 10 different people to rate thousands of words positively or negatively on a scale of -4 to 4 (you can scroll through the [lexicon on GitHub](https://github.com/cjhutto/vaderSentiment/blob/master/vaderSentiment/vader_lexicon.txt) and check it out for yourself — each line consists of a word, the mean rating, standard deviation, and 10 individual human ratings).\n",
    "\n",
    "[![](../images/VADER-fig.png)](https://www.aaai.org/ocs/index.php/ICWSM/ICWSM14/paper/view/8109/8122)\n",
    "\n",
    "*This figure shows the interface presented to the 10 raters for rating the sentiment of words. It is taken from [\"VADER: A Parsimonious Rule-based Model for Sentiment Analysis of Social Media Text.\"](https://www.aaai.org/ocs/index.php/ICWSM/ICWSM14/paper/view/8109/8122)* \n",
    "\n",
    "For example, you can see that the acronym [ROFL](https://github.com/cjhutto/vaderSentiment/blob/d8da3e21374a57201b557a4c91ac4dc411a08fed/vaderSentiment/vader_lexicon.txt#L368) (Rolling on the Floor Laughing) has a mean rating of 2.7, the word [*crappy*](https://github.com/cjhutto/vaderSentiment/blob/d8da3e21374a57201b557a4c91ac4dc411a08fed/vaderSentiment/vader_lexicon.txt#L1622) has a mean rating of -2.5, and the word [*bliss*](https://github.com/cjhutto/vaderSentiment/blob/d8da3e21374a57201b557a4c91ac4dc411a08fed/vaderSentiment/vader_lexicon.txt#L1127) has a mean rating of 2.7. If you look at the 10 individual ratings for each entry, however, you can see interesting discrepancies. One person rated *bliss* as a 4, while another person rated *bliss* as a 1. Just how \"positive\" is the word *bliss*? What do *you* think?\n",
    "\n",
    "What about [*cutesie*](https://github.com/cjhutto/vaderSentiment/blob/d8da3e21374a57201b557a4c91ac4dc411a08fed/vaderSentiment/vader_lexicon.txt#L1721)? It has a mean rating of 1, but two people rated it as a -1, and five people rated as a 2. Is *cutesie* an admiring adjective — \"[She was so cutesie I just had to talk to her](https://www.urbandictionary.com/define.php?term=Cutesie)\" — or a diminutive slight — \"Ugh, her apartment was too cutesie\"?\n",
    "\n",
    "These difficult questions come up repeatedly when you read through the lexicon. Of course, VADER is designed to generalize beyond individual responses and interpretations, and it is not expected to capture the nuances of every single text. At the same time, whenever we use sentiment analysis tools, we want to ask: Does it matter that we're missing out on specific nuances? Is this the best tool for capturing what we're trying to study and understand?\n",
    "\n",
    "In addition to its lexicon, VADER also calculates sentiment by considering 5 relatively simple rules:\n",
    "\n",
    "> 1. If there's punctuation, especially exclamation points, the sentiment intensity should be increased (e.g., \"Mochi ice cream is bliss\" 👍 vs \"Mochi ice cream is bliss!!!\" 👍👍👍 )\n",
    "\n",
    "> 2. If there's capitalization, especially all caps, the sentiment intensity should be increased (e.g., \"Mochi ice cream is bliss\" 👍 vs \"Mochi ice cream is BLISS\" 👍👍👍 )\n",
    "\n",
    "> 3. If there are words like \"extremely\" or \"absolutely\", the sentiment should be increased (\"Mochi ice cream is good\" 👍  vs \"Mochi ice cream is extremely good\" 👍👍👍 )\n",
    "\n",
    "> 4. If there's a \"but\" in a sentence, the polarity of the sentiment should shift, and the sentiment that follows the \"but\" should be prioritized (e.g., \"Mochi ice cream is nice\" 👍 vs \"Mochi ice cream is nice, but it's a little blah\" 👎 )\n",
    "\n",
    "> 5. If there's a negation before an important word, the sentiment polarity should be flipped (\"Mochi ice cream is my favorite\" 👍 vs \"Mochi ice cream is not my favorite\" 👎 )\n",
    "\n",
    "\n",
    "Because VADER uses this lexicon and these simple rules, it works very fast and doesn't require any training or set up, unlike more sophisticated machine learning approaches. The simplicity is both its pro and con."
   ]
  },
  {
   "cell_type": "markdown",
   "metadata": {},
   "source": [
    "## Install and Import Libraries/Packages"
   ]
  },
  {
   "cell_type": "markdown",
   "metadata": {},
   "source": [
    "So let's explore VADER!\n",
    "\n",
    "To use it, we need to install the [vaderSentiment package](https://github.com/cjhutto/vaderSentiment) with pip."
   ]
  },
  {
   "cell_type": "code",
   "execution_count": null,
   "metadata": {
    "scrolled": true
   },
   "outputs": [],
   "source": [
    "!pip install vaderSentiment"
   ]
  },
  {
   "cell_type": "markdown",
   "metadata": {},
   "source": [
    "Then we will import the `SentimentIntensityAnalyser` and initialize it."
   ]
  },
  {
   "cell_type": "code",
   "execution_count": 2,
   "metadata": {},
   "outputs": [],
   "source": [
    "from vaderSentiment.vaderSentiment import SentimentIntensityAnalyzer\n",
    "\n",
    "# Initialize VADER so we can use it later\n",
    "sentimentAnalyser = SentimentIntensityAnalyzer()"
   ]
  },
  {
   "cell_type": "markdown",
   "metadata": {},
   "source": [
    "We are also going to import pandas for working with data and set the column width for pandas DataFrames to 400."
   ]
  },
  {
   "cell_type": "code",
   "execution_count": 3,
   "metadata": {},
   "outputs": [],
   "source": [
    "import pandas as pd\n",
    "pd.options.display.max_colwidth = 400"
   ]
  },
  {
   "cell_type": "markdown",
   "metadata": {},
   "source": [
    "## Calculate Sentiment Scores"
   ]
  },
  {
   "cell_type": "markdown",
   "metadata": {},
   "source": [
    "To calculate sentiment scores for a sentence or paragraph, we can use `sentimentAnalyser.polarity_scores()` and input a string of text.\n",
    "\n",
    "This method returns a Python dictionary of sentiment scores: how negative the sentence is between 0-1, how neutral the sentence is between 0-1, how positive the sentence is between 0-1, as well as a compound score between -1-1.\n",
    "\n",
    "Most scholars uses the compound score to represent sentiment in their analyses, and we will use the compound score in this lesson, as well. Let's test it out with some sample sentences! "
   ]
  },
  {
   "cell_type": "code",
   "execution_count": 4,
   "metadata": {},
   "outputs": [
    {
     "data": {
      "text/plain": [
       "{'neg': 0.0, 'neu': 0.361, 'pos': 0.639, 'compound': 0.6486}"
      ]
     },
     "execution_count": 4,
     "metadata": {},
     "output_type": "execute_result"
    }
   ],
   "source": [
    "sentimentAnalyser.polarity_scores(\"I like the Marvel movies\")"
   ]
  },
  {
   "cell_type": "code",
   "execution_count": 5,
   "metadata": {},
   "outputs": [
    {
     "data": {
      "text/plain": [
       "{'neg': 0.526, 'neu': 0.474, 'pos': 0.0, 'compound': -0.5334}"
      ]
     },
     "execution_count": 5,
     "metadata": {},
     "output_type": "execute_result"
    }
   ],
   "source": [
    "sentimentAnalyser.polarity_scores(\"I don't like the Marvel movies\")"
   ]
  },
  {
   "cell_type": "code",
   "execution_count": 6,
   "metadata": {},
   "outputs": [
    {
     "data": {
      "text/plain": [
       "{'neg': 0.169, 'neu': 0.634, 'pos': 0.197, 'compound': 0.1027}"
      ]
     },
     "execution_count": 6,
     "metadata": {},
     "output_type": "execute_result"
    }
   ],
   "source": [
    "sentimentAnalyser.polarity_scores(\"I despise the Marvel movies with every fiber of my being\")"
   ]
  },
  {
   "cell_type": "code",
   "execution_count": 7,
   "metadata": {},
   "outputs": [
    {
     "data": {
      "text/plain": [
       "{'neg': 0.255, 'neu': 0.546, 'pos': 0.199, 'compound': -0.1307}"
      ]
     },
     "execution_count": 7,
     "metadata": {},
     "output_type": "execute_result"
    }
   ],
   "source": [
    "sentimentAnalyser.polarity_scores(\"I don't *not* like the Marvel movies\")"
   ]
  },
  {
   "cell_type": "markdown",
   "metadata": {},
   "source": [
    "To make the scores more readable, below we make a list of sentences, loop through the list and calculate the polarity scores for each sentence, then print out each part of the sentiment scores dictionary in a nicely formatted f-string (a string that begins with f and allows you to insert Python variables)."
   ]
  },
  {
   "cell_type": "code",
   "execution_count": 8,
   "metadata": {},
   "outputs": [
    {
     "name": "stdout",
     "output_type": "stream",
     "text": [
      "'I like the Marvel movies' \n",
      "\n",
      "🙁 Negative Sentiment: 0.0 \n",
      "  \n",
      "😐 Neutral Sentiment: 0.361 \n",
      "\n",
      "😀 Positive Sentiment: 0.639 \n",
      "\n",
      "✨ Compound Sentiment: 0.6486 \n",
      "\n",
      "--- \n",
      "\n",
      "'I don't like the Marvel movies' \n",
      "\n",
      "🙁 Negative Sentiment: 0.526 \n",
      "  \n",
      "😐 Neutral Sentiment: 0.474 \n",
      "\n",
      "😀 Positive Sentiment: 0.0 \n",
      "\n",
      "✨ Compound Sentiment: -0.5334 \n",
      "\n",
      "--- \n",
      "\n",
      "'I despise the Marvel movies with every fiber of my being' \n",
      "\n",
      "🙁 Negative Sentiment: 0.169 \n",
      "  \n",
      "😐 Neutral Sentiment: 0.634 \n",
      "\n",
      "😀 Positive Sentiment: 0.197 \n",
      "\n",
      "✨ Compound Sentiment: 0.1027 \n",
      "\n",
      "--- \n",
      "\n",
      "'I don't *not* live the Marvel movies' \n",
      "\n",
      "🙁 Negative Sentiment: 0.28 \n",
      "  \n",
      "😐 Neutral Sentiment: 0.72 \n",
      "\n",
      "😀 Positive Sentiment: 0.0 \n",
      "\n",
      "✨ Compound Sentiment: -0.3252 \n",
      "\n",
      "--- \n",
      "\n"
     ]
    }
   ],
   "source": [
    "# List of sentences\n",
    "sentences = [\"I like the Marvel movies\",\n",
    "             \"I don't like the Marvel movies\",\n",
    "             \"I despise the Marvel movies with every fiber of my being\",\n",
    "             \"I don't *not* live the Marvel movies\"]\n",
    "\n",
    "# Loop through list of sentences\n",
    "for sentence in sentences:\n",
    "    # Run VADER on each sentence\n",
    "    sentiment_scores = sentimentAnalyser.polarity_scores(sentence)\n",
    "    \n",
    "    # Print scores for each sentence\n",
    "    print(f\"\"\"'{sentence}' \\n\n",
    "🙁 Negative Sentiment: {sentiment_scores['neg']} \\n  \n",
    "😐 Neutral Sentiment: {sentiment_scores['neu']} \\n\n",
    "😀 Positive Sentiment: {sentiment_scores['pos']} \\n\n",
    "✨ Compound Sentiment: {sentiment_scores['compound']} \\n\n",
    "--- \\n\"\"\")"
   ]
  },
  {
   "cell_type": "markdown",
   "metadata": {},
   "source": [
    "We can see moments where VADER is both working and not working in the examples above. VADER registers that \"I like the Marvel movies\" represents the overall most positive sentiment, while \"I don't like the Marvel movies\" is the most negative sentiment, and \"I don't *not* like the Marvel movies\" is negative but not quite as negative as a straight up \"don't like.\"\n",
    "\n",
    "However, VADER does not capture that \"I despise the Marvel movies with every fiber of my being\" should be the *most* negative sentiment of the bunch. In fact, VADER scores this sentence in the mildly positive range. This example should remind us that VADER typically works best when it is used in aggregate and applied to many examples, such that specific nuances and exceptions like these matter less and come out in the wash."
   ]
  },
  {
   "cell_type": "markdown",
   "metadata": {},
   "source": [
    "## Calculate Sentiment Scores for Donald Trump's Tweets"
   ]
  },
  {
   "cell_type": "markdown",
   "metadata": {},
   "source": [
    "Let's try using VADER on many texts: Donald Trump's corpus of tweets from 2009 to 2021 (when he was suspended from Twitter)."
   ]
  },
  {
   "cell_type": "markdown",
   "metadata": {},
   "source": [
    "### Load CSV File"
   ]
  },
  {
   "cell_type": "markdown",
   "metadata": {},
   "source": [
    "We will load the Trump tweets CSV file with pandas and drop some of the columns that we don't need."
   ]
  },
  {
   "cell_type": "markdown",
   "metadata": {},
   "source": [
    "<div class=\"admonition pandasreview\" name=\"html-admonition\" style=\"background: black; color: white; padding: 10px\">\n",
    "<p class=\"title\">Pandas</p>\n",
    " Do you need a refresher or introduction to the Python data analysis library Pandas? Be sure to check out <a href=\"https://melaniewalsh.github.io/Intro-Cultural-Analytics/Data-Analysis/Pandas-Basics-Part1.html\"> Pandas Basics (1-3) </a> in this textbook!\n",
    "    \n",
    "</div>"
   ]
  },
  {
   "cell_type": "code",
   "execution_count": 9,
   "metadata": {},
   "outputs": [
    {
     "data": {
      "text/html": [
       "<div>\n",
       "<style scoped>\n",
       "    .dataframe tbody tr th:only-of-type {\n",
       "        vertical-align: middle;\n",
       "    }\n",
       "\n",
       "    .dataframe tbody tr th {\n",
       "        vertical-align: top;\n",
       "    }\n",
       "\n",
       "    .dataframe thead th {\n",
       "        text-align: right;\n",
       "    }\n",
       "</style>\n",
       "<table border=\"1\" class=\"dataframe\">\n",
       "  <thead>\n",
       "    <tr style=\"text-align: right;\">\n",
       "      <th></th>\n",
       "      <th>text</th>\n",
       "      <th>favorites</th>\n",
       "      <th>retweets</th>\n",
       "      <th>date</th>\n",
       "    </tr>\n",
       "  </thead>\n",
       "  <tbody>\n",
       "    <tr>\n",
       "      <th>0</th>\n",
       "      <td>To all of those who have asked, I will not be going to the Inauguration on January 20th.</td>\n",
       "      <td>510761</td>\n",
       "      <td>83532</td>\n",
       "      <td>1/8/21 15:44</td>\n",
       "    </tr>\n",
       "    <tr>\n",
       "      <th>1</th>\n",
       "      <td>The 75,000,000 great American Patriots who voted for me, AMERICA FIRST, and MAKE AMERICA GREAT AGAIN, will have a GIANT VOICE long into the future. They will not be disrespected or treated unfairly in any way, shape or form!!!</td>\n",
       "      <td>480997</td>\n",
       "      <td>108844</td>\n",
       "      <td>1/8/21 14:46</td>\n",
       "    </tr>\n",
       "    <tr>\n",
       "      <th>2</th>\n",
       "      <td>https://t.co/csX07ZVWGe</td>\n",
       "      <td>629326</td>\n",
       "      <td>154877</td>\n",
       "      <td>1/8/21 0:10</td>\n",
       "    </tr>\n",
       "    <tr>\n",
       "      <th>3</th>\n",
       "      <td>These are the things and events that happen when a sacred landslide election victory is so unceremoniously &amp;amp; viciously stripped away from great patriots who have been badly &amp;amp; unfairly treated for so long. Go home with love &amp;amp; in peace. Remember this day forever!</td>\n",
       "      <td>0</td>\n",
       "      <td>0</td>\n",
       "      <td>1/6/21 23:01</td>\n",
       "    </tr>\n",
       "    <tr>\n",
       "      <th>4</th>\n",
       "      <td>https://t.co/Pm2PKV0Fp3</td>\n",
       "      <td>0</td>\n",
       "      <td>0</td>\n",
       "      <td>1/6/21 21:17</td>\n",
       "    </tr>\n",
       "  </tbody>\n",
       "</table>\n",
       "</div>"
      ],
      "text/plain": [
       "                                                                                                                                                                                                                                                                                text  \\\n",
       "0                                                                                                                                                                                           To all of those who have asked, I will not be going to the Inauguration on January 20th.   \n",
       "1                                                 The 75,000,000 great American Patriots who voted for me, AMERICA FIRST, and MAKE AMERICA GREAT AGAIN, will have a GIANT VOICE long into the future. They will not be disrespected or treated unfairly in any way, shape or form!!!   \n",
       "2                                                                                                                                                                                                                                                            https://t.co/csX07ZVWGe   \n",
       "3  These are the things and events that happen when a sacred landslide election victory is so unceremoniously &amp; viciously stripped away from great patriots who have been badly &amp; unfairly treated for so long. Go home with love &amp; in peace. Remember this day forever!   \n",
       "4                                                                                                                                                                                                                                                            https://t.co/Pm2PKV0Fp3   \n",
       "\n",
       "   favorites  retweets          date  \n",
       "0     510761     83532  1/8/21 15:44  \n",
       "1     480997    108844  1/8/21 14:46  \n",
       "2     629326    154877   1/8/21 0:10  \n",
       "3          0         0  1/6/21 23:01  \n",
       "4          0         0  1/6/21 21:17  "
      ]
     },
     "execution_count": 9,
     "metadata": {},
     "output_type": "execute_result"
    }
   ],
   "source": [
    "trump_df = pd.read_csv('../texts/social-media/Trump-Tweets_2009-2021.csv')\n",
    "trump_df = trump_df.drop(['id', 'device', 'isDeleted', 'isRetweet', 'isFlagged'], axis='columns')\n",
    "trump_df.head()"
   ]
  },
  {
   "cell_type": "markdown",
   "metadata": {},
   "source": [
    "### Calculate Sentiment for All Rows in a CSV"
   ]
  },
  {
   "cell_type": "markdown",
   "metadata": {},
   "source": [
    "To calculate the sentiment for each tweet in the CSV file and add a new column that contains this information, we will create a function that will take in any text and output the compound sentiment score."
   ]
  },
  {
   "cell_type": "code",
   "execution_count": 10,
   "metadata": {},
   "outputs": [],
   "source": [
    "def calculate_sentiment(text):\n",
    "    # Run VADER on the text\n",
    "    scores = sentimentAnalyser.polarity_scores(text)\n",
    "    # Extract the compound score\n",
    "    compound_score = scores['compound']\n",
    "    # Return compound score\n",
    "    return compound_score"
   ]
  },
  {
   "cell_type": "markdown",
   "metadata": {},
   "source": [
    "Let's test it out!"
   ]
  },
  {
   "cell_type": "code",
   "execution_count": 11,
   "metadata": {},
   "outputs": [
    {
     "data": {
      "text/plain": [
       "0.6486"
      ]
     },
     "execution_count": 11,
     "metadata": {},
     "output_type": "execute_result"
    }
   ],
   "source": [
    "calculate_sentiment('I like the Marvel movies')"
   ]
  },
  {
   "cell_type": "markdown",
   "metadata": {},
   "source": [
    "Nice, it works! Now we can apply it to every row in the CSV file with the `.apply()` method. In the same line of code, we are making new column \"sentiment_score\", where we are outputting our results."
   ]
  },
  {
   "cell_type": "code",
   "execution_count": 12,
   "metadata": {},
   "outputs": [],
   "source": [
    "# Apply the function to every row in the \"text\" column and output the results into a new column \"sentiment_score\"\n",
    "trump_df['sentiment_score'] = trump_df['text'].apply(calculate_sentiment)"
   ]
  },
  {
   "cell_type": "markdown",
   "metadata": {},
   "source": [
    "Let's sort the DataFrame and examine the top 10 tweets with the highest compound sentiment."
   ]
  },
  {
   "cell_type": "code",
   "execution_count": 13,
   "metadata": {},
   "outputs": [
    {
     "data": {
      "text/html": [
       "<div>\n",
       "<style scoped>\n",
       "    .dataframe tbody tr th:only-of-type {\n",
       "        vertical-align: middle;\n",
       "    }\n",
       "\n",
       "    .dataframe tbody tr th {\n",
       "        vertical-align: top;\n",
       "    }\n",
       "\n",
       "    .dataframe thead th {\n",
       "        text-align: right;\n",
       "    }\n",
       "</style>\n",
       "<table border=\"1\" class=\"dataframe\">\n",
       "  <thead>\n",
       "    <tr style=\"text-align: right;\">\n",
       "      <th></th>\n",
       "      <th>text</th>\n",
       "      <th>favorites</th>\n",
       "      <th>retweets</th>\n",
       "      <th>date</th>\n",
       "      <th>sentiment_score</th>\n",
       "    </tr>\n",
       "  </thead>\n",
       "  <tbody>\n",
       "    <tr>\n",
       "      <th>23169</th>\n",
       "      <td>Congratulations to Patrick Reed on his great and courageous MASTERS win! When Patrick had his amazing win at Doral 5 years ago, people saw his great talent, and a bright future ahead. Now he is the Masters Champion!</td>\n",
       "      <td>79374</td>\n",
       "      <td>10122</td>\n",
       "      <td>4/9/18 0:43</td>\n",
       "      <td>0.9899</td>\n",
       "    </tr>\n",
       "    <tr>\n",
       "      <th>5169</th>\n",
       "      <td>Today, it was my great honor to proudly accept the endorsement of the @NYCPBA! I have deeply and profoundly admired the brave men and women of the #NYPD for my entire life. New York’s Finest are truly the best of the best — I will NEVER let you down! #MAGA https://t.co/o1l5kAx34v</td>\n",
       "      <td>86425</td>\n",
       "      <td>22183</td>\n",
       "      <td>8/15/20 3:59</td>\n",
       "      <td>0.9879</td>\n",
       "    </tr>\n",
       "    <tr>\n",
       "      <th>7200</th>\n",
       "      <td>I am a big fan of Drew Brees. I think he’s truly one of the greatest quarterbacks, but he should not have taken back his original stance on honoring our magnificent American Flag. OLD GLORY is to be revered, cherished, and flown high...</td>\n",
       "      <td>267196</td>\n",
       "      <td>48513</td>\n",
       "      <td>6/5/20 20:08</td>\n",
       "      <td>0.9879</td>\n",
       "    </tr>\n",
       "    <tr>\n",
       "      <th>2490</th>\n",
       "      <td>It was great to be back in North Carolina with thousands of loyal, hardworking American Patriots! This election is a simple choice: If Biden Wins, China Wins. When WE Win, YOU WIN, North Carolina WINS, and America WINS! https://t.co/jWYVYZdT3E</td>\n",
       "      <td>46024</td>\n",
       "      <td>10955</td>\n",
       "      <td>10/15/20 19:20</td>\n",
       "      <td>0.9876</td>\n",
       "    </tr>\n",
       "    <tr>\n",
       "      <th>11615</th>\n",
       "      <td>95% Approval Rating in the Republican Party. Thank you! 191 Federal Judges (a record), and two Supreme Court Justices, approved. Best Economy &amp;amp; Employment Numbers EVER. Thank you to our great New, Smart and Nimble REPUBLICAN PARTY. Join now, it’s where people want to be!</td>\n",
       "      <td>110818</td>\n",
       "      <td>23498</td>\n",
       "      <td>1/26/20 16:24</td>\n",
       "      <td>0.9869</td>\n",
       "    </tr>\n",
       "    <tr>\n",
       "      <th>40498</th>\n",
       "      <td>Good luck and best wishes to my dear friend, the wonderful and very talented Joan Rivers!  Winner of Celebrity Apprentice, amazing woman.</td>\n",
       "      <td>456</td>\n",
       "      <td>199</td>\n",
       "      <td>8/29/14 3:05</td>\n",
       "      <td>0.9857</td>\n",
       "    </tr>\n",
       "    <tr>\n",
       "      <th>15776</th>\n",
       "      <td>We are all united by the same love of Country, the same devotion to family, and the same profound faith that America is blessed by the eternal grace of ALMIGHTY GOD! Bound by these convictions, we will campaign for every vote &amp;amp, we will WIN the Great State of NEW MEXICO in 2020! https://t.co/BV5Wxs5GxE</td>\n",
       "      <td>73144</td>\n",
       "      <td>18191</td>\n",
       "      <td>9/17/19 3:42</td>\n",
       "      <td>0.9856</td>\n",
       "    </tr>\n",
       "    <tr>\n",
       "      <th>20188</th>\n",
       "      <td>Here we go with Mitt Romney, but so fast! Question will be, is he a Flake?  I hope not. Would much prefer that Mitt focus on Border Security and so many other things where he can be helpful. I won big, and he didn’t. He should be happy for all Republicans. Be a TEAM player &amp;amp, WIN!</td>\n",
       "      <td>154068</td>\n",
       "      <td>30352</td>\n",
       "      <td>1/2/19 12:53</td>\n",
       "      <td>0.9843</td>\n",
       "    </tr>\n",
       "    <tr>\n",
       "      <th>20863</th>\n",
       "      <td>Congressman Kevin Brady of Texas is so popular in his District, and far beyond, that he doesn’t need any help - but I am giving it to him anyway. He is a great guy and the absolute “King” of Cutting Taxes. Highly respected by all, he loves his State &amp;amp, Country. Strong Endorsement!</td>\n",
       "      <td>49255</td>\n",
       "      <td>11554</td>\n",
       "      <td>10/30/18 12:25</td>\n",
       "      <td>0.9841</td>\n",
       "    </tr>\n",
       "    <tr>\n",
       "      <th>20136</th>\n",
       "      <td>Congratulations to a truly great football team, the Clemson Tigers, on an incredible win last night against a powerful Alabama team. A big win also for the Great State of South Carolina. Look forward to seeing the team, and their brilliant coach, for the second time at the W.H.</td>\n",
       "      <td>118681</td>\n",
       "      <td>17159</td>\n",
       "      <td>1/8/19 14:42</td>\n",
       "      <td>0.9841</td>\n",
       "    </tr>\n",
       "  </tbody>\n",
       "</table>\n",
       "</div>"
      ],
      "text/plain": [
       "                                                                                                                                                                                                                                                                                                                     text  \\\n",
       "23169                                                                                             Congratulations to Patrick Reed on his great and courageous MASTERS win! When Patrick had his amazing win at Doral 5 years ago, people saw his great talent, and a bright future ahead. Now he is the Masters Champion!   \n",
       "5169                             Today, it was my great honor to proudly accept the endorsement of the @NYCPBA! I have deeply and profoundly admired the brave men and women of the #NYPD for my entire life. New York’s Finest are truly the best of the best — I will NEVER let you down! #MAGA https://t.co/o1l5kAx34v   \n",
       "7200                                                                         I am a big fan of Drew Brees. I think he’s truly one of the greatest quarterbacks, but he should not have taken back his original stance on honoring our magnificent American Flag. OLD GLORY is to be revered, cherished, and flown high...   \n",
       "2490                                                                  It was great to be back in North Carolina with thousands of loyal, hardworking American Patriots! This election is a simple choice: If Biden Wins, China Wins. When WE Win, YOU WIN, North Carolina WINS, and America WINS! https://t.co/jWYVYZdT3E   \n",
       "11615                                 95% Approval Rating in the Republican Party. Thank you! 191 Federal Judges (a record), and two Supreme Court Justices, approved. Best Economy &amp; Employment Numbers EVER. Thank you to our great New, Smart and Nimble REPUBLICAN PARTY. Join now, it’s where people want to be!   \n",
       "40498                                                                                                                                                                           Good luck and best wishes to my dear friend, the wonderful and very talented Joan Rivers!  Winner of Celebrity Apprentice, amazing woman.   \n",
       "15776  We are all united by the same love of Country, the same devotion to family, and the same profound faith that America is blessed by the eternal grace of ALMIGHTY GOD! Bound by these convictions, we will campaign for every vote &amp, we will WIN the Great State of NEW MEXICO in 2020! https://t.co/BV5Wxs5GxE   \n",
       "20188                        Here we go with Mitt Romney, but so fast! Question will be, is he a Flake?  I hope not. Would much prefer that Mitt focus on Border Security and so many other things where he can be helpful. I won big, and he didn’t. He should be happy for all Republicans. Be a TEAM player &amp, WIN!   \n",
       "20863                        Congressman Kevin Brady of Texas is so popular in his District, and far beyond, that he doesn’t need any help - but I am giving it to him anyway. He is a great guy and the absolute “King” of Cutting Taxes. Highly respected by all, he loves his State &amp, Country. Strong Endorsement!   \n",
       "20136                              Congratulations to a truly great football team, the Clemson Tigers, on an incredible win last night against a powerful Alabama team. A big win also for the Great State of South Carolina. Look forward to seeing the team, and their brilliant coach, for the second time at the W.H.   \n",
       "\n",
       "       favorites  retweets            date  sentiment_score  \n",
       "23169      79374     10122     4/9/18 0:43           0.9899  \n",
       "5169       86425     22183    8/15/20 3:59           0.9879  \n",
       "7200      267196     48513    6/5/20 20:08           0.9879  \n",
       "2490       46024     10955  10/15/20 19:20           0.9876  \n",
       "11615     110818     23498   1/26/20 16:24           0.9869  \n",
       "40498        456       199    8/29/14 3:05           0.9857  \n",
       "15776      73144     18191    9/17/19 3:42           0.9856  \n",
       "20188     154068     30352    1/2/19 12:53           0.9843  \n",
       "20863      49255     11554  10/30/18 12:25           0.9841  \n",
       "20136     118681     17159    1/8/19 14:42           0.9841  "
      ]
     },
     "execution_count": 13,
     "metadata": {},
     "output_type": "execute_result"
    }
   ],
   "source": [
    "trump_df.sort_values(by='sentiment_score', ascending=False)[:10]"
   ]
  },
  {
   "cell_type": "markdown",
   "metadata": {},
   "source": [
    "Let's sort the DataFrame and examine the 10 tweets with the lowest compound sentiment."
   ]
  },
  {
   "cell_type": "code",
   "execution_count": 14,
   "metadata": {},
   "outputs": [
    {
     "data": {
      "text/html": [
       "<div>\n",
       "<style scoped>\n",
       "    .dataframe tbody tr th:only-of-type {\n",
       "        vertical-align: middle;\n",
       "    }\n",
       "\n",
       "    .dataframe tbody tr th {\n",
       "        vertical-align: top;\n",
       "    }\n",
       "\n",
       "    .dataframe thead th {\n",
       "        text-align: right;\n",
       "    }\n",
       "</style>\n",
       "<table border=\"1\" class=\"dataframe\">\n",
       "  <thead>\n",
       "    <tr style=\"text-align: right;\">\n",
       "      <th></th>\n",
       "      <th>text</th>\n",
       "      <th>favorites</th>\n",
       "      <th>retweets</th>\n",
       "      <th>date</th>\n",
       "      <th>sentiment_score</th>\n",
       "    </tr>\n",
       "  </thead>\n",
       "  <tbody>\n",
       "    <tr>\n",
       "      <th>3728</th>\n",
       "      <td>According to press reports, Iran may be planning an assassination, or other attack, against the United States in retaliation for the killing of terrorist leader Soleimani, which was carried out for his planning a future attack, murdering U.S. Troops, and the death &amp;amp; suffering...</td>\n",
       "      <td>120885</td>\n",
       "      <td>32175</td>\n",
       "      <td>9/15/20 3:04</td>\n",
       "      <td>-0.9829</td>\n",
       "    </tr>\n",
       "    <tr>\n",
       "      <th>21749</th>\n",
       "      <td>It is outrageous that Poisonous Synthetic Heroin Fentanyl comes pouring into the U.S. Postal System from China. We can, and must, END THIS NOW! The Senate should pass the STOP ACT – and firmly STOP this poison from killing our children and destroying our country. No more delay!</td>\n",
       "      <td>89183</td>\n",
       "      <td>23153</td>\n",
       "      <td>8/20/18 17:14</td>\n",
       "      <td>-0.9825</td>\n",
       "    </tr>\n",
       "    <tr>\n",
       "      <th>1552</th>\n",
       "      <td>Our prayers are with the people of Vienna after yet another vile act of terrorism in Europe. These evil attacks against innocent people must stop. The U.S. stands with Austria, France, and all of Europe in the fight against terrorists, including radical Islamic terrorists.</td>\n",
       "      <td>236684</td>\n",
       "      <td>39564</td>\n",
       "      <td>11/3/20 4:25</td>\n",
       "      <td>-0.9810</td>\n",
       "    </tr>\n",
       "    <tr>\n",
       "      <th>7096</th>\n",
       "      <td>Colin Powell was a pathetic interview today on Fake News CNN. In his time, he was weak &amp;amp; gave away everything to everybody - so bad for the USA. Also got the “weapons of mass destruction” totally wrong, and you know what that mistake cost us? Sad! Only negative questions asked.</td>\n",
       "      <td>127934</td>\n",
       "      <td>28175</td>\n",
       "      <td>6/8/20 3:42</td>\n",
       "      <td>-0.9800</td>\n",
       "    </tr>\n",
       "    <tr>\n",
       "      <th>21818</th>\n",
       "      <td>The Rigged Russian Witch Hunt goes on and on as the “originators and founders” of this scam continue to be fired and demoted for their corrupt and illegal activity. All credibility is gone from this terrible Hoax, and much more will be lost as it proceeds. No Collusion!</td>\n",
       "      <td>66924</td>\n",
       "      <td>15264</td>\n",
       "      <td>8/15/18 14:08</td>\n",
       "      <td>-0.9785</td>\n",
       "    </tr>\n",
       "    <tr>\n",
       "      <th>20367</th>\n",
       "      <td>At the request of many, I will be reviewing the case of a “U.S. Military hero,” Major Matt Golsteyn, who is charged with murder. He could face the death penalty from our own government after he admitted to killing a Terrorist bomb maker while overseas. @PeteHegseth @FoxNews</td>\n",
       "      <td>87158</td>\n",
       "      <td>21270</td>\n",
       "      <td>12/16/18 15:03</td>\n",
       "      <td>-0.9783</td>\n",
       "    </tr>\n",
       "    <tr>\n",
       "      <th>15969</th>\n",
       "      <td>...But most importantly, @CNN is bad for the USA. Their International Division spews bad information &amp;amp, Fake News all over the globe. This is why foreign leaders are always asking me, “Why does the Media hate the U.S. sooo much?” It is a fraudulent shame, &amp;amp, all comes from the top!</td>\n",
       "      <td>45089</td>\n",
       "      <td>10539</td>\n",
       "      <td>9/9/19 13:01</td>\n",
       "      <td>-0.9773</td>\n",
       "    </tr>\n",
       "    <tr>\n",
       "      <th>432</th>\n",
       "      <td>Swing States that have found massive VOTER FRAUD, which is all of them, CANNOT LEGALLY CERTIFY these votes as complete &amp;amp; correct without committing a severely punishable crime. Everybody knows that dead people, below age people, illegal immigrants, fake signatures, prisoners,....</td>\n",
       "      <td>245205</td>\n",
       "      <td>60394</td>\n",
       "      <td>12/13/20 22:49</td>\n",
       "      <td>-0.9772</td>\n",
       "    </tr>\n",
       "    <tr>\n",
       "      <th>18393</th>\n",
       "      <td>....employment numbers ever, low taxes &amp;amp, regulations, a rebuilt military &amp;amp, V.A., many great new judges, &amp;amp, so much more. But we have had a giant SCAM perpetrated upon our nation, a Witch Hunt, a Treasonous Hoax. That is the Constitutional Crisis &amp;amp, hopefully guilty people will pay!</td>\n",
       "      <td>63870</td>\n",
       "      <td>14228</td>\n",
       "      <td>5/12/19 21:35</td>\n",
       "      <td>-0.9771</td>\n",
       "    </tr>\n",
       "    <tr>\n",
       "      <th>19563</th>\n",
       "      <td>...said was a total lie, but Fake Media won’t show it. I am an innocent man being persecuted by some very bad, conflicted &amp;amp, corrupt people in a Witch Hunt that is illegal &amp;amp, should never have been allowed to start - And only because I won the Election! Despite this, great success!</td>\n",
       "      <td>108241</td>\n",
       "      <td>21889</td>\n",
       "      <td>3/3/19 15:44</td>\n",
       "      <td>-0.9765</td>\n",
       "    </tr>\n",
       "  </tbody>\n",
       "</table>\n",
       "</div>"
      ],
      "text/plain": [
       "                                                                                                                                                                                                                                                                                                           text  \\\n",
       "3728                According to press reports, Iran may be planning an assassination, or other attack, against the United States in retaliation for the killing of terrorist leader Soleimani, which was carried out for his planning a future attack, murdering U.S. Troops, and the death &amp; suffering...   \n",
       "21749                    It is outrageous that Poisonous Synthetic Heroin Fentanyl comes pouring into the U.S. Postal System from China. We can, and must, END THIS NOW! The Senate should pass the STOP ACT – and firmly STOP this poison from killing our children and destroying our country. No more delay!   \n",
       "1552                          Our prayers are with the people of Vienna after yet another vile act of terrorism in Europe. These evil attacks against innocent people must stop. The U.S. stands with Austria, France, and all of Europe in the fight against terrorists, including radical Islamic terrorists.   \n",
       "7096                 Colin Powell was a pathetic interview today on Fake News CNN. In his time, he was weak &amp; gave away everything to everybody - so bad for the USA. Also got the “weapons of mass destruction” totally wrong, and you know what that mistake cost us? Sad! Only negative questions asked.   \n",
       "21818                            The Rigged Russian Witch Hunt goes on and on as the “originators and founders” of this scam continue to be fired and demoted for their corrupt and illegal activity. All credibility is gone from this terrible Hoax, and much more will be lost as it proceeds. No Collusion!   \n",
       "20367                        At the request of many, I will be reviewing the case of a “U.S. Military hero,” Major Matt Golsteyn, who is charged with murder. He could face the death penalty from our own government after he admitted to killing a Terrorist bomb maker while overseas. @PeteHegseth @FoxNews   \n",
       "15969          ...But most importantly, @CNN is bad for the USA. Their International Division spews bad information &amp, Fake News all over the globe. This is why foreign leaders are always asking me, “Why does the Media hate the U.S. sooo much?” It is a fraudulent shame, &amp, all comes from the top!   \n",
       "432                Swing States that have found massive VOTER FRAUD, which is all of them, CANNOT LEGALLY CERTIFY these votes as complete &amp; correct without committing a severely punishable crime. Everybody knows that dead people, below age people, illegal immigrants, fake signatures, prisoners,....   \n",
       "18393  ....employment numbers ever, low taxes &amp, regulations, a rebuilt military &amp, V.A., many great new judges, &amp, so much more. But we have had a giant SCAM perpetrated upon our nation, a Witch Hunt, a Treasonous Hoax. That is the Constitutional Crisis &amp, hopefully guilty people will pay!   \n",
       "19563          ...said was a total lie, but Fake Media won’t show it. I am an innocent man being persecuted by some very bad, conflicted &amp, corrupt people in a Witch Hunt that is illegal &amp, should never have been allowed to start - And only because I won the Election! Despite this, great success!   \n",
       "\n",
       "       favorites  retweets            date  sentiment_score  \n",
       "3728      120885     32175    9/15/20 3:04          -0.9829  \n",
       "21749      89183     23153   8/20/18 17:14          -0.9825  \n",
       "1552      236684     39564    11/3/20 4:25          -0.9810  \n",
       "7096      127934     28175     6/8/20 3:42          -0.9800  \n",
       "21818      66924     15264   8/15/18 14:08          -0.9785  \n",
       "20367      87158     21270  12/16/18 15:03          -0.9783  \n",
       "15969      45089     10539    9/9/19 13:01          -0.9773  \n",
       "432       245205     60394  12/13/20 22:49          -0.9772  \n",
       "18393      63870     14228   5/12/19 21:35          -0.9771  \n",
       "19563     108241     21889    3/3/19 15:44          -0.9765  "
      ]
     },
     "execution_count": 14,
     "metadata": {},
     "output_type": "execute_result"
    }
   ],
   "source": [
    "trump_df.sort_values(by='sentiment_score', ascending=True)[:10]"
   ]
  },
  {
   "cell_type": "markdown",
   "metadata": {},
   "source": [
    "### Plot Sentiment Over Time"
   ]
  },
  {
   "cell_type": "markdown",
   "metadata": {},
   "source": [
    "We can plot how Trump's sentiment in his tweets fluctuates over time by first converting the date column to a datetime value and then making it the index of the DataFrame, which makes it easier to work with time series data."
   ]
  },
  {
   "cell_type": "code",
   "execution_count": 15,
   "metadata": {},
   "outputs": [],
   "source": [
    "# Convert the date column to datetime values\n",
    "trump_df['date'] = pd.to_datetime(trump_df['date'])\n",
    "\n",
    "# Make date the index of the DataFrame\n",
    "trump_df = trump_df.set_index('date')"
   ]
  },
  {
   "cell_type": "code",
   "execution_count": 16,
   "metadata": {},
   "outputs": [
    {
     "data": {
      "text/html": [
       "<div>\n",
       "<style scoped>\n",
       "    .dataframe tbody tr th:only-of-type {\n",
       "        vertical-align: middle;\n",
       "    }\n",
       "\n",
       "    .dataframe tbody tr th {\n",
       "        vertical-align: top;\n",
       "    }\n",
       "\n",
       "    .dataframe thead th {\n",
       "        text-align: right;\n",
       "    }\n",
       "</style>\n",
       "<table border=\"1\" class=\"dataframe\">\n",
       "  <thead>\n",
       "    <tr style=\"text-align: right;\">\n",
       "      <th></th>\n",
       "      <th>text</th>\n",
       "      <th>favorites</th>\n",
       "      <th>retweets</th>\n",
       "      <th>sentiment_score</th>\n",
       "    </tr>\n",
       "    <tr>\n",
       "      <th>date</th>\n",
       "      <th></th>\n",
       "      <th></th>\n",
       "      <th></th>\n",
       "      <th></th>\n",
       "    </tr>\n",
       "  </thead>\n",
       "  <tbody>\n",
       "    <tr>\n",
       "      <th>2021-01-08 15:44:00</th>\n",
       "      <td>To all of those who have asked, I will not be going to the Inauguration on January 20th.</td>\n",
       "      <td>510761</td>\n",
       "      <td>83532</td>\n",
       "      <td>0.000</td>\n",
       "    </tr>\n",
       "    <tr>\n",
       "      <th>2021-01-08 14:46:00</th>\n",
       "      <td>The 75,000,000 great American Patriots who voted for me, AMERICA FIRST, and MAKE AMERICA GREAT AGAIN, will have a GIANT VOICE long into the future. They will not be disrespected or treated unfairly in any way, shape or form!!!</td>\n",
       "      <td>480997</td>\n",
       "      <td>108844</td>\n",
       "      <td>0.923</td>\n",
       "    </tr>\n",
       "  </tbody>\n",
       "</table>\n",
       "</div>"
      ],
      "text/plain": [
       "                                                                                                                                                                                                                                                   text  \\\n",
       "date                                                                                                                                                                                                                                                      \n",
       "2021-01-08 15:44:00                                                                                                                                            To all of those who have asked, I will not be going to the Inauguration on January 20th.   \n",
       "2021-01-08 14:46:00  The 75,000,000 great American Patriots who voted for me, AMERICA FIRST, and MAKE AMERICA GREAT AGAIN, will have a GIANT VOICE long into the future. They will not be disrespected or treated unfairly in any way, shape or form!!!   \n",
       "\n",
       "                     favorites  retweets  sentiment_score  \n",
       "date                                                       \n",
       "2021-01-08 15:44:00     510761     83532            0.000  \n",
       "2021-01-08 14:46:00     480997    108844            0.923  "
      ]
     },
     "execution_count": 16,
     "metadata": {},
     "output_type": "execute_result"
    }
   ],
   "source": [
    "trump_df.head(2)"
   ]
  },
  {
   "cell_type": "markdown",
   "metadata": {},
   "source": [
    "Then we will group the tweets by month using `.resample()`, a special method for datetime indices, and calculate the average (`.mean()`) compound score for each month. Finally, we will plot these averages."
   ]
  },
  {
   "cell_type": "code",
   "execution_count": 33,
   "metadata": {},
   "outputs": [
    {
     "data": {
      "image/png": "[encoded data removed]",
      "text/plain": [
       "<Figure size 432x288 with 1 Axes>"
      ]
     },
     "metadata": {
      "needs_background": "light"
     },
     "output_type": "display_data"
    }
   ],
   "source": [
    "trump_df.resample('M')['sentiment_score'].mean().plot(\n",
    "    title=\"Trump's Tweet Sentiment by Month\");"
   ]
  },
  {
   "cell_type": "markdown",
   "metadata": {},
   "source": [
    "We can also `.resample()` by day ('D'), week ('W'), or year ('Y')."
   ]
  },
  {
   "cell_type": "code",
   "execution_count": 34,
   "metadata": {},
   "outputs": [
    {
     "data": {
      "image/png": "[encoded data removed]",
      "text/plain": [
       "<Figure size 432x288 with 1 Axes>"
      ]
     },
     "metadata": {
      "needs_background": "light"
     },
     "output_type": "display_data"
    }
   ],
   "source": [
    "trump_df.resample('D')['sentiment_score'].mean().plot(\n",
    "    title=\"Trump's Tweet Sentiment by Day\");"
   ]
  },
  {
   "cell_type": "markdown",
   "metadata": {},
   "source": [
    "By using `.loc`, we can also zoom in on particular time periods, such as the year 2020."
   ]
  },
  {
   "cell_type": "code",
   "execution_count": 35,
   "metadata": {},
   "outputs": [
    {
     "data": {
      "image/png": "[encoded data removed]",
      "text/plain": [
       "<Figure size 432x288 with 1 Axes>"
      ]
     },
     "metadata": {
      "needs_background": "light"
     },
     "output_type": "display_data"
    }
   ],
   "source": [
    "trump_df.loc[\"2020\"].resample('W')['sentiment_score'].mean().plot(title=\"Trump's Tweet Sentiment by Week in 2020\");"
   ]
  },
  {
   "cell_type": "markdown",
   "metadata": {},
   "source": [
    "Hmm looks like there's a major dip near the end of November 2020...around the same time that Donald Trump was not re-elected for president of the United States.... Let's take a closer look."
   ]
  },
  {
   "cell_type": "code",
   "execution_count": 37,
   "metadata": {},
   "outputs": [
    {
     "name": "stderr",
     "output_type": "stream",
     "text": [
      "<ipython-input-37-2b4f38b767db>:1: FutureWarning: Value based partial slicing on non-monotonic DatetimeIndexes with non-existing keys is deprecated and will raise a KeyError in a future Version.\n",
      "  trump_df.loc[\"2020-11-07\":\"2020-11-30\"].sort_values(by='sentiment_score')[:10]\n"
     ]
    },
    {
     "data": {
      "text/html": [
       "<div>\n",
       "<style scoped>\n",
       "    .dataframe tbody tr th:only-of-type {\n",
       "        vertical-align: middle;\n",
       "    }\n",
       "\n",
       "    .dataframe tbody tr th {\n",
       "        vertical-align: top;\n",
       "    }\n",
       "\n",
       "    .dataframe thead th {\n",
       "        text-align: right;\n",
       "    }\n",
       "</style>\n",
       "<table border=\"1\" class=\"dataframe\">\n",
       "  <thead>\n",
       "    <tr style=\"text-align: right;\">\n",
       "      <th></th>\n",
       "      <th>text</th>\n",
       "      <th>favorites</th>\n",
       "      <th>retweets</th>\n",
       "      <th>sentiment_score</th>\n",
       "    </tr>\n",
       "    <tr>\n",
       "      <th>date</th>\n",
       "      <th></th>\n",
       "      <th></th>\n",
       "      <th></th>\n",
       "      <th></th>\n",
       "    </tr>\n",
       "  </thead>\n",
       "  <tbody>\n",
       "    <tr>\n",
       "      <th>2020-11-18 13:55:00</th>\n",
       "      <td>Wrong! At first they voted against because there were far more VOTES than PEOPLE (Sad!). Then they were threatened, screamed at and viciously harassed, and were FORCED to change their vote, but then REFUSED, as American patriots, to sign the documents. 71% MESS. Don’t Harass! https://t.co/n5frpesHfD</td>\n",
       "      <td>139281</td>\n",
       "      <td>37876</td>\n",
       "      <td>-0.9762</td>\n",
       "    </tr>\n",
       "    <tr>\n",
       "      <th>2020-11-15 22:21:00</th>\n",
       "      <td>Many of the court cases being filed all over the Country are not ours, but rather those of people that have seen horrible abuses. Our big cases showing the unconstitutionality of the 2020 Election, &amp;amp; the outrage of things that were done to change the outcome, will soon be filed!</td>\n",
       "      <td>343592</td>\n",
       "      <td>72974</td>\n",
       "      <td>-0.9468</td>\n",
       "    </tr>\n",
       "    <tr>\n",
       "      <th>2020-11-14 05:21:00</th>\n",
       "      <td>Top US Pollster and Statistician Richard Baris — People's Pundit — SUSPENDED from Twitter for Reporting on Disputed Election — Political 'WrongThink' Not Allowed https://t.co/uHBZnJJn1I via Said 10,000 DEAD PEOPLE VOTED IN MICHIGAN. When will this RIGGED ELECTION be overturned!</td>\n",
       "      <td>135655</td>\n",
       "      <td>41780</td>\n",
       "      <td>-0.9387</td>\n",
       "    </tr>\n",
       "    <tr>\n",
       "      <th>2020-11-22 12:24:00</th>\n",
       "      <td>It’s all about the signatures on the envelopes. Why are the Democrats fighting so hard to hide them. We will find massive numbers of fraudulent ballots. The signatures won’t match. Fight hard Republicans. Don’t let them destroy the evidence! https://t.co/qN2jHGeWEN</td>\n",
       "      <td>155833</td>\n",
       "      <td>38419</td>\n",
       "      <td>-0.9363</td>\n",
       "    </tr>\n",
       "    <tr>\n",
       "      <th>2020-11-16 15:29:00</th>\n",
       "      <td>Trump Campaign Rejects Media Reports of Changed Pennsylvania Case https://t.co/VjIhiyB4XK via @BreitbartNews. Just more Fake News. Harassment and exclusion of our Poll Watchers is a big part of our case. Unconstitutional!</td>\n",
       "      <td>122266</td>\n",
       "      <td>29373</td>\n",
       "      <td>-0.9161</td>\n",
       "    </tr>\n",
       "    <tr>\n",
       "      <th>2020-11-15 21:36:00</th>\n",
       "      <td>WATCH: D.C. Cops Direct Trump-Supporters into Gauntlet of Protesters, Do Nothing When They Are Assaulted https://t.co/179yDCbZou via @BreitbartNews. These thugs and lowlifes only stalked and attacked when most of the tens of thousands of people had left town. Ran away earlier!</td>\n",
       "      <td>106849</td>\n",
       "      <td>31579</td>\n",
       "      <td>-0.8955</td>\n",
       "    </tr>\n",
       "    <tr>\n",
       "      <th>2020-11-24 12:33:00</th>\n",
       "      <td>Poll: 79 Percent of Trump Voters Believe ‘Election Was Stolen‘ https://t.co/PmMBmt05AI via @BreitbartNews They are 100% correct, but we are fighting hard. Our big lawsuit, which spells out in great detail all of the ballot fraud and more, will soon be filled. RIGGED ELECTION!</td>\n",
       "      <td>184222</td>\n",
       "      <td>44923</td>\n",
       "      <td>-0.8858</td>\n",
       "    </tr>\n",
       "    <tr>\n",
       "      <th>2020-11-22 01:33:00</th>\n",
       "      <td>This is not at all frivolous. It is brought on behalf of one of the most respected members of the United States Congress who is disgusted, like so many others, by an Election that is a fraudulent mess. Fake ballots, dead people voting, no Republican Poll Watchers allowed, &amp;amp; more! https://t.co/mOGdSOeZW8</td>\n",
       "      <td>119951</td>\n",
       "      <td>28675</td>\n",
       "      <td>-0.8833</td>\n",
       "    </tr>\n",
       "    <tr>\n",
       "      <th>2020-11-15 19:20:00</th>\n",
       "      <td>John Bolton was one of the dumbest people in government that I’ve had the “pleasure” to work with. A sullen, dull and quiet guy, he added nothing to National Security except, “Gee, let’s go to war.” Also, illegally released much Classified Information. A real dope!</td>\n",
       "      <td>355884</td>\n",
       "      <td>61089</td>\n",
       "      <td>-0.8758</td>\n",
       "    </tr>\n",
       "    <tr>\n",
       "      <th>2020-11-22 13:13:00</th>\n",
       "      <td>Just arrived at Virtual G20. Was here yesterday also (early), but some of the Fake News Media failed to report it accurately - as usual. My speech is available (they said I didn’t make a speech).</td>\n",
       "      <td>328214</td>\n",
       "      <td>66354</td>\n",
       "      <td>-0.8625</td>\n",
       "    </tr>\n",
       "  </tbody>\n",
       "</table>\n",
       "</div>"
      ],
      "text/plain": [
       "                                                                                                                                                                                                                                                                                                                                     text  \\\n",
       "date                                                                                                                                                                                                                                                                                                                                        \n",
       "2020-11-18 13:55:00          Wrong! At first they voted against because there were far more VOTES than PEOPLE (Sad!). Then they were threatened, screamed at and viciously harassed, and were FORCED to change their vote, but then REFUSED, as American patriots, to sign the documents. 71% MESS. Don’t Harass! https://t.co/n5frpesHfD   \n",
       "2020-11-15 22:21:00                           Many of the court cases being filed all over the Country are not ours, but rather those of people that have seen horrible abuses. Our big cases showing the unconstitutionality of the 2020 Election, &amp; the outrage of things that were done to change the outcome, will soon be filed!   \n",
       "2020-11-14 05:21:00                                Top US Pollster and Statistician Richard Baris — People's Pundit — SUSPENDED from Twitter for Reporting on Disputed Election — Political 'WrongThink' Not Allowed https://t.co/uHBZnJJn1I via Said 10,000 DEAD PEOPLE VOTED IN MICHIGAN. When will this RIGGED ELECTION be overturned!   \n",
       "2020-11-22 12:24:00                                             It’s all about the signatures on the envelopes. Why are the Democrats fighting so hard to hide them. We will find massive numbers of fraudulent ballots. The signatures won’t match. Fight hard Republicans. Don’t let them destroy the evidence! https://t.co/qN2jHGeWEN   \n",
       "2020-11-16 15:29:00                                                                                         Trump Campaign Rejects Media Reports of Changed Pennsylvania Case https://t.co/VjIhiyB4XK via @BreitbartNews. Just more Fake News. Harassment and exclusion of our Poll Watchers is a big part of our case. Unconstitutional!   \n",
       "2020-11-15 21:36:00                                 WATCH: D.C. Cops Direct Trump-Supporters into Gauntlet of Protesters, Do Nothing When They Are Assaulted https://t.co/179yDCbZou via @BreitbartNews. These thugs and lowlifes only stalked and attacked when most of the tens of thousands of people had left town. Ran away earlier!   \n",
       "2020-11-24 12:33:00                                  Poll: 79 Percent of Trump Voters Believe ‘Election Was Stolen‘ https://t.co/PmMBmt05AI via @BreitbartNews They are 100% correct, but we are fighting hard. Our big lawsuit, which spells out in great detail all of the ballot fraud and more, will soon be filled. RIGGED ELECTION!   \n",
       "2020-11-22 01:33:00  This is not at all frivolous. It is brought on behalf of one of the most respected members of the United States Congress who is disgusted, like so many others, by an Election that is a fraudulent mess. Fake ballots, dead people voting, no Republican Poll Watchers allowed, &amp; more! https://t.co/mOGdSOeZW8   \n",
       "2020-11-15 19:20:00                                             John Bolton was one of the dumbest people in government that I’ve had the “pleasure” to work with. A sullen, dull and quiet guy, he added nothing to National Security except, “Gee, let’s go to war.” Also, illegally released much Classified Information. A real dope!   \n",
       "2020-11-22 13:13:00                                                                                                                   Just arrived at Virtual G20. Was here yesterday also (early), but some of the Fake News Media failed to report it accurately - as usual. My speech is available (they said I didn’t make a speech).   \n",
       "\n",
       "                     favorites  retweets  sentiment_score  \n",
       "date                                                       \n",
       "2020-11-18 13:55:00     139281     37876          -0.9762  \n",
       "2020-11-15 22:21:00     343592     72974          -0.9468  \n",
       "2020-11-14 05:21:00     135655     41780          -0.9387  \n",
       "2020-11-22 12:24:00     155833     38419          -0.9363  \n",
       "2020-11-16 15:29:00     122266     29373          -0.9161  \n",
       "2020-11-15 21:36:00     106849     31579          -0.8955  \n",
       "2020-11-24 12:33:00     184222     44923          -0.8858  \n",
       "2020-11-22 01:33:00     119951     28675          -0.8833  \n",
       "2020-11-15 19:20:00     355884     61089          -0.8758  \n",
       "2020-11-22 13:13:00     328214     66354          -0.8625  "
      ]
     },
     "execution_count": 37,
     "metadata": {},
     "output_type": "execute_result"
    }
   ],
   "source": [
    "trump_df.loc[\"2020-11-07\":\"2020-11-30\"].sort_values(by='sentiment_score')[:10]"
   ]
  },
  {
   "cell_type": "markdown",
   "metadata": {},
   "source": [
    "Indeed, we can see a lot of negative sentiment expressed about the election, including claims of its fradulence."
   ]
  },
  {
   "cell_type": "markdown",
   "metadata": {},
   "source": [
    "## Calculate Sentiment Scores for Little Red Riding Hood"
   ]
  },
  {
   "cell_type": "markdown",
   "metadata": {},
   "source": [
    "To calculate sentiment scores for the fairy tale \"Little Red Cap,\" we first need to read in the text file.\n",
    "\n",
    "We're also going to replace line breaks with spaces to because there are line breaks in the middle of sentences."
   ]
  },
  {
   "cell_type": "code",
   "execution_count": 21,
   "metadata": {},
   "outputs": [],
   "source": [
    "# Read in text file\n",
    "text = open(\"../texts/literature/Grimms-Little-Red-Cap.txt\").read()\n",
    "# Replace line breaks with spaces\n",
    "text = text.replace('\\n', ' ')"
   ]
  },
  {
   "cell_type": "markdown",
   "metadata": {},
   "source": [
    "### Install and Import NLTK\n",
    "\n",
    "Next we need to break the text into sentences.\n",
    "\n",
    "An easy way to break text into sentences, or to \"tokenize\" them into sentences, is to use [NLTK](https://www.nltk.org/), a Python library for text analysis natural language processing."
   ]
  },
  {
   "cell_type": "code",
   "execution_count": null,
   "metadata": {
    "scrolled": true
   },
   "outputs": [],
   "source": [
    "!pip install nltk"
   ]
  },
  {
   "cell_type": "markdown",
   "metadata": {},
   "source": [
    "Let's import nltk and download the model that will help us get sentences."
   ]
  },
  {
   "cell_type": "code",
   "execution_count": null,
   "metadata": {},
   "outputs": [],
   "source": [
    "import nltk\n",
    "nltk.download('punkt')"
   ]
  },
  {
   "cell_type": "markdown",
   "metadata": {},
   "source": [
    "To break a string into individual sentences, we can use `nltk.sent_tokenize()`"
   ]
  },
  {
   "cell_type": "code",
   "execution_count": 24,
   "metadata": {
    "scrolled": true,
    "tags": [
     "output_scroll"
    ]
   },
   "outputs": [
    {
     "data": {
      "text/plain": [
       "['LITTLE RED-CAP   Once upon a time, there was a sweet little girl, who was loved by every one who looked at her, and most of all by her Grandmother.',\n",
       " 'There was nothing that she would not have given the child!',\n",
       " 'Once she gave her a little cap of red velvet, which suited her so well that she would not wear anything else.',\n",
       " 'So she was always called Little Red-Cap.',\n",
       " 'One day, her Mother said to her, “Come, Little Red-Cap, here is a piece of cake and a bottle of wine.',\n",
       " 'Take them to your Grandmother.',\n",
       " 'She is ill and weak, and they will do her good.',\n",
       " 'Set out before it gets hot.',\n",
       " 'Walk nicely and quietly.',\n",
       " 'Do not run off the path, or you may fall and break the bottle; then your Grandmother will get nothing!',\n",
       " 'When you go into her room, don’t forget to say ‘Good morning,’ and don’t stop to peep into every corner, before you do it.”  “I’ll take great care,” said Little Red-Cap to her Mother, and gave her hand on it.',\n",
       " 'The Grandmother lived in the wood, half an hour’s distance from the village, and just as Little Red-Cap entered the wood, a Wolf met her.',\n",
       " 'Red-Cap did not know what a wicked creature he was, and was not at all afraid of him.',\n",
       " '“Good-day, Little Red-Cap,” said he.',\n",
       " '“Thank you kindly, Wolf.”  “Whither away so early, Little Red-Cap?”  “To my Grandmother’s.”  “What have you got in your apron?”  “Cake and wine.',\n",
       " 'Yesterday was baking-day, so poor sick Grandmother is to have something good, to make her stronger.”  “Where does your Grandmother live, Little Red-Cap?”  “A good quarter of an hour farther on in the wood.',\n",
       " 'Her house stands under the three large oak-trees; the nut-trees are just below.',\n",
       " 'You surely must know it,” replied Little Red-Cap.',\n",
       " 'The Wolf thought to himself, “What a tender young creature!',\n",
       " 'what a nice plump mouthful--she will be better to eat than the old woman.',\n",
       " 'I must act craftily, so as to catch both.”  He walked for a short time by the side of Little Red-Cap, and then he said, “See, Little Red-Cap, how pretty the flowers are about here--why do you not look round?',\n",
       " 'I believe, too, that you do not hear how sweetly the little birds are singing.',\n",
       " 'You walk gravely along as if you were going to school, while everything else in the wood is merry.”  Little Red-Cap raised her eyes, and when she saw the sunbeams dancing here and there through the trees, and pretty flowers growing everywhere, she thought, “Suppose I take Grandmother a fresh nosegay.',\n",
       " 'That would please her too.',\n",
       " 'It is so early in the day that I shall still get there in good time.”  And so she ran from the path into the wood to look for flowers.',\n",
       " 'And whenever she had picked one, she fancied that she saw a still prettier one farther on, and ran after it, and thus got deeper and deeper into the wood.',\n",
       " 'Meanwhile, the Wolf ran straight to the Grandmother’s house and knocked at the door.',\n",
       " '“Who is there?”  “Little Red-Cap,” replied the Wolf.',\n",
       " '“She is bringing cake and wine.',\n",
       " 'Open the door.”  “Lift the latch,” called out the Grandmother, “I am too weak, and cannot get up.”  The Wolf lifted the latch, the door flew open, and without saying a word he went straight to the Grandmother’s bed, and devoured her.',\n",
       " 'Then he put on her clothes, dressed himself in her cap, laid himself in bed, and drew the curtains.',\n",
       " 'Little Red-Cap, however, had been running about picking flowers.',\n",
       " 'When she had gathered so many that she could carry no more, she remembered her Grandmother, and set out on the way to her.',\n",
       " 'She was surprised to find the cottage-door standing open.',\n",
       " 'And when she went into the room, she had such a strange feeling, that she said to herself, “Oh dear!',\n",
       " 'how uneasy I feel to-day, and at other times I like being with Grandmother so much.”  She called out, “Good morning,” but received no answer.',\n",
       " 'So she went to the bed and drew back the curtains.',\n",
       " 'There lay her Grandmother with her cap pulled far over her face, and looking very strange.',\n",
       " '“Oh!',\n",
       " 'Grandmother,” she said, “what big ears you have!”  “The better to hear you with, my Child,” was the reply.',\n",
       " '“But, Grandmother, what big eyes you have!” she said.',\n",
       " '“The better to see you with, my dear.”  “But, Grandmother, what large hands you have!”  “The better to hug you with.”  “Oh!',\n",
       " 'but Grandmother, what a terrible big mouth you have!”  “The better to eat you with!” And scarcely had the Wolf said this, than with one bound he was out of bed and swallowed up Red-Cap.',\n",
       " 'When the Wolf had satisfied his appetite, he lay down again in the bed, fell asleep and began to snore very loud.',\n",
       " 'The huntsman was just passing the house, and thought to himself, “How the old woman is snoring!',\n",
       " 'I must just see if she wants anything.”  So he went into the room, and when he came to the bed, he saw the Wolf lying in it.',\n",
       " '“Do I find thee here, thou old sinner!” said he.',\n",
       " '“I have long sought thee!”  Then just as he was going to fire at him, it occurred to him that the Wolf might have devoured the grandmother, and that she might still be saved.',\n",
       " 'So he did not fire, but took a pair of scissors, and began to cut open the stomach of the sleeping Wolf.',\n",
       " 'When he had made two snips, he saw the little Red-Cap shining, and then he made two snips more, and the little girl sprang out, crying, “Ah, how frightened I have been!',\n",
       " 'How dark it was inside the Wolf!”  And after that the aged grandmother came out alive also, but scarcely able to breathe.',\n",
       " 'Red-Cap then quickly fetched great stones with which they filled the Wolf’s body.',\n",
       " 'And when he awoke, he wanted to run away, but the stones were so heavy that he tumbled down at once, and fell dead.',\n",
       " 'Then all three were delighted.',\n",
       " 'The huntsman drew off the Wolf’s skin and went home with it.',\n",
       " 'The grandmother ate the cake and drank the wine which Red-Cap had brought, and grew strong again.',\n",
       " 'But Red-Cap thought to herself, “As long as I live, I will never leave the path to run into the wood, when my mother has forbidden me to do so.”']"
      ]
     },
     "execution_count": 24,
     "metadata": {},
     "output_type": "execute_result"
    }
   ],
   "source": [
    "nltk.sent_tokenize(text)"
   ]
  },
  {
   "cell_type": "markdown",
   "metadata": {},
   "source": [
    "To get sentence numbers for each sentence, we can use `enumerate()`."
   ]
  },
  {
   "cell_type": "code",
   "execution_count": 25,
   "metadata": {
    "scrolled": true,
    "tags": [
     "output_scroll"
    ]
   },
   "outputs": [
    {
     "name": "stdout",
     "output_type": "stream",
     "text": [
      "0 LITTLE RED-CAP   Once upon a time, there was a sweet little girl, who was loved by every one who looked at her, and most of all by her Grandmother.\n",
      "1 There was nothing that she would not have given the child!\n",
      "2 Once she gave her a little cap of red velvet, which suited her so well that she would not wear anything else.\n",
      "3 So she was always called Little Red-Cap.\n",
      "4 One day, her Mother said to her, “Come, Little Red-Cap, here is a piece of cake and a bottle of wine.\n",
      "5 Take them to your Grandmother.\n",
      "6 She is ill and weak, and they will do her good.\n",
      "7 Set out before it gets hot.\n",
      "8 Walk nicely and quietly.\n",
      "9 Do not run off the path, or you may fall and break the bottle; then your Grandmother will get nothing!\n",
      "10 When you go into her room, don’t forget to say ‘Good morning,’ and don’t stop to peep into every corner, before you do it.”  “I’ll take great care,” said Little Red-Cap to her Mother, and gave her hand on it.\n",
      "11 The Grandmother lived in the wood, half an hour’s distance from the village, and just as Little Red-Cap entered the wood, a Wolf met her.\n",
      "12 Red-Cap did not know what a wicked creature he was, and was not at all afraid of him.\n",
      "13 “Good-day, Little Red-Cap,” said he.\n",
      "14 “Thank you kindly, Wolf.”  “Whither away so early, Little Red-Cap?”  “To my Grandmother’s.”  “What have you got in your apron?”  “Cake and wine.\n",
      "15 Yesterday was baking-day, so poor sick Grandmother is to have something good, to make her stronger.”  “Where does your Grandmother live, Little Red-Cap?”  “A good quarter of an hour farther on in the wood.\n",
      "16 Her house stands under the three large oak-trees; the nut-trees are just below.\n",
      "17 You surely must know it,” replied Little Red-Cap.\n",
      "18 The Wolf thought to himself, “What a tender young creature!\n",
      "19 what a nice plump mouthful--she will be better to eat than the old woman.\n",
      "20 I must act craftily, so as to catch both.”  He walked for a short time by the side of Little Red-Cap, and then he said, “See, Little Red-Cap, how pretty the flowers are about here--why do you not look round?\n",
      "21 I believe, too, that you do not hear how sweetly the little birds are singing.\n",
      "22 You walk gravely along as if you were going to school, while everything else in the wood is merry.”  Little Red-Cap raised her eyes, and when she saw the sunbeams dancing here and there through the trees, and pretty flowers growing everywhere, she thought, “Suppose I take Grandmother a fresh nosegay.\n",
      "23 That would please her too.\n",
      "24 It is so early in the day that I shall still get there in good time.”  And so she ran from the path into the wood to look for flowers.\n",
      "25 And whenever she had picked one, she fancied that she saw a still prettier one farther on, and ran after it, and thus got deeper and deeper into the wood.\n",
      "26 Meanwhile, the Wolf ran straight to the Grandmother’s house and knocked at the door.\n",
      "27 “Who is there?”  “Little Red-Cap,” replied the Wolf.\n",
      "28 “She is bringing cake and wine.\n",
      "29 Open the door.”  “Lift the latch,” called out the Grandmother, “I am too weak, and cannot get up.”  The Wolf lifted the latch, the door flew open, and without saying a word he went straight to the Grandmother’s bed, and devoured her.\n",
      "30 Then he put on her clothes, dressed himself in her cap, laid himself in bed, and drew the curtains.\n",
      "31 Little Red-Cap, however, had been running about picking flowers.\n",
      "32 When she had gathered so many that she could carry no more, she remembered her Grandmother, and set out on the way to her.\n",
      "33 She was surprised to find the cottage-door standing open.\n",
      "34 And when she went into the room, she had such a strange feeling, that she said to herself, “Oh dear!\n",
      "35 how uneasy I feel to-day, and at other times I like being with Grandmother so much.”  She called out, “Good morning,” but received no answer.\n",
      "36 So she went to the bed and drew back the curtains.\n",
      "37 There lay her Grandmother with her cap pulled far over her face, and looking very strange.\n",
      "38 “Oh!\n",
      "39 Grandmother,” she said, “what big ears you have!”  “The better to hear you with, my Child,” was the reply.\n",
      "40 “But, Grandmother, what big eyes you have!” she said.\n",
      "41 “The better to see you with, my dear.”  “But, Grandmother, what large hands you have!”  “The better to hug you with.”  “Oh!\n",
      "42 but Grandmother, what a terrible big mouth you have!”  “The better to eat you with!” And scarcely had the Wolf said this, than with one bound he was out of bed and swallowed up Red-Cap.\n",
      "43 When the Wolf had satisfied his appetite, he lay down again in the bed, fell asleep and began to snore very loud.\n",
      "44 The huntsman was just passing the house, and thought to himself, “How the old woman is snoring!\n",
      "45 I must just see if she wants anything.”  So he went into the room, and when he came to the bed, he saw the Wolf lying in it.\n",
      "46 “Do I find thee here, thou old sinner!” said he.\n",
      "47 “I have long sought thee!”  Then just as he was going to fire at him, it occurred to him that the Wolf might have devoured the grandmother, and that she might still be saved.\n",
      "48 So he did not fire, but took a pair of scissors, and began to cut open the stomach of the sleeping Wolf.\n",
      "49 When he had made two snips, he saw the little Red-Cap shining, and then he made two snips more, and the little girl sprang out, crying, “Ah, how frightened I have been!\n",
      "50 How dark it was inside the Wolf!”  And after that the aged grandmother came out alive also, but scarcely able to breathe.\n",
      "51 Red-Cap then quickly fetched great stones with which they filled the Wolf’s body.\n",
      "52 And when he awoke, he wanted to run away, but the stones were so heavy that he tumbled down at once, and fell dead.\n",
      "53 Then all three were delighted.\n",
      "54 The huntsman drew off the Wolf’s skin and went home with it.\n",
      "55 The grandmother ate the cake and drank the wine which Red-Cap had brought, and grew strong again.\n",
      "56 But Red-Cap thought to herself, “As long as I live, I will never leave the path to run into the wood, when my mother has forbidden me to do so.”\n"
     ]
    }
   ],
   "source": [
    "for number, sentence in enumerate(nltk.sent_tokenize(text)):\n",
    "    print(number, sentence)"
   ]
  },
  {
   "cell_type": "markdown",
   "metadata": {},
   "source": [
    "### Make DataFrame"
   ]
  },
  {
   "cell_type": "markdown",
   "metadata": {},
   "source": [
    "For convenience, we can put all of the sentences into a pandas DataFrame. One easy way to make a DataFrame is to first make a list of dictionaries.\n",
    "\n",
    "Below we loop through the sentences, calculate sentiment scores, and then create a dictionary with the sentence, sentence numnber, and compound score, which we append to the list `sentence_scores`."
   ]
  },
  {
   "cell_type": "code",
   "execution_count": 26,
   "metadata": {},
   "outputs": [],
   "source": [
    "# Break text into sentences\n",
    "sentences = nltk.sent_tokenize(text)\n",
    "\n",
    "# Make empty list\n",
    "sentence_scores = []\n",
    "# Get each sentence and sentence number, which is what enumerate does\n",
    "for number, sentence in enumerate(sentences):\n",
    "    # Use VADER to calculate sentiment\n",
    "    scores = sentimentAnalyser.polarity_scores(sentence)\n",
    "    # Make dictionary and append it to the previously empty list\n",
    "    sentence_scores.append({'sentence': sentence, 'sentence_number': number+1, 'sentiment_score': scores['compound']})"
   ]
  },
  {
   "cell_type": "markdown",
   "metadata": {},
   "source": [
    "To make this list of dictionaries into a DataFrame, we can simply use `pd.DataFrame()`"
   ]
  },
  {
   "cell_type": "code",
   "execution_count": 27,
   "metadata": {
    "scrolled": true,
    "tags": [
     "output_scroll"
    ]
   },
   "outputs": [
    {
     "data": {
      "text/html": [
       "<div>\n",
       "<style scoped>\n",
       "    .dataframe tbody tr th:only-of-type {\n",
       "        vertical-align: middle;\n",
       "    }\n",
       "\n",
       "    .dataframe tbody tr th {\n",
       "        vertical-align: top;\n",
       "    }\n",
       "\n",
       "    .dataframe thead th {\n",
       "        text-align: right;\n",
       "    }\n",
       "</style>\n",
       "<table border=\"1\" class=\"dataframe\">\n",
       "  <thead>\n",
       "    <tr style=\"text-align: right;\">\n",
       "      <th></th>\n",
       "      <th>sentence</th>\n",
       "      <th>sentence_number</th>\n",
       "      <th>sentiment_score</th>\n",
       "    </tr>\n",
       "  </thead>\n",
       "  <tbody>\n",
       "    <tr>\n",
       "      <th>0</th>\n",
       "      <td>LITTLE RED-CAP   Once upon a time, there was a sweet little girl, who was loved by every one who looked at her, and most of all by her Grandmother.</td>\n",
       "      <td>1</td>\n",
       "      <td>0.7845</td>\n",
       "    </tr>\n",
       "    <tr>\n",
       "      <th>1</th>\n",
       "      <td>There was nothing that she would not have given the child!</td>\n",
       "      <td>2</td>\n",
       "      <td>0.0000</td>\n",
       "    </tr>\n",
       "    <tr>\n",
       "      <th>2</th>\n",
       "      <td>Once she gave her a little cap of red velvet, which suited her so well that she would not wear anything else.</td>\n",
       "      <td>3</td>\n",
       "      <td>0.4101</td>\n",
       "    </tr>\n",
       "    <tr>\n",
       "      <th>3</th>\n",
       "      <td>So she was always called Little Red-Cap.</td>\n",
       "      <td>4</td>\n",
       "      <td>0.0000</td>\n",
       "    </tr>\n",
       "    <tr>\n",
       "      <th>4</th>\n",
       "      <td>One day, her Mother said to her, “Come, Little Red-Cap, here is a piece of cake and a bottle of wine.</td>\n",
       "      <td>5</td>\n",
       "      <td>0.0000</td>\n",
       "    </tr>\n",
       "    <tr>\n",
       "      <th>5</th>\n",
       "      <td>Take them to your Grandmother.</td>\n",
       "      <td>6</td>\n",
       "      <td>0.0000</td>\n",
       "    </tr>\n",
       "    <tr>\n",
       "      <th>6</th>\n",
       "      <td>She is ill and weak, and they will do her good.</td>\n",
       "      <td>7</td>\n",
       "      <td>-0.4215</td>\n",
       "    </tr>\n",
       "    <tr>\n",
       "      <th>7</th>\n",
       "      <td>Set out before it gets hot.</td>\n",
       "      <td>8</td>\n",
       "      <td>0.0000</td>\n",
       "    </tr>\n",
       "    <tr>\n",
       "      <th>8</th>\n",
       "      <td>Walk nicely and quietly.</td>\n",
       "      <td>9</td>\n",
       "      <td>0.4404</td>\n",
       "    </tr>\n",
       "    <tr>\n",
       "      <th>9</th>\n",
       "      <td>Do not run off the path, or you may fall and break the bottle; then your Grandmother will get nothing!</td>\n",
       "      <td>10</td>\n",
       "      <td>0.0000</td>\n",
       "    </tr>\n",
       "    <tr>\n",
       "      <th>10</th>\n",
       "      <td>When you go into her room, don’t forget to say ‘Good morning,’ and don’t stop to peep into every corner, before you do it.”  “I’ll take great care,” said Little Red-Cap to her Mother, and gave her hand on it.</td>\n",
       "      <td>11</td>\n",
       "      <td>0.6369</td>\n",
       "    </tr>\n",
       "    <tr>\n",
       "      <th>11</th>\n",
       "      <td>The Grandmother lived in the wood, half an hour’s distance from the village, and just as Little Red-Cap entered the wood, a Wolf met her.</td>\n",
       "      <td>12</td>\n",
       "      <td>0.0000</td>\n",
       "    </tr>\n",
       "    <tr>\n",
       "      <th>12</th>\n",
       "      <td>Red-Cap did not know what a wicked creature he was, and was not at all afraid of him.</td>\n",
       "      <td>13</td>\n",
       "      <td>-0.5267</td>\n",
       "    </tr>\n",
       "    <tr>\n",
       "      <th>13</th>\n",
       "      <td>“Good-day, Little Red-Cap,” said he.</td>\n",
       "      <td>14</td>\n",
       "      <td>0.0000</td>\n",
       "    </tr>\n",
       "    <tr>\n",
       "      <th>14</th>\n",
       "      <td>“Thank you kindly, Wolf.”  “Whither away so early, Little Red-Cap?”  “To my Grandmother’s.”  “What have you got in your apron?”  “Cake and wine.</td>\n",
       "      <td>15</td>\n",
       "      <td>0.5514</td>\n",
       "    </tr>\n",
       "    <tr>\n",
       "      <th>15</th>\n",
       "      <td>Yesterday was baking-day, so poor sick Grandmother is to have something good, to make her stronger.”  “Where does your Grandmother live, Little Red-Cap?”  “A good quarter of an hour farther on in the wood.</td>\n",
       "      <td>16</td>\n",
       "      <td>-0.4648</td>\n",
       "    </tr>\n",
       "    <tr>\n",
       "      <th>16</th>\n",
       "      <td>Her house stands under the three large oak-trees; the nut-trees are just below.</td>\n",
       "      <td>17</td>\n",
       "      <td>0.0000</td>\n",
       "    </tr>\n",
       "    <tr>\n",
       "      <th>17</th>\n",
       "      <td>You surely must know it,” replied Little Red-Cap.</td>\n",
       "      <td>18</td>\n",
       "      <td>0.4404</td>\n",
       "    </tr>\n",
       "    <tr>\n",
       "      <th>18</th>\n",
       "      <td>The Wolf thought to himself, “What a tender young creature!</td>\n",
       "      <td>19</td>\n",
       "      <td>0.0000</td>\n",
       "    </tr>\n",
       "    <tr>\n",
       "      <th>19</th>\n",
       "      <td>what a nice plump mouthful--she will be better to eat than the old woman.</td>\n",
       "      <td>20</td>\n",
       "      <td>0.6908</td>\n",
       "    </tr>\n",
       "    <tr>\n",
       "      <th>20</th>\n",
       "      <td>I must act craftily, so as to catch both.”  He walked for a short time by the side of Little Red-Cap, and then he said, “See, Little Red-Cap, how pretty the flowers are about here--why do you not look round?</td>\n",
       "      <td>21</td>\n",
       "      <td>0.4472</td>\n",
       "    </tr>\n",
       "    <tr>\n",
       "      <th>21</th>\n",
       "      <td>I believe, too, that you do not hear how sweetly the little birds are singing.</td>\n",
       "      <td>22</td>\n",
       "      <td>-0.3724</td>\n",
       "    </tr>\n",
       "    <tr>\n",
       "      <th>22</th>\n",
       "      <td>You walk gravely along as if you were going to school, while everything else in the wood is merry.”  Little Red-Cap raised her eyes, and when she saw the sunbeams dancing here and there through the trees, and pretty flowers growing everywhere, she thought, “Suppose I take Grandmother a fresh nosegay.</td>\n",
       "      <td>23</td>\n",
       "      <td>0.5719</td>\n",
       "    </tr>\n",
       "    <tr>\n",
       "      <th>23</th>\n",
       "      <td>That would please her too.</td>\n",
       "      <td>24</td>\n",
       "      <td>0.3182</td>\n",
       "    </tr>\n",
       "    <tr>\n",
       "      <th>24</th>\n",
       "      <td>It is so early in the day that I shall still get there in good time.”  And so she ran from the path into the wood to look for flowers.</td>\n",
       "      <td>25</td>\n",
       "      <td>0.4404</td>\n",
       "    </tr>\n",
       "    <tr>\n",
       "      <th>25</th>\n",
       "      <td>And whenever she had picked one, she fancied that she saw a still prettier one farther on, and ran after it, and thus got deeper and deeper into the wood.</td>\n",
       "      <td>26</td>\n",
       "      <td>0.4767</td>\n",
       "    </tr>\n",
       "    <tr>\n",
       "      <th>26</th>\n",
       "      <td>Meanwhile, the Wolf ran straight to the Grandmother’s house and knocked at the door.</td>\n",
       "      <td>27</td>\n",
       "      <td>0.2263</td>\n",
       "    </tr>\n",
       "    <tr>\n",
       "      <th>27</th>\n",
       "      <td>“Who is there?”  “Little Red-Cap,” replied the Wolf.</td>\n",
       "      <td>28</td>\n",
       "      <td>0.0000</td>\n",
       "    </tr>\n",
       "    <tr>\n",
       "      <th>28</th>\n",
       "      <td>“She is bringing cake and wine.</td>\n",
       "      <td>29</td>\n",
       "      <td>0.0000</td>\n",
       "    </tr>\n",
       "    <tr>\n",
       "      <th>29</th>\n",
       "      <td>Open the door.”  “Lift the latch,” called out the Grandmother, “I am too weak, and cannot get up.”  The Wolf lifted the latch, the door flew open, and without saying a word he went straight to the Grandmother’s bed, and devoured her.</td>\n",
       "      <td>30</td>\n",
       "      <td>-0.2500</td>\n",
       "    </tr>\n",
       "    <tr>\n",
       "      <th>30</th>\n",
       "      <td>Then he put on her clothes, dressed himself in her cap, laid himself in bed, and drew the curtains.</td>\n",
       "      <td>31</td>\n",
       "      <td>0.0000</td>\n",
       "    </tr>\n",
       "    <tr>\n",
       "      <th>31</th>\n",
       "      <td>Little Red-Cap, however, had been running about picking flowers.</td>\n",
       "      <td>32</td>\n",
       "      <td>0.0000</td>\n",
       "    </tr>\n",
       "    <tr>\n",
       "      <th>32</th>\n",
       "      <td>When she had gathered so many that she could carry no more, she remembered her Grandmother, and set out on the way to her.</td>\n",
       "      <td>33</td>\n",
       "      <td>-0.2960</td>\n",
       "    </tr>\n",
       "    <tr>\n",
       "      <th>33</th>\n",
       "      <td>She was surprised to find the cottage-door standing open.</td>\n",
       "      <td>34</td>\n",
       "      <td>0.2263</td>\n",
       "    </tr>\n",
       "    <tr>\n",
       "      <th>34</th>\n",
       "      <td>And when she went into the room, she had such a strange feeling, that she said to herself, “Oh dear!</td>\n",
       "      <td>35</td>\n",
       "      <td>0.3802</td>\n",
       "    </tr>\n",
       "    <tr>\n",
       "      <th>35</th>\n",
       "      <td>how uneasy I feel to-day, and at other times I like being with Grandmother so much.”  She called out, “Good morning,” but received no answer.</td>\n",
       "      <td>36</td>\n",
       "      <td>-0.4310</td>\n",
       "    </tr>\n",
       "    <tr>\n",
       "      <th>36</th>\n",
       "      <td>So she went to the bed and drew back the curtains.</td>\n",
       "      <td>37</td>\n",
       "      <td>0.0000</td>\n",
       "    </tr>\n",
       "    <tr>\n",
       "      <th>37</th>\n",
       "      <td>There lay her Grandmother with her cap pulled far over her face, and looking very strange.</td>\n",
       "      <td>38</td>\n",
       "      <td>-0.2716</td>\n",
       "    </tr>\n",
       "    <tr>\n",
       "      <th>38</th>\n",
       "      <td>“Oh!</td>\n",
       "      <td>39</td>\n",
       "      <td>0.0000</td>\n",
       "    </tr>\n",
       "    <tr>\n",
       "      <th>39</th>\n",
       "      <td>Grandmother,” she said, “what big ears you have!”  “The better to hear you with, my Child,” was the reply.</td>\n",
       "      <td>40</td>\n",
       "      <td>0.4926</td>\n",
       "    </tr>\n",
       "    <tr>\n",
       "      <th>40</th>\n",
       "      <td>“But, Grandmother, what big eyes you have!” she said.</td>\n",
       "      <td>41</td>\n",
       "      <td>0.0000</td>\n",
       "    </tr>\n",
       "    <tr>\n",
       "      <th>41</th>\n",
       "      <td>“The better to see you with, my dear.”  “But, Grandmother, what large hands you have!”  “The better to hug you with.”  “Oh!</td>\n",
       "      <td>42</td>\n",
       "      <td>0.8585</td>\n",
       "    </tr>\n",
       "    <tr>\n",
       "      <th>42</th>\n",
       "      <td>but Grandmother, what a terrible big mouth you have!”  “The better to eat you with!” And scarcely had the Wolf said this, than with one bound he was out of bed and swallowed up Red-Cap.</td>\n",
       "      <td>43</td>\n",
       "      <td>-0.2225</td>\n",
       "    </tr>\n",
       "    <tr>\n",
       "      <th>43</th>\n",
       "      <td>When the Wolf had satisfied his appetite, he lay down again in the bed, fell asleep and began to snore very loud.</td>\n",
       "      <td>44</td>\n",
       "      <td>0.4215</td>\n",
       "    </tr>\n",
       "    <tr>\n",
       "      <th>44</th>\n",
       "      <td>The huntsman was just passing the house, and thought to himself, “How the old woman is snoring!</td>\n",
       "      <td>45</td>\n",
       "      <td>0.0000</td>\n",
       "    </tr>\n",
       "    <tr>\n",
       "      <th>45</th>\n",
       "      <td>I must just see if she wants anything.”  So he went into the room, and when he came to the bed, he saw the Wolf lying in it.</td>\n",
       "      <td>46</td>\n",
       "      <td>-0.5267</td>\n",
       "    </tr>\n",
       "    <tr>\n",
       "      <th>46</th>\n",
       "      <td>“Do I find thee here, thou old sinner!” said he.</td>\n",
       "      <td>47</td>\n",
       "      <td>0.0000</td>\n",
       "    </tr>\n",
       "    <tr>\n",
       "      <th>47</th>\n",
       "      <td>“I have long sought thee!”  Then just as he was going to fire at him, it occurred to him that the Wolf might have devoured the grandmother, and that she might still be saved.</td>\n",
       "      <td>48</td>\n",
       "      <td>0.1759</td>\n",
       "    </tr>\n",
       "    <tr>\n",
       "      <th>48</th>\n",
       "      <td>So he did not fire, but took a pair of scissors, and began to cut open the stomach of the sleeping Wolf.</td>\n",
       "      <td>49</td>\n",
       "      <td>-0.2805</td>\n",
       "    </tr>\n",
       "    <tr>\n",
       "      <th>49</th>\n",
       "      <td>When he had made two snips, he saw the little Red-Cap shining, and then he made two snips more, and the little girl sprang out, crying, “Ah, how frightened I have been!</td>\n",
       "      <td>50</td>\n",
       "      <td>-0.7424</td>\n",
       "    </tr>\n",
       "    <tr>\n",
       "      <th>50</th>\n",
       "      <td>How dark it was inside the Wolf!”  And after that the aged grandmother came out alive also, but scarcely able to breathe.</td>\n",
       "      <td>51</td>\n",
       "      <td>0.2714</td>\n",
       "    </tr>\n",
       "    <tr>\n",
       "      <th>51</th>\n",
       "      <td>Red-Cap then quickly fetched great stones with which they filled the Wolf’s body.</td>\n",
       "      <td>52</td>\n",
       "      <td>0.6249</td>\n",
       "    </tr>\n",
       "    <tr>\n",
       "      <th>52</th>\n",
       "      <td>And when he awoke, he wanted to run away, but the stones were so heavy that he tumbled down at once, and fell dead.</td>\n",
       "      <td>53</td>\n",
       "      <td>-0.7876</td>\n",
       "    </tr>\n",
       "    <tr>\n",
       "      <th>53</th>\n",
       "      <td>Then all three were delighted.</td>\n",
       "      <td>54</td>\n",
       "      <td>0.5106</td>\n",
       "    </tr>\n",
       "    <tr>\n",
       "      <th>54</th>\n",
       "      <td>The huntsman drew off the Wolf’s skin and went home with it.</td>\n",
       "      <td>55</td>\n",
       "      <td>0.0000</td>\n",
       "    </tr>\n",
       "    <tr>\n",
       "      <th>55</th>\n",
       "      <td>The grandmother ate the cake and drank the wine which Red-Cap had brought, and grew strong again.</td>\n",
       "      <td>56</td>\n",
       "      <td>0.5106</td>\n",
       "    </tr>\n",
       "    <tr>\n",
       "      <th>56</th>\n",
       "      <td>But Red-Cap thought to herself, “As long as I live, I will never leave the path to run into the wood, when my mother has forbidden me to do so.”</td>\n",
       "      <td>57</td>\n",
       "      <td>-0.5389</td>\n",
       "    </tr>\n",
       "  </tbody>\n",
       "</table>\n",
       "</div>"
      ],
      "text/plain": [
       "                                                                                                                                                                                                                                                                                                         sentence  \\\n",
       "0                                                                                                                                                             LITTLE RED-CAP   Once upon a time, there was a sweet little girl, who was loved by every one who looked at her, and most of all by her Grandmother.   \n",
       "1                                                                                                                                                                                                                                                      There was nothing that she would not have given the child!   \n",
       "2                                                                                                                                                                                                   Once she gave her a little cap of red velvet, which suited her so well that she would not wear anything else.   \n",
       "3                                                                                                                                                                                                                                                                        So she was always called Little Red-Cap.   \n",
       "4                                                                                                                                                                                                           One day, her Mother said to her, “Come, Little Red-Cap, here is a piece of cake and a bottle of wine.   \n",
       "5                                                                                                                                                                                                                                                                                  Take them to your Grandmother.   \n",
       "6                                                                                                                                                                                                                                                                 She is ill and weak, and they will do her good.   \n",
       "7                                                                                                                                                                                                                                                                                     Set out before it gets hot.   \n",
       "8                                                                                                                                                                                                                                                                                        Walk nicely and quietly.   \n",
       "9                                                                                                                                                                                                          Do not run off the path, or you may fall and break the bottle; then your Grandmother will get nothing!   \n",
       "10                                                                                               When you go into her room, don’t forget to say ‘Good morning,’ and don’t stop to peep into every corner, before you do it.”  “I’ll take great care,” said Little Red-Cap to her Mother, and gave her hand on it.   \n",
       "11                                                                                                                                                                      The Grandmother lived in the wood, half an hour’s distance from the village, and just as Little Red-Cap entered the wood, a Wolf met her.   \n",
       "12                                                                                                                                                                                                                          Red-Cap did not know what a wicked creature he was, and was not at all afraid of him.   \n",
       "13                                                                                                                                                                                                                                                                           “Good-day, Little Red-Cap,” said he.   \n",
       "14                                                                                                                                                               “Thank you kindly, Wolf.”  “Whither away so early, Little Red-Cap?”  “To my Grandmother’s.”  “What have you got in your apron?”  “Cake and wine.   \n",
       "15                                                                                                  Yesterday was baking-day, so poor sick Grandmother is to have something good, to make her stronger.”  “Where does your Grandmother live, Little Red-Cap?”  “A good quarter of an hour farther on in the wood.   \n",
       "16                                                                                                                                                                                                                                Her house stands under the three large oak-trees; the nut-trees are just below.   \n",
       "17                                                                                                                                                                                                                                                              You surely must know it,” replied Little Red-Cap.   \n",
       "18                                                                                                                                                                                                                                                    The Wolf thought to himself, “What a tender young creature!   \n",
       "19                                                                                                                                                                                                                                      what a nice plump mouthful--she will be better to eat than the old woman.   \n",
       "20                                                                                                I must act craftily, so as to catch both.”  He walked for a short time by the side of Little Red-Cap, and then he said, “See, Little Red-Cap, how pretty the flowers are about here--why do you not look round?   \n",
       "21                                                                                                                                                                                                                                 I believe, too, that you do not hear how sweetly the little birds are singing.   \n",
       "22  You walk gravely along as if you were going to school, while everything else in the wood is merry.”  Little Red-Cap raised her eyes, and when she saw the sunbeams dancing here and there through the trees, and pretty flowers growing everywhere, she thought, “Suppose I take Grandmother a fresh nosegay.   \n",
       "23                                                                                                                                                                                                                                                                                     That would please her too.   \n",
       "24                                                                                                                                                                         It is so early in the day that I shall still get there in good time.”  And so she ran from the path into the wood to look for flowers.   \n",
       "25                                                                                                                                                     And whenever she had picked one, she fancied that she saw a still prettier one farther on, and ran after it, and thus got deeper and deeper into the wood.   \n",
       "26                                                                                                                                                                                                                           Meanwhile, the Wolf ran straight to the Grandmother’s house and knocked at the door.   \n",
       "27                                                                                                                                                                                                                                                           “Who is there?”  “Little Red-Cap,” replied the Wolf.   \n",
       "28                                                                                                                                                                                                                                                                                “She is bringing cake and wine.   \n",
       "29                                                                      Open the door.”  “Lift the latch,” called out the Grandmother, “I am too weak, and cannot get up.”  The Wolf lifted the latch, the door flew open, and without saying a word he went straight to the Grandmother’s bed, and devoured her.   \n",
       "30                                                                                                                                                                                                            Then he put on her clothes, dressed himself in her cap, laid himself in bed, and drew the curtains.   \n",
       "31                                                                                                                                                                                                                                               Little Red-Cap, however, had been running about picking flowers.   \n",
       "32                                                                                                                                                                                     When she had gathered so many that she could carry no more, she remembered her Grandmother, and set out on the way to her.   \n",
       "33                                                                                                                                                                                                                                                      She was surprised to find the cottage-door standing open.   \n",
       "34                                                                                                                                                                                                           And when she went into the room, she had such a strange feeling, that she said to herself, “Oh dear!   \n",
       "35                                                                                                                                                                  how uneasy I feel to-day, and at other times I like being with Grandmother so much.”  She called out, “Good morning,” but received no answer.   \n",
       "36                                                                                                                                                                                                                                                             So she went to the bed and drew back the curtains.   \n",
       "37                                                                                                                                                                                                                     There lay her Grandmother with her cap pulled far over her face, and looking very strange.   \n",
       "38                                                                                                                                                                                                                                                                                                           “Oh!   \n",
       "39                                                                                                                                                                                                     Grandmother,” she said, “what big ears you have!”  “The better to hear you with, my Child,” was the reply.   \n",
       "40                                                                                                                                                                                                                                                          “But, Grandmother, what big eyes you have!” she said.   \n",
       "41                                                                                                                                                                                    “The better to see you with, my dear.”  “But, Grandmother, what large hands you have!”  “The better to hug you with.”  “Oh!   \n",
       "42                                                                                                                      but Grandmother, what a terrible big mouth you have!”  “The better to eat you with!” And scarcely had the Wolf said this, than with one bound he was out of bed and swallowed up Red-Cap.   \n",
       "43                                                                                                                                                                                              When the Wolf had satisfied his appetite, he lay down again in the bed, fell asleep and began to snore very loud.   \n",
       "44                                                                                                                                                                                                                The huntsman was just passing the house, and thought to himself, “How the old woman is snoring!   \n",
       "45                                                                                                                                                                                   I must just see if she wants anything.”  So he went into the room, and when he came to the bed, he saw the Wolf lying in it.   \n",
       "46                                                                                                                                                                                                                                                               “Do I find thee here, thou old sinner!” said he.   \n",
       "47                                                                                                                                 “I have long sought thee!”  Then just as he was going to fire at him, it occurred to him that the Wolf might have devoured the grandmother, and that she might still be saved.   \n",
       "48                                                                                                                                                                                                       So he did not fire, but took a pair of scissors, and began to cut open the stomach of the sleeping Wolf.   \n",
       "49                                                                                                                                       When he had made two snips, he saw the little Red-Cap shining, and then he made two snips more, and the little girl sprang out, crying, “Ah, how frightened I have been!   \n",
       "50                                                                                                                                                                                      How dark it was inside the Wolf!”  And after that the aged grandmother came out alive also, but scarcely able to breathe.   \n",
       "51                                                                                                                                                                                                                              Red-Cap then quickly fetched great stones with which they filled the Wolf’s body.   \n",
       "52                                                                                                                                                                                            And when he awoke, he wanted to run away, but the stones were so heavy that he tumbled down at once, and fell dead.   \n",
       "53                                                                                                                                                                                                                                                                                 Then all three were delighted.   \n",
       "54                                                                                                                                                                                                                                                   The huntsman drew off the Wolf’s skin and went home with it.   \n",
       "55                                                                                                                                                                                                              The grandmother ate the cake and drank the wine which Red-Cap had brought, and grew strong again.   \n",
       "56                                                                                                                                                               But Red-Cap thought to herself, “As long as I live, I will never leave the path to run into the wood, when my mother has forbidden me to do so.”   \n",
       "\n",
       "    sentence_number  sentiment_score  \n",
       "0                 1           0.7845  \n",
       "1                 2           0.0000  \n",
       "2                 3           0.4101  \n",
       "3                 4           0.0000  \n",
       "4                 5           0.0000  \n",
       "5                 6           0.0000  \n",
       "6                 7          -0.4215  \n",
       "7                 8           0.0000  \n",
       "8                 9           0.4404  \n",
       "9                10           0.0000  \n",
       "10               11           0.6369  \n",
       "11               12           0.0000  \n",
       "12               13          -0.5267  \n",
       "13               14           0.0000  \n",
       "14               15           0.5514  \n",
       "15               16          -0.4648  \n",
       "16               17           0.0000  \n",
       "17               18           0.4404  \n",
       "18               19           0.0000  \n",
       "19               20           0.6908  \n",
       "20               21           0.4472  \n",
       "21               22          -0.3724  \n",
       "22               23           0.5719  \n",
       "23               24           0.3182  \n",
       "24               25           0.4404  \n",
       "25               26           0.4767  \n",
       "26               27           0.2263  \n",
       "27               28           0.0000  \n",
       "28               29           0.0000  \n",
       "29               30          -0.2500  \n",
       "30               31           0.0000  \n",
       "31               32           0.0000  \n",
       "32               33          -0.2960  \n",
       "33               34           0.2263  \n",
       "34               35           0.3802  \n",
       "35               36          -0.4310  \n",
       "36               37           0.0000  \n",
       "37               38          -0.2716  \n",
       "38               39           0.0000  \n",
       "39               40           0.4926  \n",
       "40               41           0.0000  \n",
       "41               42           0.8585  \n",
       "42               43          -0.2225  \n",
       "43               44           0.4215  \n",
       "44               45           0.0000  \n",
       "45               46          -0.5267  \n",
       "46               47           0.0000  \n",
       "47               48           0.1759  \n",
       "48               49          -0.2805  \n",
       "49               50          -0.7424  \n",
       "50               51           0.2714  \n",
       "51               52           0.6249  \n",
       "52               53          -0.7876  \n",
       "53               54           0.5106  \n",
       "54               55           0.0000  \n",
       "55               56           0.5106  \n",
       "56               57          -0.5389  "
      ]
     },
     "execution_count": 27,
     "metadata": {},
     "output_type": "execute_result"
    }
   ],
   "source": [
    "pd.DataFrame(sentence_scores)"
   ]
  },
  {
   "cell_type": "markdown",
   "metadata": {},
   "source": [
    "Let's examine the 10 most negative sentences."
   ]
  },
  {
   "cell_type": "code",
   "execution_count": 28,
   "metadata": {},
   "outputs": [
    {
     "data": {
      "text/html": [
       "<div>\n",
       "<style scoped>\n",
       "    .dataframe tbody tr th:only-of-type {\n",
       "        vertical-align: middle;\n",
       "    }\n",
       "\n",
       "    .dataframe tbody tr th {\n",
       "        vertical-align: top;\n",
       "    }\n",
       "\n",
       "    .dataframe thead th {\n",
       "        text-align: right;\n",
       "    }\n",
       "</style>\n",
       "<table border=\"1\" class=\"dataframe\">\n",
       "  <thead>\n",
       "    <tr style=\"text-align: right;\">\n",
       "      <th></th>\n",
       "      <th>sentence</th>\n",
       "      <th>sentence_number</th>\n",
       "      <th>sentiment_score</th>\n",
       "    </tr>\n",
       "  </thead>\n",
       "  <tbody>\n",
       "    <tr>\n",
       "      <th>52</th>\n",
       "      <td>And when he awoke, he wanted to run away, but the stones were so heavy that he tumbled down at once, and fell dead.</td>\n",
       "      <td>53</td>\n",
       "      <td>-0.7876</td>\n",
       "    </tr>\n",
       "    <tr>\n",
       "      <th>49</th>\n",
       "      <td>When he had made two snips, he saw the little Red-Cap shining, and then he made two snips more, and the little girl sprang out, crying, “Ah, how frightened I have been!</td>\n",
       "      <td>50</td>\n",
       "      <td>-0.7424</td>\n",
       "    </tr>\n",
       "    <tr>\n",
       "      <th>56</th>\n",
       "      <td>But Red-Cap thought to herself, “As long as I live, I will never leave the path to run into the wood, when my mother has forbidden me to do so.”</td>\n",
       "      <td>57</td>\n",
       "      <td>-0.5389</td>\n",
       "    </tr>\n",
       "    <tr>\n",
       "      <th>45</th>\n",
       "      <td>I must just see if she wants anything.”  So he went into the room, and when he came to the bed, he saw the Wolf lying in it.</td>\n",
       "      <td>46</td>\n",
       "      <td>-0.5267</td>\n",
       "    </tr>\n",
       "    <tr>\n",
       "      <th>12</th>\n",
       "      <td>Red-Cap did not know what a wicked creature he was, and was not at all afraid of him.</td>\n",
       "      <td>13</td>\n",
       "      <td>-0.5267</td>\n",
       "    </tr>\n",
       "    <tr>\n",
       "      <th>15</th>\n",
       "      <td>Yesterday was baking-day, so poor sick Grandmother is to have something good, to make her stronger.”  “Where does your Grandmother live, Little Red-Cap?”  “A good quarter of an hour farther on in the wood.</td>\n",
       "      <td>16</td>\n",
       "      <td>-0.4648</td>\n",
       "    </tr>\n",
       "    <tr>\n",
       "      <th>35</th>\n",
       "      <td>how uneasy I feel to-day, and at other times I like being with Grandmother so much.”  She called out, “Good morning,” but received no answer.</td>\n",
       "      <td>36</td>\n",
       "      <td>-0.4310</td>\n",
       "    </tr>\n",
       "    <tr>\n",
       "      <th>6</th>\n",
       "      <td>She is ill and weak, and they will do her good.</td>\n",
       "      <td>7</td>\n",
       "      <td>-0.4215</td>\n",
       "    </tr>\n",
       "    <tr>\n",
       "      <th>21</th>\n",
       "      <td>I believe, too, that you do not hear how sweetly the little birds are singing.</td>\n",
       "      <td>22</td>\n",
       "      <td>-0.3724</td>\n",
       "    </tr>\n",
       "    <tr>\n",
       "      <th>32</th>\n",
       "      <td>When she had gathered so many that she could carry no more, she remembered her Grandmother, and set out on the way to her.</td>\n",
       "      <td>33</td>\n",
       "      <td>-0.2960</td>\n",
       "    </tr>\n",
       "  </tbody>\n",
       "</table>\n",
       "</div>"
      ],
      "text/plain": [
       "                                                                                                                                                                                                         sentence  \\\n",
       "52                                                                                            And when he awoke, he wanted to run away, but the stones were so heavy that he tumbled down at once, and fell dead.   \n",
       "49                                       When he had made two snips, he saw the little Red-Cap shining, and then he made two snips more, and the little girl sprang out, crying, “Ah, how frightened I have been!   \n",
       "56                                                               But Red-Cap thought to herself, “As long as I live, I will never leave the path to run into the wood, when my mother has forbidden me to do so.”   \n",
       "45                                                                                   I must just see if she wants anything.”  So he went into the room, and when he came to the bed, he saw the Wolf lying in it.   \n",
       "12                                                                                                                          Red-Cap did not know what a wicked creature he was, and was not at all afraid of him.   \n",
       "15  Yesterday was baking-day, so poor sick Grandmother is to have something good, to make her stronger.”  “Where does your Grandmother live, Little Red-Cap?”  “A good quarter of an hour farther on in the wood.   \n",
       "35                                                                  how uneasy I feel to-day, and at other times I like being with Grandmother so much.”  She called out, “Good morning,” but received no answer.   \n",
       "6                                                                                                                                                                 She is ill and weak, and they will do her good.   \n",
       "21                                                                                                                                 I believe, too, that you do not hear how sweetly the little birds are singing.   \n",
       "32                                                                                     When she had gathered so many that she could carry no more, she remembered her Grandmother, and set out on the way to her.   \n",
       "\n",
       "    sentence_number  sentiment_score  \n",
       "52               53          -0.7876  \n",
       "49               50          -0.7424  \n",
       "56               57          -0.5389  \n",
       "45               46          -0.5267  \n",
       "12               13          -0.5267  \n",
       "15               16          -0.4648  \n",
       "35               36          -0.4310  \n",
       "6                 7          -0.4215  \n",
       "21               22          -0.3724  \n",
       "32               33          -0.2960  "
      ]
     },
     "execution_count": 28,
     "metadata": {},
     "output_type": "execute_result"
    }
   ],
   "source": [
    "# Assign DataFrame to variable red_df\n",
    "red_df = pd.DataFrame(sentence_scores)\n",
    "\n",
    "# Sort by the column \"sentiment_score\" and slice for first 10 values\n",
    "red_df.sort_values(by='sentiment_score')[:10]"
   ]
  },
  {
   "cell_type": "markdown",
   "metadata": {},
   "source": [
    "Let's examine the 10 most positive sentences."
   ]
  },
  {
   "cell_type": "code",
   "execution_count": 29,
   "metadata": {},
   "outputs": [
    {
     "data": {
      "text/html": [
       "<div>\n",
       "<style scoped>\n",
       "    .dataframe tbody tr th:only-of-type {\n",
       "        vertical-align: middle;\n",
       "    }\n",
       "\n",
       "    .dataframe tbody tr th {\n",
       "        vertical-align: top;\n",
       "    }\n",
       "\n",
       "    .dataframe thead th {\n",
       "        text-align: right;\n",
       "    }\n",
       "</style>\n",
       "<table border=\"1\" class=\"dataframe\">\n",
       "  <thead>\n",
       "    <tr style=\"text-align: right;\">\n",
       "      <th></th>\n",
       "      <th>sentence</th>\n",
       "      <th>sentence_number</th>\n",
       "      <th>sentiment_score</th>\n",
       "    </tr>\n",
       "  </thead>\n",
       "  <tbody>\n",
       "    <tr>\n",
       "      <th>41</th>\n",
       "      <td>“The better to see you with, my dear.”  “But, Grandmother, what large hands you have!”  “The better to hug you with.”  “Oh!</td>\n",
       "      <td>42</td>\n",
       "      <td>0.8585</td>\n",
       "    </tr>\n",
       "    <tr>\n",
       "      <th>0</th>\n",
       "      <td>LITTLE RED-CAP   Once upon a time, there was a sweet little girl, who was loved by every one who looked at her, and most of all by her Grandmother.</td>\n",
       "      <td>1</td>\n",
       "      <td>0.7845</td>\n",
       "    </tr>\n",
       "    <tr>\n",
       "      <th>19</th>\n",
       "      <td>what a nice plump mouthful--she will be better to eat than the old woman.</td>\n",
       "      <td>20</td>\n",
       "      <td>0.6908</td>\n",
       "    </tr>\n",
       "    <tr>\n",
       "      <th>10</th>\n",
       "      <td>When you go into her room, don’t forget to say ‘Good morning,’ and don’t stop to peep into every corner, before you do it.”  “I’ll take great care,” said Little Red-Cap to her Mother, and gave her hand on it.</td>\n",
       "      <td>11</td>\n",
       "      <td>0.6369</td>\n",
       "    </tr>\n",
       "    <tr>\n",
       "      <th>51</th>\n",
       "      <td>Red-Cap then quickly fetched great stones with which they filled the Wolf’s body.</td>\n",
       "      <td>52</td>\n",
       "      <td>0.6249</td>\n",
       "    </tr>\n",
       "    <tr>\n",
       "      <th>22</th>\n",
       "      <td>You walk gravely along as if you were going to school, while everything else in the wood is merry.”  Little Red-Cap raised her eyes, and when she saw the sunbeams dancing here and there through the trees, and pretty flowers growing everywhere, she thought, “Suppose I take Grandmother a fresh nosegay.</td>\n",
       "      <td>23</td>\n",
       "      <td>0.5719</td>\n",
       "    </tr>\n",
       "    <tr>\n",
       "      <th>14</th>\n",
       "      <td>“Thank you kindly, Wolf.”  “Whither away so early, Little Red-Cap?”  “To my Grandmother’s.”  “What have you got in your apron?”  “Cake and wine.</td>\n",
       "      <td>15</td>\n",
       "      <td>0.5514</td>\n",
       "    </tr>\n",
       "    <tr>\n",
       "      <th>53</th>\n",
       "      <td>Then all three were delighted.</td>\n",
       "      <td>54</td>\n",
       "      <td>0.5106</td>\n",
       "    </tr>\n",
       "    <tr>\n",
       "      <th>55</th>\n",
       "      <td>The grandmother ate the cake and drank the wine which Red-Cap had brought, and grew strong again.</td>\n",
       "      <td>56</td>\n",
       "      <td>0.5106</td>\n",
       "    </tr>\n",
       "    <tr>\n",
       "      <th>39</th>\n",
       "      <td>Grandmother,” she said, “what big ears you have!”  “The better to hear you with, my Child,” was the reply.</td>\n",
       "      <td>40</td>\n",
       "      <td>0.4926</td>\n",
       "    </tr>\n",
       "  </tbody>\n",
       "</table>\n",
       "</div>"
      ],
      "text/plain": [
       "                                                                                                                                                                                                                                                                                                         sentence  \\\n",
       "41                                                                                                                                                                                    “The better to see you with, my dear.”  “But, Grandmother, what large hands you have!”  “The better to hug you with.”  “Oh!   \n",
       "0                                                                                                                                                             LITTLE RED-CAP   Once upon a time, there was a sweet little girl, who was loved by every one who looked at her, and most of all by her Grandmother.   \n",
       "19                                                                                                                                                                                                                                      what a nice plump mouthful--she will be better to eat than the old woman.   \n",
       "10                                                                                               When you go into her room, don’t forget to say ‘Good morning,’ and don’t stop to peep into every corner, before you do it.”  “I’ll take great care,” said Little Red-Cap to her Mother, and gave her hand on it.   \n",
       "51                                                                                                                                                                                                                              Red-Cap then quickly fetched great stones with which they filled the Wolf’s body.   \n",
       "22  You walk gravely along as if you were going to school, while everything else in the wood is merry.”  Little Red-Cap raised her eyes, and when she saw the sunbeams dancing here and there through the trees, and pretty flowers growing everywhere, she thought, “Suppose I take Grandmother a fresh nosegay.   \n",
       "14                                                                                                                                                               “Thank you kindly, Wolf.”  “Whither away so early, Little Red-Cap?”  “To my Grandmother’s.”  “What have you got in your apron?”  “Cake and wine.   \n",
       "53                                                                                                                                                                                                                                                                                 Then all three were delighted.   \n",
       "55                                                                                                                                                                                                              The grandmother ate the cake and drank the wine which Red-Cap had brought, and grew strong again.   \n",
       "39                                                                                                                                                                                                     Grandmother,” she said, “what big ears you have!”  “The better to hear you with, my Child,” was the reply.   \n",
       "\n",
       "    sentence_number  sentiment_score  \n",
       "41               42           0.8585  \n",
       "0                 1           0.7845  \n",
       "19               20           0.6908  \n",
       "10               11           0.6369  \n",
       "51               52           0.6249  \n",
       "22               23           0.5719  \n",
       "14               15           0.5514  \n",
       "53               54           0.5106  \n",
       "55               56           0.5106  \n",
       "39               40           0.4926  "
      ]
     },
     "execution_count": 29,
     "metadata": {},
     "output_type": "execute_result"
    }
   ],
   "source": [
    "# Sort by the column \"sentiment_score,\" this time in descending order, and slice for first 10 values\n",
    "red_df.sort_values(by='sentiment_score', ascending=False)[:10]"
   ]
  },
  {
   "cell_type": "markdown",
   "metadata": {},
   "source": [
    "### Make a Sentiment Plot"
   ]
  },
  {
   "cell_type": "markdown",
   "metadata": {},
   "source": [
    "To create a data visualization of sentiment over the course of \"Little Red Cap,\" we can plot the sentiment scores over story time (aka sentence number)."
   ]
  },
  {
   "cell_type": "code",
   "execution_count": 38,
   "metadata": {},
   "outputs": [
    {
     "data": {
      "image/png": "[encoded data removed]",
      "text/plain": [
       "<Figure size 432x288 with 1 Axes>"
      ]
     },
     "metadata": {
      "needs_background": "light"
     },
     "output_type": "display_data"
    }
   ],
   "source": [
    "red_df['sentiment_score'].plot();"
   ]
  },
  {
   "cell_type": "markdown",
   "metadata": {},
   "source": [
    "We can also add a little formatting and styling to make it more readable."
   ]
  },
  {
   "cell_type": "code",
   "execution_count": 39,
   "metadata": {
    "tags": []
   },
   "outputs": [
    {
     "data": {
      "image/png": "[encoded data removed]",
      "text/plain": [
       "<Figure size 720x360 with 1 Axes>"
      ]
     },
     "metadata": {
      "needs_background": "light"
     },
     "output_type": "display_data"
    }
   ],
   "source": [
    "import matplotlib.pyplot as plt\n",
    "\n",
    "ax = red_df['sentiment_score'].plot(x='sentence_number', y='sentiment_score', kind='line',\n",
    "                        figsize=(10,5), rot=90, title='Sentiment in \"Little-Red Cap\"')\n",
    "\n",
    "# Plot a horizontal line at 0\n",
    "plt.axhline(y=0, color='orange', linestyle='-');"
   ]
  },
  {
   "cell_type": "markdown",
   "metadata": {},
   "source": [
    "The plots above show sentiment fluctuating sentence by sentence. But we could also get a more generalized view by getting a \"rolling average\" 5 sentences at a time (by using the `.rolling()` method with a specified window)."
   ]
  },
  {
   "cell_type": "code",
   "execution_count": 40,
   "metadata": {},
   "outputs": [
    {
     "data": {
      "image/png": "[encoded data removed]",
      "text/plain": [
       "<Figure size 720x360 with 1 Axes>"
      ]
     },
     "metadata": {
      "needs_background": "light"
     },
     "output_type": "display_data"
    }
   ],
   "source": [
    "# Get averages for a rolling window, then plot\n",
    "red_df.rolling(5)['sentiment_score'].mean().plot(x='sentence_number', y='sentiment_score', kind='line',\n",
    "                        figsize=(10,5), rot=90, title='Sentiment in \"Little-Red Cap\"')\n",
    "\n",
    "# Plot a horizontal line at 0\n",
    "plt.axhline(y=0, color='orange', linestyle='-');"
   ]
  },
  {
   "cell_type": "markdown",
   "metadata": {},
   "source": [
    "The figure above captures the \"plot arc\" of \"Little Red-Cap\" relatively well.\n",
    "\n",
    "The story arc begins positively with Little Red-Cap, \"a sweet little girl...loved by every\n",
    "one who looked at her,\" setting off into the woods and picking flowers in the sunshine. Then it dips severely when she gets to her grandmother's home, discovers the wolf in her grandmother's clothing, and gets devoured by the wolf. Finally it picks up again when the huntsman cuts open the wolf's stomach and saves Little Red-Cap and her grandmother, and the wolf ultimately dies.\n",
    "\n",
    "But it should be noted that this is a short and relatively simple story that has very clearly positive and negative words, and VADER does not work as well for all fictional stories.\n",
    "\n",
    "There are also some tricky moments in this story that help capture how difficult it is to use technologies like VADER to study plot or emotional arcs in stories. For example, the most negative sentence in the story is the moment when the wolf dies: \"And when he awoke, he wanted to run away, but the stones were so heavy that he tumbled down at once, and fell dead.\" Surely this is a negative moment for the wolf, but is this a negative moment for Little Red-Cap, her grandmother, the huntsman, or the reader? It may actually be one of the most positive and triumphant moments. This contradiction helps demonstrate that fictional texts do not typically express straightforward opinions and attitudes the way a social media post might, and thus students and researchers must be careful, cautious, and deliberate when applying sentiment analysis tools to fiction."
   ]
  },
  {
   "cell_type": "markdown",
   "metadata": {},
   "source": [
    "### Your Turn! "
   ]
  },
  {
   "cell_type": "markdown",
   "metadata": {},
   "source": [
    "- How well do you think VADER sentiment analysis works with tweets and literary texts?\n",
    "- How do social media posts and literary texts different in the way they express sentiment? What kinds of tweets or literary texts might pose particular problems for VADER?\n",
    "- What do you think VADER is really measuring?\n",
    "- Could you imagine using sentiment analysis in a project? If so, how?"
   ]
  }
 ],
 "metadata": {
  "kernelspec": {
   "display_name": "Python 3",
   "language": "python",
   "name": "python3"
  },
  "language_info": {
   "codemirror_mode": {
    "name": "ipython",
    "version": 3
   },
   "file_extension": ".py",
   "mimetype": "text/x-python",
   "name": "python",
   "nbconvert_exporter": "python",
   "pygments_lexer": "ipython3",
   "version": "3.8.8"
  }
 },
 "nbformat": 4,
 "nbformat_minor": 4
}
