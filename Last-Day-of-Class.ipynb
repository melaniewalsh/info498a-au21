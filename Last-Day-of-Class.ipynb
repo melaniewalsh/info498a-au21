{
 "cells": [
  {
   "cell_type": "markdown",
   "id": "e28a2531-e13c-4ee8-9960-6766891651ba",
   "metadata": {},
   "source": [
    "# Last Day of Class"
   ]
  },
  {
   "cell_type": "markdown",
   "id": "447390c7-1aff-44ec-984d-341d280a9bd7",
   "metadata": {},
   "source": [
    "It's the last day of class! Where do you go from here?"
   ]
  },
  {
   "cell_type": "markdown",
   "id": "1ed142cc-83fc-4a1b-94ce-1be648fc18b6",
   "metadata": {},
   "source": [
    "# Course Evaluations Data Viz"
   ]
  },
  {
   "cell_type": "markdown",
   "id": "06d95776-6934-4558-9cb6-688aef9f60a3",
   "metadata": {},
   "source": [
    "http://benschmidt.org/profGender"
   ]
  },
  {
   "cell_type": "markdown",
   "id": "edd1f706-a22a-4694-84e7-b71dc615ecc3",
   "metadata": {},
   "source": [
    "# Get Python and JupyterLab"
   ]
  },
  {
   "cell_type": "markdown",
   "id": "ccb17307-e1d5-449e-a535-bf1c1ea1680e",
   "metadata": {},
   "source": [
    "Install with Anaconda: https://docs.anaconda.com/anaconda/install/"
   ]
  },
  {
   "cell_type": "markdown",
   "id": "00a3ed75-671e-41d5-853a-107fc6aa47b8",
   "metadata": {},
   "source": [
    "Explanation of Anaconda installation from our textbook: https://melaniewalsh.github.io/Intro-Cultural-Analytics/02-Python/01-Install-Python.html"
   ]
  },
  {
   "cell_type": "markdown",
   "id": "b43d474a-7fc7-4094-975a-68976094e2f9",
   "metadata": {},
   "source": [
    "# Recommended Textbooks"
   ]
  },
  {
   "cell_type": "markdown",
   "id": "49e5972f-3eeb-454d-888f-c968d9f7fce2",
   "metadata": {},
   "source": [
    "*Humanities Data Analysis: Case Studies with Python*: https://press.princeton.edu/books/hardcover/9780691172361/humanities-data-analysis"
   ]
  },
  {
   "cell_type": "markdown",
   "id": "7977dc46-0c68-4602-a141-fcb9c819a371",
   "metadata": {},
   "source": [
    "*Exploratory Programming for the Arts and Humanities, Second Edition*: https://mitpress.mit.edu/books/exploratory-programming-arts-and-humanities-second-edition"
   ]
  },
  {
   "cell_type": "markdown",
   "id": "df68a626-8850-4b47-8053-4e99d97cfb09",
   "metadata": {},
   "source": [
    "# Recommended Journals"
   ]
  },
  {
   "cell_type": "markdown",
   "id": "8a98582d-da6c-420a-8b14-d49f868aab81",
   "metadata": {},
   "source": [
    "*Journal of Cultural Analytics* https://culturalanalytics.org/"
   ]
  },
  {
   "cell_type": "markdown",
   "id": "a26d8a70-748f-4b50-8d38-e29a2d7f438a",
   "metadata": {},
   "source": [
    "# Recommended Tutorials"
   ]
  },
  {
   "cell_type": "markdown",
   "id": "0f4cedac-8e97-4b94-a47d-bc33180e1e4c",
   "metadata": {},
   "source": [
    "The Programming Historian: https://programminghistorian.org/en/lessons/"
   ]
  }
 ],
 "metadata": {
  "kernelspec": {
   "display_name": "Python 3",
   "language": "python",
   "name": "python3"
  },
  "language_info": {
   "codemirror_mode": {
    "name": "ipython",
    "version": 3
   },
   "file_extension": ".py",
   "mimetype": "text/x-python",
   "name": "python",
   "nbconvert_exporter": "python",
   "pygments_lexer": "ipython3",
   "version": "3.8.8"
  }
 },
 "nbformat": 4,
 "nbformat_minor": 5
}
